{
 "cells": [
  {
   "cell_type": "markdown",
   "id": "1cab57b2-e0aa-4207-a849-70c6b407c447",
   "metadata": {},
   "source": [
    "# Exporting a dataset from Argilla\n",
    "\n",
    "This notebook exports a dataset to the [Huggingface dataset](https://huggingface.co/docs/datasets/v1.4.0/exploring.html) format. \n",
    "\n",
    "This could then be serialised to JSON or a pandas DataFrame, and [version controlled using DVC](https://docs.argilla.io/en/latest/tutorials/notebooks/deploying-text2text-dvc-explainability.html)."
   ]
  },
  {
   "cell_type": "code",
   "execution_count": null,
   "id": "8b286976-ecc4-4dbd-af91-662670659e36",
   "metadata": {},
   "outputs": [],
   "source": [
    "import sys\n",
    "\n",
    "!{sys.executable} -m pip install argilla"
   ]
  },
  {
   "cell_type": "code",
   "execution_count": 1,
   "id": "2864f6e2-ebd5-49b0-892a-822f77393cab",
   "metadata": {},
   "outputs": [
    {
     "data": {
      "text/plain": [
       "True"
      ]
     },
     "execution_count": 1,
     "metadata": {},
     "output_type": "execute_result"
    }
   ],
   "source": [
    "import os\n",
    "\n",
    "import argilla as rg\n",
    "from dotenv import load_dotenv, find_dotenv\n",
    "\n",
    "load_dotenv(find_dotenv())"
   ]
  },
  {
   "cell_type": "code",
   "execution_count": 2,
   "id": "c6d0fba2-ad44-48ff-a5a6-bca220fe59ed",
   "metadata": {
    "tags": []
   },
   "outputs": [],
   "source": [
    "DATASET_NAME = \"sectors-sentence-or-text-block\""
   ]
  },
  {
   "cell_type": "code",
   "execution_count": 3,
   "id": "eff6ce52-d23c-471d-8357-279a99996a11",
   "metadata": {},
   "outputs": [],
   "source": [
    "# User management is done at a workspace level\n",
    "rg.init(workspace=\"gst\", api_key=os.environ[\"ARGILLA_API_KEY\"])"
   ]
  },
  {
   "cell_type": "code",
   "execution_count": 4,
   "id": "723201b4-3530-4a47-b12c-fb423705bb70",
   "metadata": {},
   "outputs": [
    {
     "name": "stderr",
     "output_type": "stream",
     "text": [
      "/Users/kalyan/Library/Caches/pypoetry/virtualenvs/experiment-template-Q6O6vM4r-py3.9/lib/python3.9/site-packages/tqdm/auto.py:21: TqdmWarning: IProgress not found. Please update jupyter and ipywidgets. See https://ipywidgets.readthedocs.io/en/stable/user_install.html\n",
      "  from .autonotebook import tqdm as notebook_tqdm\n"
     ]
    },
    {
     "data": {
      "text/html": [
       "<div>\n",
       "<style scoped>\n",
       "    .dataframe tbody tr th:only-of-type {\n",
       "        vertical-align: middle;\n",
       "    }\n",
       "\n",
       "    .dataframe tbody tr th {\n",
       "        vertical-align: top;\n",
       "    }\n",
       "\n",
       "    .dataframe thead th {\n",
       "        text-align: right;\n",
       "    }\n",
       "</style>\n",
       "<table border=\"1\" class=\"dataframe\">\n",
       "  <thead>\n",
       "    <tr style=\"text-align: right;\">\n",
       "      <th></th>\n",
       "      <th>text</th>\n",
       "      <th>inputs</th>\n",
       "      <th>prediction</th>\n",
       "      <th>prediction_agent</th>\n",
       "      <th>annotation</th>\n",
       "      <th>annotation_agent</th>\n",
       "      <th>vectors</th>\n",
       "      <th>multi_label</th>\n",
       "      <th>explanation</th>\n",
       "      <th>id</th>\n",
       "      <th>metadata</th>\n",
       "      <th>status</th>\n",
       "      <th>event_timestamp</th>\n",
       "      <th>metrics</th>\n",
       "    </tr>\n",
       "  </thead>\n",
       "  <tbody>\n",
       "    <tr>\n",
       "      <th>0</th>\n",
       "      <td>Consultative Group of Experts Input to the tec...</td>\n",
       "      <td>{'text': 'Consultative Group of Experts Input ...</td>\n",
       "      <td>None</td>\n",
       "      <td>None</td>\n",
       "      <td>[]</td>\n",
       "      <td>sarah</td>\n",
       "      <td>{'spacy': [-0.008336544036865234, -0.498503863...</td>\n",
       "      <td>True</td>\n",
       "      <td>None</td>\n",
       "      <td>p_0_b_0_CCLW.GST.623.623</td>\n",
       "      <td>{'coords': [[97.56645965576172, 76.06890869140...</td>\n",
       "      <td>Validated</td>\n",
       "      <td>2023-05-05 10:11:45.433775</td>\n",
       "      <td>{'text_length': 87}</td>\n",
       "    </tr>\n",
       "    <tr>\n",
       "      <th>1</th>\n",
       "      <td>8TH NATIONAL COMMUNICATION</td>\n",
       "      <td>{'text': '8TH NATIONAL COMMUNICATION'}</td>\n",
       "      <td>None</td>\n",
       "      <td>None</td>\n",
       "      <td>[]</td>\n",
       "      <td>kalyan</td>\n",
       "      <td>{'spacy': [-0.9083479046821594, -0.76377123594...</td>\n",
       "      <td>True</td>\n",
       "      <td>None</td>\n",
       "      <td>p_0_b_0_CCLW.GST.755.755</td>\n",
       "      <td>{'coords': [[157.92642211914062, 204.557235717...</td>\n",
       "      <td>Validated</td>\n",
       "      <td>2023-05-05 10:11:50.452776</td>\n",
       "      <td>{'text_length': 26}</td>\n",
       "    </tr>\n",
       "    <tr>\n",
       "      <th>2</th>\n",
       "      <td>Record of the facilitative sharing of views du...</td>\n",
       "      <td>{'text': 'Record of the facilitative sharing o...</td>\n",
       "      <td>None</td>\n",
       "      <td>None</td>\n",
       "      <td>[]</td>\n",
       "      <td>sarah</td>\n",
       "      <td>{'spacy': [0.16465651988983154, -0.20680615305...</td>\n",
       "      <td>True</td>\n",
       "      <td>None</td>\n",
       "      <td>p_0_b_0_CCLW.GST.968.968</td>\n",
       "      <td>{'coords': [[112.0, 243.0], [463.0, 243.0], [4...</td>\n",
       "      <td>Validated</td>\n",
       "      <td>2023-05-05 10:11:46.363917</td>\n",
       "      <td>{'text_length': 129}</td>\n",
       "    </tr>\n",
       "    <tr>\n",
       "      <th>3</th>\n",
       "      <td>CLIMATE ACTION PATHWAY</td>\n",
       "      <td>{'text': 'CLIMATE ACTION PATHWAY'}</td>\n",
       "      <td>None</td>\n",
       "      <td>None</td>\n",
       "      <td>[]</td>\n",
       "      <td>sarah</td>\n",
       "      <td>{'spacy': [-0.41333770751953125, -0.5918120145...</td>\n",
       "      <td>True</td>\n",
       "      <td>None</td>\n",
       "      <td>p_0_b_0_CCLW.GST.997.997</td>\n",
       "      <td>{'coords': [[32.43144226074219, 215.7310638427...</td>\n",
       "      <td>Validated</td>\n",
       "      <td>2023-05-05 10:11:49.392194</td>\n",
       "      <td>{'text_length': 22}</td>\n",
       "    </tr>\n",
       "    <tr>\n",
       "      <th>4</th>\n",
       "      <td>This would mean substantially higher climate i...</td>\n",
       "      <td>{'text': 'This would mean substantially higher...</td>\n",
       "      <td>None</td>\n",
       "      <td>None</td>\n",
       "      <td>[]</td>\n",
       "      <td>sarah</td>\n",
       "      <td>{'spacy': [0.10391201078891754, 0.300604045391...</td>\n",
       "      <td>True</td>\n",
       "      <td>None</td>\n",
       "      <td>p_0_b_11_CCLW.GST.218.218</td>\n",
       "      <td>{'coords': [[220.0, 484.0], [555.0, 484.0], [5...</td>\n",
       "      <td>Validated</td>\n",
       "      <td>2023-05-05 10:11:50.576697</td>\n",
       "      <td>{'text_length': 90}</td>\n",
       "    </tr>\n",
       "  </tbody>\n",
       "</table>\n",
       "</div>"
      ],
      "text/plain": [
       "                                                text  \\\n",
       "0  Consultative Group of Experts Input to the tec...   \n",
       "1                         8TH NATIONAL COMMUNICATION   \n",
       "2  Record of the facilitative sharing of views du...   \n",
       "3                             CLIMATE ACTION PATHWAY   \n",
       "4  This would mean substantially higher climate i...   \n",
       "\n",
       "                                              inputs prediction  \\\n",
       "0  {'text': 'Consultative Group of Experts Input ...       None   \n",
       "1             {'text': '8TH NATIONAL COMMUNICATION'}       None   \n",
       "2  {'text': 'Record of the facilitative sharing o...       None   \n",
       "3                 {'text': 'CLIMATE ACTION PATHWAY'}       None   \n",
       "4  {'text': 'This would mean substantially higher...       None   \n",
       "\n",
       "  prediction_agent annotation annotation_agent  \\\n",
       "0             None         []            sarah   \n",
       "1             None         []           kalyan   \n",
       "2             None         []            sarah   \n",
       "3             None         []            sarah   \n",
       "4             None         []            sarah   \n",
       "\n",
       "                                             vectors  multi_label explanation  \\\n",
       "0  {'spacy': [-0.008336544036865234, -0.498503863...         True        None   \n",
       "1  {'spacy': [-0.9083479046821594, -0.76377123594...         True        None   \n",
       "2  {'spacy': [0.16465651988983154, -0.20680615305...         True        None   \n",
       "3  {'spacy': [-0.41333770751953125, -0.5918120145...         True        None   \n",
       "4  {'spacy': [0.10391201078891754, 0.300604045391...         True        None   \n",
       "\n",
       "                          id  \\\n",
       "0   p_0_b_0_CCLW.GST.623.623   \n",
       "1   p_0_b_0_CCLW.GST.755.755   \n",
       "2   p_0_b_0_CCLW.GST.968.968   \n",
       "3   p_0_b_0_CCLW.GST.997.997   \n",
       "4  p_0_b_11_CCLW.GST.218.218   \n",
       "\n",
       "                                            metadata     status  \\\n",
       "0  {'coords': [[97.56645965576172, 76.06890869140...  Validated   \n",
       "1  {'coords': [[157.92642211914062, 204.557235717...  Validated   \n",
       "2  {'coords': [[112.0, 243.0], [463.0, 243.0], [4...  Validated   \n",
       "3  {'coords': [[32.43144226074219, 215.7310638427...  Validated   \n",
       "4  {'coords': [[220.0, 484.0], [555.0, 484.0], [5...  Validated   \n",
       "\n",
       "             event_timestamp               metrics  \n",
       "0 2023-05-05 10:11:45.433775   {'text_length': 87}  \n",
       "1 2023-05-05 10:11:50.452776   {'text_length': 26}  \n",
       "2 2023-05-05 10:11:46.363917  {'text_length': 129}  \n",
       "3 2023-05-05 10:11:49.392194   {'text_length': 22}  \n",
       "4 2023-05-05 10:11:50.576697   {'text_length': 90}  "
      ]
     },
     "execution_count": 4,
     "metadata": {},
     "output_type": "execute_result"
    }
   ],
   "source": [
    "dataset = rg.load(DATASET_NAME).to_datasets()\n",
    "\n",
    "dataset_df = dataset.to_pandas()\n",
    "dataset_df.head()"
   ]
  },
  {
   "cell_type": "code",
   "execution_count": 5,
   "id": "8386a6dd-6426-4e75-8803-b17f8c01f801",
   "metadata": {},
   "outputs": [
    {
     "name": "stderr",
     "output_type": "stream",
     "text": [
      "Creating CSV from Arrow format: 100%|██████████████████████████████████████████████████████████████████████████████████████████████████████████████████████| 1/1 [00:00<00:00,  2.32ba/s]\n"
     ]
    },
    {
     "data": {
      "text/plain": [
       "1089824"
      ]
     },
     "execution_count": 5,
     "metadata": {},
     "output_type": "execute_result"
    }
   ],
   "source": [
    "dataset.to_csv(f\"../../data/argilla-backups/{DATASET_NAME}.csv\")"
   ]
  },
  {
   "cell_type": "code",
   "execution_count": null,
   "id": "5a5c38d2-3178-4d0e-91fb-6fb1520c1245",
   "metadata": {},
   "outputs": [],
   "source": []
  }
 ],
 "metadata": {
  "kernelspec": {
   "display_name": "Python 3 (ipykernel)",
   "language": "python",
   "name": "python3"
  },
  "language_info": {
   "codemirror_mode": {
    "name": "ipython",
    "version": 3
   },
   "file_extension": ".py",
   "mimetype": "text/x-python",
   "name": "python",
   "nbconvert_exporter": "python",
   "pygments_lexer": "ipython3",
   "version": "3.9.10"
  }
 },
 "nbformat": 4,
 "nbformat_minor": 5
}
