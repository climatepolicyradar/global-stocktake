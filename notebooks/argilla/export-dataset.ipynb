{
 "cells": [
  {
   "cell_type": "markdown",
   "id": "1cab57b2-e0aa-4207-a849-70c6b407c447",
   "metadata": {},
   "source": [
    "# Exporting a dataset from Argilla\n",
    "\n",
    "This notebook exports a dataset to the [Huggingface dataset](https://huggingface.co/docs/datasets/v1.4.0/exploring.html) format. \n",
    "\n",
    "This could then be serialised to JSON or a pandas DataFrame, and [version controlled using DVC](https://docs.argilla.io/en/latest/tutorials/notebooks/deploying-text2text-dvc-explainability.html)."
   ]
  },
  {
   "cell_type": "code",
   "execution_count": 1,
   "id": "2864f6e2-ebd5-49b0-892a-822f77393cab",
   "metadata": {},
   "outputs": [
    {
     "data": {
      "text/plain": [
       "True"
      ]
     },
     "execution_count": 1,
     "metadata": {},
     "output_type": "execute_result"
    }
   ],
   "source": [
    "import os\n",
    "\n",
    "import argilla as rg\n",
    "from dotenv import load_dotenv, find_dotenv\n",
    "\n",
    "load_dotenv(find_dotenv())"
   ]
  },
  {
   "cell_type": "code",
   "execution_count": 8,
   "id": "c6d0fba2-ad44-48ff-a5a6-bca220fe59ed",
   "metadata": {
    "tags": []
   },
   "outputs": [],
   "source": [
    "DATASET_NAME = \"demo_unlabelled\""
   ]
  },
  {
   "cell_type": "code",
   "execution_count": 9,
   "id": "eff6ce52-d23c-471d-8357-279a99996a11",
   "metadata": {},
   "outputs": [],
   "source": [
    "# User management is done at a workspace level\n",
    "rg.init(workspace=\"gst\", api_key=os.environ[\"ARGILLA_API_KEY\"])"
   ]
  },
  {
   "cell_type": "code",
   "execution_count": 10,
   "id": "723201b4-3530-4a47-b12c-fb423705bb70",
   "metadata": {},
   "outputs": [
    {
     "data": {
      "text/html": [
       "<div>\n",
       "<style scoped>\n",
       "    .dataframe tbody tr th:only-of-type {\n",
       "        vertical-align: middle;\n",
       "    }\n",
       "\n",
       "    .dataframe tbody tr th {\n",
       "        vertical-align: top;\n",
       "    }\n",
       "\n",
       "    .dataframe thead th {\n",
       "        text-align: right;\n",
       "    }\n",
       "</style>\n",
       "<table border=\"1\" class=\"dataframe\">\n",
       "  <thead>\n",
       "    <tr style=\"text-align: right;\">\n",
       "      <th></th>\n",
       "      <th>text</th>\n",
       "      <th>tokens</th>\n",
       "      <th>prediction</th>\n",
       "      <th>prediction_agent</th>\n",
       "      <th>annotation</th>\n",
       "      <th>annotation_agent</th>\n",
       "      <th>vectors</th>\n",
       "      <th>id</th>\n",
       "      <th>metadata</th>\n",
       "      <th>status</th>\n",
       "      <th>event_timestamp</th>\n",
       "      <th>metrics</th>\n",
       "    </tr>\n",
       "  </thead>\n",
       "  <tbody>\n",
       "    <tr>\n",
       "      <th>0</th>\n",
       "      <td>03/11/2020</td>\n",
       "      <td>[03/11/2020]</td>\n",
       "      <td>None</td>\n",
       "      <td>None</td>\n",
       "      <td>None</td>\n",
       "      <td>None</td>\n",
       "      <td>None</td>\n",
       "      <td>b0_CCLW.executive.10039.4555</td>\n",
       "      <td>{'coords': None, 'document_cdn_object': None, ...</td>\n",
       "      <td>Default</td>\n",
       "      <td>2023-02-22 14:25:29.074133</td>\n",
       "      <td>{'annotated': {'mentions': [], 'tags': []}, 'p...</td>\n",
       "    </tr>\n",
       "    <tr>\n",
       "      <th>1</th>\n",
       "      <td>The measures articulated in the PNIEC have alr...</td>\n",
       "      <td>[The, measures, articulated, in, the, PNIEC, h...</td>\n",
       "      <td>None</td>\n",
       "      <td>None</td>\n",
       "      <td>None</td>\n",
       "      <td>None</td>\n",
       "      <td>None</td>\n",
       "      <td>b10_CCLW.executive.10039.4555</td>\n",
       "      <td>{'coords': None, 'document_cdn_object': None, ...</td>\n",
       "      <td>Default</td>\n",
       "      <td>2023-02-22 14:25:29.078354</td>\n",
       "      <td>{'annotated': {'mentions': [], 'tags': []}, 'p...</td>\n",
       "    </tr>\n",
       "    <tr>\n",
       "      <th>2</th>\n",
       "      <td>The document analyzes, from a strategic point ...</td>\n",
       "      <td>[The, document, analyzes,, from, a, strategic,...</td>\n",
       "      <td>None</td>\n",
       "      <td>None</td>\n",
       "      <td>None</td>\n",
       "      <td>None</td>\n",
       "      <td>None</td>\n",
       "      <td>b11_CCLW.executive.10039.4555</td>\n",
       "      <td>{'coords': None, 'document_cdn_object': None, ...</td>\n",
       "      <td>Default</td>\n",
       "      <td>2023-02-22 14:25:29.078904</td>\n",
       "      <td>{'annotated': {'mentions': [], 'tags': []}, 'p...</td>\n",
       "    </tr>\n",
       "    <tr>\n",
       "      <th>3</th>\n",
       "      <td>CROSS-CUTTING ELEMENTS</td>\n",
       "      <td>[CROSS-CUTTING, ELEMENTS]</td>\n",
       "      <td>None</td>\n",
       "      <td>None</td>\n",
       "      <td>None</td>\n",
       "      <td>None</td>\n",
       "      <td>None</td>\n",
       "      <td>b12_CCLW.executive.10039.4555</td>\n",
       "      <td>{'coords': None, 'document_cdn_object': None, ...</td>\n",
       "      <td>Default</td>\n",
       "      <td>2023-02-22 14:25:29.079366</td>\n",
       "      <td>{'annotated': {'mentions': [], 'tags': []}, 'p...</td>\n",
       "    </tr>\n",
       "    <tr>\n",
       "      <th>4</th>\n",
       "      <td>The path towards climate neutrality interacts ...</td>\n",
       "      <td>[The, path, towards, climate, neutrality, inte...</td>\n",
       "      <td>None</td>\n",
       "      <td>None</td>\n",
       "      <td>None</td>\n",
       "      <td>None</td>\n",
       "      <td>None</td>\n",
       "      <td>b13_CCLW.executive.10039.4555</td>\n",
       "      <td>{'coords': None, 'document_cdn_object': None, ...</td>\n",
       "      <td>Default</td>\n",
       "      <td>2023-02-22 14:25:29.079768</td>\n",
       "      <td>{'annotated': {'mentions': [], 'tags': []}, 'p...</td>\n",
       "    </tr>\n",
       "  </tbody>\n",
       "</table>\n",
       "</div>"
      ],
      "text/plain": [
       "                                                text  \\\n",
       "0                                         03/11/2020   \n",
       "1  The measures articulated in the PNIEC have alr...   \n",
       "2  The document analyzes, from a strategic point ...   \n",
       "3                             CROSS-CUTTING ELEMENTS   \n",
       "4  The path towards climate neutrality interacts ...   \n",
       "\n",
       "                                              tokens prediction  \\\n",
       "0                                       [03/11/2020]       None   \n",
       "1  [The, measures, articulated, in, the, PNIEC, h...       None   \n",
       "2  [The, document, analyzes,, from, a, strategic,...       None   \n",
       "3                          [CROSS-CUTTING, ELEMENTS]       None   \n",
       "4  [The, path, towards, climate, neutrality, inte...       None   \n",
       "\n",
       "  prediction_agent annotation annotation_agent vectors  \\\n",
       "0             None       None             None    None   \n",
       "1             None       None             None    None   \n",
       "2             None       None             None    None   \n",
       "3             None       None             None    None   \n",
       "4             None       None             None    None   \n",
       "\n",
       "                              id  \\\n",
       "0   b0_CCLW.executive.10039.4555   \n",
       "1  b10_CCLW.executive.10039.4555   \n",
       "2  b11_CCLW.executive.10039.4555   \n",
       "3  b12_CCLW.executive.10039.4555   \n",
       "4  b13_CCLW.executive.10039.4555   \n",
       "\n",
       "                                            metadata   status  \\\n",
       "0  {'coords': None, 'document_cdn_object': None, ...  Default   \n",
       "1  {'coords': None, 'document_cdn_object': None, ...  Default   \n",
       "2  {'coords': None, 'document_cdn_object': None, ...  Default   \n",
       "3  {'coords': None, 'document_cdn_object': None, ...  Default   \n",
       "4  {'coords': None, 'document_cdn_object': None, ...  Default   \n",
       "\n",
       "             event_timestamp  \\\n",
       "0 2023-02-22 14:25:29.074133   \n",
       "1 2023-02-22 14:25:29.078354   \n",
       "2 2023-02-22 14:25:29.078904   \n",
       "3 2023-02-22 14:25:29.079366   \n",
       "4 2023-02-22 14:25:29.079768   \n",
       "\n",
       "                                             metrics  \n",
       "0  {'annotated': {'mentions': [], 'tags': []}, 'p...  \n",
       "1  {'annotated': {'mentions': [], 'tags': []}, 'p...  \n",
       "2  {'annotated': {'mentions': [], 'tags': []}, 'p...  \n",
       "3  {'annotated': {'mentions': [], 'tags': []}, 'p...  \n",
       "4  {'annotated': {'mentions': [], 'tags': []}, 'p...  "
      ]
     },
     "execution_count": 10,
     "metadata": {},
     "output_type": "execute_result"
    }
   ],
   "source": [
    "dataset = rg.load(DATASET_NAME).to_datasets()\n",
    "\n",
    "dataset_df = dataset.to_pandas()\n",
    "dataset_df.head()"
   ]
  },
  {
   "cell_type": "code",
   "execution_count": null,
   "id": "8386a6dd-6426-4e75-8803-b17f8c01f801",
   "metadata": {},
   "outputs": [],
   "source": []
  }
 ],
 "metadata": {
  "kernelspec": {
   "display_name": "Python 3 (ipykernel)",
   "language": "python",
   "name": "python3"
  },
  "language_info": {
   "codemirror_mode": {
    "name": "ipython",
    "version": 3
   },
   "file_extension": ".py",
   "mimetype": "text/x-python",
   "name": "python",
   "nbconvert_exporter": "python",
   "pygments_lexer": "ipython3",
   "version": "3.9.10"
  }
 },
 "nbformat": 4,
 "nbformat_minor": 5
}
