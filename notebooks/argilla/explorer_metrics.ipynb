{
 "cells": [
  {
   "cell_type": "markdown",
   "metadata": {},
   "source": [
    "# Calculating metrics for explorer runs\n",
    "\n",
    "Using [nervaluate](https://github.com/MantisAI/nervaluate)."
   ]
  },
  {
   "cell_type": "code",
   "execution_count": null,
   "metadata": {},
   "outputs": [],
   "source": [
    "!{sys.executable} -m pip install nervaluate"
   ]
  },
  {
   "cell_type": "code",
   "execution_count": 1,
   "metadata": {
    "collapsed": false,
    "jupyter": {
     "outputs_hidden": false
    },
    "pycharm": {
     "name": "#%%\n"
    }
   },
   "outputs": [],
   "source": [
    "import ast\n",
    "import glob\n",
    "import os\n",
    "import hashlib\n",
    "import itertools\n",
    "from collections import defaultdict\n",
    "\n",
    "import argilla as rg\n",
    "import numpy as np\n",
    "import pandas as pd\n",
    "from dotenv import load_dotenv, find_dotenv\n",
    "import spacy\n",
    "import math\n",
    "from functools import partial\n",
    "from tqdm.auto import tqdm"
   ]
  },
  {
   "cell_type": "code",
   "execution_count": 2,
   "metadata": {},
   "outputs": [],
   "source": [
    "# Create mapping from old to new IDs\n",
    "mapping_path = \"/Users/kalyan/Documents/CPR/unfccc-global-stocktake-documents/notebooks/old-to-new-dataset-mapping.csv\"\n",
    "mapping_df = pd.read_csv(mapping_path)\n",
    "\n",
    "ids_mapping = {\n",
    "    row[\"document_id_old\"]: row[\"document_id_new\"] for _, row in mapping_df.iterrows()\n",
    "}"
   ]
  },
  {
   "cell_type": "code",
   "execution_count": 3,
   "metadata": {
    "pycharm": {
     "name": "#%%\n"
    },
    "tags": []
   },
   "outputs": [
    {
     "name": "stdout",
     "output_type": "stream",
     "text": [
      "759/785 documents successfully mapped ids\n"
     ]
    }
   ],
   "source": [
    "load_dotenv(find_dotenv())\n",
    "\n",
    "nlp = spacy.blank(\"en\")\n",
    "\n",
    "DATASET_NAME = \"explorer-quality-testing\"\n",
    "\n",
    "rg.init(workspace=\"gst\", api_key=os.environ[\"ARGILLA_API_KEY\"])\n",
    "rg_dataset = rg.load(DATASET_NAME, query=\"status:Validated\")\n",
    "\n",
    "# List of subdirectories to include\n",
    "concepts = [\n",
    "    \"financial-flows\",\n",
    "    \"deforestation\",\n",
    "    \"vulnerable-groups\",\n",
    "    \"equity-and-just-transition\",\n",
    "    \"barriers-and-challenges\",\n",
    "    \"good-practice-and-opportunities\",\n",
    "]\n",
    "\n",
    "type_mapping = {\n",
    "    \"Good Practices and Opportunities\": \"Good Practice And Opportunities\",\n",
    "    \"Barriers and Challenges\": \"Barriers And Challenges\",\n",
    "    \"Equity And Justice\": \"Equity And Just Transition\",\n",
    "}\n",
    "\n",
    "\n",
    "def map_type(old_type: str) -> str:\n",
    "    \"\"\"Map type used in Argilla to any renamed types since the Argilla load\"\"\"\n",
    "    if old_type not in type_mapping:\n",
    "        return old_type\n",
    "\n",
    "    return type_mapping[old_type]\n",
    "\n",
    "\n",
    "def map_record_id(record):\n",
    "    \"\"\"Modify a TokenClassificationRecord in place to use new IDs\"\"\"\n",
    "\n",
    "    new_id = ids_mapping.get(record.metadata[\"document_id\"])\n",
    "\n",
    "    if new_id is None:\n",
    "        # print(f\"could not find ID {record.metadata['document_id']} in mapping\")\n",
    "\n",
    "        return None\n",
    "\n",
    "    record.metadata[\"document_id\"] = new_id\n",
    "\n",
    "    return record\n",
    "\n",
    "\n",
    "mapped_documents = 0\n",
    "\n",
    "for idx, document in enumerate(rg_dataset):\n",
    "    if document.annotation:\n",
    "        document.annotation = [\n",
    "            (map_type(item[0]), item[1], item[2]) for item in document.annotation\n",
    "        ]\n",
    "\n",
    "    # # FIXME: we exclude annotations from Joe here as his labelling style was a bit different\n",
    "    # if document.annotation_agent == \"joe\":\n",
    "    #     document.metadata[\"document_id\"] = \"EXCLUDED\"\n",
    "\n",
    "    if map_record_id(document) is None:\n",
    "        continue\n",
    "\n",
    "    else:\n",
    "        document = map_record_id(document)\n",
    "        mapped_documents += 1\n",
    "\n",
    "\n",
    "print(f\"{mapped_documents}/{len(rg_dataset)} documents successfully mapped ids\")"
   ]
  },
  {
   "cell_type": "markdown",
   "metadata": {},
   "source": [
    "## Load CPR dataset and add span annotations to token classification records"
   ]
  },
  {
   "cell_type": "code",
   "execution_count": 4,
   "metadata": {},
   "outputs": [],
   "source": [
    "import sys\n",
    "\n",
    "sys.path.append(\"../..\")\n",
    "\n",
    "from pathlib import Path\n",
    "\n",
    "from src.opensearch.index_data import get_dataset_and_filter_values"
   ]
  },
  {
   "cell_type": "code",
   "execution_count": 5,
   "metadata": {
    "tags": []
   },
   "outputs": [
    {
     "data": {
      "application/vnd.jupyter.widget-view+json": {
       "model_id": "d1e557ae2bcf463398126616b3996ccd",
       "version_major": 2,
       "version_minor": 0
      },
      "text/plain": [
       "  0%|          | 0/1697 [00:00<?, ?it/s]"
      ]
     },
     "metadata": {},
     "output_type": "display_data"
    },
    {
     "data": {
      "application/vnd.jupyter.widget-view+json": {
       "model_id": "309029f18fea464e8604d697ad2216b8",
       "version_major": 2,
       "version_minor": 0
      },
      "text/plain": [
       "  0%|          | 0/1679 [00:00<?, ?it/s]"
      ]
     },
     "metadata": {},
     "output_type": "display_data"
    },
    {
     "data": {
      "application/vnd.jupyter.widget-view+json": {
       "model_id": "b4a1a1d739904490887dc15a126d75b2",
       "version_major": 2,
       "version_minor": 0
      },
      "text/plain": [
       "0docs [00:00, ?docs/s]"
      ]
     },
     "metadata": {},
     "output_type": "display_data"
    }
   ],
   "source": [
    "cpr_dataset, _ = get_dataset_and_filter_values(\n",
    "    Path(os.environ[\"DOCS_DIR_GST\"]),\n",
    "    Path(\n",
    "        \"/Users/kalyan/Documents/CPR/unfccc-global-stocktake-documents/CPR_UNFCCC_MASTER.csv\"\n",
    "    ),\n",
    "    Path(\"../../concepts\").absolute(),\n",
    "    limit=None,\n",
    ")"
   ]
  },
  {
   "cell_type": "code",
   "execution_count": 6,
   "metadata": {
    "tags": []
   },
   "outputs": [
    {
     "data": {
      "application/vnd.jupyter.widget-view+json": {
       "model_id": "1ef324ff10904e2e8f0b8c0f41119a37",
       "version_major": 2,
       "version_minor": 0
      },
      "text/plain": [
       "  0%|          | 0/1679 [00:00<?, ?it/s]"
      ]
     },
     "metadata": {},
     "output_type": "display_data"
    }
   ],
   "source": [
    "# create hash map between IDs and spans\n",
    "\n",
    "SPAN_TYPES = {\n",
    "    \"Financial Flows\",\n",
    "    \"Deforestation\",\n",
    "    \"Vulnerable Groups\",\n",
    "    \"Equity And Just Transition\",\n",
    "    \"Barriers And Challenges\",\n",
    "    \"Good Practice And Opportunities\",\n",
    "}\n",
    "\n",
    "doc_id_text_hash_span_map = dict()\n",
    "\n",
    "for doc in tqdm(cpr_dataset.documents):\n",
    "    if doc.text_blocks is None:\n",
    "        continue\n",
    "\n",
    "    for block in doc.text_blocks:\n",
    "        # We have to recreate the block text hash here as hashes aren't stored in argilla\n",
    "        # and we modify the text on argilla data load. This is replicating the transformation\n",
    "        # that happens in Argilla\n",
    "        text = block.to_string().replace(\"\\n\", \" \").replace(\"  \", \" \")\n",
    "        text_hash = hashlib.md5(text.encode(\"utf-8\")).hexdigest()\n",
    "\n",
    "        for span in block.spans:\n",
    "            if span.type.split(\"–\")[0].strip() not in SPAN_TYPES:\n",
    "                continue\n",
    "\n",
    "            span.type = span.type.split(\"–\")[0].strip()\n",
    "\n",
    "            doc_span_id = f\"{span.document_id}_{text_hash}\"\n",
    "\n",
    "            if doc_span_id in doc_id_text_hash_span_map:\n",
    "                doc_id_text_hash_span_map[doc_span_id].append(span)\n",
    "\n",
    "            else:\n",
    "                doc_id_text_hash_span_map[doc_span_id] = [span]"
   ]
  },
  {
   "cell_type": "code",
   "execution_count": 12,
   "metadata": {},
   "outputs": [
    {
     "data": {
      "application/vnd.jupyter.widget-view+json": {
       "model_id": "1b6a0fad227349449b1a763baf00e050",
       "version_major": 2,
       "version_minor": 0
      },
      "text/plain": [
       "  0%|          | 0/785 [00:00<?, ?it/s]"
      ]
     },
     "metadata": {},
     "output_type": "display_data"
    },
    {
     "name": "stdout",
     "output_type": "stream",
     "text": [
      "Argilla blocks found in CPR dataset: 154\n"
     ]
    },
    {
     "data": {
      "text/plain": [
       "{'Good Practice And Opportunities': 38,\n",
       " 'Barriers And Challenges': 39,\n",
       " 'Deforestation': 39,\n",
       " 'Equity And Just Transition': 21,\n",
       " 'Financial Flows': 43,\n",
       " 'Vulnerable Groups': 20}"
      ]
     },
     "execution_count": 12,
     "metadata": {},
     "output_type": "execute_result"
    }
   ],
   "source": [
    "# add predictions to each Argilla record\n",
    "\n",
    "# Maps span type to records which predict only for that span type to deal with the fact that Argilla can't handle overlaps\n",
    "prediction_records = defaultdict(list)\n",
    "\n",
    "argilla_blocks_found_in_cpr_dataset = 0\n",
    "\n",
    "for record in tqdm(rg_dataset):\n",
    "    text_hash = hashlib.md5(record.text.encode(\"utf-8\")).hexdigest()\n",
    "    doc_span_id = f\"{record.metadata['document_id']}_{text_hash}\"\n",
    "\n",
    "    if doc_span_id in doc_id_text_hash_span_map:\n",
    "        argilla_blocks_found_in_cpr_dataset += 1\n",
    "\n",
    "        predictions = [\n",
    "            (span.type, span.start_idx, span.end_idx)\n",
    "            for span in doc_id_text_hash_span_map[doc_span_id]\n",
    "        ]\n",
    "        predictions = sorted(predictions, key=lambda x: x[0])\n",
    "\n",
    "        # add all predictions to argilla record\n",
    "        record.prediction = predictions\n",
    "\n",
    "        # create temp argilla records per span type\n",
    "        for span_type, span_predictions in itertools.groupby(\n",
    "            predictions, lambda x: x[0]\n",
    "        ):\n",
    "            record_copy = record.copy()\n",
    "            record_copy.prediction = list(span_predictions)\n",
    "            prediction_records[span_type].append(record_copy)\n",
    "\n",
    "print(f\"Argilla blocks found in CPR dataset: {argilla_blocks_found_in_cpr_dataset}\")\n",
    "support = {k: len(v) for k, v in prediction_records.items()}\n",
    "support"
   ]
  },
  {
   "cell_type": "markdown",
   "metadata": {},
   "source": [
    "## Use nervaluate for performance stats measurement"
   ]
  },
  {
   "cell_type": "code",
   "execution_count": 8,
   "metadata": {},
   "outputs": [],
   "source": [
    "from nervaluate import Evaluator"
   ]
  },
  {
   "cell_type": "code",
   "execution_count": 9,
   "metadata": {},
   "outputs": [],
   "source": [
    "def argilla_to_nervaluate(record):\n",
    "    return [{\"label\": item[0], \"start\": item[1], \"end\": item[2]} for item in record]\n",
    "\n",
    "\n",
    "ground_truth = [argilla_to_nervaluate(record.annotation) for record in rg_dataset]\n",
    "predictions = [argilla_to_nervaluate(record.prediction or []) for record in rg_dataset]"
   ]
  },
  {
   "cell_type": "code",
   "execution_count": 10,
   "metadata": {},
   "outputs": [],
   "source": [
    "results, results_per_tag = Evaluator(ground_truth, predictions, SPAN_TYPES).evaluate()"
   ]
  },
  {
   "cell_type": "code",
   "execution_count": 15,
   "metadata": {},
   "outputs": [
    {
     "name": "stdout",
     "output_type": "stream",
     "text": [
      "Results - any overlap between prediction and actual\n"
     ]
    },
    {
     "data": {
      "text/html": [
       "<div>\n",
       "<style scoped>\n",
       "    .dataframe tbody tr th:only-of-type {\n",
       "        vertical-align: middle;\n",
       "    }\n",
       "\n",
       "    .dataframe tbody tr th {\n",
       "        vertical-align: top;\n",
       "    }\n",
       "\n",
       "    .dataframe thead th {\n",
       "        text-align: right;\n",
       "    }\n",
       "</style>\n",
       "<table border=\"1\" class=\"dataframe\">\n",
       "  <thead>\n",
       "    <tr style=\"text-align: right;\">\n",
       "      <th></th>\n",
       "      <th>correct</th>\n",
       "      <th>incorrect</th>\n",
       "      <th>partial</th>\n",
       "      <th>missed</th>\n",
       "      <th>spurious</th>\n",
       "      <th>possible</th>\n",
       "      <th>actual</th>\n",
       "      <th>precision</th>\n",
       "      <th>recall</th>\n",
       "      <th>f1</th>\n",
       "      <th>support</th>\n",
       "    </tr>\n",
       "  </thead>\n",
       "  <tbody>\n",
       "    <tr>\n",
       "      <th>Financial Flows</th>\n",
       "      <td>40.0</td>\n",
       "      <td>1.0</td>\n",
       "      <td>0.0</td>\n",
       "      <td>46.0</td>\n",
       "      <td>102.0</td>\n",
       "      <td>87.0</td>\n",
       "      <td>143.0</td>\n",
       "      <td>0.28</td>\n",
       "      <td>0.46</td>\n",
       "      <td>0.35</td>\n",
       "      <td>43</td>\n",
       "    </tr>\n",
       "    <tr>\n",
       "      <th>Vulnerable Groups</th>\n",
       "      <td>19.0</td>\n",
       "      <td>0.0</td>\n",
       "      <td>0.0</td>\n",
       "      <td>28.0</td>\n",
       "      <td>5.0</td>\n",
       "      <td>47.0</td>\n",
       "      <td>24.0</td>\n",
       "      <td>0.79</td>\n",
       "      <td>0.40</td>\n",
       "      <td>0.54</td>\n",
       "      <td>20</td>\n",
       "    </tr>\n",
       "    <tr>\n",
       "      <th>Equity And Just Transition</th>\n",
       "      <td>29.0</td>\n",
       "      <td>10.0</td>\n",
       "      <td>0.0</td>\n",
       "      <td>46.0</td>\n",
       "      <td>6.0</td>\n",
       "      <td>85.0</td>\n",
       "      <td>45.0</td>\n",
       "      <td>0.64</td>\n",
       "      <td>0.34</td>\n",
       "      <td>0.45</td>\n",
       "      <td>21</td>\n",
       "    </tr>\n",
       "    <tr>\n",
       "      <th>Barriers And Challenges</th>\n",
       "      <td>27.0</td>\n",
       "      <td>3.0</td>\n",
       "      <td>0.0</td>\n",
       "      <td>25.0</td>\n",
       "      <td>20.0</td>\n",
       "      <td>55.0</td>\n",
       "      <td>50.0</td>\n",
       "      <td>0.54</td>\n",
       "      <td>0.49</td>\n",
       "      <td>0.51</td>\n",
       "      <td>39</td>\n",
       "    </tr>\n",
       "    <tr>\n",
       "      <th>Good Practice And Opportunities</th>\n",
       "      <td>30.0</td>\n",
       "      <td>0.0</td>\n",
       "      <td>0.0</td>\n",
       "      <td>25.0</td>\n",
       "      <td>20.0</td>\n",
       "      <td>55.0</td>\n",
       "      <td>50.0</td>\n",
       "      <td>0.60</td>\n",
       "      <td>0.55</td>\n",
       "      <td>0.57</td>\n",
       "      <td>38</td>\n",
       "    </tr>\n",
       "    <tr>\n",
       "      <th>Deforestation</th>\n",
       "      <td>63.0</td>\n",
       "      <td>1.0</td>\n",
       "      <td>0.0</td>\n",
       "      <td>40.0</td>\n",
       "      <td>36.0</td>\n",
       "      <td>104.0</td>\n",
       "      <td>100.0</td>\n",
       "      <td>0.63</td>\n",
       "      <td>0.61</td>\n",
       "      <td>0.62</td>\n",
       "      <td>39</td>\n",
       "    </tr>\n",
       "  </tbody>\n",
       "</table>\n",
       "</div>"
      ],
      "text/plain": [
       "                                 correct  incorrect  partial  missed  \\\n",
       "Financial Flows                     40.0        1.0      0.0    46.0   \n",
       "Vulnerable Groups                   19.0        0.0      0.0    28.0   \n",
       "Equity And Just Transition          29.0       10.0      0.0    46.0   \n",
       "Barriers And Challenges             27.0        3.0      0.0    25.0   \n",
       "Good Practice And Opportunities     30.0        0.0      0.0    25.0   \n",
       "Deforestation                       63.0        1.0      0.0    40.0   \n",
       "\n",
       "                                 spurious  possible  actual  precision  \\\n",
       "Financial Flows                     102.0      87.0   143.0       0.28   \n",
       "Vulnerable Groups                     5.0      47.0    24.0       0.79   \n",
       "Equity And Just Transition            6.0      85.0    45.0       0.64   \n",
       "Barriers And Challenges              20.0      55.0    50.0       0.54   \n",
       "Good Practice And Opportunities      20.0      55.0    50.0       0.60   \n",
       "Deforestation                        36.0     104.0   100.0       0.63   \n",
       "\n",
       "                                 recall    f1  support  \n",
       "Financial Flows                    0.46  0.35       43  \n",
       "Vulnerable Groups                  0.40  0.54       20  \n",
       "Equity And Just Transition         0.34  0.45       21  \n",
       "Barriers And Challenges            0.49  0.51       39  \n",
       "Good Practice And Opportunities    0.55  0.57       38  \n",
       "Deforestation                      0.61  0.62       39  "
      ]
     },
     "metadata": {},
     "output_type": "display_data"
    },
    {
     "name": "stdout",
     "output_type": "stream",
     "text": [
      "\n",
      "Results, strict - exact boundary match between prediction and actual\n"
     ]
    },
    {
     "data": {
      "text/html": [
       "<div>\n",
       "<style scoped>\n",
       "    .dataframe tbody tr th:only-of-type {\n",
       "        vertical-align: middle;\n",
       "    }\n",
       "\n",
       "    .dataframe tbody tr th {\n",
       "        vertical-align: top;\n",
       "    }\n",
       "\n",
       "    .dataframe thead th {\n",
       "        text-align: right;\n",
       "    }\n",
       "</style>\n",
       "<table border=\"1\" class=\"dataframe\">\n",
       "  <thead>\n",
       "    <tr style=\"text-align: right;\">\n",
       "      <th></th>\n",
       "      <th>correct</th>\n",
       "      <th>incorrect</th>\n",
       "      <th>partial</th>\n",
       "      <th>missed</th>\n",
       "      <th>spurious</th>\n",
       "      <th>possible</th>\n",
       "      <th>actual</th>\n",
       "      <th>precision</th>\n",
       "      <th>recall</th>\n",
       "      <th>f1</th>\n",
       "      <th>support</th>\n",
       "    </tr>\n",
       "  </thead>\n",
       "  <tbody>\n",
       "    <tr>\n",
       "      <th>Financial Flows</th>\n",
       "      <td>8.0</td>\n",
       "      <td>33.0</td>\n",
       "      <td>0.0</td>\n",
       "      <td>46.0</td>\n",
       "      <td>102.0</td>\n",
       "      <td>87.0</td>\n",
       "      <td>143.0</td>\n",
       "      <td>0.06</td>\n",
       "      <td>0.09</td>\n",
       "      <td>0.07</td>\n",
       "      <td>43</td>\n",
       "    </tr>\n",
       "    <tr>\n",
       "      <th>Vulnerable Groups</th>\n",
       "      <td>9.0</td>\n",
       "      <td>10.0</td>\n",
       "      <td>0.0</td>\n",
       "      <td>28.0</td>\n",
       "      <td>5.0</td>\n",
       "      <td>47.0</td>\n",
       "      <td>24.0</td>\n",
       "      <td>0.38</td>\n",
       "      <td>0.19</td>\n",
       "      <td>0.25</td>\n",
       "      <td>20</td>\n",
       "    </tr>\n",
       "    <tr>\n",
       "      <th>Equity And Just Transition</th>\n",
       "      <td>14.0</td>\n",
       "      <td>25.0</td>\n",
       "      <td>0.0</td>\n",
       "      <td>46.0</td>\n",
       "      <td>6.0</td>\n",
       "      <td>85.0</td>\n",
       "      <td>45.0</td>\n",
       "      <td>0.31</td>\n",
       "      <td>0.16</td>\n",
       "      <td>0.22</td>\n",
       "      <td>21</td>\n",
       "    </tr>\n",
       "    <tr>\n",
       "      <th>Barriers And Challenges</th>\n",
       "      <td>12.0</td>\n",
       "      <td>18.0</td>\n",
       "      <td>0.0</td>\n",
       "      <td>25.0</td>\n",
       "      <td>20.0</td>\n",
       "      <td>55.0</td>\n",
       "      <td>50.0</td>\n",
       "      <td>0.24</td>\n",
       "      <td>0.22</td>\n",
       "      <td>0.23</td>\n",
       "      <td>39</td>\n",
       "    </tr>\n",
       "    <tr>\n",
       "      <th>Good Practice And Opportunities</th>\n",
       "      <td>20.0</td>\n",
       "      <td>10.0</td>\n",
       "      <td>0.0</td>\n",
       "      <td>25.0</td>\n",
       "      <td>20.0</td>\n",
       "      <td>55.0</td>\n",
       "      <td>50.0</td>\n",
       "      <td>0.40</td>\n",
       "      <td>0.36</td>\n",
       "      <td>0.38</td>\n",
       "      <td>38</td>\n",
       "    </tr>\n",
       "    <tr>\n",
       "      <th>Deforestation</th>\n",
       "      <td>26.0</td>\n",
       "      <td>38.0</td>\n",
       "      <td>0.0</td>\n",
       "      <td>40.0</td>\n",
       "      <td>36.0</td>\n",
       "      <td>104.0</td>\n",
       "      <td>100.0</td>\n",
       "      <td>0.26</td>\n",
       "      <td>0.25</td>\n",
       "      <td>0.25</td>\n",
       "      <td>39</td>\n",
       "    </tr>\n",
       "  </tbody>\n",
       "</table>\n",
       "</div>"
      ],
      "text/plain": [
       "                                 correct  incorrect  partial  missed  \\\n",
       "Financial Flows                      8.0       33.0      0.0    46.0   \n",
       "Vulnerable Groups                    9.0       10.0      0.0    28.0   \n",
       "Equity And Just Transition          14.0       25.0      0.0    46.0   \n",
       "Barriers And Challenges             12.0       18.0      0.0    25.0   \n",
       "Good Practice And Opportunities     20.0       10.0      0.0    25.0   \n",
       "Deforestation                       26.0       38.0      0.0    40.0   \n",
       "\n",
       "                                 spurious  possible  actual  precision  \\\n",
       "Financial Flows                     102.0      87.0   143.0       0.06   \n",
       "Vulnerable Groups                     5.0      47.0    24.0       0.38   \n",
       "Equity And Just Transition            6.0      85.0    45.0       0.31   \n",
       "Barriers And Challenges              20.0      55.0    50.0       0.24   \n",
       "Good Practice And Opportunities      20.0      55.0    50.0       0.40   \n",
       "Deforestation                        36.0     104.0   100.0       0.26   \n",
       "\n",
       "                                 recall    f1  support  \n",
       "Financial Flows                    0.09  0.07       43  \n",
       "Vulnerable Groups                  0.19  0.25       20  \n",
       "Equity And Just Transition         0.16  0.22       21  \n",
       "Barriers And Challenges            0.22  0.23       39  \n",
       "Good Practice And Opportunities    0.36  0.38       38  \n",
       "Deforestation                      0.25  0.25       39  "
      ]
     },
     "metadata": {},
     "output_type": "display_data"
    }
   ],
   "source": [
    "# We only want ent_type (any overlap between ground truth and prediction for an entity) or exact (exact boundaries and matching type) for each span type\n",
    "\n",
    "ner_results_ent_type = dict()\n",
    "ner_results_strict = dict()\n",
    "\n",
    "for span_type, results in results_per_tag.items():\n",
    "    ner_results_ent_type[span_type] = results[\"ent_type\"]\n",
    "    ner_results_strict[span_type] = results[\"strict\"]\n",
    "\n",
    "print(\"Results - any overlap between prediction and actual\")\n",
    "results_df_ent_type = pd.DataFrame(ner_results_ent_type).T\n",
    "results_df_ent_type[\"support\"] = pd.Series(support)\n",
    "display(results_df_ent_type.round(2))\n",
    "\n",
    "print()\n",
    "print(\"Results, strict - exact boundary match between prediction and actual\")\n",
    "results_df_strict = pd.DataFrame(ner_results_strict).T\n",
    "results_df_strict[\"support\"] = pd.Series(support)\n",
    "display(results_df_strict.round(2))"
   ]
  },
  {
   "cell_type": "markdown",
   "metadata": {},
   "source": [
    "### Print results to tables for methodology\n",
    "\n",
    "`ent_type`: precision, recall, f1, support"
   ]
  },
  {
   "cell_type": "code",
   "execution_count": 24,
   "metadata": {},
   "outputs": [
    {
     "name": "stdout",
     "output_type": "stream",
     "text": [
      "Barriers And Challenges\n",
      "|   Precision |   Recall |   F1 |   Support |\n",
      "|------------:|---------:|-----:|----------:|\n",
      "|        0.54 |     0.49 | 0.51 |        39 |\n",
      "Deforestation\n",
      "|   Precision |   Recall |   F1 |   Support |\n",
      "|------------:|---------:|-----:|----------:|\n",
      "|        0.63 |     0.61 | 0.62 |        39 |\n",
      "Equity And Just Transition\n",
      "|   Precision |   Recall |   F1 |   Support |\n",
      "|------------:|---------:|-----:|----------:|\n",
      "|        0.64 |     0.34 | 0.45 |        21 |\n",
      "Financial Flows\n",
      "|   Precision |   Recall |   F1 |   Support |\n",
      "|------------:|---------:|-----:|----------:|\n",
      "|        0.28 |     0.46 | 0.35 |        43 |\n",
      "Good Practice And Opportunities\n",
      "|   Precision |   Recall |   F1 |   Support |\n",
      "|------------:|---------:|-----:|----------:|\n",
      "|         0.6 |     0.55 | 0.57 |        38 |\n",
      "Vulnerable Groups\n",
      "|   Precision |   Recall |   F1 |   Support |\n",
      "|------------:|---------:|-----:|----------:|\n",
      "|        0.79 |      0.4 | 0.54 |        20 |\n"
     ]
    }
   ],
   "source": [
    "for concept, row in pd.DataFrame(results_df_ent_type).sort_index().iterrows():\n",
    "    concept_table = row[[\"precision\", \"recall\", \"f1\", \"support\"]].rename(\n",
    "        lambda i: i.title()\n",
    "    )\n",
    "    concept_table[[\"Precision\", \"Recall\", \"F1\"]] = concept_table[\n",
    "        [\"Precision\", \"Recall\", \"F1\"]\n",
    "    ].round(2)\n",
    "\n",
    "    print(concept)\n",
    "    print(pd.DataFrame(concept_table).T.to_markdown(index=False))"
   ]
  },
  {
   "cell_type": "code",
   "execution_count": null,
   "metadata": {},
   "outputs": [],
   "source": []
  }
 ],
 "metadata": {
  "kernelspec": {
   "display_name": "Python 3 (ipykernel)",
   "language": "python",
   "name": "python3"
  },
  "language_info": {
   "codemirror_mode": {
    "name": "ipython",
    "version": 3
   },
   "file_extension": ".py",
   "mimetype": "text/x-python",
   "name": "python",
   "nbconvert_exporter": "python",
   "pygments_lexer": "ipython3",
   "version": "3.9.10"
  }
 },
 "nbformat": 4,
 "nbformat_minor": 4
}
