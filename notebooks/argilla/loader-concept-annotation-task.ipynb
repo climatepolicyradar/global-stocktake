{
 "cells": [
  {
   "cell_type": "markdown",
   "id": "64fe820e",
   "metadata": {},
   "source": [
    "# Loader for concept annotation task\n",
    "\n",
    "The task is token classification into one or more of the following categories:\n",
    "\n",
    "* Financial Flows\n",
    "* Deforestation\n",
    "* Vulnerable Groups\n",
    "* Equity And Justice\n",
    "* Challenges And Opportunities\n"
   ]
  },
  {
   "cell_type": "code",
   "execution_count": 2,
   "id": "172e3715-35fd-4d75-a50f-5a830229880a",
   "metadata": {
    "collapsed": true,
    "jupyter": {
     "outputs_hidden": true
    },
    "tags": []
   },
   "outputs": [
    {
     "name": "stdout",
     "output_type": "stream",
     "text": [
      "Collecting argilla\n",
      "  Downloading argilla-1.6.0-py3-none-any.whl (2.2 MB)\n",
      "\u001b[2K     \u001b[38;2;114;156;31m━━━━━━━━━━━━━━━━━━━━━━━━━━━━━━━━━━━━━━━━\u001b[0m \u001b[32m2.2/2.2 MB\u001b[0m \u001b[31m3.7 MB/s\u001b[0m eta \u001b[36m0:00:00\u001b[0mm eta \u001b[36m0:00:01\u001b[0m[36m0:00:01\u001b[0m\n",
      "\u001b[?25hCollecting monotonic\n",
      "  Using cached monotonic-1.6-py2.py3-none-any.whl (8.2 kB)\n",
      "Collecting deprecated~=1.2.0\n",
      "  Using cached Deprecated-1.2.13-py2.py3-none-any.whl (9.6 kB)\n",
      "Requirement already satisfied: httpx<0.24,>=0.15 in /Users/kalyan/Library/Caches/pypoetry/virtualenvs/experiment-template-Q6O6vM4r-py3.9/lib/python3.9/site-packages (from argilla) (0.23.3)\n",
      "Requirement already satisfied: pydantic>=1.7.1 in /Users/kalyan/Library/Caches/pypoetry/virtualenvs/experiment-template-Q6O6vM4r-py3.9/lib/python3.9/site-packages (from argilla) (1.10.5)\n",
      "Requirement already satisfied: packaging>=20.0 in /Users/kalyan/Library/Caches/pypoetry/virtualenvs/experiment-template-Q6O6vM4r-py3.9/lib/python3.9/site-packages (from argilla) (23.0)\n",
      "Requirement already satisfied: tqdm>=4.27.0 in /Users/kalyan/Library/Caches/pypoetry/virtualenvs/experiment-template-Q6O6vM4r-py3.9/lib/python3.9/site-packages (from argilla) (4.65.0)\n",
      "Requirement already satisfied: numpy<1.24.0 in /Users/kalyan/Library/Caches/pypoetry/virtualenvs/experiment-template-Q6O6vM4r-py3.9/lib/python3.9/site-packages (from argilla) (1.23.5)\n",
      "Collecting backoff\n",
      "  Using cached backoff-2.2.1-py3-none-any.whl (15 kB)\n",
      "Collecting wrapt<1.15,>=1.13\n",
      "  Using cached wrapt-1.14.1-cp39-cp39-macosx_10_9_x86_64.whl (35 kB)\n",
      "Requirement already satisfied: pandas<2.0.0,>=1.0.0 in /Users/kalyan/Library/Caches/pypoetry/virtualenvs/experiment-template-Q6O6vM4r-py3.9/lib/python3.9/site-packages (from argilla) (1.5.3)\n",
      "Collecting rich<=13.0.1\n",
      "  Downloading rich-13.0.1-py3-none-any.whl (238 kB)\n",
      "\u001b[2K     \u001b[38;2;114;156;31m━━━━━━━━━━━━━━━━━━━━━━━━━━━━━━━━━━━━━━━\u001b[0m \u001b[32m238.1/238.1 kB\u001b[0m \u001b[31m2.5 MB/s\u001b[0m eta \u001b[36m0:00:00\u001b[0mm eta \u001b[36m0:00:01\u001b[0m[36m0:00:01\u001b[0m\n",
      "\u001b[?25hRequirement already satisfied: httpcore<0.17.0,>=0.15.0 in /Users/kalyan/Library/Caches/pypoetry/virtualenvs/experiment-template-Q6O6vM4r-py3.9/lib/python3.9/site-packages (from httpx<0.24,>=0.15->argilla) (0.16.3)\n",
      "Requirement already satisfied: sniffio in /Users/kalyan/Library/Caches/pypoetry/virtualenvs/experiment-template-Q6O6vM4r-py3.9/lib/python3.9/site-packages (from httpx<0.24,>=0.15->argilla) (1.3.0)\n",
      "Requirement already satisfied: certifi in /Users/kalyan/Library/Caches/pypoetry/virtualenvs/experiment-template-Q6O6vM4r-py3.9/lib/python3.9/site-packages (from httpx<0.24,>=0.15->argilla) (2022.12.7)\n",
      "Requirement already satisfied: rfc3986[idna2008]<2,>=1.3 in /Users/kalyan/Library/Caches/pypoetry/virtualenvs/experiment-template-Q6O6vM4r-py3.9/lib/python3.9/site-packages (from httpx<0.24,>=0.15->argilla) (1.5.0)\n",
      "Requirement already satisfied: pytz>=2020.1 in /Users/kalyan/Library/Caches/pypoetry/virtualenvs/experiment-template-Q6O6vM4r-py3.9/lib/python3.9/site-packages (from pandas<2.0.0,>=1.0.0->argilla) (2022.7.1)\n",
      "Requirement already satisfied: python-dateutil>=2.8.1 in /Users/kalyan/Library/Caches/pypoetry/virtualenvs/experiment-template-Q6O6vM4r-py3.9/lib/python3.9/site-packages (from pandas<2.0.0,>=1.0.0->argilla) (2.8.2)\n",
      "Requirement already satisfied: typing-extensions>=4.2.0 in /Users/kalyan/Library/Caches/pypoetry/virtualenvs/experiment-template-Q6O6vM4r-py3.9/lib/python3.9/site-packages (from pydantic>=1.7.1->argilla) (4.4.0)\n",
      "Collecting commonmark<0.10.0,>=0.9.0\n",
      "  Using cached commonmark-0.9.1-py2.py3-none-any.whl (51 kB)\n",
      "Requirement already satisfied: pygments<3.0.0,>=2.6.0 in /Users/kalyan/Library/Caches/pypoetry/virtualenvs/experiment-template-Q6O6vM4r-py3.9/lib/python3.9/site-packages (from rich<=13.0.1->argilla) (2.14.0)\n",
      "Requirement already satisfied: anyio<5.0,>=3.0 in /Users/kalyan/Library/Caches/pypoetry/virtualenvs/experiment-template-Q6O6vM4r-py3.9/lib/python3.9/site-packages (from httpcore<0.17.0,>=0.15.0->httpx<0.24,>=0.15->argilla) (3.6.2)\n",
      "Requirement already satisfied: h11<0.15,>=0.13 in /Users/kalyan/Library/Caches/pypoetry/virtualenvs/experiment-template-Q6O6vM4r-py3.9/lib/python3.9/site-packages (from httpcore<0.17.0,>=0.15.0->httpx<0.24,>=0.15->argilla) (0.14.0)\n",
      "Requirement already satisfied: six>=1.5 in /Users/kalyan/Library/Caches/pypoetry/virtualenvs/experiment-template-Q6O6vM4r-py3.9/lib/python3.9/site-packages (from python-dateutil>=2.8.1->pandas<2.0.0,>=1.0.0->argilla) (1.16.0)\n",
      "Requirement already satisfied: idna in /Users/kalyan/Library/Caches/pypoetry/virtualenvs/experiment-template-Q6O6vM4r-py3.9/lib/python3.9/site-packages (from rfc3986[idna2008]<2,>=1.3->httpx<0.24,>=0.15->argilla) (3.4)\n",
      "Installing collected packages: monotonic, commonmark, wrapt, rich, backoff, deprecated, argilla\n",
      "Successfully installed argilla-1.6.0 backoff-2.2.1 commonmark-0.9.1 deprecated-1.2.13 monotonic-1.6 rich-13.0.1 wrapt-1.14.1\n",
      "\n",
      "\u001b[1m[\u001b[0m\u001b[34;49mnotice\u001b[0m\u001b[1;39;49m]\u001b[0m\u001b[39;49m A new release of pip is available: \u001b[0m\u001b[31;49m23.0\u001b[0m\u001b[39;49m -> \u001b[0m\u001b[32;49m23.1.1\u001b[0m\n",
      "\u001b[1m[\u001b[0m\u001b[34;49mnotice\u001b[0m\u001b[1;39;49m]\u001b[0m\u001b[39;49m To update, run: \u001b[0m\u001b[32;49mpython -m pip install --upgrade pip\u001b[0m\n"
     ]
    }
   ],
   "source": [
    "import sys\n",
    "\n",
    "!{sys.executable} -m pip install argilla"
   ]
  },
  {
   "cell_type": "code",
   "execution_count": 1,
   "id": "0c2b7c66-5158-4f99-afbb-8b962195c379",
   "metadata": {},
   "outputs": [
    {
     "name": "stderr",
     "output_type": "stream",
     "text": [
      "/Users/kalyan/Library/Caches/pypoetry/virtualenvs/experiment-template-Q6O6vM4r-py3.9/lib/python3.9/site-packages/tqdm/auto.py:21: TqdmWarning: IProgress not found. Please update jupyter and ipywidgets. See https://ipywidgets.readthedocs.io/en/stable/user_install.html\n",
      "  from .autonotebook import tqdm as notebook_tqdm\n"
     ]
    }
   ],
   "source": [
    "import os\n",
    "import random\n",
    "\n",
    "from cpr_data_access.models import Dataset, BaseDocument\n",
    "from dotenv import load_dotenv, find_dotenv\n",
    "import argilla as rg\n",
    "from tqdm.auto import tqdm\n",
    "import spacy\n",
    "\n",
    "load_dotenv(find_dotenv())\n",
    "nlp = spacy.load(\"en_core_web_sm\")"
   ]
  },
  {
   "cell_type": "code",
   "execution_count": 2,
   "id": "e7a06ec9-963a-4fcd-a937-288450b3ec38",
   "metadata": {
    "tags": []
   },
   "outputs": [],
   "source": [
    "# User management is done at a workspace level\n",
    "\n",
    "DATASET_NAME = \"explorer-quality-testing\"\n",
    "TEXT_BLOCKS_PER_DOCUMENT = 2\n",
    "settings = rg.TokenClassificationSettings(\n",
    "    label_schema=[\n",
    "        \"Financial Flows\",\n",
    "        \"Deforestation\",\n",
    "        \"Vulnerable Groups\",\n",
    "        \"Equity And Justice\",\n",
    "        \"Challenges And Opportunities\",\n",
    "    ]\n",
    ")"
   ]
  },
  {
   "cell_type": "code",
   "execution_count": 3,
   "id": "b99a00d2-c2cc-4c3b-ba66-3b9bd96eb8ac",
   "metadata": {},
   "outputs": [],
   "source": [
    "rg.init(workspace=\"gst\", api_key=os.environ[\"ARGILLA_API_KEY\"])\n",
    "\n",
    "rg.configure_dataset(name=DATASET_NAME, settings=settings)"
   ]
  },
  {
   "cell_type": "code",
   "execution_count": 4,
   "id": "bfb2ec6d-0925-4743-b074-48a0f817187c",
   "metadata": {},
   "outputs": [
    {
     "name": "stderr",
     "output_type": "stream",
     "text": [
      "100%|██████████████████████████████████████████████████████████████████████████████████████████████████████████████████████████████████████████████████████████████████████████████████████████████████████████████████████████████████████████| 1142/1142 [01:08<00:00, 16.74it/s]\n"
     ]
    }
   ],
   "source": [
    "dataset = Dataset(document_model=BaseDocument).load_from_local(\n",
    "    os.environ[\"DOCS_DIR_GST\"], limit=None\n",
    ")"
   ]
  },
  {
   "cell_type": "code",
   "execution_count": 5,
   "id": "d4f72fa3-d53f-4371-a927-4e87cf969c6f",
   "metadata": {},
   "outputs": [
    {
     "name": "stderr",
     "output_type": "stream",
     "text": [
      "  0%|▍                                                                                                                                                                                                                                            | 2/1142 [00:00<01:01, 18.40it/s]/Users/kalyan/Library/Caches/pypoetry/virtualenvs/experiment-template-Q6O6vM4r-py3.9/lib/python3.9/site-packages/argilla/client/models.py:76: UserWarning: Some metadata values could exceed the max length. For those cases, values will be truncated by keeping only the last 128 characters. You can configure this length in the server with the ARGILLA_METADATA_FIELD_LENGTH environment variable. Note that, setting this too high may lead to Elastic performance issues.\n",
      "  warnings.warn(message, UserWarning)\n",
      "100%|██████████████████████████████████████████████████████████████████████████████████████████████████████████████████████████████████████████████████████████████████████████████████████████████████████████████████████████████████████████| 1142/1142 [00:16<00:00, 69.00it/s]\n"
     ]
    }
   ],
   "source": [
    "records = []\n",
    "\n",
    "for document in tqdm(dataset.documents):\n",
    "    if document.text_blocks is None:\n",
    "        print(f\"Skipping {document.document_id} as no text blocks\")\n",
    "        continue\n",
    "\n",
    "    doc_metadata = document.dict(exclude={\"text_blocks\", \"page_metadata\"})\n",
    "\n",
    "    # Randomly sample a fixed number of text blocks per document\n",
    "    if len(document.text_blocks) <= TEXT_BLOCKS_PER_DOCUMENT:\n",
    "        blocks = document.text_blocks\n",
    "    else:\n",
    "        blocks = random.sample(document.text_blocks, TEXT_BLOCKS_PER_DOCUMENT)\n",
    "\n",
    "    for block in blocks:\n",
    "        block_metadata = block.dict(exclude={\"text\"})\n",
    "        block_text = block.to_string().replace(\"\\n\", \" \").replace(\"  \", \" \")\n",
    "\n",
    "        records.append(\n",
    "            rg.TokenClassificationRecord(\n",
    "                text=block_text,\n",
    "                tokens=[tok.text for tok in nlp(block_text)],\n",
    "                metadata=doc_metadata | block_metadata,\n",
    "                id=f\"{block.text_block_id}_{document.document_id}\",\n",
    "            )\n",
    "        )"
   ]
  },
  {
   "cell_type": "code",
   "execution_count": 6,
   "id": "1427732a-2e08-4efc-a20a-854bf01cce0c",
   "metadata": {},
   "outputs": [
    {
     "data": {
      "text/html": [
       "<pre style=\"white-space:pre;overflow-x:auto;line-height:normal;font-family:Menlo,'DejaVu Sans Mono',consolas,'Courier New',monospace\"></pre>\n"
      ],
      "text/plain": [
       "\u001b[?25l"
      ]
     },
     "metadata": {},
     "output_type": "display_data"
    },
    {
     "data": {
      "text/html": [
       "<pre style=\"white-space:pre;overflow-x:auto;line-height:normal;font-family:Menlo,'DejaVu Sans Mono',consolas,'Courier New',monospace\">/Users/kalyan/Library/Caches/pypoetry/virtualenvs/experiment-template-Q6O6vM4r-py3.9/lib/python3.9/site-packages/ri\n",
       "ch/live.py:229: UserWarning: install \"ipywidgets\" for Jupyter support\n",
       "  warnings.warn('install \"ipywidgets\" for Jupyter support')\n",
       "</pre>\n"
      ],
      "text/plain": [
       "/Users/kalyan/Library/Caches/pypoetry/virtualenvs/experiment-template-Q6O6vM4r-py3.9/lib/python3.9/site-packages/ri\n",
       "ch/live.py:229: UserWarning: install \"ipywidgets\" for Jupyter support\n",
       "  warnings.warn('install \"ipywidgets\" for Jupyter support')\n"
      ]
     },
     "metadata": {},
     "output_type": "display_data"
    },
    {
     "data": {
      "text/html": [
       "<pre style=\"white-space:pre;overflow-x:auto;line-height:normal;font-family:Menlo,'DejaVu Sans Mono',consolas,'Courier New',monospace\">\n",
       "</pre>\n"
      ],
      "text/plain": [
       "\n",
       "\u001b[?25h"
      ]
     },
     "metadata": {},
     "output_type": "display_data"
    },
    {
     "data": {
      "text/html": [
       "<pre style=\"white-space:pre;overflow-x:auto;line-height:normal;font-family:Menlo,'DejaVu Sans Mono',consolas,'Courier New',monospace\"><span style=\"color: #008080; text-decoration-color: #008080; font-weight: bold\">1916</span> records logged to \n",
       "<a href=\"http://ec2-3-9-155-244.eu-west-2.compute.amazonaws.com:6900/datasets/gst/explorer-quality-testing\" target=\"_blank\"><span style=\"color: #0000ff; text-decoration-color: #0000ff; text-decoration: underline\">http://ec2-3-9-155-244.eu-west-2.compute.amazonaws.com:6900/datasets/gst/explorer-quality-testing</span></a>\n",
       "</pre>\n"
      ],
      "text/plain": [
       "\u001b[1;36m1916\u001b[0m records logged to \n",
       "\u001b]8;id=465155;http://ec2-3-9-155-244.eu-west-2.compute.amazonaws.com:6900/datasets/gst/explorer-quality-testing\u001b\\\u001b[4;94mhttp://ec2-3-9-155-244.eu-west-2.compute.amazonaws.com:6900/datasets/gst/explorer-quality-testing\u001b[0m\u001b]8;;\u001b\\\n"
      ]
     },
     "metadata": {},
     "output_type": "display_data"
    },
    {
     "data": {
      "text/plain": [
       "BulkResponse(dataset='explorer-quality-testing', processed=1916, failed=0)"
      ]
     },
     "execution_count": 6,
     "metadata": {},
     "output_type": "execute_result"
    }
   ],
   "source": [
    "random.shuffle(records)\n",
    "\n",
    "dataset_metadata = {\n",
    "    \"documents\": [doc.document_id for doc in dataset.documents],\n",
    "}\n",
    "\n",
    "rg.log(\n",
    "    records,\n",
    "    name=DATASET_NAME,\n",
    "    metadata=dataset_metadata,\n",
    ")"
   ]
  },
  {
   "cell_type": "code",
   "execution_count": null,
   "id": "ca8618cb-37b5-44fb-8fe8-6a73475d96e0",
   "metadata": {},
   "outputs": [],
   "source": []
  }
 ],
 "metadata": {
  "kernelspec": {
   "display_name": "Python 3 (ipykernel)",
   "language": "python",
   "name": "python3"
  },
  "language_info": {
   "codemirror_mode": {
    "name": "ipython",
    "version": 3
   },
   "file_extension": ".py",
   "mimetype": "text/x-python",
   "name": "python",
   "nbconvert_exporter": "python",
   "pygments_lexer": "ipython3",
   "version": "3.9.10"
  }
 },
 "nbformat": 4,
 "nbformat_minor": 5
}
