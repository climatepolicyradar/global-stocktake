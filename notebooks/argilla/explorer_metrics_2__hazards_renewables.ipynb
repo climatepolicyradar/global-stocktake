{
 "cells": [
  {
   "cell_type": "markdown",
   "metadata": {},
   "source": [
    "# Getting labelled terms from Argilla, to improve explorer inputs\n",
    "\n",
    "Unfortunately explorer_metrics.ipynb stopped working, so here we just get a unique list of the terms to cross-reference instead.\n",
    "\n"
   ]
  },
  {
   "cell_type": "code",
   "execution_count": 1,
   "metadata": {
    "collapsed": false,
    "jupyter": {
     "outputs_hidden": false
    },
    "pycharm": {
     "name": "#%%\n"
    }
   },
   "outputs": [
    {
     "name": "stderr",
     "output_type": "stream",
     "text": [
      "/Users/kalyan/Library/Caches/pypoetry/virtualenvs/global-stocktake-HXOiBphk-py3.9/lib/python3.9/site-packages/tqdm/auto.py:21: TqdmWarning: IProgress not found. Please update jupyter and ipywidgets. See https://ipywidgets.readthedocs.io/en/stable/user_install.html\n",
      "  from .autonotebook import tqdm as notebook_tqdm\n"
     ]
    }
   ],
   "source": [
    "import os\n",
    "from collections import defaultdict\n",
    "from pathlib import Path\n",
    "\n",
    "import argilla as rg\n",
    "from dotenv import load_dotenv, find_dotenv\n",
    "import spacy"
   ]
  },
  {
   "cell_type": "code",
   "execution_count": 2,
   "metadata": {
    "pycharm": {
     "name": "#%%\n"
    },
    "tags": []
   },
   "outputs": [
    {
     "data": {
      "text/plain": [
       "374"
      ]
     },
     "execution_count": 2,
     "metadata": {},
     "output_type": "execute_result"
    }
   ],
   "source": [
    "load_dotenv(find_dotenv(), override=True)\n",
    "\n",
    "nlp = spacy.blank(\"en\")\n",
    "\n",
    "concepts = [\"climate-related-hazards\", \"renewables\"]\n",
    "\n",
    "DATASET_NAMES = [f\"explorer-quality-testing-{concept}\" for concept in concepts]\n",
    "\n",
    "rg.init(workspace=\"gst\", api_key=os.environ[\"ARGILLA_API_KEY\"])\n",
    "\n",
    "rg_datasets = dict()\n",
    "all_records = list()\n",
    "\n",
    "for concept, _dataset in zip(concepts, DATASET_NAMES):\n",
    "    rg_datasets[concept] = rg.load(_dataset, query=\"status:Validated\")\n",
    "    all_records.extend(rg_datasets[concept]._records)\n",
    "\n",
    "rg_dataset = rg.DatasetForTokenClassification(all_records)\n",
    "len(rg_dataset)"
   ]
  },
  {
   "cell_type": "code",
   "execution_count": 3,
   "metadata": {},
   "outputs": [],
   "source": [
    "def get_annotation_text(rg_dataset) -> dict:\n",
    "    \"\"\"\n",
    "    Get unique annotations (not case-sensitive) for each label in the dataset.\n",
    "\n",
    "    Dataset is keyed by label.\n",
    "    \"\"\"\n",
    "    results = defaultdict(list)\n",
    "\n",
    "    for record in rg_dataset:\n",
    "        record_text = record.text\n",
    "        for annotation in record.annotation:\n",
    "            label = annotation[0]\n",
    "            start, end = annotation[1], annotation[2]\n",
    "            text = record_text[start:end]\n",
    "            results[label].append(text.lower().rstrip(\".,;:-?\"))\n",
    "\n",
    "    results = {k: sorted(list(set(v))) for k, v in results.items()}\n",
    "\n",
    "    return results\n",
    "\n",
    "\n",
    "for concept in concepts:\n",
    "    terms_list = get_annotation_text(rg_datasets[concept])[concept]\n",
    "    Path(f\"../../concepts/{concept}/terms_from_labelling_{20231125}.txt\").write_text(\n",
    "        \"\\n\".join(terms_list)\n",
    "    )"
   ]
  },
  {
   "cell_type": "code",
   "execution_count": null,
   "metadata": {},
   "outputs": [],
   "source": []
  }
 ],
 "metadata": {
  "kernelspec": {
   "display_name": "Python 3 (ipykernel)",
   "language": "python",
   "name": "python3"
  },
  "language_info": {
   "codemirror_mode": {
    "name": "ipython",
    "version": 3
   },
   "file_extension": ".py",
   "mimetype": "text/x-python",
   "name": "python",
   "nbconvert_exporter": "python",
   "pygments_lexer": "ipython3",
   "version": "3.9.10"
  }
 },
 "nbformat": 4,
 "nbformat_minor": 4
}
