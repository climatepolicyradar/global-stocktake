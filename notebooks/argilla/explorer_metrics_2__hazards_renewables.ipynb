{
 "cells": [
  {
   "cell_type": "markdown",
   "metadata": {},
   "source": [
    "# Getting labelled terms from Argilla, to improve explorer inputs\n",
    "\n",
    "Unfortunately explorer_metrics.ipynb stopped working, so here we just get a unique list of the terms to cross-reference instead.\n",
    "\n"
   ]
  },
  {
   "cell_type": "code",
   "execution_count": 66,
   "metadata": {
    "collapsed": false,
    "jupyter": {
     "outputs_hidden": false
    },
    "pycharm": {
     "name": "#%%\n"
    }
   },
   "outputs": [],
   "source": [
    "import os\n",
    "from collections import defaultdict\n",
    "\n",
    "import argilla as rg\n",
    "from dotenv import load_dotenv, find_dotenv\n",
    "import spacy"
   ]
  },
  {
   "cell_type": "code",
   "execution_count": 38,
   "metadata": {
    "pycharm": {
     "name": "#%%\n"
    },
    "tags": []
   },
   "outputs": [
    {
     "data": {
      "text/plain": [
       "374"
      ]
     },
     "execution_count": 38,
     "metadata": {},
     "output_type": "execute_result"
    }
   ],
   "source": [
    "load_dotenv(find_dotenv(), override=True)\n",
    "\n",
    "nlp = spacy.blank(\"en\")\n",
    "\n",
    "concepts = [\"climate-related-hazards\", \"renewables\"]\n",
    "\n",
    "DATASET_NAMES = [f\"explorer-quality-testing-{concept}\" for concept in concepts]\n",
    "\n",
    "rg.init(workspace=\"gst\", api_key=os.environ[\"ARGILLA_API_KEY\"])\n",
    "\n",
    "rg_datasets = dict()\n",
    "all_records = list()\n",
    "\n",
    "for concept, _dataset in zip(concepts, DATASET_NAMES):\n",
    "    rg_datasets[concept] = rg.load(_dataset, query=\"status:Validated\")\n",
    "    all_records.extend(rg_datasets[concept]._records)\n",
    "\n",
    "rg_dataset = rg.DatasetForTokenClassification(all_records)\n",
    "len(rg_dataset)"
   ]
  },
  {
   "cell_type": "code",
   "execution_count": 65,
   "metadata": {},
   "outputs": [
    {
     "data": {
      "text/plain": [
       "[\"'extremes'\",\n",
       " '(storms',\n",
       " 'a heat wave',\n",
       " 'acidification',\n",
       " 'and sea ice loss',\n",
       " 'associated coastal hazards',\n",
       " 'associated wildfires',\n",
       " 'breakdown of physical infrastructure',\n",
       " 'changes to rainfall',\n",
       " 'climate change induced biodegradation',\n",
       " 'climate extreme',\n",
       " 'climate extreme events',\n",
       " 'climate extremes',\n",
       " 'climate hazards',\n",
       " 'climate risks are growing',\n",
       " 'climate- related hazards',\n",
       " 'climate-related hazards',\n",
       " 'climate-related illnesses',\n",
       " 'coastal and marine hazards',\n",
       " 'coastal climate adaptation',\n",
       " 'coastal flooding',\n",
       " 'coinciding heat and drought)',\n",
       " 'compound climate hazards',\n",
       " 'conflict',\n",
       " 'critical service systems',\n",
       " 'cumulative effects of multiple human stressors in marine systems',\n",
       " 'cyclones',\n",
       " 'cyclones)',\n",
       " 'degradation of air quality',\n",
       " 'detrimental to mental health',\n",
       " 'direct (primary pollutants) or indirect (secondary pollutants)',\n",
       " 'displacement',\n",
       " 'disrupted infrastructures',\n",
       " 'drought',\n",
       " 'droughts',\n",
       " 'ecosystem-based disaster risk reduction',\n",
       " 'emerg. manag. nat. hazards',\n",
       " 'erosion',\n",
       " 'exceptionally hot days',\n",
       " 'extreme climate events',\n",
       " 'extreme events',\n",
       " 'extreme hazard',\n",
       " 'extreme heat',\n",
       " 'extreme precipitation',\n",
       " 'extreme temperatures',\n",
       " 'extreme weather event',\n",
       " 'extreme weather events',\n",
       " 'extremestorms:stateofknowledge\"',\n",
       " 'failure of these infrastructure systems',\n",
       " 'fires',\n",
       " 'flood hazards',\n",
       " 'flood protection infrastructure',\n",
       " 'floods',\n",
       " 'food-borne disease',\n",
       " 'harmful algal blooms',\n",
       " 'hazard',\n",
       " 'hazards',\n",
       " 'hazards to coastal ecosystems',\n",
       " 'hazards, exposure and vulnerability in the context of human health',\n",
       " 'health and risks: integrating health',\n",
       " 'heat wave',\n",
       " 'heatwaves',\n",
       " 'heavy rain',\n",
       " 'heavy rainfall',\n",
       " 'high temperature',\n",
       " 'hot temperature extremes',\n",
       " 'impacts on buildings',\n",
       " 'increased temperatures',\n",
       " 'infrastructure development in disaster-prone areas',\n",
       " 'infrastructure disruptions',\n",
       " 'infrastructure in low-lying coastal areas',\n",
       " 'infrastructures utilities identify failure of components in another utility as a risk to their systems',\n",
       " 'interrupted electricity',\n",
       " 'involuntary migration and displacement',\n",
       " 'involuntary population displacements',\n",
       " 'key infrastructure in low-lying coastal areas',\n",
       " 'land degradation',\n",
       " 'land loss, degradation',\n",
       " 'land loss, degradation and erosion',\n",
       " 'low resilience of infrastructure',\n",
       " 'malnutrition',\n",
       " 'marine heat waves',\n",
       " 'natural hazard',\n",
       " 'natural hazards',\n",
       " 'networks providing critical goods',\n",
       " 'ocean warming',\n",
       " 'of extreme events',\n",
       " 'resilience of critical infrastructure',\n",
       " 'resilient infrastructure',\n",
       " 'resilient infrastructure opportunity',\n",
       " 'rising sea levels',\n",
       " 'risk from multiple interacting natural hazards',\n",
       " 'risk-based approach to cumulative effect assessments for marine management',\n",
       " 'risks affecting health',\n",
       " 'risks for health',\n",
       " 'risks of exposure and vulnerability to natural disasters',\n",
       " 'risks resulting from infrastructure interdependencies',\n",
       " 'risks to ecosystem',\n",
       " 'river flow and water levels',\n",
       " 'sand and dust storms',\n",
       " 'sea ice loss',\n",
       " 'sea level change',\n",
       " 'sea level changes',\n",
       " 'sea level rise',\n",
       " 'secondary impacts',\n",
       " 'slow onset hazards',\n",
       " 'slr',\n",
       " 'supply-chain management to avoid disruptions',\n",
       " 'systemic risks due to extreme events',\n",
       " 'technological disasters',\n",
       " 'technological hazards',\n",
       " 'temperature extremes',\n",
       " 'the resilient infrastructure opportunity',\n",
       " 'threats to mental health',\n",
       " 'to health well-being',\n",
       " 'torrential rainfall',\n",
       " 'variability in temperature',\n",
       " 'vector-borne disease',\n",
       " 'violent conflict',\n",
       " 'waterborne disease',\n",
       " 'weather extremes',\n",
       " 'weather extremes (storms, cyclones)',\n",
       " 'wildfires']"
      ]
     },
     "execution_count": 65,
     "metadata": {},
     "output_type": "execute_result"
    }
   ],
   "source": [
    "def get_annotation_text(rg_dataset) -> dict:\n",
    "    \"\"\"\n",
    "    Get unique annotations (not case-sensitive) for each label in the dataset.\n",
    "\n",
    "    Dataset is keyed by label.\n",
    "    \"\"\"\n",
    "    results = defaultdict(list)\n",
    "\n",
    "    for record in rg_dataset:\n",
    "        record_text = record.text\n",
    "        for annotation in record.annotation:\n",
    "            label = annotation[0]\n",
    "            start, end = annotation[1], annotation[2]\n",
    "            text = record_text[start:end]\n",
    "            results[label].append(text.lower().rstrip(\".,;:-?\"))\n",
    "\n",
    "    results = {k: sorted(list(set(v))) for k, v in results.items()}\n",
    "\n",
    "    return results\n",
    "\n",
    "\n",
    "get_annotation_text(rg_datasets[\"climate-related-hazards\"])[\"climate-related-hazards\"]"
   ]
  },
  {
   "cell_type": "code",
   "execution_count": null,
   "metadata": {},
   "outputs": [],
   "source": []
  }
 ],
 "metadata": {
  "kernelspec": {
   "display_name": "Python 3 (ipykernel)",
   "language": "python",
   "name": "python3"
  },
  "language_info": {
   "codemirror_mode": {
    "name": "ipython",
    "version": 3
   },
   "file_extension": ".py",
   "mimetype": "text/x-python",
   "name": "python",
   "nbconvert_exporter": "python",
   "pygments_lexer": "ipython3",
   "version": "3.9.10"
  }
 },
 "nbformat": 4,
 "nbformat_minor": 4
}
