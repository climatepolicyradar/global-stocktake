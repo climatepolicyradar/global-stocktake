{
 "cells": [
  {
   "cell_type": "markdown",
   "id": "64fe820e",
   "metadata": {},
   "source": [
    "# Loading a sample of data into Argilla \n",
    "\n",
    "Loads some unlabelled text blocks into Argilla for an entity annotation task. For demo purposes."
   ]
  },
  {
   "cell_type": "code",
   "execution_count": null,
   "id": "abe2391a",
   "metadata": {},
   "outputs": [],
   "source": [
    "# installing argilla in the notebook kernel as there is a dependency clash when trying to install with poetry\n",
    "import sys\n",
    "\n",
    "!{sys.executable} -m pip install argilla"
   ]
  },
  {
   "cell_type": "code",
   "execution_count": 1,
   "id": "0c2b7c66-5158-4f99-afbb-8b962195c379",
   "metadata": {},
   "outputs": [
    {
     "data": {
      "text/plain": [
       "True"
      ]
     },
     "execution_count": 1,
     "metadata": {},
     "output_type": "execute_result"
    }
   ],
   "source": [
    "import os\n",
    "\n",
    "from cpr_data_access.models import Dataset\n",
    "from dotenv import load_dotenv, find_dotenv\n",
    "import argilla as rg\n",
    "from tqdm.auto import tqdm\n",
    "\n",
    "load_dotenv(find_dotenv())"
   ]
  },
  {
   "cell_type": "code",
   "execution_count": 3,
   "id": "e7a06ec9-963a-4fcd-a937-288450b3ec38",
   "metadata": {},
   "outputs": [
    {
     "data": {
      "application/vnd.jupyter.widget-view+json": {
       "model_id": "20a6194c9ab34d14b8df27d5a33264e0",
       "version_major": 2,
       "version_minor": 0
      },
      "text/plain": [
       "  0%|          | 0/10 [00:00<?, ?it/s]"
      ]
     },
     "metadata": {},
     "output_type": "display_data"
    }
   ],
   "source": [
    "# User management is done at a workspace level\n",
    "rg.init(workspace=\"gst\", api_key=os.environ[\"ARGILLA_API_KEY\"])\n",
    "dataset = Dataset().load_from_local(os.environ[\"CPR_DATA_DIR\"], limit=10)"
   ]
  },
  {
   "cell_type": "code",
   "execution_count": 5,
   "id": "d4f72fa3-d53f-4371-a927-4e87cf969c6f",
   "metadata": {},
   "outputs": [
    {
     "data": {
      "application/vnd.jupyter.widget-view+json": {
       "model_id": "677cc59033ed4828b35eef265e0d2824",
       "version_major": 2,
       "version_minor": 0
      },
      "text/plain": [
       "  0%|          | 0/10 [00:00<?, ?it/s]"
      ]
     },
     "metadata": {},
     "output_type": "display_data"
    },
    {
     "name": "stderr",
     "output_type": "stream",
     "text": [
      "/Users/kalyan/.pyenv/versions/3.9.10/lib/python3.9/site-packages/argilla/client/models.py:74: UserWarning: Some metadata values could exceed the max length. For those cases, values will be truncated by keeping only the last 128 characters. You can configure this length in the server with the ARGILLA_METADATA_FIELD_LENGTH environment variable. Note that, setting this too high may lead to Elastic performance issues.\n",
      "  warnings.warn(message, UserWarning)\n"
     ]
    },
    {
     "name": "stdout",
     "output_type": "stream",
     "text": [
      "Skipping CCLW.executive.9783.4434 as no text blocks\n"
     ]
    }
   ],
   "source": [
    "records = []\n",
    "\n",
    "for document in tqdm(dataset.documents):\n",
    "    if document.text_blocks is None:\n",
    "        print(f\"Skipping {document.document_id} as no text blocks\")\n",
    "        continue\n",
    "\n",
    "    doc_metadata = document.dict(exclude={\"text_blocks\", \"page_metadata\"})\n",
    "\n",
    "    # FIXME: use spacy for tokenization\n",
    "    for block in document.text_blocks:\n",
    "        block_metadata = block.dict(exclude={\"text\"})\n",
    "        block_text = block.to_string()\n",
    "\n",
    "        records.append(\n",
    "            rg.TokenClassificationRecord(\n",
    "                text=block_text,\n",
    "                tokens=block_text.split(\" \"),\n",
    "                metadata=doc_metadata | block_metadata,\n",
    "                id=f\"{block.text_block_id}_{document.document_id}\",\n",
    "            )\n",
    "        )"
   ]
  },
  {
   "cell_type": "code",
   "execution_count": 6,
   "id": "1427732a-2e08-4efc-a20a-854bf01cce0c",
   "metadata": {},
   "outputs": [
    {
     "data": {
      "application/vnd.jupyter.widget-view+json": {
       "model_id": "b0d12f6a85a74927b05d4d95d7b7b3b9",
       "version_major": 2,
       "version_minor": 0
      },
      "text/plain": [
       "  0%|          | 0/2760 [00:00<?, ?it/s]"
      ]
     },
     "metadata": {},
     "output_type": "display_data"
    },
    {
     "name": "stdout",
     "output_type": "stream",
     "text": [
      "2760 records logged to http://localhost:6900/datasets/gst/demo_unlabelled\n"
     ]
    },
    {
     "data": {
      "text/plain": [
       "BulkResponse(dataset='demo_unlabelled', processed=2760, failed=0)"
      ]
     },
     "execution_count": 6,
     "metadata": {},
     "output_type": "execute_result"
    }
   ],
   "source": [
    "dataset_metadata = {\n",
    "    \"documents\": [doc.document_id for doc in dataset.documents],\n",
    "}\n",
    "\n",
    "rg.log(\n",
    "    records,\n",
    "    name=\"demo_unlabelled\",\n",
    "    metadata=dataset_metadata,\n",
    ")"
   ]
  },
  {
   "cell_type": "code",
   "execution_count": null,
   "id": "ca8618cb-37b5-44fb-8fe8-6a73475d96e0",
   "metadata": {},
   "outputs": [],
   "source": []
  }
 ],
 "metadata": {
  "kernelspec": {
   "display_name": "Python 3 (ipykernel)",
   "language": "python",
   "name": "python3"
  },
  "language_info": {
   "codemirror_mode": {
    "name": "ipython",
    "version": 3
   },
   "file_extension": ".py",
   "mimetype": "text/x-python",
   "name": "python",
   "nbconvert_exporter": "python",
   "pygments_lexer": "ipython3",
   "version": "3.9.10"
  }
 },
 "nbformat": 4,
 "nbformat_minor": 5
}
