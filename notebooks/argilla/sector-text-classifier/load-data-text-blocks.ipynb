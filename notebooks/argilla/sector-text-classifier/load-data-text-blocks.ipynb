{
 "cells": [
  {
   "cell_type": "markdown",
   "id": "64fe820e",
   "metadata": {},
   "source": [
    "# Loading text block data into Argilla \n",
    "\n",
    "Loads some unlabelled text blocks into Argilla for a text classification task."
   ]
  },
  {
   "cell_type": "code",
   "execution_count": 1,
   "id": "172e3715-35fd-4d75-a50f-5a830229880a",
   "metadata": {
    "tags": []
   },
   "outputs": [
    {
     "name": "stdout",
     "output_type": "stream",
     "text": [
      "Requirement already satisfied: argilla in /Users/kalyan/Library/Caches/pypoetry/virtualenvs/experiment-template-Q6O6vM4r-py3.9/lib/python3.9/site-packages (1.6.0)\n",
      "Requirement already satisfied: packaging>=20.0 in /Users/kalyan/Library/Caches/pypoetry/virtualenvs/experiment-template-Q6O6vM4r-py3.9/lib/python3.9/site-packages (from argilla) (23.0)\n",
      "Requirement already satisfied: wrapt<1.15,>=1.13 in /Users/kalyan/Library/Caches/pypoetry/virtualenvs/experiment-template-Q6O6vM4r-py3.9/lib/python3.9/site-packages (from argilla) (1.14.1)\n",
      "Requirement already satisfied: tqdm>=4.27.0 in /Users/kalyan/Library/Caches/pypoetry/virtualenvs/experiment-template-Q6O6vM4r-py3.9/lib/python3.9/site-packages (from argilla) (4.65.0)\n",
      "Requirement already satisfied: deprecated~=1.2.0 in /Users/kalyan/Library/Caches/pypoetry/virtualenvs/experiment-template-Q6O6vM4r-py3.9/lib/python3.9/site-packages (from argilla) (1.2.13)\n",
      "Requirement already satisfied: backoff in /Users/kalyan/Library/Caches/pypoetry/virtualenvs/experiment-template-Q6O6vM4r-py3.9/lib/python3.9/site-packages (from argilla) (2.2.1)\n",
      "Requirement already satisfied: monotonic in /Users/kalyan/Library/Caches/pypoetry/virtualenvs/experiment-template-Q6O6vM4r-py3.9/lib/python3.9/site-packages (from argilla) (1.6)\n",
      "Requirement already satisfied: pydantic>=1.7.1 in /Users/kalyan/Library/Caches/pypoetry/virtualenvs/experiment-template-Q6O6vM4r-py3.9/lib/python3.9/site-packages (from argilla) (1.10.5)\n",
      "Requirement already satisfied: httpx<0.24,>=0.15 in /Users/kalyan/Library/Caches/pypoetry/virtualenvs/experiment-template-Q6O6vM4r-py3.9/lib/python3.9/site-packages (from argilla) (0.23.3)\n",
      "Requirement already satisfied: pandas<2.0.0,>=1.0.0 in /Users/kalyan/Library/Caches/pypoetry/virtualenvs/experiment-template-Q6O6vM4r-py3.9/lib/python3.9/site-packages (from argilla) (1.5.3)\n",
      "Requirement already satisfied: numpy<1.24.0 in /Users/kalyan/Library/Caches/pypoetry/virtualenvs/experiment-template-Q6O6vM4r-py3.9/lib/python3.9/site-packages (from argilla) (1.23.5)\n",
      "Requirement already satisfied: rich<=13.0.1 in /Users/kalyan/Library/Caches/pypoetry/virtualenvs/experiment-template-Q6O6vM4r-py3.9/lib/python3.9/site-packages (from argilla) (13.0.1)\n",
      "Requirement already satisfied: httpcore<0.17.0,>=0.15.0 in /Users/kalyan/Library/Caches/pypoetry/virtualenvs/experiment-template-Q6O6vM4r-py3.9/lib/python3.9/site-packages (from httpx<0.24,>=0.15->argilla) (0.16.3)\n",
      "Requirement already satisfied: sniffio in /Users/kalyan/Library/Caches/pypoetry/virtualenvs/experiment-template-Q6O6vM4r-py3.9/lib/python3.9/site-packages (from httpx<0.24,>=0.15->argilla) (1.3.0)\n",
      "Requirement already satisfied: certifi in /Users/kalyan/Library/Caches/pypoetry/virtualenvs/experiment-template-Q6O6vM4r-py3.9/lib/python3.9/site-packages (from httpx<0.24,>=0.15->argilla) (2022.12.7)\n",
      "Requirement already satisfied: rfc3986[idna2008]<2,>=1.3 in /Users/kalyan/Library/Caches/pypoetry/virtualenvs/experiment-template-Q6O6vM4r-py3.9/lib/python3.9/site-packages (from httpx<0.24,>=0.15->argilla) (1.5.0)\n",
      "Requirement already satisfied: pytz>=2020.1 in /Users/kalyan/Library/Caches/pypoetry/virtualenvs/experiment-template-Q6O6vM4r-py3.9/lib/python3.9/site-packages (from pandas<2.0.0,>=1.0.0->argilla) (2022.7.1)\n",
      "Requirement already satisfied: python-dateutil>=2.8.1 in /Users/kalyan/Library/Caches/pypoetry/virtualenvs/experiment-template-Q6O6vM4r-py3.9/lib/python3.9/site-packages (from pandas<2.0.0,>=1.0.0->argilla) (2.8.2)\n",
      "Requirement already satisfied: typing-extensions>=4.2.0 in /Users/kalyan/Library/Caches/pypoetry/virtualenvs/experiment-template-Q6O6vM4r-py3.9/lib/python3.9/site-packages (from pydantic>=1.7.1->argilla) (4.4.0)\n",
      "Requirement already satisfied: pygments<3.0.0,>=2.6.0 in /Users/kalyan/Library/Caches/pypoetry/virtualenvs/experiment-template-Q6O6vM4r-py3.9/lib/python3.9/site-packages (from rich<=13.0.1->argilla) (2.14.0)\n",
      "Requirement already satisfied: commonmark<0.10.0,>=0.9.0 in /Users/kalyan/Library/Caches/pypoetry/virtualenvs/experiment-template-Q6O6vM4r-py3.9/lib/python3.9/site-packages (from rich<=13.0.1->argilla) (0.9.1)\n",
      "Requirement already satisfied: anyio<5.0,>=3.0 in /Users/kalyan/Library/Caches/pypoetry/virtualenvs/experiment-template-Q6O6vM4r-py3.9/lib/python3.9/site-packages (from httpcore<0.17.0,>=0.15.0->httpx<0.24,>=0.15->argilla) (3.6.2)\n",
      "Requirement already satisfied: h11<0.15,>=0.13 in /Users/kalyan/Library/Caches/pypoetry/virtualenvs/experiment-template-Q6O6vM4r-py3.9/lib/python3.9/site-packages (from httpcore<0.17.0,>=0.15.0->httpx<0.24,>=0.15->argilla) (0.14.0)\n",
      "Requirement already satisfied: six>=1.5 in /Users/kalyan/Library/Caches/pypoetry/virtualenvs/experiment-template-Q6O6vM4r-py3.9/lib/python3.9/site-packages (from python-dateutil>=2.8.1->pandas<2.0.0,>=1.0.0->argilla) (1.16.0)\n",
      "Requirement already satisfied: idna in /Users/kalyan/Library/Caches/pypoetry/virtualenvs/experiment-template-Q6O6vM4r-py3.9/lib/python3.9/site-packages (from rfc3986[idna2008]<2,>=1.3->httpx<0.24,>=0.15->argilla) (3.4)\n",
      "\n",
      "\u001b[1m[\u001b[0m\u001b[34;49mnotice\u001b[0m\u001b[1;39;49m]\u001b[0m\u001b[39;49m A new release of pip is available: \u001b[0m\u001b[31;49m23.0\u001b[0m\u001b[39;49m -> \u001b[0m\u001b[32;49m23.1.2\u001b[0m\n",
      "\u001b[1m[\u001b[0m\u001b[34;49mnotice\u001b[0m\u001b[1;39;49m]\u001b[0m\u001b[39;49m To update, run: \u001b[0m\u001b[32;49mpython -m pip install --upgrade pip\u001b[0m\n"
     ]
    }
   ],
   "source": [
    "import sys\n",
    "\n",
    "!{sys.executable} -m pip install argilla"
   ]
  },
  {
   "cell_type": "code",
   "execution_count": 2,
   "id": "0c2b7c66-5158-4f99-afbb-8b962195c379",
   "metadata": {},
   "outputs": [
    {
     "name": "stderr",
     "output_type": "stream",
     "text": [
      "/Users/kalyan/Library/Caches/pypoetry/virtualenvs/experiment-template-Q6O6vM4r-py3.9/lib/python3.9/site-packages/tqdm/auto.py:21: TqdmWarning: IProgress not found. Please update jupyter and ipywidgets. See https://ipywidgets.readthedocs.io/en/stable/user_install.html\n",
      "  from .autonotebook import tqdm as notebook_tqdm\n"
     ]
    }
   ],
   "source": [
    "import os\n",
    "import random\n",
    "\n",
    "from cpr_data_access.models import Dataset, BaseDocument\n",
    "from dotenv import load_dotenv, find_dotenv\n",
    "import argilla as rg\n",
    "from tqdm.auto import tqdm\n",
    "import spacy\n",
    "\n",
    "load_dotenv(find_dotenv(), override=True)\n",
    "nlp = spacy.load(\"en_core_web_sm\")"
   ]
  },
  {
   "cell_type": "code",
   "execution_count": 24,
   "id": "4abf8e60-a3e1-4c87-be00-086ad776f9d8",
   "metadata": {},
   "outputs": [],
   "source": [
    "# Config\n",
    "\n",
    "DATASET_NAME = \"sector-text-classifier\"\n",
    "TEXT_BLOCKS_PER_DOCUMENT = 20\n",
    "\n",
    "settings = rg.TextClassificationSettings(\n",
    "    label_schema=[\n",
    "        \"energy\",\n",
    "        \"transport\",\n",
    "        \"industry\",\n",
    "        \"buildings\",\n",
    "        \"agriculture, forestry and other land use\",\n",
    "        \"fisheries & aquaculture\",\n",
    "        \"insurance & financial services\",\n",
    "        \"water services\",\n",
    "        \"health services\",\n",
    "        \"tourism\",\n",
    "    ]\n",
    ")"
   ]
  },
  {
   "cell_type": "code",
   "execution_count": 11,
   "id": "8caa800f-c68c-4819-894d-b0be2640d0b4",
   "metadata": {},
   "outputs": [],
   "source": [
    "rg.init(\n",
    "    workspace=\"gst\",\n",
    "    api_key=os.environ[\"ARGILLA_API_KEY\"],\n",
    ")\n",
    "\n",
    "rg.configure_dataset(name=DATASET_NAME, settings=settings)"
   ]
  },
  {
   "cell_type": "markdown",
   "id": "f7ce307f-6655-4cdd-8d2e-db0c11fe0f00",
   "metadata": {},
   "source": [
    "## 1. load in labelled text blocks from 'text block or sentence' task"
   ]
  },
  {
   "cell_type": "code",
   "execution_count": 23,
   "id": "47b198a8-2503-4595-b4bf-6a6abd3636d5",
   "metadata": {},
   "outputs": [
    {
     "data": {
      "text/html": [
       "<pre style=\"white-space:pre;overflow-x:auto;line-height:normal;font-family:Menlo,'DejaVu Sans Mono',consolas,'Courier New',monospace\"></pre>\n"
      ],
      "text/plain": [
       "\u001b[?25l"
      ]
     },
     "metadata": {},
     "output_type": "display_data"
    },
    {
     "data": {
      "text/html": [
       "<pre style=\"white-space:pre;overflow-x:auto;line-height:normal;font-family:Menlo,'DejaVu Sans Mono',consolas,'Courier New',monospace\">/Users/kalyan/Library/Caches/pypoetry/virtualenvs/experiment-template-Q6O6vM4r-py3.9/lib/python3.9/site-packages/ri\n",
       "ch/live.py:229: UserWarning: install \"ipywidgets\" for Jupyter support\n",
       "  warnings.warn('install \"ipywidgets\" for Jupyter support')\n",
       "</pre>\n"
      ],
      "text/plain": [
       "/Users/kalyan/Library/Caches/pypoetry/virtualenvs/experiment-template-Q6O6vM4r-py3.9/lib/python3.9/site-packages/ri\n",
       "ch/live.py:229: UserWarning: install \"ipywidgets\" for Jupyter support\n",
       "  warnings.warn('install \"ipywidgets\" for Jupyter support')\n"
      ]
     },
     "metadata": {},
     "output_type": "display_data"
    },
    {
     "data": {
      "text/html": [
       "<pre style=\"white-space:pre;overflow-x:auto;line-height:normal;font-family:Menlo,'DejaVu Sans Mono',consolas,'Courier New',monospace\">\n",
       "</pre>\n"
      ],
      "text/plain": [
       "\n",
       "\u001b[?25h"
      ]
     },
     "metadata": {},
     "output_type": "display_data"
    },
    {
     "data": {
      "text/html": [
       "<pre style=\"white-space:pre;overflow-x:auto;line-height:normal;font-family:Menlo,'DejaVu Sans Mono',consolas,'Courier New',monospace\"><span style=\"color: #008080; text-decoration-color: #008080; font-weight: bold\">193</span> records logged to \n",
       "<a href=\"http://ec2-3-9-155-244.eu-west-2.compute.amazonaws.com:6900/datasets/gst/sector-text-classifier\" target=\"_blank\"><span style=\"color: #0000ff; text-decoration-color: #0000ff; text-decoration: underline\">http://ec2-3-9-155-244.eu-west-2.compute.amazonaws.com:6900/datasets/gst/sector-text-classifier</span></a>\n",
       "</pre>\n"
      ],
      "text/plain": [
       "\u001b[1;36m193\u001b[0m records logged to \n",
       "\u001b]8;id=371995;http://ec2-3-9-155-244.eu-west-2.compute.amazonaws.com:6900/datasets/gst/sector-text-classifier\u001b\\\u001b[4;94mhttp://ec2-3-9-155-244.eu-west-2.compute.amazonaws.com:6900/datasets/gst/sector-text-classifier\u001b[0m\u001b]8;;\u001b\\\n"
      ]
     },
     "metadata": {},
     "output_type": "display_data"
    },
    {
     "data": {
      "text/plain": [
       "BulkResponse(dataset='sector-text-classifier', processed=193, failed=0)"
      ]
     },
     "execution_count": 23,
     "metadata": {},
     "output_type": "execute_result"
    }
   ],
   "source": [
    "SENTENCE_OR_TEXT_BLOCK_DATASET_NAME = \"sectors-sentence-or-text-block\"\n",
    "\n",
    "sent_or_text_block_dataset = rg.load(SENTENCE_OR_TEXT_BLOCK_DATASET_NAME)\n",
    "text_blocks_only = [\n",
    "    d\n",
    "    for d in sent_or_text_block_dataset\n",
    "    if d.metadata[\"sentence_or_text_block\"] == \"text_block\"\n",
    "]\n",
    "rg.log(\n",
    "    text_blocks_only,\n",
    "    name=DATASET_NAME,\n",
    ")"
   ]
  },
  {
   "cell_type": "markdown",
   "id": "8ea3949a-2261-456f-9f85-24f9ea7bc25a",
   "metadata": {},
   "source": [
    "sent_or_text_block_dataset. load in sample of unlabelled text blocks"
   ]
  },
  {
   "cell_type": "code",
   "execution_count": 13,
   "id": "e7a06ec9-963a-4fcd-a937-288450b3ec38",
   "metadata": {},
   "outputs": [
    {
     "name": "stderr",
     "output_type": "stream",
     "text": [
      "100%|█████████████████████████████████████████████████████████████████████████████████████████████████████████████████████| 1142/1142 [01:42<00:00, 11.11it/s]\n"
     ]
    }
   ],
   "source": [
    "# User management is done at a workspace level\n",
    "\n",
    "dataset = (\n",
    "    Dataset(document_model=BaseDocument)\n",
    "    .load_from_local(os.environ[\"DOCS_DIR_GST\"])\n",
    "    .filter_by_language(\"en\")\n",
    ")"
   ]
  },
  {
   "cell_type": "code",
   "execution_count": 25,
   "id": "d4f72fa3-d53f-4371-a927-4e87cf969c6f",
   "metadata": {},
   "outputs": [
    {
     "name": "stderr",
     "output_type": "stream",
     "text": [
      "  0%|▌                                                                                                                        | 4/929 [00:01<04:43,  3.26it/s]/Users/kalyan/Library/Caches/pypoetry/virtualenvs/experiment-template-Q6O6vM4r-py3.9/lib/python3.9/site-packages/argilla/client/models.py:76: UserWarning: Some metadata values could exceed the max length. For those cases, values will be truncated by keeping only the last 128 characters. You can configure this length in the server with the ARGILLA_METADATA_FIELD_LENGTH environment variable. Note that, setting this too high may lead to Elastic performance issues.\n",
      "  warnings.warn(message, UserWarning)\n",
      "100%|███████████████████████████████████████████████████████████████████████████████████████████████████████████████████████| 929/929 [03:26<00:00,  4.49it/s]\n"
     ]
    }
   ],
   "source": [
    "records = []\n",
    "\n",
    "for document in tqdm(dataset.documents):\n",
    "    if document.text_blocks is None:\n",
    "        print(f\"Skipping {document.document_id} as no text blocks\")\n",
    "        continue\n",
    "\n",
    "    doc_metadata = document.dict(exclude={\"text_blocks\", \"page_metadata\"})\n",
    "\n",
    "    # Randomly sample a fixed number of text blocks per document\n",
    "    if len(document.text_blocks) <= TEXT_BLOCKS_PER_DOCUMENT:\n",
    "        blocks = document.text_blocks\n",
    "    else:\n",
    "        blocks = random.sample(document.text_blocks, TEXT_BLOCKS_PER_DOCUMENT)\n",
    "\n",
    "    for block in blocks:\n",
    "        block_metadata = block.dict(exclude={\"text\"})\n",
    "        block_text = block.to_string().replace(\"\\n\", \" \").replace(\"  \", \" \")\n",
    "\n",
    "        records.append(\n",
    "            rg.TextClassificationRecord(\n",
    "                text=block_text,\n",
    "                multi_label=True,\n",
    "                metadata=doc_metadata | block_metadata,\n",
    "                id=f\"{block.text_block_id}_{document.document_id}\",\n",
    "                vectors={\"spacy\": list(nlp(block_text).vector)},\n",
    "            )\n",
    "        )"
   ]
  },
  {
   "cell_type": "code",
   "execution_count": 26,
   "id": "1427732a-2e08-4efc-a20a-854bf01cce0c",
   "metadata": {},
   "outputs": [
    {
     "data": {
      "text/html": [
       "<pre style=\"white-space:pre;overflow-x:auto;line-height:normal;font-family:Menlo,'DejaVu Sans Mono',consolas,'Courier New',monospace\"></pre>\n"
      ],
      "text/plain": [
       "\u001b[?25l"
      ]
     },
     "metadata": {},
     "output_type": "display_data"
    },
    {
     "data": {
      "text/html": [
       "<pre style=\"white-space:pre;overflow-x:auto;line-height:normal;font-family:Menlo,'DejaVu Sans Mono',consolas,'Courier New',monospace\">\n",
       "</pre>\n"
      ],
      "text/plain": [
       "\n",
       "\u001b[?25h"
      ]
     },
     "metadata": {},
     "output_type": "display_data"
    },
    {
     "data": {
      "text/html": [
       "<pre style=\"white-space:pre;overflow-x:auto;line-height:normal;font-family:Menlo,'DejaVu Sans Mono',consolas,'Courier New',monospace\"><span style=\"color: #008080; text-decoration-color: #008080; font-weight: bold\">16632</span> records logged to \n",
       "<a href=\"http://ec2-3-9-155-244.eu-west-2.compute.amazonaws.com:6900/datasets/gst/sector-text-classifier\" target=\"_blank\"><span style=\"color: #0000ff; text-decoration-color: #0000ff; text-decoration: underline\">http://ec2-3-9-155-244.eu-west-2.compute.amazonaws.com:6900/datasets/gst/sector-text-classifier</span></a>\n",
       "</pre>\n"
      ],
      "text/plain": [
       "\u001b[1;36m16632\u001b[0m records logged to \n",
       "\u001b]8;id=234797;http://ec2-3-9-155-244.eu-west-2.compute.amazonaws.com:6900/datasets/gst/sector-text-classifier\u001b\\\u001b[4;94mhttp://ec2-3-9-155-244.eu-west-2.compute.amazonaws.com:6900/datasets/gst/sector-text-classifier\u001b[0m\u001b]8;;\u001b\\\n"
      ]
     },
     "metadata": {},
     "output_type": "display_data"
    },
    {
     "data": {
      "text/plain": [
       "BulkResponse(dataset='sector-text-classifier', processed=16632, failed=0)"
      ]
     },
     "execution_count": 26,
     "metadata": {},
     "output_type": "execute_result"
    }
   ],
   "source": [
    "dataset_metadata = {\n",
    "    \"documents\": [doc.document_id for doc in dataset.documents],\n",
    "}\n",
    "\n",
    "rg.log(\n",
    "    records,\n",
    "    name=DATASET_NAME,\n",
    "    metadata=dataset_metadata,\n",
    ")"
   ]
  },
  {
   "cell_type": "code",
   "execution_count": null,
   "id": "ca8618cb-37b5-44fb-8fe8-6a73475d96e0",
   "metadata": {},
   "outputs": [],
   "source": []
  }
 ],
 "metadata": {
  "kernelspec": {
   "display_name": "Python 3 (ipykernel)",
   "language": "python",
   "name": "python3"
  },
  "language_info": {
   "codemirror_mode": {
    "name": "ipython",
    "version": 3
   },
   "file_extension": ".py",
   "mimetype": "text/x-python",
   "name": "python",
   "nbconvert_exporter": "python",
   "pygments_lexer": "ipython3",
   "version": "3.9.10"
  }
 },
 "nbformat": 4,
 "nbformat_minor": 5
}
