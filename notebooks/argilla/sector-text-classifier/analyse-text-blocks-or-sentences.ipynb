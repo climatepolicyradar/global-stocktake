{
 "cells": [
  {
   "cell_type": "markdown",
   "id": "64fe820e",
   "metadata": {},
   "source": [
    "# Should we classify sectors at sentence or text block level? \n"
   ]
  },
  {
   "cell_type": "code",
   "execution_count": 1,
   "id": "172e3715-35fd-4d75-a50f-5a830229880a",
   "metadata": {
    "tags": []
   },
   "outputs": [
    {
     "name": "stdout",
     "output_type": "stream",
     "text": [
      "Requirement already satisfied: argilla in /Users/kalyan/Library/Caches/pypoetry/virtualenvs/experiment-template-Q6O6vM4r-py3.9/lib/python3.9/site-packages (1.6.0)\n",
      "Requirement already satisfied: monotonic in /Users/kalyan/Library/Caches/pypoetry/virtualenvs/experiment-template-Q6O6vM4r-py3.9/lib/python3.9/site-packages (from argilla) (1.6)\n",
      "Requirement already satisfied: pandas<2.0.0,>=1.0.0 in /Users/kalyan/Library/Caches/pypoetry/virtualenvs/experiment-template-Q6O6vM4r-py3.9/lib/python3.9/site-packages (from argilla) (1.5.3)\n",
      "Requirement already satisfied: backoff in /Users/kalyan/Library/Caches/pypoetry/virtualenvs/experiment-template-Q6O6vM4r-py3.9/lib/python3.9/site-packages (from argilla) (2.2.1)\n",
      "Requirement already satisfied: pydantic>=1.7.1 in /Users/kalyan/Library/Caches/pypoetry/virtualenvs/experiment-template-Q6O6vM4r-py3.9/lib/python3.9/site-packages (from argilla) (1.10.5)\n",
      "Requirement already satisfied: rich<=13.0.1 in /Users/kalyan/Library/Caches/pypoetry/virtualenvs/experiment-template-Q6O6vM4r-py3.9/lib/python3.9/site-packages (from argilla) (13.0.1)\n",
      "Requirement already satisfied: tqdm>=4.27.0 in /Users/kalyan/Library/Caches/pypoetry/virtualenvs/experiment-template-Q6O6vM4r-py3.9/lib/python3.9/site-packages (from argilla) (4.65.0)\n",
      "Requirement already satisfied: httpx<0.24,>=0.15 in /Users/kalyan/Library/Caches/pypoetry/virtualenvs/experiment-template-Q6O6vM4r-py3.9/lib/python3.9/site-packages (from argilla) (0.23.3)\n",
      "Requirement already satisfied: deprecated~=1.2.0 in /Users/kalyan/Library/Caches/pypoetry/virtualenvs/experiment-template-Q6O6vM4r-py3.9/lib/python3.9/site-packages (from argilla) (1.2.13)\n",
      "Requirement already satisfied: packaging>=20.0 in /Users/kalyan/Library/Caches/pypoetry/virtualenvs/experiment-template-Q6O6vM4r-py3.9/lib/python3.9/site-packages (from argilla) (23.0)\n",
      "Requirement already satisfied: numpy<1.24.0 in /Users/kalyan/Library/Caches/pypoetry/virtualenvs/experiment-template-Q6O6vM4r-py3.9/lib/python3.9/site-packages (from argilla) (1.23.5)\n",
      "Requirement already satisfied: wrapt<1.15,>=1.13 in /Users/kalyan/Library/Caches/pypoetry/virtualenvs/experiment-template-Q6O6vM4r-py3.9/lib/python3.9/site-packages (from argilla) (1.14.1)\n",
      "Requirement already satisfied: sniffio in /Users/kalyan/Library/Caches/pypoetry/virtualenvs/experiment-template-Q6O6vM4r-py3.9/lib/python3.9/site-packages (from httpx<0.24,>=0.15->argilla) (1.3.0)\n",
      "Requirement already satisfied: httpcore<0.17.0,>=0.15.0 in /Users/kalyan/Library/Caches/pypoetry/virtualenvs/experiment-template-Q6O6vM4r-py3.9/lib/python3.9/site-packages (from httpx<0.24,>=0.15->argilla) (0.16.3)\n",
      "Requirement already satisfied: certifi in /Users/kalyan/Library/Caches/pypoetry/virtualenvs/experiment-template-Q6O6vM4r-py3.9/lib/python3.9/site-packages (from httpx<0.24,>=0.15->argilla) (2022.12.7)\n",
      "Requirement already satisfied: rfc3986[idna2008]<2,>=1.3 in /Users/kalyan/Library/Caches/pypoetry/virtualenvs/experiment-template-Q6O6vM4r-py3.9/lib/python3.9/site-packages (from httpx<0.24,>=0.15->argilla) (1.5.0)\n",
      "Requirement already satisfied: pytz>=2020.1 in /Users/kalyan/Library/Caches/pypoetry/virtualenvs/experiment-template-Q6O6vM4r-py3.9/lib/python3.9/site-packages (from pandas<2.0.0,>=1.0.0->argilla) (2022.7.1)\n",
      "Requirement already satisfied: python-dateutil>=2.8.1 in /Users/kalyan/Library/Caches/pypoetry/virtualenvs/experiment-template-Q6O6vM4r-py3.9/lib/python3.9/site-packages (from pandas<2.0.0,>=1.0.0->argilla) (2.8.2)\n",
      "Requirement already satisfied: typing-extensions>=4.2.0 in /Users/kalyan/Library/Caches/pypoetry/virtualenvs/experiment-template-Q6O6vM4r-py3.9/lib/python3.9/site-packages (from pydantic>=1.7.1->argilla) (4.4.0)\n",
      "Requirement already satisfied: pygments<3.0.0,>=2.6.0 in /Users/kalyan/Library/Caches/pypoetry/virtualenvs/experiment-template-Q6O6vM4r-py3.9/lib/python3.9/site-packages (from rich<=13.0.1->argilla) (2.14.0)\n",
      "Requirement already satisfied: commonmark<0.10.0,>=0.9.0 in /Users/kalyan/Library/Caches/pypoetry/virtualenvs/experiment-template-Q6O6vM4r-py3.9/lib/python3.9/site-packages (from rich<=13.0.1->argilla) (0.9.1)\n",
      "Requirement already satisfied: h11<0.15,>=0.13 in /Users/kalyan/Library/Caches/pypoetry/virtualenvs/experiment-template-Q6O6vM4r-py3.9/lib/python3.9/site-packages (from httpcore<0.17.0,>=0.15.0->httpx<0.24,>=0.15->argilla) (0.14.0)\n",
      "Requirement already satisfied: anyio<5.0,>=3.0 in /Users/kalyan/Library/Caches/pypoetry/virtualenvs/experiment-template-Q6O6vM4r-py3.9/lib/python3.9/site-packages (from httpcore<0.17.0,>=0.15.0->httpx<0.24,>=0.15->argilla) (3.6.2)\n",
      "Requirement already satisfied: six>=1.5 in /Users/kalyan/Library/Caches/pypoetry/virtualenvs/experiment-template-Q6O6vM4r-py3.9/lib/python3.9/site-packages (from python-dateutil>=2.8.1->pandas<2.0.0,>=1.0.0->argilla) (1.16.0)\n",
      "Requirement already satisfied: idna in /Users/kalyan/Library/Caches/pypoetry/virtualenvs/experiment-template-Q6O6vM4r-py3.9/lib/python3.9/site-packages (from rfc3986[idna2008]<2,>=1.3->httpx<0.24,>=0.15->argilla) (3.4)\n",
      "\n",
      "\u001b[1m[\u001b[0m\u001b[34;49mnotice\u001b[0m\u001b[1;39;49m]\u001b[0m\u001b[39;49m A new release of pip is available: \u001b[0m\u001b[31;49m23.0\u001b[0m\u001b[39;49m -> \u001b[0m\u001b[32;49m23.1.1\u001b[0m\n",
      "\u001b[1m[\u001b[0m\u001b[34;49mnotice\u001b[0m\u001b[1;39;49m]\u001b[0m\u001b[39;49m To update, run: \u001b[0m\u001b[32;49mpython -m pip install --upgrade pip\u001b[0m\n"
     ]
    }
   ],
   "source": [
    "import sys\n",
    "\n",
    "!{sys.executable} -m pip install argilla"
   ]
  },
  {
   "cell_type": "code",
   "execution_count": 6,
   "id": "0c2b7c66-5158-4f99-afbb-8b962195c379",
   "metadata": {},
   "outputs": [],
   "source": [
    "import os\n",
    "import random\n",
    "\n",
    "from cpr_data_access.models import Dataset, BaseDocument\n",
    "from dotenv import load_dotenv, find_dotenv\n",
    "import argilla as rg\n",
    "from tqdm.auto import tqdm\n",
    "import spacy\n",
    "import numpy as np\n",
    "\n",
    "load_dotenv(find_dotenv(), override=True)\n",
    "nlp = spacy.load(\"en_core_web_sm\")"
   ]
  },
  {
   "cell_type": "code",
   "execution_count": 3,
   "id": "4abf8e60-a3e1-4c87-be00-086ad776f9d8",
   "metadata": {},
   "outputs": [],
   "source": [
    "# Config\n",
    "\n",
    "DATASET_NAME = \"sectors-sentence-or-text-block\""
   ]
  },
  {
   "cell_type": "code",
   "execution_count": 36,
   "id": "e7a06ec9-963a-4fcd-a937-288450b3ec38",
   "metadata": {},
   "outputs": [
    {
     "name": "stderr",
     "output_type": "stream",
     "text": [
      "/var/folders/nt/2c78pgv94312v7_mmz24h6kc0000gn/T/ipykernel_79032/1660210908.py:13: SettingWithCopyWarning: \n",
      "A value is trying to be set on a copy of a slice from a DataFrame.\n",
      "Try using .loc[row_indexer,col_indexer] = value instead\n",
      "\n",
      "See the caveats in the documentation: https://pandas.pydata.org/pandas-docs/stable/user_guide/indexing.html#returning-a-view-versus-a-copy\n",
      "  dataset_df_annotated[\"num_labels\"] = dataset_df_annotated['annotation'].apply(len)\n"
     ]
    }
   ],
   "source": [
    "# User management is done at a workspace level\n",
    "rg.init(\n",
    "    workspace=\"gst\",\n",
    "    api_key=os.environ[\"ARGILLA_API_KEY\"],\n",
    ")\n",
    "\n",
    "dataset = rg.load(DATASET_NAME).to_datasets()\n",
    "\n",
    "dataset_df = dataset.to_pandas()\n",
    "dataset_df[\"sentence_or_text_block\"] = dataset_df[\"metadata\"].apply(\n",
    "    lambda i: i[\"sentence_or_text_block\"]\n",
    ")\n",
    "\n",
    "dataset_df_annotated = dataset_df[~dataset_df[\"annotation\"].isin([None, \"none\"])]\n",
    "dataset_df_annotated[\"num_labels\"] = dataset_df_annotated[\"annotation\"].apply(len)"
   ]
  },
  {
   "cell_type": "code",
   "execution_count": 44,
   "id": "221085c1-da37-4771-8ded-fb0b7ca64604",
   "metadata": {},
   "outputs": [
    {
     "data": {
      "text/html": [
       "<div>\n",
       "<style scoped>\n",
       "    .dataframe tbody tr th:only-of-type {\n",
       "        vertical-align: middle;\n",
       "    }\n",
       "\n",
       "    .dataframe tbody tr th {\n",
       "        vertical-align: top;\n",
       "    }\n",
       "\n",
       "    .dataframe thead th {\n",
       "        text-align: right;\n",
       "    }\n",
       "</style>\n",
       "<table border=\"1\" class=\"dataframe\">\n",
       "  <thead>\n",
       "    <tr style=\"text-align: right;\">\n",
       "      <th></th>\n",
       "      <th>count</th>\n",
       "      <th>mean</th>\n",
       "      <th>std</th>\n",
       "      <th>min</th>\n",
       "      <th>25%</th>\n",
       "      <th>50%</th>\n",
       "      <th>75%</th>\n",
       "      <th>max</th>\n",
       "    </tr>\n",
       "    <tr>\n",
       "      <th>sentence_or_text_block</th>\n",
       "      <th></th>\n",
       "      <th></th>\n",
       "      <th></th>\n",
       "      <th></th>\n",
       "      <th></th>\n",
       "      <th></th>\n",
       "      <th></th>\n",
       "      <th></th>\n",
       "    </tr>\n",
       "  </thead>\n",
       "  <tbody>\n",
       "    <tr>\n",
       "      <th>sentence</th>\n",
       "      <td>5.0</td>\n",
       "      <td>1.2</td>\n",
       "      <td>0.447214</td>\n",
       "      <td>1.0</td>\n",
       "      <td>1.0</td>\n",
       "      <td>1.0</td>\n",
       "      <td>1.0</td>\n",
       "      <td>2.0</td>\n",
       "    </tr>\n",
       "    <tr>\n",
       "      <th>text_block</th>\n",
       "      <td>5.0</td>\n",
       "      <td>2.0</td>\n",
       "      <td>1.414214</td>\n",
       "      <td>1.0</td>\n",
       "      <td>1.0</td>\n",
       "      <td>1.0</td>\n",
       "      <td>3.0</td>\n",
       "      <td>4.0</td>\n",
       "    </tr>\n",
       "  </tbody>\n",
       "</table>\n",
       "</div>"
      ],
      "text/plain": [
       "                        count  mean       std  min  25%  50%  75%  max\n",
       "sentence_or_text_block                                                \n",
       "sentence                  5.0   1.2  0.447214  1.0  1.0  1.0  1.0  2.0\n",
       "text_block                5.0   2.0  1.414214  1.0  1.0  1.0  3.0  4.0"
      ]
     },
     "metadata": {},
     "output_type": "display_data"
    },
    {
     "data": {
      "text/plain": [
       "<Axes: title={'center': 'num_labels'}, xlabel='[sentence_or_text_block]'>"
      ]
     },
     "execution_count": 44,
     "metadata": {},
     "output_type": "execute_result"
    },
    {
     "data": {
      "image/png": "[encoded data removed]",
      "text/plain": [
       "<Figure size 640x480 with 1 Axes>"
      ]
     },
     "metadata": {},
     "output_type": "display_data"
    }
   ],
   "source": [
    "stats = dataset_df_annotated.groupby(\"sentence_or_text_block\")[\"num_labels\"]\n",
    "display(stats.describe())\n",
    "\n",
    "dataset_df_annotated[[\"sentence_or_text_block\", \"num_labels\"]].boxplot(\n",
    "    by=\"sentence_or_text_block\"\n",
    ")"
   ]
  },
  {
   "cell_type": "code",
   "execution_count": null,
   "id": "1e38da08-4520-4400-87b1-03ae682bc932",
   "metadata": {},
   "outputs": [],
   "source": []
  }
 ],
 "metadata": {
  "kernelspec": {
   "display_name": "Python 3 (ipykernel)",
   "language": "python",
   "name": "python3"
  },
  "language_info": {
   "codemirror_mode": {
    "name": "ipython",
    "version": 3
   },
   "file_extension": ".py",
   "mimetype": "text/x-python",
   "name": "python",
   "nbconvert_exporter": "python",
   "pygments_lexer": "ipython3",
   "version": "3.9.10"
  }
 },
 "nbformat": 4,
 "nbformat_minor": 5
}
