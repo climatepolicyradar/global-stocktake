{
 "cells": [
  {
   "cell_type": "markdown",
   "id": "b5f06671",
   "metadata": {},
   "source": [
    "# Concepts embeddings\n",
    "\n",
    "A first experiment in creating embeddings for concepts. \n",
    "\n",
    "## Approach \n",
    "\n",
    "1. count the number of times each concept appears in a document, and assemble this in a matrix DxC where D are document rows and C are concept columns \n",
    "2. normalise matrix row-wise to get proportions per document\n",
    "3. run clustering model\n",
    "\n",
    "## Results\n",
    "\n",
    "Representations of documents by the concepts that contain them seems promising - a simple representation produces seemingly meaningful clusters\n",
    "\n",
    "## Future improvements\n",
    "\n",
    "* a more elaborate clustering approach\n",
    "* more investigation into normalising by *overall concept popularity* to even out the clusters (i.e. should more clusters contain more common concepts?)\n",
    "* better cluster labelling: at the moment clusters are labelled by the top 5 occurring concepts in them - this could be improved by e.g. using a dropoff or setting a minimum number of occurrences of a concept\n",
    "* creating at a confusion matrix to identify whether concept co-occurrences are due to the concepts getting confused by the classifiers\n",
    "* looking at GST explorer search logs to see how the clusters relate to the common groups of filters users are selecting\n",
    "* finding representative text blocks for a cluster"
   ]
  },
  {
   "cell_type": "code",
   "execution_count": null,
   "id": "25ad8744",
   "metadata": {},
   "outputs": [],
   "source": [
    "import sys\n",
    "\n",
    "!{sys.executable} -m pip install plotly wikipedia"
   ]
  },
  {
   "cell_type": "code",
   "execution_count": 143,
   "id": "1f27c4f1-3b1e-453a-922f-95caf9298a4d",
   "metadata": {},
   "outputs": [],
   "source": [
    "import sys\n",
    "import os\n",
    "from pathlib import Path\n",
    "import itertools\n",
    "from collections import Counter\n",
    "from typing import Optional\n",
    "\n",
    "import pandas as pd\n",
    "import matplotlib.pyplot as plt\n",
    "import wikipedia\n",
    "from tqdm.auto import tqdm\n",
    "from sklearn.decomposition import PCA\n",
    "from sklearn.cluster import KMeans, AgglomerativeClustering\n",
    "import plotly.express as px\n",
    "\n",
    "sys.path.append(\"../../..\")\n",
    "\n",
    "from src.opensearch.index_data import get_dataset_and_filter_values"
   ]
  },
  {
   "cell_type": "code",
   "execution_count": 3,
   "id": "9d3bfc46-c4c9-4210-9efe-e1c678dcb3f1",
   "metadata": {},
   "outputs": [
    {
     "name": "stderr",
     "output_type": "stream",
     "text": [
      "INFO:src.opensearch.index_data:Loading scraper CSV\n",
      "INFO:src.opensearch.index_data:Loading dataset of parsed documents\n"
     ]
    },
    {
     "data": {
      "application/vnd.jupyter.widget-view+json": {
       "model_id": "cc0d83e2220940bb8f213a471e4a234c",
       "version_major": 2,
       "version_minor": 0
      },
      "text/plain": [
       "  0%|          | 0/1697 [00:00<?, ?it/s]"
      ]
     },
     "metadata": {},
     "output_type": "display_data"
    },
    {
     "data": {
      "application/vnd.jupyter.widget-view+json": {
       "model_id": "1f3858f362ba401fb4b687c8d1aa3a28",
       "version_major": 2,
       "version_minor": 0
      },
      "text/plain": [
       "  0%|          | 0/1679 [00:00<?, ?it/s]"
      ]
     },
     "metadata": {},
     "output_type": "display_data"
    },
    {
     "name": "stderr",
     "output_type": "stream",
     "text": [
      "INFO:src.opensearch.index_data:Loaded 1679 documents. 0 documents failed to load.\n",
      "INFO:src.opensearch.index_data:Loading spans from concepts directory\n",
      "INFO:src.opensearch.index_data:Adding spans to dataset\n"
     ]
    },
    {
     "data": {
      "application/vnd.jupyter.widget-view+json": {
       "model_id": "745ee81f4cc54c8782f8a8520ce7b4b9",
       "version_major": 2,
       "version_minor": 0
      },
      "text/plain": [
       "0docs [00:00, ?docs/s]"
      ]
     },
     "metadata": {},
     "output_type": "display_data"
    }
   ],
   "source": [
    "dataset, _ = get_dataset_and_filter_values(\n",
    "    os.environ[\"DOCS_DIR_GST\"], \n",
    "    Path(\"/Users/kalyan/Documents/CPR/unfccc-global-stocktake-documents/CPR_UNFCCC_MASTER.csv\"),\n",
    "    Path(\"../../../concepts/\")\n",
    ")KMeans"
   ]
  },
  {
   "cell_type": "code",
   "execution_count": 23,
   "id": "aac4acb1-5ef0-41ef-a092-a33be2b499a3",
   "metadata": {},
   "outputs": [
    {
     "data": {
      "application/vnd.jupyter.widget-view+json": {
       "model_id": "4e94e1adb77e4e43926fee045ed5f056",
       "version_major": 2,
       "version_minor": 0
      },
      "text/plain": [
       "  0%|          | 0/1679 [00:00<?, ?it/s]"
      ]
     },
     "metadata": {},
     "output_type": "display_data"
    }
   ],
   "source": [
    "# create flat data structure\n",
    "flat_data = []\n",
    "\n",
    "for document in tqdm(dataset.documents):\n",
    "    doc_dict = document.dict(\n",
    "        exclude={\n",
    "            \"text_blocks\",\n",
    "            \"_text_block_idx_hash_map\",\n",
    "            \"page_metadata\",\n",
    "            \"document_metadata\",\n",
    "        }\n",
    "    )\n",
    "    metadata_dict = document.document_metadata.dict()\n",
    "    if document.text_blocks:\n",
    "        spans = []\n",
    "\n",
    "        for block in document.text_blocks:\n",
    "            spans.extend(block.spans)\n",
    "\n",
    "        span_types = [f\"SPAN: {span.type}\" for span in spans]\n",
    "\n",
    "    else:\n",
    "        span_types = []\n",
    "\n",
    "    flat_data.append(doc_dict | metadata_dict | dict(Counter(span_types)))"
   ]
  },
  {
   "cell_type": "code",
   "execution_count": 34,
   "id": "86ca1af3-c54a-4280-a60f-3f423f4b0033",
   "metadata": {},
   "outputs": [
    {
     "data": {
      "text/html": [
       "<div>\n",
       "<style scoped>\n",
       "    .dataframe tbody tr th:only-of-type {\n",
       "        vertical-align: middle;\n",
       "    }\n",
       "\n",
       "    .dataframe tbody tr th {\n",
       "        vertical-align: top;\n",
       "    }\n",
       "\n",
       "    .dataframe thead th {\n",
       "        text-align: right;\n",
       "    }\n",
       "</style>\n",
       "<table border=\"1\" class=\"dataframe\">\n",
       "  <thead>\n",
       "    <tr style=\"text-align: right;\">\n",
       "      <th></th>\n",
       "      <th>document_id</th>\n",
       "      <th>document_name</th>\n",
       "      <th>document_source_url</th>\n",
       "      <th>document_content_type</th>\n",
       "      <th>document_md5_sum</th>\n",
       "      <th>languages</th>\n",
       "      <th>translated</th>\n",
       "      <th>has_valid_text</th>\n",
       "      <th>source</th>\n",
       "      <th>author</th>\n",
       "      <th>...</th>\n",
       "      <th>SPAN: Technologies (Adaptation) – Buildings And Homes Technologies</th>\n",
       "      <th>SPAN: Renewables – Renewable Hydrogen</th>\n",
       "      <th>SPAN: Vulnerable Groups – Migrants</th>\n",
       "      <th>SPAN: Deforestation – Woodlands</th>\n",
       "      <th>SPAN: Deforestation – Revegetation</th>\n",
       "      <th>SPAN: Technologies (Mitigation) – Industrial Technologies</th>\n",
       "      <th>SPAN: Technologies (Adaptation) – Transport Technologies</th>\n",
       "      <th>SPAN: Equity And Just Transition – Needs-Based Approach</th>\n",
       "      <th>SPAN: Vulnerable Groups – People With Chronic Diseases</th>\n",
       "      <th>SPAN: Technologies (Adaptation) – Energy And Power Technologies</th>\n",
       "    </tr>\n",
       "  </thead>\n",
       "  <tbody>\n",
       "    <tr>\n",
       "      <th>0</th>\n",
       "      <td>UNFCCC.party.589.0</td>\n",
       "      <td>Guyana First NDC</td>\n",
       "      <td>https://unfccc.int/sites/default/files/NDC/202...</td>\n",
       "      <td>application/pdf</td>\n",
       "      <td>b28e637a9218a83451cdc7c4da287176</td>\n",
       "      <td>[en]</td>\n",
       "      <td>False</td>\n",
       "      <td>True</td>\n",
       "      <td>GST-related documents</td>\n",
       "      <td>[Guyana]</td>\n",
       "      <td>...</td>\n",
       "      <td>0.0</td>\n",
       "      <td>0.0</td>\n",
       "      <td>0.0</td>\n",
       "      <td>0.0</td>\n",
       "      <td>0.0</td>\n",
       "      <td>0.0</td>\n",
       "      <td>0.0</td>\n",
       "      <td>0.0</td>\n",
       "      <td>0.0</td>\n",
       "      <td>0.0</td>\n",
       "    </tr>\n",
       "    <tr>\n",
       "      <th>1</th>\n",
       "      <td>UNFCCC.non-party.1328.0</td>\n",
       "      <td>Technical analysis of the first biennial updat...</td>\n",
       "      <td>https://unfccc.int/sites/default/files/resourc...</td>\n",
       "      <td>application/pdf</td>\n",
       "      <td>4e6f0eec934e75d5b6dddd51d38755f0</td>\n",
       "      <td>[en]</td>\n",
       "      <td>False</td>\n",
       "      <td>True</td>\n",
       "      <td>GST-related documents</td>\n",
       "      <td>[UNFCCC Secretariat]</td>\n",
       "      <td>...</td>\n",
       "      <td>0.0</td>\n",
       "      <td>0.0</td>\n",
       "      <td>0.0</td>\n",
       "      <td>0.0</td>\n",
       "      <td>0.0</td>\n",
       "      <td>0.0</td>\n",
       "      <td>0.0</td>\n",
       "      <td>0.0</td>\n",
       "      <td>0.0</td>\n",
       "      <td>0.0</td>\n",
       "    </tr>\n",
       "    <tr>\n",
       "      <th>2</th>\n",
       "      <td>UNFCCC.party.1435.0</td>\n",
       "      <td>The government of Japan Submission to the Tech...</td>\n",
       "      <td>https://unfccc.int/sites/default/files/resourc...</td>\n",
       "      <td>application/pdf</td>\n",
       "      <td>6689b5dd5b31af0446c9a3d0b0b23edc</td>\n",
       "      <td>[en]</td>\n",
       "      <td>False</td>\n",
       "      <td>True</td>\n",
       "      <td>GST-related documents</td>\n",
       "      <td>[Japan]</td>\n",
       "      <td>...</td>\n",
       "      <td>0.0</td>\n",
       "      <td>0.0</td>\n",
       "      <td>0.0</td>\n",
       "      <td>0.0</td>\n",
       "      <td>0.0</td>\n",
       "      <td>0.0</td>\n",
       "      <td>0.0</td>\n",
       "      <td>0.0</td>\n",
       "      <td>0.0</td>\n",
       "      <td>0.0</td>\n",
       "    </tr>\n",
       "    <tr>\n",
       "      <th>3</th>\n",
       "      <td>UNFCCC.party.956.0</td>\n",
       "      <td>NIS to BUR3. Republic of Moldova.</td>\n",
       "      <td>https://unfccc.int/sites/default/files/resourc...</td>\n",
       "      <td>application/pdf</td>\n",
       "      <td>0918cc76405ed5ba820a5c8d0cab3f5b</td>\n",
       "      <td>[en]</td>\n",
       "      <td>False</td>\n",
       "      <td>True</td>\n",
       "      <td>GST-related documents</td>\n",
       "      <td>[Moldova]</td>\n",
       "      <td>...</td>\n",
       "      <td>0.0</td>\n",
       "      <td>0.0</td>\n",
       "      <td>0.0</td>\n",
       "      <td>0.0</td>\n",
       "      <td>0.0</td>\n",
       "      <td>0.0</td>\n",
       "      <td>0.0</td>\n",
       "      <td>0.0</td>\n",
       "      <td>0.0</td>\n",
       "      <td>0.0</td>\n",
       "    </tr>\n",
       "    <tr>\n",
       "      <th>4</th>\n",
       "      <td>UNFCCC.non-party.191.0</td>\n",
       "      <td>CAD2.0 Technical Dialogue inputs for the GST: ...</td>\n",
       "      <td>https://unfccc.int/sites/default/files/resourc...</td>\n",
       "      <td>application/pdf</td>\n",
       "      <td>25a1e936e611a092c15ed7bbb7f4e239</td>\n",
       "      <td>[en]</td>\n",
       "      <td>False</td>\n",
       "      <td>True</td>\n",
       "      <td>GST-related documents</td>\n",
       "      <td>[CAD2]</td>\n",
       "      <td>...</td>\n",
       "      <td>0.0</td>\n",
       "      <td>0.0</td>\n",
       "      <td>0.0</td>\n",
       "      <td>0.0</td>\n",
       "      <td>0.0</td>\n",
       "      <td>0.0</td>\n",
       "      <td>0.0</td>\n",
       "      <td>0.0</td>\n",
       "      <td>0.0</td>\n",
       "      <td>0.0</td>\n",
       "    </tr>\n",
       "  </tbody>\n",
       "</table>\n",
       "<p>5 rows × 118 columns</p>\n",
       "</div>"
      ],
      "text/plain": [
       "               document_id                                      document_name  \\\n",
       "0       UNFCCC.party.589.0                                   Guyana First NDC   \n",
       "1  UNFCCC.non-party.1328.0  Technical analysis of the first biennial updat...   \n",
       "2      UNFCCC.party.1435.0  The government of Japan Submission to the Tech...   \n",
       "3       UNFCCC.party.956.0                  NIS to BUR3. Republic of Moldova.   \n",
       "4   UNFCCC.non-party.191.0  CAD2.0 Technical Dialogue inputs for the GST: ...   \n",
       "\n",
       "                                 document_source_url document_content_type  \\\n",
       "0  https://unfccc.int/sites/default/files/NDC/202...       application/pdf   \n",
       "1  https://unfccc.int/sites/default/files/resourc...       application/pdf   \n",
       "2  https://unfccc.int/sites/default/files/resourc...       application/pdf   \n",
       "3  https://unfccc.int/sites/default/files/resourc...       application/pdf   \n",
       "4  https://unfccc.int/sites/default/files/resourc...       application/pdf   \n",
       "\n",
       "                   document_md5_sum languages  translated  has_valid_text  \\\n",
       "0  b28e637a9218a83451cdc7c4da287176      [en]       False            True   \n",
       "1  4e6f0eec934e75d5b6dddd51d38755f0      [en]       False            True   \n",
       "2  6689b5dd5b31af0446c9a3d0b0b23edc      [en]       False            True   \n",
       "3  0918cc76405ed5ba820a5c8d0cab3f5b      [en]       False            True   \n",
       "4  25a1e936e611a092c15ed7bbb7f4e239      [en]       False            True   \n",
       "\n",
       "                  source                author  ...  \\\n",
       "0  GST-related documents              [Guyana]  ...   \n",
       "1  GST-related documents  [UNFCCC Secretariat]  ...   \n",
       "2  GST-related documents               [Japan]  ...   \n",
       "3  GST-related documents             [Moldova]  ...   \n",
       "4  GST-related documents                [CAD2]  ...   \n",
       "\n",
       "  SPAN: Technologies (Adaptation) – Buildings And Homes Technologies  \\\n",
       "0                                                0.0                   \n",
       "1                                                0.0                   \n",
       "2                                                0.0                   \n",
       "3                                                0.0                   \n",
       "4                                                0.0                   \n",
       "\n",
       "   SPAN: Renewables – Renewable Hydrogen SPAN: Vulnerable Groups – Migrants  \\\n",
       "0                                    0.0                                0.0   \n",
       "1                                    0.0                                0.0   \n",
       "2                                    0.0                                0.0   \n",
       "3                                    0.0                                0.0   \n",
       "4                                    0.0                                0.0   \n",
       "\n",
       "  SPAN: Deforestation – Woodlands SPAN: Deforestation – Revegetation  \\\n",
       "0                             0.0                                0.0   \n",
       "1                             0.0                                0.0   \n",
       "2                             0.0                                0.0   \n",
       "3                             0.0                                0.0   \n",
       "4                             0.0                                0.0   \n",
       "\n",
       "  SPAN: Technologies (Mitigation) – Industrial Technologies  \\\n",
       "0                                                0.0          \n",
       "1                                                0.0          \n",
       "2                                                0.0          \n",
       "3                                                0.0          \n",
       "4                                                0.0          \n",
       "\n",
       "   SPAN: Technologies (Adaptation) – Transport Technologies  \\\n",
       "0                                                0.0          \n",
       "1                                                0.0          \n",
       "2                                                0.0          \n",
       "3                                                0.0          \n",
       "4                                                0.0          \n",
       "\n",
       "   SPAN: Equity And Just Transition – Needs-Based Approach  \\\n",
       "0                                                0.0         \n",
       "1                                                0.0         \n",
       "2                                                0.0         \n",
       "3                                                0.0         \n",
       "4                                                0.0         \n",
       "\n",
       "  SPAN: Vulnerable Groups – People With Chronic Diseases  \\\n",
       "0                                                0.0       \n",
       "1                                                0.0       \n",
       "2                                                0.0       \n",
       "3                                                0.0       \n",
       "4                                                0.0       \n",
       "\n",
       "   SPAN: Technologies (Adaptation) – Energy And Power Technologies  \n",
       "0                                                0.0                \n",
       "1                                                0.0                \n",
       "2                                                0.0                \n",
       "3                                                0.0                \n",
       "4                                                0.0                \n",
       "\n",
       "[5 rows x 118 columns]"
      ]
     },
     "execution_count": 34,
     "metadata": {},
     "output_type": "execute_result"
    }
   ],
   "source": [
    "flat_df = pd.DataFrame.from_records(flat_data).fillna(0)\n",
    "flat_df.head()"
   ]
  },
  {
   "cell_type": "code",
   "execution_count": 66,
   "id": "4117f55c-3f14-4438-97a6-a7dfb667a23d",
   "metadata": {},
   "outputs": [],
   "source": [
    "flat_df[\"document_type_flat\"] = flat_df[\"types\"].apply(lambda i: \", \".join(i))\n",
    "flat_df[\"author_flat\"] = flat_df[\"author\"].apply(lambda i: \",\".join(i))"
   ]
  },
  {
   "cell_type": "code",
   "execution_count": 244,
   "id": "c8e6ed25-7df1-43e3-85ce-5fe9a2a2eb7b",
   "metadata": {},
   "outputs": [],
   "source": [
    "vector_df = flat_df[[col for col in flat_df.columns if col.startswith(\"SPAN:\")]]\n",
    "vectors_norm = vector_df.copy()\n",
    "\n",
    "# normalise across each column - for tf-idf-like representation\n",
    "# vectors_norm = vectors_norm.div(vector_df.sum(axis=0), axis=1).fillna(0)\n",
    "\n",
    "# normalise across each row - for unit norm vectors\n",
    "vectors_norm = vectors_norm.div(vector_df.sum(axis=1), axis=0).fillna(0)\n",
    "\n",
    "# convert to numpy array\n",
    "vectors_norm_array = vectors_norm.values\n",
    "\n",
    "pca = PCA(n_components=2)\n",
    "\n",
    "projection_2d = pca.fit_transform(vectors_norm_array)\n",
    "\n",
    "flat_df[\"pca_x\"] = projection_2d[:, 0]\n",
    "flat_df[\"pca_y\"] = projection_2d[:, 1]"
   ]
  },
  {
   "cell_type": "code",
   "execution_count": 252,
   "id": "b39d0779-66fb-4642-951f-fd654a1306e5",
   "metadata": {},
   "outputs": [
    {
     "name": "stderr",
     "output_type": "stream",
     "text": [
      "/Users/kalyan/Library/Caches/pypoetry/virtualenvs/experiment-template-Q6O6vM4r-py3.9/lib/python3.9/site-packages/sklearn/cluster/_kmeans.py:870: FutureWarning:\n",
      "\n",
      "The default value of `n_init` will change from 10 to 'auto' in 1.4. Set the value of `n_init` explicitly to suppress the warning\n",
      "\n"
     ]
    }
   ],
   "source": [
    "cluster_model = KMeans(n_clusters=18, random_state=42).fit(vectors_norm_array)\n",
    "# cluster_model = AgglomerativeClustering(n_clusters=18).fit(vectors_norm)\n",
    "flat_df[\"cluster\"] = cluster_model.labels_\n",
    "vectors_norm[\"cluster\"] = cluster_model.labels_\n",
    "\n",
    "# Get top N types per cluster\n",
    "cluster_means = vectors_norm.groupby(\"cluster\").mean()\n",
    "\n",
    "SPAN_COLS = [col for col in flat_df.columns if col.startswith(\"SPAN:\")]\n",
    "TOP_N_TYPES = 5\n",
    "\n",
    "cluster_top_types_map = dict()\n",
    "\n",
    "for cluster, row in cluster_means.iterrows():\n",
    "    top_types = row[SPAN_COLS].nlargest(TOP_N_TYPES).to_dict()\n",
    "    top_types = {t.removeprefix(\"SPAN: \"): v for t, v in top_types.items()}\n",
    "\n",
    "    cluster_top_types_map[cluster] = top_types\n",
    "\n",
    "flat_df[\"cluster_top_types\"] = (\n",
    "    flat_df[\"cluster\"].map(cluster_top_types_map).apply(lambda i: \"\\n\".join(i))\n",
    ")\n",
    "\n",
    "cluster_sizes = flat_df.groupby(\"cluster\").count()[\"document_id\"]"
   ]
  },
  {
   "cell_type": "code",
   "execution_count": 253,
   "id": "0779ac8a-113a-4770-a374-0c5395dbf025",
   "metadata": {},
   "outputs": [
    {
     "data": {
      "application/vnd.plotly.v1+json": {
       "config": {
        "plotlyServerURL": "https://plot.ly"
       },
       "data": [
        {
         "customdata": [
          [
           "Guyana"
          ],
          [
           "UNFCCC Secretariat"
          ],
          [
           "Japan"
          ],
          [
           "Moldova"
          ],
          [
           "CAD2"
          ],
          [
           "UNFCCC Secretariat"
          ],
          [
           "IPCC"
          ],
          [
           "UNFCCC Secretariat"
          ],
          [
           "UNFCCC Secretariat"
          ],
          [
           "Liberia"
          ],
          [
           "Tajikistan"
          ],
          [
           "International Network for Sustainable Energy (INFORSE)"
          ],
          [
           "Palestine"
          ],
          [
           "Serbia"
          ],
          [
           "Barbados"
          ],
          [
           "Kyrgyzstan"
          ],
          [
           "IPCC"
          ],
          [
           "UNFCCC Secretariat"
          ],
          [
           "Honduras"
          ],
          [
           "UNFCCC Secretariat"
          ],
          [
           "Bulgaria"
          ],
          [
           "Fiji"
          ],
          [
           "Climate Heritage Network"
          ],
          [
           "New Zealand"
          ],
          [
           "Monaco"
          ],
          [
           "Switzerland"
          ],
          [
           "Marshall Islands"
          ],
          [
           "Uruguay"
          ],
          [
           "Nigeria"
          ],
          [
           "Montenegro"
          ],
          [
           "UNFCCC Secretariat"
          ],
          [
           "UNFCCC Secretariat"
          ],
          [
           "Climate Action Network International (CAN)"
          ],
          [
           "Nicaragua"
          ],
          [
           "United Kingdom"
          ],
          [
           "Sudan"
          ],
          [
           "Mongolia"
          ],
          [
           "UNFCCC Secretariat"
          ],
          [
           "UNFCCC Least Developed Countries Expert Group"
          ],
          [
           "Partnership on Sustainable,Low Carbon Transport (SLOCAT)"
          ],
          [
           "Niger"
          ],
          [
           "Bahamas,The"
          ],
          [
           "Ireland"
          ],
          [
           "Liechtenstein"
          ],
          [
           "UNFCCC Secretariat"
          ],
          [
           "United States of America"
          ],
          [
           "Brazil"
          ],
          [
           "India"
          ],
          [
           "Guinea-Bissau"
          ],
          [
           "UNFCCC Secretariat"
          ],
          [
           "Lebanon"
          ],
          [
           "IPCC"
          ],
          [
           "Mexico"
          ],
          [
           "Marrakech Partnership"
          ],
          [
           "New Zealand"
          ],
          [
           "European Centre for Medium-Range Weather Forecasts (ECMWF)"
          ],
          [
           "United States of America"
          ],
          [
           "Palestine"
          ],
          [
           "UNFCCC Secretariat"
          ],
          [
           "UNFCCC Secretariat"
          ],
          [
           "North Macedonia (Republic of North Macedonia)"
          ],
          [
           "Tajikistan"
          ],
          [
           "Ukraine"
          ],
          [
           "Adaptation Research Alliance (ARA)"
          ],
          [
           "Denmark"
          ],
          [
           "Jamaica"
          ],
          [
           "UNFCCC Secretariat"
          ],
          [
           "Slovakia"
          ],
          [
           "Australia"
          ],
          [
           "International Development Law Organization (IDLO)"
          ],
          [
           "Norway"
          ],
          [
           "Institute for Global Environmental Strategies (IGES),Japan Aerospace Exploration Agency (JAXA),ANA Holdings INC (ANAHD)"
          ],
          [
           "Australia"
          ],
          [
           "Haiti"
          ],
          [
           "Marrakech Partnership"
          ],
          [
           "Hungary"
          ],
          [
           "Bosnia and Herzegovina"
          ],
          [
           "UNFCCC Secretariat"
          ],
          [
           "Kenya"
          ],
          [
           "Air Transport Action Group (ATAG)"
          ],
          [
           "Japan"
          ],
          [
           "Belize"
          ],
          [
           "Belgium"
          ],
          [
           "Venezuela"
          ],
          [
           "Saint Lucia"
          ],
          [
           "Tonga"
          ],
          [
           "Malawi"
          ],
          [
           "Wuppertal Institute on behalf of the NDC ASPECTS Project"
          ],
          [
           "Austria"
          ],
          [
           "Kiribati"
          ],
          [
           "Brazil"
          ],
          [
           "Uganda"
          ],
          [
           "Afghanistan"
          ],
          [
           "Iberdrola"
          ],
          [
           "Malawi"
          ],
          [
           "High-Level Champions for Climate Action"
          ],
          [
           "UNFCCC Secretariat"
          ],
          [
           "Belize"
          ],
          [
           "Japan"
          ],
          [
           "Dominican Republic"
          ],
          [
           "International Transport Forum (ITF)"
          ],
          [
           "Samoa"
          ],
          [
           "North Macedonia (Republic of North Macedonia)"
          ],
          [
           "Mozambique"
          ],
          [
           "UNFCCC Secretariat"
          ],
          [
           "IPCC"
          ],
          [
           "Marshall Islands"
          ],
          [
           "Paris Reinforce,University of Cambridge"
          ],
          [
           "Kyrgyzstan"
          ],
          [
           "UNFCCC Katowice Committee of Experts on Impact of Implementation of Response Measures"
          ],
          [
           "IPCC"
          ],
          [
           "National Urban Mobility Policies and Investment Programmes in support of Climate Commitments in Latin America and the Caribbean"
          ],
          [
           "Iceland"
          ],
          [
           "Timor-Leste"
          ],
          [
           "Australia"
          ],
          [
           "Rwanda"
          ],
          [
           "Uzbekistan"
          ],
          [
           "Canada"
          ],
          [
           "UNFCCC Secretariat"
          ],
          [
           "Zimbabwe"
          ],
          [
           "Slovenia"
          ],
          [
           "South Korea"
          ],
          [
           "International Union for Conservation of Nature (IUCN)"
          ],
          [
           "BirdLife International"
          ],
          [
           "Chad"
          ],
          [
           "Cabo Verde"
          ],
          [
           "Congo"
          ],
          [
           "Woodwell Climate Research Center,Arctic Initiative at Harvard Kennedy School,Alaska Institute for Justice (AIJ)"
          ],
          [
           "China"
          ],
          [
           "France"
          ],
          [
           "African Development Bank (AfDB)"
          ],
          [
           "Costa Rica"
          ],
          [
           "El Salvador"
          ],
          [
           "International Institute for Applied Systems Analysis (IIASA)"
          ],
          [
           "China"
          ],
          [
           "Greece"
          ],
          [
           "Sierra Leone"
          ],
          [
           "Angola"
          ],
          [
           "Guatemala"
          ],
          [
           "Suriname"
          ],
          [
           "Equatorial Guinea"
          ],
          [
           "Costa Rica"
          ],
          [
           "France"
          ],
          [
           "China"
          ],
          [
           "Slovakia"
          ],
          [
           "Sweden"
          ],
          [
           "Burundi"
          ],
          [
           "University of Southern Denmark (SDU)"
          ],
          [
           "Chile"
          ],
          [
           "Fossil Fuel Non-Proliferation Treaty Initiative"
          ],
          [
           "Egypt"
          ],
          [
           "Croatia"
          ],
          [
           "UNFCCC Authors"
          ],
          [
           "Finland"
          ],
          [
           "UNFCCC Secretariat"
          ],
          [
           "Switzerland"
          ],
          [
           "Algeria"
          ],
          [
           "Chile"
          ],
          [
           "Kazakhstan"
          ],
          [
           "Yemen"
          ],
          [
           "Russia"
          ],
          [
           "Turkmenistan"
          ],
          [
           "Universidad Politécnica de Cataluña (UPC)"
          ],
          [
           "Australia"
          ],
          [
           "Marshall Islands"
          ],
          [
           "Spain"
          ],
          [
           "Climate Equity Reference Project Canada (CERP)"
          ],
          [
           "UNFCCC Secretariat"
          ],
          [
           "Group of 77 and China,Pakistan"
          ],
          [
           "European Union"
          ],
          [
           "Paraguay"
          ],
          [
           "International Institute for Sustainable Development (IISD)"
          ],
          [
           "Saudi Arabia"
          ],
          [
           "Cameroon"
          ],
          [
           "Ghana"
          ],
          [
           "Panama"
          ],
          [
           "Cuba"
          ],
          [
           "Uruguay"
          ],
          [
           "UNFCCC Secretariat"
          ],
          [
           "Gabon"
          ],
          [
           "Armenia"
          ],
          [
           "External organization authors"
          ],
          [
           "Maldives"
          ],
          [
           "Peru"
          ],
          [
           "Rwanda"
          ],
          [
           "Singapore"
          ],
          [
           "Albania"
          ],
          [
           "South Africa"
          ],
          [
           "Tunisia"
          ],
          [
           "Argentina"
          ],
          [
           "France"
          ],
          [
           "Vietnam"
          ],
          [
           "Georgia"
          ],
          [
           "Canada"
          ],
          [
           "Albania"
          ],
          [
           "University of Exeter"
          ],
          [
           "European Union"
          ],
          [
           "Colombia"
          ],
          [
           "Institute for Sustainable Development and International Relations (IDDRI)"
          ],
          [
           "IPCC"
          ],
          [
           "Oman"
          ],
          [
           "Turkmenistan"
          ],
          [
           "UNFCCC Secretariat"
          ],
          [
           "Malta"
          ],
          [
           "UNFCCC Secretariat"
          ],
          [
           "UNFCCC Secretariat"
          ],
          [
           "International Platform on Adaptation Metrics (IPAM)"
          ],
          [
           "Jordan"
          ],
          [
           "Eritrea"
          ],
          [
           "Czechia"
          ],
          [
           "Russia"
          ],
          [
           "Poems For Parliament"
          ],
          [
           "Sao Tome and Principe"
          ],
          [
           "UNFCCC Secretariat"
          ],
          [
           "Institute for Governance and Sustainable Development (IGSD)"
          ],
          [
           "Papua New Guinea"
          ],
          [
           "UNFCCC Secretariat"
          ],
          [
           "Côte d'Ivoire"
          ],
          [
           "Institute for Sustainable Development and International Relations (IDDRI)"
          ],
          [
           "External organization authors"
          ],
          [
           "Finland"
          ],
          [
           "Switzerland"
          ],
          [
           "Poland"
          ],
          [
           "World Wide Fund for Nature (WWF)"
          ],
          [
           "Congo"
          ],
          [
           "Algeria"
          ],
          [
           "Guatemala"
          ],
          [
           "Chad"
          ],
          [
           "Senegal"
          ],
          [
           "Climate Analytics"
          ],
          [
           "Libelula Instituto para el Cambio Global"
          ],
          [
           "Burkina Faso"
          ],
          [
           "Tuvalu"
          ],
          [
           "Chile"
          ],
          [
           "International Labour Organization (ILO)"
          ],
          [
           "China"
          ],
          [
           "France"
          ],
          [
           "Costa Rica"
          ],
          [
           "Indonesia"
          ],
          [
           "Seychelles"
          ],
          [
           "Angola"
          ],
          [
           "Sweden"
          ],
          [
           "Antigua and Barbuda"
          ],
          [
           "Zimbabwe"
          ],
          [
           "Solomon Islands"
          ],
          [
           "South Korea"
          ],
          [
           "Croatia"
          ],
          [
           "Egypt"
          ],
          [
           "United Nations Environment Programme (UNEP)"
          ],
          [
           "Central African Republic"
          ],
          [
           "Grenada"
          ],
          [
           "Switzerland"
          ],
          [
           "Cambodia"
          ],
          [
           "We Mean Business Coalition"
          ],
          [
           "Malta"
          ],
          [
           "Australia"
          ],
          [
           "UNFCCC Secretariat"
          ],
          [
           "France"
          ],
          [
           "UNFCCC Secretariat"
          ],
          [
           "Kazakhstan"
          ],
          [
           "Equatorial Guinea"
          ],
          [
           "Czechia"
          ],
          [
           "UNFCCC Secretariat"
          ],
          [
           "Sao Tome and Principe"
          ],
          [
           "Papua New Guinea"
          ],
          [
           "South Africa"
          ],
          [
           "Mali"
          ],
          [
           "Argentina"
          ],
          [
           "Global Climate and Health Alliance (GCHA)"
          ],
          [
           "Slovenia"
          ],
          [
           "IPCC"
          ],
          [
           "Georgia"
          ],
          [
           "Canada"
          ],
          [
           "European Union"
          ],
          [
           "Colombia"
          ],
          [
           "Philippines"
          ],
          [
           "Mediators Beyond Borders International (MBBI)"
          ],
          [
           "Cuba"
          ],
          [
           "Guatemala"
          ],
          [
           "UNFCCC Secretariat"
          ],
          [
           "Romania"
          ],
          [
           "Japan"
          ],
          [
           "South Africa"
          ],
          [
           "Gabon"
          ],
          [
           "UNFCCC Secretariat"
          ],
          [
           "Malaysia"
          ],
          [
           "Palau"
          ],
          [
           "Peru"
          ],
          [
           "Ipieca"
          ],
          [
           "Albania"
          ],
          [
           "Resources for the Future (RFF)"
          ],
          [
           "Climate Equity Reference Project Canada (CERP)"
          ],
          [
           "UNFCCC Secretariat"
          ],
          [
           "Turkey"
          ],
          [
           "Australia"
          ],
          [
           "Spain"
          ],
          [
           "IPCC"
          ],
          [
           "International Cryosphere Climate Initiative (ICCI),International Centre for Integrated Mountain Development (ICIMOD)"
          ],
          [
           "UNFCCC Secretariat"
          ],
          [
           "European Union"
          ],
          [
           "Cameroon"
          ],
          [
           "Germany"
          ],
          [
           "Mexico"
          ],
          [
           "UNFCCC Secretariat"
          ],
          [
           "Marrakech Partnership"
          ],
          [
           "New Zealand"
          ],
          [
           "Brazil"
          ],
          [
           "India"
          ],
          [
           "UNFCCC Secretariat"
          ],
          [
           "Guinea-Bissau"
          ],
          [
           "IPCC"
          ],
          [
           "Latvia"
          ],
          [
           "Mozambique"
          ],
          [
           "UNFCCC Secretariat"
          ],
          [
           "Niue"
          ],
          [
           "Micronesia"
          ],
          [
           "Palestine"
          ],
          [
           "Tajikistan"
          ],
          [
           "United Kingdom"
          ],
          [
           "Sudan"
          ],
          [
           "Food and Agriculture Organization of the United Nations (FAO)"
          ],
          [
           "Fiji"
          ],
          [
           "UNFCCC Secretariat"
          ],
          [
           "UNFCCC Secretariat"
          ],
          [
           "Honduras"
          ],
          [
           "Uruguay"
          ],
          [
           "Sri Lanka"
          ],
          [
           "Bahamas,The"
          ],
          [
           "Ireland"
          ],
          [
           "National Adaptation Plan (NAP) Global Network"
          ],
          [
           "Liechtenstein"
          ],
          [
           "Timor-Leste"
          ],
          [
           "Switzerland"
          ],
          [
           "UNFCCC Secretariat"
          ],
          [
           "UNFCCC Secretariat"
          ],
          [
           "UNFCCC Secretariat"
          ],
          [
           "Montenegro"
          ],
          [
           "UNFCCC Secretariat"
          ],
          [
           "UNFCCC Technology Executive Committee"
          ],
          [
           "Nigeria"
          ],
          [
           "Nicaragua"
          ],
          [
           "IPCC"
          ],
          [
           "Lao People's Democratic Republic"
          ],
          [
           "UNFCCC Secretariat"
          ],
          [
           "Honduras"
          ],
          [
           "UNFCCC Secretariat"
          ],
          [
           "Sudan"
          ],
          [
           "Tanzania"
          ],
          [
           "Bulgaria"
          ],
          [
           "Sweden"
          ],
          [
           "Switzerland"
          ],
          [
           "UNFCCC Secretariat"
          ],
          [
           "Uruguay"
          ],
          [
           "World Food Programme (WFP)"
          ],
          [
           "United States of America"
          ],
          [
           "Climate Action Pathway: Water"
          ],
          [
           "New Zealand"
          ],
          [
           "Mexico"
          ],
          [
           "UNFCCC Secretariat"
          ],
          [
           "IPCC"
          ],
          [
           "UNFCCC Secretariat"
          ],
          [
           "Liberia"
          ],
          [
           "University of Saskatchewan"
          ],
          [
           "Norway"
          ],
          [
           "Bangladesh"
          ],
          [
           "International Institute for Applied Systems Analysis (IIASA)"
          ],
          [
           "Nigeria"
          ],
          [
           "Morocco"
          ],
          [
           "UNFCCC Secretariat"
          ],
          [
           "UNFCCC Secretariat"
          ],
          [
           "University of Exeter"
          ],
          [
           "Kuwait"
          ],
          [
           "IPCC"
          ],
          [
           "UNFCCC Secretariat"
          ],
          [
           "Iceland"
          ],
          [
           "IPCC"
          ],
          [
           "Marshall Islands"
          ],
          [
           "Togo"
          ],
          [
           "Australia"
          ],
          [
           "Luxembourg"
          ],
          [
           "Rwanda"
          ],
          [
           "Bhutan"
          ],
          [
           "Jamaica"
          ],
          [
           "Uzbekistan"
          ],
          [
           "Institute for Global Environmental Strategies (IGES),Japan Aerospace Exploration Agency (JAXA)"
          ],
          [
           "Uganda"
          ],
          [
           "United States of America"
          ],
          [
           "North Macedonia (Republic of North Macedonia)"
          ],
          [
           "Mozambique"
          ],
          [
           "Drugs for Neglected Diseases initiative (DNDi)"
          ],
          [
           "Azerbaijan"
          ],
          [
           "Malawi"
          ],
          [
           "Farmers Constituency"
          ],
          [
           "UNFCCC Secretariat"
          ],
          [
           "Belize"
          ],
          [
           "Japan"
          ],
          [
           "Dominica"
          ],
          [
           "Government of Québec"
          ],
          [
           "Hungary"
          ],
          [
           "Botswana"
          ],
          [
           "UNFCCC Secretariat"
          ],
          [
           "UNFCCC Secretariat"
          ],
          [
           "Mauritius"
          ],
          [
           "Afghanistan"
          ],
          [
           "Nepal"
          ],
          [
           "Marrakech Partnership"
          ],
          [
           "Turkey"
          ],
          [
           "Vanuatu"
          ],
          [
           "Saint Vincent and the Grenadines"
          ],
          [
           "Togo"
          ],
          [
           "Austria"
          ],
          [
           "Bolivia"
          ],
          [
           "Ukraine"
          ],
          [
           "Kyrgyzstan"
          ],
          [
           "Namibia"
          ],
          [
           "Norway"
          ],
          [
           "Global Carbon Project (GCP),Future Earth"
          ],
          [
           "Denmark"
          ],
          [
           "Saint Kitts and Nevis"
          ],
          [
           "Italy"
          ],
          [
           "UNFCCC Secretariat"
          ],
          [
           "Andorra"
          ],
          [
           "Climate Strategies"
          ],
          [
           "Paraguay"
          ],
          [
           "Saudi Arabia"
          ],
          [
           "Independent Alliance of Latin America and the Caribbean (AILAC)"
          ],
          [
           "UNFCCC Adaptation Committee"
          ],
          [
           "IPCC"
          ],
          [
           "Eswatini"
          ],
          [
           "Cyprus"
          ],
          [
           "Japan"
          ],
          [
           "Gambia"
          ],
          [
           "UNFCCC Secretariat"
          ],
          [
           "Germany"
          ],
          [
           "Malaysia"
          ],
          [
           "UNFCCC Secretariat"
          ],
          [
           "Panama"
          ],
          [
           "Center for Climate and Energy Solutions (C2ES)"
          ],
          [
           "Environmental Defense Fund (EDF)"
          ],
          [
           "UNFCCC Secretariat"
          ],
          [
           "IPCC"
          ],
          [
           "UNFCCC Secretariat"
          ],
          [
           "Climate Analytics"
          ],
          [
           "European Union"
          ],
          [
           "Colombia"
          ],
          [
           "UNFCCC Secretariat"
          ],
          [
           "UNFCCC Secretariat"
          ],
          [
           "Ghana"
          ],
          [
           "Canada"
          ],
          [
           "Zambia"
          ],
          [
           "Estonia"
          ],
          [
           "Democratic Republic of Congo"
          ],
          [
           "Romania"
          ],
          [
           "Tuvalu"
          ],
          [
           "Armenia"
          ],
          [
           "Spain"
          ],
          [
           "Gabon"
          ],
          [
           "UNFCCC Secretariat"
          ],
          [
           "San Marino"
          ],
          [
           "Canada"
          ],
          [
           "Colombia"
          ],
          [
           "Papua New Guinea"
          ],
          [
           "Uganda"
          ],
          [
           "Plymouth Marine Laboratory (PML)"
          ],
          [
           "UNFCCC Secretariat"
          ],
          [
           "UNFCCC Secretariat"
          ],
          [
           "Jordan"
          ],
          [
           "UNFCCC Secretariat"
          ],
          [
           "Zimbabwe"
          ],
          [
           "Korea,North"
          ],
          [
           "Eritrea"
          ],
          [
           "Pakistan"
          ],
          [
           "IPCC"
          ],
          [
           "Canada"
          ],
          [
           "Germany"
          ],
          [
           "European Union"
          ],
          [
           "ClimateWorks Foundation (CWF)"
          ],
          [
           "International Committee of the Red Cross (ICRC)"
          ],
          [
           "Papua New Guinea"
          ],
          [
           "South Africa"
          ],
          [
           "Turkey"
          ],
          [
           "Argentina"
          ],
          [
           "Moldova"
          ],
          [
           "Sierra Leone"
          ],
          [
           "International Electrotechnical Commission (IEC)"
          ],
          [
           "Japan"
          ],
          [
           "Suriname"
          ],
          [
           "Cabo Verde"
          ],
          [
           "India Water Foundation (IWF)"
          ],
          [
           "UNFCCC Secretariat"
          ],
          [
           "France"
          ],
          [
           "China"
          ],
          [
           "Slovenia"
          ],
          [
           "External organization authors"
          ],
          [
           "United Kingdom"
          ],
          [
           "El Salvador"
          ],
          [
           "Cook Islands"
          ],
          [
           "Andorra"
          ],
          [
           "Partnership on Sustainable,Low Carbon Transport (SLOCAT)"
          ],
          [
           "Greece"
          ],
          [
           "Cambodia"
          ],
          [
           "Partnership on Sustainable,Low Carbon Transport (SLOCAT)"
          ],
          [
           "Somalia"
          ],
          [
           "Moldova"
          ],
          [
           "High-Level Champions for Climate Action"
          ],
          [
           "Sweden"
          ],
          [
           "Portugal"
          ],
          [
           "Andorra"
          ],
          [
           "Serbia"
          ],
          [
           "UNFCCC Secretariat"
          ],
          [
           "Costa Rica"
          ],
          [
           "Ecuador"
          ],
          [
           "Argentina"
          ],
          [
           "Universities Space Research Association (USRA)"
          ],
          [
           "Qatar"
          ],
          [
           "United Nations Environment Programme (UNEP)"
          ],
          [
           "Burundi"
          ],
          [
           "Chile"
          ],
          [
           "Singapore"
          ],
          [
           "Carbon Tracker"
          ],
          [
           "Slovakia"
          ],
          [
           "Conservation International (CI)"
          ],
          [
           "Venezuela"
          ],
          [
           "Benin"
          ],
          [
           "Colombia"
          ],
          [
           "ClimateWorks Foundation (CWF)"
          ],
          [
           "Saint Lucia"
          ],
          [
           "Australia"
          ],
          [
           "International Chamber of Commerce (ICC)"
          ],
          [
           "UNFCCC Secretariat"
          ],
          [
           "Bosnia and Herzegovina"
          ],
          [
           "Honduras"
          ],
          [
           "Ukraine"
          ],
          [
           "University of Exeter"
          ],
          [
           "World Resources Institute (WRI)"
          ],
          [
           "UNFCCC Secretariat"
          ],
          [
           "Kenya"
          ],
          [
           "European Space Agency (ESA)"
          ],
          [
           "Mauritius"
          ],
          [
           "Netherlands"
          ],
          [
           "Costa Rica"
          ],
          [
           "Norway"
          ],
          [
           "Belize"
          ],
          [
           "Italy"
          ],
          [
           "International Energy Agency (IEA)"
          ],
          [
           "UNFCCC Secretariat"
          ],
          [
           "Institute for Sustainable Development and International Relations (IDDRI)"
          ],
          [
           "Cambodia"
          ],
          [
           "IPCC"
          ],
          [
           "United Arab Emirates"
          ],
          [
           "Least Developed Countries (LDCs),Senegal"
          ],
          [
           "Thailand"
          ],
          [
           "Togo"
          ],
          [
           "Australia"
          ],
          [
           "Rwanda"
          ],
          [
           "European Commission,Slovenia"
          ],
          [
           "Vanuatu"
          ],
          [
           "UNFCCC Secretariat"
          ],
          [
           "Antigua and Barbuda"
          ],
          [
           "Kiribati"
          ],
          [
           "IPCC"
          ],
          [
           "UNFCCC Secretariat"
          ],
          [
           "Iceland"
          ],
          [
           "Bhutan"
          ],
          [
           "Nauru"
          ],
          [
           "IPCC"
          ],
          [
           "UNFCCC Secretariat"
          ],
          [
           "Like-minded Developing Countries (LMDC)"
          ],
          [
           "Norway"
          ],
          [
           "Namibia"
          ],
          [
           "Trinidad and Tobago"
          ],
          [
           "University of Melbourne (UM)"
          ],
          [
           "UNFCCC Secretariat"
          ],
          [
           "Center for Climate and Energy Solutions (C2ES)"
          ],
          [
           "Japan"
          ],
          [
           "Belgium"
          ],
          [
           "Vietnam"
          ],
          [
           "World Tourism Organization (UNWTO)"
          ],
          [
           "Dominican Republic"
          ],
          [
           "Paris Reinforce,University of Cambridge"
          ],
          [
           "UNFCCC Secretariat"
          ],
          [
           "Switzerland"
          ],
          [
           "United Arab Emirates"
          ],
          [
           "UNFCCC Secretariat"
          ],
          [
           "New Zealand"
          ],
          [
           "Micronesia"
          ],
          [
           "IPCC"
          ],
          [
           "Latvia"
          ],
          [
           "UNFCCC Secretariat"
          ],
          [
           "Haiti"
          ],
          [
           "India"
          ],
          [
           "UNFCCC Secretariat"
          ],
          [
           "UNFCCC Secretariat"
          ],
          [
           "Liberia"
          ],
          [
           "Climate Action Network International (CAN)"
          ],
          [
           "Belarus"
          ],
          [
           "CarbonCare InnoLab (CCIL)"
          ],
          [
           "Nigeria"
          ],
          [
           "Montenegro"
          ],
          [
           "UNFCCC Secretariat"
          ],
          [
           "UNFCCC Secretariat"
          ],
          [
           "IPCC"
          ],
          [
           "Lesotho"
          ],
          [
           "United States of America"
          ],
          [
           "Brunei Darussalam"
          ],
          [
           "Indonesia"
          ],
          [
           "Sri Lanka"
          ],
          [
           "United States of America"
          ],
          [
           "Iraq"
          ],
          [
           "Belarus"
          ],
          [
           "Liechtenstein"
          ],
          [
           "Tajikistan"
          ],
          [
           "Japan"
          ],
          [
           "Mexico"
          ],
          [
           "Marrakech Partnership"
          ],
          [
           "Netherlands"
          ],
          [
           "Under2 Coalition"
          ],
          [
           "Indonesia"
          ],
          [
           "Brazil"
          ],
          [
           "UNFCCC Secretariat"
          ],
          [
           "Guinea"
          ],
          [
           "IPCC"
          ],
          [
           "Lebanon"
          ],
          [
           "Israel"
          ],
          [
           "Bangladesh"
          ],
          [
           "Lithuania"
          ],
          [
           "UNFCCC Secretariat"
          ],
          [
           "UNFCCC Secretariat"
          ],
          [
           "UNFCCC Secretariat"
          ],
          [
           "Mongolia"
          ],
          [
           "UNFCCC Facilitative Working Group (FWG) of the Local Communities and Indigenous Peoples Platform"
          ],
          [
           "UNFCCC Secretariat"
          ],
          [
           "Partnership on Sustainable,Low Carbon Transport (SLOCAT)"
          ],
          [
           "Niger"
          ],
          [
           "United Kingdom"
          ],
          [
           "Luxembourg"
          ],
          [
           "UN Climate Change High-Level Champions"
          ],
          [
           "UNFCCC Secretariat"
          ],
          [
           "High-Level Champions for Climate Action"
          ],
          [
           "Jamaica"
          ],
          [
           "Belgium"
          ],
          [
           "ClimateWorks Foundation (CWF)"
          ],
          [
           "Dominican Republic"
          ],
          [
           "Norway"
          ],
          [
           "Myanmar"
          ],
          [
           "Ukraine"
          ],
          [
           "Netherlands"
          ],
          [
           "United States of America"
          ],
          [
           "UNFCCC Secretariat"
          ],
          [
           "International Renewable Energy Agency (IRENA)"
          ],
          [
           "Togo"
          ],
          [
           "Australia"
          ],
          [
           "Rwanda"
          ],
          [
           "Nauru"
          ],
          [
           "IPCC"
          ],
          [
           "UNFCCC Secretariat"
          ],
          [
           "Mauritania"
          ],
          [
           "Pacific Ocean Climate Crisis Assessment (POCCA)"
          ],
          [
           "Thailand"
          ],
          [
           "Kuwait"
          ],
          [
           "IPCC"
          ],
          [
           "UNFCCC Secretariat"
          ],
          [
           "Iceland"
          ],
          [
           "United Kingdom"
          ],
          [
           "Benin"
          ],
          [
           "Italy"
          ],
          [
           "Vanuatu"
          ],
          [
           "UNFCCC Secretariat"
          ],
          [
           "Togo"
          ],
          [
           "International Atomic Energy Agency (IAEA)"
          ],
          [
           "Indonesia"
          ],
          [
           "UNFCCC Secretariat"
          ],
          [
           "IPCC"
          ],
          [
           "UNFCCC Secretariat"
          ],
          [
           "Thailand"
          ],
          [
           "European Roundtable on Climate Change and Sustainable Transition (ERCST)"
          ],
          [
           "UNFCCC Secretariat"
          ],
          [
           "Namibia"
          ],
          [
           "Norway"
          ],
          [
           "Vietnam"
          ],
          [
           "Russia"
          ],
          [
           "Saint Lucia"
          ],
          [
           "Trinidad and Tobago"
          ],
          [
           "Austria"
          ],
          [
           "Mauritius"
          ],
          [
           "Nepal"
          ],
          [
           "Bolivia"
          ],
          [
           "Honduras"
          ],
          [
           "UNFCCC Secretariat"
          ],
          [
           "Kazakhstan"
          ],
          [
           "Mongolia"
          ],
          [
           "UNFCCC Adaptation Committee"
          ],
          [
           "UNFCCC Secretariat"
          ],
          [
           "Prince Albert II of Monaco Foundation"
          ],
          [
           "Nicaragua"
          ],
          [
           "Ireland"
          ],
          [
           "Bahrain"
          ],
          [
           "International Federation of Red Cross and Red Crescent Societies (IFRC)"
          ],
          [
           "Lithuania"
          ],
          [
           "UNFCCC Secretariat"
          ],
          [
           "UNFCCC Secretariat"
          ],
          [
           "UNFCCC Secretariat"
          ],
          [
           "Burkina Faso"
          ],
          [
           "Latvia"
          ],
          [
           "IPCC"
          ],
          [
           "United Kingdom"
          ],
          [
           "Russia"
          ],
          [
           "Sri Lanka"
          ],
          [
           "United States of America"
          ],
          [
           "Syria"
          ],
          [
           "United States of America"
          ],
          [
           "United Nations Educational,Scientific and Cultural Organization (UNESCO)"
          ],
          [
           "Indonesia"
          ],
          [
           "Brunei Darussalam"
          ],
          [
           "Lesotho"
          ],
          [
           "IPCC"
          ],
          [
           "Mexico"
          ],
          [
           "Marrakech Partnership"
          ],
          [
           "Netherlands"
          ],
          [
           "Clean Air Taskforce (CATF)"
          ],
          [
           "Nigeria"
          ],
          [
           "Morocco"
          ],
          [
           "UNFCCC Secretariat"
          ],
          [
           "UNFCCC Secretariat"
          ],
          [
           "UNFCCC Secretariat"
          ],
          [
           "UNFCCC Secretariat"
          ],
          [
           "Liechtenstein"
          ],
          [
           "Fundación Ecología y Desarrollo (ECODES)"
          ],
          [
           "Iran"
          ],
          [
           "Gambia"
          ],
          [
           "United States of America"
          ],
          [
           "European Union"
          ],
          [
           "Switzerland"
          ],
          [
           "Uruguay"
          ],
          [
           "Bangladesh"
          ],
          [
           "Israel"
          ],
          [
           "Lao People's Democratic Republic"
          ],
          [
           "IPCC"
          ],
          [
           "Haiti"
          ],
          [
           "UNFCCC Secretariat"
          ],
          [
           "Burkina Faso"
          ],
          [
           "India"
          ],
          [
           "CDP Worldwide"
          ],
          [
           "New Zealand"
          ],
          [
           "Mexico"
          ],
          [
           "Canada"
          ],
          [
           "Germany"
          ],
          [
           "Comoros"
          ],
          [
           "European Union"
          ],
          [
           "External organization authors"
          ],
          [
           "IPCC"
          ],
          [
           "South Africa"
          ],
          [
           "Germany"
          ],
          [
           "UNFCCC Secretariat"
          ],
          [
           "Georgia"
          ],
          [
           "Tunisia"
          ],
          [
           "Argentina"
          ],
          [
           "Cyprus"
          ],
          [
           "Ethiopia"
          ],
          [
           "Samoa"
          ],
          [
           "Papua New Guinea"
          ],
          [
           "Pakistan"
          ],
          [
           "UNFCCC Secretariat"
          ],
          [
           "Transforma"
          ],
          [
           "Mali"
          ],
          [
           "UNFCCC Secretariat"
          ],
          [
           "Korea,North"
          ],
          [
           "International Work Group for Indigenous Affairs (IWGIA)"
          ],
          [
           "Oil and Gas Climate Initiative (OGCI)"
          ],
          [
           "European Union"
          ],
          [
           "Colombia"
          ],
          [
           "National Institute for Environmental Studies (NIES) Japan"
          ],
          [
           "University of Exeter"
          ],
          [
           "Organisation for Economic Co-operation and Development (OECD),International Energy Agency (IEA)"
          ],
          [
           "Ghana"
          ],
          [
           "Canada"
          ],
          [
           "IPCC"
          ],
          [
           "Zambia"
          ],
          [
           "Romania"
          ],
          [
           "Uganda"
          ],
          [
           "Armenia"
          ],
          [
           "South Sudan"
          ],
          [
           "Pakistan"
          ],
          [
           "Nature Conservancy (TNC),Institute for Global Environmental Strategies (IGES),Wetlands International,Japan Aerospace Exploration Agency (JAXA),Aberystwyth University,solo Earth Observation (soloEO)"
          ],
          [
           "European Union"
          ],
          [
           "Paraguay"
          ],
          [
           "Saudi Arabia"
          ],
          [
           "Germany"
          ],
          [
           "Canada"
          ],
          [
           "African Group Submission for the Second Technical Dialogue of the Global Stocktake"
          ],
          [
           "Panama"
          ],
          [
           "Eswatini"
          ],
          [
           "Japan"
          ],
          [
           "UNFCCC Secretariat"
          ],
          [
           "Gabon"
          ],
          [
           "Turkey"
          ],
          [
           "Malaysia"
          ],
          [
           "World Benchmarking Alliance and Climate Chance"
          ],
          [
           "UNFCCC Secretariat"
          ],
          [
           "Burundi"
          ],
          [
           "World Health Organization (WHO),Lancet Countdown"
          ],
          [
           "Chile"
          ],
          [
           "Iceland"
          ],
          [
           "University of Ankara"
          ],
          [
           "Slovakia"
          ],
          [
           "Sweden"
          ],
          [
           "Cambodia"
          ],
          [
           "Poland"
          ],
          [
           "Andorra"
          ],
          [
           "Senegal"
          ],
          [
           "Moldova"
          ],
          [
           "Costa Rica"
          ],
          [
           "SouthSouthNorth (SSN),Adaptation Research Alliance (ARA)"
          ],
          [
           "High-Level Champions for Climate Action"
          ],
          [
           "Finland"
          ],
          [
           "Somalia"
          ],
          [
           "UNFCCC Secretariat"
          ],
          [
           "International Cryosphere Climate Initiative (ICCI)"
          ],
          [
           "Grenada"
          ],
          [
           "Central African Republic"
          ],
          [
           "Marrakech Partnership"
          ],
          [
           "Cambodia"
          ],
          [
           "Portugal"
          ],
          [
           "Partnership on Sustainable,Low Carbon Transport (SLOCAT)"
          ],
          [
           "UNFCCC Secretariat"
          ],
          [
           "Argentina"
          ],
          [
           "New Climate Institute for Climate Policy and Global Sustainability"
          ],
          [
           "Solomon Islands"
          ],
          [
           "Zimbabwe"
          ],
          [
           "Plymouth Marine Laboratory (PML)"
          ],
          [
           "South Korea"
          ],
          [
           "South Korea"
          ],
          [
           "Singapore"
          ],
          [
           "Qatar"
          ],
          [
           "Suriname"
          ],
          [
           "France"
          ],
          [
           "China"
          ],
          [
           "Institute for Sustainable Development and International Relations (IDDRI),External organization authors"
          ],
          [
           "Antigua and Barbuda"
          ],
          [
           "El Salvador"
          ],
          [
           "Bolivia"
          ],
          [
           "National Institute for Environmental Studies (NIES) Japan,Japan Agency for Marine-Earth Science and Technology (JAMSTEC),Japan Meteorological Research Institute (MRI),Chiba University"
          ],
          [
           "Gabon"
          ],
          [
           "Albania"
          ],
          [
           "Philippines"
          ],
          [
           "Palestine"
          ],
          [
           "UNFCCC Secretariat"
          ],
          [
           "Gabon"
          ],
          [
           "International Renewable Energy Agency (IRENA)"
          ],
          [
           "Maldives"
          ],
          [
           "Cuba"
          ],
          [
           "Chile"
          ],
          [
           "CDP Worldwide"
          ],
          [
           "Saudi Arabia"
          ],
          [
           "Cameroon"
          ],
          [
           "Ghana"
          ],
          [
           "Organisation for Economic Co-operation and Development (OECD)"
          ],
          [
           "UNFCCC Secretariat"
          ],
          [
           "Czechia"
          ],
          [
           "European Union"
          ],
          [
           "UNFCCC Secretariat"
          ],
          [
           "Paraguay"
          ],
          [
           "IPCC"
          ],
          [
           "Turkey"
          ],
          [
           "Climate Policy Initiative (CPI)"
          ],
          [
           "Australia"
          ],
          [
           "Marshall Islands"
          ],
          [
           "Spain"
          ],
          [
           "Kazakhstan"
          ],
          [
           "Yemen"
          ],
          [
           "Romania"
          ],
          [
           "UNFCCC Secretariat"
          ],
          [
           "Papua New Guinea"
          ],
          [
           "Climate Strategies"
          ],
          [
           "Sao Tome and Principe"
          ],
          [
           "UNFCCC Secretariat"
          ],
          [
           "Oman"
          ],
          [
           "Kazakhstan"
          ],
          [
           "Eritrea"
          ],
          [
           "Czechia"
          ],
          [
           "Russia"
          ],
          [
           "Malta"
          ],
          [
           "Women’s Environment and Development Organization (WEDO)"
          ],
          [
           "Spain"
          ],
          [
           "UNFCCC Secretariat"
          ],
          [
           "UNFCCC Secretariat"
          ],
          [
           "Ethiopia"
          ],
          [
           "Colombia"
          ],
          [
           "Nature4Climate (N4C)"
          ],
          [
           "Georgia"
          ],
          [
           "Canada"
          ],
          [
           "Albania"
          ],
          [
           "Care About Climate"
          ],
          [
           "IPCC"
          ],
          [
           "France"
          ],
          [
           "Vietnam"
          ],
          [
           "South Africa"
          ],
          [
           "Tunisia"
          ],
          [
           "International Chamber of Commerce (ICC)"
          ],
          [
           "Suriname"
          ],
          [
           "China"
          ],
          [
           "Greece"
          ],
          [
           "Sierra Leone"
          ],
          [
           "Angola"
          ],
          [
           "Costa Rica"
          ],
          [
           "El Salvador"
          ],
          [
           "China"
          ],
          [
           "France"
          ],
          [
           "Global Climate and Health Alliance (GCHA)"
          ],
          [
           "International Institute for Applied Systems Analysis (IIASA)"
          ],
          [
           "International Union for Conservation of Nature (IUCN)"
          ],
          [
           "Congo"
          ],
          [
           "World Wide Fund for Nature (WWF)"
          ],
          [
           "Institute for Global Environmental Strategies (IGES)"
          ],
          [
           "Chad"
          ],
          [
           "Guatemala"
          ],
          [
           "UNFCCC Secretariat"
          ],
          [
           "Antigua and Barbuda"
          ],
          [
           "Zimbabwe"
          ],
          [
           "Slovenia"
          ],
          [
           "Alliance of Small Island Developing States"
          ],
          [
           "Lebanon"
          ],
          [
           "Switzerland"
          ],
          [
           "Poland"
          ],
          [
           "Climate Equity Reference Project Canada (CERP)"
          ],
          [
           "Finland"
          ],
          [
           "Egypt"
          ],
          [
           "Croatia"
          ],
          [
           "UNFCCC Secretariat"
          ],
          [
           "Chile"
          ],
          [
           "Global Carbon Capture and Storage (CSS) Institute"
          ],
          [
           "Sweden"
          ],
          [
           "Burundi"
          ],
          [
           "Centre for Policy Research (CPR)"
          ],
          [
           "France"
          ],
          [
           "Slovakia"
          ],
          [
           "Equatorial Guinea"
          ],
          [
           "Costa Rica"
          ],
          [
           "Tonga"
          ],
          [
           "Malawi"
          ],
          [
           "National Institute for Environmental Studies (NIES) Japan"
          ],
          [
           "Azerbaijan"
          ],
          [
           "Japan"
          ],
          [
           "Belize"
          ],
          [
           "Venezuela"
          ],
          [
           "Saint Lucia"
          ],
          [
           "Côte d'Ivoire"
          ],
          [
           "Marrakech Partnership"
          ],
          [
           "Mauritania"
          ],
          [
           "Institute for Global Environmental Strategies (IGES),Japan Aerospace Exploration Agency (JAXA),Japan International Cooperation Agency (JICA),External organization authors,Brazilian Institute of Environment"
          ],
          [
           "Kenya"
          ],
          [
           "Bosnia and Herzegovina"
          ],
          [
           "UNFCCC Secretariat"
          ],
          [
           "UNFCCC Secretariat"
          ],
          [
           "University of California,Irvine (UCI),Carbon Monitor,Laboratoire des Sciences du Climat et de l'Environnement (LSCE),Tsinghua University"
          ],
          [
           "Tonga"
          ],
          [
           "Australia"
          ],
          [
           "UNFCCC Authors"
          ],
          [
           "World Health Organization"
          ],
          [
           "Denmark"
          ],
          [
           "Jamaica"
          ],
          [
           "Benin"
          ],
          [
           "Norway"
          ],
          [
           "Hungary"
          ],
          [
           "Indonesia"
          ],
          [
           "Ukraine"
          ],
          [
           "Saint Kitts and Nevis"
          ],
          [
           "Uzbekistan"
          ],
          [
           "Canada"
          ],
          [
           "Togo"
          ],
          [
           "Australia"
          ],
          [
           "Marshall Islands"
          ],
          [
           "UNFCCC Secretariat"
          ],
          [
           "IPCC"
          ],
          [
           "IPCC"
          ],
          [
           "Iceland"
          ],
          [
           "Paris Reinforce,University of Cambridge"
          ],
          [
           "Kyrgyzstan"
          ],
          [
           "Belize"
          ],
          [
           "Japan"
          ],
          [
           "Dominica"
          ],
          [
           "World Resources Institute (WRI)"
          ],
          [
           "Samoa"
          ],
          [
           "Queers X Climate,OUT for Sustainability"
          ],
          [
           "Madagascar"
          ],
          [
           "Center for Climate and Energy Solutions (C2ES)"
          ],
          [
           "UNFCCC Secretariat"
          ],
          [
           "Mozambique"
          ],
          [
           "North Macedonia (Republic of North Macedonia)"
          ],
          [
           "Botswana"
          ],
          [
           "Iceland"
          ],
          [
           "Uganda"
          ],
          [
           "Kiribati"
          ],
          [
           "Afghanistan"
          ],
          [
           "Uruguay"
          ],
          [
           "Switzerland"
          ],
          [
           "Timor-Leste"
          ],
          [
           "Montenegro"
          ],
          [
           "UNFCCC Secretariat"
          ],
          [
           "Nigeria"
          ],
          [
           "Bulgaria"
          ],
          [
           "Slovenia"
          ],
          [
           "Lao People's Democratic Republic"
          ],
          [
           "IPCC"
          ],
          [
           "UNFCCC Secretariat"
          ],
          [
           "Honduras"
          ],
          [
           "UNFCCC Secretariat"
          ],
          [
           "Monaco"
          ],
          [
           "New Zealand"
          ],
          [
           "UNFCCC Secretariat"
          ],
          [
           "International Institute for Applied Systems Analysis (IIASA)"
          ],
          [
           "Niue"
          ],
          [
           "Climate Action Network International (CAN)"
          ],
          [
           "International Association for Public Transport (UITP)"
          ],
          [
           "Palestine"
          ],
          [
           "United Arab Emirates"
          ],
          [
           "Barbados"
          ],
          [
           "IPCC"
          ],
          [
           "UNFCCC Secretariat"
          ],
          [
           "UNFCCC Secretariat"
          ],
          [
           "Liberia"
          ],
          [
           "Tajikistan"
          ],
          [
           "International Water Management Institute (IWMI)"
          ],
          [
           "United States of America"
          ],
          [
           "UNFCCC Secretariat"
          ],
          [
           "UNFCCC Secretariat"
          ],
          [
           "UNFCCC Secretariat"
          ],
          [
           "Tajikistan"
          ],
          [
           "Trade Unions Non-Governmental Organizations"
          ],
          [
           "French National Research Institute for Sustainable Development,French Agricultural Research Centre for International Development,Sustainable Development & International Relations,French National Research Institute for Agriculture,Food and Environment"
          ],
          [
           "Guinea-Bissau"
          ],
          [
           "UNFCCC Secretariat"
          ],
          [
           "Lebanon"
          ],
          [
           "IPCC"
          ],
          [
           "United States of America"
          ],
          [
           "Brazil"
          ],
          [
           "Indonesia"
          ],
          [
           "Marrakech Partnership"
          ],
          [
           "New Zealand"
          ],
          [
           "Mexico"
          ],
          [
           "University of Exeter"
          ],
          [
           "Niger"
          ],
          [
           "Montenegro"
          ],
          [
           "UNFCCC Secretariat"
          ],
          [
           "UNFCCC Paris Committee on Capacity Building"
          ],
          [
           "Liechtenstein"
          ],
          [
           "UNFCCC Secretariat"
          ],
          [
           "UNFCCC Secretariat"
          ],
          [
           "Bahamas,The"
          ],
          [
           "Iraq"
          ],
          [
           "Nicaragua"
          ],
          [
           "Monaco"
          ],
          [
           "United Kingdom"
          ],
          [
           "Sudan"
          ],
          [
           "Myanmar"
          ],
          [
           "Norway"
          ],
          [
           "Belize"
          ],
          [
           "Japan"
          ],
          [
           "Djibouti"
          ],
          [
           "Environmental Integrity Group (EIG)"
          ],
          [
           "Centre for International Environment Law (CIEL)"
          ],
          [
           "Azerbaijan"
          ],
          [
           "Malawi"
          ],
          [
           "UNFCCC Secretariat"
          ],
          [
           "Institute for Global Environmental Strategies (IGES),Japan Aerospace Exploration Agency (JAXA)"
          ],
          [
           "Uganda"
          ],
          [
           "Rwanda"
          ],
          [
           "Bhutan"
          ],
          [
           "Jamaica"
          ],
          [
           "Uzbekistan"
          ],
          [
           "Australia"
          ],
          [
           "Local Governments and Municipal Authorities (LGMA)"
          ],
          [
           "Luxembourg"
          ],
          [
           "IPCC"
          ],
          [
           "UNFCCC Secretariat"
          ],
          [
           "Iceland"
          ],
          [
           "Organization of the Petroleum Exporting Countries (OPEC)"
          ],
          [
           "Paris Reinforce,University of Cambridge"
          ],
          [
           "Kuwait"
          ],
          [
           "Marshall Islands"
          ],
          [
           "IPCC"
          ],
          [
           "Norway"
          ],
          [
           "Centre for Policy Research (CPR),Grantham Research Institute on Climate Change and the Environment,Climate Legal"
          ],
          [
           "Namibia"
          ],
          [
           "UNFCCC Secretariat"
          ],
          [
           "North Macedonia (Republic of North Macedonia)"
          ],
          [
           "Global Climate and Health Alliance (GCHA),Health and Climate Network"
          ],
          [
           "Denmark"
          ],
          [
           "Saint Kitts and Nevis"
          ],
          [
           "Italy"
          ],
          [
           "Benin"
          ],
          [
           "Ukraine"
          ],
          [
           "New Zealand"
          ],
          [
           "Tonga"
          ],
          [
           "Austria"
          ],
          [
           "Venezuela"
          ],
          [
           "Saint Vincent and the Grenadines"
          ],
          [
           "Saudi Arabia"
          ],
          [
           "Hungary"
          ],
          [
           "Botswana"
          ],
          [
           "UNFCCC Secretariat"
          ],
          [
           "Nepal"
          ],
          [
           "Marrakech Partnership"
          ],
          [
           "Afghanistan"
          ],
          [
           "Liechtenstein"
          ],
          [
           "Timor-Leste"
          ],
          [
           "Switzerland"
          ],
          [
           "UNFCCC Secretariat"
          ],
          [
           "UNFCCC Secretariat"
          ],
          [
           "Uruguay"
          ],
          [
           "Bahrain"
          ],
          [
           "Ireland"
          ],
          [
           "United NationsÂ Office for Disaster Risk Reduction (UNDRR)"
          ],
          [
           "National Adaptation Plan (NAP) Global Network"
          ],
          [
           "Nigeria"
          ],
          [
           "Montenegro"
          ],
          [
           "UNFCCC Secretariat"
          ],
          [
           "UNFCCC Standing Committee on Finance"
          ],
          [
           "Dominica"
          ],
          [
           "UNFCCC Secretariat"
          ],
          [
           "UNFCCC Secretariat"
          ],
          [
           "Honduras"
          ],
          [
           "United Kingdom"
          ],
          [
           "Sudan"
          ],
          [
           "Global Alliance for the Future of Food"
          ],
          [
           "Fiji"
          ],
          [
           "Mozambique"
          ],
          [
           "UNFCCC Secretariat"
          ],
          [
           "United Kingdom"
          ],
          [
           "Tajikistan"
          ],
          [
           "Serbia"
          ],
          [
           "Palestine"
          ],
          [
           "Marrakech Partnership"
          ],
          [
           "New Zealand"
          ],
          [
           "Mexico"
          ],
          [
           "UNFCCC Secretariat"
          ],
          [
           "UNFCCC Secretariat"
          ],
          [
           "Guinea-Bissau"
          ],
          [
           "IPCC"
          ],
          [
           "Lebanon"
          ],
          [
           "Brazil"
          ],
          [
           "India"
          ],
          [
           "Conservation International (CI),Environmental Defense (ED),Nature Conservancy (TNC)"
          ],
          [
           "Norway"
          ],
          [
           "Barbados"
          ],
          [
           "UNFCCC Secretariat"
          ],
          [
           "UNFCCC Secretariat"
          ],
          [
           "Lesotho"
          ],
          [
           "Morocco"
          ],
          [
           "Perry World House at the University of Pennsylvania (PWH)"
          ],
          [
           "UNFCCC Secretariat"
          ],
          [
           "Moldova"
          ],
          [
           "United States of America"
          ],
          [
           "Mexico"
          ],
          [
           "Marrakech Partnership"
          ],
          [
           "International Network for Sustainable Energy (INFORSE)"
          ],
          [
           "New Zealand"
          ],
          [
           "Uruguay"
          ],
          [
           "United Nations Office for the Coordination of Humanitarian Affairs"
          ],
          [
           "Switzerland"
          ],
          [
           "Marshall Islands"
          ],
          [
           "UNFCCC Secretariat"
          ],
          [
           "Monaco"
          ],
          [
           "New Zealand"
          ],
          [
           "France"
          ],
          [
           "Tanzania"
          ],
          [
           "Bulgaria"
          ],
          [
           "Fundación Avina"
          ],
          [
           "United States of America"
          ],
          [
           "IPCC"
          ],
          [
           "Lao People's Democratic Republic"
          ],
          [
           "UNFCCC Secretariat"
          ],
          [
           "Honduras"
          ],
          [
           "UNFCCC"
          ],
          [
           "IPCC"
          ],
          [
           "European Union"
          ],
          [
           "Colombia"
          ],
          [
           "Georgia"
          ],
          [
           "Canada"
          ],
          [
           "South Africa"
          ],
          [
           "Tunisia"
          ],
          [
           "Mali"
          ],
          [
           "UNFCCC Secretariat"
          ],
          [
           "Argentina"
          ],
          [
           "World Resources Institute (WRI)"
          ],
          [
           "Paraguay"
          ],
          [
           "Sao Tome and Principe"
          ],
          [
           "Kazakhstan"
          ],
          [
           "Equatorial Guinea"
          ],
          [
           "Czechia"
          ],
          [
           "Malta"
          ],
          [
           "Climate Equity Reference Project Canada (CERP)"
          ],
          [
           "UNFCCC Secretariat"
          ],
          [
           "France"
          ],
          [
           "UNFCCC Secretariat"
          ],
          [
           "UNFCCC Secretariat"
          ],
          [
           "Oman"
          ],
          [
           "IPCC"
          ],
          [
           "Center for Climate and Energy Solutions (C2ES)"
          ],
          [
           "Cameroon"
          ],
          [
           "Ghana"
          ],
          [
           "OpenEarth Foundation,Nature4Climate"
          ],
          [
           "UNFCCC Secretariat"
          ],
          [
           "Switzerland"
          ],
          [
           "European Union"
          ],
          [
           "Institute for Sustainable Development and International Relations (IDDRI),Inter-American Development Bank (IADB)"
          ],
          [
           "Ocean and Climate Platform,International Union for Conservation of Nature (IUCN),Conservation International (CI),World Wide Fund for Nature (WWF),Plymouth Marine Laboratory (PML),Nature Conservancy (TNC)"
          ],
          [
           "Turkey"
          ],
          [
           "Australia"
          ],
          [
           "Spain"
          ],
          [
           "Russia"
          ],
          [
           "Albania"
          ],
          [
           "Climate Equity Reference Project Canada (CERP)"
          ],
          [
           "Peru"
          ],
          [
           "Climate Equity Reference Project Canada (CERP)"
          ],
          [
           "United States of America"
          ],
          [
           "South Africa"
          ],
          [
           "Gabon"
          ],
          [
           "UNFCCC Secretariat"
          ],
          [
           "UNFCCC Authors"
          ],
          [
           "Maldives"
          ],
          [
           "Cuba"
          ],
          [
           "Spain"
          ],
          [
           "Romania"
          ],
          [
           "Bhutan,Nepal"
          ],
          [
           "King Abdullah Petroleum Studies and Research Center (KAPSARC)"
          ],
          [
           "Palau"
          ],
          [
           "Greece"
          ],
          [
           "Chile"
          ],
          [
           "Climate Equity Reference Project Canada (CERP)"
          ],
          [
           "Overseas Development Institute (ODI)"
          ],
          [
           "Burkina Faso"
          ],
          [
           "Singapore"
          ],
          [
           "Algeria"
          ],
          [
           "Guatemala"
          ],
          [
           "Senegal"
          ],
          [
           "Sweden"
          ],
          [
           "Poland"
          ],
          [
           "UNFCCC Secretariat"
          ],
          [
           "Congo"
          ],
          [
           "UNFCCC Secretariat"
          ],
          [
           "Project Drawdown"
          ],
          [
           "Finland"
          ],
          [
           "Croatia"
          ],
          [
           "Switzerland"
          ],
          [
           "Cambodia"
          ],
          [
           "UNFCCC Secretariat"
          ],
          [
           "We Mean Business Coalition"
          ],
          [
           "CONSTRAIN,PROVIDE,and ESM2025"
          ],
          [
           "Central African Republic"
          ],
          [
           "South Korea"
          ],
          [
           "Cuba"
          ],
          [
           "Egypt"
          ],
          [
           "Antigua and Barbuda"
          ],
          [
           "Finland"
          ],
          [
           "Zimbabwe"
          ],
          [
           "Slovenia"
          ],
          [
           "Portugal"
          ],
          [
           "Suriname"
          ],
          [
           "Seychelles"
          ],
          [
           "Angola"
          ],
          [
           "International Institute for Applied Systems Analysis (IIASA)"
          ],
          [
           "Costa Rica"
          ],
          [
           "El Salvador"
          ],
          [
           "China"
          ],
          [
           "France"
          ],
          [
           "International Energy Agency (IEA)"
          ],
          [
           "United States of America"
          ],
          [
           "Brunei Darussalam"
          ],
          [
           "IPCC"
          ],
          [
           "Lesotho"
          ],
          [
           "Youth Non-Governmental Organizations (YOUNGO),Nationally Determined Contributions (NDCs) Working Group,Care About Climate (CAC)"
          ],
          [
           "Belarus"
          ],
          [
           "UNFCCC Secretariat"
          ],
          [
           "IPCC"
          ],
          [
           "UNFCCC Secretariat"
          ],
          [
           "Liberia"
          ],
          [
           "Morocco"
          ],
          [
           "UNFCCC Secretariat"
          ],
          [
           "UNFCCC Secretariat"
          ],
          [
           "CarbonCare InnoLab (CCIL)"
          ],
          [
           "Nigeria"
          ],
          [
           "Micronesia"
          ],
          [
           "New Zealand"
          ],
          [
           "IPCC"
          ],
          [
           "Latvia"
          ],
          [
           "UNFCCC Secretariat"
          ],
          [
           "Guyana"
          ],
          [
           "Switzerland"
          ],
          [
           "Thailand"
          ],
          [
           "United Kingdom"
          ],
          [
           "Lithuania"
          ],
          [
           "UNFCCC Secretariat"
          ],
          [
           "UNFCCC Secretariat"
          ],
          [
           "UNFCCC Secretariat"
          ],
          [
           "Israel"
          ],
          [
           "Bangladesh"
          ],
          [
           "Global CCS Institute"
          ],
          [
           "Stockholm University"
          ],
          [
           "Niger"
          ],
          [
           "Mongolia"
          ],
          [
           "UNFCCC Katowice Committee of Experts on Impact of Implementation of Response Measures"
          ],
          [
           "UNFCCC Secretariat"
          ],
          [
           "Climate Action Pathway: Energy"
          ],
          [
           "Netherlands"
          ],
          [
           "United States of America"
          ],
          [
           "UNFCCC Secretariat"
          ],
          [
           "Guinea"
          ],
          [
           "IPCC"
          ],
          [
           "Lebanon"
          ],
          [
           "Indonesia"
          ],
          [
           "Brazil"
          ],
          [
           "Liechtenstein"
          ],
          [
           "Tajikistan"
          ],
          [
           "North Macedonia (Republic of North Macedonia)"
          ],
          [
           "Sri Lanka"
          ],
          [
           "United States of America"
          ],
          [
           "Iraq"
          ],
          [
           "Nauru"
          ],
          [
           "IPCC"
          ],
          [
           "Mauritania"
          ],
          [
           "Thailand"
          ],
          [
           "United Arab Emirates"
          ],
          [
           "African Group,Zambia"
          ],
          [
           "Costa Rica"
          ],
          [
           "International Renewable Energy Agency (IRENA)"
          ],
          [
           "UNFCCC Secretariat"
          ],
          [
           "Oil Change International"
          ],
          [
           "Austria"
          ],
          [
           "Kenya"
          ],
          [
           "Bosnia and Herzegovina"
          ],
          [
           "Ukraine"
          ],
          [
           "UNFCCC Secretariat"
          ],
          [
           "Nepal"
          ],
          [
           "Mauritius"
          ],
          [
           "South Korea"
          ],
          [
           "Trinidad and Tobago"
          ],
          [
           "Austria"
          ],
          [
           "The LANCET Countdown on Health and Climate Change"
          ],
          [
           "UNFCCC Secretariat"
          ],
          [
           "Vietnam"
          ],
          [
           "Belgium"
          ],
          [
           "Institute for Sustainable Development and International Relations (IDDRI)"
          ],
          [
           "Saint Lucia"
          ],
          [
           "Uganda"
          ],
          [
           "UNFCCC Secretariat"
          ],
          [
           "Paris Reinforce,University of Cambridge"
          ],
          [
           "UNFCCC Secretariat"
          ],
          [
           "Namibia"
          ],
          [
           "Norway"
          ],
          [
           "Japan"
          ],
          [
           "Belgium"
          ],
          [
           "Russia"
          ],
          [
           "Vietnam"
          ],
          [
           "Stockholm Environment Institute (SEI)"
          ],
          [
           "Dominican Republic"
          ],
          [
           "Tunisia"
          ],
          [
           "Madagascar"
          ],
          [
           "Care About Climate (CAC)"
          ],
          [
           "UNFCCC Secretariat"
          ],
          [
           "IPCC"
          ],
          [
           "UNFCCC Secretariat"
          ],
          [
           "Iceland"
          ],
          [
           "Bhutan"
          ],
          [
           "Kuwait"
          ],
          [
           "Marshall Islands"
          ],
          [
           "IPCC"
          ],
          [
           "UNFCCC Secretariat"
          ],
          [
           "Rwanda"
          ],
          [
           "Vanuatu"
          ],
          [
           "Togo"
          ],
          [
           "Australia"
          ],
          [
           "UNFCCC Secretariat"
          ],
          [
           "Armenia"
          ],
          [
           "Oman"
          ],
          [
           "United Nations Educational,Scientific and Cultural Organization (UNESCO)"
          ],
          [
           "South Korea"
          ],
          [
           "Somalia"
          ],
          [
           "Cambodia"
          ],
          [
           "Aviva Investors"
          ],
          [
           "Greece"
          ],
          [
           "International Cryosphere Climate Initiative (ICCI)"
          ],
          [
           "UNFCCC Secretariat"
          ],
          [
           "El Salvador"
          ],
          [
           "Cook Islands"
          ],
          [
           "China"
          ],
          [
           "Slovenia"
          ],
          [
           "International Labour Organization (ILO)"
          ],
          [
           "Suriname"
          ],
          [
           "Cabo Verde"
          ],
          [
           "Singapore"
          ],
          [
           "Russia"
          ],
          [
           "IPCC"
          ],
          [
           "United Nations Development Programme (UNDP)"
          ],
          [
           "Slovakia"
          ],
          [
           "Organization of the Petroleum Exporting Countries (OPEC)"
          ],
          [
           "Chile"
          ],
          [
           "Singapore"
          ],
          [
           "International Centre for Integrated Mountain Development (ICIMOD)"
          ],
          [
           "Qatar"
          ],
          [
           "Global Alliance for the Future of Food"
          ],
          [
           "Burundi"
          ],
          [
           "UNFCCC Secretariat"
          ],
          [
           "Argentina"
          ],
          [
           "Fiji"
          ],
          [
           "Costa Rica"
          ],
          [
           "Ecuador"
          ],
          [
           "Andorra"
          ],
          [
           "Serbia"
          ],
          [
           "Sweden"
          ],
          [
           "Turkmenistan"
          ],
          [
           "Armenia"
          ],
          [
           "South Sudan"
          ],
          [
           "NDC ASPECTS"
          ],
          [
           "Gabon"
          ],
          [
           "UNFCCC Secretariat"
          ],
          [
           "Zambia"
          ],
          [
           "Estonia"
          ],
          [
           "Democratic Republic of Congo"
          ],
          [
           "Romania"
          ],
          [
           "IPCC"
          ],
          [
           "Center for Climate and Energy Solutions (C2ES)"
          ],
          [
           "International Council on Monuments and Sites (ICOMOS)"
          ],
          [
           "Ghana"
          ],
          [
           "Canada"
          ],
          [
           "UNFCCC Secretariat"
          ],
          [
           "International Union for Conservation of Nature (IUCN)"
          ],
          [
           "European Union"
          ],
          [
           "Colombia"
          ],
          [
           "Gambia"
          ],
          [
           "UNFCCC Secretariat"
          ],
          [
           "Germany"
          ],
          [
           "Malaysia"
          ],
          [
           "UNFCCC Secretariat"
          ],
          [
           "Eswatini"
          ],
          [
           "Cyprus"
          ],
          [
           "Japan"
          ],
          [
           "Plymouth Marine Laboratory (PML)"
          ],
          [
           "Panama"
          ],
          [
           "Saudi Arabia"
          ],
          [
           "Paraguay"
          ],
          [
           "IPCC"
          ],
          [
           "Panama"
          ],
          [
           "Moldova"
          ],
          [
           "South Africa"
          ],
          [
           "Turkey"
          ],
          [
           "Argentina"
          ],
          [
           "IPCC"
          ],
          [
           "Comoros"
          ],
          [
           "European Union"
          ],
          [
           "World Resources Institute (WRI)"
          ],
          [
           "Canada"
          ],
          [
           "Germany"
          ],
          [
           "Jordan"
          ],
          [
           "UNFCCC Secretariat"
          ],
          [
           "Zambia"
          ],
          [
           "Korea,North"
          ],
          [
           "Eritrea"
          ],
          [
           "Uganda"
          ],
          [
           "Global Alliance for National Human Rights Institutions (GANHRI)"
          ],
          [
           "Malta"
          ],
          [
           "UNFCCC Secretariat"
          ],
          [
           "Pakistan"
          ],
          [
           "Colombia"
          ],
          [
           "Papua New Guinea"
          ],
          [
           "United Nations High Commissioner for Human Rights (OHCHR)"
          ],
          [
           "San Marino"
          ],
          [
           "Iceland"
          ],
          [
           "Center for Climate and Energy Solutions (C2ES)"
          ],
          [
           "Local Governments and Municipal Authorities (LGMA)"
          ],
          [
           "Finland"
          ],
          [
           "Somalia"
          ],
          [
           "North Macedonia (Republic of North Macedonia)"
          ],
          [
           "Côte d'Ivoire"
          ],
          [
           "UNFCCC Secretariat"
          ],
          [
           "Andorra"
          ],
          [
           "Transforma,External organization authors"
          ],
          [
           "Ghana"
          ],
          [
           "Serbia"
          ],
          [
           "Sweden"
          ],
          [
           "Cambodia"
          ],
          [
           "Portugal"
          ],
          [
           "India Water Foundation"
          ],
          [
           "United States of America"
          ],
          [
           "Slovakia"
          ],
          [
           "Singapore"
          ],
          [
           "European Space Agency (ESA)"
          ],
          [
           "UNFCCC Secretariat"
          ],
          [
           "Côte d'Ivoire"
          ],
          [
           "University of Durham"
          ],
          [
           "Egypt"
          ],
          [
           "Bolivia"
          ],
          [
           "France"
          ],
          [
           "China"
          ],
          [
           "United Nations Environment Programme (UNEP)"
          ],
          [
           "Antigua and Barbuda"
          ],
          [
           "UNFCCC Secretariat"
          ],
          [
           "Qatar"
          ],
          [
           "France"
          ],
          [
           "Singapore"
          ],
          [
           "Eritrea"
          ],
          [
           "South Korea"
          ],
          [
           "UNFCCC Secretariat"
          ],
          [
           "King Abdullah Petroleum Studies and Research Center (KAPSARC)"
          ],
          [
           "Solomon Islands"
          ],
          [
           "Chile"
          ],
          [
           "Cambodia"
          ],
          [
           "Portugal"
          ],
          [
           "Vote Climate One"
          ],
          [
           "World Green Building Council (WorldGBC)"
          ],
          [
           "Grenada"
          ],
          [
           "Seychelles"
          ],
          [
           "UNFCCC Secretariat"
          ],
          [
           "Jordan"
          ],
          [
           "Democratic Republic of Congo"
          ],
          [
           "Estonia"
          ],
          [
           "University of Maryland"
          ],
          [
           "Malta"
          ],
          [
           "UNFCCC Secretariat"
          ],
          [
           "IPCC"
          ],
          [
           "Papua New Guinea"
          ],
          [
           "Uruguay"
          ],
          [
           "Samoa"
          ],
          [
           "Cyprus"
          ],
          [
           "Ethiopia"
          ],
          [
           "Moldova"
          ],
          [
           "South Africa"
          ],
          [
           "Germany"
          ],
          [
           "UNFCCC Secretariat"
          ],
          [
           "Gambia"
          ],
          [
           "Tunisia"
          ],
          [
           "Argentina"
          ],
          [
           "Comoros"
          ],
          [
           "European Union"
          ],
          [
           "Canada"
          ],
          [
           "Panama"
          ],
          [
           "UNFCCC Secretariat"
          ],
          [
           "Gabon"
          ],
          [
           "Germany"
          ],
          [
           "Turkey"
          ],
          [
           "Malaysia"
          ],
          [
           "Bezos Earth Fund,ClimateWorks Foundation,Climate Action Tracker,Climate Analytics,NewClimate Institute,the United Nations Climate Change High-Level Champions,and World Resources Institute"
          ],
          [
           "Eswatini"
          ],
          [
           "Cyprus"
          ],
          [
           "Japan"
          ],
          [
           "Germany"
          ],
          [
           "Canada"
          ],
          [
           "Peru"
          ],
          [
           "Tuvalu"
          ],
          [
           "Armenia"
          ],
          [
           "South Sudan"
          ],
          [
           "Morocco"
          ],
          [
           "Zambia"
          ],
          [
           "Romania"
          ],
          [
           "Pakistan"
          ],
          [
           "Partnership on Sustainable,Low Carbon Transport (SLOCAT)"
          ],
          [
           "Institutional Investors Group on Climate Change (IIGCC)"
          ],
          [
           "Organisation for Economic Co-operation and Development (OECD)"
          ],
          [
           "Canada"
          ],
          [
           "International Work Group for Indigenous Affairs (IWGIA)"
          ],
          [
           "United Nations Office for Disaster Risk Reduction (UNDRR)"
          ],
          [
           "Canada"
          ],
          [
           "Colombia"
          ],
          [
           "National Institute for Environmental Studies (NIES) Japan"
          ],
          [
           "IPCC"
          ],
          [
           "Center for Climate and Energy Solutions (C2ES)"
          ],
          [
           "Guatemala"
          ],
          [
           "UNFCCC Secretariat"
          ],
          [
           "Lesotho"
          ],
          [
           "IPCC"
          ],
          [
           "Indonesia"
          ],
          [
           "Brazil"
          ],
          [
           "Marrakech Partnership"
          ],
          [
           "Netherlands"
          ],
          [
           "Mexico"
          ],
          [
           "Syria"
          ],
          [
           "United States of America"
          ],
          [
           "Sri Lanka"
          ],
          [
           "United States of America"
          ],
          [
           "Latvia"
          ],
          [
           "IPCC"
          ],
          [
           "United Kingdom"
          ],
          [
           "United Kingdom"
          ],
          [
           "India"
          ],
          [
           "Nicaragua"
          ],
          [
           "Mongolia"
          ],
          [
           "UNFCCC Consultative Group of Experts"
          ],
          [
           "UNFCCC Secretariat"
          ],
          [
           "Lithuania"
          ],
          [
           "UNFCCC Secretariat"
          ],
          [
           "UNFCCC Secretariat"
          ],
          [
           "UNFCCC Secretariat"
          ],
          [
           "Ireland"
          ],
          [
           "Bahrain"
          ],
          [
           "Institute for Global Environmental Strategies (IGES)"
          ],
          [
           "India"
          ],
          [
           "Togo"
          ],
          [
           "CONSTRAIN (Constraining Uncertainty of Multi-Decadal Climate Projections)"
          ],
          [
           "Lao People's Democratic Republic"
          ],
          [
           "IPCC"
          ],
          [
           "Haiti"
          ],
          [
           "UNFCCC Secretariat"
          ],
          [
           "Gabon"
          ],
          [
           "New Zealand"
          ],
          [
           "Uruguay"
          ],
          [
           "Bangladesh"
          ],
          [
           "Israel"
          ],
          [
           "Netherlands"
          ],
          [
           "Switzerland"
          ],
          [
           "Tanzania"
          ],
          [
           "Morocco"
          ],
          [
           "UNFCCC Secretariat"
          ],
          [
           "UNFCCC Secretariat"
          ],
          [
           "Nigeria"
          ],
          [
           "Belarus"
          ],
          [
           "UNFCCC Secretariat"
          ],
          [
           "UNFCCC Secretariat"
          ],
          [
           "Liechtenstein"
          ],
          [
           "Institute for Global Environmental Strategies (IGES),Japan Aerospace Exploration Agency (JAXA)"
          ],
          [
           "Mauritania"
          ],
          [
           "Nauru"
          ],
          [
           "IPCC"
          ],
          [
           "UNFCCC Secretariat"
          ],
          [
           "IPCC"
          ],
          [
           "UNFCCC Secretariat"
          ],
          [
           "Iceland"
          ],
          [
           "United Arab Emirates"
          ],
          [
           "Thermal Storage UK"
          ],
          [
           "Thailand"
          ],
          [
           "Arab Group,Kuwait"
          ],
          [
           "Djibouti"
          ],
          [
           "Rwanda"
          ],
          [
           "European Union,France,European Commission"
          ],
          [
           "Uzbekistan"
          ],
          [
           "UNFCCC Secretariat"
          ],
          [
           "International Centre for Integrated Mountain Development (ICIMOD)"
          ],
          [
           "Togo"
          ],
          [
           "Australia"
          ],
          [
           "United Kingdom"
          ],
          [
           "Mauritius"
          ],
          [
           "Netherlands"
          ],
          [
           "Jamaica"
          ],
          [
           "Belgium"
          ],
          [
           "Adaptation Research Alliance (ARA)"
          ],
          [
           "Dominican Republic"
          ],
          [
           "Luxembourg"
          ],
          [
           "Carbon Neutrality Coalition (CNC)"
          ],
          [
           "UNFCCC Secretariat"
          ],
          [
           "Center for Climate and Energy Solutions (C2ES)"
          ],
          [
           "Myanmar"
          ],
          [
           "Norway"
          ],
          [
           "Nepal"
          ],
          [
           "Marrakech Partnership"
          ],
          [
           "NewClimate Institute for Climate Policy and Global Sustainability"
          ],
          [
           "Mauritius"
          ],
          [
           "India,Like-minded Developing Countries (LMDC)"
          ],
          [
           "Kazakhstan"
          ],
          [
           "Overseas Development Institute (ODI)"
          ],
          [
           "Bolivia"
          ],
          [
           "Honduras"
          ],
          [
           "UNFCCC Secretariat"
          ],
          [
           "Norway"
          ],
          [
           "Compilation and synthesis of fourth biennial reports of Parties included in Annex I to the Convention"
          ],
          [
           "Venezuela"
          ],
          [
           "Trinidad and Tobago"
          ],
          [
           "Austria"
          ],
          [
           "Vietnam"
          ],
          [
           "Norway"
          ],
          [
           "Saint Lucia"
          ],
          [
           "UNFCCC Secretariat"
          ],
          [
           "Ukraine"
          ],
          [
           "Climate Equity Reference Project Canada (CERP)"
          ],
          [
           "UNFCCC Secretariat"
          ],
          [
           "Togo"
          ],
          [
           "Woodwell Climate Research Center"
          ],
          [
           "Portugal"
          ],
          [
           "Denmark"
          ],
          [
           "Benin"
          ],
          [
           "Vanuatu"
          ]
         ],
         "hovertemplate": "<b>%{hovertext}</b><br><br>x=%{x}<br>y=%{y}<br>authors=%{customdata[0]}<br>color=%{marker.color}<extra></extra>",
         "hovertext": [
          "Guyana First NDC",
          "Technical analysis of the first biennial update report of Cambodia submitted on 14 August 2020. Summary report by the team of technical experts",
          "The government of Japan Submission to the Technical Dialogue of the First Global Stocktake",
          "NIS to BUR3. Republic of Moldova.",
          "CAD2.0 Technical Dialogue inputs for the GST: University of North Carolina - Chapel Hill Research",
          "Facilitative sharing of views record - BUR3 Brazil",
          "AR6 Synthesis Report: Annex II: Acronyms, Chemical Symbols and Scientific Units",
          "Technical analysis of the fourth biennial update report of Argentina submitted on 31 December 2021. Summary report by the team of technical experts",
          "Technical analysis of the third biennial update report of Uruguay submitted on 31 December 2019. Summary report by the team of technical experts",
          "Liberia. Biennial update report (BUR). BUR 1.",
          "Tajikistan. National Communication (NC). NC 4.",
          "Submission for the first input phase of the global stocktake: International Network for Sustainable Energy",
          "State of Palestine. National Communication (NC). NC 1.",
          "Updated NDC Serbia",
          "Barbados First NDC (Updated submission)",
          "Kyrgyzstan. National Communication (NC). NC 3.",
          "Annex III: Contributors to the IPCC Special Report on Climate Change and Land",
          "Annual compilation and accounting report for Annex B Parties under the Kyoto Protocol for 2020. Note by the secretariat",
          "Honduras. Biennial update report (BUR). BUR1 - Technical Annex i",
          "Technical analysis of the first biennial update report of Lesotho submitted on 9 November 2021. Summary report by the team of technical experts",
          "Bulgaria. 2022 National Inventory Report (NIR)",
          "Fiji First NDC (Archived)",
          "Submission by ICOMOS on behalf of the Climate Heritage Network",
          "New Zealand’s Fast-Start Finance: 2011 Progress Report",
          "Monaco First NDC (Updated submission)",
          "Switzerland. National Communication (NC). NC 8. Biennial Reports (BR). BR 5.",
          "Tile Til Eo - 2050 Climate Strategy \"Lighting the way\" - Press release",
          "Uruguay. Biennial update report (BUR). BUR 4.",
          "NDC update cover letter",
          "Montenegro. Biennial update report (BUR). BUR 3.",
          "Constituted Body GST synthesis report: WIM ExCom Synthesis report for the technical assessment component of the first GST",
          "Facilitative sharing of views record - BUR2 Ghana",
          "Climate Action Network's Submission for the First Input Phase of the Global Stocktake",
          "ACTUALIZACIÓN DE CONTRIBUCIONES",
          "United Kingdom. National Communication (NC). NC 8. Biennial Reports (BR). BR 5.",
          "Sudan. National Communication (NC). NC 2.",
          "Mongolia. National Communication (NC). NC 3.",
          "Facilitative sharing of views record - BUR2 Azerbaijan",
          "Constituted Body GST Synthesis Report: LEG synthesis report for the technical assessment component of the first global stocktake",
          "Global Transport and Climate Change: Transport and Climate Change Global Status Report - 2nd edition from the Partnership on Sustainable Low Carbon Transport (SLoCaT)",
          "Niger First NDC (Updated submission)",
          "Bahamas First NDC",
          "Ireland. 2021 National Inventory Report (NIR)",
          "Liechtenstein. 2022 National Inventory Report (NIR)",
          "Technical analysis of the first biennial update report of Tajikistan submitted on 18 July 2019. Summary report by the team of technical experts",
          "United States of America. Biennial Reports (BR). BR 1. National Communication (NC). NC 6 - Methodology I",
          "Brazil. Biennial update report (BUR). BUR4 - Technical Annex I",
          "India's Long-Term Low-Carbon Development Strategy",
          "Guinea-Bissau First NDC (Archived)",
          "Technical analysis of the first biennial update report of Belize submitted on 5 May 2021. Summary report by the team of technical experts",
          "Lebanon First NDC (Updated submission)",
          "Chapter 1: Framing and Context",
          "Mexico. Biennial update report (BUR) BUR 2. National Communication (NC). NC6 - Annex",
          "Climate Action Pathway: Transport. Action Table",
          "New Zealand. 2021 National Inventory Report (NIR)",
          "Submission of information to the 1st Global Stocktake: Data products from prototype systems of the EU-funded CoCO2 project",
          "United States of America's Adaptation communication",
          "State of Palestine First NDC (Archived)",
          "Technical report on the technical analysis of the technical annex to the first biennial update report of Honduras submitted in accordance with decision 14/CP.19, paragraph 7, on 19 November 2020 - Part 1",
          "Technical analysis of the fourth biennial update report of Singapore submitted on 27 December 2020. Summary report by the team of technical experts",
          "The Republic of North Macedonia First NDC (Updated submission)",
          "Tajikistan. Biennial update report (BUR). BUR 1.",
          "Ukraine. 2022 National Inventory Report (NIR)",
          "Submission to the UNFCCC Global Stocktake - Adaptation Research Alliance",
          "Denmark. 2022 National Inventory Report (NIR)",
          "Jamaica First NDC (Updated submission)",
          "Technical analysis of the second biennial update report of Malaysia submitted on 27 September 2018. Summary report by the team of technical experts",
          "Low-Carbon Development Strategy of the Slovak Republic until 2030 with a View to 2050",
          "Australia’s Fast-Start Climate Finance: Investing in Effective and Sustainable Climate Outcomes (Updated Version)",
          "Submission from the International Development Law Organization (IDLO) to the global stocktake",
          "Norwegian Climate Finance 2010",
          "Joint Submission to the first Global Stocktake: Real-time anthropogenic emission observations from Japanese passenger aircrafts in support of the monitoring of the climate mitigation progress The Japan Aerospace Exploration Agency (JAXA), ANA HOLDINGS INC.(ANAHD), and the Institute for the Global Environmental Strategies (IGES)",
          "Accompanying information: Australian National Climate Resilience and Adaptation Strategy",
          "NDC revised(Updated submission)",
          "Climate Action Pathway. Finance. Action Table",
          "Hungary. 2021 National Inventory Report (NIR)",
          "Bosnia and Herzegovina. National Communication (NC). NC 3.",
          "Nationally determined contributions under the Paris Agreement. Synthesis report by the secretariat",
          "Kenya. National Communication (NC). NC 2.",
          "Air Transport Action Group (ATAG) to the First Global Stocktake",
          "Japan's Adaptation communication",
          "Belize. Biennial update report (BUR). BUR 1. National inventory report.",
          "Stratégie à long terme de la Belgique",
          "NOTA VERBAL CMNUCC NDC Actualizada Venezuela",
          "Saint Lucia. National Communication (NC). NC 3.",
          "Tonga Second NDC",
          "Malawi. National communication (NC). NC 3",
          "NDC Aspects submission to the GST: Enhancing International Cooperation through a Sectoral Perspective",
          "Austria's Adaptation communication",
          "Kiribati Enhanced NDC",
          "Brazil First NDC - Second update",
          "Uganda. National Communication (NC). NC 3.",
          "Afghanistan. Biennial update report (BUR). BUR 1. National inventory report.",
          "Submission from Iberdrola to the first GST",
          "Malawi First NDC (Archived)",
          "The Glasgow Financial Alliance for Net Zero: Our progress and plan towards a net-zero global economy",
          "Technical analysis of the second biennial update report of Bosnia and Herzegovina submitted on 13 June 2017. Summary report by the team of technical experts.",
          "Belize First NDC (Archived)",
          "Japan. 2021 National Inventory Report (NIR)",
          "Dominican Republic First NDC (Archived)",
          "Submission to the First Global Stocktake: The International Transport Forum (ITF)",
          "Samoa First NDC (Archived)",
          "North Macedonia. Biennial update report (BUR). BUR 3.",
          "Mozambique First NDC (Updated submission)",
          "FSV1 record - Antigua and Barbuda",
          "Annex IV: Modes of Variability",
          "Marshall Islands. National Communication (NC). NC 2.",
          "The University of Cambridge on behalf of the PARIS REINFORCE project: input to the first global stocktake: SYR (b) The overall effect of Partiesâ€™ NDCs and overall progress made by Parties towards the implementation of their NDCs, including the information referred to in Article 13, para 7(b), of the Paris Agreement (will include information on the adaptation efforts of developing country Parties)",
          "Kyrgyzstan First NDC (Archived)",
          "Updated synthesis report by the KCI: Inputs to the technical assessment component of the first global stocktake on the impacts of the implementation of response measures",
          "Chapter 1: Framing and Context of the Report",
          "National Urban Mobility Policies and Investment Programmes in support of Climate Commitments in Latin America and the Caribbean",
          "Iceland’s Fast Start Finance – Status August 2013",
          "Timor-Leste's Adaptation communication",
          "Australia's Fast-Start Finance Progress Report",
          "Rwanda's Adaptation communication",
          "Uzbekistan First NDC (Archived)",
          "Submission by Canada: First Technical Dialogue under the Global Stocktake",
          "Facilitative sharing of views record 2 - Thailand",
          "Zimbabwe First NDC (Updated submission)",
          "Slovenia. Biennial Reports (BR). BR 3. National Communication (NC). NC 7.",
          "Republic of Korea First NDC (Archived)",
          "Inputs for the First Global Stocktake Submission by the International Union for Conservation of Nature (IUCN) - February 2022",
          "Birdlife International submission to the first global stocktake",
          "Chad First NDC (Updated submission)",
          "Cabo Verde. National Communication (NC). NC 3.",
          "Congo First NDC (Updated submission)",
          "Woodwell Climate Research Center, Arctic Initiative at Harvard Kennedy School, Alaska Institute for Justice: Submission to the First Input Phase of the Global Stocktake",
          "China. National communication (NC). NC 3.",
          "France. 2022 National Inventory Report (NIR)",
          "Urban Development and the African NDCs: From national commitments to City Climate Actions",
          "Costa Rica First NDC (Archived)",
          "El Salvador. National Communication (NC). NC 3.",
          "IIASA Policy Brief 30: Avoiding overshoot: why and how - Submission to the Global Stocktake",
          "China First NDC (Updated submission letter)",
          "Greece. 2022 National Inventory Report (NIR)",
          "Sierra Leone First NDC (Archived)",
          "Angola First NDC (Archived)",
          "Contribución Nacionalmente Determinada de Guatemala(Updated submission)",
          "Suriname. Biennial update report (BUR). BUR 1 - Technical Annex II",
          "Equatorial Guinea NDC 2022 Update",
          "Costa Rica. Biennial update report (BUR). BUR 2.",
          "France. National Communication (NC). NC 7.",
          "China's submission to the global stocktake",
          "Slovakia. 2022 National Inventory Report (NIR)",
          "Sweden. Biennial report (BR). BR 4",
          "Burundi First NDC (Archived)",
          "Urban climate action, the urban content of the NDCs: Global review 2022",
          "Chile. Biennial update report (BUR). BUR4.",
          "Submission in response to the call for inputs to the first Global Stocktake - The Fossil Fuel Non-Proliferation Treaty Initiative",
          "Egypt. Biennial update report (BUR). BUR 1.",
          "Croatia. 2022 National Inventory Report (NIR)",
          "Addendum to the synthesis report for the technical assessment component of the first global stocktake: Overall effect of Parties’ NDCs and overall progress made by Parties towards the implementation of their NDCs, including the information referred to in Article 13, paragraph 7(b), of the Paris Agreement",
          "Finland. National Communication (NC). NC 8.",
          "Facilitative sharing of views record - Nigeria",
          "Communication and update on Switzerland's NDC",
          "Algeria. National Communication (NC). NC 2.",
          "Estrategia climática de largo plazo de Chile  / Chile's Long -Term Climate Strategy",
          "Kazakhstan. Biennial report (BR). BR 4",
          "Yemen. National Communication (NC). NC 3.",
          "Russian Federation First NDC",
          "Turkmenistan First NDC",
          "Group of Governance on Climate Change of the Universitat Politècnica de Catalunya - Fairness, including equity, and ambition in the mitigation component of the Paris Agreement",
          "Australia NDC Letter to UNFCCC",
          "Marshall Islands First NDC (Archived)",
          "Spain. Biennial report (BR). BR 4",
          "iGST submission: Negotiator Briefing: A Needs-Based Approach to Loss and Damage",
          "Record of the facilitative sharing of views at the fifty - second to fifty - fifth session of the Subsidiary Body for Implementation: India (FSVR3)",
          "Collective Input to the Global Stocktake Submission by the Islamic Republic of Pakistan on behalf of the Group of 77 and China",
          "European Union. 2021 National Inventory Report (NIR)",
          "Paraguay First NDC (Updated submission)",
          "Shifting Public Financial Flows from Fossil Fuels to Clean Energy under the Paris Agreement International Institute for Sustainable Development Energy Program Submission to the UNFCCC First Global Stocktake",
          "Saudi Arabia First NDC (Archived)",
          "Cameroon. National Communication (NC). NC 2.",
          "Ghana First NDC (Archived)",
          "Panama First NDC (Archived)",
          "Cuba First NDC (Updated submission)",
          "ESTRATEGIA CLIMÃTICA DE LARGO PLAZO DE PARA UN DESARROLLO BAJO EN EMISIONES DE GASES DE EFECTO INVERNADERO Y RESILIENTE AL CLIMA URUGUAY",
          "Technical analysis of the third biennial update report of Chile submitted on 3 December 2018. Summary report by the team of technical experts",
          "Gabon. Biennial update report (BUR). BUR 1 - Technical Annex",
          "Armenia First NDC (Archived)",
          "Submission to the UNFCCC Global Stocktake Inconsistencies in national greenhouse gas emissions reports and their potential effect on the Global Stocktake",
          "Maldives First NDC (Updated submission)",
          "Peru. National Communication (NC). NC 3.",
          "Technical analysis of the first biennial update report of Rwanda submitted on 29 December 2021. Summary report by the team of technical experts",
          "Second Update of First Nationally Determined Contribution",
          "Albania First NDC (Archived)",
          "South Africa.Biennial update report (BUR). BUR 3. National inventory report.",
          "Tunisia's Updated NDC: Executive summary",
          "Argentina. Biennial update report (BUR). BUR 4.",
          "Revised national low carbon strategy of France",
          "Viet Nam. National Communication (NC). NC 3.",
          "Georgia First NDC (Updated submission)",
          "Canada. Biennial report (BR). BR 4",
          "Albania. National Communication (NC). NC 3.",
          "University of Exeter global stocktake submission - global carbon budget",
          "Ethiopia First NDC (Updated submission)",
          "Colombia. Biennial update report (BUR). BUR3.",
          "IDDRI submission to the GST on behalf of the IMAGINE project",
          "Annex II: Definitions, Units and Conventions",
          "Oman. Biennial update report (BUR). BUR 1.",
          "Nationally Determined Contribution of Turkmenistan under the Paris Agreement",
          "Biennial in-session workshop on information to be provided by Parties in accordance with Article 9, paragraph 5, of the Paris Agreement. Summary report by the secretariat",
          "Malta. Biennial Reports (BR). BR 5.",
          "Nationally determined contributions under the Paris Agreement. Synthesis report by the secretariat. Addendum. Additional information on domestic mitigation measures",
          "Technical analysis of the second biennial update report of Togo submitted on 13 December 2021. Summary report by the team of technical experts",
          "Proposed responses of the International Platform on Adaptation Metrics (IPAM) to the Guiding questions by the SB Chairs for the Technical Assessment component of the first Global Stocktake",
          "Jordan. National Communication (NC). NC 3.",
          "Eritrea. Biennial update report (BUR). BUR 1.",
          "Czechia. Biennial Report (BR). BR 3. National Communication (NC). NC 7.",
          "Russian Federation. National Communication (NC). NC 7.",
          "Submission to the Paris Climate agreement Global Stocktake - Poems for Parliament",
          "Sao Tome and Principe First NDC (Archived)",
          "Record of the facilitative sharing of views at the fifty-second to fifty-fifth session of the Subsidiary Body for Implementation: Tajikistan (FSVR1)",
          "Submission by Institute for Governance & Sustainable Development (IGSD) to the Global Stocktake",
          "Papua New Guinea. Biennial update report (BUR). BUR2.",
          "Facilitative sharing of views record -BUR2 Montenegro",
          "Côte d'Ivoire. National Communication (NC). NC 3.",
          "Second IDDRI submission to the GST",
          "Submission to the UNFCCC global stocktake: Military and conflict emissions - Submission from Tipping Point North South, Conflict and Environmental Observatory, Scientists for Global Responsibility, Costs of War, Transform Defence, Concrete Impacts, WILPF, ZOi, Norwegian People's Aid",
          "Finland. National Communication (NC). NC 7.",
          "Switzerland – Fast Start Financing (Status June 8th 2011)",
          "Poland. 2022 National Inventory Report (NIR)",
          "WWF response to the call for inputs to the first Global Stocktake (2)",
          "Congo. National Communication (NC). NC 2.",
          "Algeria First NDC",
          "Guatemala First NDC (Archived)",
          "Chad. National communication (NC). NC 3.",
          "lettre de trans Rapport CDN Sénégal",
          "Non-Party Stakeholder Submission to the Global Stocktake: Climate Analytics",
          "Towards low-emission development and climate resilient in Latin America and the Caribbean: Advances in national strategies",
          "Burkina Faso. National Communication (NC). NC 3",
          "Government of Tuvalu Updated Nationally Determined Contribution",
          "Chile's Adaptation Communication",
          "ILO Global Stocktake. Advancing climate action with decent work and a just transition for all. Submission by the International Labour Office",
          "China's Mid-Century Long-Term Low Greenhouse Gas Emission Development Strategy",
          "France. Biennial report (BR). BR 4",
          "Costa Rica First NDC (Updated submission)",
          "Enhanced NDC Cover Letter",
          "Seychelles First NDC (Updated submission)",
          "Angola. National Communication (NC). NC 1.",
          "Sweden. 2021 National Inventory Report (NIR)",
          "Antigua and Barbuda. National Communication (NC). NC 3.",
          "Zimbabwe. National Communication (NC). NC 3.",
          "Solomon Islands First NDC (Archived)",
          "Republic of Korea. Biennial update report (BUR). BUR 3.",
          "Croatia. Biennial Reports (BR). BR 3. National Communication (NC). NC 7.",
          "Egypt. National Communication (NC). NC 3.",
          "Submission by the United Nations Environment Programme (UNEP)  to the United Nations Framework Convention on Climate Change on the Global Stock take (19/CMA.1 paragraph 36 & 37)",
          "Central African Republic. National Communication (NC). NC 2.",
          "Grenada. National communication (NC). NC 2.",
          "Switzerland submission Para 29 Glasgow Climate Pact",
          "Cambodia First NDC (Archived)",
          "We Mean Business Coalition submission to the global stocktake",
          "Malta. National Communication (NC). NC 7.",
          "Australia. 2022 National Inventory Report (NIR)",
          "Nationally determined contributions under the Paris Agreement. Synthesis report by the secretariat",
          "France First NDC-Complement (Archived)",
          "Technical analysis of the second biennial update report of the former Yugoslav Republic of Macedonia submitted on 5 March 2018. Summary report by the team of technical experts",
          "Kazakhstan. 2021 National Inventory Report (NIR)",
          "Equatorial Guinea. National communication (NC). NC1.",
          "Czechia. 2021 National Inventory Report (NIR)",
          "Biennial in-session workshop on information to be provided by Parties in accordance with Article 9, paragraph 5, of the Paris Agreement. Summary report by the secretariat",
          "Sao Tome and Principe. Biennial update report (BUR). BUR1.",
          "Papua New Guinea. National Communication (NC). NC 2.",
          "South Africa. National Communication (NC). NC 3 - Annex",
          "Mali First NDC (Archived)",
          "Argentina. Biennial update report (BUR). BUR 4. National inventory report.",
          "Global Climate and Health Alliance, a project of the Social Good Fund (GCHA) - Maximizing health and equity gains of mitigation policies to deliver the Paris Agreement: submission to the third call for technical inputs to the first Global Stocktake",
          "Resolution on Slovenia's Long-Term Climate Strategy until 2050 (ReDPS50)",
          "Technical Summary",
          "Georgia. Biennial update report (BUR). BUR 2. National inventory report.",
          "Canada. Biennial Reports (BR). BR 3. National Communication (NC). NC 7.",
          "EU Fast Start Finance Report 2012",
          "Colombia. National Communication (NC). NC 3. Executive Summary",
          "Philippines. National Communication (NC). NC 2.",
          "Preliminary Findings: Observations and Recommendations regarding the Innovations used in the first Technical Dialogue of the GST - Mediators Beyond Borders International (MBBI)",
          "Cuba. Biennial update report (BUR). BUR1.",
          "Estrategia Nacional de Desarrollo con Bajas Emisiones",
          "Mauritania. Technical analysis of the first biennial update report of Mauritania submitted on 14 March 2016. Summary report by the team of technical experts.",
          "Romania. 2022 National Inventory Report (NIR)",
          "Japan’s Fast-Start Financing for Developing Countries up to 2012 (As of 31 March, 2011)",
          "South Africa's Low Emission Development Strategy 2050",
          "Gabon. Biennial update report (BUR). BUR 1. National inventory report.",
          "Technical analysis of the third biennial update report of India submitted on 20 February 2021. Summary report by the team of technical experts",
          "Malaysia. Biennial update report (BUR). BUR 2. National Communication (NC). NC 3 - Annex",
          "Palau. National communication (NC). NC2.",
          "Peru First NDC (Updated submission)",
          "Submission of input to the first Global Stocktake - Ipieca",
          "Albania. Biennial update report (BUR). BUR 1.",
          "Will Nations Meet the Paris Agreement’s Emissions and Temperature Goals? - Submission by Resources for the Future",
          "iGST submission: Negotiator Briefing: A Needs-based Approach to Assessment and Stocktaking Key Messages from the Workshop â€œEnabling a Needs-Based and Equitable Climate Regimeâ€",
          "Biennial update reports (BUR), National communications (NC), International consultations and analysis (ICA), Mitigation, Means of implementation",
          "Türkiye First NDC",
          "Australia First NDC (Updated submission)",
          "Spain. National Communication (NC). NC 7.",
          "Technical Summary",
          "Global Stocktake Joint Submission (ICIMOD-ICCI)",
          "Record of the facilitative sharing of views at the fifty - second to fifty - fifth session of the Subsidiary Body for mplementation: Oman (FSVR1)",
          "European Union First NDC (Archived)",
          "Official letter (Archived)",
          "Germany. National Communication (NC). NC 8. Biennial Reports (BR). BR 5.",
          "Mexico. Biennial update report (BUR) BUR 2. National Communication (NC). NC6 - Revised Version",
          "Efforts related to addressing the social and economic consequences and impacts of response measures as an input to the first global stocktake - compilation by the secretariat",
          "Climate Action Pathway: Land Use. Vision and Summary",
          "NEW ZEALAND NDC update 22 04 2020",
          "Explanatory Letter_Brazil",
          "India. National Communication (NC). NC 2 - Executive Summary",
          "Technical analysis of the first biennial update report of Botswana submitted on 6 November 2019. Summary report by the team of technical experts",
          "Guinea-Bissau. National Communication (NC). NC 3.",
          "Technical Summary",
          "Latvia. National Communication (NC). NC 8. Biennial Reports (BR). BR 5.",
          "Mozambique First NDC (Archived)",
          "Facilitative sharing of views record - BUR3 Namibia",
          "Niue. National Communication (NC). NC 2.",
          "Updated Nationally Determined Contribution of the Federated States of Micronesia",
          "State of Palestine First NDC (Updated submission)",
          "Tajikistan. National Communication (NC). NC 3.",
          "United Kingdom. Biennial report (BR). BR 4",
          "Sudan First NDC (Archived)",
          "Submission by the Food and Agriculture Organization of the United Nations (FAO) To the United Nations Framework Convention on Climate Change (UNFCCC) In relation to the First Global Stocktake",
          "Fiji Low Emission Development Strategy 2018-2050",
          "Annual compilation and accounting report for Annex B Parties under the Kyoto Protocol for 2020. Note by the secretariat",
          "Technical analysis of the first biennial update report of Maldives submitted on 24 November 2019. Summary report by the team of technical experts",
          "Honduras. Biennial update report (BUR). BUR1 - Executive Summary",
          "Uruguay. National communication (NC). NC5 - Executive Summary",
          "Sri Lanka First NDC (Archived-Updated submission)",
          "Bahamas. National Communication (NC). NC 2.",
          "Ireland. Biennial report (BR). BR 4",
          "Submission by the NAP Global Network to the First Global Stocktake: Enhancing the Formulation and Implementation of National Adaptation Plans (NAPs)",
          "Liechtenstein. Biennial Reports (BR). BR 3. National Communication (NC). NC 7.",
          "Timor-Leste Updated NDC 2022-2030",
          "Switzerland's Long-Term Climate Strategy",
          "Technical report on the technical analysis of the technical annex to the third biennial update report of Viet Nam submitted in accordance with decision 14/CP.19, paragraph 7, on 16 April 2021",
          "Technical analysis of the first biennial update report of Saint Lucia submitted on 30 December 2021. Summary report by the team of technical experts",
          "Annual report of the Paris Agreement Implementation and Compliance Committee to the Conference of the Parties serving as the meeting of the Parties to the Paris Agreement. Report by the secretariat",
          "Montenegro First NDC (Updated submission)",
          "Facilitative sharing of views record - BUR2 Colombia",
          "Constituted Body GST synthesis report: Synthesis report for the technical assessment component of the first global stocktake: Information on matters related to technology development and transfer, including the information referred to in Article 10 of the Paris Agreement, barriers and challenges faced by developing countries and good practises, experiences and potential opportunities to enhance international cooperation on mitigation and adaptation. Prepared by the Technology Executive Committee.",
          "Executive Summary_Nigerian INDC (Archived)",
          "Letter to ES (Archived)",
          "Chapter 1: Framing and Context",
          "Lao People's Democratic Republic First NDC (Updated submission)",
          "Technical analysis of the first biennial update report of Jordan submitted on 8 November 2017. Summary report by the team of technical experts.",
          "Honduras First NDC (Updated submission)",
          "Annual compilation and accounting report for Annex B Parties under the Kyoto Protocol for 2020. Note by the secretariat",
          "Sudan's First NDC",
          "United Republic of Tanzania First NDC (Updated submission)",
          "Bulgaria. Biennial Reports (BR). BR 3. National Communication (NC). NC 7.",
          "Fast Start Funding for Climate 2010-2012 - Sweden",
          "Switzerland. Biennial Reports (BR). BR 3. National Communication (NC). NC 7 - Amendment",
          "Technical analysis of the first biennial update report of the Lao People's Democratic Republic submitted on 28 July 2020. Summary report by the team of technical experts",
          "Uruguay Second NDC",
          "Submission by the United Nations World Food Programme (WFP) to the first global stocktake of the Paris Agreement (GST)",
          "United States of America. Biennial report (BR). BR 2 - Methodology",
          "Climate Action Pathway: Water. Action Table",
          "New Zealand. Biennial report (BR). BR 4",
          "Mexico. National Inventory Report (NIR).",
          "Technical analysis of the fourth biennial update report of Chile submitted on 18 January 2021. Summary report by the team of technical experts",
          "AR6 Synthesis Report: Summary for Policymakers",
          "Technical report on the technical analysis of the technical annex to the first biennial update report of Belize submitted in accordance with decision 14/CP.19, paragraph 7, on 30 August 2021",
          "Liberia First NDC (Archived)",
          "Submission from the monitoring and evalutating climate communication and education project",
          "Input from Norway to the technical dialogue of the Global Stocktake",
          "Bangladesh. National Communication (NC). NC 3.",
          "GST submission: IIASA policy brief - a fair climate",
          "Nigeria's Adaptation Communication",
          "Morocco. Biennial update report (BUR). BUR 2.",
          "Concept note by the Chairs of the Subsidiary Bodies on the second workshop under the Glasgowâ€“Sharm el-Sheikh work programme on the global goal on adaptation: â€œEnhancing adaptation action and supportâ€",
          "Facilitative sharing of views record - BUR2 Peru",
          "The University of Exeter, Global Carbon Budget 2021: Submission to GST",
          "Kuwait. Biennial update report (BUR). BUR 1.",
          "Chapter 3: Polar Regions",
          "Nationally determined contributions under the Paris Agreement. Report by the secretariat. Addendum. Additional information on the contribution of nationally determined contributions towards achieving the objective of the Convention as set out in its Article 2, and towards Article 2, paragraph 1(a), and Article 4, paragraph 1, of the Paris Agreement",
          "Iceland. Biennial Reports (BR). BR 3. National Communication (NC). NC 7.",
          "Annex II: Models",
          "180924 rmi 2050 climate strategy final_0",
          "Togo First NDC (Updated submission)",
          "Australia's Fast-Start Finance: Update Report",
          "Luxembourg. 2022 National Inventory Report (NIR)",
          "Rwanda. Biennial update report (BUR). BUR 1. National inventory report.",
          "Bhutan First NDC (Archived)",
          "Jamaica. Biennial update report (BUR). BUR 1.",
          "Uzbekistan. Biennial update report (BUR). BUR1.",
          "Joint Submission to the first Global Stocktake: The JAXA/GOSAT GHG product for tracking city-level emission changes",
          "Uganda. Biennial update report (BUR). BUR 1.",
          "Submission by the United States on the First Global Stocktake",
          "North Macedonia. National Communication (NC). NC 3.",
          "Mozambique. National Communication (NC). NC 2.",
          "Submission to the Technical Assessment component of the first Global Stocktake – Drugs for Neglected Diseases initiative",
          "Azerbaijan. Biennial update report (BUR). BUR 2.",
          "Malawi NDC Policy Brief",
          "The first Global Stocktake Technical Dialogue - Response from the Farmers Constituency",
          "Technical analysis of the second biennial update report of Armenia submitted on 5 May 2018. Summary report by the team of technical experts.",
          "Belize. Biennial update report (BUR). BUR 1.",
          "Japan. Biennial report (BR). BR 4",
          "Dominica First NDC",
          "Submission of the Government of Quebec to the first global stocktake of the paris agreement",
          "Hungary. Biennial report (BR). BR 4",
          "Botswana. Biennial update report (BUR). BUR 1.",
          "Nationally determined contributions under the Paris Agreement. Synthesis report by the secretariat",
          "Agenda for the second workshop under the Glasgowâ€“Sharm el-Sheikh work programme on the global goal on adaptation - â€œEnhancing adaptation action and supportâ€",
          "Mauritius First NDC (Archived)",
          "Afghanistan First NDC",
          "Nepal Second NDC",
          "Climate Action Pathway. Human Settlements. Action Table",
          "Statement by the Republic of Turkey regarding the report entitled \"National Greenhouse Gas Inventory 2021\" of the Greek Cypriot side",
          "Vanuatu. National communication (NC). NC 3.",
          "Saint Vincent and the Grenadines First NDC",
          "Togo. National Communication (NC). NC 4.",
          "Austria. National Communication (NC). NC 7.",
          "Bolivia (Plurinational State of) First NDC",
          "Ukraine. National Communication (NC). NC 6.",
          "Kyrgyzstan First NDC (Updated submission)",
          "Namibia. National communication (NC). NC 4.",
          "Norway's Adaptation communication",
          "Submission to UNFCCC First Global Stocktake from The Global Carbon Project within the Future Earth research initiative",
          "Denmark. Biennial Reports (BR). BR 3. National Communication (NC). NC 7.",
          "Saint Kitts and Nevis First NDC (Updated submission)",
          "Italy's Adaptation communication",
          "Technical analysis of the second biennial update report of Montenegro submitted on 3 May 2019. Summary report by the team of technical experts",
          "Long-Term Strategy on Energy and Climate Change 2020-2050",
          "Call for inputs for the first global stocktake Submitted by Climate Strategies on behalf of South to South Just Transitions project",
          "Paraguay. Biennial update report (BUR). BUR 3. National inventory report.",
          "Saudi Arabia. Biennial update report (BUR). BUR 1.",
          "AILAC - Submission to the First Global Stocktake Second Information Gathering Phase / Second Technical Dialogue",
          "Draft Technical paper: Priorities and needs: technologies for adaptation in agriculture, water resources and coastal zones; including experiences in stakeholder engagement and regulatory issues pertaining to the development, transfer and uptake of technologies in those sectors (AC20)",
          "Climate Change 2022: Mitigation of Climate Change: Summary for Policymakers",
          "Eswatini's Adaptation communication",
          "Cyprus. 2022 National Inventory Report (NIR)",
          "Japan's Fast-Start Finance for Developing Countries up to 2012 (As of 29 February, 2012)",
          "Gambia Second NDC",
          "Technical analysis of the third biennial update report of Montenegro submitted on 7 February 2022. Summary report by the team of technical experts",
          "Climate Action Plan 2050. Executive summary",
          "Malaysia First NDC (Archived)",
          "Secretariat GST synthesis report: Synthesis report for the technical assessment component of the first global stocktake: Synthesis report on the state of adaptation efforts, experiences and priorities",
          "Panama First NDC (Updated submission)",
          "Designing a meaningful global stocktake. Center for Climate and Energy Solutions (C2ES)",
          "Benefits of measurement-based methane estimates and timely emissions reductions for reaching the long-term global goal on temperature: Submission to the Global Stocktake by the Environmental Defense Fund",
          "Israel. Technical analysis of the first biennial update report of Israel submitted on 18 April 2016.",
          "Annex IV: Contributors to the Working Group II Contribution to the IPCC Sixth Assessment Report",
          "Record of the facilitative sharing of views at the fifty - second to fifty - fifth session of the Subsidiary Body for Implementation: Cambodia (FSVR1)",
          "Submission by Climate Analytics (CA) Caribbean and the Caribbean Natural Resources Institute (CANARI) on behalf of the Caribbean Climate Justice Alliance (CCJA)",
          "European Union. Biennial report (BR). BR 4",
          "Colombia First NDC (Updated submission)",
          "Addendum to the synthesis report for the technical assessment component of the first global stocktake: State of adaptation efforts, experiences and priorities",
          "Oceans and Coastal Zones Action Table (unedited)",
          "Ghana. Biennial update report (BUR). BUR3.",
          "Canada First NDC (Archived)",
          "Zambia First NDC (Archived)",
          "Estonia. National Communication (NC). NC 7.",
          "Democratic Republic of the Congo First NDC (Updated submission)",
          "Romania. National Communication (NC). NC 7.",
          "Tuvalu First NDC",
          "Letter of the Minister of Environment in relation to the updated first NDC",
          "Spain. 2021 National Inventory Report (NIR)",
          "Gabon. Biennial update report (BUR). BUR 1.",
          "Technical analysis of the third biennial update report of Armenia submitted on 17 May 2021. Summary report by the team of technical experts",
          "San Marino First NDC",
          "Canada. 2022 National Inventory Report (NIR)",
          "Colombia. Biennial update report (BUR). BUR 2. National inventory report.",
          "Papua New Guinea. Biennial update report (BUR). BUR 1.",
          "Uganda First NDC (Interim-updated submission)",
          "Plymouth Marine Laboratory (PML) submission to the first Global Stocktake - 2023",
          "Nationally determined contributions under the Paris Agreement. Synthesis report by the secretariat. Addendum. Additional information on the contribution of nationally determined contributions towards achieving the objective of the Convention as set out in its Article 2, and towards Article 2, paragraph 1(a), and Article 4, paragraph 1, of the Paris Agreement",
          "Technical analysis of the second biennial update report of Uruguay submitted on 29 December 2017. Summary report by the team of technical experts",
          "Jordan First NDC (Updated submission)",
          "Progress in the process to formulate and implement national adaptation plans. Revised note by the secretariat",
          "Zimbabwe First NDC (Archived)",
          "Democratic People's Republic of Korea First NDC (Updated submission)",
          "Eritrea. National communication (NC). NC 3.",
          "Pakistan First NDC (Updated submission)",
          "Annex IV: Contributors to the IPCC WGIII Sixth Assessment Report",
          "Canada's Mid-Century Long-Term Strategy",
          "Germany. Biennial report (BR). BR 4",
          "EU Fast Start Finance Report to the UNFCCC Secretariat",
          "Final Technical Submission to the UNFCCC- Ahead of the third Technical Dialogue of the Global Stocktake.Submitted by observer organization ClimateWorks Foundation on behalf of the iGST consortium",
          "Reinforcing the implementation of the Paris Agreement in countries enduring armed conflict and other violence: The International Committee of the Red Cross (ICRCâ€™s) submission to the first Global Stocktake of the Paris Agreement",
          "Papua New Guinea First NDC (Archived)",
          "South Africa First NDC (Updated submission)",
          "Turkey. 2022 National Inventory Report (NIR)",
          "Argentina. Biennial update report (BUR). BUR 3. National inventory report.",
          "Republic of Moldova. Biennial update report (BUR). BUR 3. National inventory report.",
          "Sierra Leone. National Communication (NC). NC 3.",
          ": Submission to the Global Stocktake: Best practice use cases for climate policies globally - IEC (International Electrotechnical Commission)",
          "Projects/Programs of Japan's Fast-Start Finance for Developing Countries up to 2012 (As of 31 December 2012)",
          "Suriname. Biennial update report (BUR). BUR 1.",
          "Cabo Verde First NDC(Archived)",
          "India Water Foundation Inputs for the First Global Stocktake of UNFCCC",
          "Facilitative sharing of views record for Jordan",
          "France First NDC-Complement (Updated submission)",
          "China. Biennial update report (BUR). BUR 2.",
          "Slovenia. 2022 National Inventory Report (NIR)",
          "Accelerating Business Climate Action to Increase Government Ambition in Latin America",
          "United Kingdom. National Communication (NC). NC 8. Biennial Reports (BR). BR5. Corrigendum",
          "El Salvador First NDC (Updated submission)",
          "Cook Islands First NDC",
          "Andorra. Biennial update report (BUR). BUR4.",
          "Submission on Global Stocktage Technical Dialogue 1.3 Prepared by the SLOCAT Partnership Secretariat",
          "Greece. Biennial Reports (BR). BR 3. National Communication (NC). NC 7.",
          "Cambodia. Biennial update report (BUR). BUR 1.",
          "Inputs to the First Global Stocktake Prepared by the SLOCAT Partnership Secretariat",
          "Somalia First NDC (Updated submission)",
          "Republic of Moldova First NDC (Archived)",
          "Initial submission by the UN climate change high-level champions to the first global stocktake under the Paris agreement",
          "Sweden. National Communication (NC). NC 7.",
          "Portugal. 2021 National Inventory Report (NIR)",
          "Andorra 2022 NDC Update",
          "Serbia. Biennial update report (BUR). BUR 1.",
          "Facilitative sharing of views record - Ecuador",
          "Costa Rica. Biennial update report (BUR). BUR 2. National inventory report.",
          "Ecuador. Biennial update report (BUR). BUR 1.",
          "Argentina Second NDC (Archived)",
          "Input to the first Global Stocktake (GST): A satellite-based, highly spatially resolved gridded greenhouse gas (GHG) emission inventory product in support of national emission reporting and climate mitigation monitoring",
          "Submission letter_Qatar First NDC (Updated submission)",
          "Private Sector Adaptation Reporting as a Source of Input to the Global Stocktake",
          "Burundi. Biennial update report (BUR). BUR1.",
          "Chile. Biennial update report (BUR). BUR 4. National inventory report - Annex",
          "Singapore. National Communication (NC). NC 4.",
          "Submission in response to the call for inputs to the first global stocktake: The global registry of fossil fuels - Carbon Tracker",
          "Slovakia. Biennial Reports (BR). BR 3.",
          "Submission by Conservation International to the third technical dialogue of the global stocktake",
          "Venezuela. National Communication (NC). NC 2.",
          "Stratégie de développement à faible intensité de carbone et résilient aux changements climatiques 2016-2025",
          "E2050 COLOMBIA: Estrategia climÃ¡tica de largo plazo de Colombia - E2050 para cumplir con el Acuerdo de ParÃ­s",
          "Submission to the UNFCCC ahead of the second Technical Dialogue of the Global Stocktake: submitted by observer organization ClimateWorks Foundation on behalf of the iGST consortium",
          "Saint Lucia. Biennial update report (BUR). BUR 1.",
          "Australian Government: Submission to the first Technical Dialogue of the Global Stocktake",
          "The International Chamber of Commerce (ICC) comments on First Global Stocktake",
          "Technical analysis of the second biennial update report of Indonesia submitted on 21 December 2018. Summary report by the team of technical experts",
          "Bosnia and Herzegovina First NDC (Updated submission)",
          "Honduras. National communication (NC). NC 3 - Executive Summary",
          "Ukraine First NDC (Updated submission)",
          "University of Exeter Global Systems Institute, National Carbon Emissions: Submission to the first global stocktake",
          "State of Climate Action 2021 Systems Transformations Required to Limit Global Warming to 1.5°C",
          "Nationally determined contributions under the Paris Agreement. Synthesis report by the secretariat",
          "Kenya First NDC (Archived)",
          "The Role of Systematic Earth Observations in the Global Stocktake. European Space Agency (ESA)",
          "Mauritius. Biennial update report (BUR). BUR 1. National inventory report.",
          "Netherlands. 2021 National Inventory Report (NIR)",
          "National Decarbonization Plan - Government of Costa Rica 2018-2050",
          "Norwegian Climate Finance 2012",
          "Belize. National Communication (NC). NC 4.",
          "Italy. 2021 National Inventory Report (NIR)",
          "The First Global Stocktake International Energy Agency (IEA) submission",
          "Technical analysis of the second biennial update report of Paraguay submitted on 27 December 2018. Summary report by the team of technical experts",
          "The potential of expert judgment assessments on adaptation to feed GST series - IDDRI",
          "Long-term strategy for Carbon Neutrality (LTS4CN)",
          "Annex X: Expert Reviewers of the IPCC Sixth Assessment Report",
          "United Arab Emirates Second NDC",
          "Submission by the Republic of Senegal on behalf of the Least Developed Countries (LDCs) Group on inputs to the First Global Stocktake",
          "Thailand First NDC (Updated submission)",
          "Togo. National inventory report.",
          "Australia. National Communication (NC). NC 8. Biennial Reports (BR). BR 5.",
          "Rwanda First NDC (Archived)",
          "Submission by Slovenia and the European Commission on behalf of the European Union and its Member States. Adaptation Communication of the European Union",
          "Vanuatu First NDC (Archived)",
          "Facilitative sharing of view record 2 - Vietnam",
          "National Inventory Report to BUR 1 Antigua and Barbuda",
          "Kiribati. National Communication (NC). NC 2.",
          "Cross-Chapter Box 9: Integrative Cross-Chapter Box on Low-lying Islands and Coasts",
          "Nationally determined contributions under the Paris Agreement. Revised note by the secretariat",
          "Iceland First NDC (Updated submission)",
          "Bhutan. National communication (NC). NC 3.",
          "Nauru First NDC (Archived)",
          "Annex V: Monsoons",
          "FSV1 record - Uganda",
          "Matters Relating to the Global Stocktake referred to in Article 14 of the Paris Agreement: Submission by the Like-Minded Developing Countries - Second Meeting of the Technical Dialogue of the Technical Assessment of the First Global Stocktake",
          "Norway. 2021 National Inventory Report (NIR)",
          "Namibia First NDC (Archived)",
          "Trinidad and Tobago. National Communication (NC). NC 3.",
          "The Land Gap",
          "Technical analysis of the second biennial update report of Colombia submitted on 28 December 2018. Summary report by the team of technical experts",
          "The global stocktake: an opportunity for ambition. Climate Finance Landscape Analysis: Themes and Trends. Center for Climate and Energy Solutions",
          "Japan First NDC (Interim-updated submission)",
          "Belgium. Biennial report (BR). BR 4",
          "Viet Nam. Biennial update report (BUR). BUR 3 - Technical Annex",
          "Submission to the First UNFCCC Global Stocktake from UNWTO Scaling-up Climate Action in Tourism",
          "Dominican Republic. Biennial update report (BUR). BUR 1.",
          "The University of Cambridge on behalf of the PARIS REINFORCE project input to the first global stocktake: SYR (g) Good practices, experience and potential opportunities to enhance international cooperation on mitigation and adaptation and to increase support under Article 13, para 5, of the Paris Agreement",
          "Nationally determined contributions under the Paris Agreement. Synthesis report by the secretariat",
          "Switzerland. 2022 National Inventory Report (NIR)",
          "تحديث المساهمات المحددة وطنياً الثانية لدولة الإمارات العربية المتحدة",
          "Fourth synthesis of technology needs identified by Parties not included in Annex I to the Convention. Report by the secretariat",
          "New Zealand's Adaptation communication",
          "Micronesia. National Communication (NC). NC 2.",
          "Chapter 5: Food Security",
          "Latvia. 2021 National Inventory Report (NIR)",
          "Technical analysis of the first biennial update report of Ecuador submitted on 21 September 2016. Summary report by the team of technical experts.",
          "Haiti First NDC",
          "India Updated First Nationally Determined Contribution",
          "Technical analysis of the third biennial update report of the Republic of Korea submitted on 30 November 2019. Summary report by the team of technical experts",
          "Technical analysis of the first biennial update report of Zambia submitted on 7 December 2020. Summary report by the team of technical experts",
          "Liberia's Adaptation communication",
          "Submission for the first input phase of the global stocktake: Climate Action Network (August 2022)",
          "Belarus First NDC (Archived)",
          "CarbonCare InnoLab's Second Submission to GST",
          "Nigeria. Biennial update report (BUR). BUR 1.",
          "Montenegro. National Communication (NC). NC 3.",
          "Facilitative sharing of views record - BUR2 Malaysia",
          "Compilation and synthesis of fourth biennial reports of Parties included in Annex I to the Convention. Report by the secretariat. Executive summary. Corrigendum",
          "Annexes",
          "Lesotho. Biennial update report (BUR). BUR 1.",
          "United States of America First NDC (After rejoining the Paris Agreement)",
          "Brunei Darussalam. National Communication (NC). NC 2.",
          "Indonesia's Adaptation communication",
          "Sri Lanka. National Communication (NC). NC 3.",
          "United States of America. Biennial Reports (BR). BR3. BR4. National Communication (NC). NC 7.",
          "Iraq. National Communication (NC). NC 1.",
          "Belarus. Biennial report (BR). BR 4.",
          "Liechtenstein: Fast‐Start Finance – Progress Report for the Period May 2010 to May 2013",
          "Tajikistan First NDC (Updated submission letter)",
          "The Long-term Strategy under the Paris Agreement",
          "Mexico First NDC (Archived)",
          "Climate Action Pathway: Energy. Vision and Summary",
          "Netherlands. National Communication (NC). NC 7. - Annex 5",
          "States and regions tracking progress: Under2 Coalitionâ€™s submission to the Global Stocktake",
          "Indonesia First NDC (Updated submission)",
          "Brazil. Biennial update report (BUR). BUR4.",
          "Technical analysis of the first biennial update report of Albania submitted on 12 October 2021. Summary report by the team of technical experts",
          "Guinea First NDC (Updated submission July 2021)",
          "Chapter 3: Impacts of 1.5°C of Global Warming on Natural and Human Systems",
          "Lebanon. Biennial update report (BUR). BUR 4.",
          "Israel First NDC (Updated submission)",
          "Bangladesh First NDC (Archived)",
          "Lithuania. National Communication (NC). NC 7.",
          "Annual compilation and accounting report for Annex B Parties under the Kyoto Protocol for 2020. Note by the secretariat",
          "Technical analysis of the first biennial update report of Nigeria submitted on 17 March 2018. Summary report by the team of technical experts.",
          "Technical report on the technical analysis of the technical annex to the fourth biennial update report of Argentina submitted in accordance with decision 14/CP.19, paragraph 7, on 31 December 2021",
          "Mongolia. Biennial update report (BUR). BUR 1.",
          "Constituted Body GST synthesis report: FWG inputs to the technical assessment of the Global Stocktake",
          "Facilitative sharing of views record - BUR1 Kuwait",
          "Global Stocktake Technical Dialogue 1 SLOCAT Partnership on Sustainable Low Carbon Transport",
          "Niger First NDC",
          "United Kingdom First NDC (Updated Submission)",
          "Luxembourg. National Communication (NC). NC 7.",
          "Submission by the UN Climate Change High Level Champions, Dr. Mahmoud Mohieldin for COP 27 Presidency, Egypt and H.E. Razan Al Mubarak For COP 28 Presidency, United Arab Emirates, ahead of the third technical dialogue of the first global stocktake",
          "Technical analysis of the second biennial update report of Georgia submitted on 13 June 2019. Summary report by the team of technical experts",
          "The High Level Championsâ€™ â€˜2030 Breakthroughsâ€™ Strategy Paper",
          "Jamaica’s Adaptation Communication",
          "Belgium. 2021 National Inventory Report (NIR)",
          "Submission to the UNFCCC ahead of the first Technical Dialogue of the Global Stocktake: Formally submitted by observer organization ClimateWorks Foundation on behalf of the iGST consortium.",
          "Dominican Republic. National Communication (NC). NC 3.",
          "Norway First NDC (Second updated submission)",
          "Myanmar First NDC (Updated submission)",
          "Ukraine 2050 - Low Emission Development Strategy",
          "Netherlands. Biennial report (BR). BR 4",
          "Meeting the Fast Start Commitment: U.S. Climate Finance in Fiscal Year 2011",
          "Technical analysis of the second biennial update report of Thailand submitted on 29 December 2017. Summary report by the team of technical experts.",
          "The First Global Stocktake International Renewable Energy Agency (IRENA) Submission August 2022",
          "Togo. Biennial update report (BUR). BUR 1. Annex",
          "Australia. Biennial Report (BR). BR 3. National Communication (NC). NC 7.",
          "Submission letter of Updated NDC for Rwanda",
          "Nauru First NDC (Updated submission)",
          "Annex VII: Glossary",
          "FSV3 record - Lebanon",
          "Mauritania First NDC (Updated submission)",
          "Pacific Ocean Climate Crisis Assessment (POCCA) - Submission to the UNFCCC global stocktake",
          "Thailand. Biennial update report (BUR). BUR 3.",
          "Kuwait First NDC (Updated submission)",
          "Chapter 5: Changing Ocean, Marine Ecosystems, and Dependent Communities",
          "Nationally determined contributions under the Paris Agreement. Revised note by the secretariat",
          "Iceland. 2022 National Inventory Report (NIR)",
          "United Kingdom Adaptation Communication",
          "Benin First NDC (Archived)",
          "Italy. Biennial report (BR). BR 4",
          "Vanuatu NDC Revised and Enhanced",
          "Technical analysis of the second biennial update report of Nigeria submitted on 27 September 2021. Summary report by the team of technical experts",
          "Togo. Biennial update report (BUR). BUR 2. National inventory report.",
          "First Global Stocktake International Atomic Energy Agency (IAEA) Submission",
          "Long-Term Strategy for Low Carbon and Climate Resilience 2050 (Indonesia LTS-LCCR 2050)",
          "Global Climate Action Portal (GCAP) Synthesis Report - Information as at 28 February 2022",
          "Technical Summary",
          "Nationally determined contributions under the Paris Agreement. Revised note by the secretariat",
          "Thailand​ 2nd​ Updated​ NDC",
          "European Roundtable on Climate Change and Sustainable Transition Submission on the call for inputs to the Global Stocktake",
          "Compilation and synthesis of fourth biennial reports of Parties included in Annex I to the Convention. Report by the secretariat. Addendum. Corrigendum",
          "Namibia. Biennial update report (BUR). BUR 4. National inventory report.",
          "Norway. Biennial report (BR). BR 4",
          "Viet Nam NDC 2022 Update",
          "Strategy of socio-economic development of the Russian Federation with low greenhouse gas emissions until 2050",
          "Saint Lucia First NDC (Archived)",
          "Trinidad and Tobago. Biennial update report (BUR). BUR 1.",
          "Austria. 2022 National Inventory Report (NIR)",
          "Mauritius Party Note",
          "Nepal's Adaptation communication",
          "Bolivia. National Communication (NC). NC 3.",
          "Honduras. Biennial update report (BUR). BUR1 - Technical Annex II",
          "Nationally determined contributions under the Paris Agreement. Synthesis report by the secretariat",
          "Kazakhstan. National Communication (NC). NC 2.",
          "Mongolia First NDC (Archived)",
          "Constituted Body Global Stocktake synthesis report: Synthesis report for the technical assessment component of the first global stocktake - Adaptation Committee",
          "Facilitative sharing of views record - BUR1 Cote d'Ivoire",
          "Global Stocktake Submission: \"Country\" of Permafrost Submission from Prince Albert II of Monaco Foundation",
          "Nicaragua First NDC (Updated submission)",
          "Ireland. National Communication (NC). NC 8. Biennial Reports (BR). BR 5.",
          "Bahrain First NDC (Updated submission)",
          "Submission by the International Federation of Red Cross and Red Crescent Societies (IFRC)",
          "Lithuania. 2022 National Inventory Report (NIR)",
          "Technical analysis of the first biennial update report of Panama submitted on 14 December 2018. Summary report by the team of technical experts",
          "Annual report of the Paris Agreement Implementation and Compliance Committee to the Conference of the Parties serving as the meeting of the Parties to the Paris Agreement. Report by the secretariat",
          "Technical report on the technical analysis of the technical annex to the fourth biennial update report of Brazil submitted in accordance with decision 14/CP.19, paragraph 7, on 31 December 2020 - Part 2",
          "Burkina Faso. National Communication (NC). NC 2.",
          "Latvia. Biennial report (BR). BR 4",
          "Chapter 7: Risk Management and Decision-Making in Relation to Sustainable Development",
          "The Clean Growth Strategy - Cover Note",
          "Submission by the Russian Federation on the inputs referred to in paragraph 19 of decision 19/CMA.1 in relation to the Global Stocktake",
          "Sri Lanka First NDC (Updated submission)",
          "United States of America. Biennial Reports (BR). BR 1. National Communication (NC). NC 6.",
          "Syrian Arab Republic. National Communication (NC). NC 1.",
          "The Long-Term Strategy of the United States - Pathways to Net-Zero Greenhouse Gas Emissions by 2050",
          "State of the Ocean Report 2022",
          "Indonesia. Biennial update report (BUR). BUR3.",
          "[(20) KPN.CC.UN.1.30.12.2020] TO UNFCCC SECRETARIAT - Brunei Darussalam Nationally Determined Contribution",
          "Lesotho First NDC",
          "Chapter 5: Sustainable Development, Poverty Eradication and Reducing Inequalities",
          "Mexico: Updated NDC 2022",
          "Climate Action Pathway: Industry. Vision and Summary",
          "Netherlands's Adaptation communication",
          "CATF Submission to the First Global Stocktake",
          "Nigeria. National communication (NC). NC 3.",
          "Morocco First NDC-English (Archived)",
          "Facilitative sharing of views record - BUR2 Moldova",
          "Compilation and synthesis of fourth biennial reports of Parties included in Annex I to the Convention. Revised report by the secretariat. Executive summary",
          "Technical analysis of the third biennial update report of South Africa submitted on 5 June 2019. Summary report by the team of technical experts",
          "Technical analysis of the first biennial update report of Uganda submitted on 1 October 2019. Summary report by the team of technical experts",
          "Liechtenstein: Fast Start Financing (Status June 2011)",
          "Submission for the First Global Stocktake One page paper - Submitted by FundaciÃ³n EcologÃ­a y Desarrollo (ECODES)",
          "Iran. National Communication (NC). NC 3.",
          "THE GAMBIA'S LONG-TERM CLIMATE-NEUTRAL DEVELOPMENT STRATEGY 2050",
          "United States Mid-Century Strategy for Deep Carbonization",
          "Long-term low greenhouse gas emission development strategy of the European Union and its Member States",
          "Switzerland. Biennial report (BR). BR 4 - Annex",
          "Uruguay First NDC",
          "Forwarding",
          "Israel. National Communication (NC). NC 3.",
          "Lao People's Democratic Republic. Biennial update report (BUR). BUR 1.",
          "Chapter 3: Desertification",
          "Haiti's Adaptation communication",
          "Technical analysis of the first biennial update report of El Salvador submitted on 29 September 2018. Summary report by the team of technical experts",
          "Burkina Faso First NDC (Archived)",
          "India First NDC",
          "Submission by CDP to the first Global Stocktake",
          "New Zealand. National Communication (NC). NC 7.",
          "Mexico's Climate Change Mid-Term Strategy",
          "Canada's Adaptation communication",
          "Germany. 2021 National Inventory Report (NIR)",
          "Comoros First NDC (Updated submission)",
          "Individual Actions Supported by EU Fast Start Financing I",
          "Some implications of innovation and transition dynamics for the first UNFCCC Global Stocktake Response to call for inputs to the Technical Dialogue of the first UNFCCC Global Stocktake: Submitted by Michael Grubb, Professor of Energy and Climate Change, UCL",
          "Annex VI: Acronyms",
          "South Africa. Biennial update report (BUR). BUR 4.",
          "Climate Action Plan 2050. Executive summary",
          "Technical analysis of the third biennial update report of North Macedonia submitted on 3 June 2021. Summary report by the team of technical experts",
          "Georgia First NDC (Archived)",
          "Tunisia. National Communication (NC). NC 3.",
          "Argentina. Biennial update report (BUR). BUR 3 - Technical Annex",
          "Cyprus. Biennial Reports (BR). BR 3. National Communication (NC). NC 7.",
          "NDC cover Letter",
          "Samoa Second NDC",
          "PNG_NDC Satisfactory letter (Archived)",
          "Pakistan First NDC (Abridged version of updated submission)",
          "Biennial in-session workshop on information to be provided by Parties in accordance with Article 9, paragraph 5, of the Paris Agreement. Summary report by the secretariat",
          "Submission by Transforma on the Third technical Dialogue of the first Global Stocktake of the Paris Agreement",
          "Mali. National Communication (NC). NC 3.",
          "Technical analysis of the third biennial update report of Andorra submitted on 5 September 2019. Summary report by the team of technical experts",
          "Democratic People's Republic of Korea. National Communication (NC). NC 2.",
          "Recognition of Indigenous Peoples in Nationally Determined Contributions: IWGIA submission to the first global stocktake",
          "The oil and gas climate initiative (OGCI) - submission to the global stocktake",
          "European Union's Adaptation communication",
          "Colombia First NDC (Updated submission) -Technical Annex",
          "National Institute for Environmental Studies Japan: Submission of Information to the 1st Global Stocktake - GOSAT and GOSAT-2 Standard Products and Related Data",
          "University of Exeter global stocktake submission letter- global carbon budget",
          "OECD/IEA Climate Change Expert Group Submission to the First Global Stocktake",
          "Ghana's Adaptation communication",
          "Canada. 2021 National Inventory Report (NIR)",
          "Annex II: Glossary",
          "Zambia. Biennial update report (BUR). BUR 1.",
          "Romania. National Communication (NC). NC 7 - Annex I",
          "Uganda First NDC (Archived)",
          "Armenia. National communication (NC). NC 4.",
          "South Sudan Second NDC",
          "Pakistan. National communication (NC). NC 2.",
          "(Joint) Submission to the first Global Stocktake Satellite-based map of global mangrove extent and changes: Global Mangrove Watch (GMW): The Japan Aerospace Exploration Agency (JAXA), the Institute for the Global Environmental Strategies (IGES), Aberystwyth University, solo Earth Observation (soloEO), Wetlands International and The Nature Conservancy",
          "EU First NDC (Updated submission)",
          "Paraguay. National Communication (NC). NC 3.",
          "Saudi Arabia. National Communication (NC). NC 4.",
          "Germany. Biennial Reports (BR). BR 3. National Communication (NC). NC 7 - Annex",
          "Canada’s Fast-Start Financing: Delivering on Our Copenhagen Commitment",
          "African Group Submission for the Second Technical Dialogue of the Global Stocktake",
          "Panama. Biennial update report (BUR). BUR2.",
          "Eswatini First NDC (Updated submission)",
          "Japan’s Fast-Start Finance for Developing Countries up to 2012 (As of 29 February, 2012)",
          "Technical analysis of the third biennial update report of Lebanon submitted on 13 October 2019. Summary report by the team of technical experts",
          "Gabon. National Communication (NC). NC 3.",
          "Turkey. National Communication (NC). NC 7.",
          "Malaysia. Biennial update report (BUR). BUR 2. National Communication (NC). NC 3.",
          "Submission to the UNFCCC First Global Stocktake - World Benchmarking Alliance and Climate Chance",
          "Yearbook of Global Climate Action 2021: Marrakech Partnership for Global Climate Action",
          "Burundi. National communication (NC). NC 3.",
          "World Health Organization and Lancet Countdown Submission to the third meeting of the technical dialogue of the global stocktake (TD 1.3)",
          "Chile First NDC (Archived)",
          "Global Stocktake Submission by Iceland (August 2022)",
          "Submission to the Global Stocktake: By the University of Ankara",
          "Slovakia. National Communication (NC). NC 8. Biennial Reports (BR). BR 5.",
          "Sweden's Adaptation communication",
          "Cambodia. National Communication (NC). NC 2.",
          "Poland. Biennial Reports (BR). BR 3. National Communication (NC). NC 7.",
          "Andorra First NDC (Archived)",
          "Senegal. National Communication (NC). NC 3.",
          "Republic Of Moldova. Biennial update report (BUR). BUR 2.",
          "Costa Rica. National communication (NC). NC 4.",
          "Submission to the GST: Adaptation Research Alliance (ARA) & Climate and Development Knowledge Network (CDKN)",
          "Second Submission Of The High-Level Champions To The Global Stocktake, ahead of the 2nd meeting of the Technical Dialogue (TD1.2)",
          "Finland. Biennial report (BR). BR 4",
          "Somalia's Updated NDC",
          "Facilitative sharing of views record - BUR3 Singapore",
          "International Cryosphere Climate Initiative (ICCI): Submission to the First Global Stocktake",
          "Grenada First NDC (Archived)",
          "Central African Republic First NDC (Archived)",
          "Resilience Pathway Vision And Summary",
          "Cambodia. Biennial update report (BUR). BUR 1 - Technical Annex I",
          "Portugal. Biennial report (BR). BR 4",
          "Voces de América Latina y el Caribe sobre Acción Climática en el Transporte",
          "Secretariat GST synthesis report: Synthesis report for the technical assessment component of the first global stocktake: Synthesis report on finance flows, including the information referred to in Article 2, paragraph 1(c), and means of implementation and support and mobilization and provision of support, including the information referred to in Article 9, paragraphs 4 and 6, Article 10, paragraph 6, Article 11, paragraph 3, and Article 13, in particular paragraphs 9 and 10, of the Paris Agreement",
          "Argentina First NDC (Archived)",
          "Submission to the technical phase of the Global Stocktake 2021-2023 Performance distributions to assess collective progress in reducing greenhouse gas emissions - New Climate Institute for Climate Policy and Global Sustainability",
          "Solomon Islands. National Communication (NC). NC 2.",
          "Zimbabwe's Initial Adaptation Communication",
          "Plymouth Marine Laboratory (PML) submission to the first Global Stocktake",
          "Republic of Korea. National communication (NC). NC4.",
          "Technical analysis of the fourth biennial update report of the Republic of Korea submitted on 30 December 2021. Summary report by the team of technical experts",
          "Singapore First NDC (Updated submission)",
          "Qatar First NDC (Archived)",
          "Suriname First NDC(Archived)",
          "Four-page overview of revised national low carbon strategy of France",
          "China First NDC (Updated submission)",
          "Submission by IDDRI on behalf of the Adaptation Without Borders global partnership, relating to the 3rd Technical Dialogue of the UNFCCC Global Stocktake - Accounting for transboundary climate risks in the Global Stocktake to drive regional and global cooperation on adaptation",
          "Antigua and Barbuda First NDC (Updated submission)",
          "El Salvador First NDC (Archived)",
          "Contribución Nacionalmente Determinada del Estado Plurinacional de Bolivia 2021-2030",
          "Bulletin of Multi-scale Estimation of Greenhouse Gas Budgets. National Institute for Environmental Studies, Japan Agency for Marine-Earth Science and Technology, Japan Meteorological Research Institute, Japan Chiba University",
          "Seconde Contribution Déterminée au Niveau National (République Gabonaise)",
          "Albania First NDC (Updated submission)",
          "Philippines First NDC",
          "Palestine's National Adaptation Plan",
          "Technical analysis of the third biennial update report of Ghana submitted on 12 August 2021",
          "Gabon. Biennial update report (BUR). BUR 1.",
          "The First Global Stocktake International Renewable Energy Agency (IRENA) Submission March 2023",
          "Maldives. National Communication (NC). NC 2.",
          "Cuba First NDC Summary (Updated submission)",
          "Estrategia climática de largo plazo de Chile - Camino a la carbono neutralidad y resiliencia a más tardar al 2050",
          "The first global stocktake submission by CDP",
          "Saudi Arabia First NDC (Updated submission)",
          "Cameroon First NDC (Updated submission)",
          "Ghana First NDC (Updated submission)",
          "OECD Submission to the First Global Stocktake (March 2023)",
          "Record of the facilitative sharing of views at the fifty - second to fifty - fifth session of the Subsidiary Body for Implementation: Lao Peopleâ€™s Democratic Republic (FSVR1)",
          "Climate Protection Policy of the Czech Republic. Executive Summary 2017",
          "European Union. 2022 National Inventory Report (NIR)",
          "National Adaptation Plans 2020. Progress in the formulation and implementation of NAPs",
          "Paraguay Formal letter on submission of updated NDC",
          "Summary for Policy Makers",
          "TÜRKİYE UPDATED 1st NDC",
          "First Global Stocktake Submission by Climate Policy Initiative",
          "Australia NDC 2022 Update",
          "Letter to UNFCCC regarding Second NDC (Archived)",
          "Spain. 2022 National Inventory Report (NIR)",
          "Kazakhstan. Biennial Reports (BR). BR 3. National Communication (NC). NC 7.",
          "Yemen. Biennial update report (BUR). BUR 1.",
          "Romania. National Communication (NC). NC 7 - Annex III",
          "Record of the facilitative sharing of views at the fifty-second to fifty-fifth session of the Subsidiary Body for Implementation: Uruguay (FSVR3)",
          "Papua New Guinea. Biennial update report (BUR). BUR2. National Inventory Report",
          "Call for inputs to the first global stocktake - Submitted by Climate strategies on behalf of The Economics of Energy Innovation and System Transition project",
          "Sao Tome and Principe First NDC (Updated submission)",
          "Biennial in-session workshop on information to be provided by Parties in accordance with Article 9, paragraph 5, of the Paris Agreement. Summary report by the secretariat",
          "Oman Second NDC",
          "Kazakhstan First NDC",
          "Eritrea First NDC",
          "Czechia. Biennial report (BR). BR 4",
          "Russian Federation. Biennial report (BR). BR 4",
          "Malta. National Communication (NC). NC 2.",
          "Submission on the Paris Agreement’s First Global Stocktake - WEDO on behalf of the WGC",
          "Spain's Adaptation communication",
          "Nationally determined contributions under the Paris Agreement. Synthesis report by the secretariat. Addendum. Additional information on domestic mitigation measures",
          "Technical analysis of the second biennial update report of Tunisia submitted on 31 December 2016. Summary report by the team of technical experts",
          "Ethiopia. National Communication (NC). NC 2.",
          "Colombia. Biennial update report (BUR). BUR 3. National inventory report.",
          "Nature4Climate Coalition Submission to the Third Technical Dialogue of the First Global Stocktake",
          "Georgia. Biennial update report (BUR). BUR 2.",
          "Canada. 2022 National Inventory Report (NIR) French.",
          "Albania. National Communication (NC). NC 4.",
          "Submission in Response to the Call for Inputs to the First Global Stocktake (GST) - Care About Climate",
          "Annex III: Scenarios and Modelling Methods",
          "Revised national low carbon strategy of France",
          "Viet Nam. Biennial update report (BUR). BUR 3. National inventory report.",
          "South Africa. National Communication (NC). NC 3 - Annex",
          "Tunisia First NDC (Updated submission)",
          "ICC Submission to First Global Stocktake",
          "Suriname. Biennial update report (BUR). BUR 1 - Technical Annex I",
          "China First NDC (Archived)",
          "Greece. Biennial report (BR). BR 4",
          "Sierra Leone First NDC (Updated submission)",
          "Angola First NDC (Updated submission)",
          "Costa Rica First NDC-English Translation (Archived)",
          "El Salvador. Biennial update report (BUR). BUR 1.",
          "China's Mid-Century Long-Term Low Greenhouse Gas Emission Development Strategy",
          "France. 2021 National Inventory Report (NIR)",
          "Climate, Health, and Equity Criteria for Policy Analysis and Evaluation - Global Climate and Health Alliance, a project of the Social Good Fund (GCHA)",
          "IIASA Policy Brief 29: Finding a Feasible Path - Submission to the Global Stocktake",
          "Inputs for the First Global Stocktake Submission by the International Union for Conservation of Nature (IUCN) - August 2022",
          "Congo First NDC (Archived)",
          "WWF response to the call for inputs to the first Global Stocktake",
          "Submission by the Institute for Global Environmental Strategies (IGES) and the Institute for Climate and Sustainable Cities (ICSC):Key priorities of non-state actors (NSAs) in Southeast Asia for the Global Stocktake (GST)",
          "Chad First NDC (Archived)",
          "Carta UNFCCC NDC",
          "Facilitative sharing of views record 2 - Uruguay",
          "Antigua and Barbuda's Adaptation communication",
          "Zimbabwe. Biennial update report (BUR). BUR 1.",
          "Slovenia. Biennial report (BR). BR 4",
          "Alliance of Small Island States submission topic: Global Stocktake â€“ submission 1",
          "Technical analysis of the fourth biennial update report of Lebanon submitted on 29 December 2021. Summary report by the team of technical experts",
          "Switzerland Fast Start Financing for Developing Countries",
          "Poland. 2021 National Inventory Report (NIR)",
          "Submission by the Climate Equity Reference Project Canada (CERP) - Can climate change fuelled loss and damage ever be fair?",
          "Finland. National Communication (NC). NC 8 - Annex",
          "Egypt First NDC",
          "Croatia. Biennial report (BR). BR 4",
          "Facilitative sharing of views record - Serbia",
          "Chile. Biennial update report (BUR). BUR 4. National inventory report.",
          "Global CCS Institute - second submission to the global stocktake",
          "Sweden. 2022 National Inventory Report (NIR)",
          "Burundi First NDC (Updated submission)",
          "Global stocktake submission (19/CMA.1): Climate institutions as indicators of progress towards implementation of the Paris Agreement - Submitted by the Centre for Policy Research",
          "France. National Communication (NC). NC 7.",
          "Slovakia. 2021 National Inventory Report (NIR)",
          "Equatorial Guinea First NDC",
          "Costa Rica. Biennial update report (BUR). BUR 2 - Technical Annex II",
          "Tonga. National Communication (NC). NC 3.",
          "Malawi. Biennial update report (BUR). BUR 1.",
          "Bulletin of Multi-scale Estimation of Greenhouse Gas Budgets 2023 - National Institute for Environmental Studies",
          "Azerbaijan First NDC",
          "Japan. National Communication (NC). NC 7.",
          "Belize. National Communication (NC). NC 3.",
          "Venezuela (Bolivarian Republic of) First NDC (Updated submission)",
          "Saint Lucia's NAP Progress Report and Adaptation communication",
          "NDC COTE D'IVOIRE SUBMISSION",
          "Climate Action Pathway: Water. Vision and Summary",
          "Mauritania. Biennial update report (BUR). BUR 2. National inventory report - Annex",
          "Joint Submission to the First Global Stocktake: A satellite-based deforestation monitoring system for tropical forests, \"JICA-JAXA Forest Early Warning System in the Tropics (JJ-FAST)\"",
          "Kenya. National Communication (NC). NC 2 - Executive Summary",
          "Bosnia and Herzegovina. Biennial update report (BUR). BUR 2.",
          "Nationally determined contributions under the Paris Agreement. Synthesis report by the secretariat",
          "Technical analysis of the second biennial update report of Jordan submitted on 2 June 2021. Summary report by the team of technical experts",
          "The Carbon Monitor project's Submission to UNFCCC First Global Stocktake",
          "Low Emission Development Strategy 2021-2050",
          "Australia’s Fast-Start Climate Finance: Investing in Effective and Sustainable Climate Outcomes",
          "Addendum to the synthesis report for the technical assessment component of the first global stocktake: Synthesis report on the information identified in decision 19/CMA.1, paragraph 36 (d)",
          "Submission to the UNFCCC First Global Stocktake, Second Technical Call, August 2022",
          "Denmark. 2021 National Inventory Report (NIR)",
          "Jamaica First NDC (Archived)",
          "Benin’s Adaptation Communication",
          "Norwegian Climate Finance 2011",
          "National Clean Development Strategy 2020-2050",
          "Submission by the Government of the Republic of Indonesia to the global stocktake",
          "Ukraine. 2021 National Inventory Report (NIR)",
          "Saint Kitts and Nevis First NDC (Archived)",
          "Uzbekistan First NDC (Updated submission)",
          "Submission by Canada: First Technical Dialogue under the Global Stocktake",
          "Togo First NDC (Archived)",
          "Australia's Fast-Start Finance Update Report",
          "Marshall Islands Second NDC (Updated submission)",
          "FSV1 record - Benin",
          "Annex III: Tables of Historical and Projected Well-mixed Greenhouse Gas Mixing Ratios and Effective Radiative Forcing of All Climate Forcers",
          "Chapter 2: High Mountain Areas",
          "Iceland’s Fast Start Finance – Status June 2012",
          "The University of Cambridge on behalf of the PARIS REINFORCE project: input to the first global stocktake: SYR (a) The state of greenhouse gas emissions by sources and removals by sinks and mitigation efforts undertaken by Parties, including the information referred to in Article 13, para 7(a), and Article 4, paras 7c , 15 and 19, of the Paris Agreement",
          "Verbal note (Archived)",
          "Belize First NDC (Updated submission)",
          "Japan First NDC (Updated submission)",
          "Dominica. National communication (NC). NC 3.",
          "Submission to the First Global Stocktake The current state of play on financing loss and damage",
          "Samoa Note Verbale",
          "Queers X Climate and OUT for Sustainability: Inputs for the First Global Stocktake as Requested in Decision 19/CMA.1, paragraph 19",
          "Madagascar's Adaptation communication",
          "The global stocktake: an opportunity for ambition - Landscape Analysis of Adaptation Opportunities for Climate Ambition",
          "Technical analysis of the second biennial update report of Azerbaijan submitted on 26 September 2018. Summary report by the team of technical experts",
          "Mozambique. National Communication (NC). NC 1.",
          "North Macedonia. Biennial update report (BUR). BUR 3. National inventory report.",
          "Botswana. National communication (NC). NC 3.",
          "Iceland First NDC (Archived)",
          "Uganda. National Communication (NC). NC 2.",
          "Kiribati First NDC",
          "Afghanistan. National Communication (NC). NC 2.",
          "Uruguay. Biennial update report (BUR). BUR 4. National inventory report.",
          "Switzerland. Biennial Reports (BR). BR 3. National Communication (NC). NC 7 - Supporting Documentation",
          "Timor-Leste First NDC",
          "Montenegro. Biennial update report (BUR). BUR 3. National inventory report.",
          "Facilitative sharing of views record - BUR2 Georgia",
          "Nigeria First NDC (Updated submission)",
          "Bulgaria. 2021 National Inventory Report (NIR)",
          "Figures Translation LTS Slovenia",
          "Lao People's Democratic Republic First NDC (Archived)",
          "Annex II: Acronyms",
          "Annual compilation and accounting report for Annex B Parties under the Kyoto Protocol for 2020. Note by the secretariat",
          "Presentacion de la Actualizacion de la Contribucion Nacional Determinada en su Primera Actualizacion",
          "Technical analysis of the first biennial update report of Liberia submitted on 2 April 2021. Summary report by the team of technical experts",
          "Monaco First NDC (Archived)",
          "New Zealand’s Fast-Start Finance",
          "Facilitative sharing of views record - BUR3 Andorra",
          "GST submission: IIASA policy brief - promising climate progress",
          "Niue First NDC",
          "Submission for the first input phase of the Global Stocktake: Climate Action Network (February 2022)",
          "UITPs Key Messages for the Global Stocktake at COP27",
          "State of Palestine. National Communication (NC). NC 1.",
          "Updated Second Nationally Determined Contribution of the United Arab Emirates",
          "Barbados. National Communication (NC). NC 2.",
          "AR6 Synthesis Report: Longer Report",
          "Technical analysis of the fourth biennial update report of Andorra submitted on 11 March 2021. Summary report by the team of technical experts",
          "Technical analysis of the third biennial update report of Viet Nam submitted on 16 April 2021. Summary report by the team of technical experts",
          "Liberia First NDC (Updated submission)",
          "Tajikistan. National Communication (NC). NC 4.",
          "Submision to the First Global Stocktake",
          "United States of America First NDC (Archived)",
          "Technical analysis of the first biennial update report of Cuba submitted on 23 November 2020. Summary report by the team of technical experts",
          "Technical report on the technical analysis of the technical annex to the first biennial update report of Honduras submitted in accordance with decision 14/CP.19, paragraph 7, on 19 November 2020 - Part 2",
          "Technical analysis of the fourth biennial update report of Namibia submitted on 18 February 2021. Summary report by the team of technical experts",
          "Tajikistan First NDC (Updated submission)",
          "Submission from the Trade Union NGOs (TUNGO) on the first Global Stocktake (GST)",
          "Transitions in the land sector and environmental integrity: safe and just pathways towards climate neutrality: Submission to Global Stocktake",
          "Guinea First NDC (Updated submission October 2021)",
          "Technical analysis of the first biennial update report of Benin submitted on 24 October 2019. Summary report by the team of technical experts",
          "Lebanon. Biennial update report (BUR). BUR 3.",
          "Annexes",
          "United States of America. Biennial report (BR). BR 2.",
          "Brazil First NDC (Archived)",
          "Indonesia First NDC (Archived)",
          "Climate Action Pathway: Ocean and Coastal Zones. Vision and Summary",
          "New Zealand First NDC (Updated submission)",
          "Mexico. Biennial update report (BUR) BUR 2. National Communication (NC). NC6.",
          "Global stocktake, Mitigation, Science and research",
          "Niger. National Communication (NC). NC 3.",
          "Montenegro First NDC (Archived)",
          "Facilitative sharing of views record - BUR1 Papua New Guinea",
          "Constituted Body GST synthesis report: Synthesis report for the technical assessment component of the first global stocktake - PCCB",
          "Liechtenstein. 2021 National Inventory Report (NIR)",
          "Annual report of the Paris Agreement Implementation and Compliance Committee to the Conference of the Parties serving as the meeting of the Parties to the Paris Agreement. Report by the secretariat",
          "Technical analysis of the first biennial update report of Saudi Arabia submitted on 3 April 2018. Summary report by the team of technical experts",
          "Bahamas Updated Nationally Determined Contributions, 2022",
          "Iraq. National Communication (NC). NC 1.",
          "Nicaragua First NDC (Archived)",
          "Monaco. Biennial report (BR). BR 4",
          "United Kingdom. Biennial Reports (BR). BR 3. National Communication (NC). NC 7.",
          "Submission of Sudan's First NDC",
          "Myanmar First NDC (Archived)",
          "Norway First NDC (Archived)",
          "Belize. Biennial update report (BUR). BUR 1 - Technical Annex",
          "Japan. 2022 National Inventory Report (NIR)",
          "Djibouti. National communication (NC). NC 3.",
          "Submission of the Environmental Integrity Group (EIG) of Inputs to the Global Stocktake",
          "CIEL - submission for the technical input phase of the first global stocktake",
          "Azerbaijan. National Communication (NC). NC 4.",
          "Malawi First NDC (Updated submission)",
          "Technical analysis of the fourth biennial update report of South Africa submitted on 28 September 2021. Summary report by the team of technical experts",
          "Joint Submission to the first Global Stocktake: The decadal global atmospheric greenhouse gas concentration trends observed by Japanâ€™s Greenhouse gases Observing SATellite (GOSAT) The Japan Aerospace Exploration Agency (JAXA) and the Institute for the Global Environmental Strategies (IGES)",
          "Uganda. Biennial update report (BUR). BUR 1 - Technical Annex",
          "Rwanda. National Communication (NC). NC 3.",
          "Bhutan Second NDC",
          "Jamaica. Biennial update report (BUR). BUR 1 - Erratum",
          "Uzbekistan. Biennial update report (BUR). BUR1.",
          "Australia's Long-Term Emissions Reduction Plan: A whole-of-economy Plan to achieve net zero emissions by 2050",
          "Local Governments and Municipal Authorities (LGMA) Constituency - Third meeting of the Technical Dialogue (TD1.3) Inputs to Inform the Subsidiary Body for Scientific and Technological Advice",
          "Luxembourg. 2021 National Inventory Report (NIR)",
          "Chapter 4: Sea Level Rise and Implications for Low-Lying Islands, Coasts and Communities",
          "Nationally determined contributions under the Paris Agreement. Revised note by the secretariat",
          "Iceland's Fast Start Finance (Status June 2011)",
          "Organization of the Petroleum Exporting Countries (OPEC):Views on efforts related to addressing the social and economic consequences and impacts of response measures for input to first technical assessment (TA) for global stocktake (GST)",
          "The University of Cambridge on behalf of the PARIS REINFORCE project: input to the first global stocktake: SYR (f) Barriers and challenges, including finance, technology and capacity-building gaps, faced by developing countries",
          "Kuwait. National communication (NC). NC 2.",
          "Marshall Islands Second NDC (Archived)",
          "Annex I: Observational Products",
          "Norway's long-term low-emission strategy for 2050",
          "Climate Law and Governance as Indicators of â€˜Abilityâ€™ to implement the Paris Agreement. Jointly submitted by the authors below on behalf of Centre for Policy Research, Grantham Research Institute on Climate Change and the Environment, Climate Legal",
          "Namibia's Adaptation communication",
          "Technical analysis of the second biennial update report of Mexico submitted on 28 November 2018. Summary report by the team of technical experts",
          "Long-Term Strategy on Climate Action and Action Plan",
          "Submission to the UNFCCC Global Stocktake first technical call from The Global Climate and Health Alliance and the Health and Climate Network",
          "Denmark. Biennial report (BR). BR 4",
          "Saint Kitts and Nevis. National Communication (NC). NC 2.",
          "Italy. National Communication (NC). NC 7.",
          "Benin. Biennial update report (BUR). BUR 1. National Inventory Report.",
          "Ukraine. Biennial report (BR). BR 1.",
          "Te hau mārohi ki anamata - Transitioning to a low-emissions and climate-resilient future: AOTEAROA NEW ZEALAND'S LONG-TERM LOW-EMISSIONS DEVELOPMENT STRATEGY",
          "Tonga First NDC",
          "Austria. National Communication (NC). NC 8. Biennial Reports (BR). BR 5.",
          "Venezuela (Bolivarian Republic of) First NDC (Archived)",
          "Saint Vincent and the Grenadines. National Communication (NC). NC 2.",
          "Kingdom of Saudi Arabia / Updated Nationally Determined Contribution / 2021",
          "Hungary. Biennial Reports (BR). BR 3. National Communication (NC). NC 7.",
          "Botswana First NDC",
          "Nationally determined contributions under the Paris Agreement. Synthesis report by the secretariat",
          "Nepal First NDC (Archived)",
          "Climate Action Pathway. Finance. Vision and Summary",
          "Afghanistan. Biennial update report (BUR). BUR 1.",
          "Liechtenstein. Biennial report (BR). BR 4",
          "Timor-Leste. National communication (NC). NC2.",
          "Switzerland's Adaptation communication",
          "Technical analysis of the first biennial update report of Papua New Guinea submitted on 17 April 2019. Summary report by the team of technical experts",
          "Annual report of the Paris Agreement Implementation and Compliance Committee to the Conference of the Parties serving as the meeting of the Parties to the Paris Agreement. Report by the secretariat",
          "Uruguay. National communication (NC). NC5.",
          "Bahrain First NDC (Archived)",
          "Ireland. 2022 National Inventory Report (NIR)",
          "UNDRR Inputs to the Paris Agreement's First Global Stocktake 2023",
          "Submission by the NAP Global Network to the First Global Stocktake: Enhancing Gender-Responsive Adaptation Action",
          "Nigeria First NDC (Archived)",
          "Montenegro. Biennial update report (BUR). BUR 2.",
          "Facilitative sharing of views record - BUR2 China",
          "Constituted Body GST synthesis report: Synthesis report of the Standing Committee on Finance on the information identified in decision 19/CMA.1",
          "The Commonwealth of Dominica Updated National Determined Contribution",
          "Annual compilation and accounting report for Annex B Parties under the Kyoto Protocol for 2020. Note by the secretariat",
          "Technical analysis of the first biennial update report of Mauritius submitted on 31 December 2021. Summary report by the team of technical experts",
          "Honduras. Biennial update report (BUR). BUR1.",
          "United Kingdom. 2022 National Inventory Report (NIR)",
          "Sudan First NDC (Interim updated submission)",
          "Submission by the Global Alliance for the Future of Food on the First Global Stocktake",
          "Fiji First NDC (Updated submission)",
          "Mozambique First NDC (Updated submission-letter)",
          "Facilitative sharing of views record - BUR3 Chile",
          "The United Kingdom of Great Britain and Northern Ireland's submission to the United Nations Framework Convention on Climate Change on the first Global Stocktake",
          "Tajikistan. Biennial update report (BUR). BUR 1.",
          "NDC Submission Letter Serbia",
          "State of Palestine_NDC_SPM (Archived)",
          "Climate Action Pathway: Land Use. Action Table",
          "New Zealand First NDC",
          "Mexico. 2018 National Inventory Report (NIR).",
          "Efforts related to addressing the social and economic consequences and impacts of response measures as an input to the first global stocktake - updated compilation by the secretariat",
          "Technical analysis of the first biennial update report of CÃ´te dâ€™Ivoire submitted on 19 July 2018. Summary report by the team of technical experts",
          "Guinea-Bissau. Biennial update report (BUR). BUR 1.",
          "Summary for Policymakers",
          "Lebanon First NDC (Archived)",
          "Brazil First NDC (archived Updated submission)",
          "India. National Communication (NC). NC 2.",
          "Submission for the Information Collection and Preparation (ICP) Component of the Global Stocktake (GST): Jointly prepared by Conservation International, Environmental Defense Fund, and The Nature Conservancy",
          "Input from Norway to the Global Stocktake",
          "Barbados First NDC (Archived)",
          "Technical analysis of the fourth biennial update report of Brazil submitted on 31 December 2020. Summary report by the team of technical experts",
          "Technical report on the technical analysis of the technical annex to the first biennial update report of Gabon submitted in accordance with decision 14/CP.19, paragraph 7, on 29 December 2021",
          "Lesotho. National Communication (NC). NC 3.",
          "Morocco. Biennial update report (BUR). BUR 3.",
          "Conceptualizing and Assessing Progress Toward the Global Goal on Adaptation Submission by Perry World House, University of Pennsylvania",
          "Facilitative sharing of views record - BUR2 Paraguay",
          "NIS to BUR2 Republic of Moldova",
          "United States of America. 2022 National Inventory Report (NIR)",
          "Mexico. Biennial update report (BUR) BUR 3.",
          "Climate Action Pathway: Transport. Vision and Summary",
          "Focus on Local Sustainable Energy and Climate Solutions in the Global Stocktake INFORSE Submission to UNFCCC Global Stocktake, second round of submissions",
          "New Zealand. 2022 National Inventory Report (NIR)",
          "Uruguay. Biennial update report (BUR). BUR 3.",
          "Submission by the United Nations Office for the Coordination of Humanitarian Affairs to the first global stocktake of the Paris Agreement (GST)",
          "Switzerland. Biennial Reports (BR). BR 3. National Communication (NC). NC 7.",
          "Tile Til Eo - 2050 Climate Strategy \"Lighting the way\"",
          "Technical analysis of the first biennial update report of the Dominican Republic submitted on 21 May 2020. Summary report by the team of technical experts",
          "Monaco. 2021 National Inventory Report (NIR)",
          "New Zealand’s Fast-Start Finance: 2012 Progress Report",
          "Summary of revised national low carbon strategy of France",
          "United Republic of Tanzania First NDC (Archived)",
          "Bulgaria. Biennial report (BR). BR 4",
          "Submission by Fundación Avina to the First Global Stocktake process under the Paris Agreement",
          "Fast Start Financing: U.S. Climate Funding in FY 2010",
          "Annex IV: Reviewers of the IPCC Special Report on Climate Change and Land",
          "Lao People's Democratic Republic. Biennial update report (BUR). BUR 1 - Technical Annex",
          "Technical analysis of the first biennial update report of Kuwait submitted on 30 September 2019. Summary report by the team of technical experts",
          "Honduras First NDC (Archived)",
          "Annex to the EU Fast Start Finance Report for Submission to the UNFCCC Secretariat – Individual Actions Supported by EU Fast Start Financing",
          "Annex I: Glossary",
          "EU Fast Start Finance Report 2013",
          "Colombia. National Communication (NC). NC 3.",
          "Georgia. National communication (NC). NC 4.",
          "Canada. Biennial report (BR). BR 4",
          "South Africa. National Communication (NC). NC 3.",
          "Updated NDC - English version",
          "Mali First NDC (Updated submission)",
          "Serbia. Technical analysis of the first biennial update report of Serbia submitted on 28 March 2016. Summary report by the team of technical experts.",
          "Argentina. Biennial update report (BUR). BUR 4.",
          "World Resources Institute: Technical submission to the GST - The State of Nationally Determined Contributions: 2022",
          "Paraguay First NDC (Archived)",
          "Sao Tome and Principe. National communication (NC). NC 3.",
          "Kazakhstan. 2022 National Inventory Report (NIR)",
          "Equatorial Guinea. National communication (NC). NC1.",
          "Czechia. 2022 National Inventory Report (NIR)",
          "Malta. National Communication (NC). NC 8.",
          "Submission by the Climate Equity Reference Project Canada (CERP) - A fair share phases out: A civil society equity review on an equitable global phase out of fossil fuels",
          "Nationally determined contributions under the Paris Agreement. Synthesis report by the secretariat. Addendum. Additional information from adaptation components of nationally determined contributions",
          "France. National Communication (NC). NC 7 - Corrigendum",
          "Technical analysis of the second biennial update report of the Republic of Moldova submitted on 19 April 2019. Summary report by the team of technical experts",
          "Biennial in-session workshop on information to be provided by Parties in accordance with Article 9, paragraph 5, of the Paris Agreement. Summary report by the secretariat",
          "Oman. National communication (NC). NC 2.",
          "Annex I: Global to Regional Atlas",
          "A Solutions-Oriented Approach to the Global Stocktake - Center for Climate and Energy Solutions (C2ES) submission to the global stocktake",
          "Cameroon First NDC (Archived)",
          "Ghana First NDC (Archived_Interim updated submission_Transmittal letter)",
          "Spatial Data Provenance Guidelines for Nature-Based Solutions (NbS) Global Stocktake Submission",
          "Record of the facilitative sharing of views at the fifty-first session of the Subsidiary Body for Implementation: Saudi Arabia (FSVR1)",
          "Climate Change: Swiss Fast Start Financing from Public Sources (ODA)",
          "European Union First NDC (Updated submission)",
          "Achieving Net-Zero Prosperity How Governments Can Unlock 15 Essential Transformations: IDDRI and IDB",
          "Identifying and accounting for ocean specific topics in the Global Stocktake",
          "Turkish greenhouse gas inventory 1990 - 2019",
          "Australia First NDC (Archived)",
          "Spain. National Communication (NC). NC 7 - Addenda",
          "Russian Federation. 2021 National Inventory Report (NIR)",
          "Albania. Biennial update report (BUR). BUR 1. National inventory report.",
          "iGST submission: Negotiator Briefing: A Needs-Based Approach to Climate Finance",
          "Peru. Biennial update report (BUR). BUR 2. National inventory report.",
          "After Paris: Inequality, fair shares and the climate emergency - Submission by Climate Equity Reference Project Canada (CERP)",
          "United States’ Submission on the Third Technical Dialogue of the First Global Stocktake - April 2023",
          "South Africa.Biennial update report (BUR). BUR 4. National inventory report.",
          "Gabon. Biennial update report (BUR). BUR 1 - Technical Annex",
          "Technical analysis of the third biennial update report of Indonesia submitted on 20 December 2021. Summary report by the team of technical experts",
          "Addendum to the synthesis report for the technical assessment component of the first global stocktake: State of greenhouse gas emissions by sources and removals by sinks and mitigation efforts undertaken by Parties, including the information referred to in Article 13, paragraph 7(a), and Article 4, paragraphs 7, 15 and 19, of the Paris Agreement",
          "Maldives First NDC (Archived)",
          "Cuba. National Communication (NC). NC 3.",
          "Estrategia de Descarbonizaci­on a Largo Plazo 2050",
          "Romania. 2021 National Inventory Report (NIR)",
          "Joint submission by Bhutan and Nepal: Inputs to the technical phase of the First Global Stocktake under the Paris Agreement",
          "King Abdullah Petroleum Studies and Research Center submission to the GST - Closing the Investment Gap to Achieve Paris Agreement Goals",
          "Palau First NDC",
          "Greece. 2021 National Inventory Report (NIR)",
          "Chile. National Communication (NC). NC 4.",
          "GST submission by Climate Equity Reference Project Canada (CERP) - The imperative towards cooperation: Steps towards an equitable response to the climate crisis",
          "Finance in the GST technical annex and high-level outcome at COP28: independent Global Stocktake, Finance Working Group TD1.3 submission",
          "Burkina Faso's Adaptation communication",
          "Singapore's Adaptation communication",
          "Algeria First NDC Translation",
          "Guatemala First NDC(Archived)",
          "Senegal First NDC",
          "Sweden's long-term strategy for reducing greenhouse gas emissions",
          "Poland. Biennial report (BR). BR 4",
          "Yearbook of Global Climate Action 2020: Marrakech Partnership for Global Climate Action",
          "Submission letter",
          "Facilitative sharing of views record 2 - Armenia",
          "Project Drawdown submission",
          "Finland. Biennial Reports (BR). BR 5.",
          "Croatia. 2021 National Inventory Report (NIR)",
          "Switzerland First NDC (Archived)",
          "Cambodia First NDC (Updated submission)",
          "Resilience Pathway Action Table (unedited)",
          "We Mean Business Coalition Submission to the Global Stocktake (Updated Submission August 2022)",
          "The risks of temperature overshoot - CONSTRAIN Submission to the first Global Stocktake",
          "Central African Republic First NDC (Updated submission)",
          "Republic of Korea First NDC (Updated submission)",
          "Cuba First NDC (Archived)",
          "Egypt. Biennial update report (BUR). BUR 1.",
          "Antigua and Barbuda. Biennial update report (BUR). BUR 1.",
          "Finland's long-term low greenhouse gas emission development strategy",
          "Zimbabwe. National Communication (NC). NC 4.",
          "Slovenia. National Communication (NC). NC 8. Biennial Reports (BR). BR 5.",
          "Portugal. National Communication (NC). NC 8. Biennial Reports (BR). BR 5.",
          "Suriname. National Communication (NC). NC 2.",
          "Seychelles. National Communication (NC). NC 2.",
          "Angola. National communication (NC). NC 2.",
          "IIASA Policy Brief 31: United scenarios - Submissions to the Global Stocktake",
          "Costa Rica. Biennial update report (BUR). BUR 2 - Technical Annex I",
          "El Salvador. National Communication (NC). NC 3.",
          "China's submission to the global stocktake",
          "France. Biennial report (BR). BR 4",
          "The First Global Stocktake: International Energy Agency (IEA) submission",
          "United States Mid-Century Strategy for Deep Carbonization. Documentation and Output",
          "Brunei Darussalam First NDC",
          "Summary for Policymakers",
          "Lesotho. National Communication (NC). NC 2.",
          "Submission for the First Global Stocktake Submitted by: Nationally Determined Contributions (NDCs) Working Group, YOUNGO, Care About Climate",
          "Belarus First NDC (Updated submission)",
          "Technical analysis of the third biennial update report of the Republic of Moldova submitted on 21 December 2021. Summary report by the team of technical experts",
          "AR6 Synthesis Report: Annex I: Glossary",
          "Technical analysis of the first biennial update report of Uzbekistan submitted on 5 July 2021. Summary report by the team of technical experts",
          "Liberia. National communication (NC). NC 2.",
          "Morocco First NDC (Archived)",
          "Facilitative sharing of views record - BUR2 Indonesia",
          "Compilation and synthesis of fourth biennial reports of Parties included in Annex I to the Convention. Revised report by the secretariat. Addendum",
          "CarbonCare InnoLab's Submission in Response to Call on: The first global stocktake",
          "Nigeria. Biennial update report (BUR). BUR2.",
          "Micronesia (Federated State of) First NDC",
          "New Zealand. National Communication (NC). NC 8.",
          "Chapter 4: Land Degradation",
          "Latvia. 2022 National Inventory Report (NIR)",
          "Technical analysis of the first biennial update report of Egypt submitted on 20 December 2019 Summary report by the team of technical experts",
          "Guyana. National Communication (NC). NC 2.",
          "Switzerland. 2021 National Inventory Report (NIR)",
          "Thailand. National Communication (NC). NC 3.",
          "United Kingdom Adaptation Communication Update",
          "Lithuania. Biennial report (BR). BR 4",
          "Annual compilation and accounting report for Annex B Parties under the Kyoto Protocol for 2020. Note by the secretariat. Addendum. Compilation and accounting information by Party",
          "Technical analysis of the first biennial update report of Mongolia submitted on 30 August 2017. Summary report by the team of technical experts",
          "Technical report on the technical analysis of the technical annex to the fourth biennial update report of Brazil submitted in accordance with decision 14/CP.19, paragraph 7, on 31 December 2020 - Part 1",
          "Israel First NDC (Archived)",
          "Bangladesh First NDC (Interim-Updated submission)",
          "Submission by the Global CCS Institute to the first Global Stocktake",
          "Global Stocktake Submission: \"Country\" of Permafrost Submission from Stockholm University, Sweden",
          "Niger First NDC (Archived)",
          "Mongolia. Biennial update report (BUR). BUR 1. National inventory report.",
          "Constituted Body GST synthesis report: Inputs to the technical assessment component of the first global stocktake on the impacts of the implementation of response measures",
          "Facilitative sharing of views record - BUR1 El-Salvador",
          "Climate Action Pathway: Energy. Action Table",
          "Netherlands. National Communication (NC). NC 7.",
          "Meeting the Fast Start Commitment: U.S. Climate Finance in Fiscal Year 2012",
          "Technical analysis of the first biennial update report of Antigua and Barbuda submitted on 3 March 2020. Summary report by the team of technical experts",
          "Guinea First NDC (Archived)",
          "Chapter 2: Mitigation Pathways Compatible with 1.5°C in the Context of Sustainable Development",
          "Lebanon. National Communication (NC). NC 3.",
          "Indonesia. Biennial update report (BUR). BUR 2.",
          "Brazil. Biennial update report (BUR). BUR4 - Technical Annex II",
          "Liechtenstein: Fast‐Start Finance – Progress Report for the Period May 2010 to May 2012",
          "Tajikistan First NDC (Archived)",
          "The Republic of North Macedonia First NDC (Archived)",
          "Sri Lanka. National Communication (NC). NC 2.",
          "United States of America. National Communication (NC). NC 8. Biennial Reports (BR). BR5",
          "Iraq First NDC",
          "Nauru. National Communication (NC). NC 2.",
          "Annex VIII: Acronyms",
          "Mauritania. Biennial update report (BUR). BUR 2.",
          "Thailand First NDC (Archived)",
          "United Arab Emirates First NDC (Archived)",
          "Submission By the Republic of Zambia on behalf of the African Group of Negotiators (AGN): Views on the Technical Phase of the First Global Stocktake under the Paris Agreement",
          "National Decarbonization Plan - Government of Costa Rica 2018-2050",
          "The First Global Stocktake International Renewable Energy Agency (IRENA) Submission",
          "Technical analysis of the second biennial update report of Panama submitted on 27 March 2021 Summary report by the team of technical experts",
          "Best Practice in Aligning International Public Finance with the Paris Agreement",
          "Long-Term Strategy 2050 - Austria",
          "Kenya First NDC (Updated submission)",
          "Bosnia and Herzegovina First NDC (Archived)",
          "Ukraine First NDC (Archived)",
          "Nationally determined contributions under the Paris Agreement. Synthesis report by the secretariat",
          "Nepal's Long-term Strategy for Net-zero Emissions",
          "Mauritius. Biennial update report (BUR). BUR 1.",
          "2050 Carbon Neutral Strategy of the Republic of Korea",
          "Trinidad and Tobago First NDC",
          "Austria. 2021 National Inventory Report (NIR)",
          "The LANCET Countdown: Tracking progress on climate and health. Submission to the UNFCCC Global Stocktake first technical call",
          "Technical analysis of the second biennial update report of Ghana submitted on 19 February 2019. Summary report by the team of technical experts",
          "Viet Nam First NDC (Archived)",
          "Stratégie à long terme de la Belgique",
          "Submission to the UNFCCC ahead of the first Technical Dialogue of the Global Stocktake: Institute for Sustainable Development and International Relations (IDDRI)",
          "Saint Lucia. Biennial update report (BUR). BUR 1. National inventory report.",
          "Uganda's Updated NDC",
          "Nationally determined contributions under the Paris Agreement. Synthesis report by the secretariat",
          "The University of Cambridge on behalf of the PARIS REINFORCE project input to the first global stocktake: SYR (e) Efforts to enhance understanding, action and support, on a cooperative and facilitative basis, related to averting, minimizing and addressing loss and damage associated with the adverse effects of climate change",
          "Compilation and synthesis of fourth biennial reports of Parties included in Annex I to the Convention. Report by the secretariat. Addendum",
          "Namibia First NDC (Updated submission)",
          "Norway. 2022 National Inventory Report (NIR)",
          "Japan First NDC (Archived)",
          "Belgium. Biennial Reports (BR). BR 3. National Communication (NC). NC 7.",
          "Strategy of socio-economic development of the Russian Federation with low greenhouse gas emissions until 2050",
          "Viet Nam. Biennial update report (BUR). BUR 3.",
          "Submission to the First Technical Dialogue of the Global Stocktake",
          "Dominican Republic First NDC (Updated submission)",
          "Tunisia First NDC (Archived)",
          "Madagascar First NDC",
          "YOUNGO GST Submission",
          "Technical analysis of the second biennial update report of China submitted on 25 June 2019. Summary report by the team of technical experts",
          "Summary for Policymakers",
          "Nationally determined contributions under the Paris Agreement. Revised note by the secretariat",
          "Iceland. 2021 National Inventory Report (NIR)",
          "Forward Note for submission of Second NDC",
          "Kuwait First NDC (Archived)",
          "Marshall Islands' Adaptation communication",
          "Annex IX: Contributors to the IPCC WGI Sixth Assessment Report",
          "FSV2 record - Costa Rica",
          "Rwanda First NDC (Updated submission)",
          "Vanuatu First NDC (Updated Submission)",
          "Togo. Biennial update report (BUR). BUR 2.",
          "Australia's Adaptation communication",
          "Facilitative sharing of view record 2 - The Republic of North Macedonia",
          "National Inventory Report to BUR 3 Armenia",
          "Oman First NDC (Archived)",
          "Global Ocean Science Report 2020",
          "Republic of Korea's Adaptation communication",
          "Somalia First NDC (Archived)",
          "Cambodia. Biennial update report (BUR). BUR1. National inventory report",
          "Submission to the Global Stocktake: Aviva Investors",
          "Greece. National Communication (NC). NC 8. Biennial Reports (BR). BR 5.",
          "International Cryosphere Climate Initiative (ICCI) Submission Global Stocktake under the Paris Agreement. Call for an inter-, pre-or in-sessional on Climate Cryosphere - Linkages",
          "Facilitative sharing of views record for Mongolia",
          "El Salvador First NDC (Updated submission letter)",
          "Cook Islands. National communication (NC). NC 3.",
          "China. National communication (NC). NC 3.",
          "Slovenia. 2021 National Inventory Report (NIR)",
          "Global Stocktake: Advancing climate action together with a just transition supporting decent work for all - Submission by the International Labour Organization",
          "Suriname Second NDC",
          "Cabo Verde First NDC(Updated submission)",
          "Singapore First NDC (Archived)",
          "Submission by the Russian Federation on the inputs referred to in paragraph 19 of decision 19/CMA.1 in relation to the Global Stocktake",
          "Annex I: Glossary",
          "United Nations Development Programme (UNDP)",
          "Slovakia. Biennial report (BR). BR 4",
          "Organization of the Petroleum Exporting Countries (OPEC) - Input to the third meeting of the Technical Dialogue of the first Global Stocktake (GST)",
          "Chile First NDC (Updated submission)",
          "Singapore. National communication (NC). NC5. Biennial update report (BUR). BUR5.",
          "ICIMOD submission to the First Global Stocktake_March 2023_V2",
          "Qatar. National Communication (NC). NC 1.",
          "Submission by the Global Alliance for the Future of Food and Climate Focus on the First Global Stocktake (GST)",
          "Burundi. National communication (NC). NC 3.",
          "Facilitative sharing of views record - Jamaica",
          "Argentina First NDC(Archived)",
          "Fiji. National communication (NC). NC 3.",
          "Costa Rica. National Communication (NC). NC 3.",
          "Ecuador First NDC",
          "Andorra 2022 NDC Update (Draft)",
          "Serbia. National Communication (NC). NC 2.",
          "Sweden. Biennial Reports (BR). BR 3. National Communication (NC). NC 7 - Annex",
          "Turkmenistan. National Communication (NC). NC 3.",
          "Armenia First NDC (Updated submission)",
          "South Sudan. National communication (NC). NC1.",
          "NDC aspects project: Ensuring an Effective Global Stocktake with a Sectoral Perspective",
          "Gabon First NDC",
          "Technical analysis of the third biennial update report of Brazil submitted on 2 March 2019. Summary report by the team of technical experts",
          "Communication on Zambia's NDC Revision and Updating Process",
          "Estonia. Biennial report (BR). BR 4",
          "Democratic Republic of the Congo. National Communication (NC). NC 3.",
          "Romania. National Communication (NC). NC 7 - Annex II",
          "Annex V: Expert Reviewers of the Working Group II Contribution to the IPCC Sixth Assessment Report",
          "Distilling critical signals from the global stocktake: Center for Climate and Energy Solutions",
          "Submission by ICOMOS on behalf of the Climate Heritage Network to the first global stocktake",
          "Ghana. National communication (NC). NC 4.",
          "Canada – 2010 Fast-Start Financing",
          "Record of the facilitative sharing of views at the fifty - second to fifty - fifth session of the Subsidiary Body for Implementation: Dominican Republic (FSVR1)- Dominican Republic",
          "Inputs for the First Global Stocktake Submission by the International Union for Conservation of Nature (IUCN) 28 February 2022 (updated 6 March 2023)",
          "European Union. Biennial Reports (BR). BR 3. National Communication (NC). NC 7.",
          "Colombia First NDC (Archived)",
          "Gambia First NDC (Archived)",
          "Technical analysis of the third biennial update report of Namibia submitted on 23 January 2019. Summary report by the team of technical experts",
          "Climate Action Plan 2050. Executive summary",
          "Malaysia First NDC (Updated submission)",
          "Secretariat GST synthesis report: Synthesis report for the technical assessment component of the first global stocktake: Synthesis report on the overall effect of Partiesâ€™ NDCs and overall progress made by Parties towards the implementation of their NDCs, including the information referred to in Article 13, paragraph 7(b), of the Paris Agreement",
          "Eswatini. National Communication (NC). NC 3.",
          "Cyprus. Biennial report (BR). BR 4",
          "Japan's Fast-Start Financing for Developing Countries up to 2012 (As of 31 March, 2011)",
          "Plymouth Marine Laboratory (PML) submission to the second meeting of the technical dialogue relating to the First Global Stocktake â€“ Technical Assessment",
          "Panama NDC Cover Letter",
          "Saudi Arabia. National Communication (NC). NC 3.",
          "Paraguay. National Communication (NC). NC 3 - Executive Summary",
          "Climate Change 2022: Mitigation of Climate Change: Technical Summary",
          "Panama. National Communication (NC). NC 3.",
          "Republic of Moldova. Biennial update report (BUR). BUR 2. National inventory report.",
          "South Africa First NDC (Archived)",
          "Turkey. 2021 National Inventory Report (NIR)",
          "Argentina. Biennial update report (BUR). BUR 3.",
          "Annex V: Expert Reviewers of the IPCC WGIII Sixth Assessment Report",
          "Comoros. National Communication (NC). NC 2.",
          "EU First NDC (Archived)",
          "World Resources Institute: Not Just Carbon: Capturing All the Benefits of Forests for Stabilizing the Climate from Local to Global Scales Submission to the First Global Stocktake",
          "Canada's Fast-Start Financing: Progress Report",
          "Germany. Biennial Reports (BR). BR 3.",
          "Jordan. Biennial update report (BUR). BUR 2.",
          "Progress in the process to formulate and implement national adaptation plans. Note by the secretariat",
          "Zambia. National communication (NC). NC 3.",
          "Democratic People's Republic of Korea First NDC(Archived)",
          "Eritrea. National Communication (NC). NC 2.",
          "Submission letter (Interim updated submission)",
          "Submission of the Global Alliance for National Human Rights Institutions (GANHRI) to the Global Stocktake (GST)",
          "Malta. Biennial report (BR). BR 4",
          "Technical analysis of the second biennial update report of Viet Nam submitted on 20 November 2017",
          "Pakistan First NDC (Archived)",
          "Colombia. Biennial update report (BUR). BUR 2.",
          "Papua New Guinea. Biennial update report (BUR). BUR 1. Includes Modified Technical Annex on REDD+",
          "OHCHR submission to the UNFCCC Global Stocktake",
          "San Marino. National Communication (NC). NC 2.",
          "Global Stocktake Submission by Iceland (February 2022)",
          "Re-invigorating the UN Climate Regime in the wider landscape of climate action - C2ES Discussion Paper",
          "Second meeting of the Technical Dialogue (TD1.2) Inputs to Inform the Subsidiary Body for Scientific and Technological Advice First Global Stocktake - The Local Governments and Municipal Authorities (LGMA) Constituency",
          "Finland. 2022 National Inventory Report (NIR)",
          "Somalia. National Communication (NC). NC 1.",
          "Republic of Moldova First NDC (Updated submission)",
          "Côte d'Ivoire First NDC",
          "Facilitative sharing of views record - BUR3 South Africa",
          "Andorra First NDC (Updated submission)",
          "Submission by Transforma, iGST Latin America and the Carribean regional hub, Disclosure Insight Action (CDP) and Climate Analytics Carribean",
          "Ghana on behalf of the Climate Vulnerable Forum - Submission of information to the first global stocktake",
          "Serbia First NDC",
          "Sweden. Biennial Reports (BR). BR 3.",
          "Cambodia. National Communication (NC). NC 3.",
          "Corrigendum to Portugal's Adaptation Communication",
          "India Water Foundation Submission to the First Global Stocktake",
          "United States of America. National Communication (NC). NC 8. Biennial Reports (BR). BR5. Corrigendum",
          "Slovakia. National Communication (NC). NC 7.",
          "Charting Singapore's Low-Carbon and Climate Resilient Future",
          "Key scientific findings arising from recent European Space Agency (ESA) project publications addressing questions in preparation for the first Global Stocktake",
          "Yearbook of Global Climate Action 2022: Marrakech Partnership for Global Climate Action",
          "CÃ´te d'Ivoire. Biennial update report (BUR). BUR 1.",
          "Joint submission of the Durham Centre for Sustainable Development Law and Policy, The Centre for International Law at the National University of Singapore, and the International Cryosphere Climate Initiative to the global stocktake",
          "EGYPT'S FIRST UPDATED NATIONALLY DETERMINED CONTRIBUTIONS",
          "Nationally Determined Contribution of the Plurinational State of Bolivia",
          "Four-page overview of revised national low carbon strategy of France",
          "China. Biennial update report (BUR). BUR 2.",
          "Perspectives: Adequacy and Effectiveness of Adaptation in the Global Stocktake",
          "Antigua and Barbuda First NDC (Archived)",
          "Facilitative sharing of views record for Tunisia",
          "Qatar First NDC (Updated submission)",
          "Summary of revised national low carbon strategy of France",
          "Singapore. Biennial update report (BUR). BUR4.",
          "Technical analysis of the first biennial update report of Eritrea submitted on 30 December 2021. Summary report by the team of technical experts",
          "Republic of Korea. Biennial update report (BUR). BUR4.",
          "Secretariat GST synthesis report: Synthesis report for the technical assessment component of the first global stocktake State of greenhouse gas emissions by sources and removals by sinks and mitigation efforts undertaken by Parties, including the information referred to in Article 13, paragraph 7(a), and Article 4, paragraphs 7, 15 and 19, of the Paris Agreement",
          "Implications of climate policy on energy poverty",
          "Solomon Islands First NDC (Updated submission)",
          "Chile's NDC Strengthening Annex",
          "Cambodia. Biennial update report (BUR). BUR 1 - Technical Annex II",
          "Portugal. Biennial Reports (BR). BR 3. National Communication (NC). NC 7.",
          "Vote Climate One - Submission to the Global Stocktake",
          "World Green Building Council Response to the Global Stocktake",
          "Grenada Second NDC",
          "Seychelles First NDC (Archived)",
          "Biennial in-session workshop on information to be provided by Parties in accordance with Article 9, paragraph 5, of the Paris Agreement. Summary report by the secretariat",
          "Jordan First NDC (Archived)",
          "Democratic Republic of the Congo First NDC (Archived)",
          "Estonia. 2021 National Inventory Report (NIR)",
          "Continued ratcheting of ambition is critical for limiting peak global warming - University of Maryland",
          "Malta. 2021 National Inventory Report (NIR)",
          "Technical analysis of the third biennial update report of Argentina submitted on 27 November 2019. Summary report by the team of technical experts",
          "Summary for Policymakers",
          "Papua New Guinea Second NDC Summary",
          "Technical analysis of the fourth biennial update report of Uruguay submitted on 31 December 2021. Summary report by the team of technical experts",
          "Samoa. National Communication (NC). NC 2.",
          "Cyprus' Long-term low GHG emission development strategy - 2022 update",
          "Ethiopia First NDC (Archived)",
          "Republic of Moldova. National Communication (NC). NC 4.",
          "South Africa. Biennial update report (BUR). BUR 3.",
          "Climate Action Plan 2050. Executive summary",
          "Technical analysis of the third biennial update report of Singapore submitted on 27 December 2018. Summary report by the team of technical experts",
          "Gambia. National communication (NC). NC 3.",
          "Tunisia. National Communication (NC). NC 3.",
          "Argentina Second NDC (Updated submission)",
          "Comoros First NDC (Archived)",
          "Individual Actions Supported by EU Fast Start Financing II",
          "Canada. Biennial Reports (BR). BR 3. National Communication (NC). NC 7.",
          "Panama. Biennial update report (BUR). BUR 2. National inventory report.",
          "Technical analysis of the third biennial update report of Malaysia submitted on 31 December 2020. Summary report by the team of technical experts",
          "Gabon. National Communication (NC). NC 2.",
          "Climate Action Plan 2050",
          "Turkey. Biennial report (BR). BR 4",
          "Malaysia. Biennial update report (BUR). BUR 2. National Communication (NC). NC 3 - Errata",
          "he Bezos Earth Fund, ClimateWorks Foundation, Climate Action Tracker, Climate Analytics, NewClimate Institute, the United Nations Climate Change High-Level Champions, and World Resources Institute - State of Climate Action 2022 report",
          "Eswatini First NDC (Archived)",
          "Cyprus. 2021 National Inventory Report (NIR)",
          "Japan’s Fast-Start Finance for Developing Countries up to 2012 (As of December, 2012) ",
          "Germany. National Communication (NC). NC 7.",
          "Canada's Mid-Century Long-Term Strategy",
          "Peru First NDC (Archived)",
          "Tuvalu. National Communication (NC). NC 2.",
          "Armenia. Biennial update report (BUR). BUR 3.",
          "South Sudan First NDC",
          "Technical analysis of the third biennial update report of Morocco submitted on 20 April 2022. Summary report by the team of technical experts",
          "Zambia First NDC (Updated submission)",
          "Romania. Biennial report (BR). BR 4",
          "Pakistan. Biennial update report (BUR). BUR1.",
          "SLOCAT Transport and Climate Change Global Status Report 2nd edition",
          "Institutional Investors Group on Climate Change (IIGCC): submission to the Global Stocktake first technical assessment of progress towards the goals of the Paris Agreement",
          "OECD Submission to the First Global Stocktake",
          "Canada First NDC (updated submission)",
          "Recognition of Indigenous Peoples in Nationally Determined Contributions: IWGIA submission to the first global stocktake",
          "UNDRR Inputs in the First Global Stocktake Technical Dialogue 1.3",
          "Exploring Approaches for Canada's Transition to Net-Zero Emissions",
          "Colombia First NDC (Updated submission) - Submission Letter",
          "National Institute for Environmental Studies Japan: Asia - Pacific Climate Change Adaptation Information Platform (AP-PLAT) Submission to Information Portal",
          "Annex III: Acronyms",
          "Designing a meaningful global stocktake: Center for Climate and Energy Solutions",
          "Guatemala. National Communication (NC). NC 2.",
          "Technical analysis of the first biennial update report of Afghanistan submitted on 13 October 2019. Summary report by the team of technical experts",
          "Lesotho First NDC(Archived)",
          "Chapter 4: Strengthening and Implementing the Global Response",
          "Indonesia. National Communication (NC). NC 3.",
          "Brazil. National communication (NC). NC 4.",
          "Climate Action Pathway: Industry. Action Table",
          "Netherlands. National Communication (NC). NC 8. Biennial Reports (BR). BR 5.",
          "Mexico First NDC (Updated submission)",
          "Syrian Arab Republic First NDC",
          "The Long-Term Strategy of the United States: Pathways to Net-Zero Greenhouse Gas Emissions by 2050 (Accessible version)",
          "Sri Lanka First NDC (Archived)",
          "United States of America. Biennial Reports (BR). BR 1. National Communication (NC). NC 6 - Methodology II",
          "Latvia. Biennial Reports (BR). BR 3. National Communication (NC). NC 7.",
          "Chapter 6: Interlinkages Between Desertification, Land Degradation, Food Security and Greenhouse Gas Fluxes: Synergies, Trade-Offs and Integrated Response Options",
          "The Clean Growth Strategy",
          "United Kingdom Updated 2030 NDC",
          "India. Biennial update report (BUR). BUR3.",
          "Nicaragua. National Communication (NC). NC 3.",
          "Mongolia First NDC (Updated submission)",
          "Constituted Body GST synthesis report: Consultative Group of Experts Input to the technical assessment of the global stocktake",
          "Facilitative sharing of views record - BUR 1 Panama",
          "Lithuania. 2021 National Inventory Report (NIR)",
          "Technical analysis of the first biennial update report of Oman submitted on 23 December 2019. Summary report by the team of technical experts",
          "Annual report of the Paris Agreement Implementation and Compliance Committee to the Conference of the Parties serving as the meeting of the Parties to the Paris Agreement. Report by the secretariat",
          "Technical report on the technical analysis of the technical annex to the third biennial update report of Indonesia submitted in accordance with decision 14/CP.19, paragraph 7, on 20 December 2021",
          "Ireland. Biennial Reports (BR). BR 3. National Communication (NC). NC 7.",
          "Bahrain. National Communication (NC). NC 3.",
          "Submission by the Institute for Global Environmental Strategies to the first Global Stocktake",
          "Cover letter from Minister of Environment Forest",
          "Facilitative sharing of views record for Togo",
          "Submission by CONSTRAIN (Constraining Uncertainty of Multi-Decadal Climate Projections) to the first Global Stocktake",
          "Lao People's Democratic Republic. National Communication (NC). NC 2.",
          "Chapter 2: Land-Climate Interactions",
          "Haiti. National Communication (NC). NC 2.",
          "Technical analysis of the first biennial update report of Jamaica submitted on 18 November 2016.",
          "Technical analysis of the first biennial update report of Gabon submitted on 29 December 2021. Summary report by the team of technical experts",
          "New Zealand. Biennial Reports (BR). BR 5.",
          "Uruguay First NDC",
          "Bangladesh First NDC (Updated submission)",
          "Israel. Biennial update report (BUR). BUR 1.",
          "Long term strategy on climate mitigation",
          "Switzerland. Biennial report (BR). BR 4",
          "United Republic of Tanzania. National Communication (NC). NC 2.",
          "Morocco First NDC (Updated submission)",
          "Facilitative sharing of views record - BUR2 Mexico",
          "Compilation and Synthesis Report 2020 - Brochure",
          "Nigeria. National inventory report. 2000-2017",
          "Belarus. 2022 National Inventory Report (NIR)",
          "Technical analysis of the third biennial update report of Thailand submitted on 25 December 2020. Summary report by the team of technical experts",
          "Technical analysis of the first biennial update report of Togo submitted on 27 September 2017. Summary report by the team of technical experts",
          "Liechtenstein First NDC",
          "Joint Submission to the first Global Stocktake: The JAXA/GOSAT GHG product for tracking city-level emission changes: The Japan Aerospace Exploration Agency (JAXA) and the Institute for the Global Environmental Strategies (IGES)",
          "Mauritania First NDC (Archived)",
          "Nauru_NDC letter (Archived)",
          "Annex VI: Climatic Impact-driver and Extreme Indices",
          "FSV3 record - Republic of Korea",
          "Chapter 6: Extremes, Abrupt Changes and Managing Risks",
          "Nationally determined contributions under the Paris Agreement. Revised note by the secretariat",
          "Iceland. Biennial report (BR). BR 4",
          "United Arab Emirates. National Communication (NC). NC 4.",
          "Thermal Storage UK Global Stocktake submission",
          "Thailand Mid-century, Long-term Low Greenhouse Gas Emission Development Strategy",
          "Kuwait on behalf of the Arab Group: Submission to the Global Stocktake",
          "Djibouti First NDC",
          "Rwanda. Biennial update report (BUR). BUR 1.",
          "Submission by France and the European Commission on behalf of the European Union and its member states",
          "Uzbekistan. National Communication (NC). NC 3.",
          "Technical analysis of the second biennial update report of Peru submitted on 17 December 2019. Summary report by the team of technical experts",
          "The First Global Stocktake of the Paris Agreement Submission by the International Centre for Integrated Mountain Development (ICIMOD)",
          "Togo. Biennial update report (BUR). BUR 1.",
          "Australia. Biennial report (BR). BR 4",
          "UK Net Zero Strategy: Build Back Greener",
          "Mauritius. National Communication (NC). NC 3.",
          "Netherlands. 2022 National Inventory Report (NIR)",
          "Jamaica. National Communication (NC). NC 3.",
          "Belgium. 2022 National Inventory Report (NIR)",
          "Submission to the Global Stocktake - Adaptation Research Alliance",
          "Dominican Republic. National Communication (NC). NC 3 - Executive Summary",
          "Luxembourg. Biennial report (BR). BR 4",
          "Carbon Neutrality Coalition (CNC) Secretariat Submission to the Global Stocktake’s Third Technical Dialogue",
          "Technical analysis of the second biennial update report of Costa Rica submitted on 23 December 2019. Summary report by the team of technical experts",
          "The institutional ecosystem for loss and damage - Centre for Climate and Energy Solutions C2ES",
          "Myanmar. National Communication (NC). NC 1.",
          "Norway First NDC (Updated submission)",
          "Nepal. National communication (NC). NC 3.",
          "Climate Action Pathway. Human Settlements. Vision and Summary",
          "Current 2030 targets and actions do not put the world on track to limit warming to 1.5Â°c. New Climate Institute for Climate Policy and Global Sustainability",
          "Mauritius First NDC (Updated submission)",
          "\"Matters Relating to the Global Stocktake referred to in Article 14 of the Paris Agreement\": Submission by India – On behalf of the LMDC Group",
          "Kazakhstan. National Communication (NC). NC 2.",
          "The scope of finance in the GST Technical Dialogues: A comparison with the Technical Expert Dialogues of the New Collective Quantified Goal",
          "Bolivia. National Communication (NC). NC 3 - Executive Summary",
          "Honduras. Biennial update report (BUR). BUR1. National inventory report.",
          "Nationally determined contributions under the Paris Agreement. Synthesis report by the secretariat",
          "Norway. Biennial Reports (BR). BR 3. National Communication (NC). NC 7.",
          "Compilation and synthesis of fourth biennial reports of Parties included in Annex I to the Convention. Report by the secretariat. Executive summary",
          "Namibia. Biennial update report (BUR). BUR4.",
          "Trinidad and Tobago. National Communication (NC). NC 2.",
          "Austria. Biennial report (BR). BR 4",
          "Viet Nam Updated First NDC (Updated submission)",
          "Strategy of Latvia for the Achievement of Climate Neutrality by 2050",
          "Saint Lucia First NDC (Updated submission)",
          "Nationally determined contributions under the Paris Agreement. Synthesis report by the secretariat",
          "Ukraine. National Communication (NC). NC 6. Addendum.",
          "The Equity Landscape: A working paper of the Equity Working Group of the independent Global Stocktake (iGST)",
          "Technical analysis of the second biennial update report of Morocco submitted on 31 December 2019. Summary report by the team of technical experts",
          "Togo. National Communication (NC). NC 3.",
          "Submission to the First Input Phase of the Global Stocktake Permafrost Pathways at Woodwell Climate Research Center",
          "Long-Term Strategy for carbon neutrality of the Portuguese economy by 2050",
          "Denmark's Mid-century, Long-term Low Greenhouse Gas Emission Development Strategy",
          "Benin First NDC (Updated submission)",
          "Vanuatu. Biennial update report (BUR). BUR 1."
         ],
         "legendgroup": "",
         "marker": {
          "color": [
           1,
           9,
           6,
           10,
           10,
           9,
           0,
           9,
           9,
           10,
           1,
           16,
           1,
           10,
           14,
           10,
           17,
           13,
           2,
           9,
           2,
           1,
           0,
           14,
           10,
           2,
           13,
           1,
           3,
           10,
           0,
           9,
           6,
           7,
           11,
           1,
           1,
           9,
           12,
           3,
           14,
           1,
           2,
           2,
           9,
           10,
           15,
           16,
           1,
           9,
           6,
           9,
           2,
           16,
           2,
           13,
           12,
           6,
           9,
           9,
           10,
           10,
           2,
           8,
           2,
           3,
           9,
           11,
           14,
           2,
           4,
           3,
           12,
           6,
           14,
           2,
           10,
           6,
           1,
           16,
           5,
           3,
           16,
           14,
           1,
           10,
           1,
           16,
           12,
           6,
           10,
           1,
           3,
           16,
           1,
           14,
           9,
           6,
           2,
           0,
           16,
           10,
           10,
           1,
           14,
           5,
           10,
           13,
           10,
           0,
           6,
           16,
           4,
           12,
           4,
           12,
           10,
           11,
           9,
           6,
           11,
           9,
           14,
           1,
           6,
           10,
           1,
           2,
           10,
           2,
           6,
           6,
           1,
           11,
           2,
           2,
           9,
           11,
           2,
           15,
           1,
           1,
           11,
           6,
           2,
           11,
           1,
           6,
           10,
           16,
           10,
           2,
           6,
           11,
           9,
           13,
           10,
           6,
           10,
           1,
           9,
           9,
           11,
           13,
           10,
           10,
           14,
           10,
           6,
           2,
           1,
           4,
           6,
           10,
           14,
           10,
           1,
           10,
           9,
           15,
           6,
           13,
           1,
           1,
           9,
           10,
           13,
           3,
           1,
           3,
           10,
           1,
           10,
           11,
           1,
           2,
           6,
           10,
           4,
           10,
           10,
           10,
           4,
           10,
           10,
           9,
           12,
           1,
           10,
           10,
           10,
           0,
           6,
           9,
           9,
           15,
           9,
           1,
           1,
           11,
           10,
           4,
           2,
           6,
           1,
           1,
           1,
           1,
           15,
           14,
           12,
           1,
           11,
           12,
           16,
           10,
           11,
           1,
           15,
           6,
           1,
           2,
           1,
           1,
           14,
           10,
           10,
           1,
           14,
           1,
           1,
           3,
           1,
           16,
           10,
           2,
           6,
           10,
           9,
           2,
           1,
           2,
           4,
           10,
           1,
           1,
           1,
           3,
           10,
           10,
           12,
           3,
           10,
           4,
           1,
           1,
           0,
           10,
           3,
           9,
           2,
           14,
           16,
           3,
           9,
           7,
           5,
           6,
           10,
           1,
           13,
           14,
           9,
           10,
           11,
           1,
           3,
           9,
           10,
           13,
           17,
           14,
           1,
           16,
           1,
           10,
           7,
           1,
           9,
           1,
           1,
           10,
           12,
           9,
           1,
           1,
           6,
           1,
           11,
           6,
           1,
           10,
           13,
           9,
           3,
           6,
           1,
           1,
           11,
           12,
           10,
           6,
           3,
           15,
           9,
           7,
           10,
           9,
           0,
           12,
           2,
           5,
           6,
           9,
           1,
           13,
           6,
           1,
           10,
           4,
           11,
           9,
           6,
           14,
           10,
           5,
           11,
           3,
           9,
           6,
           15,
           1,
           0,
           16,
           1,
           11,
           12,
           10,
           8,
           9,
           2,
           10,
           5,
           13,
           10,
           17,
           10,
           1,
           14,
           2,
           3,
           1,
           3,
           10,
           13,
           10,
           14,
           1,
           1,
           12,
           10,
           6,
           5,
           9,
           10,
           10,
           1,
           11,
           11,
           10,
           6,
           8,
           14,
           6,
           1,
           16,
           9,
           10,
           1,
           10,
           10,
           1,
           10,
           9,
           1,
           12,
           11,
           10,
           6,
           12,
           9,
           10,
           16,
           3,
           16,
           14,
           12,
           9,
           5,
           2,
           4,
           6,
           9,
           10,
           14,
           12,
           1,
           16,
           10,
           9,
           5,
           1,
           14,
           11,
           6,
           8,
           6,
           10,
           11,
           14,
           10,
           1,
           10,
           16,
           2,
           2,
           15,
           9,
           10,
           2,
           3,
           15,
           9,
           6,
           13,
           9,
           1,
           14,
           1,
           4,
           1,
           1,
           5,
           10,
           11,
           4,
           12,
           14,
           10,
           6,
           2,
           3,
           3,
           1,
           16,
           2,
           1,
           1,
           0,
           9,
           13,
           10,
           2,
           16,
           4,
           1,
           10,
           10,
           16,
           1,
           15,
           11,
           6,
           14,
           0,
           11,
           2,
           10,
           3,
           9,
           3,
           1,
           6,
           13,
           13,
           12,
           10,
           3,
           10,
           16,
           3,
           15,
           1,
           1,
           1,
           14,
           1,
           4,
           14,
           9,
           13,
           1,
           11,
           2,
           16,
           6,
           6,
           1,
           3,
           2,
           16,
           4,
           1,
           2,
           11,
           9,
           8,
           14,
           5,
           16,
           4,
           6,
           3,
           11,
           14,
           12,
           6,
           9,
           2,
           5,
           12,
           6,
           3,
           1,
           6,
           5,
           9,
           14,
           2,
           1,
           1,
           1,
           9,
           4,
           10,
           10,
           15,
           11,
           10,
           16,
           6,
           2,
           16,
           14,
           1,
           1,
           5,
           2,
           9,
           11,
           1,
           9,
           9,
           12,
           6,
           13,
           6,
           10,
           1,
           9,
           0,
           1,
           10,
           3,
           2,
           12,
           1,
           11,
           1,
           10,
           4,
           2,
           16,
           6,
           16,
           5,
           9,
           2,
           1,
           9,
           1,
           5,
           10,
           2,
           6,
           10,
           13,
           9,
           15,
           10,
           0,
           9,
           14,
           14,
           10,
           10,
           14,
           9,
           16,
           12,
           2,
           14,
           1,
           3,
           1,
           10,
           11,
           4,
           9,
           16,
           13,
           11,
           2,
           1,
           10,
           9,
           14,
           0,
           10,
           10,
           5,
           6,
           2,
           12,
           1,
           10,
           6,
           9,
           3,
           16,
           10,
           9,
           6,
           6,
           6,
           16,
           0,
           10,
           11,
           1,
           10,
           6,
           10,
           2,
           2,
           12,
           1,
           15,
           6,
           10,
           1,
           12,
           9,
           3,
           1,
           1,
           6,
           14,
           2,
           9,
           7,
           15,
           1,
           3,
           1,
           11,
           10,
           1,
           11,
           10,
           10,
           5,
           3,
           10,
           6,
           6,
           1,
           16,
           12,
           16,
           10,
           1,
           9,
           11,
           9,
           9,
           4,
           14,
           1,
           10,
           10,
           11,
           2,
           1,
           15,
           1,
           1,
           5,
           12,
           9,
           6,
           16,
           14,
           1,
           10,
           12,
           2,
           1,
           4,
           6,
           16,
           11,
           10,
           9,
           1,
           1,
           15,
           1,
           15,
           9,
           2,
           2,
           4,
           16,
           1,
           9,
           1,
           0,
           10,
           12,
           10,
           10,
           3,
           6,
           12,
           2,
           5,
           2,
           5,
           1,
           1,
           1,
           1,
           5,
           10,
           1,
           1,
           1,
           4,
           14,
           10,
           2,
           14,
           9,
           1,
           1,
           1,
           16,
           16,
           1,
           6,
           1,
           16,
           11,
           10,
           12,
           1,
           1,
           3,
           10,
           10,
           1,
           8,
           14,
           11,
           6,
           9,
           3,
           10,
           1,
           14,
           10,
           10,
           16,
           4,
           6,
           13,
           1,
           12,
           6,
           10,
           9,
           1,
           16,
           1,
           10,
           10,
           8,
           14,
           1,
           1,
           11,
           1,
           1,
           1,
           5,
           9,
           1,
           16,
           1,
           6,
           6,
           16,
           6,
           2,
           6,
           14,
           9,
           11,
           2,
           12,
           6,
           3,
           1,
           4,
           11,
           2,
           2,
           1,
           9,
           13,
           9,
           3,
           16,
           6,
           4,
           10,
           13,
           1,
           10,
           10,
           1,
           6,
           12,
           10,
           9,
           10,
           3,
           5,
           9,
           2,
           1,
           6,
           10,
           10,
           3,
           5,
           1,
           16,
           15,
           16,
           16,
           6,
           1,
           6,
           10,
           3,
           2,
           2,
           16,
           14,
           1,
           6,
           6,
           14,
           9,
           9,
           12,
           10,
           11,
           6,
           9,
           4,
           2,
           14,
           5,
           1,
           3,
           9,
           3,
           16,
           2,
           10,
           1,
           11,
           2,
           10,
           15,
           1,
           10,
           3,
           10,
           1,
           1,
           1,
           12,
           6,
           1,
           5,
           15,
           1,
           10,
           6,
           9,
           3,
           1,
           14,
           4,
           6,
           2,
           6,
           12,
           4,
           10,
           7,
           2,
           5,
           10,
           11,
           1,
           4,
           13,
           9,
           10,
           5,
           4,
           13,
           2,
           14,
           10,
           1,
           14,
           16,
           0,
           12,
           12,
           9,
           5,
           3,
           1,
           13,
           1,
           12,
           1,
           3,
           2,
           10,
           3,
           9,
           10,
           2,
           3,
           1,
           5,
           9,
           6,
           9,
           3,
           4,
           9,
           10,
           10,
           1,
           16,
           10,
           16,
           1,
           6,
           9,
           9,
           1,
           1,
           5,
           3,
           9,
           15,
           9,
           6,
           16,
           5,
           6,
           9,
           10,
           10,
           11,
           10,
           1,
           16,
           3,
           1,
           11,
           1,
           11,
           10,
           0,
           2,
           7,
           9,
           2,
           5,
           1,
           10,
           11,
           17,
           6,
           13,
           15,
           2,
           1,
           6,
           16,
           10,
           6,
           9,
           9,
           15,
           10,
           10,
           13,
           10,
           11,
           12,
           2,
           5,
           6,
           4,
           16,
           14,
           10,
           10,
           5,
           3,
           6,
           12,
           9,
           10,
           12,
           11,
           5,
           1,
           3,
           10,
           11,
           1,
           10,
           1,
           1,
           16,
           1,
           6,
           6,
           1,
           4,
           10,
           3,
           10,
           5,
           9,
           7,
           10,
           10,
           2,
           0,
           12,
           13,
           10,
           11,
           2,
           1,
           13,
           9,
           1,
           2,
           1,
           1,
           6,
           2,
           9,
           14,
           10,
           7,
           6,
           5,
           15,
           3,
           16,
           9,
           1,
           1,
           6,
           9,
           1,
           14,
           14,
           6,
           9,
           15,
           1,
           10,
           8,
           9,
           3,
           2,
           10,
           16,
           16,
           2,
           3,
           4,
           11,
           10,
           9,
           2,
           14,
           10,
           1,
           10,
           0,
           4,
           5,
           15,
           9,
           6,
           14,
           10,
           4,
           14,
           1,
           11,
           1,
           1,
           1,
           9,
           10,
           14,
           1,
           1,
           2,
           1,
           2,
           10,
           16,
           5,
           4,
           9,
           4,
           1,
           5,
           1,
           1,
           2,
           5,
           9,
           4,
           10,
           16,
           6,
           3,
           11,
           9,
           2,
           3,
           4,
           3,
           14,
           14,
           3,
           15,
           9,
           9,
           1,
           1,
           16,
           2,
           5,
           4,
           16,
           2,
           1,
           14,
           4,
           12,
           10,
           1,
           1,
           11,
           10,
           10,
           16,
           2,
           9,
           1,
           11,
           2,
           3,
           1,
           1,
           16,
           6,
           1,
           10,
           1,
           10,
           1,
           10,
           10,
           2,
           1,
           5,
           1,
           1,
           11,
           15,
           1,
           14,
           11,
           11,
           15,
           1,
           11,
           1,
           14,
           5,
           9,
           1,
           9,
           1,
           14,
           9,
           11,
           16,
           10,
           6,
           10,
           5,
           2,
           9,
           1,
           2,
           1,
           8,
           10,
           13,
           9,
           15,
           10,
           10,
           16,
           3,
           14,
           3,
           0,
           9,
           16,
           10,
           4,
           9,
           1,
           11,
           11,
           3,
           15,
           4,
           10,
           10,
           1,
           11,
           2,
           10,
           5,
           10,
           6,
           16,
           6,
           16,
           16,
           9,
           4,
           16,
           6,
           11,
           13,
           6,
           11,
           10,
           10,
           3,
           2,
           6,
           9,
           6,
           10,
           6,
           3,
           1,
           6,
           1,
           11,
           6,
           2,
           3,
           11,
           10,
           9,
           14,
           6,
           1,
           1,
           2,
           9,
           5,
           6,
           2,
           2,
           10,
           12,
           5,
           9,
           6,
           1,
           10,
           12,
           9,
           3,
           13,
           5,
           12,
           5,
           3,
           4,
           1,
           3,
           9,
           2,
           1,
           1,
           2,
           16,
           1,
           1,
           10,
           10,
           1,
           2,
           3,
           16,
           1,
           10,
           6,
           10,
           14,
           1,
           9,
           6,
           1,
           1,
           6,
           10,
           10,
           4,
           1,
           10,
           1,
           16,
           10,
           9,
           12,
           3,
           1,
           2,
           5,
           6,
           0,
           1,
           4,
           9,
           14,
           11,
           6,
           14,
           9,
           3,
           1,
           6,
           1,
           10,
           2,
           5,
           2,
           16,
           1,
           9,
           1,
           3,
           14,
           2,
           10,
           5,
           1,
           13,
           15,
           4,
           11,
           10,
           14,
           10,
           1,
           1,
           6,
           2,
           3,
           9,
           11,
           10,
           15,
           2,
           10,
           5,
           6,
           12,
           2,
           1,
           12,
           4,
           9,
           10,
           6,
           14,
           14,
           11,
           1,
           8,
           6,
           4,
           10,
           16,
           15,
           14,
           10,
           6,
           1,
           1,
           10,
           10,
           8,
           6,
           9,
           10,
           10,
           10,
           9,
           10,
           9,
           16,
           6,
           10,
           15,
           1,
           10,
           16,
           1,
           6,
           4,
           1,
           1,
           2,
           3,
           2,
           9,
           12,
           3,
           9,
           1,
           10,
           1,
           1,
           10,
           3,
           9,
           1,
           1,
           3,
           1,
           2,
           10,
           3,
           9,
           1,
           10,
           3,
           2,
           11,
           6,
           2,
           14,
           11,
           10,
           6,
           1,
           10,
           1,
           9,
           6,
           10,
           10,
           16,
           14,
           4,
           11,
           0,
           14,
           3,
           8,
           12,
           1,
           6,
           1,
           9,
           6,
           6,
           10,
           1,
           16,
           1,
           6,
           1,
           10,
           1,
           3,
           10,
           5,
           11,
           10,
           1,
           1,
           1,
           0,
           9,
           2,
           9,
           7,
           15,
           1,
           1,
           0,
           2,
           9,
           11,
           1,
           5,
           1,
           9,
           9,
           3,
           1,
           10,
           11,
           16,
           11,
           5,
           6,
           9,
           14,
           3,
           2,
           9,
           9,
           3,
           13,
           14,
           7,
           5,
           9,
           5,
           6,
           11,
           16,
           16,
           10,
           8,
           14,
           10,
           14,
           10,
           9,
           12,
           1,
           11,
           11,
           1,
           2,
           1,
           2,
           12,
           1,
           11,
           9,
           9,
           12,
           1,
           3,
           1,
           16,
           3,
           2,
           14,
           10,
           4,
           1,
           3,
           6,
           11,
           11,
           10,
           5,
           11,
           6,
           10,
           6,
           6,
           10,
           14,
           9,
           1,
           3,
           10,
           11,
           11,
           10
          ],
          "coloraxis": "coloraxis",
          "symbol": "circle"
         },
         "mode": "markers",
         "name": "",
         "showlegend": false,
         "type": "scattergl",
         "x": [
          -0.010056821476175459,
          0.08028641938664932,
          -0.06899516893353058,
          0.1444610562985429,
          0.05615570737878661,
          0.14101254470370467,
          -0.05325436852974309,
          0.1198382283878164,
          0.11056785220631275,
          0.039638645499009216,
          -0.03348480213864278,
          0.04178581791167489,
          -0.0001954223909365889,
          0.03974163654174616,
          -0.1495559599475714,
          0.11893946175509469,
          0.020854182668415728,
          0.21996719411037907,
          -0.047436315426755735,
          0.09374459663278296,
          -0.047436315426755735,
          -0.05088094848734128,
          -0.04732021278021817,
          -0.20287866670201352,
          0.07076125424802868,
          -0.047436315426755735,
          0.23584739406881777,
          0.03827559312065326,
          0.21261399207402093,
          0.031386751376365846,
          -0.10260041373919354,
          0.15923419667664576,
          -0.12290206970244993,
          -0.05419915391156592,
          -0.0706960298006106,
          0.010380496535766795,
          0.03080073541433116,
          0.1718424587141309,
          -0.13130959473365922,
          0.13711751259854538,
          -0.08854677795902456,
          -0.03081837573038907,
          -0.047436315426755735,
          -0.047436315426755735,
          0.07582013407642021,
          0.1240830695592964,
          0.13251885073650208,
          -0.0595767081096815,
          -0.07453356760980649,
          0.07486318062880247,
          -0.022794811846986056,
          0.08576551277713651,
          -0.047436315426755735,
          0.010242247164109992,
          -0.047436315426755735,
          0.2458176899984517,
          -0.1955771680261994,
          -0.10553520409065006,
          0.10138623786399409,
          0.1641564190303588,
          0.03300487963470211,
          0.0833499651310365,
          -0.047436315426755735,
          -0.23952077522933005,
          -0.047436315426755735,
          0.08218744142257506,
          0.11499890354000455,
          0.032237426392594665,
          -0.15863423227554307,
          -0.08951431278657786,
          -0.2854553101925596,
          0.1219691261429906,
          -0.15691047118067755,
          -0.08447505500319724,
          -0.10833960616044899,
          -0.047436315426755735,
          0.06581564937625838,
          -0.007267353875916112,
          0.011061440790554305,
          0.06415393042867613,
          -0.09795424494571647,
          0.1338086785429848,
          0.014404117784072653,
          -0.17837589262265846,
          -0.034243810570040875,
          0.06794482867878802,
          0.002924635164450572,
          -0.004321535510648269,
          -0.160862783568707,
          -0.009829710460256713,
          0.06680713554158958,
          -0.022611404352500707,
          0.1531013052420922,
          -0.014266490508805824,
          0.010278567168449135,
          -0.16633301133557019,
          0.1349119356805776,
          -0.08917126959838051,
          -0.047436315426755735,
          -0.051624200268834235,
          0.015368756974226506,
          0.07102815991714048,
          0.05077513090104472,
          -0.0011649069815520823,
          -0.11451721933812037,
          -0.0653094871324467,
          0.03989638828967206,
          0.24874478892821725,
          0.09999716544978184,
          -0.07255282431170329,
          -0.06251628245215578,
          -0.024742108066830325,
          -0.29375214825457674,
          -0.15283548242948505,
          -0.3537489010955044,
          -0.18177377296646108,
          0.04077208744593086,
          -0.05874104835171219,
          0.10852609615355326,
          0.00375953634076085,
          0.04789732801671797,
          0.1074012017749616,
          -0.13727230784352076,
          0.05304608734621163,
          -0.07235804566575484,
          0.06813296788935855,
          -0.02386733226473165,
          -0.08586764727864578,
          0.014463544534474126,
          -0.047436315426755735,
          -0.11761700858633824,
          0.016293323968110947,
          -0.05237549895449515,
          0.02379313088982403,
          -0.047436315426755735,
          -0.047436315426755735,
          0.062361711984724295,
          -0.02597468607827424,
          -0.047436315426755735,
          0.07346921083070108,
          0.0075788645215076255,
          0.0014872256753121983,
          -0.027159179242933398,
          -0.037236974365151075,
          -0.047436315426755735,
          0.004968422646144808,
          -0.020938829459216348,
          -0.09769298704892787,
          0.02339849387722649,
          -0.019364201212985325,
          0.03837908419067931,
          -0.047436315426755735,
          0.056823926754344944,
          -0.0023451933250027554,
          0.15934902509332644,
          0.3035628870380274,
          0.06311834210755198,
          -0.03441774148305044,
          0.11091922005001913,
          0.017293690693965188,
          0.11174261238994941,
          0.0857638884347881,
          -0.011674759551298894,
          0.3440010766996045,
          0.008147407203430549,
          0.07750771805096797,
          -0.17256764121874874,
          0.08899982190425683,
          -0.08953038694818437,
          -0.047436315426755735,
          -0.023035053585251715,
          -0.20073161671471038,
          -0.04304622719589615,
          0.04573516057077947,
          -0.10125978416831903,
          0.033760427404813165,
          -0.034086768834312504,
          0.07193281312174526,
          0.15427916084049337,
          0.06926545929246164,
          -0.02710816766052589,
          0.22935999193553144,
          -0.05853167386389017,
          -0.03576414844783024,
          0.08645950296541147,
          0.08959771626657019,
          0.24857161229730776,
          0.19298641150138557,
          -0.06119646929254003,
          0.1505823852804815,
          0.0331701984772752,
          -0.01724830623134087,
          0.07784934145386942,
          0.020434454246106015,
          0.030680109018757624,
          -0.047436315426755735,
          0.029186105822292682,
          0.05456242764900332,
          -0.2388467237720342,
          0.0940349548963767,
          0.1054799744862674,
          0.04074795253230811,
          -0.29771361412198355,
          0.11981017233287374,
          0.05171732849112137,
          0.11893658514077146,
          -0.2141842667896376,
          -0.01192473069286777,
          0.10196807806877499,
          0.0366356713382672,
          0.04689116102624997,
          -0.08303670965615763,
          -0.09304161408616045,
          0.051984746983881974,
          0.13058337170749906,
          0.07636849163472156,
          0.11424332645199087,
          0.029128023440684783,
          -0.003456310296204422,
          0.0836034260284505,
          0.009623971902081389,
          -0.3876028105860969,
          -0.047436315426755735,
          -0.05174240842466811,
          0.03168648666936831,
          0.009898202475459205,
          -0.002598399804117078,
          0.08027949237576365,
          0.04715420063106253,
          -0.12867210651989086,
          -0.09042726282843636,
          0.05753942168740201,
          -0.021888448594715507,
          -0.1753444339625597,
          -0.0740002296886004,
          0.07585817911963352,
          -0.013856841504441367,
          -0.03816336627133673,
          -0.01225708388491875,
          -0.05985062873572165,
          0.007841930791370832,
          -0.047436315426755735,
          -0.01677828717199946,
          0.03205252375822406,
          -0.1789650476214086,
          0.0847883967726611,
          0.0744762914373126,
          0.025583908834009485,
          -0.0724684833081498,
          0.03431030758047651,
          -0.059009529643381506,
          0.14018802819627013,
          -0.04208526990425272,
          -0.04429272081707494,
          0.08316170207645507,
          -0.047436315426755735,
          0.005673287095870722,
          0.1490917824170575,
          0.06320035089142483,
          -0.047436315426755735,
          0.032202559172599475,
          -0.047436315426755735,
          -0.28850266399732194,
          0.0897359466265645,
          -0.027134582212954787,
          0.04108912185820051,
          -0.005135219375213666,
          0.150581771382103,
          0.017534254888835615,
          0.014248572863959173,
          -0.12286319570376034,
          0.18435514258593325,
          -0.008647318441789899,
          -0.22613454322249052,
          -0.019641986865804487,
          -0.026044318017977786,
          -0.09972139915528186,
          0.11958283551613827,
          0.14244674023147477,
          0.1188658808581569,
          -0.047436315426755735,
          -0.18342487424351725,
          -0.05014921440069472,
          0.13222092085322765,
          0.11186797919509203,
          -0.01845561173529467,
          -0.03163640153913881,
          0.023086199679751274,
          0.06949505090250847,
          -0.027987621662126823,
          0.31935655350610587,
          -0.13701564178149933,
          0.0757805432519783,
          0.03242562531424412,
          0.07185574623927254,
          -0.023573120088403014,
          0.12400802332302918,
          0.13854141398121006,
          0.021233366234638996,
          0.2903785254999839,
          0.05153081205014574,
          -0.09100641574580995,
          -0.03243295253393249,
          -0.026435460413370616,
          -0.018633615548500886,
          0.06396448677270689,
          0.058056041284622946,
          0.010699528652092142,
          0.11361765672848989,
          0.02905247616926525,
          -0.00033712254948267066,
          0.05918131945660051,
          -0.17969197044960436,
          0.10753139866046293,
          -0.05240654865900035,
          -0.0790579630872801,
          0.003855635701905237,
          0.007562299544697657,
          -0.024926068352893026,
          -0.1039790082981826,
          -0.0721759828846411,
          0.04653866366072259,
          0.27250838776774644,
          0.1055365241179681,
          0.1910130352841673,
          0.03780838135458045,
          -0.04723906865990578,
          -0.01673316612289653,
          0.029170082536542085,
          -0.17352854474916501,
          0.05668675698400428,
          -0.05092361387752577,
          0.11836302717821012,
          0.11484769930615248,
          0.09571711168403024,
          -0.08890626106523507,
          0.057718165545980145,
          0.108499380657302,
          -0.1146839377544297,
          -0.16565781060168,
          -0.047436315426755735,
          -0.009397034616924515,
          0.019369055916461684,
          0.12453477738987792,
          -0.04650016833732465,
          0.25894305552499247,
          -0.06684305264141595,
          -0.053662857809104805,
          0.02657929383533166,
          -0.2980384377769276,
          -0.00827781994590979,
          0.08942569012438094,
          -0.047523060862706426,
          -0.15853797178930912,
          0.12759069955199198,
          -0.05346000165493573,
          0.06942088573919336,
          0.16981001621648603,
          0.09499120368453226,
          0.02619339192387182,
          0.11009259673566832,
          -0.048536039933947873,
          -0.10580721305329815,
          -0.04237661822885914,
          -0.03132171092121732,
          0.04990616462398446,
          -0.1534558546088451,
          0.0434466602812932,
          -0.2046118546675795,
          -0.001820688685707763,
          -0.047436315426755735,
          0.04589379073892958,
          -0.04281252282590124,
          0.4108235071050486,
          0.07746655703313884,
          0.007106688549146129,
          0.011909311030613315,
          -0.07763252100472426,
          -0.19134453617412972,
          -0.047436315426755735,
          0.2122537602768845,
          0.025197517443055765,
          0.17243791888363202,
          0.08447234693673708,
          0.2675221466189903,
          0.05593795492556351,
          -0.08772542860413876,
          0.02429223339219194,
          -0.0015561280407635869,
          -0.12278065303622479,
          0.1118477247836695,
          -0.06899199908028776,
          -0.06782147514465356,
          0.13043801521159995,
          0.09229381695187629,
          0.08086671637647504,
          -0.07178805826877606,
          -0.04962877397236326,
          0.04304073497620598,
          0.09999549663269343,
          -0.001888158773124009,
          -0.34982494632268385,
          -0.0931163137566671,
          0.03377647299106043,
          -0.04497227716600972,
          -0.041703973839165076,
          0.0854887251118943,
          0.036058807401745684,
          -0.0309353195070038,
          0.06878710173923705,
          -0.0018238064384395508,
          -0.06451963768068998,
          0.018661104555093212,
          0.048894631369520256,
          0.025778130315834247,
          -0.09429320384377096,
          -0.03312474493611684,
          0.022126406346666364,
          -0.08477115520063577,
          -0.11673167881578303,
          0.08728848675182986,
          0.023269413335627747,
          -0.06228344611910453,
          0.14580153501341178,
          0.0160797108184697,
          -0.13133337481620946,
          -0.13298616196926816,
          0.14437685948568782,
          -0.12080172038690545,
          -0.047436315426755735,
          -0.32014121536810597,
          -0.0248937958623217,
          0.058388454104143866,
          0.10257010522935178,
          -0.09001345372796517,
          -0.16315007219903596,
          -0.04644646100532228,
          0.009285129027285042,
          0.08359002973553638,
          0.0923205756122819,
          -0.05299394523189828,
          0.015872081173811965,
          -0.1519659316621263,
          0.01024491885259534,
          -0.017642432868017425,
          -0.22605533551506377,
          -0.05821087027064889,
          -0.011000744561321666,
          0.04585157231991927,
          -0.16264951226157134,
          0.019027156852620304,
          -0.008396634763852948,
          0.08977981512882424,
          -0.03507014525037129,
          -0.047436315426755735,
          -0.047436315426755735,
          0.08105699702030449,
          0.1262186445302453,
          0.03322670033237173,
          -0.047436315426755735,
          0.15832099831795354,
          0.0926760646898233,
          0.07499837401741596,
          -0.006257365019250787,
          0.38982276809835653,
          0.08642511203274295,
          -0.039578569588699965,
          -0.24182061920807005,
          -0.003988667236290554,
          -0.11621259696314853,
          0.03100537822968708,
          -0.06750761159034024,
          -0.012502975666694682,
          0.06838091899926732,
          -0.08039156140210987,
          -0.22051345516223622,
          -0.18647714771269844,
          -0.27354474984153837,
          0.0930426130590501,
          -0.06219412147943258,
          -0.047436315426755735,
          0.13786083784969158,
          0.1591629473226852,
          0.015737780950149226,
          0.0261784738874391,
          -0.047436315426755735,
          0.0476534133502808,
          -0.026380353017013164,
          -0.08446856229123305,
          0.08504163530786159,
          0.3040350100661831,
          0.09458653234798353,
          -0.047436315426755735,
          0.0015897760955448645,
          -0.21450430439899185,
          -0.04904357033831154,
          0.11873210489850393,
          0.1072034676421937,
          -0.11144651265616508,
          -0.0287141039965389,
          0.10405966323742294,
          -0.015445866461100143,
          -0.06163743193910584,
          -0.1221721925396661,
          -0.04315571708583865,
          -0.008669177508812721,
          -0.047436315426755735,
          0.05895324237228148,
          0.18754828594426057,
          0.09635415707895516,
          0.12322045618172145,
          0.056211195883404695,
          -0.06333932584406846,
          0.3397040444618972,
          0.37930921419564917,
          -0.13872461419097537,
          0.05732754507777527,
          0.22249589802146497,
          0.10099294969929708,
          0.03889671822073686,
          0.12670094369380244,
          -0.005833534919394697,
          0.007945851660747839,
          -0.05020158071747993,
          -0.0441535714189295,
          -0.2166286356037667,
          -0.04004108877245723,
          -0.21825683183327224,
          -0.14281127816515582,
          0.1150590991707632,
          0.2536407230738808,
          0.011107539151797675,
          0.04871093426157218,
          -0.047436315426755735,
          -0.051077689750089056,
          -0.0034456925860338193,
          -0.05485715419851485,
          -0.039112119550090745,
          0.1641282666023822,
          -0.047436315426755735,
          0.012776466901090326,
          -0.2798367516764101,
          -0.0170568459188791,
          -0.047436315426755735,
          -0.018672781767781248,
          0.08339116874178913,
          -0.25501511893038986,
          -0.08418776777214022,
          -0.031065763391371543,
          -0.03496336823446659,
          -0.2200419448716816,
          -0.008987208416112813,
          0.19260941756188102,
          -0.041860891471058925,
          -0.14600836883007515,
          -0.20696472955434392,
          -0.10018302364859927,
          0.1411409721448528,
          -0.047436315426755735,
          -0.04741909747667098,
          -0.1267653035713293,
          0.007752691920525029,
          0.12522879290124095,
          0.044552901738508725,
          -0.1083426138045439,
          -0.06800404618943441,
          0.07184003663857264,
          -0.16368848126002195,
          -0.047436315426755735,
          -0.03557105354299627,
          -0.017426573660939245,
          0.058435069138584234,
          0.10183230276454015,
          -0.27367829896792084,
          0.07681961346124089,
          0.08992030183889013,
          0.11387547848099076,
          0.047448678965285394,
          0.0488740352323097,
          -0.08085047180360315,
          -0.0003864273028312576,
          -0.047436315426755735,
          -0.035831929805980274,
          -0.14042113765678527,
          0.027633263467561623,
          -0.027936835283987875,
          -0.0025380424384699183,
          -0.047436315426755735,
          0.07107926647022096,
          -0.05152395680978574,
          -0.06727116956799176,
          0.1446185261270582,
          0.09544807579797497,
          -0.15627324337223358,
          -0.12290206970244993,
          0.23399345813499003,
          -0.038567287045135325,
          0.10843186654292601,
          0.04475672999352817,
          0.11309254517160328,
          -0.1836360127814468,
          0.006489277950677676,
          0.11449540076201745,
          0.1559635635081538,
          -0.047436315426755735,
          -0.15694961158447981,
          0.016138230026102054,
          0.022921343064238146,
          0.001816200554854309,
          0.09794266458007263,
          -0.2807471916387027,
          -0.047436315426755735,
          0.008338514765623688,
          -0.050858973851729945,
          -0.023893947081718662,
          -0.05036373326933775,
          0.1406235397561439,
          -0.047436315426755735,
          0.0175735082717366,
          0.10806143199172519,
          -0.0015969865906896208,
          -0.042036519245230324,
          0.07095956568033016,
          -0.047436315426755735,
          -0.09845423939631821,
          0.022168335456393032,
          0.22664037097107656,
          0.09247054649768173,
          0.10833341786014705,
          0.07483146474592053,
          -0.08074694351955372,
          0.08924852391417684,
          -0.13336412704782746,
          -0.11961621010424588,
          0.05951092165966897,
          0.03892271689224863,
          -0.18023536708872392,
          0.10750793985505373,
          -0.026049682549716513,
          -0.12150756498958688,
          -0.047436315426755735,
          -0.19722167741282357,
          -0.015353609698023537,
          0.1738273897614457,
          -0.060448104031299583,
          0.07371760711079901,
          0.037431010023451755,
          -0.31736301936863504,
          0.06173663574273869,
          -0.09757332419055013,
          0.26036801210430954,
          -0.01594911917303176,
          -0.05521557519595498,
          -0.08906196882758066,
          0.08284470652699706,
          0.09339705727716505,
          -0.12262673821793733,
          -0.10686756994514496,
          0.059124867998015154,
          0.04230694180613878,
          -0.06047639634651473,
          0.018170343597458814,
          -0.047436315426755735,
          -0.16714417078392735,
          0.009108150088193835,
          -0.00960493460963127,
          -0.10202384142643892,
          0.10072273257421026,
          0.20825525022527075,
          -0.08544581488212129,
          0.039411645815632196,
          0.08107121265018248,
          -0.046962125308533886,
          0.008195887408040923,
          -0.006492995402116251,
          -0.08997438764386628,
          -0.1836360127814468,
          0.08555605362075218,
          -0.0008195919045351832,
          0.00499570668340897,
          0.08735015238793895,
          -0.02611363845080036,
          0.04284374806438356,
          -0.047436315426755735,
          -0.047436315426755735,
          -0.14647859780228073,
          0.021970270085208906,
          0.0740700767573655,
          0.016758104086639466,
          0.06610337227406621,
          -0.028724328673229934,
          -0.20191920811215217,
          0.08100280878209525,
          0.18008614365849362,
          -0.021090473178769498,
          -0.027740814477758866,
          -0.08715122825865895,
          -0.1937562846105604,
          -0.047436315426755735,
          0.09862763734403902,
          -0.11358555961910308,
          0.1311024103097746,
          -0.0035984883696773104,
          0.11757172311452693,
          -0.06421654238522471,
          -0.03810344803908499,
          0.05430035439609115,
          -0.04755291735586101,
          0.017992854973329097,
          0.04700434911214761,
          0.08194374479336268,
          -0.07525751716540986,
          0.13294464995437927,
          0.05850477527207003,
          0.0025366378953790955,
          -0.07523661496465493,
          0.016730472489967445,
          0.022716880209391277,
          -0.16835846085795506,
          -0.06950275693203879,
          0.05391685102498498,
          -0.08127864120784833,
          0.08750024107928274,
          0.12162297762134698,
          0.12680671880661884,
          0.07831309447521417,
          -0.2610954192760769,
          -0.16768548027996535,
          0.013472456431041535,
          0.03341218857300406,
          0.06791895512811143,
          0.0013587128866831822,
          -0.047436315426755735,
          0.049242921025489314,
          0.046278878347245894,
          -0.025530344855050402,
          0.01589127382814234,
          -0.05004787160923442,
          -0.20730442300037352,
          0.10482539887973083,
          -0.07079694092580574,
          -0.08530581257306451,
          -0.13241077579927094,
          0.027633263467561623,
          0.023391274748186856,
          -0.228184835253529,
          -0.047436315426755735,
          -0.057489743868964285,
          -0.3480014083983289,
          0.01374488254898354,
          -0.03737062340728912,
          0.03436384537887849,
          0.09708824559416963,
          0.062458964119937996,
          -0.046215672985002246,
          -0.023246384090382852,
          0.11517734016737581,
          -0.015860131473596367,
          0.04715420063106253,
          0.1011537809160757,
          -0.047436315426755735,
          -0.047436315426755735,
          -0.2930195204624284,
          -0.10069158097019525,
          0.0384462720481723,
          0.11674196064836914,
          0.056223083518192475,
          -0.06135275697848436,
          0.08163768406403284,
          -0.20696472955434392,
          0.03207871261307215,
          0.08542157367399854,
          0.22911285452462793,
          -0.061680026207435824,
          -0.14199930142576214,
          -0.047436315426755735,
          -0.019394146764425794,
          -0.047436315426755735,
          -0.02449435942769716,
          -0.04187672371201572,
          0.0026973000915051456,
          0.0017763436846546417,
          0.009836130662932385,
          -0.022398601282707615,
          0.11104114330232642,
          0.017542178882975577,
          0.020372316618521076,
          -0.03707114051774781,
          -0.265389052494837,
          -0.17312277659349587,
          0.07166744826673313,
          -0.047436315426755735,
          -0.19069486655477833,
          0.07037263020571023,
          0.052881985818649384,
          0.02313455440671717,
          0.036745647198017026,
          0.02640307347420767,
          -0.025486171711690823,
          0.016555906102021158,
          -0.10238020436435122,
          -0.05092545874245495,
          -0.04690524422381716,
          0.1335953689053062,
          0.07595722800918227,
          -0.1414353857537899,
          0.005932057631086054,
          0.006927084189689553,
          0.1189560088148162,
          0.06446617969983807,
          0.04000819592547119,
          -0.0020731997913794606,
          -0.34982494632268385,
          -0.11809646498344822,
          0.0820635343477456,
          -0.06163743193910584,
          0.0634956502948936,
          0.12539671772969577,
          0.029213566971082176,
          -0.05349040218837378,
          -0.13977585404308634,
          0.0696780024380637,
          0.09205537194974528,
          -0.08817087432798788,
          -0.23673443253093457,
          -0.010747857625350764,
          0.36843168107989127,
          0.009706887265410868,
          -0.15185011034263227,
          -0.0822235579894307,
          0.05175465748810272,
          0.13312711255750273,
          -0.004925597477405036,
          -0.017380945832347335,
          -0.06384036163797066,
          0.07949744371826056,
          0.0018102706655291436,
          -0.2259779703358224,
          -0.11691999472227176,
          -0.07576853997673638,
          -0.03550696163461256,
          0.11779416711092293,
          -0.023234137873738056,
          1.2035468962671809e-05,
          -0.07048804047679005,
          -0.06551105011785605,
          0.07415488933331514,
          0.037778842624463065,
          -0.09261753017509596,
          -0.05583043914900016,
          -0.01797871807966788,
          -0.036899769185085536,
          -0.025703051292237523,
          -0.02646028274610066,
          -0.047436315426755735,
          -0.005854436292943409,
          -0.14829421045845598,
          -0.0030612140693113982,
          0.10936248376416279,
          -0.047436315426755735,
          -0.22109671347112017,
          -0.024507196156963888,
          0.19583433500479983,
          0.0009302710050335843,
          -0.2902274500685428,
          -0.038674562768116566,
          -0.047436315426755735,
          -0.047436315426755735,
          0.03119013826095863,
          0.1283786002806133,
          0.4331742092786321,
          0.12984119402727504,
          0.1763022840356075,
          -0.10387707384370691,
          0.020945461631418524,
          -0.2745624796140155,
          -0.02504829781309763,
          0.4023347114614382,
          0.005535828812044122,
          0.07334917342997063,
          0.10870898458742695,
          -0.01630850970804401,
          -0.09389273178779182,
          -0.15119352767320351,
          0.03974885242685536,
          0.08797900435584684,
          0.05043048309032597,
          0.1874306506728417,
          -0.10843592789835949,
          0.042283366955541406,
          -0.047436315426755735,
          -0.0009414851552984104,
          -0.007424169530732358,
          0.05501824821666477,
          0.02754768659520574,
          0.14650606098983554,
          -0.06820050329406681,
          -0.03897944316466805,
          -0.12916255132764795,
          0.07628155210546761,
          -0.013448894141945994,
          -0.012799895801384855,
          -0.04987911988793063,
          -0.048096169151735396,
          0.0036382904884242674,
          0.07221455335364192,
          0.10917293951952302,
          -0.047436315426755735,
          -0.047436315426755735,
          -0.04592809391008479,
          -0.1372851950675022,
          -0.019436854580386822,
          -0.038016106923700804,
          -0.09610722665153089,
          -0.1206804909832651,
          0.131823725003926,
          0.1253152980184452,
          -0.1983391277494671,
          0.054015492782898716,
          0.06270954670903779,
          -0.05335025333483938,
          0.09072463781136982,
          -0.2107049706548754,
          -0.047436315426755735,
          -0.15095491230623806,
          -0.007010366202186636,
          -0.07586539978004611,
          0.12851050149333929,
          0.04724065868574708,
          0.16455100304220335,
          0.037923829141917345,
          -0.047436315426755735,
          0.06491725909925211,
          0.002884922029076613,
          -0.030101409368981074,
          -0.047436315426755735,
          0.06254987520397852,
          0.10268617351349364,
          -0.03645453749146306,
          0.06378703682330202,
          0.1755448252377682,
          0.046192539619819804,
          0.016315580746902893,
          -0.03362904884167675,
          -0.03129029510862261,
          -0.12408548623216774,
          -0.041579478339576245,
          -0.10052367653379705,
          0.0906635577669269,
          -0.0029851934600673155,
          0.025421540674352455,
          0.06581564937625838,
          0.009477097010228147,
          0.09999979004058134,
          0.1869339958524947,
          0.011776976155653584,
          -0.1497990361951004,
          -0.32575949508835916,
          -0.09985279715341339,
          -0.047436315426755735,
          -0.0183517670802793,
          -0.14527433718518887,
          -0.2624161519139225,
          0.01995157130829963,
          0.016537600157425537,
          -0.047436315426755735,
          -0.05969730269937918,
          0.08675625190731522,
          -0.043713998966189105,
          -0.045497033537266245,
          -0.27868485854755176,
          0.1399703671457103,
          0.09129201248030895,
          0.11278117075405325,
          -0.0792679075949528,
          -0.2781206154767285,
          0.27279043310959333,
          -0.047436315426755735,
          -0.06714111522170144,
          0.059235764422642695,
          -0.07424627758934897,
          -0.23435525101566274,
          0.03795837614949454,
          -0.1273946744988949,
          -0.13161872706414005,
          -0.13702416694769914,
          0.12695066544185962,
          0.010083520930172615,
          0.2162684661958979,
          0.01402296836639368,
          0.18006239053389936,
          -0.014446326253000881,
          -0.15942673697935206,
          0.014485073341418688,
          0.18884663827291695,
          -0.047436315426755735,
          0.00477581338189659,
          0.14384892676682087,
          0.06599687851862578,
          0.00475618757438952,
          -0.047436315426755735,
          0.23441584189535625,
          -0.05837578806857772,
          0.002146419029644962,
          0.16582793679458932,
          -0.043947989894625436,
          0.11601640878512302,
          0.14787572441235636,
          -0.2339393414202978,
          0.11098421939999309,
          0.10563355052040904,
          0.025073991441827804,
          -0.0705667096706482,
          -0.0530606719475974,
          0.04978822381200505,
          -0.03397155857461435,
          -0.03584565549309867,
          0.02725280692241758,
          0.10249337364573297,
          0.09779488759350038,
          -0.005064184235427837,
          -0.029280899870549132,
          -0.0632149848854498,
          0.20029748481524584,
          0.11393111965852547,
          0.10883331678787181,
          0.07100542796606871,
          -0.014865796859276055,
          -0.10887293363377569,
          0.03439751570792809,
          -0.0625724434730252,
          0.13211866740808928,
          0.04720139342614555,
          0.05879991226508989,
          -0.028190408195658982,
          0.09307431345151579,
          3.6129215773465933e-07,
          -0.038843886597186995,
          0.11501624003663184,
          -0.03256778977242067,
          0.09223655578668274,
          0.04790842770551941,
          0.12029067410521423,
          0.09157183203553819,
          -0.08178061285583307,
          -0.047436315426755735,
          -0.08427516733407797,
          0.0740590214080748,
          -0.047436315426755735,
          -0.03889334291600424,
          0.022236027589580532,
          0.09249831053796286,
          -0.06942947274982113,
          0.01799764577774155,
          -0.050290976082963935,
          0.30262611311620535,
          0.06503139581630023,
          -0.047436315426755735,
          0.021539996223055514,
          -0.03985323321204151,
          -0.06109419142357141,
          0.017007381564663672,
          -0.03956506235671299,
          0.08542741891829207,
          0.1464087933409632,
          0.11858201151908984,
          0.026501227905461718,
          -0.004502071312037347,
          0.3864893495899062,
          0.08878800752406624,
          -0.04728534743769524,
          -0.1931476824564181,
          -0.047436315426755735,
          -0.09551364704722407,
          0.008703336266700206,
          -0.3177570706116389,
          0.005362452105666327,
          -0.09756547693195913,
          0.020009094209433795,
          0.013555442706064912,
          0.029953917399952467,
          0.14444698624944322,
          -0.09338045468719969,
          -0.13330054615988468,
          0.13612200149663264,
          -0.003608368334465565,
          -0.14119918099220183,
          0.012663656330370242,
          -0.030942778073666372,
          0.011291247452094056,
          0.20969029405056153,
          0.01894458141707486,
          0.07987549985457945,
          -0.02936064285569894,
          0.01776098101247868,
          -0.02519047395848104,
          0.059333839487101366,
          0.0011411858728369057,
          -0.03689283038450939,
          -0.0003403248008157589,
          -0.0026498711416259335,
          -0.050515235083295015,
          -0.19945244545423005,
          0.08694045333403676,
          0.16811422766968206,
          0.08240654756201254,
          -0.08364758687184734,
          0.07930188567151596,
          -0.08742976095874104,
          0.09006647707310336,
          0.02969592875099222,
          -0.047436315426755735,
          -0.1356530923948896,
          -0.1474904051957642,
          0.2716478681143927,
          0.07665840010347873,
          0.04703483829354246,
          -0.047436315426755735,
          -0.015533653878933408,
          0.23449295319207722,
          0.08911170518877598,
          0.014931006930896043,
          -0.047436315426755735,
          0.006178350569797621,
          -0.039848000392955094,
          -0.03565298424720605,
          -0.047436315426755735,
          0.032193076372357673,
          -0.17796602326520136,
          0.07339247743216018,
          -0.04499825861851203,
          -0.08621468810918172,
          -0.06098654329427825,
          0.09568616875295155,
          0.1905531573569213,
          -0.038096408798168856,
          0.11088983704047467,
          0.01905488641246844,
          -0.008664795384044632,
          -0.007584345998286236,
          0.10281478863914849,
          0.017180011534556002,
          -0.09936465975911829,
          -0.11214378155917974,
          0.004591386481622922,
          0.10101800196469067,
          0.08934692967471014,
          0.02141545115666498,
          0.03445776228980056,
          -0.2625488653887025,
          0.11261634113482014,
          0.1450428329470672,
          -0.047436315426755735,
          0.017394133490063142,
          -0.026157651772847807,
          -0.08501773899244713,
          -0.047436315426755735,
          0.14478573965825745,
          -0.2598862553692857,
          0.017578237920557,
          0.011909311030613315,
          0.10107428132825645,
          -0.047436315426755735,
          -0.21151995818013192,
          0.04484822600627967,
          -0.07059981029842766,
          0.05008506739130459,
          -0.12103736322913729,
          -0.27412240875153265,
          0.012973944248219403,
          0.11666722386255346,
          0.13972667923036527,
          -0.02493573233601754,
          -0.18514818241351944,
          0.08230008605214305,
          -0.22582557030161432,
          -0.0699642990476674,
          -0.0053355940600230915,
          0.017816518719154094,
          -0.01895542026016372,
          -0.04168133765362813,
          0.00270636455884057,
          0.1474172543426138,
          0.0736487599276067,
          -0.07973450864976783,
          -0.052354727504304116,
          0.07088723832252151,
          -0.047436315426755735,
          0.02956557108167649,
          -0.047436315426755735,
          0.07473734169814947,
          -0.05648665761052511,
          -0.06531790603855198,
          -0.3194539940028178,
          0.11674610332355514,
          -0.29087130060965427,
          0.03942316529619011,
          -0.10467138396036653,
          -0.03735715568045818,
          -0.027786630205838832,
          -0.047436315426755735,
          -0.0579622700120536,
          0.03450214187825252,
          -0.2039284876381557,
          0.11104114330232642,
          -0.02974774079397392,
          -0.09438970376492725,
          0.132746997669138,
          0.02080324799885434,
          0.027917142224646592,
          -0.047436315426755735,
          0.19675984380309594,
          -0.36169848871290694,
          0.21780126148641588,
          -0.07048855219167642,
          -0.16478939727860029,
          0.1915912896183185,
          0.0915063263994007,
          0.13175011753742047,
          0.15686651096120327,
          -0.03177171282085273,
          0.004367953991042156,
          -0.018916933897216884,
          -0.047436315426755735,
          0.09445067132435961,
          -0.20601148711340805,
          -0.029388327682559248,
          -0.047436315426755735,
          -0.03187482628183357,
          -0.15273747508325353,
          -0.2731649876313703,
          -0.15884095845127946,
          0.04710771167083547,
          -0.009590356897234325,
          -0.031039979778274523,
          -0.053941928664189995,
          0.03989510705166683,
          0.06524174684087586,
          -0.028386416069174282,
          -0.047436315426755735,
          0.17500056371829906,
          -0.021694614070115473,
          0.06806380294313798,
          -0.047436315426755735,
          0.17528467239350878,
          -0.02747701820397519,
          -0.10584854842982727,
          -0.03957229879170271,
          -0.0062350525259245535,
          -0.006174051231408379,
          0.018399793552685246,
          -0.11165454344224039,
          0.04733779625677453,
          -0.02585449503237805,
          0.06490039835675498,
          0.06203670825646854,
          -0.047436315426755735,
          -0.018148691637729232,
          0.010135486282426144,
          -0.0036541493149384974,
          -0.026005137347749688,
          0.036945833679316795,
          0.10033838304734334,
          0.003368391096288468,
          -0.12059922296740809,
          -0.011051701156199528,
          -0.040774275231057734,
          -0.012955476148980802,
          0.023625539814194563,
          0.01993588567930626,
          -0.004670592007166736,
          -0.22636108497754523,
          -0.029160190268252766,
          0.11071970025105722,
          0.033647915345166056,
          0.1433567866184381,
          -0.021009553445496505,
          -0.12015951833177871,
          0.14342514086015767,
          0.06323518038611665,
          -0.037312216049959865,
          0.04076439712594512,
          -0.026213939989537565,
          0.02748007036317472,
          -0.00386536053472432,
          -0.047436315426755735,
          0.10962854781728729,
          -0.01474941809919508,
          -0.047436315426755735,
          0.024409136019953884,
          -0.2535957569206229,
          0.07863534159437488,
          0.3410863627063254,
          0.0881982616727005,
          0.11265489494458569,
          0.09024256137448335,
          0.021444041438593155,
          -0.011328156595685278,
          0.17395022680921884,
          -0.08650324038756817,
          0.20121701353396032,
          -0.07217583088173986,
          0.10081012174982466,
          -0.007987887372579322,
          -0.016098901808037493,
          -0.2317475975460932,
          0.07048188236728059,
          -0.035612926730350575,
          0.06423762672792042,
          0.009430299652284223,
          0.11227134223696039,
          0.1361954065233701,
          -0.2792394866633573,
          0.06498663604640896,
          0.055580330468752916,
          0.009059121845559256,
          0.02433228844646705,
          -0.047436315426755735,
          0.05726395354351896,
          0.046313549971727305,
          0.0933717867280915,
          -0.04761654598401406,
          -0.018946251255688367,
          -0.08887250646816436,
          0.008959171549794009,
          -0.09750109787507025,
          0.0637018916891377,
          -0.2456916736548296,
          0.007789850471103426,
          -0.017014811901605417,
          0.10364143537209862,
          0.24105082127444485,
          -0.01232027501261515,
          0.00141468684965073,
          0.028731300186556275,
          0.046142514778296506,
          0.15079921081060407,
          -0.047436315426755735,
          -0.046590770510592176,
          0.1085571228935212,
          -0.03923936034277659,
          0.07350639205551142,
          0.07139339593313064,
          0.14727717838047383,
          -0.021740911680496838,
          0.0026664812164960594,
          -0.04545062104048137,
          0.05470607240351917,
          -0.04446507212543343,
          -0.047436315426755735,
          0.1628857780210226,
          -0.018266722747935983,
          0.08759923526104589,
          0.08582536721356035,
          -0.1486486411841308,
          -0.07491294999668668,
          -0.011600125666406225,
          -0.019101137117457655,
          -0.047436315426755735,
          0.1150285533198189,
          -0.020725630025395587,
          0.006137038307804438,
          -0.047436315426755735,
          -0.047436315426755735,
          0.018454943430123532,
          -0.12506094662130354,
          -0.013527692720275321,
          0.0594861501753311,
          -0.056413255012786906,
          -0.015620694930391033,
          0.10894293224235192,
          -0.1435120416364734,
          0.07594770581581481,
          0.15586350221694062,
          0.2561400441934746,
          -0.13216329254081188,
          -0.16065759818516484,
          -0.062213120044504515,
          0.1776407509708322,
          -0.23019771520656684,
          -0.04005632258926061,
          0.16228472405360317,
          0.1539117267939842,
          -0.047436315426755735,
          -0.052154983552968937,
          0.0016253931799064887,
          -0.047436315426755735,
          -0.07966168576576141,
          -0.025647536056199283,
          -0.05443784246634598,
          0.00943296542733083,
          0.049458646207740695,
          0.057491329927569716,
          -0.047436315426755735,
          0.1268622264887806,
          -0.02108518340347558,
          -0.00034227934351820284,
          0.04710771167083547,
          -0.10237267088855165,
          0.06016565261542059,
          -0.17533479926265794,
          0.024093817980442214,
          0.08190262341256568,
          0.03155884535692974,
          -0.050587765920213516,
          -0.01382225760291276,
          -0.028713756512722306,
          0.06440520379522935,
          0.10636637228713254,
          -0.31549750236649365,
          0.016935747375107245,
          0.07968703312617062,
          -0.007370894653733104,
          0.048540928201541336,
          0.07059304047260109,
          0.10619967931382716,
          -0.07450416046029819,
          0.1416692984048756,
          0.03215295409603548,
          -0.047436315426755735,
          -0.027285414958146008,
          -0.029679217247721837,
          -0.04792778305146262,
          -0.00399769744781139,
          -0.3019371973942463,
          0.12104398990815848,
          -0.14350429366477185,
          -0.00961443813113629,
          -0.004194797101970954,
          -0.08169494264753,
          0.07716592915774388,
          0.15685489118672502,
          -0.01828532062319954,
          0.04668302432800193,
          0.027494952133664055,
          0.08633671513278376,
          -0.047436315426755735,
          -0.07243642305736728,
          -0.047436315426755735,
          -0.005333066473601789,
          -0.010739029932668048,
          0.10764229266879652,
          0.0027389006603683653,
          0.16209267929613047,
          -0.17125602767711953,
          -0.047436315426755735,
          0.08575906048926371,
          -0.006295111150226777,
          -0.0164465719114789,
          0.2903785254999839,
          0.009049461536805328,
          -0.24800131846032475,
          0.0021765891231007002,
          0.03596962400542455,
          -0.24767996216518742,
          0.07772809591591238,
          0.0016523996308319222,
          0.01712302254116048,
          0.012126765264093108,
          -0.04574049542819274,
          0.17335684848629657,
          0.10607645762561119,
          0.005359910012365123,
          0.04214512540019142,
          0.09441876722647932,
          -0.060305454292862035,
          0.021480920406878552,
          0.06298884749410777,
          -0.05481679842762317,
          -0.1776467023222261,
          -0.047436315426755735,
          0.04161427541790583,
          -0.16429739596855542,
          -0.2598500878192655,
          0.0405018462760241,
          0.0893831875304144,
          -0.06755837720535714,
          -0.20623955063735527,
          -0.15242495560889677,
          0.017346355401934445,
          0.008576858762527315,
          -0.17781533559147078,
          -0.059107838197602035,
          -0.27059170320396514,
          0.0666429387351086,
          -0.03809913996456835,
          0.09937793907057385,
          -0.10862308853631061,
          0.05391252718668643,
          -0.023111533006910916,
          -0.05572109965824484,
          -0.03488843585847943,
          0.06854827148837032,
          0.0632682767761032,
          -0.21702273578931622,
          -0.10617816513554258,
          0.02482013602994427,
          0.039061342039299334,
          0.04828820361234939,
          0.09716682960206262,
          0.09500336164578102,
          0.030727184591992827,
          0.16748771459743897,
          -0.07255618817623942,
          -0.05391216381895764,
          0.04897057232259246,
          0.1041843624384619,
          -0.007941486048181762,
          0.13890635137916993,
          -0.06726545887739695,
          -0.030444042817491242,
          -0.030774330784253193,
          -0.2809115645205797,
          -0.005695296087153424,
          -0.050018258821812885,
          -0.047436315426755735,
          0.20650780429703197,
          -0.047436315426755735,
          0.06947767165825014,
          -0.1237109033047153,
          0.10185827765769684,
          0.11202417396877651,
          0.026757977443225063,
          0.04553510065519652,
          -0.05176549527933918,
          -0.037073707355336626,
          0.0963116085045611,
          0.1556877218338809,
          0.13676622567884458,
          0.023986219196946,
          0.00539836946754963,
          0.12204123385572298,
          0.017608115958975656,
          -0.047436315426755735,
          -0.007619766892474368,
          0.14575770366046997,
          0.11877044801326121,
          0.024864085440037986,
          0.035278276706834005,
          0.1818769853574198,
          -0.047436315426755735,
          -0.06676859673493583,
          -0.006137998752766354,
          -0.047436315426755735,
          -0.19373067179767603,
          -0.07862037497287552,
          0.06377675862935814,
          -0.0467953007918044,
          0.019507976743006267,
          0.08879856834034698,
          -0.05224501569327849,
          0.13281787886348925,
          -0.04296465749820187,
          0.09439079115619764,
          0.04974835778989305,
          -0.03551836212421066,
          -0.10324195535046808,
          -0.2805502301505898,
          -0.024216301957701282,
          -0.061865153746714176,
          -0.14306105425998072,
          0.1248127560783751,
          -0.18414027902898897,
          -0.10591599142107311,
          -0.105548856094922,
          -0.11486010181973075,
          -0.0008659897217178771,
          0.08228391534444143,
          -0.033978254180708746,
          -0.06749034730621102,
          0.061656690861901016,
          0.023024363196162266,
          0.02485276886418781,
          -0.032902634906665305,
          0.01880825835196233,
          -0.005577857082755354,
          0.08660115451345161,
          -0.029484268281772107,
          0.20091518335260644,
          0.050412327000563056,
          -0.025012944909226172,
          -0.07952102178888107,
          0.005014115872761155,
          -0.03021819827320441,
          -0.008804111570492382,
          0.024290900362356847,
          -0.046931472408274874,
          0.09793424671042306,
          -0.047436315426755735,
          0.11051058559128389,
          -0.09294049357119243,
          0.11247413793028972,
          0.02460914793470932,
          -0.0004545401193773212,
          -0.022106797157120175,
          -0.047436315426755735,
          0.050470358194497855,
          0.11354211299286514,
          0.008128250373133453,
          0.08993145606436556,
          0.0069180178615326545,
          0.12808004305624998,
          0.10659810882857558,
          0.09287966421329351,
          0.040879181147910566,
          0.025758925064921872,
          -0.01979985830621618,
          0.020693937473812547,
          0.053194336219419096,
          -0.008353033975047249,
          -0.03826374363369813,
          0.1216431453776707,
          -0.10150411576876968,
          0.20406198882778923,
          -0.047436315426755735,
          0.13392047283652025,
          0.07470859258028863,
          0.1472012490720929,
          0.2675221466189903,
          -0.12905678875244456,
          -0.01845561173529467,
          -0.04862877233565096,
          0.15839257360941944,
          -0.0957121524732015,
          0.00707895531953312,
          0.04532240334789705,
          -0.01160680101775245,
          0.03094604249642691,
          0.10987212293062065,
          -0.2026720107161476,
          -0.08937138946903343,
          0.04334913561345667,
          -0.12372485067741719,
          0.038266799084123226,
          0.08444331648270989,
          -0.15798452986933173,
          0.007995901264029102,
          0.008967757132195824,
          -0.07027922889995696,
          -0.03586323850392574,
          -0.047436315426755735,
          0.02331695519102241,
          -0.047436315426755735,
          -0.18977098473120282,
          -0.01447171900503098,
          0.01304589474526236,
          0.08315840378810357,
          0.05910992683362757,
          -0.15224836167457484,
          0.022735318917122996,
          0.21428291709854477,
          0.03380141804179269,
          -0.05440545626057342,
          0.11410698581753424,
          -0.047436315426755735,
          -0.16270699448422407,
          0.05735184315821844,
          -0.31962587129526443,
          0.004491734794215533,
          0.14596538307853948,
          -0.008516060763274099,
          0.010639018465181137,
          0.11206215427489216,
          0.023465889874324675,
          -0.007817985623244894,
          0.04084314031862579,
          -0.11234332073275158,
          0.04447395906327012,
          -0.03354415543342352,
          -0.0005753837187104461,
          0.018904591254957748,
          -0.15556646541091113,
          0.11777559110901839,
          0.025282442726884232,
          0.11530567420295305,
          0.025185015996246906,
          -0.039512630619844065,
          0.0023600204887339236,
          0.02412994353205041
         ],
         "xaxis": "x",
         "y": [
          0.06609383256559599,
          -0.0418831800078465,
          0.07734474141359007,
          0.005824094187513451,
          -0.05312600991008315,
          0.023935914573024405,
          0.2727075365628987,
          -0.03024102047035699,
          -0.03270931179801727,
          0.006591006044920744,
          -0.0001270683813600277,
          0.030735611852622077,
          0.022304441218454738,
          0.0038260754203225883,
          -0.07123760929138585,
          -0.0031119645862715843,
          0.30646116016245306,
          -0.0710970542864038,
          0.07627384123331422,
          -0.030610910072626007,
          0.07627384123331422,
          0.04851429206514734,
          0.06869454015600403,
          -0.1426156730136181,
          -0.027169445036545035,
          0.07627384123331422,
          -0.13207299375485304,
          0.04117962441516044,
          -0.054764786805627644,
          -0.028629247454623825,
          0.060777813817979566,
          -0.016621138447920153,
          0.026678239211028753,
          0.10892590466631484,
          -0.1055539081019504,
          0.06676354779380958,
          0.06999725514177396,
          -0.0554209955865339,
          0.08678913061629033,
          -0.07229045987621738,
          -0.06047975187206526,
          -0.003070698240205032,
          0.07627384123331422,
          0.07627384123331422,
          -0.03610748490409166,
          -0.05873128132831407,
          0.09808705696600727,
          -0.03126476206071909,
          0.11580314405692481,
          -0.020745557318286634,
          -0.0346241359538032,
          -0.023950262747770092,
          0.07627384123331422,
          -0.024510492632763038,
          0.07627384123331422,
          -0.10968595673828539,
          -0.0040987746757313115,
          0.06293782916704378,
          -0.013650953111966412,
          -0.08987915605853927,
          -0.01974530737704099,
          -0.05631259808140536,
          0.07627384123331422,
          0.10289054815756735,
          0.07627384123331422,
          0.03740286901696575,
          -0.02212952150571663,
          -0.09930547235582739,
          -0.1209488442575282,
          0.06263120956809687,
          -0.2514982198679801,
          -0.0014967580147818085,
          0.05478572890133237,
          -0.030689738235843922,
          -0.14943123152412613,
          0.07627384123331422,
          0.020977388714975616,
          0.016618031000350014,
          0.04052533248623054,
          -0.005692623057755672,
          0.17222613834592898,
          0.02116433021690987,
          0.015500954347140267,
          -0.06730356290320867,
          0.04588091104634183,
          0.023347435670714792,
          0.07836342750818183,
          -0.015065239295096625,
          0.040604129881394675,
          -0.01480399224155736,
          0.008982637737722367,
          0.04215738410075435,
          0.021514552131815575,
          0.03706143140528115,
          0.041564937624202145,
          -0.17829896668703674,
          -0.04110847218380734,
          -0.006322169287893856,
          0.07627384123331422,
          0.03547484716475094,
          -0.004587942280290158,
          -0.04383031568591496,
          -0.05478526691138244,
          0.07413609662543413,
          -0.1353373059500305,
          0.15486343692638824,
          0.009507635873604528,
          -0.20587195075823198,
          -0.09664375833385125,
          0.06418606027606102,
          0.08486371552139038,
          -0.04258274142058824,
          -0.22766143852633802,
          0.06509631926331616,
          -0.2981066761842292,
          0.00948934987912061,
          -0.028769151456784412,
          -0.12937363452140438,
          0.00267937645897616,
          -0.03011333579514865,
          -0.09471915279977086,
          -0.07169279840405689,
          0.026031787347542395,
          0.04726036836017571,
          -0.019227315759367584,
          0.036539062181621965,
          0.028416851683928695,
          0.07638022145582225,
          -0.028464076286917307,
          0.07627384123331422,
          0.0377344305734966,
          -0.012318377426072218,
          0.06696892424566918,
          -0.1705096078609739,
          0.07627384123331422,
          0.07627384123331422,
          -0.06307993778552005,
          -0.06857579746102983,
          0.07627384123331422,
          0.16921551372689686,
          0.03324573044416863,
          -0.007219661461394924,
          -0.07371321037247636,
          -0.06330298415062355,
          0.07627384123331422,
          -0.10954349496747773,
          0.07301129871133329,
          0.06162117708070258,
          -0.019727501982063064,
          0.02188373512056541,
          -0.03491176557536493,
          0.07627384123331422,
          -0.06879451585197868,
          -0.03780733216242479,
          -0.034924910984958736,
          -0.14653208598439318,
          0.044757398809798024,
          0.04097095918608241,
          -0.049005399678787066,
          0.05377346014939259,
          -0.022324074516714133,
          -0.09727585280477159,
          -0.1422621635234173,
          -0.16777230101765353,
          0.004880486888256889,
          -0.07251632197272224,
          -0.0354996009259506,
          0.009691596368790674,
          -0.022097368181187942,
          0.07627384123331422,
          0.09556770659041497,
          -0.19328583633371704,
          0.01644752286326831,
          0.03109525071856848,
          -0.1609875958484375,
          -0.011315525183781186,
          0.06419544064119866,
          0.042928994907328544,
          -0.04101473877795393,
          0.09711153610408453,
          -0.02191710692401091,
          -0.06937021062388883,
          0.02484738322248335,
          -0.0028157350909994846,
          -0.04395684622515818,
          -0.005661202682801923,
          -0.18062920239672955,
          -0.004242028924831847,
          -0.04057908589029938,
          0.05578447023356023,
          -0.033784820132230386,
          0.033916869409299194,
          0.009420620387739777,
          -0.11009660752450366,
          0.03598098333327186,
          0.07627384123331422,
          0.0028615366032446665,
          -0.006103238083417236,
          -0.22091517566249852,
          -0.04654984336937462,
          -0.06923979550158527,
          -0.008539487837220677,
          -0.2284108784879019,
          -0.033950570924164786,
          -0.0028618655448869276,
          -0.0388480147381994,
          0.0652668468776017,
          0.02572595661757521,
          -0.0004128148015727074,
          0.0041295902438932735,
          0.02606008452016996,
          0.09410343595742741,
          0.07118962525820191,
          -0.014326605741140124,
          -0.024999895235903097,
          0.08658592750233277,
          0.001614306339088216,
          0.06382856920513495,
          0.07149611836002555,
          -0.22761240171055822,
          -0.03827633741584319,
          -0.397404215268031,
          0.07627384123331422,
          0.06863186761024201,
          0.07002331269416717,
          0.05649128531585739,
          0.07006241613896244,
          0.07585541192960753,
          0.34929368224992946,
          -0.08925226470840195,
          0.0696886293401219,
          0.07317889562683026,
          -0.10224586186522157,
          0.009680392494716488,
          0.05486548657435042,
          -0.014831775524765445,
          -0.095912758168001,
          0.06212177208930192,
          0.1989821061549159,
          0.05235821124100622,
          0.0589901810973509,
          0.07627384123331422,
          0.05058501964122387,
          0.05121808304503578,
          -0.05193740708124413,
          -0.0869195359078431,
          -0.012213768229823192,
          0.052629277081013746,
          -0.058134104350509745,
          0.06700679514581108,
          0.04013651504982245,
          -0.14301686111609285,
          0.021660542711898465,
          -0.0519540992734002,
          -0.015635156534877126,
          0.07627384123331422,
          0.010691230416982445,
          -0.056687484720487354,
          -0.08254749942045173,
          0.07627384123331422,
          0.08188765460047873,
          0.07627384123331422,
          -0.21243810488004597,
          0.033931328890142415,
          0.06203239395565589,
          0.12369159348879794,
          -0.04156494352163007,
          0.05567144965991406,
          0.006004115025131537,
          -0.018560197683478212,
          0.09396037786358608,
          0.0021903682034535325,
          -0.05503466117855754,
          -0.1584225939868718,
          0.04989631592376117,
          0.047584125660261475,
          0.10806458471551535,
          -0.001486709564655304,
          -0.03625116044584081,
          -0.0352205219780876,
          0.07627384123331422,
          -0.10605610699287084,
          -0.054782008188546026,
          0.06252247815054592,
          -0.0337163137528958,
          0.12232317488549423,
          0.11882309154814766,
          0.007266742507597734,
          0.012229244015395232,
          0.00827124260722688,
          -0.18895742208461375,
          -0.04411052770764446,
          -0.04328095210582906,
          0.012823579691667466,
          -0.18005066024243283,
          0.0014407778957147791,
          -0.0012783180382043404,
          0.010339512720227035,
          -0.04717422213217196,
          -0.14153640503876774,
          0.4816722242133396,
          -0.1140995010643099,
          -0.024693792902395803,
          0.12284999772872597,
          0.07099845082792706,
          -0.058025995262975104,
          -0.030493054196669388,
          0.09774759383761092,
          -0.022219405443809227,
          0.0648166267155171,
          0.07845805208217435,
          -0.025512154418110545,
          0.01195823298062467,
          -0.01791149307669381,
          0.04579491943728037,
          0.02352769980837971,
          -0.0026357913766383435,
          0.05411205094210365,
          -0.18168031518344527,
          0.03266038730800358,
          0.03172505589708723,
          -0.02184384525367854,
          -0.08012554498399567,
          -0.05165121698683712,
          -0.002173487697908913,
          0.042224257715827995,
          0.04388991548440675,
          0.057023495286055874,
          -0.08596014638898583,
          0.13586079548038116,
          -0.017914272691588306,
          0.021042662235308176,
          -0.1161623280743165,
          0.11319944613232333,
          -0.027493934938022508,
          0.02966743937606199,
          0.011225407074128207,
          -0.06890839957532731,
          0.0263173830149155,
          -0.03036047259338201,
          0.07627384123331422,
          0.15548614695566176,
          0.04527799684641646,
          -0.03436972989147884,
          0.0676438644686028,
          -0.06299765400005397,
          0.06828253817164116,
          0.046734033043133845,
          -0.0072694555949736886,
          -0.21855180746274228,
          -0.11867144915848435,
          -0.015358987732421562,
          0.09887266631220792,
          0.0023618209371250214,
          -0.0532700252876296,
          0.09733505237667617,
          -0.06186066338772605,
          0.012706616111203016,
          -0.04763186289080882,
          -0.030058420721916952,
          0.11791295942820883,
          0.05612890129659943,
          0.12606621415412292,
          0.013527120464962124,
          0.03859974331627707,
          -0.18586700892820854,
          0.08316889443967669,
          -0.016631534769510996,
          0.11509844191133367,
          0.004969365502717521,
          0.07627384123331422,
          -0.02472920956540985,
          0.12241964592594216,
          -0.23425607717100821,
          -0.04566112879320426,
          0.3008408403454507,
          0.0013246951826260348,
          0.016388377188164053,
          -0.09539002684425732,
          0.07627384123331422,
          -0.03875994808443321,
          0.08597181828738719,
          -0.041705308216677665,
          -0.025732109468819785,
          -0.11989505105477023,
          0.027285402710764947,
          -0.04226197432354275,
          0.030146278492666073,
          0.07306008564648588,
          0.08931543579866405,
          -0.01438436119133073,
          -0.019782451013051136,
          0.1388054335804835,
          -0.04341006034149155,
          0.00583466801534151,
          -0.05329358259955056,
          -0.022617578464191164,
          -0.1293704524096238,
          -0.09565913642081515,
          -0.02030343130758852,
          0.016673726665302407,
          0.22318684620394774,
          -0.04016122290106562,
          -0.023993795826310147,
          0.03362594850148836,
          -0.005351034743174228,
          -0.0006006878066206823,
          0.009128750973393317,
          0.04183339899848714,
          0.02295551225484642,
          -0.023411692458675727,
          0.0655489591057879,
          -0.0020791657417499536,
          -0.011532372342432064,
          0.023823225182920002,
          0.10312908546567442,
          -0.23502499174492492,
          -0.042813738044652445,
          -0.0025118672441138408,
          0.14341135326674845,
          -0.032576787147842234,
          0.024063947308282967,
          0.07567983070066817,
          0.04048137808879036,
          -0.008989262943980761,
          -0.04313926100788964,
          0.13376515225385088,
          -0.10639218073935422,
          0.11588744577634563,
          0.07627384123331422,
          -0.27373961728143054,
          -0.013640083802147845,
          -0.05411531126002954,
          -0.021304270894101047,
          -0.04727730457126049,
          0.11233410722718717,
          0.061168546966351,
          -0.02448117998716207,
          -0.05026217639093426,
          -0.03247969901911157,
          0.1873510777172508,
          0.07828244851499401,
          -0.07137887972128584,
          -0.16048135991406592,
          0.03830771955438053,
          0.12785588189698882,
          0.050076569839072355,
          -0.06748471192498673,
          -0.10926797597026064,
          -0.06604616079257446,
          -0.017485647474950777,
          0.046053237594929644,
          0.02026405614877336,
          -0.05110265413262005,
          0.07627384123331422,
          0.07627384123331422,
          0.11476105522917415,
          -0.030319516455234473,
          -0.05513995483563371,
          0.07627384123331422,
          0.011669371060536119,
          0.08269772653278258,
          0.010626171565469876,
          0.03745286178528347,
          -0.18522258727811314,
          -0.03145563151712097,
          0.0817783710377666,
          -0.056352886855130686,
          0.008042413787548384,
          -0.32502756871561606,
          0.04757723248120997,
          -0.015474642715427995,
          0.11391411674909403,
          -0.014738117768632266,
          -0.22159219659363952,
          -0.15995535058176308,
          -0.008133395778978541,
          -0.11281193938231814,
          -0.01139555964592269,
          -0.054241134931265055,
          0.07627384123331422,
          0.08311855578223064,
          0.0020209475963119403,
          0.06381944863155825,
          0.014985707374832019,
          0.07627384123331422,
          0.020512572383117288,
          0.06079716642005827,
          0.09967937865703518,
          -0.08330254182503524,
          -0.11320101671068725,
          -0.04875885511153947,
          0.07627384123331422,
          -0.02902972635095904,
          -0.23426549547286718,
          0.05717432316182219,
          -0.0522374141995925,
          0.019292115270838243,
          -0.08456951082748344,
          0.003129626395707523,
          0.11144886249808626,
          -0.21458277888328867,
          -0.012252389039522079,
          -0.011025007666571652,
          0.0498806579035701,
          -0.06773219053852479,
          0.07627384123331422,
          -0.02633446939711676,
          -0.06104283158999764,
          0.0016106314998795153,
          0.05185322295530555,
          0.05430729829228715,
          0.07829933100792807,
          -0.1736446338971682,
          -0.17690779343857355,
          0.10272277565808133,
          0.013851068939610028,
          -0.04742523568035792,
          -0.04980766525553564,
          -0.04766932746555239,
          -0.07143418321935652,
          0.11550080766318119,
          0.08782846440008579,
          0.08797183225549016,
          0.016154064042421864,
          -0.10014904954451537,
          0.05515922037344734,
          -0.28231685236942144,
          -0.06555615307990541,
          -0.037577351979368755,
          -0.12511505858498143,
          0.04709363428653537,
          -0.12695591636665796,
          0.07627384123331422,
          -0.017754752057173657,
          0.021611851477821884,
          0.018278737313480016,
          0.023562258882361856,
          0.016353478827836183,
          0.07627384123331422,
          -0.0051243134028148415,
          -0.23549812922657767,
          0.044656494312768184,
          0.07627384123331422,
          -0.10826033079012568,
          -0.027846272282932405,
          0.16006088406620042,
          -0.10052461989610668,
          0.2014282282551002,
          0.00531788288567013,
          -0.18727321064381866,
          0.015191160552296417,
          -0.026671794539500172,
          -0.05375891394727068,
          -0.04673208241794507,
          0.027037662074880467,
          -0.025914804082745338,
          -0.0420670466533439,
          0.07627384123331422,
          0.14974897242460386,
          0.06846693993598128,
          0.009525160110726731,
          -0.04969187421086721,
          0.07039949444448954,
          -0.002369259835035726,
          0.20500527403145027,
          0.04219405583813081,
          -0.1284432534350782,
          0.07627384123331422,
          0.01111679947886696,
          0.02688675432013078,
          0.09349837273074008,
          -0.02463488650765008,
          -0.24444047446678957,
          -0.02010405992668746,
          -0.0835133722499467,
          0.1360818919266582,
          -0.06605392453681608,
          0.0033387361539035827,
          -0.015649568473323532,
          0.020569923177187942,
          0.07627384123331422,
          -0.026470182364885922,
          -0.0392033463386605,
          0.01257974488519974,
          0.06475832553375131,
          0.10270603542407628,
          0.07627384123331422,
          0.002418344591853676,
          -0.08235567978847468,
          0.029833476155895208,
          -0.056197966129799194,
          -0.03754331843916807,
          0.09061155810013677,
          0.026678239211028753,
          -0.08633042519161331,
          0.06610227866759366,
          -0.023320902243299805,
          0.03458498555678588,
          -0.017473660626649488,
          -0.02346632123800404,
          0.06818237398087482,
          0.011979059362885068,
          -0.0516694258273917,
          0.07627384123331422,
          0.05667829250330547,
          0.05997222841258063,
          -0.07060212775440765,
          0.06443531883046,
          0.024338231669998423,
          -0.23644334070678674,
          0.07627384123331422,
          -0.018572973709223208,
          -0.010953392318088645,
          -0.017532132457696054,
          0.2707445355333763,
          -0.09673250039776879,
          0.07627384123331422,
          0.030227130780036825,
          -0.019792571389209836,
          0.03357088539440165,
          0.12156385902540598,
          -0.007908006070957832,
          0.07627384123331422,
          -0.04003068555411402,
          -0.052409154682744784,
          -0.061970010451106596,
          -0.03322151229829317,
          0.12480277572936768,
          -0.03042477282537678,
          0.10829065276104997,
          -0.004125221163493955,
          -0.12797249779959693,
          -0.10691793023731808,
          -0.03665186510444293,
          -0.04345160925199326,
          -0.10019628684401725,
          -0.02925394137619855,
          -0.03686443132508637,
          0.0962102091025231,
          0.07627384123331422,
          -0.08591104532096852,
          0.09347438581645219,
          -0.08226721830832281,
          0.00046333605106510046,
          0.03914707307665923,
          -0.1059942721167322,
          -0.3131774372023702,
          -0.03549569834627572,
          -0.06085738657755588,
          -0.0910834076967765,
          -0.04881861404465714,
          0.08203591779836837,
          0.03398353618453413,
          0.02428046942170892,
          -0.05004924534997417,
          -0.06398983041612696,
          0.12010496435059288,
          -0.0076564007443645846,
          -0.06094317890550118,
          0.1222765096015294,
          2.5807915016564263e-05,
          0.07627384123331422,
          0.037155176717333475,
          -0.010181650019430145,
          -0.048440631149490376,
          0.01964082369734915,
          -0.0289610214941845,
          -0.02728289838936727,
          -0.0797017445937078,
          0.0030427456579907373,
          -0.06149494032218906,
          0.0951871371224971,
          0.01067789129947125,
          0.026069963377839324,
          -0.054229732606210716,
          -0.02346632123800404,
          0.02373148952505257,
          -0.15897715619533095,
          0.003490778167535413,
          -0.026569692431065637,
          -0.029328664592840385,
          0.011576413399685981,
          0.07627384123331422,
          0.07627384123331422,
          0.07995660627124808,
          0.08357363107815549,
          0.15695231257448122,
          0.005532334265222069,
          0.026425547943784967,
          0.03291603552338011,
          0.07517519580802771,
          0.05708555868691159,
          -0.03481344980117541,
          0.05554386914412116,
          0.01955882163201961,
          0.07625292758050525,
          -0.04220294252449551,
          0.07627384123331422,
          -0.021906164433283384,
          -0.005045568918811548,
          0.09867563484748437,
          0.020514345097329065,
          -0.047204760147512896,
          0.08996768296115308,
          -0.20332066698156598,
          0.009761821109087418,
          0.04135752215346668,
          -0.06386232732109526,
          0.00819989843923094,
          -0.022241164375094928,
          0.11196841511963203,
          -0.035677082208613174,
          0.020790456495248303,
          0.03525251605163209,
          0.06708687759820708,
          0.053350422365020175,
          -0.03619619915645483,
          0.08970338169575555,
          -0.05655804066163781,
          0.017732198178466677,
          0.02263071737468915,
          -0.13196668824122354,
          -0.15727397717856148,
          -0.044622909690559695,
          -0.02039601846439184,
          -0.2423562010560207,
          -0.032025935326227335,
          0.016919971425954604,
          -0.00289274170061075,
          0.0035181641014149305,
          -0.13977494751143177,
          0.07627384123331422,
          0.05835891845882547,
          0.32281797385724714,
          -0.016157283261620782,
          0.04799307794871556,
          0.16507057028638641,
          0.06932131620655527,
          -0.03196852792021409,
          -0.03488458932016938,
          0.010068729360188855,
          -0.05798743647049064,
          0.01257974488519974,
          0.016040948789259782,
          -0.04476950979772539,
          0.07627384123331422,
          -0.006381690083340323,
          -0.3178617712973118,
          -0.049679820703562465,
          -0.001563548732758468,
          -0.06075684842324049,
          -0.0555817557183186,
          -0.06483210839959076,
          0.03632700454781706,
          -0.005800181452381419,
          0.13524430961815484,
          0.04654728223052846,
          0.34929368224992946,
          -0.02391269159582569,
          0.07627384123331422,
          0.07627384123331422,
          -0.22216718300551294,
          0.004780303282876162,
          0.07523378047056842,
          -0.029186442068510197,
          0.05867859943799448,
          0.1040115926838462,
          -0.04991613077262106,
          0.027037662074880467,
          0.029292119234451415,
          -0.020079856554679365,
          -0.1195734052078013,
          0.05894471868179973,
          0.08863730692718336,
          0.07627384123331422,
          0.10344448841438408,
          0.07627384123331422,
          0.25192612312058066,
          0.025216749084245954,
          0.02967425650474028,
          0.004845458595975234,
          0.03549712387968412,
          0.2283145100152219,
          -0.05428619007920285,
          0.08023856121410104,
          0.07545657327590059,
          0.105129538061872,
          -0.20563864485985778,
          -0.12049383087154386,
          0.03571246873483538,
          0.07627384123331422,
          -0.1148589179867986,
          -0.0479531386475183,
          0.07974095630086957,
          0.02535509349115085,
          0.047916788614102285,
          -0.05746102620795229,
          -0.028264753423749515,
          0.09382143113276935,
          -0.023182891323696043,
          -0.02741466072429015,
          0.0405545346496585,
          -0.20410299653716757,
          -0.009303136710213208,
          0.1163703725234599,
          0.05505313663300036,
          0.00501150510982168,
          -0.09644430304143975,
          0.050352514118722824,
          -0.029249768127731987,
          0.04267245004234943,
          0.22318684620394774,
          -0.05276029398580937,
          -0.0974911535713126,
          -0.012252389039522079,
          -0.0994928485629315,
          0.03555622921589093,
          0.01240993534828005,
          0.04781877916902866,
          0.01507989615617347,
          0.004324579638495466,
          -0.06325538273566678,
          0.02312468584612124,
          -0.1775624275352714,
          -0.01051989303228101,
          -0.18187183004850535,
          0.054141395371973204,
          0.06825861312109702,
          0.05532791362722335,
          -0.03786949177948094,
          -0.05337095676846016,
          -0.012070658375706124,
          0.047556173423028564,
          0.07680052948820222,
          0.04985663070728431,
          -0.046286835199304426,
          0.16921588502035206,
          -0.020807467273443493,
          -0.0061521202949631065,
          0.12557318527482847,
          -0.1317280040387487,
          -0.009348402451193132,
          0.08938345670559683,
          0.027220087071745634,
          0.12987436015709244,
          -0.0509820534233438,
          0.03738098253898363,
          -0.04981188673904098,
          0.030297176931134012,
          -0.013303728207861272,
          0.04209946309115995,
          -0.025473423291163134,
          0.02965470616949305,
          0.07627384123331422,
          -0.009487819693170542,
          -0.0675606149635264,
          -0.02327796461302328,
          -0.1771182409468564,
          0.07627384123331422,
          -0.0026256116619773374,
          0.08493298856519545,
          -0.04235650589982885,
          0.05763685059824112,
          -0.24456654744039039,
          -0.17608026488749812,
          0.07627384123331422,
          0.07627384123331422,
          0.028971494832550758,
          -0.052597972928504266,
          -0.21760787655516872,
          -0.025304882790203,
          0.0087173524586843,
          -0.04114231307449987,
          -0.027070647193756597,
          -0.20326765247516534,
          -0.05156063054636157,
          -0.2278620833232788,
          0.0260131070145511,
          -0.07001642753020067,
          -0.053870674800273605,
          0.07741908738802535,
          0.04369102305453313,
          0.11974246962080248,
          0.009800241834219093,
          -0.052083920726074644,
          0.03680714704374837,
          -0.017230114739677407,
          0.07570016102264703,
          -0.0224298480936611,
          0.07627384123331422,
          0.05557035496472691,
          0.029013285529957276,
          -0.024084633732344124,
          -0.037063659145940495,
          0.06151630763412692,
          0.17462224198842477,
          0.04852627066155674,
          0.0009814643849654023,
          0.1496901293179648,
          0.00847745796837266,
          -0.011302967970327918,
          0.051047189450529835,
          -0.014866210308550174,
          -0.018083089017551603,
          0.014552968470948707,
          -0.04691100680619581,
          0.07627384123331422,
          0.07627384123331422,
          -0.04249519657452648,
          0.025015486027564815,
          -0.012043794172405671,
          0.08881532140219216,
          0.0772559294419095,
          -0.04093461867312436,
          -0.04693456196306969,
          0.0010513711394768998,
          -0.0018911442805242943,
          -0.002742553238094645,
          -0.12469079103727494,
          -0.0005324124976906589,
          -0.034422127952822394,
          -0.18170170130486724,
          0.07627384123331422,
          -0.10431564323766339,
          0.14016910759040033,
          0.028218579184658584,
          -0.0651802369811169,
          -0.05414249260951681,
          0.016858177182320556,
          0.019706089392804625,
          0.07627384123331422,
          0.014342628448600774,
          0.04529215405314132,
          -0.0695068866232348,
          0.07627384123331422,
          0.0020561366653518514,
          0.11964014645561595,
          0.07808623923028057,
          0.026500254732910452,
          -0.11800422901888441,
          0.015677833803560207,
          0.013628004295586351,
          0.06988683571146201,
          0.11613320421113577,
          0.10150275044421335,
          -0.0357186964460648,
          -0.0003705916616148555,
          0.1602129732546968,
          0.22301456675109668,
          0.03415448274946672,
          0.020977388714975616,
          0.006490826727253183,
          -0.02605491794325502,
          -0.09043361196942126,
          0.02293948108722217,
          -0.10997920400786249,
          -0.29234009868683314,
          0.04116421636451903,
          0.07627384123331422,
          0.01744226570970661,
          0.0644458461761639,
          -0.21970796526672245,
          -0.05525022271506648,
          0.30199769954941735,
          0.07627384123331422,
          0.16971508167327962,
          -0.0002939187420702521,
          -0.12475619946492182,
          0.0038212140606847856,
          -0.23961543116735823,
          -0.10813473065803492,
          0.02797579538455139,
          0.034560018250943,
          0.112399472530951,
          -0.2262601556954937,
          -0.17329367739978532,
          0.07627384123331422,
          -0.0606929911752564,
          0.018271440020231657,
          -7.671923681214576e-05,
          -0.1349834036994799,
          0.06379911551589888,
          0.0735048304045855,
          0.13081676737162412,
          0.11048026871538402,
          -0.01783223162068093,
          0.135322025042925,
          -0.026174150173391298,
          0.03754106469522978,
          -0.1955734938231803,
          0.0656495561670546,
          -0.012195138455530809,
          0.07865778269018661,
          -0.009063702661757626,
          0.07627384123331422,
          -0.005849097013795017,
          0.0477457909412736,
          -0.0646232499690076,
          -0.032925775144125646,
          0.07627384123331422,
          -0.017681046345232015,
          0.02998676666428445,
          0.18269798978593044,
          -0.003931642797341581,
          0.0351148521169465,
          -0.017694057248928245,
          -0.06167611547926841,
          -0.19875372574635145,
          -0.03605466548640341,
          -0.032872733942085994,
          0.019524417881066708,
          -0.003279055651754339,
          -0.06841448477883098,
          -0.03512982096937587,
          -0.021954902324965553,
          -0.010740710741664128,
          -0.023695349001784945,
          -0.016680836422652102,
          -0.042023671492959866,
          0.0420438628653804,
          0.002371754051936604,
          0.13905309765429166,
          -0.09090981755890727,
          -0.022096396608698703,
          0.13198322946834037,
          -0.0673999831472731,
          0.023946642346217375,
          -0.02585836129108131,
          0.1597173492022551,
          0.019027959043440207,
          -0.020785022221035104,
          -0.034058635179726536,
          0.015544215993561487,
          -0.10444232888318072,
          -0.013814690038576934,
          0.08232224227208164,
          0.027732546964622243,
          -0.04324179602575953,
          -0.023870174521348018,
          -0.14410804141782543,
          0.0965380539486307,
          -0.16658352261175688,
          0.023009956723866364,
          0.06994154769689913,
          0.07627384123331422,
          0.042886473643765605,
          -0.010721278226636951,
          0.07627384123331422,
          0.09322138100530994,
          0.020223912589927697,
          -0.07853556642998141,
          -0.10672265923974333,
          0.3862919218793395,
          0.04653244673484852,
          -0.11286872737287683,
          0.19053429634788094,
          0.07627384123331422,
          0.05679846591695566,
          0.05206867678467803,
          0.020506648871872542,
          -0.01589779945552438,
          0.010503519341642826,
          -0.08571766595983163,
          -0.033657882363386106,
          0.12721320709908862,
          0.0031773948665047504,
          -0.027506527567704574,
          -0.13865986145064513,
          -0.040209519372987244,
          -0.14159271291195646,
          0.00916179312695313,
          0.07627384123331422,
          0.1010007229605073,
          0.013150530393857647,
          -0.2747648959965495,
          -0.06540424744874052,
          -0.17401487984597,
          0.023550039054656018,
          0.0010421192974628558,
          0.1857459910274489,
          -0.09551109507951397,
          -0.03742074223381115,
          0.09834642713360961,
          -0.056049332909061306,
          -0.0045757571856011245,
          0.01410270822533159,
          -0.07584124318346096,
          0.10593278187808168,
          0.012533817259183832,
          -0.008840316558059403,
          -0.0019376425279710606,
          -0.0769319055559153,
          -0.006824061374226517,
          -0.042606660050282796,
          0.11550554092258083,
          0.05314701348848375,
          0.02957684839532623,
          -0.01926096010346273,
          0.05359800907525567,
          0.016020894908732406,
          0.06457045249462896,
          -0.21459105927766092,
          -0.020914078782219812,
          -0.09612176960547517,
          0.004869251506704626,
          0.15080170342913937,
          -0.009556133797767707,
          0.03393336690757741,
          0.023324872111183025,
          0.025172765620876687,
          0.07627384123331422,
          0.020434133269982,
          0.10312621649418173,
          -0.11723900728034911,
          -0.023948980056789897,
          -0.10147356378020904,
          0.07627384123331422,
          0.0699400537238335,
          -0.053045710791100764,
          -0.014117204037317647,
          0.039912145078259235,
          0.07627384123331422,
          0.11272841447563174,
          0.02246550282441642,
          -0.0006440627491750639,
          0.07627384123331422,
          -0.0794360987645327,
          -0.14466700253986337,
          -0.047220136548200564,
          0.14624752372815986,
          -0.020998260848597315,
          0.11412056160615315,
          0.04011993589371749,
          0.006648693429451709,
          0.10161873261406398,
          -0.017478804747424158,
          0.04056238870766799,
          0.09148871262770616,
          0.040427396422782876,
          -0.05334311841709084,
          0.06491418051224551,
          0.016268990622983214,
          -0.1496078592826632,
          0.006352974497078845,
          -0.031263719519097496,
          0.12832841687339389,
          0.06586576846376364,
          -0.02542485228088863,
          0.04400419978403742,
          0.007641866775515142,
          0.00736621311224149,
          0.07627384123331422,
          -0.005615583886079935,
          0.009742303147475206,
          0.004055446792941173,
          0.07627384123331422,
          0.013627282841135855,
          -0.1506573300804536,
          -0.0625042747643553,
          0.0013246951826260348,
          -0.0540982518739072,
          0.07627384123331422,
          -0.13129524871952192,
          -0.06871958970662563,
          -0.009004286235709235,
          -0.009376111356077495,
          0.04850703192862705,
          -0.25852844265834585,
          0.271274625538256,
          0.1259387193737856,
          -0.051824710969334685,
          0.07392241021110697,
          -0.010822080182181995,
          0.006526969132048546,
          -0.16310135289019187,
          -0.042931949599881836,
          0.10941932483677352,
          -0.10945091713451664,
          0.06020409158058326,
          0.04885772596452545,
          0.027784752838363368,
          -0.06640768844148313,
          0.029514999217012203,
          -0.08235987912786077,
          0.06831066558401266,
          0.0701105929213349,
          0.07627384123331422,
          0.07597257112535721,
          0.07627384123331422,
          0.008795226508156905,
          -0.04191568947951399,
          0.17178489102934266,
          -0.3131544043235697,
          -0.0804777833959655,
          -0.21672540281562613,
          0.036869820652387524,
          0.15149840066564926,
          0.10758468505313958,
          0.04295792578183626,
          0.07627384123331422,
          0.15611668979903565,
          0.011946133425412994,
          -0.16476965808436533,
          -0.05428619007920285,
          -0.059682421189385736,
          0.03254599397150316,
          0.04265590450666811,
          -0.19808646762867457,
          -0.07224249215343426,
          0.07627384123331422,
          -0.016282680550167558,
          -0.35130588226183246,
          -0.011499811326217212,
          -0.07555260310176792,
          -0.08065990071395365,
          0.00031700896161335467,
          0.10131628947574821,
          -0.04628143420602802,
          -0.08354716428202703,
          0.045730368748959666,
          0.08845997669027571,
          0.03206708216126713,
          0.07627384123331422,
          0.07928221450706084,
          -0.20485965382404303,
          -0.03262292651325197,
          0.07627384123331422,
          0.020514244246121697,
          -0.11061934516738255,
          -0.20745940819702818,
          0.05771833023883725,
          -0.048933653290643614,
          0.034540704743459764,
          0.059395909362283124,
          -0.05219077257611385,
          -0.04177424543557481,
          -0.053136906877172596,
          -0.03460826202820952,
          0.07627384123331422,
          -0.09225152640616209,
          0.06610911184422845,
          -0.10183729828199331,
          0.07627384123331422,
          -0.1321640272592339,
          0.04597454433990157,
          0.06464913781289539,
          -0.02455540899480489,
          -0.030391975213389162,
          -0.020358264155154102,
          -0.04237097465144906,
          0.013428902310790362,
          -0.04275258929854229,
          -0.014951367486004407,
          -0.03846818158560676,
          0.02564621332764135,
          0.07627384123331422,
          0.01232951647725377,
          0.12698618274696474,
          0.03702166812297875,
          0.062188015331752736,
          -0.09272478330091974,
          0.11595193248289032,
          0.0673298175059658,
          -0.11392077904833445,
          -0.09655772973621352,
          -0.1000341478425859,
          0.10837687127113539,
          0.05206806939082186,
          -0.06142987943235102,
          0.0864564004809706,
          -0.11818272552531857,
          0.25757739195727136,
          -0.09695068769833302,
          0.018662846590423877,
          -0.06257076890073328,
          0.064260101651483,
          -0.027840568625172795,
          -0.021208282722049165,
          -0.12775557477603272,
          -0.011779964093765085,
          0.00317168385507113,
          -0.02934293368799872,
          -0.009306199237643743,
          0.16431674483546593,
          0.07627384123331422,
          -0.07054911047560081,
          0.06263519773118373,
          0.07627384123331422,
          0.023794982795431335,
          0.048507109572267545,
          -0.06262879351822574,
          -0.13737271429534226,
          -0.021847495221964625,
          0.10735082563835519,
          -0.02265392569593854,
          -0.025417206312580393,
          0.044294777451622906,
          -0.023326965476490515,
          -0.11212102913862015,
          -0.022662068304854118,
          0.06100713611012472,
          -0.029394490651237268,
          0.008976548306737173,
          -0.03836838898076006,
          -0.2377238227586076,
          -0.04360296488782811,
          0.017488334427345178,
          -0.11489852390590787,
          -0.050463978289350016,
          -0.02179561284627702,
          0.10199577629760885,
          -0.2418081133276529,
          0.03021954768177029,
          -0.06523349607388823,
          0.06312822889273233,
          -0.06525003480227663,
          0.07627384123331422,
          0.010682104099337134,
          0.10712985225673131,
          -0.045471609093232654,
          -0.021456630790627942,
          0.025606125562997552,
          -0.040594370759602844,
          -0.0016884751392444322,
          -0.06153483300042985,
          -0.028472410265349024,
          -0.23876857380775685,
          0.033908033047021134,
          -0.04472277301325019,
          -0.12175555566536071,
          -0.1199138421114108,
          0.01632261398352633,
          -0.08896262333580618,
          -0.015027897637856155,
          -0.01313744351690439,
          -0.11208501394574473,
          0.07627384123331422,
          0.04094113408798167,
          -0.047325250034200655,
          0.06303128419393786,
          0.0068627081088873795,
          -0.004830564264074764,
          0.018881346635546494,
          0.04550798438919708,
          0.011347379960526122,
          0.03329007386273874,
          -0.1309071088244109,
          -0.026883618120356976,
          0.07627384123331422,
          -0.04369713978865502,
          -0.07522343796236931,
          -0.012648482781810575,
          -0.0522082573573123,
          -0.07722667697145938,
          0.020929324854275032,
          -0.03623731762387713,
          0.007387227222901953,
          0.07627384123331422,
          -0.08140469197466735,
          0.08918627635343761,
          0.0077860074997378615,
          0.07627384123331422,
          0.07627384123331422,
          0.004062369797739765,
          0.08079457716167468,
          0.21520681461970464,
          -0.04386642145736774,
          -0.032450211982601763,
          0.04290343198638759,
          0.001678697529368454,
          0.052934876548264766,
          0.014321600736741187,
          -0.002772022548929522,
          -0.06364933200560306,
          0.02224400085186971,
          0.10912844834606017,
          0.09779611247351205,
          -0.01634399781613235,
          -0.176512804372499,
          0.008287099696363334,
          -0.014708446856193644,
          -0.01198879226067643,
          0.07627384123331422,
          0.05767527921729539,
          0.02943838927111363,
          0.07627384123331422,
          0.04120415111940142,
          0.029297133032073184,
          0.04563876168551239,
          -0.020446217647998262,
          0.006536381458515195,
          0.055614877900201344,
          0.07627384123331422,
          -0.07889776064526038,
          -0.03515274183598173,
          0.06314069638057174,
          -0.048933653290643614,
          0.07807432289598369,
          0.006326175263983232,
          -0.17418303678632405,
          0.08300974800699809,
          0.004035470905937217,
          -0.009201411821262077,
          0.0008957759127892698,
          0.06906075221950929,
          0.06699654500920822,
          -0.028237528601425584,
          -0.00980702771420332,
          -0.2501654102404922,
          0.040271846722236264,
          -0.029199009151583893,
          0.07506758301920342,
          -0.01901719424535091,
          -0.05626334741812088,
          -0.03120367073825286,
          0.09296027681099815,
          -0.033028976896966086,
          0.10897108801010824,
          0.07627384123331422,
          0.2460341194886109,
          0.02211764301070553,
          0.0697313177870631,
          -0.016664477981477056,
          -0.2814583733215246,
          -0.02677810234864355,
          0.02506462112522979,
          -0.10010843829666853,
          0.04439928231693212,
          -0.03775303181447546,
          -0.032526173085724454,
          -0.034043306149988024,
          0.08409404183963472,
          -0.03568007146952886,
          0.07374908649472081,
          -0.09774220263072621,
          0.07627384123331422,
          0.08067502995560447,
          0.07627384123331422,
          0.035555059304960536,
          0.07601138750249808,
          -0.07720745904415485,
          0.053240582981429675,
          0.006038201154405098,
          -0.16114510847007535,
          0.07627384123331422,
          0.016761391946848378,
          0.14896666687476087,
          0.08141294128632402,
          -0.14153640503876774,
          0.14517367301698872,
          -0.22519702444757977,
          -0.19206074624087466,
          -0.01367357475805712,
          -0.07389781795452587,
          0.014079246624669361,
          0.06559059723963774,
          0.07474252083959326,
          0.03465686439754859,
          0.09903400601746076,
          -0.05872496057845878,
          -0.03757858443083799,
          -0.0807288109394503,
          0.003845707476447412,
          0.0863920871365945,
          0.08469545406432843,
          0.03269665856504823,
          0.06434476452272139,
          0.01131662550109149,
          0.05775129042850764,
          0.07627384123331422,
          0.061751882103199866,
          -0.026764930906687096,
          -0.24345799218182698,
          -0.13734833195061263,
          -0.020263603733167247,
          0.061662163417987845,
          -0.14074100926311478,
          -0.08745736004287814,
          -0.12727133516988698,
          0.007550247979763803,
          0.3339662939222585,
          0.13552704283417977,
          -0.2750660091634167,
          0.0026405842074842213,
          -0.02069471491008643,
          0.07929603136161752,
          -0.08516421644854469,
          -0.00011118761214278842,
          0.038222702851901005,
          0.03047073330144037,
          0.12347827930523583,
          0.033771044419412984,
          -0.009142486273799239,
          0.14350466150585525,
          -0.002568052847940307,
          0.050914680951817885,
          0.02237677124211838,
          -0.06238502205632521,
          -0.0526483252670034,
          -0.0030420153197388672,
          -0.0471060577311802,
          -0.06321261112606458,
          -0.08173646145247704,
          -0.0029099315103687058,
          0.006920257126228959,
          0.12008661806963822,
          0.019011463800972603,
          -0.04221353141289524,
          -0.0011685884891376806,
          -0.034845440310123474,
          -0.00913387087667614,
          -0.20264914636816375,
          0.01593834930521673,
          0.012726844744629106,
          0.07627384123331422,
          -0.11357851301672085,
          0.07627384123331422,
          -0.018169607504112815,
          0.08577003362100583,
          -0.0036108689208232706,
          -0.059061575967955464,
          0.06094554081933036,
          -0.053692648187713576,
          -0.009459766888433056,
          0.0045668571436230385,
          -0.052081192703680335,
          -0.056387701650475616,
          -0.060868254701193274,
          0.04922393525064964,
          0.014422036199009173,
          -0.02475492379639234,
          0.039417970971181215,
          0.07627384123331422,
          -0.04900449640196576,
          0.050263942841859435,
          -0.04566786011863734,
          0.03297162038936325,
          -0.02978679970481066,
          -0.09385843885768445,
          0.07627384123331422,
          -0.0590206889478564,
          0.005716250691894823,
          0.07627384123331422,
          -0.1317938294246294,
          -0.11079226134361259,
          -0.012558784041333655,
          0.04474753378453228,
          0.023815944464975522,
          -0.03423395614014452,
          0.08934443145190096,
          -0.03567748100742586,
          -0.0014991304302404721,
          -0.0346756216260758,
          0.011728727160256322,
          -0.07884357996510438,
          -0.16066261304576276,
          -0.2602200229257543,
          -0.15490955421504493,
          0.10769500216652526,
          0.012652553390427264,
          -0.08053826897982258,
          0.17275501054472087,
          0.1411121232685715,
          0.0769075830712364,
          -0.03064643789227983,
          0.0569118975047656,
          -0.05505514469725294,
          -0.027036156365178986,
          -0.0048039417099648846,
          -0.018530857398465425,
          0.0864094119202839,
          -0.005993641075094927,
          0.015677347554684452,
          0.05329818119922028,
          0.06095482600820693,
          -0.02607562976058307,
          0.08639739168566128,
          -0.04288277323504426,
          -0.04263507951065191,
          0.14343965069068282,
          -0.14941439020851918,
          -0.042630582452372036,
          -0.012072793224444945,
          -0.006025572732048045,
          0.04241820505439805,
          0.06611149334104245,
          0.034252722807982645,
          0.07627384123331422,
          -0.04879563548039651,
          0.029674745886338016,
          0.10659771619635808,
          0.026953597195298478,
          0.02135475952954822,
          0.0645786136537873,
          0.07627384123331422,
          0.04394039491053382,
          -0.20788489784516115,
          0.08019981917812041,
          0.11891736779420503,
          0.06532216648328898,
          -0.03987135108242339,
          -0.04669923433227181,
          -0.05230608379377998,
          0.059781939450307554,
          0.005653084812443762,
          -0.10440965106705806,
          -0.0027279773110235614,
          -0.11834562019034106,
          0.15372775697218866,
          0.012451144170566607,
          -0.07315282605364627,
          -0.10959599226694954,
          -0.04303709597281333,
          0.07627384123331422,
          -0.038466564495737245,
          -0.05492963070787297,
          -0.05953695528452545,
          -0.11989505105477023,
          -0.07738188601252285,
          0.12232317488549423,
          0.1858289730667678,
          -0.04659650675365008,
          0.10971226203604671,
          0.009918342588259564,
          -0.0695914924365888,
          -0.0024905454845252683,
          -0.007157879490992325,
          -0.0322639290911749,
          0.06973038234851532,
          -0.10886089207893719,
          -0.048161542654506284,
          -0.09001630988613156,
          0.030622166723237313,
          -0.010347911493680216,
          0.11758864727530771,
          0.07480631049779757,
          -0.09826511996928738,
          -0.11935903989119434,
          0.046958885886821726,
          0.07627384123331422,
          0.025622134415334775,
          0.07627384123331422,
          0.09789999119089829,
          0.08092403326637343,
          -0.09149958856083168,
          -0.08570873561720355,
          -0.043459816937451226,
          0.03834476655570773,
          0.08411614019559452,
          -0.07915042802745413,
          0.05099159273446314,
          -0.0914699098711453,
          -0.11460257052411689,
          0.07627384123331422,
          -0.04966051179380864,
          0.0008378451209932012,
          -0.29547059109544227,
          0.10333394798991226,
          0.015079119207847172,
          0.01850934201406166,
          -0.08718304454760062,
          -0.15679460274229665,
          0.00507854544780692,
          0.11585243790466382,
          -0.11450452343958725,
          -0.006935623316619157,
          -0.020374112689057196,
          0.025360034695533117,
          0.015351888887539043,
          -0.00216534115320716,
          -0.05588893872101598,
          -0.040109857213057244,
          0.08768606602980875,
          -0.010388286926612717,
          -0.03741289903231855,
          -0.0942136287749028,
          -0.05054250265725779,
          -0.04561118169725537
         ],
         "yaxis": "y"
        }
       ],
       "layout": {
        "coloraxis": {
         "colorbar": {
          "title": {
           "text": "color"
          }
         },
         "colorscale": [
          [
           0,
           "#0d0887"
          ],
          [
           0.1111111111111111,
           "#46039f"
          ],
          [
           0.2222222222222222,
           "#7201a8"
          ],
          [
           0.3333333333333333,
           "#9c179e"
          ],
          [
           0.4444444444444444,
           "#bd3786"
          ],
          [
           0.5555555555555556,
           "#d8576b"
          ],
          [
           0.6666666666666666,
           "#ed7953"
          ],
          [
           0.7777777777777778,
           "#fb9f3a"
          ],
          [
           0.8888888888888888,
           "#fdca26"
          ],
          [
           1,
           "#f0f921"
          ]
         ]
        },
        "height": 1000,
        "legend": {
         "orientation": "h",
         "tracegroupgap": 0,
         "x": 1,
         "xanchor": "right",
         "y": -0.5,
         "yanchor": "bottom"
        },
        "margin": {
         "t": 60
        },
        "template": {
         "data": {
          "bar": [
           {
            "error_x": {
             "color": "#2a3f5f"
            },
            "error_y": {
             "color": "#2a3f5f"
            },
            "marker": {
             "line": {
              "color": "#E5ECF6",
              "width": 0.5
             },
             "pattern": {
              "fillmode": "overlay",
              "size": 10,
              "solidity": 0.2
             }
            },
            "type": "bar"
           }
          ],
          "barpolar": [
           {
            "marker": {
             "line": {
              "color": "#E5ECF6",
              "width": 0.5
             },
             "pattern": {
              "fillmode": "overlay",
              "size": 10,
              "solidity": 0.2
             }
            },
            "type": "barpolar"
           }
          ],
          "carpet": [
           {
            "aaxis": {
             "endlinecolor": "#2a3f5f",
             "gridcolor": "white",
             "linecolor": "white",
             "minorgridcolor": "white",
             "startlinecolor": "#2a3f5f"
            },
            "baxis": {
             "endlinecolor": "#2a3f5f",
             "gridcolor": "white",
             "linecolor": "white",
             "minorgridcolor": "white",
             "startlinecolor": "#2a3f5f"
            },
            "type": "carpet"
           }
          ],
          "choropleth": [
           {
            "colorbar": {
             "outlinewidth": 0,
             "ticks": ""
            },
            "type": "choropleth"
           }
          ],
          "contour": [
           {
            "colorbar": {
             "outlinewidth": 0,
             "ticks": ""
            },
            "colorscale": [
             [
              0,
              "#0d0887"
             ],
             [
              0.1111111111111111,
              "#46039f"
             ],
             [
              0.2222222222222222,
              "#7201a8"
             ],
             [
              0.3333333333333333,
              "#9c179e"
             ],
             [
              0.4444444444444444,
              "#bd3786"
             ],
             [
              0.5555555555555556,
              "#d8576b"
             ],
             [
              0.6666666666666666,
              "#ed7953"
             ],
             [
              0.7777777777777778,
              "#fb9f3a"
             ],
             [
              0.8888888888888888,
              "#fdca26"
             ],
             [
              1,
              "#f0f921"
             ]
            ],
            "type": "contour"
           }
          ],
          "contourcarpet": [
           {
            "colorbar": {
             "outlinewidth": 0,
             "ticks": ""
            },
            "type": "contourcarpet"
           }
          ],
          "heatmap": [
           {
            "colorbar": {
             "outlinewidth": 0,
             "ticks": ""
            },
            "colorscale": [
             [
              0,
              "#0d0887"
             ],
             [
              0.1111111111111111,
              "#46039f"
             ],
             [
              0.2222222222222222,
              "#7201a8"
             ],
             [
              0.3333333333333333,
              "#9c179e"
             ],
             [
              0.4444444444444444,
              "#bd3786"
             ],
             [
              0.5555555555555556,
              "#d8576b"
             ],
             [
              0.6666666666666666,
              "#ed7953"
             ],
             [
              0.7777777777777778,
              "#fb9f3a"
             ],
             [
              0.8888888888888888,
              "#fdca26"
             ],
             [
              1,
              "#f0f921"
             ]
            ],
            "type": "heatmap"
           }
          ],
          "heatmapgl": [
           {
            "colorbar": {
             "outlinewidth": 0,
             "ticks": ""
            },
            "colorscale": [
             [
              0,
              "#0d0887"
             ],
             [
              0.1111111111111111,
              "#46039f"
             ],
             [
              0.2222222222222222,
              "#7201a8"
             ],
             [
              0.3333333333333333,
              "#9c179e"
             ],
             [
              0.4444444444444444,
              "#bd3786"
             ],
             [
              0.5555555555555556,
              "#d8576b"
             ],
             [
              0.6666666666666666,
              "#ed7953"
             ],
             [
              0.7777777777777778,
              "#fb9f3a"
             ],
             [
              0.8888888888888888,
              "#fdca26"
             ],
             [
              1,
              "#f0f921"
             ]
            ],
            "type": "heatmapgl"
           }
          ],
          "histogram": [
           {
            "marker": {
             "pattern": {
              "fillmode": "overlay",
              "size": 10,
              "solidity": 0.2
             }
            },
            "type": "histogram"
           }
          ],
          "histogram2d": [
           {
            "colorbar": {
             "outlinewidth": 0,
             "ticks": ""
            },
            "colorscale": [
             [
              0,
              "#0d0887"
             ],
             [
              0.1111111111111111,
              "#46039f"
             ],
             [
              0.2222222222222222,
              "#7201a8"
             ],
             [
              0.3333333333333333,
              "#9c179e"
             ],
             [
              0.4444444444444444,
              "#bd3786"
             ],
             [
              0.5555555555555556,
              "#d8576b"
             ],
             [
              0.6666666666666666,
              "#ed7953"
             ],
             [
              0.7777777777777778,
              "#fb9f3a"
             ],
             [
              0.8888888888888888,
              "#fdca26"
             ],
             [
              1,
              "#f0f921"
             ]
            ],
            "type": "histogram2d"
           }
          ],
          "histogram2dcontour": [
           {
            "colorbar": {
             "outlinewidth": 0,
             "ticks": ""
            },
            "colorscale": [
             [
              0,
              "#0d0887"
             ],
             [
              0.1111111111111111,
              "#46039f"
             ],
             [
              0.2222222222222222,
              "#7201a8"
             ],
             [
              0.3333333333333333,
              "#9c179e"
             ],
             [
              0.4444444444444444,
              "#bd3786"
             ],
             [
              0.5555555555555556,
              "#d8576b"
             ],
             [
              0.6666666666666666,
              "#ed7953"
             ],
             [
              0.7777777777777778,
              "#fb9f3a"
             ],
             [
              0.8888888888888888,
              "#fdca26"
             ],
             [
              1,
              "#f0f921"
             ]
            ],
            "type": "histogram2dcontour"
           }
          ],
          "mesh3d": [
           {
            "colorbar": {
             "outlinewidth": 0,
             "ticks": ""
            },
            "type": "mesh3d"
           }
          ],
          "parcoords": [
           {
            "line": {
             "colorbar": {
              "outlinewidth": 0,
              "ticks": ""
             }
            },
            "type": "parcoords"
           }
          ],
          "pie": [
           {
            "automargin": true,
            "type": "pie"
           }
          ],
          "scatter": [
           {
            "fillpattern": {
             "fillmode": "overlay",
             "size": 10,
             "solidity": 0.2
            },
            "type": "scatter"
           }
          ],
          "scatter3d": [
           {
            "line": {
             "colorbar": {
              "outlinewidth": 0,
              "ticks": ""
             }
            },
            "marker": {
             "colorbar": {
              "outlinewidth": 0,
              "ticks": ""
             }
            },
            "type": "scatter3d"
           }
          ],
          "scattercarpet": [
           {
            "marker": {
             "colorbar": {
              "outlinewidth": 0,
              "ticks": ""
             }
            },
            "type": "scattercarpet"
           }
          ],
          "scattergeo": [
           {
            "marker": {
             "colorbar": {
              "outlinewidth": 0,
              "ticks": ""
             }
            },
            "type": "scattergeo"
           }
          ],
          "scattergl": [
           {
            "marker": {
             "colorbar": {
              "outlinewidth": 0,
              "ticks": ""
             }
            },
            "type": "scattergl"
           }
          ],
          "scattermapbox": [
           {
            "marker": {
             "colorbar": {
              "outlinewidth": 0,
              "ticks": ""
             }
            },
            "type": "scattermapbox"
           }
          ],
          "scatterpolar": [
           {
            "marker": {
             "colorbar": {
              "outlinewidth": 0,
              "ticks": ""
             }
            },
            "type": "scatterpolar"
           }
          ],
          "scatterpolargl": [
           {
            "marker": {
             "colorbar": {
              "outlinewidth": 0,
              "ticks": ""
             }
            },
            "type": "scatterpolargl"
           }
          ],
          "scatterternary": [
           {
            "marker": {
             "colorbar": {
              "outlinewidth": 0,
              "ticks": ""
             }
            },
            "type": "scatterternary"
           }
          ],
          "surface": [
           {
            "colorbar": {
             "outlinewidth": 0,
             "ticks": ""
            },
            "colorscale": [
             [
              0,
              "#0d0887"
             ],
             [
              0.1111111111111111,
              "#46039f"
             ],
             [
              0.2222222222222222,
              "#7201a8"
             ],
             [
              0.3333333333333333,
              "#9c179e"
             ],
             [
              0.4444444444444444,
              "#bd3786"
             ],
             [
              0.5555555555555556,
              "#d8576b"
             ],
             [
              0.6666666666666666,
              "#ed7953"
             ],
             [
              0.7777777777777778,
              "#fb9f3a"
             ],
             [
              0.8888888888888888,
              "#fdca26"
             ],
             [
              1,
              "#f0f921"
             ]
            ],
            "type": "surface"
           }
          ],
          "table": [
           {
            "cells": {
             "fill": {
              "color": "#EBF0F8"
             },
             "line": {
              "color": "white"
             }
            },
            "header": {
             "fill": {
              "color": "#C8D4E3"
             },
             "line": {
              "color": "white"
             }
            },
            "type": "table"
           }
          ]
         },
         "layout": {
          "annotationdefaults": {
           "arrowcolor": "#2a3f5f",
           "arrowhead": 0,
           "arrowwidth": 1
          },
          "autotypenumbers": "strict",
          "coloraxis": {
           "colorbar": {
            "outlinewidth": 0,
            "ticks": ""
           }
          },
          "colorscale": {
           "diverging": [
            [
             0,
             "#8e0152"
            ],
            [
             0.1,
             "#c51b7d"
            ],
            [
             0.2,
             "#de77ae"
            ],
            [
             0.3,
             "#f1b6da"
            ],
            [
             0.4,
             "#fde0ef"
            ],
            [
             0.5,
             "#f7f7f7"
            ],
            [
             0.6,
             "#e6f5d0"
            ],
            [
             0.7,
             "#b8e186"
            ],
            [
             0.8,
             "#7fbc41"
            ],
            [
             0.9,
             "#4d9221"
            ],
            [
             1,
             "#276419"
            ]
           ],
           "sequential": [
            [
             0,
             "#0d0887"
            ],
            [
             0.1111111111111111,
             "#46039f"
            ],
            [
             0.2222222222222222,
             "#7201a8"
            ],
            [
             0.3333333333333333,
             "#9c179e"
            ],
            [
             0.4444444444444444,
             "#bd3786"
            ],
            [
             0.5555555555555556,
             "#d8576b"
            ],
            [
             0.6666666666666666,
             "#ed7953"
            ],
            [
             0.7777777777777778,
             "#fb9f3a"
            ],
            [
             0.8888888888888888,
             "#fdca26"
            ],
            [
             1,
             "#f0f921"
            ]
           ],
           "sequentialminus": [
            [
             0,
             "#0d0887"
            ],
            [
             0.1111111111111111,
             "#46039f"
            ],
            [
             0.2222222222222222,
             "#7201a8"
            ],
            [
             0.3333333333333333,
             "#9c179e"
            ],
            [
             0.4444444444444444,
             "#bd3786"
            ],
            [
             0.5555555555555556,
             "#d8576b"
            ],
            [
             0.6666666666666666,
             "#ed7953"
            ],
            [
             0.7777777777777778,
             "#fb9f3a"
            ],
            [
             0.8888888888888888,
             "#fdca26"
            ],
            [
             1,
             "#f0f921"
            ]
           ]
          },
          "colorway": [
           "#636efa",
           "#EF553B",
           "#00cc96",
           "#ab63fa",
           "#FFA15A",
           "#19d3f3",
           "#FF6692",
           "#B6E880",
           "#FF97FF",
           "#FECB52"
          ],
          "font": {
           "color": "#2a3f5f"
          },
          "geo": {
           "bgcolor": "white",
           "lakecolor": "white",
           "landcolor": "#E5ECF6",
           "showlakes": true,
           "showland": true,
           "subunitcolor": "white"
          },
          "hoverlabel": {
           "align": "left"
          },
          "hovermode": "closest",
          "mapbox": {
           "style": "light"
          },
          "paper_bgcolor": "white",
          "plot_bgcolor": "#E5ECF6",
          "polar": {
           "angularaxis": {
            "gridcolor": "white",
            "linecolor": "white",
            "ticks": ""
           },
           "bgcolor": "#E5ECF6",
           "radialaxis": {
            "gridcolor": "white",
            "linecolor": "white",
            "ticks": ""
           }
          },
          "scene": {
           "xaxis": {
            "backgroundcolor": "#E5ECF6",
            "gridcolor": "white",
            "gridwidth": 2,
            "linecolor": "white",
            "showbackground": true,
            "ticks": "",
            "zerolinecolor": "white"
           },
           "yaxis": {
            "backgroundcolor": "#E5ECF6",
            "gridcolor": "white",
            "gridwidth": 2,
            "linecolor": "white",
            "showbackground": true,
            "ticks": "",
            "zerolinecolor": "white"
           },
           "zaxis": {
            "backgroundcolor": "#E5ECF6",
            "gridcolor": "white",
            "gridwidth": 2,
            "linecolor": "white",
            "showbackground": true,
            "ticks": "",
            "zerolinecolor": "white"
           }
          },
          "shapedefaults": {
           "line": {
            "color": "#2a3f5f"
           }
          },
          "ternary": {
           "aaxis": {
            "gridcolor": "white",
            "linecolor": "white",
            "ticks": ""
           },
           "baxis": {
            "gridcolor": "white",
            "linecolor": "white",
            "ticks": ""
           },
           "bgcolor": "#E5ECF6",
           "caxis": {
            "gridcolor": "white",
            "linecolor": "white",
            "ticks": ""
           }
          },
          "title": {
           "x": 0.05
          },
          "xaxis": {
           "automargin": true,
           "gridcolor": "white",
           "linecolor": "white",
           "ticks": "",
           "title": {
            "standoff": 15
           },
           "zerolinecolor": "white",
           "zerolinewidth": 2
          },
          "yaxis": {
           "automargin": true,
           "gridcolor": "white",
           "linecolor": "white",
           "ticks": "",
           "title": {
            "standoff": 15
           },
           "zerolinecolor": "white",
           "zerolinewidth": 2
          }
         }
        },
        "width": 1400,
        "xaxis": {
         "anchor": "y",
         "autorange": true,
         "domain": [
          0,
          1
         ],
         "range": [
          -0.4363428072190121,
          0.48191420591154727
         ],
         "title": {
          "text": "x"
         },
         "type": "linear"
        },
        "yaxis": {
         "anchor": "x",
         "autorange": true,
         "domain": [
          0,
          1
         ],
         "range": [
          -0.4510204234164381,
          0.5352884323617467
         ],
         "title": {
          "text": "y"
         },
         "type": "linear"
        }
       }
      },
      "image/png": "[encoded data removed]",
      "text/html": [
       "<div>                            <div id=\"adf721de-60da-47c7-9401-82bef2fc84ac\" class=\"plotly-graph-div\" style=\"height:1000px; width:1400px;\"></div>            <script type=\"text/javascript\">                require([\"plotly\"], function(Plotly) {                    window.PLOTLYENV=window.PLOTLYENV || {};                                    if (document.getElementById(\"adf721de-60da-47c7-9401-82bef2fc84ac\")) {                    Plotly.newPlot(                        \"adf721de-60da-47c7-9401-82bef2fc84ac\",                        [{\"customdata\":[[\"Guyana\"],[\"UNFCCC Secretariat\"],[\"Japan\"],[\"Moldova\"],[\"CAD2\"],[\"UNFCCC Secretariat\"],[\"IPCC\"],[\"UNFCCC Secretariat\"],[\"UNFCCC Secretariat\"],[\"Liberia\"],[\"Tajikistan\"],[\"International Network for Sustainable Energy (INFORSE)\"],[\"Palestine\"],[\"Serbia\"],[\"Barbados\"],[\"Kyrgyzstan\"],[\"IPCC\"],[\"UNFCCC Secretariat\"],[\"Honduras\"],[\"UNFCCC Secretariat\"],[\"Bulgaria\"],[\"Fiji\"],[\"Climate Heritage Network\"],[\"New Zealand\"],[\"Monaco\"],[\"Switzerland\"],[\"Marshall Islands\"],[\"Uruguay\"],[\"Nigeria\"],[\"Montenegro\"],[\"UNFCCC Secretariat\"],[\"UNFCCC Secretariat\"],[\"Climate Action Network International (CAN)\"],[\"Nicaragua\"],[\"United Kingdom\"],[\"Sudan\"],[\"Mongolia\"],[\"UNFCCC Secretariat\"],[\"UNFCCC Least Developed Countries Expert Group\"],[\"Partnership on Sustainable,Low Carbon Transport (SLOCAT)\"],[\"Niger\"],[\"Bahamas,The\"],[\"Ireland\"],[\"Liechtenstein\"],[\"UNFCCC Secretariat\"],[\"United States of America\"],[\"Brazil\"],[\"India\"],[\"Guinea-Bissau\"],[\"UNFCCC Secretariat\"],[\"Lebanon\"],[\"IPCC\"],[\"Mexico\"],[\"Marrakech Partnership\"],[\"New Zealand\"],[\"European Centre for Medium-Range Weather Forecasts (ECMWF)\"],[\"United States of America\"],[\"Palestine\"],[\"UNFCCC Secretariat\"],[\"UNFCCC Secretariat\"],[\"North Macedonia (Republic of North Macedonia)\"],[\"Tajikistan\"],[\"Ukraine\"],[\"Adaptation Research Alliance (ARA)\"],[\"Denmark\"],[\"Jamaica\"],[\"UNFCCC Secretariat\"],[\"Slovakia\"],[\"Australia\"],[\"International Development Law Organization (IDLO)\"],[\"Norway\"],[\"Institute for Global Environmental Strategies (IGES),Japan Aerospace Exploration Agency (JAXA),ANA Holdings INC (ANAHD)\"],[\"Australia\"],[\"Haiti\"],[\"Marrakech Partnership\"],[\"Hungary\"],[\"Bosnia and Herzegovina\"],[\"UNFCCC Secretariat\"],[\"Kenya\"],[\"Air Transport Action Group (ATAG)\"],[\"Japan\"],[\"Belize\"],[\"Belgium\"],[\"Venezuela\"],[\"Saint Lucia\"],[\"Tonga\"],[\"Malawi\"],[\"Wuppertal Institute on behalf of the NDC ASPECTS Project\"],[\"Austria\"],[\"Kiribati\"],[\"Brazil\"],[\"Uganda\"],[\"Afghanistan\"],[\"Iberdrola\"],[\"Malawi\"],[\"High-Level Champions for Climate Action\"],[\"UNFCCC Secretariat\"],[\"Belize\"],[\"Japan\"],[\"Dominican Republic\"],[\"International Transport Forum (ITF)\"],[\"Samoa\"],[\"North Macedonia (Republic of North Macedonia)\"],[\"Mozambique\"],[\"UNFCCC Secretariat\"],[\"IPCC\"],[\"Marshall Islands\"],[\"Paris Reinforce,University of Cambridge\"],[\"Kyrgyzstan\"],[\"UNFCCC Katowice Committee of Experts on Impact of Implementation of Response Measures\"],[\"IPCC\"],[\"National Urban Mobility Policies and Investment Programmes in support of Climate Commitments in Latin America and the Caribbean\"],[\"Iceland\"],[\"Timor-Leste\"],[\"Australia\"],[\"Rwanda\"],[\"Uzbekistan\"],[\"Canada\"],[\"UNFCCC Secretariat\"],[\"Zimbabwe\"],[\"Slovenia\"],[\"South Korea\"],[\"International Union for Conservation of Nature (IUCN)\"],[\"BirdLife International\"],[\"Chad\"],[\"Cabo Verde\"],[\"Congo\"],[\"Woodwell Climate Research Center,Arctic Initiative at Harvard Kennedy School,Alaska Institute for Justice (AIJ)\"],[\"China\"],[\"France\"],[\"African Development Bank (AfDB)\"],[\"Costa Rica\"],[\"El Salvador\"],[\"International Institute for Applied Systems Analysis (IIASA)\"],[\"China\"],[\"Greece\"],[\"Sierra Leone\"],[\"Angola\"],[\"Guatemala\"],[\"Suriname\"],[\"Equatorial Guinea\"],[\"Costa Rica\"],[\"France\"],[\"China\"],[\"Slovakia\"],[\"Sweden\"],[\"Burundi\"],[\"University of Southern Denmark (SDU)\"],[\"Chile\"],[\"Fossil Fuel Non-Proliferation Treaty Initiative\"],[\"Egypt\"],[\"Croatia\"],[\"UNFCCC Authors\"],[\"Finland\"],[\"UNFCCC Secretariat\"],[\"Switzerland\"],[\"Algeria\"],[\"Chile\"],[\"Kazakhstan\"],[\"Yemen\"],[\"Russia\"],[\"Turkmenistan\"],[\"Universidad Polit\\u00e9cnica de Catalu\\u00f1a (UPC)\"],[\"Australia\"],[\"Marshall Islands\"],[\"Spain\"],[\"Climate Equity Reference Project Canada (CERP)\"],[\"UNFCCC Secretariat\"],[\"Group of 77 and China,Pakistan\"],[\"European Union\"],[\"Paraguay\"],[\"International Institute for Sustainable Development (IISD)\"],[\"Saudi Arabia\"],[\"Cameroon\"],[\"Ghana\"],[\"Panama\"],[\"Cuba\"],[\"Uruguay\"],[\"UNFCCC Secretariat\"],[\"Gabon\"],[\"Armenia\"],[\"External organization authors\"],[\"Maldives\"],[\"Peru\"],[\"Rwanda\"],[\"Singapore\"],[\"Albania\"],[\"South Africa\"],[\"Tunisia\"],[\"Argentina\"],[\"France\"],[\"Vietnam\"],[\"Georgia\"],[\"Canada\"],[\"Albania\"],[\"University of Exeter\"],[\"European Union\"],[\"Colombia\"],[\"Institute for Sustainable Development and International Relations (IDDRI)\"],[\"IPCC\"],[\"Oman\"],[\"Turkmenistan\"],[\"UNFCCC Secretariat\"],[\"Malta\"],[\"UNFCCC Secretariat\"],[\"UNFCCC Secretariat\"],[\"International Platform on Adaptation Metrics (IPAM)\"],[\"Jordan\"],[\"Eritrea\"],[\"Czechia\"],[\"Russia\"],[\"Poems For Parliament\"],[\"Sao Tome and Principe\"],[\"UNFCCC Secretariat\"],[\"Institute for Governance and Sustainable Development (IGSD)\"],[\"Papua New Guinea\"],[\"UNFCCC Secretariat\"],[\"C\\u00f4te d'Ivoire\"],[\"Institute for Sustainable Development and International Relations (IDDRI)\"],[\"External organization authors\"],[\"Finland\"],[\"Switzerland\"],[\"Poland\"],[\"World Wide Fund for Nature (WWF)\"],[\"Congo\"],[\"Algeria\"],[\"Guatemala\"],[\"Chad\"],[\"Senegal\"],[\"Climate Analytics\"],[\"Libelula Instituto para el Cambio Global\"],[\"Burkina Faso\"],[\"Tuvalu\"],[\"Chile\"],[\"International Labour Organization (ILO)\"],[\"China\"],[\"France\"],[\"Costa Rica\"],[\"Indonesia\"],[\"Seychelles\"],[\"Angola\"],[\"Sweden\"],[\"Antigua and Barbuda\"],[\"Zimbabwe\"],[\"Solomon Islands\"],[\"South Korea\"],[\"Croatia\"],[\"Egypt\"],[\"United Nations Environment Programme (UNEP)\"],[\"Central African Republic\"],[\"Grenada\"],[\"Switzerland\"],[\"Cambodia\"],[\"We Mean Business Coalition\"],[\"Malta\"],[\"Australia\"],[\"UNFCCC Secretariat\"],[\"France\"],[\"UNFCCC Secretariat\"],[\"Kazakhstan\"],[\"Equatorial Guinea\"],[\"Czechia\"],[\"UNFCCC Secretariat\"],[\"Sao Tome and Principe\"],[\"Papua New Guinea\"],[\"South Africa\"],[\"Mali\"],[\"Argentina\"],[\"Global Climate and Health Alliance (GCHA)\"],[\"Slovenia\"],[\"IPCC\"],[\"Georgia\"],[\"Canada\"],[\"European Union\"],[\"Colombia\"],[\"Philippines\"],[\"Mediators Beyond Borders International (MBBI)\"],[\"Cuba\"],[\"Guatemala\"],[\"UNFCCC Secretariat\"],[\"Romania\"],[\"Japan\"],[\"South Africa\"],[\"Gabon\"],[\"UNFCCC Secretariat\"],[\"Malaysia\"],[\"Palau\"],[\"Peru\"],[\"Ipieca\"],[\"Albania\"],[\"Resources for the Future (RFF)\"],[\"Climate Equity Reference Project Canada (CERP)\"],[\"UNFCCC Secretariat\"],[\"Turkey\"],[\"Australia\"],[\"Spain\"],[\"IPCC\"],[\"International Cryosphere Climate Initiative (ICCI),International Centre for Integrated Mountain Development (ICIMOD)\"],[\"UNFCCC Secretariat\"],[\"European Union\"],[\"Cameroon\"],[\"Germany\"],[\"Mexico\"],[\"UNFCCC Secretariat\"],[\"Marrakech Partnership\"],[\"New Zealand\"],[\"Brazil\"],[\"India\"],[\"UNFCCC Secretariat\"],[\"Guinea-Bissau\"],[\"IPCC\"],[\"Latvia\"],[\"Mozambique\"],[\"UNFCCC Secretariat\"],[\"Niue\"],[\"Micronesia\"],[\"Palestine\"],[\"Tajikistan\"],[\"United Kingdom\"],[\"Sudan\"],[\"Food and Agriculture Organization of the United Nations (FAO)\"],[\"Fiji\"],[\"UNFCCC Secretariat\"],[\"UNFCCC Secretariat\"],[\"Honduras\"],[\"Uruguay\"],[\"Sri Lanka\"],[\"Bahamas,The\"],[\"Ireland\"],[\"National Adaptation Plan (NAP) Global Network\"],[\"Liechtenstein\"],[\"Timor-Leste\"],[\"Switzerland\"],[\"UNFCCC Secretariat\"],[\"UNFCCC Secretariat\"],[\"UNFCCC Secretariat\"],[\"Montenegro\"],[\"UNFCCC Secretariat\"],[\"UNFCCC Technology Executive Committee\"],[\"Nigeria\"],[\"Nicaragua\"],[\"IPCC\"],[\"Lao People's Democratic Republic\"],[\"UNFCCC Secretariat\"],[\"Honduras\"],[\"UNFCCC Secretariat\"],[\"Sudan\"],[\"Tanzania\"],[\"Bulgaria\"],[\"Sweden\"],[\"Switzerland\"],[\"UNFCCC Secretariat\"],[\"Uruguay\"],[\"World Food Programme (WFP)\"],[\"United States of America\"],[\"Climate Action Pathway: Water\"],[\"New Zealand\"],[\"Mexico\"],[\"UNFCCC Secretariat\"],[\"IPCC\"],[\"UNFCCC Secretariat\"],[\"Liberia\"],[\"University of Saskatchewan\"],[\"Norway\"],[\"Bangladesh\"],[\"International Institute for Applied Systems Analysis (IIASA)\"],[\"Nigeria\"],[\"Morocco\"],[\"UNFCCC Secretariat\"],[\"UNFCCC Secretariat\"],[\"University of Exeter\"],[\"Kuwait\"],[\"IPCC\"],[\"UNFCCC Secretariat\"],[\"Iceland\"],[\"IPCC\"],[\"Marshall Islands\"],[\"Togo\"],[\"Australia\"],[\"Luxembourg\"],[\"Rwanda\"],[\"Bhutan\"],[\"Jamaica\"],[\"Uzbekistan\"],[\"Institute for Global Environmental Strategies (IGES),Japan Aerospace Exploration Agency (JAXA)\"],[\"Uganda\"],[\"United States of America\"],[\"North Macedonia (Republic of North Macedonia)\"],[\"Mozambique\"],[\"Drugs for Neglected Diseases initiative (DNDi)\"],[\"Azerbaijan\"],[\"Malawi\"],[\"Farmers Constituency\"],[\"UNFCCC Secretariat\"],[\"Belize\"],[\"Japan\"],[\"Dominica\"],[\"Government of Qu\\u00e9bec\"],[\"Hungary\"],[\"Botswana\"],[\"UNFCCC Secretariat\"],[\"UNFCCC Secretariat\"],[\"Mauritius\"],[\"Afghanistan\"],[\"Nepal\"],[\"Marrakech Partnership\"],[\"Turkey\"],[\"Vanuatu\"],[\"Saint Vincent and the Grenadines\"],[\"Togo\"],[\"Austria\"],[\"Bolivia\"],[\"Ukraine\"],[\"Kyrgyzstan\"],[\"Namibia\"],[\"Norway\"],[\"Global Carbon Project (GCP),Future Earth\"],[\"Denmark\"],[\"Saint Kitts and Nevis\"],[\"Italy\"],[\"UNFCCC Secretariat\"],[\"Andorra\"],[\"Climate Strategies\"],[\"Paraguay\"],[\"Saudi Arabia\"],[\"Independent Alliance of Latin America and the Caribbean (AILAC)\"],[\"UNFCCC Adaptation Committee\"],[\"IPCC\"],[\"Eswatini\"],[\"Cyprus\"],[\"Japan\"],[\"Gambia\"],[\"UNFCCC Secretariat\"],[\"Germany\"],[\"Malaysia\"],[\"UNFCCC Secretariat\"],[\"Panama\"],[\"Center for Climate and Energy Solutions (C2ES)\"],[\"Environmental Defense Fund (EDF)\"],[\"UNFCCC Secretariat\"],[\"IPCC\"],[\"UNFCCC Secretariat\"],[\"Climate Analytics\"],[\"European Union\"],[\"Colombia\"],[\"UNFCCC Secretariat\"],[\"UNFCCC Secretariat\"],[\"Ghana\"],[\"Canada\"],[\"Zambia\"],[\"Estonia\"],[\"Democratic Republic of Congo\"],[\"Romania\"],[\"Tuvalu\"],[\"Armenia\"],[\"Spain\"],[\"Gabon\"],[\"UNFCCC Secretariat\"],[\"San Marino\"],[\"Canada\"],[\"Colombia\"],[\"Papua New Guinea\"],[\"Uganda\"],[\"Plymouth Marine Laboratory (PML)\"],[\"UNFCCC Secretariat\"],[\"UNFCCC Secretariat\"],[\"Jordan\"],[\"UNFCCC Secretariat\"],[\"Zimbabwe\"],[\"Korea,North\"],[\"Eritrea\"],[\"Pakistan\"],[\"IPCC\"],[\"Canada\"],[\"Germany\"],[\"European Union\"],[\"ClimateWorks Foundation (CWF)\"],[\"International Committee of the Red Cross (ICRC)\"],[\"Papua New Guinea\"],[\"South Africa\"],[\"Turkey\"],[\"Argentina\"],[\"Moldova\"],[\"Sierra Leone\"],[\"International Electrotechnical Commission (IEC)\"],[\"Japan\"],[\"Suriname\"],[\"Cabo Verde\"],[\"India Water Foundation (IWF)\"],[\"UNFCCC Secretariat\"],[\"France\"],[\"China\"],[\"Slovenia\"],[\"External organization authors\"],[\"United Kingdom\"],[\"El Salvador\"],[\"Cook Islands\"],[\"Andorra\"],[\"Partnership on Sustainable,Low Carbon Transport (SLOCAT)\"],[\"Greece\"],[\"Cambodia\"],[\"Partnership on Sustainable,Low Carbon Transport (SLOCAT)\"],[\"Somalia\"],[\"Moldova\"],[\"High-Level Champions for Climate Action\"],[\"Sweden\"],[\"Portugal\"],[\"Andorra\"],[\"Serbia\"],[\"UNFCCC Secretariat\"],[\"Costa Rica\"],[\"Ecuador\"],[\"Argentina\"],[\"Universities Space Research Association (USRA)\"],[\"Qatar\"],[\"United Nations Environment Programme (UNEP)\"],[\"Burundi\"],[\"Chile\"],[\"Singapore\"],[\"Carbon Tracker\"],[\"Slovakia\"],[\"Conservation International (CI)\"],[\"Venezuela\"],[\"Benin\"],[\"Colombia\"],[\"ClimateWorks Foundation (CWF)\"],[\"Saint Lucia\"],[\"Australia\"],[\"International Chamber of Commerce (ICC)\"],[\"UNFCCC Secretariat\"],[\"Bosnia and Herzegovina\"],[\"Honduras\"],[\"Ukraine\"],[\"University of Exeter\"],[\"World Resources Institute (WRI)\"],[\"UNFCCC Secretariat\"],[\"Kenya\"],[\"European Space Agency (ESA)\"],[\"Mauritius\"],[\"Netherlands\"],[\"Costa Rica\"],[\"Norway\"],[\"Belize\"],[\"Italy\"],[\"International Energy Agency (IEA)\"],[\"UNFCCC Secretariat\"],[\"Institute for Sustainable Development and International Relations (IDDRI)\"],[\"Cambodia\"],[\"IPCC\"],[\"United Arab Emirates\"],[\"Least Developed Countries (LDCs),Senegal\"],[\"Thailand\"],[\"Togo\"],[\"Australia\"],[\"Rwanda\"],[\"European Commission,Slovenia\"],[\"Vanuatu\"],[\"UNFCCC Secretariat\"],[\"Antigua and Barbuda\"],[\"Kiribati\"],[\"IPCC\"],[\"UNFCCC Secretariat\"],[\"Iceland\"],[\"Bhutan\"],[\"Nauru\"],[\"IPCC\"],[\"UNFCCC Secretariat\"],[\"Like-minded Developing Countries (LMDC)\"],[\"Norway\"],[\"Namibia\"],[\"Trinidad and Tobago\"],[\"University of Melbourne (UM)\"],[\"UNFCCC Secretariat\"],[\"Center for Climate and Energy Solutions (C2ES)\"],[\"Japan\"],[\"Belgium\"],[\"Vietnam\"],[\"World Tourism Organization (UNWTO)\"],[\"Dominican Republic\"],[\"Paris Reinforce,University of Cambridge\"],[\"UNFCCC Secretariat\"],[\"Switzerland\"],[\"United Arab Emirates\"],[\"UNFCCC Secretariat\"],[\"New Zealand\"],[\"Micronesia\"],[\"IPCC\"],[\"Latvia\"],[\"UNFCCC Secretariat\"],[\"Haiti\"],[\"India\"],[\"UNFCCC Secretariat\"],[\"UNFCCC Secretariat\"],[\"Liberia\"],[\"Climate Action Network International (CAN)\"],[\"Belarus\"],[\"CarbonCare InnoLab (CCIL)\"],[\"Nigeria\"],[\"Montenegro\"],[\"UNFCCC Secretariat\"],[\"UNFCCC Secretariat\"],[\"IPCC\"],[\"Lesotho\"],[\"United States of America\"],[\"Brunei Darussalam\"],[\"Indonesia\"],[\"Sri Lanka\"],[\"United States of America\"],[\"Iraq\"],[\"Belarus\"],[\"Liechtenstein\"],[\"Tajikistan\"],[\"Japan\"],[\"Mexico\"],[\"Marrakech Partnership\"],[\"Netherlands\"],[\"Under2 Coalition\"],[\"Indonesia\"],[\"Brazil\"],[\"UNFCCC Secretariat\"],[\"Guinea\"],[\"IPCC\"],[\"Lebanon\"],[\"Israel\"],[\"Bangladesh\"],[\"Lithuania\"],[\"UNFCCC Secretariat\"],[\"UNFCCC Secretariat\"],[\"UNFCCC Secretariat\"],[\"Mongolia\"],[\"UNFCCC Facilitative Working Group (FWG) of the Local Communities and Indigenous Peoples Platform\"],[\"UNFCCC Secretariat\"],[\"Partnership on Sustainable,Low Carbon Transport (SLOCAT)\"],[\"Niger\"],[\"United Kingdom\"],[\"Luxembourg\"],[\"UN Climate Change High-Level Champions\"],[\"UNFCCC Secretariat\"],[\"High-Level Champions for Climate Action\"],[\"Jamaica\"],[\"Belgium\"],[\"ClimateWorks Foundation (CWF)\"],[\"Dominican Republic\"],[\"Norway\"],[\"Myanmar\"],[\"Ukraine\"],[\"Netherlands\"],[\"United States of America\"],[\"UNFCCC Secretariat\"],[\"International Renewable Energy Agency (IRENA)\"],[\"Togo\"],[\"Australia\"],[\"Rwanda\"],[\"Nauru\"],[\"IPCC\"],[\"UNFCCC Secretariat\"],[\"Mauritania\"],[\"Pacific Ocean Climate Crisis Assessment (POCCA)\"],[\"Thailand\"],[\"Kuwait\"],[\"IPCC\"],[\"UNFCCC Secretariat\"],[\"Iceland\"],[\"United Kingdom\"],[\"Benin\"],[\"Italy\"],[\"Vanuatu\"],[\"UNFCCC Secretariat\"],[\"Togo\"],[\"International Atomic Energy Agency (IAEA)\"],[\"Indonesia\"],[\"UNFCCC Secretariat\"],[\"IPCC\"],[\"UNFCCC Secretariat\"],[\"Thailand\"],[\"European Roundtable on Climate Change and Sustainable Transition (ERCST)\"],[\"UNFCCC Secretariat\"],[\"Namibia\"],[\"Norway\"],[\"Vietnam\"],[\"Russia\"],[\"Saint Lucia\"],[\"Trinidad and Tobago\"],[\"Austria\"],[\"Mauritius\"],[\"Nepal\"],[\"Bolivia\"],[\"Honduras\"],[\"UNFCCC Secretariat\"],[\"Kazakhstan\"],[\"Mongolia\"],[\"UNFCCC Adaptation Committee\"],[\"UNFCCC Secretariat\"],[\"Prince Albert II of Monaco Foundation\"],[\"Nicaragua\"],[\"Ireland\"],[\"Bahrain\"],[\"International Federation of Red Cross and Red Crescent Societies (IFRC)\"],[\"Lithuania\"],[\"UNFCCC Secretariat\"],[\"UNFCCC Secretariat\"],[\"UNFCCC Secretariat\"],[\"Burkina Faso\"],[\"Latvia\"],[\"IPCC\"],[\"United Kingdom\"],[\"Russia\"],[\"Sri Lanka\"],[\"United States of America\"],[\"Syria\"],[\"United States of America\"],[\"United Nations Educational,Scientific and Cultural Organization (UNESCO)\"],[\"Indonesia\"],[\"Brunei Darussalam\"],[\"Lesotho\"],[\"IPCC\"],[\"Mexico\"],[\"Marrakech Partnership\"],[\"Netherlands\"],[\"Clean Air Taskforce (CATF)\"],[\"Nigeria\"],[\"Morocco\"],[\"UNFCCC Secretariat\"],[\"UNFCCC Secretariat\"],[\"UNFCCC Secretariat\"],[\"UNFCCC Secretariat\"],[\"Liechtenstein\"],[\"Fundaci\\u00f3n Ecolog\\u00eda y Desarrollo (ECODES)\"],[\"Iran\"],[\"Gambia\"],[\"United States of America\"],[\"European Union\"],[\"Switzerland\"],[\"Uruguay\"],[\"Bangladesh\"],[\"Israel\"],[\"Lao People's Democratic Republic\"],[\"IPCC\"],[\"Haiti\"],[\"UNFCCC Secretariat\"],[\"Burkina Faso\"],[\"India\"],[\"CDP Worldwide\"],[\"New Zealand\"],[\"Mexico\"],[\"Canada\"],[\"Germany\"],[\"Comoros\"],[\"European Union\"],[\"External organization authors\"],[\"IPCC\"],[\"South Africa\"],[\"Germany\"],[\"UNFCCC Secretariat\"],[\"Georgia\"],[\"Tunisia\"],[\"Argentina\"],[\"Cyprus\"],[\"Ethiopia\"],[\"Samoa\"],[\"Papua New Guinea\"],[\"Pakistan\"],[\"UNFCCC Secretariat\"],[\"Transforma\"],[\"Mali\"],[\"UNFCCC Secretariat\"],[\"Korea,North\"],[\"International Work Group for Indigenous Affairs (IWGIA)\"],[\"Oil and Gas Climate Initiative (OGCI)\"],[\"European Union\"],[\"Colombia\"],[\"National Institute for Environmental Studies (NIES) Japan\"],[\"University of Exeter\"],[\"Organisation for Economic Co-operation and Development (OECD),International Energy Agency (IEA)\"],[\"Ghana\"],[\"Canada\"],[\"IPCC\"],[\"Zambia\"],[\"Romania\"],[\"Uganda\"],[\"Armenia\"],[\"South Sudan\"],[\"Pakistan\"],[\"Nature Conservancy (TNC),Institute for Global Environmental Strategies (IGES),Wetlands International,Japan Aerospace Exploration Agency (JAXA),Aberystwyth University,solo Earth Observation (soloEO)\"],[\"European Union\"],[\"Paraguay\"],[\"Saudi Arabia\"],[\"Germany\"],[\"Canada\"],[\"African Group Submission for the Second Technical Dialogue of the Global Stocktake\"],[\"Panama\"],[\"Eswatini\"],[\"Japan\"],[\"UNFCCC Secretariat\"],[\"Gabon\"],[\"Turkey\"],[\"Malaysia\"],[\"World Benchmarking Alliance and Climate Chance\"],[\"UNFCCC Secretariat\"],[\"Burundi\"],[\"World Health Organization (WHO),Lancet Countdown\"],[\"Chile\"],[\"Iceland\"],[\"University of Ankara\"],[\"Slovakia\"],[\"Sweden\"],[\"Cambodia\"],[\"Poland\"],[\"Andorra\"],[\"Senegal\"],[\"Moldova\"],[\"Costa Rica\"],[\"SouthSouthNorth (SSN),Adaptation Research Alliance (ARA)\"],[\"High-Level Champions for Climate Action\"],[\"Finland\"],[\"Somalia\"],[\"UNFCCC Secretariat\"],[\"International Cryosphere Climate Initiative (ICCI)\"],[\"Grenada\"],[\"Central African Republic\"],[\"Marrakech Partnership\"],[\"Cambodia\"],[\"Portugal\"],[\"Partnership on Sustainable,Low Carbon Transport (SLOCAT)\"],[\"UNFCCC Secretariat\"],[\"Argentina\"],[\"New Climate Institute for Climate Policy and Global Sustainability\"],[\"Solomon Islands\"],[\"Zimbabwe\"],[\"Plymouth Marine Laboratory (PML)\"],[\"South Korea\"],[\"South Korea\"],[\"Singapore\"],[\"Qatar\"],[\"Suriname\"],[\"France\"],[\"China\"],[\"Institute for Sustainable Development and International Relations (IDDRI),External organization authors\"],[\"Antigua and Barbuda\"],[\"El Salvador\"],[\"Bolivia\"],[\"National Institute for Environmental Studies (NIES) Japan,Japan Agency for Marine-Earth Science and Technology (JAMSTEC),Japan Meteorological Research Institute (MRI),Chiba University\"],[\"Gabon\"],[\"Albania\"],[\"Philippines\"],[\"Palestine\"],[\"UNFCCC Secretariat\"],[\"Gabon\"],[\"International Renewable Energy Agency (IRENA)\"],[\"Maldives\"],[\"Cuba\"],[\"Chile\"],[\"CDP Worldwide\"],[\"Saudi Arabia\"],[\"Cameroon\"],[\"Ghana\"],[\"Organisation for Economic Co-operation and Development (OECD)\"],[\"UNFCCC Secretariat\"],[\"Czechia\"],[\"European Union\"],[\"UNFCCC Secretariat\"],[\"Paraguay\"],[\"IPCC\"],[\"Turkey\"],[\"Climate Policy Initiative (CPI)\"],[\"Australia\"],[\"Marshall Islands\"],[\"Spain\"],[\"Kazakhstan\"],[\"Yemen\"],[\"Romania\"],[\"UNFCCC Secretariat\"],[\"Papua New Guinea\"],[\"Climate Strategies\"],[\"Sao Tome and Principe\"],[\"UNFCCC Secretariat\"],[\"Oman\"],[\"Kazakhstan\"],[\"Eritrea\"],[\"Czechia\"],[\"Russia\"],[\"Malta\"],[\"Women\\u2019s Environment and Development Organization (WEDO)\"],[\"Spain\"],[\"UNFCCC Secretariat\"],[\"UNFCCC Secretariat\"],[\"Ethiopia\"],[\"Colombia\"],[\"Nature4Climate (N4C)\"],[\"Georgia\"],[\"Canada\"],[\"Albania\"],[\"Care About Climate\"],[\"IPCC\"],[\"France\"],[\"Vietnam\"],[\"South Africa\"],[\"Tunisia\"],[\"International Chamber of Commerce (ICC)\"],[\"Suriname\"],[\"China\"],[\"Greece\"],[\"Sierra Leone\"],[\"Angola\"],[\"Costa Rica\"],[\"El Salvador\"],[\"China\"],[\"France\"],[\"Global Climate and Health Alliance (GCHA)\"],[\"International Institute for Applied Systems Analysis (IIASA)\"],[\"International Union for Conservation of Nature (IUCN)\"],[\"Congo\"],[\"World Wide Fund for Nature (WWF)\"],[\"Institute for Global Environmental Strategies (IGES)\"],[\"Chad\"],[\"Guatemala\"],[\"UNFCCC Secretariat\"],[\"Antigua and Barbuda\"],[\"Zimbabwe\"],[\"Slovenia\"],[\"Alliance of Small Island Developing States\"],[\"Lebanon\"],[\"Switzerland\"],[\"Poland\"],[\"Climate Equity Reference Project Canada (CERP)\"],[\"Finland\"],[\"Egypt\"],[\"Croatia\"],[\"UNFCCC Secretariat\"],[\"Chile\"],[\"Global Carbon Capture and Storage (CSS) Institute\"],[\"Sweden\"],[\"Burundi\"],[\"Centre for Policy Research (CPR)\"],[\"France\"],[\"Slovakia\"],[\"Equatorial Guinea\"],[\"Costa Rica\"],[\"Tonga\"],[\"Malawi\"],[\"National Institute for Environmental Studies (NIES) Japan\"],[\"Azerbaijan\"],[\"Japan\"],[\"Belize\"],[\"Venezuela\"],[\"Saint Lucia\"],[\"C\\u00f4te d'Ivoire\"],[\"Marrakech Partnership\"],[\"Mauritania\"],[\"Institute for Global Environmental Strategies (IGES),Japan Aerospace Exploration Agency (JAXA),Japan International Cooperation Agency (JICA),External organization authors,Brazilian Institute of Environment\"],[\"Kenya\"],[\"Bosnia and Herzegovina\"],[\"UNFCCC Secretariat\"],[\"UNFCCC Secretariat\"],[\"University of California,Irvine (UCI),Carbon Monitor,Laboratoire des Sciences du Climat et de l'Environnement (LSCE),Tsinghua University\"],[\"Tonga\"],[\"Australia\"],[\"UNFCCC Authors\"],[\"World Health Organization\"],[\"Denmark\"],[\"Jamaica\"],[\"Benin\"],[\"Norway\"],[\"Hungary\"],[\"Indonesia\"],[\"Ukraine\"],[\"Saint Kitts and Nevis\"],[\"Uzbekistan\"],[\"Canada\"],[\"Togo\"],[\"Australia\"],[\"Marshall Islands\"],[\"UNFCCC Secretariat\"],[\"IPCC\"],[\"IPCC\"],[\"Iceland\"],[\"Paris Reinforce,University of Cambridge\"],[\"Kyrgyzstan\"],[\"Belize\"],[\"Japan\"],[\"Dominica\"],[\"World Resources Institute (WRI)\"],[\"Samoa\"],[\"Queers X Climate,OUT for Sustainability\"],[\"Madagascar\"],[\"Center for Climate and Energy Solutions (C2ES)\"],[\"UNFCCC Secretariat\"],[\"Mozambique\"],[\"North Macedonia (Republic of North Macedonia)\"],[\"Botswana\"],[\"Iceland\"],[\"Uganda\"],[\"Kiribati\"],[\"Afghanistan\"],[\"Uruguay\"],[\"Switzerland\"],[\"Timor-Leste\"],[\"Montenegro\"],[\"UNFCCC Secretariat\"],[\"Nigeria\"],[\"Bulgaria\"],[\"Slovenia\"],[\"Lao People's Democratic Republic\"],[\"IPCC\"],[\"UNFCCC Secretariat\"],[\"Honduras\"],[\"UNFCCC Secretariat\"],[\"Monaco\"],[\"New Zealand\"],[\"UNFCCC Secretariat\"],[\"International Institute for Applied Systems Analysis (IIASA)\"],[\"Niue\"],[\"Climate Action Network International (CAN)\"],[\"International Association for Public Transport (UITP)\"],[\"Palestine\"],[\"United Arab Emirates\"],[\"Barbados\"],[\"IPCC\"],[\"UNFCCC Secretariat\"],[\"UNFCCC Secretariat\"],[\"Liberia\"],[\"Tajikistan\"],[\"International Water Management Institute (IWMI)\"],[\"United States of America\"],[\"UNFCCC Secretariat\"],[\"UNFCCC Secretariat\"],[\"UNFCCC Secretariat\"],[\"Tajikistan\"],[\"Trade Unions Non-Governmental Organizations\"],[\"French National Research Institute for Sustainable Development,French Agricultural Research Centre for International Development,Sustainable Development & International Relations,French National Research Institute for Agriculture,Food and Environment\"],[\"Guinea-Bissau\"],[\"UNFCCC Secretariat\"],[\"Lebanon\"],[\"IPCC\"],[\"United States of America\"],[\"Brazil\"],[\"Indonesia\"],[\"Marrakech Partnership\"],[\"New Zealand\"],[\"Mexico\"],[\"University of Exeter\"],[\"Niger\"],[\"Montenegro\"],[\"UNFCCC Secretariat\"],[\"UNFCCC Paris Committee on Capacity Building\"],[\"Liechtenstein\"],[\"UNFCCC Secretariat\"],[\"UNFCCC Secretariat\"],[\"Bahamas,The\"],[\"Iraq\"],[\"Nicaragua\"],[\"Monaco\"],[\"United Kingdom\"],[\"Sudan\"],[\"Myanmar\"],[\"Norway\"],[\"Belize\"],[\"Japan\"],[\"Djibouti\"],[\"Environmental Integrity Group (EIG)\"],[\"Centre for International Environment Law (CIEL)\"],[\"Azerbaijan\"],[\"Malawi\"],[\"UNFCCC Secretariat\"],[\"Institute for Global Environmental Strategies (IGES),Japan Aerospace Exploration Agency (JAXA)\"],[\"Uganda\"],[\"Rwanda\"],[\"Bhutan\"],[\"Jamaica\"],[\"Uzbekistan\"],[\"Australia\"],[\"Local Governments and Municipal Authorities (LGMA)\"],[\"Luxembourg\"],[\"IPCC\"],[\"UNFCCC Secretariat\"],[\"Iceland\"],[\"Organization of the Petroleum Exporting Countries (OPEC)\"],[\"Paris Reinforce,University of Cambridge\"],[\"Kuwait\"],[\"Marshall Islands\"],[\"IPCC\"],[\"Norway\"],[\"Centre for Policy Research (CPR),Grantham Research Institute on Climate Change and the Environment,Climate Legal\"],[\"Namibia\"],[\"UNFCCC Secretariat\"],[\"North Macedonia (Republic of North Macedonia)\"],[\"Global Climate and Health Alliance (GCHA),Health and Climate Network\"],[\"Denmark\"],[\"Saint Kitts and Nevis\"],[\"Italy\"],[\"Benin\"],[\"Ukraine\"],[\"New Zealand\"],[\"Tonga\"],[\"Austria\"],[\"Venezuela\"],[\"Saint Vincent and the Grenadines\"],[\"Saudi Arabia\"],[\"Hungary\"],[\"Botswana\"],[\"UNFCCC Secretariat\"],[\"Nepal\"],[\"Marrakech Partnership\"],[\"Afghanistan\"],[\"Liechtenstein\"],[\"Timor-Leste\"],[\"Switzerland\"],[\"UNFCCC Secretariat\"],[\"UNFCCC Secretariat\"],[\"Uruguay\"],[\"Bahrain\"],[\"Ireland\"],[\"United Nations\\u00c2 Office for Disaster Risk Reduction (UNDRR)\"],[\"National Adaptation Plan (NAP) Global Network\"],[\"Nigeria\"],[\"Montenegro\"],[\"UNFCCC Secretariat\"],[\"UNFCCC Standing Committee on Finance\"],[\"Dominica\"],[\"UNFCCC Secretariat\"],[\"UNFCCC Secretariat\"],[\"Honduras\"],[\"United Kingdom\"],[\"Sudan\"],[\"Global Alliance for the Future of Food\"],[\"Fiji\"],[\"Mozambique\"],[\"UNFCCC Secretariat\"],[\"United Kingdom\"],[\"Tajikistan\"],[\"Serbia\"],[\"Palestine\"],[\"Marrakech Partnership\"],[\"New Zealand\"],[\"Mexico\"],[\"UNFCCC Secretariat\"],[\"UNFCCC Secretariat\"],[\"Guinea-Bissau\"],[\"IPCC\"],[\"Lebanon\"],[\"Brazil\"],[\"India\"],[\"Conservation International (CI),Environmental Defense (ED),Nature Conservancy (TNC)\"],[\"Norway\"],[\"Barbados\"],[\"UNFCCC Secretariat\"],[\"UNFCCC Secretariat\"],[\"Lesotho\"],[\"Morocco\"],[\"Perry World House at the University of Pennsylvania (PWH)\"],[\"UNFCCC Secretariat\"],[\"Moldova\"],[\"United States of America\"],[\"Mexico\"],[\"Marrakech Partnership\"],[\"International Network for Sustainable Energy (INFORSE)\"],[\"New Zealand\"],[\"Uruguay\"],[\"United Nations Office for the Coordination of Humanitarian Affairs\"],[\"Switzerland\"],[\"Marshall Islands\"],[\"UNFCCC Secretariat\"],[\"Monaco\"],[\"New Zealand\"],[\"France\"],[\"Tanzania\"],[\"Bulgaria\"],[\"Fundaci\\u00f3n Avina\"],[\"United States of America\"],[\"IPCC\"],[\"Lao People's Democratic Republic\"],[\"UNFCCC Secretariat\"],[\"Honduras\"],[\"UNFCCC\"],[\"IPCC\"],[\"European Union\"],[\"Colombia\"],[\"Georgia\"],[\"Canada\"],[\"South Africa\"],[\"Tunisia\"],[\"Mali\"],[\"UNFCCC Secretariat\"],[\"Argentina\"],[\"World Resources Institute (WRI)\"],[\"Paraguay\"],[\"Sao Tome and Principe\"],[\"Kazakhstan\"],[\"Equatorial Guinea\"],[\"Czechia\"],[\"Malta\"],[\"Climate Equity Reference Project Canada (CERP)\"],[\"UNFCCC Secretariat\"],[\"France\"],[\"UNFCCC Secretariat\"],[\"UNFCCC Secretariat\"],[\"Oman\"],[\"IPCC\"],[\"Center for Climate and Energy Solutions (C2ES)\"],[\"Cameroon\"],[\"Ghana\"],[\"OpenEarth Foundation,Nature4Climate\"],[\"UNFCCC Secretariat\"],[\"Switzerland\"],[\"European Union\"],[\"Institute for Sustainable Development and International Relations (IDDRI),Inter-American Development Bank (IADB)\"],[\"Ocean and Climate Platform,International Union for Conservation of Nature (IUCN),Conservation International (CI),World Wide Fund for Nature (WWF),Plymouth Marine Laboratory (PML),Nature Conservancy (TNC)\"],[\"Turkey\"],[\"Australia\"],[\"Spain\"],[\"Russia\"],[\"Albania\"],[\"Climate Equity Reference Project Canada (CERP)\"],[\"Peru\"],[\"Climate Equity Reference Project Canada (CERP)\"],[\"United States of America\"],[\"South Africa\"],[\"Gabon\"],[\"UNFCCC Secretariat\"],[\"UNFCCC Authors\"],[\"Maldives\"],[\"Cuba\"],[\"Spain\"],[\"Romania\"],[\"Bhutan,Nepal\"],[\"King Abdullah Petroleum Studies and Research Center (KAPSARC)\"],[\"Palau\"],[\"Greece\"],[\"Chile\"],[\"Climate Equity Reference Project Canada (CERP)\"],[\"Overseas Development Institute (ODI)\"],[\"Burkina Faso\"],[\"Singapore\"],[\"Algeria\"],[\"Guatemala\"],[\"Senegal\"],[\"Sweden\"],[\"Poland\"],[\"UNFCCC Secretariat\"],[\"Congo\"],[\"UNFCCC Secretariat\"],[\"Project Drawdown\"],[\"Finland\"],[\"Croatia\"],[\"Switzerland\"],[\"Cambodia\"],[\"UNFCCC Secretariat\"],[\"We Mean Business Coalition\"],[\"CONSTRAIN,PROVIDE,and ESM2025\"],[\"Central African Republic\"],[\"South Korea\"],[\"Cuba\"],[\"Egypt\"],[\"Antigua and Barbuda\"],[\"Finland\"],[\"Zimbabwe\"],[\"Slovenia\"],[\"Portugal\"],[\"Suriname\"],[\"Seychelles\"],[\"Angola\"],[\"International Institute for Applied Systems Analysis (IIASA)\"],[\"Costa Rica\"],[\"El Salvador\"],[\"China\"],[\"France\"],[\"International Energy Agency (IEA)\"],[\"United States of America\"],[\"Brunei Darussalam\"],[\"IPCC\"],[\"Lesotho\"],[\"Youth Non-Governmental Organizations (YOUNGO),Nationally Determined Contributions (NDCs) Working Group,Care About Climate (CAC)\"],[\"Belarus\"],[\"UNFCCC Secretariat\"],[\"IPCC\"],[\"UNFCCC Secretariat\"],[\"Liberia\"],[\"Morocco\"],[\"UNFCCC Secretariat\"],[\"UNFCCC Secretariat\"],[\"CarbonCare InnoLab (CCIL)\"],[\"Nigeria\"],[\"Micronesia\"],[\"New Zealand\"],[\"IPCC\"],[\"Latvia\"],[\"UNFCCC Secretariat\"],[\"Guyana\"],[\"Switzerland\"],[\"Thailand\"],[\"United Kingdom\"],[\"Lithuania\"],[\"UNFCCC Secretariat\"],[\"UNFCCC Secretariat\"],[\"UNFCCC Secretariat\"],[\"Israel\"],[\"Bangladesh\"],[\"Global CCS Institute\"],[\"Stockholm University\"],[\"Niger\"],[\"Mongolia\"],[\"UNFCCC Katowice Committee of Experts on Impact of Implementation of Response Measures\"],[\"UNFCCC Secretariat\"],[\"Climate Action Pathway: Energy\"],[\"Netherlands\"],[\"United States of America\"],[\"UNFCCC Secretariat\"],[\"Guinea\"],[\"IPCC\"],[\"Lebanon\"],[\"Indonesia\"],[\"Brazil\"],[\"Liechtenstein\"],[\"Tajikistan\"],[\"North Macedonia (Republic of North Macedonia)\"],[\"Sri Lanka\"],[\"United States of America\"],[\"Iraq\"],[\"Nauru\"],[\"IPCC\"],[\"Mauritania\"],[\"Thailand\"],[\"United Arab Emirates\"],[\"African Group,Zambia\"],[\"Costa Rica\"],[\"International Renewable Energy Agency (IRENA)\"],[\"UNFCCC Secretariat\"],[\"Oil Change International\"],[\"Austria\"],[\"Kenya\"],[\"Bosnia and Herzegovina\"],[\"Ukraine\"],[\"UNFCCC Secretariat\"],[\"Nepal\"],[\"Mauritius\"],[\"South Korea\"],[\"Trinidad and Tobago\"],[\"Austria\"],[\"The LANCET Countdown on Health and Climate Change\"],[\"UNFCCC Secretariat\"],[\"Vietnam\"],[\"Belgium\"],[\"Institute for Sustainable Development and International Relations (IDDRI)\"],[\"Saint Lucia\"],[\"Uganda\"],[\"UNFCCC Secretariat\"],[\"Paris Reinforce,University of Cambridge\"],[\"UNFCCC Secretariat\"],[\"Namibia\"],[\"Norway\"],[\"Japan\"],[\"Belgium\"],[\"Russia\"],[\"Vietnam\"],[\"Stockholm Environment Institute (SEI)\"],[\"Dominican Republic\"],[\"Tunisia\"],[\"Madagascar\"],[\"Care About Climate (CAC)\"],[\"UNFCCC Secretariat\"],[\"IPCC\"],[\"UNFCCC Secretariat\"],[\"Iceland\"],[\"Bhutan\"],[\"Kuwait\"],[\"Marshall Islands\"],[\"IPCC\"],[\"UNFCCC Secretariat\"],[\"Rwanda\"],[\"Vanuatu\"],[\"Togo\"],[\"Australia\"],[\"UNFCCC Secretariat\"],[\"Armenia\"],[\"Oman\"],[\"United Nations Educational,Scientific and Cultural Organization (UNESCO)\"],[\"South Korea\"],[\"Somalia\"],[\"Cambodia\"],[\"Aviva Investors\"],[\"Greece\"],[\"International Cryosphere Climate Initiative (ICCI)\"],[\"UNFCCC Secretariat\"],[\"El Salvador\"],[\"Cook Islands\"],[\"China\"],[\"Slovenia\"],[\"International Labour Organization (ILO)\"],[\"Suriname\"],[\"Cabo Verde\"],[\"Singapore\"],[\"Russia\"],[\"IPCC\"],[\"United Nations Development Programme (UNDP)\"],[\"Slovakia\"],[\"Organization of the Petroleum Exporting Countries (OPEC)\"],[\"Chile\"],[\"Singapore\"],[\"International Centre for Integrated Mountain Development (ICIMOD)\"],[\"Qatar\"],[\"Global Alliance for the Future of Food\"],[\"Burundi\"],[\"UNFCCC Secretariat\"],[\"Argentina\"],[\"Fiji\"],[\"Costa Rica\"],[\"Ecuador\"],[\"Andorra\"],[\"Serbia\"],[\"Sweden\"],[\"Turkmenistan\"],[\"Armenia\"],[\"South Sudan\"],[\"NDC ASPECTS\"],[\"Gabon\"],[\"UNFCCC Secretariat\"],[\"Zambia\"],[\"Estonia\"],[\"Democratic Republic of Congo\"],[\"Romania\"],[\"IPCC\"],[\"Center for Climate and Energy Solutions (C2ES)\"],[\"International Council on Monuments and Sites (ICOMOS)\"],[\"Ghana\"],[\"Canada\"],[\"UNFCCC Secretariat\"],[\"International Union for Conservation of Nature (IUCN)\"],[\"European Union\"],[\"Colombia\"],[\"Gambia\"],[\"UNFCCC Secretariat\"],[\"Germany\"],[\"Malaysia\"],[\"UNFCCC Secretariat\"],[\"Eswatini\"],[\"Cyprus\"],[\"Japan\"],[\"Plymouth Marine Laboratory (PML)\"],[\"Panama\"],[\"Saudi Arabia\"],[\"Paraguay\"],[\"IPCC\"],[\"Panama\"],[\"Moldova\"],[\"South Africa\"],[\"Turkey\"],[\"Argentina\"],[\"IPCC\"],[\"Comoros\"],[\"European Union\"],[\"World Resources Institute (WRI)\"],[\"Canada\"],[\"Germany\"],[\"Jordan\"],[\"UNFCCC Secretariat\"],[\"Zambia\"],[\"Korea,North\"],[\"Eritrea\"],[\"Uganda\"],[\"Global Alliance for National Human Rights Institutions (GANHRI)\"],[\"Malta\"],[\"UNFCCC Secretariat\"],[\"Pakistan\"],[\"Colombia\"],[\"Papua New Guinea\"],[\"United Nations High Commissioner for Human Rights (OHCHR)\"],[\"San Marino\"],[\"Iceland\"],[\"Center for Climate and Energy Solutions (C2ES)\"],[\"Local Governments and Municipal Authorities (LGMA)\"],[\"Finland\"],[\"Somalia\"],[\"North Macedonia (Republic of North Macedonia)\"],[\"C\\u00f4te d'Ivoire\"],[\"UNFCCC Secretariat\"],[\"Andorra\"],[\"Transforma,External organization authors\"],[\"Ghana\"],[\"Serbia\"],[\"Sweden\"],[\"Cambodia\"],[\"Portugal\"],[\"India Water Foundation\"],[\"United States of America\"],[\"Slovakia\"],[\"Singapore\"],[\"European Space Agency\\u00a0(ESA)\"],[\"UNFCCC Secretariat\"],[\"C\\u00f4te d'Ivoire\"],[\"University of Durham\"],[\"Egypt\"],[\"Bolivia\"],[\"France\"],[\"China\"],[\"United Nations Environment Programme (UNEP)\"],[\"Antigua and Barbuda\"],[\"UNFCCC Secretariat\"],[\"Qatar\"],[\"France\"],[\"Singapore\"],[\"Eritrea\"],[\"South Korea\"],[\"UNFCCC Secretariat\"],[\"King Abdullah Petroleum Studies and Research Center (KAPSARC)\"],[\"Solomon Islands\"],[\"Chile\"],[\"Cambodia\"],[\"Portugal\"],[\"Vote Climate One\"],[\"World Green Building Council (WorldGBC)\"],[\"Grenada\"],[\"Seychelles\"],[\"UNFCCC Secretariat\"],[\"Jordan\"],[\"Democratic Republic of Congo\"],[\"Estonia\"],[\"University of Maryland\"],[\"Malta\"],[\"UNFCCC Secretariat\"],[\"IPCC\"],[\"Papua New Guinea\"],[\"Uruguay\"],[\"Samoa\"],[\"Cyprus\"],[\"Ethiopia\"],[\"Moldova\"],[\"South Africa\"],[\"Germany\"],[\"UNFCCC Secretariat\"],[\"Gambia\"],[\"Tunisia\"],[\"Argentina\"],[\"Comoros\"],[\"European Union\"],[\"Canada\"],[\"Panama\"],[\"UNFCCC Secretariat\"],[\"Gabon\"],[\"Germany\"],[\"Turkey\"],[\"Malaysia\"],[\"Bezos Earth Fund,ClimateWorks Foundation,Climate Action Tracker,Climate Analytics,NewClimate Institute,the United Nations Climate Change High-Level Champions,and World Resources Institute\"],[\"Eswatini\"],[\"Cyprus\"],[\"Japan\"],[\"Germany\"],[\"Canada\"],[\"Peru\"],[\"Tuvalu\"],[\"Armenia\"],[\"South Sudan\"],[\"Morocco\"],[\"Zambia\"],[\"Romania\"],[\"Pakistan\"],[\"Partnership on Sustainable,Low Carbon Transport (SLOCAT)\"],[\"Institutional Investors Group on Climate Change (IIGCC)\"],[\"Organisation for Economic Co-operation and Development (OECD)\"],[\"Canada\"],[\"International Work Group for Indigenous Affairs (IWGIA)\"],[\"United Nations\\u00a0Office for Disaster Risk Reduction (UNDRR)\"],[\"Canada\"],[\"Colombia\"],[\"National Institute for Environmental Studies (NIES) Japan\"],[\"IPCC\"],[\"Center for Climate and Energy Solutions (C2ES)\"],[\"Guatemala\"],[\"UNFCCC Secretariat\"],[\"Lesotho\"],[\"IPCC\"],[\"Indonesia\"],[\"Brazil\"],[\"Marrakech Partnership\"],[\"Netherlands\"],[\"Mexico\"],[\"Syria\"],[\"United States of America\"],[\"Sri Lanka\"],[\"United States of America\"],[\"Latvia\"],[\"IPCC\"],[\"United Kingdom\"],[\"United Kingdom\"],[\"India\"],[\"Nicaragua\"],[\"Mongolia\"],[\"UNFCCC Consultative Group of Experts\"],[\"UNFCCC Secretariat\"],[\"Lithuania\"],[\"UNFCCC Secretariat\"],[\"UNFCCC Secretariat\"],[\"UNFCCC Secretariat\"],[\"Ireland\"],[\"Bahrain\"],[\"Institute for Global Environmental Strategies (IGES)\"],[\"India\"],[\"Togo\"],[\"CONSTRAIN (Constraining Uncertainty of Multi-Decadal Climate Projections)\"],[\"Lao People's Democratic Republic\"],[\"IPCC\"],[\"Haiti\"],[\"UNFCCC Secretariat\"],[\"Gabon\"],[\"New Zealand\"],[\"Uruguay\"],[\"Bangladesh\"],[\"Israel\"],[\"Netherlands\"],[\"Switzerland\"],[\"Tanzania\"],[\"Morocco\"],[\"UNFCCC Secretariat\"],[\"UNFCCC Secretariat\"],[\"Nigeria\"],[\"Belarus\"],[\"UNFCCC Secretariat\"],[\"UNFCCC Secretariat\"],[\"Liechtenstein\"],[\"Institute for Global Environmental Strategies (IGES),Japan Aerospace Exploration Agency (JAXA)\"],[\"Mauritania\"],[\"Nauru\"],[\"IPCC\"],[\"UNFCCC Secretariat\"],[\"IPCC\"],[\"UNFCCC Secretariat\"],[\"Iceland\"],[\"United Arab Emirates\"],[\"Thermal Storage UK\"],[\"Thailand\"],[\"Arab Group,Kuwait\"],[\"Djibouti\"],[\"Rwanda\"],[\"European Union,France,European Commission\"],[\"Uzbekistan\"],[\"UNFCCC Secretariat\"],[\"International Centre for Integrated Mountain Development (ICIMOD)\"],[\"Togo\"],[\"Australia\"],[\"United Kingdom\"],[\"Mauritius\"],[\"Netherlands\"],[\"Jamaica\"],[\"Belgium\"],[\"Adaptation Research Alliance (ARA)\"],[\"Dominican Republic\"],[\"Luxembourg\"],[\"Carbon Neutrality Coalition (CNC)\"],[\"UNFCCC Secretariat\"],[\"Center for Climate and Energy Solutions (C2ES)\"],[\"Myanmar\"],[\"Norway\"],[\"Nepal\"],[\"Marrakech Partnership\"],[\"NewClimate Institute for Climate Policy and Global Sustainability\"],[\"Mauritius\"],[\"India,Like-minded Developing Countries (LMDC)\"],[\"Kazakhstan\"],[\"Overseas Development Institute (ODI)\"],[\"Bolivia\"],[\"Honduras\"],[\"UNFCCC Secretariat\"],[\"Norway\"],[\"Compilation and synthesis of fourth biennial reports of Parties included in Annex I to the Convention\"],[\"Venezuela\"],[\"Trinidad and Tobago\"],[\"Austria\"],[\"Vietnam\"],[\"Norway\"],[\"Saint Lucia\"],[\"UNFCCC Secretariat\"],[\"Ukraine\"],[\"Climate Equity Reference Project Canada (CERP)\"],[\"UNFCCC Secretariat\"],[\"Togo\"],[\"Woodwell Climate Research Center\"],[\"Portugal\"],[\"Denmark\"],[\"Benin\"],[\"Vanuatu\"]],\"hovertemplate\":\"<b>%{hovertext}</b><br><br>x=%{x}<br>y=%{y}<br>authors=%{customdata[0]}<br>color=%{marker.color}<extra></extra>\",\"hovertext\":[\"Guyana First NDC\",\"Technical analysis of the first biennial update report of Cambodia submitted on 14 August 2020. Summary report by the team of technical experts\",\"The government of Japan Submission to the Technical Dialogue of the First Global Stocktake\",\"NIS to BUR3. Republic of Moldova.\",\"CAD2.0 Technical Dialogue inputs for the GST: University of North Carolina - Chapel Hill Research\",\"Facilitative sharing of views record - BUR3 Brazil\",\"AR6 Synthesis Report: Annex II: Acronyms, Chemical Symbols and Scientific Units\",\"Technical analysis of the fourth biennial update report of Argentina submitted on 31 December 2021. Summary report by the team of technical experts\",\"Technical analysis of the third biennial update report of Uruguay submitted on 31 December 2019. Summary report by the team of technical experts\",\"Liberia. Biennial update report (BUR). BUR 1.\",\"Tajikistan. National Communication (NC). NC 4.\",\"Submission for the first input phase of the global stocktake: International Network for Sustainable Energy\",\"State of Palestine. National Communication (NC). NC 1.\",\"Updated NDC Serbia\",\"Barbados First NDC (Updated submission)\",\"Kyrgyzstan. National Communication (NC). NC 3.\",\"Annex III: Contributors to the IPCC Special Report on Climate Change and Land\",\"Annual compilation and accounting report for Annex B Parties under the Kyoto Protocol for 2020. Note by the secretariat\",\"Honduras. Biennial update report (BUR). BUR1 - Technical Annex i\",\"Technical analysis of the first biennial update report of Lesotho submitted on 9 November 2021. Summary report by the team of technical experts\",\"Bulgaria. 2022 National Inventory Report (NIR)\",\"Fiji First NDC (Archived)\",\"Submission by ICOMOS on behalf of the Climate Heritage Network\",\"New Zealand\\u2019s Fast-Start Finance: 2011 Progress Report\",\"Monaco First NDC (Updated submission)\",\"Switzerland. National Communication (NC). NC 8. Biennial Reports (BR). BR 5.\",\"Tile Til Eo - 2050 Climate Strategy \\\"Lighting the way\\\" - Press release\",\"Uruguay. Biennial update report (BUR). BUR 4.\",\"NDC update cover letter\",\"Montenegro. Biennial update report (BUR). BUR 3.\",\"Constituted Body GST synthesis report: WIM ExCom Synthesis report for the technical assessment component of the first GST\",\"Facilitative sharing of views record - BUR2 Ghana\",\"Climate Action Network's Submission for the First Input Phase of the Global Stocktake\",\"ACTUALIZACI\\u00d3N DE CONTRIBUCIONES\",\"United Kingdom. National Communication (NC). NC 8. Biennial Reports (BR). BR 5.\",\"Sudan. National Communication (NC). NC 2.\",\"Mongolia. National Communication (NC). NC 3.\",\"Facilitative sharing of views record - BUR2 Azerbaijan\",\"Constituted Body GST Synthesis Report: LEG synthesis report for the technical assessment component of the first global stocktake\",\"Global Transport and Climate Change: Transport and Climate Change Global Status Report - 2nd edition from the Partnership on Sustainable Low Carbon Transport (SLoCaT)\",\"Niger First NDC (Updated submission)\",\"Bahamas First NDC\",\"Ireland. 2021 National Inventory Report (NIR)\",\"Liechtenstein. 2022 National Inventory Report (NIR)\",\"Technical analysis of the first biennial update report of Tajikistan submitted on 18 July 2019. Summary report by the team of technical experts\",\"United States of America. Biennial Reports (BR). BR 1. National Communication (NC). NC 6 - Methodology I\",\"Brazil. Biennial update report (BUR). BUR4 - Technical Annex I\",\"India's Long-Term Low-Carbon Development Strategy\",\"Guinea-Bissau First NDC (Archived)\",\"Technical analysis of the first biennial update report of Belize submitted on 5 May 2021. Summary report by the team of technical experts\",\"Lebanon First NDC (Updated submission)\",\"Chapter 1: Framing and Context\",\"Mexico. Biennial update report (BUR) BUR 2. National Communication (NC). NC6 - Annex\",\"Climate Action Pathway: Transport. Action Table\",\"New Zealand. 2021 National Inventory Report (NIR)\",\"Submission of information to the 1st Global Stocktake: Data products from prototype systems of the EU-funded CoCO2 project\",\"United States of America's Adaptation communication\",\"State of Palestine First NDC (Archived)\",\"Technical report on the technical analysis of the technical annex to the first biennial update report of Honduras submitted in accordance with decision 14/CP.19, paragraph 7, on 19 November 2020 - Part 1\",\"Technical analysis of the fourth biennial update report of Singapore submitted on 27 December 2020. Summary report by the team of technical experts\",\"The Republic of North Macedonia First NDC (Updated submission)\",\"Tajikistan. Biennial update report (BUR). BUR 1.\",\"Ukraine. 2022 National Inventory Report (NIR)\",\"Submission to the UNFCCC Global Stocktake - Adaptation Research Alliance\",\"Denmark. 2022 National Inventory Report (NIR)\",\"Jamaica First NDC (Updated submission)\",\"Technical analysis of the second biennial update report of Malaysia submitted on 27 September 2018. Summary report by the team of technical experts\",\"Low-Carbon Development Strategy of the Slovak Republic until 2030 with a View to 2050\",\"Australia\\u2019s Fast-Start Climate Finance: Investing in Effective and Sustainable Climate Outcomes (Updated Version)\",\"Submission from the International Development Law Organization (IDLO) to the global stocktake\",\"Norwegian Climate Finance 2010\",\"Joint Submission to the first Global Stocktake: Real-time anthropogenic emission observations from Japanese passenger aircrafts in support of the monitoring of the climate mitigation progress The Japan Aerospace Exploration Agency (JAXA), ANA HOLDINGS INC.(ANAHD), and the Institute for the Global Environmental Strategies (IGES)\",\"Accompanying information: Australian National Climate Resilience and Adaptation Strategy\",\"NDC revised(Updated submission)\",\"Climate Action Pathway. Finance. Action Table\",\"Hungary. 2021 National Inventory Report (NIR)\",\"Bosnia and Herzegovina. National Communication (NC). NC 3.\",\"Nationally determined contributions under the Paris Agreement. Synthesis report by the secretariat\",\"Kenya. National Communication (NC). NC 2.\",\"Air Transport Action Group (ATAG) to the First Global Stocktake\",\"Japan's Adaptation communication\",\"Belize. Biennial update report (BUR). BUR 1. National inventory report.\",\"Strat\\u00e9gie \\u00e0 long terme de la Belgique\",\"NOTA VERBAL CMNUCC NDC Actualizada Venezuela\",\"Saint Lucia. National Communication (NC). NC 3.\",\"Tonga Second NDC\",\"Malawi. National communication (NC). NC 3\",\"NDC Aspects submission to the GST: Enhancing International Cooperation through a Sectoral Perspective\",\"Austria's Adaptation communication\",\"Kiribati Enhanced NDC\",\"Brazil First NDC - Second update\",\"Uganda. National Communication (NC). NC 3.\",\"Afghanistan. Biennial update report (BUR). BUR 1. National inventory report.\",\"Submission from Iberdrola to the first GST\",\"Malawi First NDC (Archived)\",\"The Glasgow Financial Alliance for Net Zero: Our progress and plan towards a net-zero global economy\",\"Technical analysis of the second biennial update report of Bosnia and Herzegovina submitted on 13 June 2017. Summary report by the team of technical experts.\",\"Belize First NDC (Archived)\",\"Japan. 2021 National Inventory Report (NIR)\",\"Dominican Republic First NDC (Archived)\",\"Submission to the First Global Stocktake: The International Transport Forum (ITF)\",\"Samoa First NDC (Archived)\",\"North Macedonia. Biennial update report (BUR). BUR 3.\",\"Mozambique First NDC (Updated submission)\",\"FSV1 record - Antigua and Barbuda\",\"Annex IV: Modes of Variability\",\"Marshall Islands. National Communication (NC). NC 2.\",\"The University of Cambridge on behalf of the PARIS REINFORCE project: input to the first global stocktake: SYR (b) The overall effect of Parties\\u00e2\\u20ac\\u2122 NDCs and overall progress made by Parties towards the implementation of their NDCs, including the information referred to in Article 13, para 7(b), of the Paris Agreement (will include information on the adaptation efforts of developing country Parties)\",\"Kyrgyzstan First NDC (Archived)\",\"Updated synthesis report by the KCI: Inputs to the technical assessment component of the first global stocktake on the impacts of the implementation of response measures\",\"Chapter 1: Framing and Context of the Report\",\"National Urban Mobility Policies and Investment Programmes in support of Climate Commitments in Latin America and the Caribbean\",\"Iceland\\u2019s Fast Start Finance \\u2013 Status August 2013\",\"Timor-Leste's Adaptation communication\",\"Australia's Fast-Start Finance Progress Report\",\"Rwanda's Adaptation communication\",\"Uzbekistan First NDC (Archived)\",\"Submission by Canada: First Technical Dialogue under the Global Stocktake\",\"Facilitative sharing of views record 2 - Thailand\",\"Zimbabwe First NDC (Updated submission)\",\"Slovenia. Biennial Reports (BR). BR 3. National Communication (NC). NC 7.\",\"Republic of Korea First NDC (Archived)\",\"Inputs for the First Global Stocktake Submission by the International Union for Conservation of Nature (IUCN) - February 2022\",\"Birdlife International submission to the first global stocktake\",\"Chad First NDC (Updated submission)\",\"Cabo Verde. National Communication (NC). NC 3.\",\"Congo First NDC (Updated submission)\",\"Woodwell Climate Research Center, Arctic Initiative at Harvard Kennedy School, Alaska Institute for Justice: Submission to the First Input Phase of the Global Stocktake\",\"China. National communication (NC). NC 3.\",\"France. 2022 National Inventory Report (NIR)\",\"Urban Development and the African NDCs: From national commitments to City Climate Actions\",\"Costa Rica First NDC (Archived)\",\"El Salvador. National Communication (NC). NC 3.\",\"IIASA Policy Brief 30: Avoiding overshoot: why and how - Submission to the Global Stocktake\",\"China First NDC (Updated submission letter)\",\"Greece. 2022 National Inventory Report (NIR)\",\"Sierra Leone First NDC (Archived)\",\"Angola First NDC (Archived)\",\"Contribuci\\u00f3n Nacionalmente Determinada de Guatemala(Updated submission)\",\"Suriname. Biennial update report (BUR). BUR 1 - Technical Annex II\",\"Equatorial Guinea NDC 2022 Update\",\"Costa Rica. Biennial update report (BUR). BUR 2.\",\"France. National Communication (NC). NC 7.\",\"China's submission to the global stocktake\",\"Slovakia. 2022 National Inventory Report (NIR)\",\"Sweden. Biennial report (BR). BR 4\",\"Burundi First NDC (Archived)\",\"Urban climate action, the urban content of the NDCs: Global review 2022\",\"Chile. Biennial update report (BUR). BUR4.\",\"Submission in response to the call for inputs to the first Global Stocktake - The Fossil Fuel Non-Proliferation Treaty Initiative\",\"Egypt. Biennial update report (BUR). BUR 1.\",\"Croatia. 2022 National Inventory Report (NIR)\",\"Addendum to the synthesis report for the technical assessment component of the first global stocktake: Overall effect of Parties\\u2019 NDCs and overall progress made by Parties towards the implementation of their NDCs, including the information referred to in Article 13, paragraph 7(b), of the Paris Agreement\",\"Finland. National Communication (NC). NC 8.\",\"Facilitative sharing of views record - Nigeria\",\"Communication and update on Switzerland's NDC\",\"Algeria. National Communication (NC). NC 2.\",\"Estrategia clim\\u00e1tica de largo plazo de Chile  / Chile's Long -Term Climate Strategy\",\"Kazakhstan. Biennial report (BR). BR 4\",\"Yemen. National Communication (NC). NC 3.\",\"Russian Federation First NDC\",\"Turkmenistan First NDC\",\"Group of Governance on Climate Change of the Universitat Polit\\u00e8cnica de Catalunya - Fairness, including equity, and ambition in the mitigation component of the Paris Agreement\",\"Australia NDC Letter to UNFCCC\",\"Marshall Islands First NDC (Archived)\",\"Spain. Biennial report (BR). BR 4\",\"iGST submission: Negotiator Briefing: A Needs-Based Approach to Loss and Damage\",\"Record of the facilitative sharing of views at the fifty - second to fifty - fifth session of the Subsidiary Body for Implementation: India (FSVR3)\",\"Collective Input to the Global Stocktake Submission by the Islamic Republic of Pakistan on behalf of the Group of 77 and China\",\"European Union. 2021 National Inventory Report (NIR)\",\"Paraguay First NDC (Updated submission)\",\"Shifting Public Financial Flows from Fossil Fuels to Clean Energy under the Paris Agreement International Institute for Sustainable Development Energy Program Submission to the UNFCCC First Global Stocktake\",\"Saudi Arabia First NDC (Archived)\",\"Cameroon. National Communication (NC). NC 2.\",\"Ghana First NDC (Archived)\",\"Panama First NDC (Archived)\",\"Cuba First NDC (Updated submission)\",\"ESTRATEGIA CLIM\\u00c3\\u0081TICA DE LARGO PLAZO DE PARA UN DESARROLLO BAJO EN EMISIONES DE GASES DE EFECTO INVERNADERO Y RESILIENTE AL CLIMA URUGUAY\",\"Technical analysis of the third biennial update report of Chile submitted on 3 December 2018. Summary report by the team of technical experts\",\"Gabon. Biennial update report (BUR). BUR 1 - Technical Annex\",\"Armenia First NDC (Archived)\",\"Submission to the UNFCCC Global Stocktake Inconsistencies in national greenhouse gas emissions reports and their potential effect on the Global Stocktake\",\"Maldives First NDC (Updated submission)\",\"Peru. National Communication (NC). NC 3.\",\"Technical analysis of the first biennial update report of Rwanda submitted on 29 December 2021. Summary report by the team of technical experts\",\"Second Update of First Nationally Determined Contribution\",\"Albania First NDC (Archived)\",\"South Africa.Biennial update report (BUR). BUR 3. National inventory report.\",\"Tunisia's Updated NDC: Executive summary\",\"Argentina. Biennial update report (BUR). BUR 4.\",\"Revised national low carbon strategy of France\",\"Viet Nam. National Communication (NC). NC 3.\",\"Georgia First NDC (Updated submission)\",\"Canada. Biennial report (BR). BR 4\",\"Albania. National Communication (NC). NC 3.\",\"University of Exeter global stocktake submission - global carbon budget\",\"Ethiopia First NDC (Updated submission)\",\"Colombia. Biennial update report (BUR). BUR3.\",\"IDDRI submission to the GST on behalf of the IMAGINE project\",\"Annex II: Definitions, Units and Conventions\",\"Oman. Biennial update report (BUR). BUR 1.\",\"Nationally Determined Contribution of Turkmenistan under the Paris Agreement\",\"Biennial in-session workshop on information to be provided by Parties in accordance with Article 9, paragraph 5, of the Paris Agreement. Summary report by the secretariat\",\"Malta. Biennial Reports (BR). BR 5.\",\"Nationally determined contributions under the Paris Agreement. Synthesis report by the secretariat. Addendum. Additional information on domestic mitigation measures\",\"Technical analysis of the second biennial update report of Togo submitted on 13 December 2021. Summary report by the team of technical experts\",\"Proposed responses of the International Platform on Adaptation Metrics (IPAM) to the Guiding questions by the SB Chairs for the Technical Assessment component of the first Global Stocktake\",\"Jordan. National Communication (NC). NC 3.\",\"Eritrea. Biennial update report (BUR). BUR 1.\",\"Czechia. Biennial Report (BR). BR 3. National Communication (NC). NC 7.\",\"Russian Federation. National Communication (NC). NC 7.\",\"Submission to the Paris Climate agreement Global Stocktake - Poems for Parliament\",\"Sao Tome and Principe First NDC (Archived)\",\"Record of the facilitative sharing of views at the fifty-second to fifty-fifth session of the Subsidiary Body for Implementation: Tajikistan (FSVR1)\",\"Submission by Institute for Governance & Sustainable Development (IGSD) to the Global Stocktake\",\"Papua New Guinea. Biennial update report (BUR). BUR2.\",\"Facilitative sharing of views record -BUR2 Montenegro\",\"C\\u00f4te d'Ivoire. National Communication (NC). NC 3.\",\"Second IDDRI submission to the GST\",\"Submission to the UNFCCC global stocktake: Military and conflict emissions - Submission from Tipping Point North South, Conflict and Environmental Observatory, Scientists for Global Responsibility, Costs of War, Transform Defence, Concrete Impacts, WILPF, ZOi, Norwegian People's Aid\",\"Finland. National Communication (NC). NC 7.\",\"Switzerland \\u2013 Fast Start Financing (Status June 8th 2011)\",\"Poland. 2022 National Inventory Report (NIR)\",\"WWF response to the call for inputs to the first Global Stocktake (2)\",\"Congo. National Communication (NC). NC 2.\",\"Algeria First NDC\",\"Guatemala First NDC (Archived)\",\"Chad. National communication (NC). NC 3.\",\"lettre de trans Rapport CDN S\\u00e9n\\u00e9gal\",\"Non-Party Stakeholder Submission to the Global Stocktake: Climate Analytics\",\"Towards low-emission development and climate resilient in Latin America and the Caribbean: Advances in national strategies\",\"Burkina Faso. National Communication (NC). NC 3\",\"Government of Tuvalu Updated Nationally Determined Contribution\",\"Chile's Adaptation Communication\",\"ILO Global Stocktake. Advancing climate action with decent work and a just transition for all. Submission by the International Labour Office\",\"China's Mid-Century Long-Term Low Greenhouse Gas Emission Development Strategy\",\"France. Biennial report (BR). BR 4\",\"Costa Rica First NDC (Updated submission)\",\"Enhanced NDC Cover Letter\",\"Seychelles First NDC (Updated submission)\",\"Angola. National Communication (NC). NC 1.\",\"Sweden. 2021 National Inventory Report (NIR)\",\"Antigua and Barbuda. National Communication (NC). NC 3.\",\"Zimbabwe. National Communication (NC). NC 3.\",\"Solomon Islands First NDC (Archived)\",\"Republic of Korea. Biennial update report (BUR). BUR 3.\",\"Croatia. Biennial Reports (BR). BR 3. National Communication (NC). NC 7.\",\"Egypt. National Communication (NC). NC 3.\",\"Submission by the United Nations Environment Programme (UNEP)  to the United Nations Framework Convention on Climate Change on the Global Stock take (19/CMA.1 paragraph 36 & 37)\",\"Central African Republic. National Communication (NC). NC 2.\",\"Grenada. National communication (NC). NC 2.\",\"Switzerland submission Para 29 Glasgow Climate Pact\",\"Cambodia First NDC (Archived)\",\"We Mean Business Coalition submission to the global stocktake\",\"Malta. National Communication (NC). NC 7.\",\"Australia. 2022 National Inventory Report (NIR)\",\"Nationally determined contributions under the Paris Agreement. Synthesis report by the secretariat\",\"France First NDC-Complement (Archived)\",\"Technical analysis of the second biennial update report of the former Yugoslav Republic of Macedonia submitted on 5 March 2018. Summary report by the team of technical experts\",\"Kazakhstan. 2021 National Inventory Report (NIR)\",\"Equatorial Guinea. National communication (NC). NC1.\",\"Czechia. 2021 National Inventory Report (NIR)\",\"Biennial in-session workshop on information to be provided by Parties in accordance with Article 9, paragraph 5, of the Paris Agreement. Summary report by the secretariat\",\"Sao Tome and Principe. Biennial update report (BUR). BUR1.\",\"Papua New Guinea. National Communication (NC). NC 2.\",\"South Africa. National Communication (NC). NC 3 - Annex\",\"Mali First NDC (Archived)\",\"Argentina. Biennial update report (BUR). BUR 4. National inventory report.\",\"Global Climate and Health Alliance, a project of the Social Good Fund (GCHA) - Maximizing health and equity gains of mitigation policies to deliver the Paris Agreement: submission to the third call for technical inputs to the first Global Stocktake\",\"Resolution on Slovenia's Long-Term Climate Strategy until 2050 (ReDPS50)\",\"Technical Summary\",\"Georgia. Biennial update report (BUR). BUR 2. National inventory report.\",\"Canada. Biennial Reports (BR). BR 3. National Communication (NC). NC 7.\",\"EU Fast Start Finance Report 2012\",\"Colombia. National Communication (NC). NC 3. Executive Summary\",\"Philippines. National Communication (NC). NC 2.\",\"Preliminary Findings: Observations and Recommendations regarding the Innovations used in the first Technical Dialogue of the GST - Mediators Beyond Borders International (MBBI)\",\"Cuba. Biennial update report (BUR). BUR1.\",\"Estrategia Nacional de Desarrollo con Bajas Emisiones\",\"Mauritania. Technical analysis of the first biennial update report of Mauritania submitted on 14 March 2016. Summary report by the team of technical experts.\",\"Romania. 2022 National Inventory Report (NIR)\",\"Japan\\u2019s Fast-Start Financing for Developing Countries up to 2012 (As of 31 March, 2011)\",\"South Africa's Low Emission Development Strategy 2050\",\"Gabon. Biennial update report (BUR). BUR 1. National inventory report.\",\"Technical analysis of the third biennial update report of India submitted on 20 February 2021. Summary report by the team of technical experts\",\"Malaysia. Biennial update report (BUR). BUR 2. National Communication (NC). NC 3 - Annex\",\"Palau. National communication (NC). NC2.\",\"Peru First NDC (Updated submission)\",\"Submission of input to the first Global Stocktake - Ipieca\",\"Albania. Biennial update report (BUR). BUR 1.\",\"Will Nations Meet the Paris Agreement\\u2019s Emissions and Temperature Goals? - Submission by Resources for the Future\",\"iGST submission: Negotiator Briefing: A Needs-based Approach to Assessment and Stocktaking Key Messages from the Workshop \\u00e2\\u20ac\\u0153Enabling a Needs-Based and Equitable Climate Regime\\u00e2\\u20ac\\u009d\",\"Biennial update reports (BUR), National communications (NC), International consultations and analysis (ICA), Mitigation, Means of implementation\",\"T\\u00fcrkiye First NDC\",\"Australia First NDC (Updated submission)\",\"Spain. National Communication (NC). NC 7.\",\"Technical Summary\",\"Global Stocktake Joint Submission (ICIMOD-ICCI)\",\"Record of the facilitative sharing of views at the fifty - second to fifty - fifth session of the Subsidiary Body for mplementation: Oman (FSVR1)\",\"European Union First NDC (Archived)\",\"Official letter (Archived)\",\"Germany. National Communication (NC). NC 8. Biennial Reports (BR). BR 5.\",\"Mexico. Biennial update report (BUR) BUR 2. National Communication (NC). NC6 - Revised Version\",\"Efforts related to addressing the social and economic consequences and impacts of response measures as an input to the first global stocktake - compilation by the secretariat\",\"Climate Action Pathway: Land Use. Vision and Summary\",\"NEW ZEALAND NDC update 22 04 2020\",\"Explanatory Letter_Brazil\",\"India. National Communication (NC). NC 2 - Executive Summary\",\"Technical analysis of the first biennial update report of Botswana submitted on 6 November 2019. Summary report by the team of technical experts\",\"Guinea-Bissau. National Communication (NC). NC 3.\",\"Technical Summary\",\"Latvia. National Communication (NC). NC 8. Biennial Reports (BR). BR 5.\",\"Mozambique First NDC (Archived)\",\"Facilitative sharing of views record - BUR3 Namibia\",\"Niue. National Communication (NC). NC 2.\",\"Updated Nationally Determined Contribution of the Federated States of Micronesia\",\"State of Palestine First NDC (Updated submission)\",\"Tajikistan. National Communication (NC). NC 3.\",\"United Kingdom. Biennial report (BR). BR 4\",\"Sudan First NDC (Archived)\",\"Submission by the Food and Agriculture Organization of the United Nations (FAO) To the United Nations Framework Convention on Climate Change (UNFCCC) In relation to the First Global Stocktake\",\"Fiji Low Emission Development Strategy 2018-2050\",\"Annual compilation and accounting report for Annex B Parties under the Kyoto Protocol for 2020. Note by the secretariat\",\"Technical analysis of the first biennial update report of Maldives submitted on 24 November 2019. Summary report by the team of technical experts\",\"Honduras. Biennial update report (BUR). BUR1 - Executive Summary\",\"Uruguay. National communication (NC). NC5 - Executive Summary\",\"Sri Lanka First NDC (Archived-Updated submission)\",\"Bahamas. National Communication (NC). NC 2.\",\"Ireland. Biennial report (BR). BR 4\",\"Submission by the NAP Global Network to the First Global Stocktake: Enhancing the Formulation and Implementation of National Adaptation Plans (NAPs)\",\"Liechtenstein. Biennial Reports (BR). BR 3. National Communication (NC). NC 7.\",\"Timor-Leste Updated NDC 2022-2030\",\"Switzerland's Long-Term Climate Strategy\",\"Technical report on the technical analysis of the technical annex to the third biennial update report of Viet Nam submitted in accordance with decision 14/CP.19, paragraph 7, on 16 April 2021\",\"Technical analysis of the first biennial update report of Saint Lucia submitted on 30 December 2021. Summary report by the team of technical experts\",\"Annual report of the Paris Agreement Implementation and Compliance Committee to the Conference of the Parties serving as the meeting of the Parties to the Paris Agreement. Report by the secretariat\",\"Montenegro First NDC (Updated submission)\",\"Facilitative sharing of views record - BUR2 Colombia\",\"Constituted Body GST synthesis report: Synthesis report for the technical assessment component of the first global stocktake: Information on matters related to technology development and transfer, including the information referred to in Article 10 of the Paris Agreement, barriers and challenges faced by developing countries and good practises, experiences and potential opportunities to enhance international cooperation on mitigation and adaptation. Prepared by the Technology Executive Committee.\",\"Executive Summary_Nigerian INDC (Archived)\",\"Letter to ES (Archived)\",\"Chapter 1: Framing and Context\",\"Lao People's Democratic Republic First NDC (Updated submission)\",\"Technical analysis of the first biennial update report of Jordan submitted on 8 November 2017. Summary report by the team of technical experts.\",\"Honduras First NDC (Updated submission)\",\"Annual compilation and accounting report for Annex B Parties under the Kyoto Protocol for 2020. Note by the secretariat\",\"Sudan's First NDC\",\"United Republic of Tanzania First NDC (Updated submission)\",\"Bulgaria. Biennial Reports (BR). BR 3. National Communication (NC). NC 7.\",\"Fast Start Funding for Climate 2010-2012 - Sweden\",\"Switzerland. Biennial Reports (BR). BR 3. National Communication (NC). NC 7 - Amendment\",\"Technical analysis of the first biennial update report of the Lao People's Democratic Republic submitted on 28 July 2020. Summary report by the team of technical experts\",\"Uruguay Second NDC\",\"Submission by the United Nations World Food Programme (WFP) to the first global stocktake of the Paris Agreement (GST)\",\"United States of America. Biennial report (BR). BR 2 - Methodology\",\"Climate Action Pathway: Water. Action Table\",\"New Zealand. Biennial report (BR). BR 4\",\"Mexico. National Inventory Report (NIR).\",\"Technical analysis of the fourth biennial update report of Chile submitted on 18 January 2021. Summary report by the team of technical experts\",\"AR6 Synthesis Report: Summary for Policymakers\",\"Technical report on the technical analysis of the technical annex to the first biennial update report of Belize submitted in accordance with decision 14/CP.19, paragraph 7, on 30 August 2021\",\"Liberia First NDC (Archived)\",\"Submission from the monitoring and evalutating climate communication and education project\",\"Input from Norway to the technical dialogue of the Global Stocktake\",\"Bangladesh. National Communication (NC). NC 3.\",\"GST submission: IIASA policy brief - a fair climate\",\"Nigeria's Adaptation Communication\",\"Morocco. Biennial update report (BUR). BUR 2.\",\"Concept note by the Chairs of the Subsidiary Bodies on the second workshop under the Glasgow\\u00e2\\u20ac\\u201cSharm el-Sheikh work programme on the global goal on adaptation: \\u00e2\\u20ac\\u0153Enhancing adaptation action and support\\u00e2\\u20ac\\u009d\",\"Facilitative sharing of views record - BUR2 Peru\",\"The University of Exeter, Global Carbon Budget 2021: Submission to GST\",\"Kuwait. Biennial update report (BUR). BUR 1.\",\"Chapter 3: Polar Regions\",\"Nationally determined contributions under the Paris Agreement. Report by the secretariat. Addendum. Additional information on the contribution of nationally determined contributions towards achieving the objective of the Convention as set out in its Article 2, and towards Article 2, paragraph 1(a), and Article 4, paragraph 1, of the Paris Agreement\",\"Iceland. Biennial Reports (BR). BR 3. National Communication (NC). NC 7.\",\"Annex II: Models\",\"180924 rmi 2050 climate strategy final_0\",\"Togo First NDC (Updated submission)\",\"Australia's Fast-Start Finance: Update Report\",\"Luxembourg. 2022 National Inventory Report (NIR)\",\"Rwanda. Biennial update report (BUR). BUR 1. National inventory report.\",\"Bhutan First NDC (Archived)\",\"Jamaica. Biennial update report (BUR). BUR 1.\",\"Uzbekistan. Biennial update report (BUR). BUR1.\",\"Joint Submission to the first Global Stocktake: The JAXA/GOSAT GHG product for tracking city-level emission changes\",\"Uganda. Biennial update report (BUR). BUR 1.\",\"Submission by the United States on the First Global Stocktake\",\"North Macedonia. National Communication (NC). NC 3.\",\"Mozambique. National Communication (NC). NC 2.\",\"Submission to the Technical Assessment component of the first Global Stocktake \\u2013 Drugs for Neglected Diseases initiative\",\"Azerbaijan. Biennial update report (BUR). BUR 2.\",\"Malawi NDC Policy Brief\",\"The first Global Stocktake Technical Dialogue - Response from the Farmers Constituency\",\"Technical analysis of the second biennial update report of Armenia submitted on 5 May 2018. Summary report by the team of technical experts.\",\"Belize. Biennial update report (BUR). BUR 1.\",\"Japan. Biennial report (BR). BR 4\",\"Dominica First NDC\",\"Submission of the Government of Quebec to the first global stocktake of the paris agreement\",\"Hungary. Biennial report (BR). BR 4\",\"Botswana. Biennial update report (BUR). BUR 1.\",\"Nationally determined contributions under the Paris Agreement. Synthesis report by the secretariat\",\"Agenda for the second workshop under the Glasgow\\u00e2\\u20ac\\u201cSharm el-Sheikh work programme on the global goal on adaptation - \\u00e2\\u20ac\\u0153Enhancing adaptation action and support\\u00e2\\u20ac\\u009d\",\"Mauritius First NDC (Archived)\",\"Afghanistan First NDC\",\"Nepal Second NDC\",\"Climate Action Pathway. Human Settlements. Action Table\",\"Statement by the Republic of Turkey regarding the report entitled \\\"National Greenhouse Gas Inventory 2021\\\" of the Greek Cypriot side\",\"Vanuatu. National communication (NC). NC 3.\",\"Saint Vincent and the Grenadines First NDC\",\"Togo. National Communication (NC). NC 4.\",\"Austria. National Communication (NC). NC 7.\",\"Bolivia (Plurinational State of) First NDC\",\"Ukraine. National Communication (NC). NC 6.\",\"Kyrgyzstan First NDC (Updated submission)\",\"Namibia. National communication (NC). NC 4.\",\"Norway's Adaptation communication\",\"Submission to UNFCCC First Global Stocktake from The Global Carbon Project within the Future Earth research initiative\",\"Denmark. Biennial Reports (BR). BR 3. National Communication (NC). NC 7.\",\"Saint Kitts and Nevis First NDC (Updated submission)\",\"Italy's Adaptation communication\",\"Technical analysis of the second biennial update report of Montenegro submitted on 3 May 2019. Summary report by the team of technical experts\",\"Long-Term Strategy on Energy and Climate Change 2020-2050\",\"Call for inputs for the first global stocktake Submitted by Climate Strategies on behalf of South to South Just Transitions project\",\"Paraguay. Biennial update report (BUR). BUR 3. National inventory report.\",\"Saudi Arabia. Biennial update report (BUR). BUR 1.\",\"AILAC - Submission to the First Global Stocktake Second Information Gathering Phase / Second Technical Dialogue\",\"Draft Technical paper: Priorities and needs: technologies for adaptation in agriculture, water resources and coastal zones; including experiences in stakeholder engagement and regulatory issues pertaining to the development, transfer and uptake of technologies in those sectors (AC20)\",\"Climate Change 2022: Mitigation of Climate Change: Summary for Policymakers\",\"Eswatini's Adaptation communication\",\"Cyprus. 2022 National Inventory Report (NIR)\",\"Japan's Fast-Start Finance for Developing Countries up to 2012 (As of 29 February, 2012)\",\"Gambia Second NDC\",\"Technical analysis of the third biennial update report of Montenegro submitted on 7 February 2022. Summary report by the team of technical experts\",\"Climate Action Plan 2050. Executive summary\",\"Malaysia First NDC (Archived)\",\"Secretariat GST synthesis report: Synthesis report for the technical assessment component of the first global stocktake: Synthesis report on the state of adaptation efforts, experiences and priorities\",\"Panama First NDC (Updated submission)\",\"Designing a meaningful global stocktake. Center for Climate and Energy Solutions (C2ES)\",\"Benefits of measurement-based methane estimates and timely emissions reductions for reaching the long-term global goal on temperature: Submission to the Global Stocktake by the Environmental Defense Fund\",\"Israel. Technical analysis of the first biennial update report of Israel submitted on 18 April 2016.\",\"Annex IV: Contributors to the Working Group II Contribution to the IPCC Sixth Assessment Report\",\"Record of the facilitative sharing of views at the fifty - second to fifty - fifth session of the Subsidiary Body for Implementation: Cambodia (FSVR1)\",\"Submission by Climate Analytics (CA) Caribbean and the Caribbean Natural Resources Institute (CANARI) on behalf of the Caribbean Climate Justice Alliance (CCJA)\",\"European Union. Biennial report (BR). BR 4\",\"Colombia First NDC (Updated submission)\",\"Addendum to the synthesis report for the technical assessment component of the first global stocktake: State of adaptation efforts, experiences and priorities\",\"Oceans and Coastal Zones Action Table (unedited)\",\"Ghana. Biennial update report (BUR). BUR3.\",\"Canada First NDC (Archived)\",\"Zambia First NDC (Archived)\",\"Estonia. National Communication (NC). NC 7.\",\"Democratic Republic of the Congo First NDC (Updated submission)\",\"Romania. National Communication (NC). NC 7.\",\"Tuvalu First NDC\",\"Letter of the Minister of Environment in relation to the updated first NDC\",\"Spain. 2021 National Inventory Report (NIR)\",\"Gabon. Biennial update report (BUR). BUR 1.\",\"Technical analysis of the third biennial update report of Armenia submitted on 17 May 2021. Summary report by the team of technical experts\",\"San Marino First NDC\",\"Canada. 2022 National Inventory Report (NIR)\",\"Colombia. Biennial update report (BUR). BUR 2. National inventory report.\",\"Papua New Guinea. Biennial update report (BUR). BUR 1.\",\"Uganda First NDC (Interim-updated submission)\",\"Plymouth Marine Laboratory (PML) submission to the first Global Stocktake - 2023\",\"Nationally determined contributions under the Paris Agreement. Synthesis report by the secretariat. Addendum. Additional information on the contribution of nationally determined contributions towards achieving the objective of the Convention as set out in its Article 2, and towards Article 2, paragraph 1(a), and Article 4, paragraph 1, of the Paris Agreement\",\"Technical analysis of the second biennial update report of Uruguay submitted on 29 December 2017. Summary report by the team of technical experts\",\"Jordan First NDC (Updated submission)\",\"Progress in the process to formulate and implement national adaptation plans. Revised note by the secretariat\",\"Zimbabwe First NDC (Archived)\",\"Democratic People's Republic of Korea First NDC (Updated submission)\",\"Eritrea. National communication (NC). NC 3.\",\"Pakistan First NDC (Updated submission)\",\"Annex IV: Contributors to the IPCC WGIII Sixth Assessment Report\",\"Canada's Mid-Century Long-Term Strategy\",\"Germany. Biennial report (BR). BR 4\",\"EU Fast Start Finance Report to the UNFCCC Secretariat\",\"Final Technical Submission to the UNFCCC- Ahead of the third Technical Dialogue of the Global Stocktake.Submitted by observer organization ClimateWorks Foundation on behalf of the iGST consortium\",\"Reinforcing the implementation of the Paris Agreement in countries enduring armed conflict and other violence: The International Committee of the Red Cross (ICRC\\u00e2\\u20ac\\u2122s) submission to the first Global Stocktake of the Paris Agreement\",\"Papua New Guinea First NDC (Archived)\",\"South Africa First NDC (Updated submission)\",\"Turkey. 2022 National Inventory Report (NIR)\",\"Argentina. Biennial update report (BUR). BUR 3. National inventory report.\",\"Republic of Moldova. Biennial update report (BUR). BUR 3. National inventory report.\",\"Sierra Leone. National Communication (NC). NC 3.\",\": Submission to the Global Stocktake: Best practice use cases for climate policies globally - IEC (International Electrotechnical Commission)\",\"Projects/Programs of Japan's Fast-Start Finance for Developing Countries up to 2012 (As of 31 December 2012)\",\"Suriname. Biennial update report (BUR). BUR 1.\",\"Cabo Verde First NDC(Archived)\",\"India Water Foundation Inputs for the First Global Stocktake of UNFCCC\",\"Facilitative sharing of views record for Jordan\",\"France First NDC-Complement (Updated submission)\",\"China. Biennial update report (BUR). BUR 2.\",\"Slovenia. 2022 National Inventory Report (NIR)\",\"Accelerating Business Climate Action to Increase Government Ambition in Latin America\",\"United Kingdom. National Communication (NC). NC 8. Biennial Reports (BR). BR5. Corrigendum\",\"El Salvador First NDC (Updated submission)\",\"Cook Islands First NDC\",\"Andorra. Biennial update report (BUR). BUR4.\",\"Submission on Global Stocktage Technical Dialogue 1.3 Prepared by the SLOCAT Partnership Secretariat\",\"Greece. Biennial Reports (BR). BR 3. National Communication (NC). NC 7.\",\"Cambodia. Biennial update report (BUR). BUR 1.\",\"Inputs to the First Global Stocktake Prepared by the SLOCAT Partnership Secretariat\",\"Somalia First NDC (Updated submission)\",\"Republic of Moldova First NDC (Archived)\",\"Initial submission by the UN climate change high-level champions to the first global stocktake under the Paris agreement\",\"Sweden. National Communication (NC). NC 7.\",\"Portugal. 2021 National Inventory Report (NIR)\",\"Andorra 2022 NDC Update\",\"Serbia. Biennial update report (BUR). BUR 1.\",\"Facilitative sharing of views record - Ecuador\",\"Costa Rica. Biennial update report (BUR). BUR 2. National inventory report.\",\"Ecuador. Biennial update report (BUR). BUR 1.\",\"Argentina Second NDC (Archived)\",\"Input to the first Global Stocktake (GST): A satellite-based, highly spatially resolved gridded greenhouse gas (GHG) emission inventory product in support of national emission reporting and climate mitigation monitoring\",\"Submission letter_Qatar First NDC (Updated submission)\",\"Private Sector Adaptation Reporting as a Source of Input to the Global Stocktake\",\"Burundi. Biennial update report (BUR). BUR1.\",\"Chile. Biennial update report (BUR). BUR 4. National inventory report - Annex\",\"Singapore. National Communication (NC). NC 4.\",\"Submission in response to the call for inputs to the first global stocktake: The global registry of fossil fuels - Carbon Tracker\",\"Slovakia. Biennial Reports (BR). BR 3.\",\"Submission by Conservation International to the third technical dialogue of the global stocktake\",\"Venezuela. National Communication (NC). NC 2.\",\"Strat\\u00e9gie de d\\u00e9veloppement \\u00e0 faible intensit\\u00e9 de carbone et r\\u00e9silient aux changements climatiques 2016-2025\",\"E2050 COLOMBIA: Estrategia clim\\u00c3\\u00a1tica de largo plazo de Colombia - E2050 para cumplir con el Acuerdo de Par\\u00c3\\u00ads\",\"Submission to the UNFCCC ahead of the second Technical Dialogue of the Global Stocktake: submitted by observer organization ClimateWorks Foundation on behalf of the iGST consortium\",\"Saint Lucia. Biennial update report (BUR). BUR 1.\",\"Australian Government: Submission to the first Technical Dialogue of the Global Stocktake\",\"The International Chamber of Commerce (ICC) comments on First Global Stocktake\",\"Technical analysis of the second biennial update report of Indonesia submitted on 21 December 2018. Summary report by the team of technical experts\",\"Bosnia and Herzegovina First NDC (Updated submission)\",\"Honduras. National communication (NC). NC 3 - Executive Summary\",\"Ukraine First NDC (Updated submission)\",\"University of Exeter Global Systems Institute, National Carbon Emissions: Submission to the first global stocktake\",\"State of Climate Action 2021 Systems Transformations Required to Limit Global Warming to 1.5\\u00b0C\",\"Nationally determined contributions under the Paris Agreement. Synthesis report by the secretariat\",\"Kenya First NDC (Archived)\",\"The Role of Systematic Earth Observations in the Global Stocktake. European Space Agency (ESA)\",\"Mauritius. Biennial update report (BUR). BUR 1. National inventory report.\",\"Netherlands. 2021 National Inventory Report (NIR)\",\"National Decarbonization Plan - Government of Costa Rica 2018-2050\",\"Norwegian Climate Finance 2012\",\"Belize. National Communication (NC). NC 4.\",\"Italy. 2021 National Inventory Report (NIR)\",\"The First Global Stocktake International Energy Agency (IEA) submission\",\"Technical analysis of the second biennial update report of Paraguay submitted on 27 December 2018. Summary report by the team of technical experts\",\"The potential of expert judgment assessments on adaptation to feed GST series - IDDRI\",\"Long-term strategy for Carbon Neutrality (LTS4CN)\",\"Annex X: Expert Reviewers of the IPCC Sixth Assessment Report\",\"United Arab Emirates Second NDC\",\"Submission by the Republic of Senegal on behalf of the Least Developed Countries (LDCs) Group on inputs to the First Global Stocktake\",\"Thailand First NDC (Updated submission)\",\"Togo. National inventory report.\",\"Australia. National Communication (NC). NC 8. Biennial Reports (BR). BR 5.\",\"Rwanda First NDC (Archived)\",\"Submission by Slovenia and the European Commission on behalf of the European Union and its Member States. Adaptation Communication of the European Union\",\"Vanuatu First NDC (Archived)\",\"Facilitative sharing of view record 2 - Vietnam\",\"National Inventory Report to BUR 1 Antigua and Barbuda\",\"Kiribati. National Communication (NC). NC 2.\",\"Cross-Chapter Box 9: Integrative Cross-Chapter Box on Low-lying Islands and Coasts\",\"Nationally determined contributions under the Paris Agreement. Revised note by the secretariat\",\"Iceland First NDC (Updated submission)\",\"Bhutan. National communication (NC). NC 3.\",\"Nauru First NDC (Archived)\",\"Annex V: Monsoons\",\"FSV1 record - Uganda\",\"Matters Relating to the Global Stocktake referred to in Article 14 of the Paris Agreement: Submission by the Like-Minded Developing Countries - Second Meeting of the Technical Dialogue of the Technical Assessment of the First Global Stocktake\",\"Norway. 2021 National Inventory Report (NIR)\",\"Namibia First NDC (Archived)\",\"Trinidad and Tobago. National Communication (NC). NC 3.\",\"The Land Gap\",\"Technical analysis of the second biennial update report of Colombia submitted on 28 December 2018. Summary report by the team of technical experts\",\"The global stocktake: an opportunity for ambition. Climate Finance Landscape Analysis: Themes and Trends. Center for Climate and Energy Solutions\",\"Japan First NDC (Interim-updated submission)\",\"Belgium. Biennial report (BR). BR 4\",\"Viet Nam. Biennial update report (BUR). BUR 3 - Technical Annex\",\"Submission to the First UNFCCC Global Stocktake from UNWTO Scaling-up Climate Action in Tourism\",\"Dominican Republic. Biennial update report (BUR). BUR 1.\",\"The University of Cambridge on behalf of the PARIS REINFORCE project input to the first global stocktake: SYR (g) Good practices, experience and potential opportunities to enhance international cooperation on mitigation and adaptation and to increase support under Article 13, para 5, of the Paris Agreement\",\"Nationally determined contributions under the Paris Agreement. Synthesis report by the secretariat\",\"Switzerland. 2022 National Inventory Report (NIR)\",\"\\u062a\\u062d\\u062f\\u064a\\u062b \\u0627\\u0644\\u0645\\u0633\\u0627\\u0647\\u0645\\u0627\\u062a \\u0627\\u0644\\u0645\\u062d\\u062f\\u062f\\u0629 \\u0648\\u0637\\u0646\\u064a\\u0627\\u064b \\u0627\\u0644\\u062b\\u0627\\u0646\\u064a\\u0629 \\u0644\\u062f\\u0648\\u0644\\u0629 \\u0627\\u0644\\u0625\\u0645\\u0627\\u0631\\u0627\\u062a \\u0627\\u0644\\u0639\\u0631\\u0628\\u064a\\u0629 \\u0627\\u0644\\u0645\\u062a\\u062d\\u062f\\u0629\",\"Fourth synthesis of technology needs identified by Parties not included in Annex I to the Convention. Report by the secretariat\",\"New Zealand's Adaptation communication\",\"Micronesia. National Communication (NC). NC 2.\",\"Chapter 5: Food Security\",\"Latvia. 2021 National Inventory Report (NIR)\",\"Technical analysis of the first biennial update report of Ecuador submitted on 21 September 2016. Summary report by the team of technical experts.\",\"Haiti First NDC\",\"India Updated First Nationally Determined Contribution\",\"Technical analysis of the third biennial update report of the Republic of Korea submitted on 30 November 2019. Summary report by the team of technical experts\",\"Technical analysis of the first biennial update report of Zambia submitted on 7 December 2020. Summary report by the team of technical experts\",\"Liberia's Adaptation communication\",\"Submission for the first input phase of the global stocktake: Climate Action Network (August 2022)\",\"Belarus First NDC (Archived)\",\"CarbonCare InnoLab's Second Submission to GST\",\"Nigeria. Biennial update report (BUR). BUR 1.\",\"Montenegro. National Communication (NC). NC 3.\",\"Facilitative sharing of views record - BUR2 Malaysia\",\"Compilation and synthesis of fourth biennial reports of Parties included in Annex I to the Convention. Report by the secretariat. Executive summary. Corrigendum\",\"Annexes\",\"Lesotho. Biennial update report (BUR). BUR 1.\",\"United States of America First NDC (After rejoining the Paris Agreement)\",\"Brunei Darussalam. National Communication (NC). NC 2.\",\"Indonesia's Adaptation communication\",\"Sri Lanka. National Communication (NC). NC 3.\",\"United States of America. Biennial Reports (BR). BR3. BR4. National Communication (NC). NC 7.\",\"Iraq. National Communication (NC). NC 1.\",\"Belarus. Biennial report (BR). BR 4.\",\"Liechtenstein: Fast\\u2010Start Finance \\u2013 Progress Report for the Period May 2010 to May 2013\",\"Tajikistan First NDC (Updated submission letter)\",\"The Long-term Strategy under the Paris Agreement\",\"Mexico First NDC (Archived)\",\"Climate Action Pathway: Energy. Vision and Summary\",\"Netherlands. National Communication (NC). NC 7. - Annex 5\",\"States and regions tracking progress: Under2 Coalition\\u00e2\\u20ac\\u2122s submission to the Global Stocktake\",\"Indonesia First NDC (Updated submission)\",\"Brazil. Biennial update report (BUR). BUR4.\",\"Technical analysis of the first biennial update report of Albania submitted on 12 October 2021. Summary report by the team of technical experts\",\"Guinea First NDC (Updated submission July 2021)\",\"Chapter 3: Impacts of 1.5\\u00b0C of Global Warming on Natural and Human Systems\",\"Lebanon. Biennial update report (BUR). BUR 4.\",\"Israel First NDC (Updated submission)\",\"Bangladesh First NDC (Archived)\",\"Lithuania. National Communication (NC). NC 7.\",\"Annual compilation and accounting report for Annex B Parties under the Kyoto Protocol for 2020. Note by the secretariat\",\"Technical analysis of the first biennial update report of Nigeria submitted on 17 March 2018. Summary report by the team of technical experts.\",\"Technical report on the technical analysis of the technical annex to the fourth biennial update report of Argentina submitted in accordance with decision 14/CP.19, paragraph 7, on 31 December 2021\",\"Mongolia. Biennial update report (BUR). BUR 1.\",\"Constituted Body GST synthesis report: FWG inputs to the technical assessment of the Global Stocktake\",\"Facilitative sharing of views record - BUR1 Kuwait\",\"Global Stocktake Technical Dialogue 1 SLOCAT Partnership on Sustainable Low Carbon Transport\",\"Niger First NDC\",\"United Kingdom First NDC (Updated Submission)\",\"Luxembourg. National Communication (NC). NC 7.\",\"Submission by the UN Climate Change High Level Champions, Dr. Mahmoud Mohieldin for COP 27 Presidency, Egypt and H.E. Razan Al Mubarak For COP 28 Presidency, United Arab Emirates, ahead of the third technical dialogue of the first global stocktake\",\"Technical analysis of the second biennial update report of Georgia submitted on 13 June 2019. Summary report by the team of technical experts\",\"The High Level Champions\\u00e2\\u20ac\\u2122 \\u00e2\\u20ac\\u02dc2030 Breakthroughs\\u00e2\\u20ac\\u2122 Strategy Paper\",\"Jamaica\\u2019s Adaptation Communication\",\"Belgium. 2021 National Inventory Report (NIR)\",\"Submission to the UNFCCC ahead of the first Technical Dialogue of the Global Stocktake: Formally submitted by observer organization ClimateWorks Foundation on behalf of the iGST consortium.\",\"Dominican Republic. National Communication (NC). NC 3.\",\"Norway First NDC (Second updated submission)\",\"Myanmar First NDC (Updated submission)\",\"Ukraine 2050 - Low Emission Development Strategy\",\"Netherlands. Biennial report (BR). BR 4\",\"Meeting the Fast Start Commitment: U.S. Climate Finance in Fiscal Year 2011\",\"Technical analysis of the second biennial update report of Thailand submitted on 29 December 2017. Summary report by the team of technical experts.\",\"The First Global Stocktake International Renewable Energy Agency (IRENA) Submission August 2022\",\"Togo. Biennial update report (BUR). BUR 1. Annex\",\"Australia. Biennial Report (BR). BR 3. National Communication (NC). NC 7.\",\"Submission letter of Updated NDC for Rwanda\",\"Nauru First NDC (Updated submission)\",\"Annex VII: Glossary\",\"FSV3 record - Lebanon\",\"Mauritania First NDC (Updated submission)\",\"Pacific Ocean Climate Crisis Assessment (POCCA) - Submission to the UNFCCC global stocktake\",\"Thailand. Biennial update report (BUR). BUR 3.\",\"Kuwait First NDC (Updated submission)\",\"Chapter 5: Changing Ocean, Marine Ecosystems, and Dependent Communities\",\"Nationally determined contributions under the Paris Agreement. Revised note by the secretariat\",\"Iceland. 2022 National Inventory Report (NIR)\",\"United Kingdom Adaptation Communication\",\"Benin First NDC (Archived)\",\"Italy. Biennial report (BR). BR 4\",\"Vanuatu NDC Revised and Enhanced\",\"Technical analysis of the second biennial update report of Nigeria submitted on 27 September 2021. Summary report by the team of technical experts\",\"Togo. Biennial update report (BUR). BUR 2. National inventory report.\",\"First Global Stocktake International Atomic Energy Agency (IAEA) Submission\",\"Long-Term Strategy for Low Carbon and Climate Resilience 2050 (Indonesia LTS-LCCR 2050)\",\"Global Climate Action Portal (GCAP) Synthesis Report - Information as at 28 February 2022\",\"Technical Summary\",\"Nationally determined contributions under the Paris Agreement. Revised note by the secretariat\",\"Thailand\\u200b 2nd\\u200b Updated\\u200b NDC\",\"European Roundtable on Climate Change and Sustainable Transition Submission on the call for inputs to the Global Stocktake\",\"Compilation and synthesis of fourth biennial reports of Parties included in Annex I to the Convention. Report by the secretariat. Addendum. Corrigendum\",\"Namibia. Biennial update report (BUR). BUR 4. National inventory report.\",\"Norway. Biennial report (BR). BR 4\",\"Viet Nam NDC 2022 Update\",\"Strategy of socio-economic development of the Russian Federation with low greenhouse gas emissions until 2050\",\"Saint Lucia First NDC (Archived)\",\"Trinidad and Tobago. Biennial update report (BUR). BUR 1.\",\"Austria. 2022 National Inventory Report (NIR)\",\"Mauritius Party Note\",\"Nepal's Adaptation communication\",\"Bolivia. National Communication (NC). NC 3.\",\"Honduras. Biennial update report (BUR). BUR1 - Technical Annex II\",\"Nationally determined contributions under the Paris Agreement. Synthesis report by the secretariat\",\"Kazakhstan. National Communication (NC). NC 2.\",\"Mongolia First NDC (Archived)\",\"Constituted Body Global Stocktake synthesis report: Synthesis report for the technical assessment component of the first global stocktake - Adaptation Committee\",\"Facilitative sharing of views record - BUR1 Cote d'Ivoire\",\"Global Stocktake Submission: \\\"Country\\\" of Permafrost Submission from Prince Albert II of Monaco Foundation\",\"Nicaragua First NDC (Updated submission)\",\"Ireland. National Communication (NC). NC 8. Biennial Reports (BR). BR 5.\",\"Bahrain First NDC (Updated submission)\",\"Submission by the International Federation of Red Cross and Red Crescent Societies (IFRC)\",\"Lithuania. 2022 National Inventory Report (NIR)\",\"Technical analysis of the first biennial update report of Panama submitted on 14 December 2018. Summary report by the team of technical experts\",\"Annual report of the Paris Agreement Implementation and Compliance Committee to the Conference of the Parties serving as the meeting of the Parties to the Paris Agreement. Report by the secretariat\",\"Technical report on the technical analysis of the technical annex to the fourth biennial update report of Brazil submitted in accordance with decision 14/CP.19, paragraph 7, on 31 December 2020 - Part 2\",\"Burkina Faso. National Communication (NC). NC 2.\",\"Latvia. Biennial report (BR). BR 4\",\"Chapter 7: Risk Management and Decision-Making in Relation to Sustainable Development\",\"The Clean Growth Strategy - Cover Note\",\"Submission by the Russian Federation on the inputs referred to in paragraph 19 of decision 19/CMA.1 in relation to the Global Stocktake\",\"Sri Lanka First NDC (Updated submission)\",\"United States of America. Biennial Reports (BR). BR 1. National Communication (NC). NC 6.\",\"Syrian Arab Republic. National Communication (NC). NC 1.\",\"The Long-Term Strategy of the United States - Pathways to Net-Zero Greenhouse Gas Emissions by 2050\",\"State of the Ocean Report 2022\",\"Indonesia. Biennial update report (BUR). BUR3.\",\"[(20) KPN.CC.UN.1.30.12.2020] TO UNFCCC SECRETARIAT - Brunei Darussalam Nationally Determined Contribution\",\"Lesotho First NDC\",\"Chapter 5: Sustainable Development, Poverty Eradication and Reducing Inequalities\",\"Mexico: Updated NDC 2022\",\"Climate Action Pathway: Industry. Vision and Summary\",\"Netherlands's Adaptation communication\",\"CATF Submission to the First Global Stocktake\",\"Nigeria. National communication (NC). NC 3.\",\"Morocco First NDC-English (Archived)\",\"Facilitative sharing of views record - BUR2 Moldova\",\"Compilation and synthesis of fourth biennial reports of Parties included in Annex I to the Convention. Revised report by the secretariat. Executive summary\",\"Technical analysis of the third biennial update report of South Africa submitted on 5 June 2019. Summary report by the team of technical experts\",\"Technical analysis of the first biennial update report of Uganda submitted on 1 October 2019. Summary report by the team of technical experts\",\"Liechtenstein: Fast Start Financing (Status June 2011)\",\"Submission for the First Global Stocktake One page paper - Submitted by Fundaci\\u00c3\\u00b3n Ecolog\\u00c3\\u00ada y Desarrollo (ECODES)\",\"Iran. National Communication (NC). NC 3.\",\"THE GAMBIA'S LONG-TERM CLIMATE-NEUTRAL DEVELOPMENT STRATEGY 2050\",\"United States Mid-Century Strategy for Deep Carbonization\",\"Long-term low greenhouse gas emission development strategy of the European Union and its Member States\",\"Switzerland. Biennial report (BR). BR 4 - Annex\",\"Uruguay First NDC\",\"Forwarding\",\"Israel. National Communication (NC). NC 3.\",\"Lao People's Democratic Republic. Biennial update report (BUR). BUR 1.\",\"Chapter 3: Desertification\",\"Haiti's Adaptation communication\",\"Technical analysis of the first biennial update report of El Salvador submitted on 29 September 2018. Summary report by the team of technical experts\",\"Burkina Faso First NDC (Archived)\",\"India First NDC\",\"Submission by CDP to the first Global Stocktake\",\"New Zealand. National Communication (NC). NC 7.\",\"Mexico's Climate Change Mid-Term Strategy\",\"Canada's Adaptation communication\",\"Germany. 2021 National Inventory Report (NIR)\",\"Comoros First NDC (Updated submission)\",\"Individual Actions Supported by EU Fast Start Financing I\",\"Some implications of innovation and transition dynamics for the first UNFCCC Global Stocktake Response to call for inputs to the Technical Dialogue of the first UNFCCC Global Stocktake: Submitted by Michael Grubb, Professor of Energy and Climate Change, UCL\",\"Annex VI: Acronyms\",\"South Africa. Biennial update report (BUR). BUR 4.\",\"Climate Action Plan 2050. Executive summary\",\"Technical analysis of the third biennial update report of North Macedonia submitted on 3 June 2021. Summary report by the team of technical experts\",\"Georgia First NDC (Archived)\",\"Tunisia. National Communication (NC). NC 3.\",\"Argentina. Biennial update report (BUR). BUR 3 - Technical Annex\",\"Cyprus. Biennial Reports (BR). BR 3. National Communication (NC). NC 7.\",\"NDC cover Letter\",\"Samoa Second NDC\",\"PNG_NDC Satisfactory letter (Archived)\",\"Pakistan First NDC (Abridged version of updated submission)\",\"Biennial in-session workshop on information to be provided by Parties in accordance with Article 9, paragraph 5, of the Paris Agreement. Summary report by the secretariat\",\"Submission by Transforma on the Third technical Dialogue of the first Global Stocktake of the Paris Agreement\",\"Mali. National Communication (NC). NC 3.\",\"Technical analysis of the third biennial update report of Andorra submitted on 5 September 2019. Summary report by the team of technical experts\",\"Democratic People's Republic of Korea. National Communication (NC). NC 2.\",\"Recognition of Indigenous Peoples in Nationally Determined Contributions: IWGIA submission to the first global stocktake\",\"The oil and gas climate initiative (OGCI) - submission to the global stocktake\",\"European Union's Adaptation communication\",\"Colombia First NDC (Updated submission) -Technical Annex\",\"National Institute for Environmental Studies Japan: Submission of Information to the 1st Global Stocktake - GOSAT and GOSAT-2 Standard Products and Related Data\",\"University of Exeter global stocktake submission letter- global carbon budget\",\"OECD/IEA Climate Change Expert Group Submission to the First Global Stocktake\",\"Ghana's Adaptation communication\",\"Canada. 2021 National Inventory Report (NIR)\",\"Annex II: Glossary\",\"Zambia. Biennial update report (BUR). BUR 1.\",\"Romania. National Communication (NC). NC 7 - Annex I\",\"Uganda First NDC (Archived)\",\"Armenia. National communication (NC). NC 4.\",\"South Sudan Second NDC\",\"Pakistan. National communication (NC). NC 2.\",\"(Joint) Submission to the first Global Stocktake Satellite-based map of global mangrove extent and changes: Global Mangrove Watch (GMW): The Japan Aerospace Exploration Agency (JAXA), the Institute for the Global Environmental Strategies (IGES), Aberystwyth University, solo Earth Observation (soloEO), Wetlands International and The Nature Conservancy\",\"EU First NDC (Updated submission)\",\"Paraguay. National Communication (NC). NC 3.\",\"Saudi Arabia. National Communication (NC). NC 4.\",\"Germany. Biennial Reports (BR). BR 3. National Communication (NC). NC 7 - Annex\",\"Canada\\u2019s Fast-Start Financing: Delivering on Our Copenhagen Commitment\",\"African Group Submission for the Second Technical Dialogue of the Global Stocktake\",\"Panama. Biennial update report (BUR). BUR2.\",\"Eswatini First NDC (Updated submission)\",\"Japan\\u2019s Fast-Start Finance for Developing Countries up to 2012 (As of 29 February, 2012)\",\"Technical analysis of the third biennial update report of Lebanon submitted on 13 October 2019. Summary report by the team of technical experts\",\"Gabon. National Communication (NC). NC 3.\",\"Turkey. National Communication (NC). NC 7.\",\"Malaysia. Biennial update report (BUR). BUR 2. National Communication (NC). NC 3.\",\"Submission to the UNFCCC First Global Stocktake - World Benchmarking Alliance and Climate Chance\",\"Yearbook of Global Climate Action 2021: Marrakech Partnership for Global Climate Action\",\"Burundi. National communication (NC). NC 3.\",\"World Health Organization and Lancet Countdown Submission to the third meeting of the technical dialogue of the global stocktake (TD 1.3)\",\"Chile First NDC (Archived)\",\"Global Stocktake Submission by Iceland (August 2022)\",\"Submission to the Global Stocktake: By the University of Ankara\",\"Slovakia. National Communication (NC). NC 8. Biennial Reports (BR). BR 5.\",\"Sweden's Adaptation communication\",\"Cambodia. National Communication (NC). NC 2.\",\"Poland. Biennial Reports (BR). BR 3. National Communication (NC). NC 7.\",\"Andorra First NDC (Archived)\",\"Senegal. National Communication (NC). NC 3.\",\"Republic Of Moldova. Biennial update report (BUR). BUR 2.\",\"Costa Rica. National communication (NC). NC 4.\",\"Submission to the GST: Adaptation Research Alliance (ARA) & Climate and Development Knowledge Network (CDKN)\",\"Second Submission Of The High-Level Champions To The Global Stocktake, ahead of the 2nd meeting of the Technical Dialogue (TD1.2)\",\"Finland. Biennial report (BR). BR 4\",\"Somalia's Updated NDC\",\"Facilitative sharing of views record - BUR3 Singapore\",\"International Cryosphere Climate Initiative (ICCI): Submission to the First Global Stocktake\",\"Grenada First NDC (Archived)\",\"Central African Republic First NDC (Archived)\",\"Resilience Pathway Vision And Summary\",\"Cambodia. Biennial update report (BUR). BUR 1 - Technical Annex I\",\"Portugal. Biennial report (BR). BR 4\",\"Voces de Am\\u00e9rica Latina y el Caribe sobre Acci\\u00f3n Clim\\u00e1tica en el Transporte\",\"Secretariat GST synthesis report: Synthesis report for the technical assessment component of the first global stocktake: Synthesis report on finance flows, including the information referred to in Article 2, paragraph 1(c), and means of implementation and support and mobilization and provision of support, including the information referred to in Article 9, paragraphs 4 and 6, Article 10, paragraph 6, Article 11, paragraph 3, and Article 13, in particular paragraphs 9 and 10, of the Paris Agreement\",\"Argentina First NDC (Archived)\",\"Submission to the technical phase of the Global Stocktake 2021-2023 Performance distributions to assess collective progress in reducing greenhouse gas emissions - New Climate Institute for Climate Policy and Global Sustainability\",\"Solomon Islands. National Communication (NC). NC 2.\",\"Zimbabwe's Initial Adaptation Communication\",\"Plymouth Marine Laboratory (PML) submission to the first Global Stocktake\",\"Republic of Korea. National communication (NC). NC4.\",\"Technical analysis of the fourth biennial update report of the Republic of Korea submitted on 30 December 2021. Summary report by the team of technical experts\",\"Singapore First NDC (Updated submission)\",\"Qatar First NDC (Archived)\",\"Suriname First NDC(Archived)\",\"Four-page overview of revised national low carbon strategy of France\",\"China First NDC (Updated submission)\",\"Submission by IDDRI on behalf of the Adaptation Without Borders global partnership, relating to the 3rd Technical Dialogue of the UNFCCC Global Stocktake - Accounting for transboundary climate risks in the Global Stocktake to drive regional and global cooperation on adaptation\",\"Antigua and Barbuda First NDC (Updated submission)\",\"El Salvador First NDC (Archived)\",\"Contribuci\\u00f3n Nacionalmente Determinada del Estado Plurinacional de Bolivia 2021-2030\",\"Bulletin of Multi-scale Estimation of Greenhouse Gas Budgets. National Institute for Environmental Studies, Japan Agency for Marine-Earth Science and Technology, Japan Meteorological Research Institute, Japan Chiba University\",\"Seconde Contribution D\\u00e9termin\\u00e9e au Niveau National (R\\u00e9publique Gabonaise)\",\"Albania First NDC (Updated submission)\",\"Philippines First NDC\",\"Palestine's National Adaptation Plan\",\"Technical analysis of the third biennial update report of Ghana submitted on 12 August 2021\",\"Gabon. Biennial update report (BUR). BUR 1.\",\"The First Global Stocktake International Renewable Energy Agency (IRENA) Submission March 2023\",\"Maldives. National Communication (NC). NC 2.\",\"Cuba First NDC Summary (Updated submission)\",\"Estrategia clim\\u00e1tica de largo plazo de Chile - Camino a la carbono neutralidad y resiliencia a m\\u00e1s tardar al 2050\",\"The first global stocktake submission by CDP\",\"Saudi Arabia First NDC (Updated submission)\",\"Cameroon First NDC (Updated submission)\",\"Ghana First NDC (Updated submission)\",\"OECD Submission to the First Global Stocktake (March 2023)\",\"Record of the facilitative sharing of views at the fifty - second to fifty - fifth session of the Subsidiary Body for Implementation: Lao People\\u00e2\\u20ac\\u2122s Democratic Republic (FSVR1)\",\"Climate Protection Policy of the Czech Republic. Executive Summary 2017\",\"European Union. 2022 National Inventory Report (NIR)\",\"National Adaptation Plans 2020. Progress in the formulation and implementation of NAPs\",\"Paraguay Formal letter on submission of updated NDC\",\"Summary for Policy Makers\",\"T\\u00dcRK\\u0130YE UPDATED 1st NDC\",\"First Global Stocktake Submission by Climate Policy Initiative\",\"Australia NDC 2022 Update\",\"Letter to UNFCCC regarding Second NDC (Archived)\",\"Spain. 2022 National Inventory Report (NIR)\",\"Kazakhstan. Biennial Reports (BR). BR 3. National Communication (NC). NC 7.\",\"Yemen. Biennial update report (BUR). BUR 1.\",\"Romania. National Communication (NC). NC 7 - Annex III\",\"Record of the facilitative sharing of views at the fifty-second to fifty-fifth session of the Subsidiary Body for Implementation: Uruguay (FSVR3)\",\"Papua New Guinea. Biennial update report (BUR). BUR2. National Inventory Report\",\"Call for inputs to the first global stocktake - Submitted by Climate strategies on behalf of The Economics of Energy Innovation and System Transition project\",\"Sao Tome and Principe First NDC (Updated submission)\",\"Biennial in-session workshop on information to be provided by Parties in accordance with Article 9, paragraph 5, of the Paris Agreement. Summary report by the secretariat\",\"Oman Second NDC\",\"Kazakhstan First NDC\",\"Eritrea First NDC\",\"Czechia. Biennial report (BR). BR 4\",\"Russian Federation. Biennial report (BR). BR 4\",\"Malta. National Communication (NC). NC 2.\",\"Submission on the Paris Agreement\\u2019s First Global Stocktake - WEDO on behalf of the WGC\",\"Spain's Adaptation communication\",\"Nationally determined contributions under the Paris Agreement. Synthesis report by the secretariat. Addendum. Additional information on domestic mitigation measures\",\"Technical analysis of the second biennial update report of Tunisia submitted on 31 December 2016. Summary report by the team of technical experts\",\"Ethiopia. National Communication (NC). NC 2.\",\"Colombia. Biennial update report (BUR). BUR 3. National inventory report.\",\"Nature4Climate Coalition Submission to the Third Technical Dialogue of the First Global Stocktake\",\"Georgia. Biennial update report (BUR). BUR 2.\",\"Canada. 2022 National Inventory Report (NIR) French.\",\"Albania. National Communication (NC). NC 4.\",\"Submission in Response to the Call for Inputs to the First Global Stocktake (GST) - Care About Climate\",\"Annex III: Scenarios and Modelling Methods\",\"Revised national low carbon strategy of France\",\"Viet Nam. Biennial update report (BUR). BUR 3. National inventory report.\",\"South Africa. National Communication (NC). NC 3 - Annex\",\"Tunisia First NDC (Updated submission)\",\"ICC Submission to First Global Stocktake\",\"Suriname. Biennial update report (BUR). BUR 1 - Technical Annex I\",\"China First NDC (Archived)\",\"Greece. Biennial report (BR). BR 4\",\"Sierra Leone First NDC (Updated submission)\",\"Angola First NDC (Updated submission)\",\"Costa Rica First NDC-English Translation (Archived)\",\"El Salvador. Biennial update report (BUR). BUR 1.\",\"China's Mid-Century Long-Term Low Greenhouse Gas Emission Development Strategy\",\"France. 2021 National Inventory Report (NIR)\",\"Climate, Health, and Equity Criteria for Policy Analysis and Evaluation - Global Climate and Health Alliance, a project of the Social Good Fund (GCHA)\",\"IIASA Policy Brief 29: Finding a Feasible Path - Submission to the Global Stocktake\",\"Inputs for the First Global Stocktake Submission by the International Union for Conservation of Nature (IUCN) - August 2022\",\"Congo First NDC (Archived)\",\"WWF response to the call for inputs to the first Global Stocktake\",\"Submission by the Institute for Global Environmental Strategies (IGES) and the Institute for Climate and Sustainable Cities (ICSC):Key priorities of non-state actors (NSAs) in Southeast Asia for the Global Stocktake (GST)\",\"Chad First NDC (Archived)\",\"Carta UNFCCC NDC\",\"Facilitative sharing of views record 2 - Uruguay\",\"Antigua and Barbuda's Adaptation communication\",\"Zimbabwe. Biennial update report (BUR). BUR 1.\",\"Slovenia. Biennial report (BR). BR 4\",\"Alliance of Small Island States submission topic: Global Stocktake \\u00e2\\u20ac\\u201c submission 1\",\"Technical analysis of the fourth biennial update report of Lebanon submitted on 29 December 2021. Summary report by the team of technical experts\",\"Switzerland Fast Start Financing for Developing Countries\",\"Poland. 2021 National Inventory Report (NIR)\",\"Submission by the Climate Equity Reference Project Canada (CERP) - Can climate change fuelled loss and damage ever be fair?\",\"Finland. National Communication (NC). NC 8 - Annex\",\"Egypt First NDC\",\"Croatia. Biennial report (BR). BR 4\",\"Facilitative sharing of views record - Serbia\",\"Chile. Biennial update report (BUR). BUR 4. National inventory report.\",\"Global CCS Institute - second submission to the global stocktake\",\"Sweden. 2022 National Inventory Report (NIR)\",\"Burundi First NDC (Updated submission)\",\"Global stocktake submission (19/CMA.1): Climate institutions as indicators of progress towards implementation of the Paris Agreement - Submitted by the Centre for Policy Research\",\"France. National Communication (NC). NC 7.\",\"Slovakia. 2021 National Inventory Report (NIR)\",\"Equatorial Guinea First NDC\",\"Costa Rica. Biennial update report (BUR). BUR 2 - Technical Annex II\",\"Tonga. National Communication (NC). NC 3.\",\"Malawi. Biennial update report (BUR). BUR 1.\",\"Bulletin of Multi-scale Estimation of Greenhouse Gas Budgets 2023 - National Institute for Environmental Studies\",\"Azerbaijan First NDC\",\"Japan. National Communication (NC). NC 7.\",\"Belize. National Communication (NC). NC 3.\",\"Venezuela (Bolivarian Republic of) First NDC (Updated submission)\",\"Saint Lucia's NAP Progress Report and Adaptation communication\",\"NDC COTE D'IVOIRE SUBMISSION\",\"Climate Action Pathway: Water. Vision and Summary\",\"Mauritania. Biennial update report (BUR). BUR 2. National inventory report - Annex\",\"Joint Submission to the First Global Stocktake: A satellite-based deforestation monitoring system for tropical forests, \\\"JICA-JAXA Forest Early Warning System in the Tropics (JJ-FAST)\\\"\",\"Kenya. National Communication (NC). NC 2 - Executive Summary\",\"Bosnia and Herzegovina. Biennial update report (BUR). BUR 2.\",\"Nationally determined contributions under the Paris Agreement. Synthesis report by the secretariat\",\"Technical analysis of the second biennial update report of Jordan submitted on 2 June 2021. Summary report by the team of technical experts\",\"The Carbon Monitor project's Submission to UNFCCC First Global Stocktake\",\"Low Emission Development Strategy 2021-2050\",\"Australia\\u2019s Fast-Start Climate Finance: Investing in Effective and Sustainable Climate Outcomes\",\"Addendum to the synthesis report for the technical assessment component of the first global stocktake: Synthesis report on the information identified in decision 19/CMA.1, paragraph 36 (d)\",\"Submission to the UNFCCC First Global Stocktake, Second Technical Call, August 2022\",\"Denmark. 2021 National Inventory Report (NIR)\",\"Jamaica First NDC (Archived)\",\"Benin\\u2019s Adaptation Communication\",\"Norwegian Climate Finance 2011\",\"National Clean Development Strategy 2020-2050\",\"Submission by the Government of the Republic of Indonesia to the global stocktake\",\"Ukraine. 2021 National Inventory Report (NIR)\",\"Saint Kitts and Nevis First NDC (Archived)\",\"Uzbekistan First NDC (Updated submission)\",\"Submission by Canada: First Technical Dialogue under the Global Stocktake\",\"Togo First NDC (Archived)\",\"Australia's Fast-Start Finance Update Report\",\"Marshall Islands Second NDC (Updated submission)\",\"FSV1 record - Benin\",\"Annex III: Tables of Historical and Projected Well-mixed Greenhouse Gas Mixing Ratios and Effective Radiative Forcing of All Climate Forcers\",\"Chapter 2: High Mountain Areas\",\"Iceland\\u2019s Fast Start Finance \\u2013 Status June 2012\",\"The University of Cambridge on behalf of the PARIS REINFORCE project: input to the first global stocktake: SYR (a) The state of greenhouse gas emissions by sources and removals by sinks and mitigation efforts undertaken by Parties, including the information referred to in Article 13, para 7(a), and Article 4, paras 7c , 15 and 19, of the Paris Agreement\",\"Verbal note (Archived)\",\"Belize First NDC (Updated submission)\",\"Japan First NDC (Updated submission)\",\"Dominica. National communication (NC). NC 3.\",\"Submission to the First Global Stocktake The current state of play on financing loss and damage\",\"Samoa Note Verbale\",\"Queers X Climate and OUT for Sustainability: Inputs for the First Global Stocktake as Requested in Decision 19/CMA.1, paragraph 19\",\"Madagascar's Adaptation communication\",\"The global stocktake: an opportunity for ambition - Landscape Analysis of Adaptation Opportunities for Climate Ambition\",\"Technical analysis of the second biennial update report of Azerbaijan submitted on 26 September 2018. Summary report by the team of technical experts\",\"Mozambique. National Communication (NC). NC 1.\",\"North Macedonia. Biennial update report (BUR). BUR 3. National inventory report.\",\"Botswana. National communication (NC). NC 3.\",\"Iceland First NDC (Archived)\",\"Uganda. National Communication (NC). NC 2.\",\"Kiribati First NDC\",\"Afghanistan. National Communication (NC). NC 2.\",\"Uruguay. Biennial update report (BUR). BUR 4. National inventory report.\",\"Switzerland. Biennial Reports (BR). BR 3. National Communication (NC). NC 7 - Supporting Documentation\",\"Timor-Leste First NDC\",\"Montenegro. Biennial update report (BUR). BUR 3. National inventory report.\",\"Facilitative sharing of views record - BUR2 Georgia\",\"Nigeria First NDC (Updated submission)\",\"Bulgaria. 2021 National Inventory Report (NIR)\",\"Figures Translation LTS Slovenia\",\"Lao People's Democratic Republic First NDC (Archived)\",\"Annex II: Acronyms\",\"Annual compilation and accounting report for Annex B Parties under the Kyoto Protocol for 2020. Note by the secretariat\",\"Presentacion de la Actualizacion de la Contribucion Nacional Determinada en su Primera Actualizacion\",\"Technical analysis of the first biennial update report of Liberia submitted on 2 April 2021. Summary report by the team of technical experts\",\"Monaco First NDC (Archived)\",\"New Zealand\\u2019s Fast-Start Finance\",\"Facilitative sharing of views record - BUR3 Andorra\",\"GST submission: IIASA policy brief - promising climate progress\",\"Niue First NDC\",\"Submission for the first input phase of the Global Stocktake: Climate Action Network (February 2022)\",\"UITPs Key Messages for the Global Stocktake at COP27\",\"State of Palestine. National Communication (NC). NC 1.\",\"Updated Second Nationally Determined Contribution of the United Arab Emirates\",\"Barbados. National Communication (NC). NC 2.\",\"AR6 Synthesis Report: Longer Report\",\"Technical analysis of the fourth biennial update report of Andorra submitted on 11 March 2021. Summary report by the team of technical experts\",\"Technical analysis of the third biennial update report of Viet Nam submitted on 16 April 2021. Summary report by the team of technical experts\",\"Liberia First NDC (Updated submission)\",\"Tajikistan. National Communication (NC). NC 4.\",\"Submision to the First Global Stocktake\",\"United States of America First NDC (Archived)\",\"Technical analysis of the first biennial update report of Cuba submitted on 23 November 2020. Summary report by the team of technical experts\",\"Technical report on the technical analysis of the technical annex to the first biennial update report of Honduras submitted in accordance with decision 14/CP.19, paragraph 7, on 19 November 2020 - Part 2\",\"Technical analysis of the fourth biennial update report of Namibia submitted on 18 February 2021. Summary report by the team of technical experts\",\"Tajikistan First NDC (Updated submission)\",\"Submission from the Trade Union NGOs (TUNGO) on the first Global Stocktake (GST)\",\"Transitions in the land sector and environmental integrity: safe and just pathways towards climate neutrality: Submission to Global Stocktake\",\"Guinea First NDC (Updated submission October 2021)\",\"Technical analysis of the first biennial update report of Benin submitted on 24 October 2019. Summary report by the team of technical experts\",\"Lebanon. Biennial update report (BUR). BUR 3.\",\"Annexes\",\"United States of America. Biennial report (BR). BR 2.\",\"Brazil First NDC (Archived)\",\"Indonesia First NDC (Archived)\",\"Climate Action Pathway: Ocean and Coastal Zones. Vision and Summary\",\"New Zealand First NDC (Updated submission)\",\"Mexico. Biennial update report (BUR) BUR 2. National Communication (NC). NC6.\",\"Global stocktake, Mitigation, Science and research\",\"Niger. National Communication (NC). NC 3.\",\"Montenegro First NDC (Archived)\",\"Facilitative sharing of views record - BUR1 Papua New Guinea\",\"Constituted Body GST synthesis report: Synthesis report for the technical assessment component of the first global stocktake - PCCB\",\"Liechtenstein. 2021 National Inventory Report (NIR)\",\"Annual report of the Paris Agreement Implementation and Compliance Committee to the Conference of the Parties serving as the meeting of the Parties to the Paris Agreement. Report by the secretariat\",\"Technical analysis of the first biennial update report of Saudi Arabia submitted on 3 April 2018. Summary report by the team of technical experts\",\"Bahamas Updated Nationally Determined Contributions, 2022\",\"Iraq. National Communication (NC). NC 1.\",\"Nicaragua First NDC (Archived)\",\"Monaco. Biennial report (BR). BR 4\",\"United Kingdom. Biennial Reports (BR). BR 3. National Communication (NC). NC 7.\",\"Submission of Sudan's First NDC\",\"Myanmar First NDC (Archived)\",\"Norway First NDC (Archived)\",\"Belize. Biennial update report (BUR). BUR 1 - Technical Annex\",\"Japan. 2022 National Inventory Report (NIR)\",\"Djibouti. National communication (NC). NC 3.\",\"Submission of the Environmental Integrity Group (EIG) of Inputs to the Global Stocktake\",\"CIEL - submission for the technical input phase of the first global stocktake\",\"Azerbaijan. National Communication (NC). NC 4.\",\"Malawi First NDC (Updated submission)\",\"Technical analysis of the fourth biennial update report of South Africa submitted on 28 September 2021. Summary report by the team of technical experts\",\"Joint Submission to the first Global Stocktake: The decadal global atmospheric greenhouse gas concentration trends observed by Japan\\u00e2\\u20ac\\u2122s Greenhouse gases Observing SATellite (GOSAT) The Japan Aerospace Exploration Agency (JAXA) and the Institute for the Global Environmental Strategies (IGES)\",\"Uganda. Biennial update report (BUR). BUR 1 - Technical Annex\",\"Rwanda. National Communication (NC). NC 3.\",\"Bhutan Second NDC\",\"Jamaica. Biennial update report (BUR). BUR 1 - Erratum\",\"Uzbekistan. Biennial update report (BUR). BUR1.\",\"Australia's Long-Term Emissions Reduction Plan: A whole-of-economy Plan to achieve net zero emissions by 2050\",\"Local Governments and Municipal Authorities (LGMA) Constituency - Third meeting of the Technical Dialogue (TD1.3) Inputs to Inform the Subsidiary Body for Scientific and Technological Advice\",\"Luxembourg. 2021 National Inventory Report (NIR)\",\"Chapter 4: Sea Level Rise and Implications for Low-Lying Islands, Coasts and Communities\",\"Nationally determined contributions under the Paris Agreement. Revised note by the secretariat\",\"Iceland's Fast Start Finance (Status June 2011)\",\"Organization of the Petroleum Exporting Countries (OPEC):Views on efforts related to addressing the social and economic consequences and impacts of response measures for input to first technical assessment (TA) for global stocktake (GST)\",\"The University of Cambridge on behalf of the PARIS REINFORCE project: input to the first global stocktake: SYR (f) Barriers and challenges, including finance, technology and capacity-building gaps, faced by developing countries\",\"Kuwait. National communication (NC). NC 2.\",\"Marshall Islands Second NDC (Archived)\",\"Annex I: Observational Products\",\"Norway's long-term low-emission strategy for 2050\",\"Climate Law and Governance as Indicators of \\u00e2\\u20ac\\u02dcAbility\\u00e2\\u20ac\\u2122 to implement the Paris Agreement. Jointly submitted by the authors below on behalf of Centre for Policy Research, Grantham Research Institute on Climate Change and the Environment, Climate Legal\",\"Namibia's Adaptation communication\",\"Technical analysis of the second biennial update report of Mexico submitted on 28 November 2018. Summary report by the team of technical experts\",\"Long-Term Strategy on Climate Action and Action Plan\",\"Submission to the UNFCCC Global Stocktake first technical call from The Global Climate and Health Alliance and the Health and Climate Network\",\"Denmark. Biennial report (BR). BR 4\",\"Saint Kitts and Nevis. National Communication (NC). NC 2.\",\"Italy. National Communication (NC). NC 7.\",\"Benin. Biennial update report (BUR). BUR 1. National Inventory Report.\",\"Ukraine. Biennial report (BR). BR 1.\",\"Te hau m\\u0101rohi ki anamata - Transitioning to a low-emissions and climate-resilient future: AOTEAROA NEW ZEALAND'S LONG-TERM LOW-EMISSIONS DEVELOPMENT STRATEGY\",\"Tonga First NDC\",\"Austria. National Communication (NC). NC 8. Biennial Reports (BR). BR 5.\",\"Venezuela (Bolivarian Republic of) First NDC (Archived)\",\"Saint Vincent and the Grenadines. National Communication (NC). NC 2.\",\"Kingdom of Saudi Arabia / Updated Nationally Determined Contribution / 2021\",\"Hungary. Biennial Reports (BR). BR 3. National Communication (NC). NC 7.\",\"Botswana First NDC\",\"Nationally determined contributions under the Paris Agreement. Synthesis report by the secretariat\",\"Nepal First NDC (Archived)\",\"Climate Action Pathway. Finance. Vision and Summary\",\"Afghanistan. Biennial update report (BUR). BUR 1.\",\"Liechtenstein. Biennial report (BR). BR 4\",\"Timor-Leste. National communication (NC). NC2.\",\"Switzerland's Adaptation communication\",\"Technical analysis of the first biennial update report of Papua New Guinea submitted on 17 April 2019. Summary report by the team of technical experts\",\"Annual report of the Paris Agreement Implementation and Compliance Committee to the Conference of the Parties serving as the meeting of the Parties to the Paris Agreement. Report by the secretariat\",\"Uruguay. National communication (NC). NC5.\",\"Bahrain First NDC (Archived)\",\"Ireland. 2022 National Inventory Report (NIR)\",\"UNDRR Inputs to the Paris Agreement's First Global Stocktake 2023\",\"Submission by the NAP Global Network to the First Global Stocktake: Enhancing Gender-Responsive Adaptation Action\",\"Nigeria First NDC (Archived)\",\"Montenegro. Biennial update report (BUR). BUR 2.\",\"Facilitative sharing of views record - BUR2 China\",\"Constituted Body GST synthesis report: Synthesis report of the Standing Committee on Finance on the information identified in decision 19/CMA.1\",\"The Commonwealth of Dominica Updated National Determined Contribution\",\"Annual compilation and accounting report for Annex B Parties under the Kyoto Protocol for 2020. Note by the secretariat\",\"Technical analysis of the first biennial update report of Mauritius submitted on 31 December 2021. Summary report by the team of technical experts\",\"Honduras. Biennial update report (BUR). BUR1.\",\"United Kingdom. 2022 National Inventory Report (NIR)\",\"Sudan First NDC (Interim updated submission)\",\"Submission by the Global Alliance for the Future of Food on the First Global Stocktake\",\"Fiji First NDC (Updated submission)\",\"Mozambique First NDC (Updated submission-letter)\",\"Facilitative sharing of views record - BUR3 Chile\",\"The United Kingdom of Great Britain and Northern Ireland's submission to the United Nations Framework Convention on Climate Change on the first Global Stocktake\",\"Tajikistan. Biennial update report (BUR). BUR 1.\",\"NDC Submission Letter Serbia\",\"State of Palestine_NDC_SPM (Archived)\",\"Climate Action Pathway: Land Use. Action Table\",\"New Zealand First NDC\",\"Mexico. 2018 National Inventory Report (NIR).\",\"Efforts related to addressing the social and economic consequences and impacts of response measures as an input to the first global stocktake - updated compilation by the secretariat\",\"Technical analysis of the first biennial update report of C\\u00c3\\u00b4te d\\u00e2\\u20ac\\u2122Ivoire submitted on 19 July 2018. Summary report by the team of technical experts\",\"Guinea-Bissau. Biennial update report (BUR). BUR 1.\",\"Summary for Policymakers\",\"Lebanon First NDC (Archived)\",\"Brazil First NDC (archived Updated submission)\",\"India. National Communication (NC). NC 2.\",\"Submission for the Information Collection and Preparation (ICP) Component of the Global Stocktake (GST): Jointly prepared by Conservation International, Environmental Defense Fund, and The Nature Conservancy\",\"Input from Norway to the Global Stocktake\",\"Barbados First NDC (Archived)\",\"Technical analysis of the fourth biennial update report of Brazil submitted on 31 December 2020. Summary report by the team of technical experts\",\"Technical report on the technical analysis of the technical annex to the first biennial update report of Gabon submitted in accordance with decision 14/CP.19, paragraph 7, on 29 December 2021\",\"Lesotho. National Communication (NC). NC 3.\",\"Morocco. Biennial update report (BUR). BUR 3.\",\"Conceptualizing and Assessing Progress Toward the Global Goal on Adaptation Submission by Perry World House, University of Pennsylvania\",\"Facilitative sharing of views record - BUR2 Paraguay\",\"NIS to BUR2 Republic of Moldova\",\"United States of America. 2022 National Inventory Report (NIR)\",\"Mexico. Biennial update report (BUR) BUR 3.\",\"Climate Action Pathway: Transport. Vision and Summary\",\"Focus on Local Sustainable Energy and Climate Solutions in the Global Stocktake INFORSE Submission to UNFCCC Global Stocktake, second round of submissions\",\"New Zealand. 2022 National Inventory Report (NIR)\",\"Uruguay. Biennial update report (BUR). BUR 3.\",\"Submission by the United Nations Office for the Coordination of Humanitarian Affairs to the first global stocktake of the Paris Agreement (GST)\",\"Switzerland. Biennial Reports (BR). BR 3. National Communication (NC). NC 7.\",\"Tile Til Eo - 2050 Climate Strategy \\\"Lighting the way\\\"\",\"Technical analysis of the first biennial update report of the Dominican Republic submitted on 21 May 2020. Summary report by the team of technical experts\",\"Monaco. 2021 National Inventory Report (NIR)\",\"New Zealand\\u2019s Fast-Start Finance: 2012 Progress Report\",\"Summary of revised national low carbon strategy of France\",\"United Republic of Tanzania First NDC (Archived)\",\"Bulgaria. Biennial report (BR). BR 4\",\"Submission by Fundaci\\u00f3n Avina to the First Global Stocktake process under the Paris Agreement\",\"Fast Start Financing: U.S. Climate Funding in FY 2010\",\"Annex IV: Reviewers of the IPCC Special Report on Climate Change and Land\",\"Lao People's Democratic Republic. Biennial update report (BUR). BUR 1 - Technical Annex\",\"Technical analysis of the first biennial update report of Kuwait submitted on 30 September 2019. Summary report by the team of technical experts\",\"Honduras First NDC (Archived)\",\"Annex to the EU Fast Start Finance Report for Submission to the UNFCCC Secretariat \\u2013 Individual Actions Supported by EU Fast Start Financing\",\"Annex I: Glossary\",\"EU Fast Start Finance Report 2013\",\"Colombia. National Communication (NC). NC 3.\",\"Georgia. National communication (NC). NC 4.\",\"Canada. Biennial report (BR). BR 4\",\"South Africa. National Communication (NC). NC 3.\",\"Updated NDC - English version\",\"Mali First NDC (Updated submission)\",\"Serbia. Technical analysis of the first biennial update report of Serbia submitted on 28 March 2016. Summary report by the team of technical experts.\",\"Argentina. Biennial update report (BUR). BUR 4.\",\"World Resources Institute: Technical submission to the GST - The State of Nationally Determined Contributions: 2022\",\"Paraguay First NDC (Archived)\",\"Sao Tome and Principe. National communication (NC). NC 3.\",\"Kazakhstan. 2022 National Inventory Report (NIR)\",\"Equatorial Guinea. National communication (NC). NC1.\",\"Czechia. 2022 National Inventory Report (NIR)\",\"Malta. National Communication (NC). NC 8.\",\"Submission by the Climate Equity Reference Project Canada (CERP) - A fair share phases out: A civil society equity review on an equitable global phase out of fossil fuels\",\"Nationally determined contributions under the Paris Agreement. Synthesis report by the secretariat. Addendum. Additional information from adaptation components of nationally determined contributions\",\"France. National Communication (NC). NC 7 - Corrigendum\",\"Technical analysis of the second biennial update report of the Republic of Moldova submitted on 19 April 2019. Summary report by the team of technical experts\",\"Biennial in-session workshop on information to be provided by Parties in accordance with Article 9, paragraph 5, of the Paris Agreement. Summary report by the secretariat\",\"Oman. National communication (NC). NC 2.\",\"Annex I: Global to Regional Atlas\",\"A Solutions-Oriented Approach to the Global Stocktake - Center for Climate and Energy Solutions (C2ES) submission to the global stocktake\",\"Cameroon First NDC (Archived)\",\"Ghana First NDC (Archived_Interim updated submission_Transmittal letter)\",\"Spatial Data Provenance Guidelines for Nature-Based Solutions (NbS) Global Stocktake Submission\",\"Record of the facilitative sharing of views at the fifty-first session of the Subsidiary Body for Implementation: Saudi Arabia (FSVR1)\",\"Climate Change: Swiss Fast Start Financing from Public Sources (ODA)\",\"European Union First NDC (Updated submission)\",\"Achieving Net-Zero Prosperity How Governments Can Unlock 15 Essential Transformations: IDDRI and IDB\",\"Identifying and accounting for ocean specific topics in the Global Stocktake\",\"Turkish greenhouse gas inventory 1990 - 2019\",\"Australia First NDC (Archived)\",\"Spain. National Communication (NC). NC 7 - Addenda\",\"Russian Federation. 2021 National Inventory Report (NIR)\",\"Albania. Biennial update report (BUR). BUR 1. National inventory report.\",\"iGST submission: Negotiator Briefing: A Needs-Based Approach to Climate Finance\",\"Peru. Biennial update report (BUR). BUR 2. National inventory report.\",\"After Paris: Inequality, fair shares and the climate emergency - Submission by Climate Equity Reference Project Canada (CERP)\",\"United States\\u2019 Submission on the Third Technical Dialogue of the First Global Stocktake - April 2023\",\"South Africa.Biennial update report (BUR). BUR 4. National inventory report.\",\"Gabon. Biennial update report (BUR). BUR 1 - Technical Annex\",\"Technical analysis of the third biennial update report of Indonesia submitted on 20 December 2021. Summary report by the team of technical experts\",\"Addendum to the synthesis report for the technical assessment component of the first global stocktake: State of greenhouse gas emissions by sources and removals by sinks and mitigation efforts undertaken by Parties, including the information referred to in Article 13, paragraph 7(a), and Article 4, paragraphs 7, 15 and 19, of the Paris Agreement\",\"Maldives First NDC (Archived)\",\"Cuba. National Communication (NC). NC 3.\",\"Estrategia de Descarbonizaci\\u00adon a Largo Plazo 2050\",\"Romania. 2021 National Inventory Report (NIR)\",\"Joint submission by Bhutan and Nepal: Inputs to the technical phase of the First Global Stocktake under the Paris Agreement\",\"King Abdullah Petroleum Studies and Research Center submission to the GST - Closing the Investment Gap to Achieve Paris Agreement Goals\",\"Palau First NDC\",\"Greece. 2021 National Inventory Report (NIR)\",\"Chile. National Communication (NC). NC 4.\",\"GST submission by Climate Equity Reference Project Canada (CERP) - The imperative towards cooperation: Steps towards an equitable response to the climate crisis\",\"Finance in the GST technical annex and high-level outcome at COP28: independent Global Stocktake, Finance Working Group TD1.3 submission\",\"Burkina Faso's Adaptation communication\",\"Singapore's Adaptation communication\",\"Algeria First NDC Translation\",\"Guatemala First NDC(Archived)\",\"Senegal First NDC\",\"Sweden's long-term strategy for reducing greenhouse gas emissions\",\"Poland. Biennial report (BR). BR 4\",\"Yearbook of Global Climate Action 2020: Marrakech Partnership for Global Climate Action\",\"Submission letter\",\"Facilitative sharing of views record 2 - Armenia\",\"Project Drawdown submission\",\"Finland. Biennial Reports (BR). BR 5.\",\"Croatia. 2021 National Inventory Report (NIR)\",\"Switzerland First NDC (Archived)\",\"Cambodia First NDC (Updated submission)\",\"Resilience Pathway Action Table (unedited)\",\"We Mean Business Coalition Submission to the Global Stocktake (Updated Submission August 2022)\",\"The risks of temperature overshoot - CONSTRAIN Submission to the first Global Stocktake\",\"Central African Republic First NDC (Updated submission)\",\"Republic of Korea First NDC (Updated submission)\",\"Cuba First NDC (Archived)\",\"Egypt. Biennial update report (BUR). BUR 1.\",\"Antigua and Barbuda. Biennial update report (BUR). BUR 1.\",\"Finland's long-term low greenhouse gas emission development strategy\",\"Zimbabwe. National Communication (NC). NC 4.\",\"Slovenia. National Communication (NC). NC 8. Biennial Reports (BR). BR 5.\",\"Portugal. National Communication (NC). NC 8. Biennial Reports (BR). BR 5.\",\"Suriname. National Communication (NC). NC 2.\",\"Seychelles. National Communication (NC). NC 2.\",\"Angola. National communication (NC). NC 2.\",\"IIASA Policy Brief 31: United scenarios - Submissions to the Global Stocktake\",\"Costa Rica. Biennial update report (BUR). BUR 2 - Technical Annex I\",\"El Salvador. National Communication (NC). NC 3.\",\"China's submission to the global stocktake\",\"France. Biennial report (BR). BR 4\",\"The First Global Stocktake: International Energy Agency (IEA) submission\",\"United States Mid-Century Strategy for Deep Carbonization. Documentation and Output\",\"Brunei Darussalam First NDC\",\"Summary for Policymakers\",\"Lesotho. National Communication (NC). NC 2.\",\"Submission for the First Global Stocktake Submitted by: Nationally Determined Contributions (NDCs) Working Group, YOUNGO, Care About Climate\",\"Belarus First NDC (Updated submission)\",\"Technical analysis of the third biennial update report of the Republic of Moldova submitted on 21 December 2021. Summary report by the team of technical experts\",\"AR6 Synthesis Report: Annex I: Glossary\",\"Technical analysis of the first biennial update report of Uzbekistan submitted on 5 July 2021. Summary report by the team of technical experts\",\"Liberia. National communication (NC). NC 2.\",\"Morocco First NDC (Archived)\",\"Facilitative sharing of views record - BUR2 Indonesia\",\"Compilation and synthesis of fourth biennial reports of Parties included in Annex I to the Convention. Revised report by the secretariat. Addendum\",\"CarbonCare InnoLab's Submission in Response to Call on: The first global stocktake\",\"Nigeria. Biennial update report (BUR). BUR2.\",\"Micronesia (Federated State of) First NDC\",\"New Zealand. National Communication (NC). NC 8.\",\"Chapter 4: Land Degradation\",\"Latvia. 2022 National Inventory Report (NIR)\",\"Technical analysis of the first biennial update report of Egypt submitted on 20 December 2019 Summary report by the team of technical experts\",\"Guyana. National Communication (NC). NC 2.\",\"Switzerland. 2021 National Inventory Report (NIR)\",\"Thailand. National Communication (NC). NC 3.\",\"United Kingdom Adaptation Communication Update\",\"Lithuania. Biennial report (BR). BR 4\",\"Annual compilation and accounting report for Annex B Parties under the Kyoto Protocol for 2020. Note by the secretariat. Addendum. Compilation and accounting information by Party\",\"Technical analysis of the first biennial update report of Mongolia submitted on 30 August 2017. Summary report by the team of technical experts\",\"Technical report on the technical analysis of the technical annex to the fourth biennial update report of Brazil submitted in accordance with decision 14/CP.19, paragraph 7, on 31 December 2020 - Part 1\",\"Israel First NDC (Archived)\",\"Bangladesh First NDC (Interim-Updated submission)\",\"Submission by the Global CCS Institute to the first Global Stocktake\",\"Global Stocktake Submission: \\\"Country\\\" of Permafrost Submission from Stockholm University, Sweden\",\"Niger First NDC (Archived)\",\"Mongolia. Biennial update report (BUR). BUR 1. National inventory report.\",\"Constituted Body GST synthesis report: Inputs to the technical assessment component of the first global stocktake on the impacts of the implementation of response measures\",\"Facilitative sharing of views record - BUR1 El-Salvador\",\"Climate Action Pathway: Energy. Action Table\",\"Netherlands. National Communication (NC). NC 7.\",\"Meeting the Fast Start Commitment: U.S. Climate Finance in Fiscal Year 2012\",\"Technical analysis of the first biennial update report of Antigua and Barbuda submitted on 3 March 2020. Summary report by the team of technical experts\",\"Guinea First NDC (Archived)\",\"Chapter 2: Mitigation Pathways Compatible with 1.5\\u00b0C in the Context of Sustainable Development\",\"Lebanon. National Communication (NC). NC 3.\",\"Indonesia. Biennial update report (BUR). BUR 2.\",\"Brazil. Biennial update report (BUR). BUR4 - Technical Annex II\",\"Liechtenstein: Fast\\u2010Start Finance \\u2013 Progress Report for the Period May 2010 to May 2012\",\"Tajikistan First NDC (Archived)\",\"The Republic of North Macedonia First NDC (Archived)\",\"Sri Lanka. National Communication (NC). NC 2.\",\"United States of America. National Communication (NC). NC 8. Biennial Reports (BR). BR5\",\"Iraq First NDC\",\"Nauru. National Communication (NC). NC 2.\",\"Annex VIII: Acronyms\",\"Mauritania. Biennial update report (BUR). BUR 2.\",\"Thailand First NDC (Archived)\",\"United Arab Emirates First NDC (Archived)\",\"Submission By the Republic of Zambia on behalf of the African Group of Negotiators (AGN): Views on the Technical Phase of the First Global Stocktake under the Paris Agreement\",\"National Decarbonization Plan - Government of Costa Rica 2018-2050\",\"The First Global Stocktake International Renewable Energy Agency (IRENA) Submission\",\"Technical analysis of the second biennial update report of Panama submitted on 27 March 2021 Summary report by the team of technical experts\",\"Best Practice in Aligning International Public Finance with the Paris Agreement\",\"Long-Term Strategy 2050 - Austria\",\"Kenya First NDC (Updated submission)\",\"Bosnia and Herzegovina First NDC (Archived)\",\"Ukraine First NDC (Archived)\",\"Nationally determined contributions under the Paris Agreement. Synthesis report by the secretariat\",\"Nepal's Long-term Strategy for Net-zero Emissions\",\"Mauritius. Biennial update report (BUR). BUR 1.\",\"2050 Carbon Neutral Strategy of the Republic of Korea\",\"Trinidad and Tobago First NDC\",\"Austria. 2021 National Inventory Report (NIR)\",\"The LANCET Countdown: Tracking progress on climate and health. Submission to the UNFCCC Global Stocktake first technical call\",\"Technical analysis of the second biennial update report of Ghana submitted on 19 February 2019. Summary report by the team of technical experts\",\"Viet Nam First NDC (Archived)\",\"Strat\\u00e9gie \\u00e0 long terme de la Belgique\",\"Submission to the UNFCCC ahead of the first Technical Dialogue of the Global Stocktake: Institute for Sustainable Development and International Relations (IDDRI)\",\"Saint Lucia. Biennial update report (BUR). BUR 1. National inventory report.\",\"Uganda's Updated NDC\",\"Nationally determined contributions under the Paris Agreement. Synthesis report by the secretariat\",\"The University of Cambridge on behalf of the PARIS REINFORCE project input to the first global stocktake: SYR (e) Efforts to enhance understanding, action and support, on a cooperative and facilitative basis, related to averting, minimizing and addressing loss and damage associated with the adverse effects of climate change\",\"Compilation and synthesis of fourth biennial reports of Parties included in Annex I to the Convention. Report by the secretariat. Addendum\",\"Namibia First NDC (Updated submission)\",\"Norway. 2022 National Inventory Report (NIR)\",\"Japan First NDC (Archived)\",\"Belgium. Biennial Reports (BR). BR 3. National Communication (NC). NC 7.\",\"Strategy of socio-economic development of the Russian Federation with low greenhouse gas emissions until 2050\",\"Viet Nam. Biennial update report (BUR). BUR 3.\",\"Submission to the First Technical Dialogue of the Global Stocktake\",\"Dominican Republic First NDC (Updated submission)\",\"Tunisia First NDC (Archived)\",\"Madagascar First NDC\",\"YOUNGO GST Submission\",\"Technical analysis of the second biennial update report of China submitted on 25 June 2019. Summary report by the team of technical experts\",\"Summary for Policymakers\",\"Nationally determined contributions under the Paris Agreement. Revised note by the secretariat\",\"Iceland. 2021 National Inventory Report (NIR)\",\"Forward Note for submission of Second NDC\",\"Kuwait First NDC (Archived)\",\"Marshall Islands' Adaptation communication\",\"Annex IX: Contributors to the IPCC WGI Sixth Assessment Report\",\"FSV2 record - Costa Rica\",\"Rwanda First NDC (Updated submission)\",\"Vanuatu First NDC (Updated Submission)\",\"Togo. Biennial update report (BUR). BUR 2.\",\"Australia's Adaptation communication\",\"Facilitative sharing of view record 2 - The Republic of North Macedonia\",\"National Inventory Report to BUR 3 Armenia\",\"Oman First NDC (Archived)\",\"Global Ocean Science Report 2020\",\"Republic of Korea's Adaptation communication\",\"Somalia First NDC (Archived)\",\"Cambodia. Biennial update report (BUR). BUR1. National inventory report\",\"Submission to the Global Stocktake: Aviva Investors\",\"Greece. National Communication (NC). NC 8. Biennial Reports (BR). BR 5.\",\"International Cryosphere Climate Initiative (ICCI) Submission Global Stocktake under the Paris Agreement. Call for an inter-, pre-or in-sessional on Climate Cryosphere - Linkages\",\"Facilitative sharing of views record for Mongolia\",\"El Salvador First NDC (Updated submission letter)\",\"Cook Islands. National communication (NC). NC 3.\",\"China. National communication (NC). NC 3.\",\"Slovenia. 2021 National Inventory Report (NIR)\",\"Global Stocktake: Advancing climate action together with a just transition supporting decent work for all - Submission by the International Labour Organization\",\"Suriname Second NDC\",\"Cabo Verde First NDC(Updated submission)\",\"Singapore First NDC (Archived)\",\"Submission by the Russian Federation on the inputs referred to in paragraph 19 of decision 19/CMA.1 in relation to the Global Stocktake\",\"Annex I: Glossary\",\"United Nations Development Programme (UNDP)\",\"Slovakia. Biennial report (BR). BR 4\",\"Organization of the Petroleum Exporting Countries (OPEC) - Input to the third meeting of the Technical Dialogue of the first Global Stocktake (GST)\",\"Chile First NDC (Updated submission)\",\"Singapore. National communication (NC). NC5. Biennial update report (BUR). BUR5.\",\"ICIMOD submission to the First Global Stocktake_March 2023_V2\",\"Qatar. National Communication (NC). NC 1.\",\"Submission by the Global Alliance for the Future of Food and Climate Focus on the First Global Stocktake (GST)\",\"Burundi. National communication (NC). NC 3.\",\"Facilitative sharing of views record - Jamaica\",\"Argentina First NDC(Archived)\",\"Fiji. National communication (NC). NC 3.\",\"Costa Rica. National Communication (NC). NC 3.\",\"Ecuador First NDC\",\"Andorra 2022 NDC Update (Draft)\",\"Serbia. National Communication (NC). NC 2.\",\"Sweden. Biennial Reports (BR). BR 3. National Communication (NC). NC 7 - Annex\",\"Turkmenistan. National Communication (NC). NC 3.\",\"Armenia First NDC (Updated submission)\",\"South Sudan. National communication (NC). NC1.\",\"NDC aspects project: Ensuring an Effective Global Stocktake with a Sectoral Perspective\",\"Gabon First NDC\",\"Technical analysis of the third biennial update report of Brazil submitted on 2 March 2019. Summary report by the team of technical experts\",\"Communication on Zambia's NDC Revision and Updating Process\",\"Estonia. Biennial report (BR). BR 4\",\"Democratic Republic of the Congo. National Communication (NC). NC 3.\",\"Romania. National Communication (NC). NC 7 - Annex II\",\"Annex V: Expert Reviewers of the Working Group II Contribution to the IPCC Sixth Assessment Report\",\"Distilling critical signals from the global stocktake: Center for Climate and Energy Solutions\",\"Submission by ICOMOS on behalf of the Climate Heritage Network to the first global stocktake\",\"Ghana. National communication (NC). NC 4.\",\"Canada \\u2013 2010 Fast-Start Financing\",\"Record of the facilitative sharing of views at the fifty - second to fifty - fifth session of the Subsidiary Body for Implementation: Dominican Republic (FSVR1)- Dominican Republic\",\"Inputs for the First Global Stocktake Submission by the International Union for Conservation of Nature (IUCN) 28 February 2022 (updated 6 March 2023)\",\"European Union. Biennial Reports (BR). BR 3. National Communication (NC). NC 7.\",\"Colombia First NDC (Archived)\",\"Gambia First NDC (Archived)\",\"Technical analysis of the third biennial update report of Namibia submitted on 23 January 2019. Summary report by the team of technical experts\",\"Climate Action Plan 2050. Executive summary\",\"Malaysia First NDC (Updated submission)\",\"Secretariat GST synthesis report: Synthesis report for the technical assessment component of the first global stocktake: Synthesis report on the overall effect of Parties\\u00e2\\u20ac\\u2122 NDCs and overall progress made by Parties towards the implementation of their NDCs, including the information referred to in Article 13, paragraph 7(b), of the Paris Agreement\",\"Eswatini. National Communication (NC). NC 3.\",\"Cyprus. Biennial report (BR). BR 4\",\"Japan's Fast-Start Financing for Developing Countries up to 2012 (As of 31 March, 2011)\",\"Plymouth Marine Laboratory (PML) submission to the second meeting of the technical dialogue relating to the First Global Stocktake \\u00e2\\u20ac\\u201c Technical Assessment\",\"Panama NDC Cover Letter\",\"Saudi Arabia. National Communication (NC). NC 3.\",\"Paraguay. National Communication (NC). NC 3 - Executive Summary\",\"Climate Change 2022: Mitigation of Climate Change: Technical Summary\",\"Panama. National Communication (NC). NC 3.\",\"Republic of Moldova. Biennial update report (BUR). BUR 2. National inventory report.\",\"South Africa First NDC (Archived)\",\"Turkey. 2021 National Inventory Report (NIR)\",\"Argentina. Biennial update report (BUR). BUR 3.\",\"Annex V: Expert Reviewers of the IPCC WGIII Sixth Assessment Report\",\"Comoros. National Communication (NC). NC 2.\",\"EU First NDC (Archived)\",\"World Resources Institute: Not Just Carbon: Capturing All the Benefits of Forests for Stabilizing the Climate from Local to Global Scales Submission to the First Global Stocktake\",\"Canada's Fast-Start Financing: Progress Report\",\"Germany. Biennial Reports (BR). BR 3.\",\"Jordan. Biennial update report (BUR). BUR 2.\",\"Progress in the process to formulate and implement national adaptation plans. Note by the secretariat\",\"Zambia. National communication (NC). NC 3.\",\"Democratic People's Republic of Korea First NDC(Archived)\",\"Eritrea. National Communication (NC). NC 2.\",\"Submission letter (Interim updated submission)\",\"Submission of the Global Alliance for National Human Rights Institutions (GANHRI) to the Global Stocktake (GST)\",\"Malta. Biennial report (BR). BR 4\",\"Technical analysis of the second biennial update report of Viet Nam submitted on 20 November 2017\",\"Pakistan First NDC (Archived)\",\"Colombia. Biennial update report (BUR). BUR 2.\",\"Papua New Guinea. Biennial update report (BUR). BUR 1. Includes Modified Technical Annex on REDD+\",\"OHCHR submission to the UNFCCC Global Stocktake\",\"San Marino. National Communication (NC). NC 2.\",\"Global Stocktake Submission by Iceland (February 2022)\",\"Re-invigorating the UN Climate Regime in the wider landscape of climate action - C2ES Discussion Paper\",\"Second meeting of the Technical Dialogue (TD1.2) Inputs to Inform the Subsidiary Body for Scientific and Technological Advice First Global Stocktake - The Local Governments and Municipal Authorities (LGMA) Constituency\",\"Finland. 2022 National Inventory Report (NIR)\",\"Somalia. National Communication (NC). NC 1.\",\"Republic of Moldova First NDC (Updated submission)\",\"C\\u00f4te d'Ivoire First NDC\",\"Facilitative sharing of views record - BUR3 South Africa\",\"Andorra First NDC (Updated submission)\",\"Submission by Transforma, iGST Latin America and the Carribean regional hub, Disclosure Insight Action (CDP) and Climate Analytics Carribean\",\"Ghana on behalf of the Climate Vulnerable Forum - Submission of information to the first global stocktake\",\"Serbia First NDC\",\"Sweden. Biennial Reports (BR). BR 3.\",\"Cambodia. National Communication (NC). NC 3.\",\"Corrigendum to Portugal's Adaptation Communication\",\"India Water Foundation Submission to the First Global Stocktake\",\"United States of America. National Communication (NC). NC 8. Biennial Reports (BR). BR5. Corrigendum\",\"Slovakia. National Communication (NC). NC 7.\",\"Charting Singapore's Low-Carbon and Climate Resilient Future\",\"Key scientific findings arising from recent European Space Agency (ESA) project publications addressing questions in preparation for the first Global Stocktake\",\"Yearbook of Global Climate Action 2022: Marrakech Partnership for Global Climate Action\",\"C\\u00c3\\u00b4te d'Ivoire. Biennial update report (BUR). BUR 1.\",\"Joint submission of the Durham Centre for Sustainable Development Law and Policy, The Centre for International Law at the National University of Singapore, and the International Cryosphere Climate Initiative to the global stocktake\",\"EGYPT'S FIRST UPDATED NATIONALLY DETERMINED CONTRIBUTIONS\",\"Nationally Determined Contribution of the Plurinational State of Bolivia\",\"Four-page overview of revised national low carbon strategy of France\",\"China. Biennial update report (BUR). BUR 2.\",\"Perspectives: Adequacy and Effectiveness of Adaptation in the Global Stocktake\",\"Antigua and Barbuda First NDC (Archived)\",\"Facilitative sharing of views record for Tunisia\",\"Qatar First NDC (Updated submission)\",\"Summary of revised national low carbon strategy of France\",\"Singapore. Biennial update report (BUR). BUR4.\",\"Technical analysis of the first biennial update report of Eritrea submitted on 30 December 2021. Summary report by the team of technical experts\",\"Republic of Korea. Biennial update report (BUR). BUR4.\",\"Secretariat GST synthesis report: Synthesis report for the technical assessment component of the first global stocktake State of greenhouse gas emissions by sources and removals by sinks and mitigation efforts undertaken by Parties, including the information referred to in Article 13, paragraph 7(a), and Article 4, paragraphs 7, 15 and 19, of the Paris Agreement\",\"Implications of climate policy on energy poverty\",\"Solomon Islands First NDC (Updated submission)\",\"Chile's NDC Strengthening Annex\",\"Cambodia. Biennial update report (BUR). BUR 1 - Technical Annex II\",\"Portugal. Biennial Reports (BR). BR 3. National Communication (NC). NC 7.\",\"Vote Climate One - Submission to the Global Stocktake\",\"World Green Building Council Response to the Global Stocktake\",\"Grenada Second NDC\",\"Seychelles First NDC (Archived)\",\"Biennial in-session workshop on information to be provided by Parties in accordance with Article 9, paragraph 5, of the Paris Agreement. Summary report by the secretariat\",\"Jordan First NDC (Archived)\",\"Democratic Republic of the Congo First NDC (Archived)\",\"Estonia. 2021 National Inventory Report (NIR)\",\"Continued ratcheting of ambition is critical for limiting peak global warming - University of Maryland\",\"Malta. 2021 National Inventory Report (NIR)\",\"Technical analysis of the third biennial update report of Argentina submitted on 27 November 2019. Summary report by the team of technical experts\",\"Summary for Policymakers\",\"Papua New Guinea Second NDC Summary\",\"Technical analysis of the fourth biennial update report of Uruguay submitted on 31 December 2021. Summary report by the team of technical experts\",\"Samoa. National Communication (NC). NC 2.\",\"Cyprus' Long-term low GHG emission development strategy - 2022 update\",\"Ethiopia First NDC (Archived)\",\"Republic of Moldova. National Communication (NC). NC 4.\",\"South Africa. Biennial update report (BUR). BUR 3.\",\"Climate Action Plan 2050. Executive summary\",\"Technical analysis of the third biennial update report of Singapore submitted on 27 December 2018. Summary report by the team of technical experts\",\"Gambia. National communication (NC). NC 3.\",\"Tunisia. National Communication (NC). NC 3.\",\"Argentina Second NDC (Updated submission)\",\"Comoros First NDC (Archived)\",\"Individual Actions Supported by EU Fast Start Financing II\",\"Canada. Biennial Reports (BR). BR 3. National Communication (NC). NC 7.\",\"Panama. Biennial update report (BUR). BUR 2. National inventory report.\",\"Technical analysis of the third biennial update report of Malaysia submitted on 31 December 2020. Summary report by the team of technical experts\",\"Gabon. National Communication (NC). NC 2.\",\"Climate Action Plan 2050\",\"Turkey. Biennial report (BR). BR 4\",\"Malaysia. Biennial update report (BUR). BUR 2. National Communication (NC). NC 3 - Errata\",\"he Bezos Earth Fund, ClimateWorks Foundation, Climate Action Tracker, Climate Analytics, NewClimate Institute, the United Nations Climate Change High-Level Champions, and World Resources Institute - State of Climate Action 2022 report\",\"Eswatini First NDC (Archived)\",\"Cyprus. 2021 National Inventory Report (NIR)\",\"Japan\\u2019s Fast-Start Finance for Developing Countries up to 2012 (As of December, 2012) \",\"Germany. National Communication (NC). NC 7.\",\"Canada's Mid-Century Long-Term Strategy\",\"Peru First NDC (Archived)\",\"Tuvalu. National Communication (NC). NC 2.\",\"Armenia. Biennial update report (BUR). BUR 3.\",\"South Sudan First NDC\",\"Technical analysis of the third biennial update report of Morocco submitted on 20 April 2022. Summary report by the team of technical experts\",\"Zambia First NDC (Updated submission)\",\"Romania. Biennial report (BR). BR 4\",\"Pakistan. Biennial update report (BUR). BUR1.\",\"SLOCAT Transport and Climate Change Global Status Report 2nd edition\",\"Institutional Investors Group on Climate Change (IIGCC): submission to the Global Stocktake first technical assessment of progress towards the goals of the Paris Agreement\",\"OECD Submission to the First Global Stocktake\",\"Canada First NDC (updated submission)\",\"Recognition of Indigenous Peoples in Nationally Determined Contributions: IWGIA submission to the first global stocktake\",\"UNDRR Inputs in the First Global Stocktake Technical Dialogue 1.3\",\"Exploring Approaches for Canada's Transition to Net-Zero Emissions\",\"Colombia First NDC (Updated submission) - Submission Letter\",\"National Institute for Environmental Studies Japan: Asia - Pacific Climate Change Adaptation Information Platform (AP-PLAT) Submission to Information Portal\",\"Annex III: Acronyms\",\"Designing a meaningful global stocktake: Center for Climate and Energy Solutions\",\"Guatemala. National Communication (NC). NC 2.\",\"Technical analysis of the first biennial update report of Afghanistan submitted on 13 October 2019. Summary report by the team of technical experts\",\"Lesotho First NDC(Archived)\",\"Chapter 4: Strengthening and Implementing the Global Response\",\"Indonesia. National Communication (NC). NC 3.\",\"Brazil. National communication (NC). NC 4.\",\"Climate Action Pathway: Industry. Action Table\",\"Netherlands. National Communication (NC). NC 8. Biennial Reports (BR). BR 5.\",\"Mexico First NDC (Updated submission)\",\"Syrian Arab Republic First NDC\",\"The Long-Term Strategy of the United States: Pathways to Net-Zero Greenhouse Gas Emissions by 2050 (Accessible version)\",\"Sri Lanka First NDC (Archived)\",\"United States of America. Biennial Reports (BR). BR 1. National Communication (NC). NC 6 - Methodology II\",\"Latvia. Biennial Reports (BR). BR 3. National Communication (NC). NC 7.\",\"Chapter 6: Interlinkages Between Desertification, Land Degradation, Food Security and Greenhouse Gas Fluxes: Synergies, Trade-Offs and Integrated Response Options\",\"The Clean Growth Strategy\",\"United Kingdom Updated 2030 NDC\",\"India. Biennial update report (BUR). BUR3.\",\"Nicaragua. National Communication (NC). NC 3.\",\"Mongolia First NDC (Updated submission)\",\"Constituted Body GST synthesis report: Consultative Group of Experts Input to the technical assessment of the global stocktake\",\"Facilitative sharing of views record - BUR 1 Panama\",\"Lithuania. 2021 National Inventory Report (NIR)\",\"Technical analysis of the first biennial update report of Oman submitted on 23 December 2019. Summary report by the team of technical experts\",\"Annual report of the Paris Agreement Implementation and Compliance Committee to the Conference of the Parties serving as the meeting of the Parties to the Paris Agreement. Report by the secretariat\",\"Technical report on the technical analysis of the technical annex to the third biennial update report of Indonesia submitted in accordance with decision 14/CP.19, paragraph 7, on 20 December 2021\",\"Ireland. Biennial Reports (BR). BR 3. National Communication (NC). NC 7.\",\"Bahrain. National Communication (NC). NC 3.\",\"Submission by the Institute for Global Environmental Strategies to the first Global Stocktake\",\"Cover letter from Minister of Environment Forest\",\"Facilitative sharing of views record for Togo\",\"Submission by CONSTRAIN (Constraining Uncertainty of Multi-Decadal Climate Projections) to the first Global Stocktake\",\"Lao People's Democratic Republic. National Communication (NC). NC 2.\",\"Chapter 2: Land-Climate Interactions\",\"Haiti. National Communication (NC). NC 2.\",\"Technical analysis of the first biennial update report of Jamaica submitted on 18 November 2016.\",\"Technical analysis of the first biennial update report of Gabon submitted on 29 December 2021. Summary report by the team of technical experts\",\"New Zealand. Biennial Reports (BR). BR 5.\",\"Uruguay First NDC\",\"Bangladesh First NDC (Updated submission)\",\"Israel. Biennial update report (BUR). BUR 1.\",\"Long term strategy on climate mitigation\",\"Switzerland. Biennial report (BR). BR 4\",\"United Republic of Tanzania. National Communication (NC). NC 2.\",\"Morocco First NDC (Updated submission)\",\"Facilitative sharing of views record - BUR2 Mexico\",\"Compilation and Synthesis Report 2020 - Brochure\",\"Nigeria. National inventory report. 2000-2017\",\"Belarus. 2022 National Inventory Report (NIR)\",\"Technical analysis of the third biennial update report of Thailand submitted on 25 December 2020. Summary report by the team of technical experts\",\"Technical analysis of the first biennial update report of Togo submitted on 27 September 2017. Summary report by the team of technical experts\",\"Liechtenstein First NDC\",\"Joint Submission to the first Global Stocktake: The JAXA/GOSAT GHG product for tracking city-level emission changes: The Japan Aerospace Exploration Agency (JAXA) and the Institute for the Global Environmental Strategies (IGES)\",\"Mauritania First NDC (Archived)\",\"Nauru_NDC letter (Archived)\",\"Annex VI: Climatic Impact-driver and Extreme Indices\",\"FSV3 record - Republic of Korea\",\"Chapter 6: Extremes, Abrupt Changes and Managing Risks\",\"Nationally determined contributions under the Paris Agreement. Revised note by the secretariat\",\"Iceland. Biennial report (BR). BR 4\",\"United Arab Emirates. National Communication (NC). NC 4.\",\"Thermal Storage UK Global Stocktake submission\",\"Thailand Mid-century, Long-term Low Greenhouse Gas Emission Development Strategy\",\"Kuwait on behalf of the Arab Group: Submission to the Global Stocktake\",\"Djibouti First NDC\",\"Rwanda. Biennial update report (BUR). BUR 1.\",\"Submission by France and the European Commission on behalf of the European Union and its member states\",\"Uzbekistan. National Communication (NC). NC 3.\",\"Technical analysis of the second biennial update report of Peru submitted on 17 December 2019. Summary report by the team of technical experts\",\"The First Global Stocktake of the Paris Agreement Submission by the International Centre for Integrated Mountain Development (ICIMOD)\",\"Togo. Biennial update report (BUR). BUR 1.\",\"Australia. Biennial report (BR). BR 4\",\"UK Net Zero Strategy: Build Back Greener\",\"Mauritius. National Communication (NC). NC 3.\",\"Netherlands. 2022 National Inventory Report (NIR)\",\"Jamaica. National Communication (NC). NC 3.\",\"Belgium. 2022 National Inventory Report (NIR)\",\"Submission to the Global Stocktake - Adaptation Research Alliance\",\"Dominican Republic. National Communication (NC). NC 3 - Executive Summary\",\"Luxembourg. Biennial report (BR). BR 4\",\"Carbon Neutrality Coalition (CNC) Secretariat Submission to the Global Stocktake\\u2019s Third Technical Dialogue\",\"Technical analysis of the second biennial update report of Costa Rica submitted on 23 December 2019. Summary report by the team of technical experts\",\"The institutional ecosystem for loss and damage - Centre for Climate and Energy Solutions C2ES\",\"Myanmar. National Communication (NC). NC 1.\",\"Norway First NDC (Updated submission)\",\"Nepal. National communication (NC). NC 3.\",\"Climate Action Pathway. Human Settlements. Vision and Summary\",\"Current 2030 targets and actions do not put the world on track to limit warming to 1.5\\u00c2\\u00b0c. New Climate Institute for Climate Policy and Global Sustainability\",\"Mauritius First NDC (Updated submission)\",\"\\\"Matters Relating to the Global Stocktake referred to in Article 14 of the Paris Agreement\\\": Submission by India \\u2013 On behalf of the LMDC Group\",\"Kazakhstan. National Communication (NC). NC 2.\",\"The scope of finance in the GST Technical Dialogues: A comparison with the Technical Expert Dialogues of the New Collective Quantified Goal\",\"Bolivia. National Communication (NC). NC 3 - Executive Summary\",\"Honduras. Biennial update report (BUR). BUR1. National inventory report.\",\"Nationally determined contributions under the Paris Agreement. Synthesis report by the secretariat\",\"Norway. Biennial Reports (BR). BR 3. National Communication (NC). NC 7.\",\"Compilation and synthesis of fourth biennial reports of Parties included in Annex I to the Convention. Report by the secretariat. Executive summary\",\"Namibia. Biennial update report (BUR). BUR4.\",\"Trinidad and Tobago. National Communication (NC). NC 2.\",\"Austria. Biennial report (BR). BR 4\",\"Viet Nam Updated First NDC (Updated submission)\",\"Strategy of Latvia for the Achievement of Climate Neutrality by 2050\",\"Saint Lucia First NDC (Updated submission)\",\"Nationally determined contributions under the Paris Agreement. Synthesis report by the secretariat\",\"Ukraine. National Communication (NC). NC 6. Addendum.\",\"The Equity Landscape: A working paper of the Equity Working Group of the independent Global Stocktake (iGST)\",\"Technical analysis of the second biennial update report of Morocco submitted on 31 December 2019. Summary report by the team of technical experts\",\"Togo. National Communication (NC). NC 3.\",\"Submission to the First Input Phase of the Global Stocktake Permafrost Pathways at Woodwell Climate Research Center\",\"Long-Term Strategy for carbon neutrality of the Portuguese economy by 2050\",\"Denmark's Mid-century, Long-term Low Greenhouse Gas Emission Development Strategy\",\"Benin First NDC (Updated submission)\",\"Vanuatu. Biennial update report (BUR). BUR 1.\"],\"legendgroup\":\"\",\"marker\":{\"color\":[1,9,6,10,10,9,0,9,9,10,1,16,1,10,14,10,17,13,2,9,2,1,0,14,10,2,13,1,3,10,0,9,6,7,11,1,1,9,12,3,14,1,2,2,9,10,15,16,1,9,6,9,2,16,2,13,12,6,9,9,10,10,2,8,2,3,9,11,14,2,4,3,12,6,14,2,10,6,1,16,5,3,16,14,1,10,1,16,12,6,10,1,3,16,1,14,9,6,2,0,16,10,10,1,14,5,10,13,10,0,6,16,4,12,4,12,10,11,9,6,11,9,14,1,6,10,1,2,10,2,6,6,1,11,2,2,9,11,2,15,1,1,11,6,2,11,1,6,10,16,10,2,6,11,9,13,10,6,10,1,9,9,11,13,10,10,14,10,6,2,1,4,6,10,14,10,1,10,9,15,6,13,1,1,9,10,13,3,1,3,10,1,10,11,1,2,6,10,4,10,10,10,4,10,10,9,12,1,10,10,10,0,6,9,9,15,9,1,1,11,10,4,2,6,1,1,1,1,15,14,12,1,11,12,16,10,11,1,15,6,1,2,1,1,14,10,10,1,14,1,1,3,1,16,10,2,6,10,9,2,1,2,4,10,1,1,1,3,10,10,12,3,10,4,1,1,0,10,3,9,2,14,16,3,9,7,5,6,10,1,13,14,9,10,11,1,3,9,10,13,17,14,1,16,1,10,7,1,9,1,1,10,12,9,1,1,6,1,11,6,1,10,13,9,3,6,1,1,11,12,10,6,3,15,9,7,10,9,0,12,2,5,6,9,1,13,6,1,10,4,11,9,6,14,10,5,11,3,9,6,15,1,0,16,1,11,12,10,8,9,2,10,5,13,10,17,10,1,14,2,3,1,3,10,13,10,14,1,1,12,10,6,5,9,10,10,1,11,11,10,6,8,14,6,1,16,9,10,1,10,10,1,10,9,1,12,11,10,6,12,9,10,16,3,16,14,12,9,5,2,4,6,9,10,14,12,1,16,10,9,5,1,14,11,6,8,6,10,11,14,10,1,10,16,2,2,15,9,10,2,3,15,9,6,13,9,1,14,1,4,1,1,5,10,11,4,12,14,10,6,2,3,3,1,16,2,1,1,0,9,13,10,2,16,4,1,10,10,16,1,15,11,6,14,0,11,2,10,3,9,3,1,6,13,13,12,10,3,10,16,3,15,1,1,1,14,1,4,14,9,13,1,11,2,16,6,6,1,3,2,16,4,1,2,11,9,8,14,5,16,4,6,3,11,14,12,6,9,2,5,12,6,3,1,6,5,9,14,2,1,1,1,9,4,10,10,15,11,10,16,6,2,16,14,1,1,5,2,9,11,1,9,9,12,6,13,6,10,1,9,0,1,10,3,2,12,1,11,1,10,4,2,16,6,16,5,9,2,1,9,1,5,10,2,6,10,13,9,15,10,0,9,14,14,10,10,14,9,16,12,2,14,1,3,1,10,11,4,9,16,13,11,2,1,10,9,14,0,10,10,5,6,2,12,1,10,6,9,3,16,10,9,6,6,6,16,0,10,11,1,10,6,10,2,2,12,1,15,6,10,1,12,9,3,1,1,6,14,2,9,7,15,1,3,1,11,10,1,11,10,10,5,3,10,6,6,1,16,12,16,10,1,9,11,9,9,4,14,1,10,10,11,2,1,15,1,1,5,12,9,6,16,14,1,10,12,2,1,4,6,16,11,10,9,1,1,15,1,15,9,2,2,4,16,1,9,1,0,10,12,10,10,3,6,12,2,5,2,5,1,1,1,1,5,10,1,1,1,4,14,10,2,14,9,1,1,1,16,16,1,6,1,16,11,10,12,1,1,3,10,10,1,8,14,11,6,9,3,10,1,14,10,10,16,4,6,13,1,12,6,10,9,1,16,1,10,10,8,14,1,1,11,1,1,1,5,9,1,16,1,6,6,16,6,2,6,14,9,11,2,12,6,3,1,4,11,2,2,1,9,13,9,3,16,6,4,10,13,1,10,10,1,6,12,10,9,10,3,5,9,2,1,6,10,10,3,5,1,16,15,16,16,6,1,6,10,3,2,2,16,14,1,6,6,14,9,9,12,10,11,6,9,4,2,14,5,1,3,9,3,16,2,10,1,11,2,10,15,1,10,3,10,1,1,1,12,6,1,5,15,1,10,6,9,3,1,14,4,6,2,6,12,4,10,7,2,5,10,11,1,4,13,9,10,5,4,13,2,14,10,1,14,16,0,12,12,9,5,3,1,13,1,12,1,3,2,10,3,9,10,2,3,1,5,9,6,9,3,4,9,10,10,1,16,10,16,1,6,9,9,1,1,5,3,9,15,9,6,16,5,6,9,10,10,11,10,1,16,3,1,11,1,11,10,0,2,7,9,2,5,1,10,11,17,6,13,15,2,1,6,16,10,6,9,9,15,10,10,13,10,11,12,2,5,6,4,16,14,10,10,5,3,6,12,9,10,12,11,5,1,3,10,11,1,10,1,1,16,1,6,6,1,4,10,3,10,5,9,7,10,10,2,0,12,13,10,11,2,1,13,9,1,2,1,1,6,2,9,14,10,7,6,5,15,3,16,9,1,1,6,9,1,14,14,6,9,15,1,10,8,9,3,2,10,16,16,2,3,4,11,10,9,2,14,10,1,10,0,4,5,15,9,6,14,10,4,14,1,11,1,1,1,9,10,14,1,1,2,1,2,10,16,5,4,9,4,1,5,1,1,2,5,9,4,10,16,6,3,11,9,2,3,4,3,14,14,3,15,9,9,1,1,16,2,5,4,16,2,1,14,4,12,10,1,1,11,10,10,16,2,9,1,11,2,3,1,1,16,6,1,10,1,10,1,10,10,2,1,5,1,1,11,15,1,14,11,11,15,1,11,1,14,5,9,1,9,1,14,9,11,16,10,6,10,5,2,9,1,2,1,8,10,13,9,15,10,10,16,3,14,3,0,9,16,10,4,9,1,11,11,3,15,4,10,10,1,11,2,10,5,10,6,16,6,16,16,9,4,16,6,11,13,6,11,10,10,3,2,6,9,6,10,6,3,1,6,1,11,6,2,3,11,10,9,14,6,1,1,2,9,5,6,2,2,10,12,5,9,6,1,10,12,9,3,13,5,12,5,3,4,1,3,9,2,1,1,2,16,1,1,10,10,1,2,3,16,1,10,6,10,14,1,9,6,1,1,6,10,10,4,1,10,1,16,10,9,12,3,1,2,5,6,0,1,4,9,14,11,6,14,9,3,1,6,1,10,2,5,2,16,1,9,1,3,14,2,10,5,1,13,15,4,11,10,14,10,1,1,6,2,3,9,11,10,15,2,10,5,6,12,2,1,12,4,9,10,6,14,14,11,1,8,6,4,10,16,15,14,10,6,1,1,10,10,8,6,9,10,10,10,9,10,9,16,6,10,15,1,10,16,1,6,4,1,1,2,3,2,9,12,3,9,1,10,1,1,10,3,9,1,1,3,1,2,10,3,9,1,10,3,2,11,6,2,14,11,10,6,1,10,1,9,6,10,10,16,14,4,11,0,14,3,8,12,1,6,1,9,6,6,10,1,16,1,6,1,10,1,3,10,5,11,10,1,1,1,0,9,2,9,7,15,1,1,0,2,9,11,1,5,1,9,9,3,1,10,11,16,11,5,6,9,14,3,2,9,9,3,13,14,7,5,9,5,6,11,16,16,10,8,14,10,14,10,9,12,1,11,11,1,2,1,2,12,1,11,9,9,12,1,3,1,16,3,2,14,10,4,1,3,6,11,11,10,5,11,6,10,6,6,10,14,9,1,3,10,11,11,10],\"coloraxis\":\"coloraxis\",\"symbol\":\"circle\"},\"mode\":\"markers\",\"name\":\"\",\"showlegend\":false,\"x\":[-0.010056821476175459,0.08028641938664932,-0.06899516893353058,0.1444610562985429,0.05615570737878661,0.14101254470370467,-0.05325436852974309,0.1198382283878164,0.11056785220631275,0.039638645499009216,-0.03348480213864278,0.04178581791167489,-0.0001954223909365889,0.03974163654174616,-0.1495559599475714,0.11893946175509469,0.020854182668415728,0.21996719411037907,-0.047436315426755735,0.09374459663278296,-0.047436315426755735,-0.05088094848734128,-0.04732021278021817,-0.20287866670201352,0.07076125424802868,-0.047436315426755735,0.23584739406881777,0.03827559312065326,0.21261399207402093,0.031386751376365846,-0.10260041373919354,0.15923419667664576,-0.12290206970244993,-0.05419915391156592,-0.0706960298006106,0.010380496535766795,0.03080073541433116,0.1718424587141309,-0.13130959473365922,0.13711751259854538,-0.08854677795902456,-0.03081837573038907,-0.047436315426755735,-0.047436315426755735,0.07582013407642021,0.1240830695592964,0.13251885073650208,-0.0595767081096815,-0.07453356760980649,0.07486318062880247,-0.022794811846986056,0.08576551277713651,-0.047436315426755735,0.010242247164109992,-0.047436315426755735,0.2458176899984517,-0.1955771680261994,-0.10553520409065006,0.10138623786399409,0.1641564190303588,0.03300487963470211,0.0833499651310365,-0.047436315426755735,-0.23952077522933005,-0.047436315426755735,0.08218744142257506,0.11499890354000455,0.032237426392594665,-0.15863423227554307,-0.08951431278657786,-0.2854553101925596,0.1219691261429906,-0.15691047118067755,-0.08447505500319724,-0.10833960616044899,-0.047436315426755735,0.06581564937625838,-0.007267353875916112,0.011061440790554305,0.06415393042867613,-0.09795424494571647,0.1338086785429848,0.014404117784072653,-0.17837589262265846,-0.034243810570040875,0.06794482867878802,0.002924635164450572,-0.004321535510648269,-0.160862783568707,-0.009829710460256713,0.06680713554158958,-0.022611404352500707,0.1531013052420922,-0.014266490508805824,0.010278567168449135,-0.16633301133557019,0.1349119356805776,-0.08917126959838051,-0.047436315426755735,-0.051624200268834235,0.015368756974226506,0.07102815991714048,0.05077513090104472,-0.0011649069815520823,-0.11451721933812037,-0.0653094871324467,0.03989638828967206,0.24874478892821725,0.09999716544978184,-0.07255282431170329,-0.06251628245215578,-0.024742108066830325,-0.29375214825457674,-0.15283548242948505,-0.3537489010955044,-0.18177377296646108,0.04077208744593086,-0.05874104835171219,0.10852609615355326,0.00375953634076085,0.04789732801671797,0.1074012017749616,-0.13727230784352076,0.05304608734621163,-0.07235804566575484,0.06813296788935855,-0.02386733226473165,-0.08586764727864578,0.014463544534474126,-0.047436315426755735,-0.11761700858633824,0.016293323968110947,-0.05237549895449515,0.02379313088982403,-0.047436315426755735,-0.047436315426755735,0.062361711984724295,-0.02597468607827424,-0.047436315426755735,0.07346921083070108,0.0075788645215076255,0.0014872256753121983,-0.027159179242933398,-0.037236974365151075,-0.047436315426755735,0.004968422646144808,-0.020938829459216348,-0.09769298704892787,0.02339849387722649,-0.019364201212985325,0.03837908419067931,-0.047436315426755735,0.056823926754344944,-0.0023451933250027554,0.15934902509332644,0.3035628870380274,0.06311834210755198,-0.03441774148305044,0.11091922005001913,0.017293690693965188,0.11174261238994941,0.0857638884347881,-0.011674759551298894,0.3440010766996045,0.008147407203430549,0.07750771805096797,-0.17256764121874874,0.08899982190425683,-0.08953038694818437,-0.047436315426755735,-0.023035053585251715,-0.20073161671471038,-0.04304622719589615,0.04573516057077947,-0.10125978416831903,0.033760427404813165,-0.034086768834312504,0.07193281312174526,0.15427916084049337,0.06926545929246164,-0.02710816766052589,0.22935999193553144,-0.05853167386389017,-0.03576414844783024,0.08645950296541147,0.08959771626657019,0.24857161229730776,0.19298641150138557,-0.06119646929254003,0.1505823852804815,0.0331701984772752,-0.01724830623134087,0.07784934145386942,0.020434454246106015,0.030680109018757624,-0.047436315426755735,0.029186105822292682,0.05456242764900332,-0.2388467237720342,0.0940349548963767,0.1054799744862674,0.04074795253230811,-0.29771361412198355,0.11981017233287374,0.05171732849112137,0.11893658514077146,-0.2141842667896376,-0.01192473069286777,0.10196807806877499,0.0366356713382672,0.04689116102624997,-0.08303670965615763,-0.09304161408616045,0.051984746983881974,0.13058337170749906,0.07636849163472156,0.11424332645199087,0.029128023440684783,-0.003456310296204422,0.0836034260284505,0.009623971902081389,-0.3876028105860969,-0.047436315426755735,-0.05174240842466811,0.03168648666936831,0.009898202475459205,-0.002598399804117078,0.08027949237576365,0.04715420063106253,-0.12867210651989086,-0.09042726282843636,0.05753942168740201,-0.021888448594715507,-0.1753444339625597,-0.0740002296886004,0.07585817911963352,-0.013856841504441367,-0.03816336627133673,-0.01225708388491875,-0.05985062873572165,0.007841930791370832,-0.047436315426755735,-0.01677828717199946,0.03205252375822406,-0.1789650476214086,0.0847883967726611,0.0744762914373126,0.025583908834009485,-0.0724684833081498,0.03431030758047651,-0.059009529643381506,0.14018802819627013,-0.04208526990425272,-0.04429272081707494,0.08316170207645507,-0.047436315426755735,0.005673287095870722,0.1490917824170575,0.06320035089142483,-0.047436315426755735,0.032202559172599475,-0.047436315426755735,-0.28850266399732194,0.0897359466265645,-0.027134582212954787,0.04108912185820051,-0.005135219375213666,0.150581771382103,0.017534254888835615,0.014248572863959173,-0.12286319570376034,0.18435514258593325,-0.008647318441789899,-0.22613454322249052,-0.019641986865804487,-0.026044318017977786,-0.09972139915528186,0.11958283551613827,0.14244674023147477,0.1188658808581569,-0.047436315426755735,-0.18342487424351725,-0.05014921440069472,0.13222092085322765,0.11186797919509203,-0.01845561173529467,-0.03163640153913881,0.023086199679751274,0.06949505090250847,-0.027987621662126823,0.31935655350610587,-0.13701564178149933,0.0757805432519783,0.03242562531424412,0.07185574623927254,-0.023573120088403014,0.12400802332302918,0.13854141398121006,0.021233366234638996,0.2903785254999839,0.05153081205014574,-0.09100641574580995,-0.03243295253393249,-0.026435460413370616,-0.018633615548500886,0.06396448677270689,0.058056041284622946,0.010699528652092142,0.11361765672848989,0.02905247616926525,-0.00033712254948267066,0.05918131945660051,-0.17969197044960436,0.10753139866046293,-0.05240654865900035,-0.0790579630872801,0.003855635701905237,0.007562299544697657,-0.024926068352893026,-0.1039790082981826,-0.0721759828846411,0.04653866366072259,0.27250838776774644,0.1055365241179681,0.1910130352841673,0.03780838135458045,-0.04723906865990578,-0.01673316612289653,0.029170082536542085,-0.17352854474916501,0.05668675698400428,-0.05092361387752577,0.11836302717821012,0.11484769930615248,0.09571711168403024,-0.08890626106523507,0.057718165545980145,0.108499380657302,-0.1146839377544297,-0.16565781060168,-0.047436315426755735,-0.009397034616924515,0.019369055916461684,0.12453477738987792,-0.04650016833732465,0.25894305552499247,-0.06684305264141595,-0.053662857809104805,0.02657929383533166,-0.2980384377769276,-0.00827781994590979,0.08942569012438094,-0.047523060862706426,-0.15853797178930912,0.12759069955199198,-0.05346000165493573,0.06942088573919336,0.16981001621648603,0.09499120368453226,0.02619339192387182,0.11009259673566832,-0.048536039933947873,-0.10580721305329815,-0.04237661822885914,-0.03132171092121732,0.04990616462398446,-0.1534558546088451,0.0434466602812932,-0.2046118546675795,-0.001820688685707763,-0.047436315426755735,0.04589379073892958,-0.04281252282590124,0.4108235071050486,0.07746655703313884,0.007106688549146129,0.011909311030613315,-0.07763252100472426,-0.19134453617412972,-0.047436315426755735,0.2122537602768845,0.025197517443055765,0.17243791888363202,0.08447234693673708,0.2675221466189903,0.05593795492556351,-0.08772542860413876,0.02429223339219194,-0.0015561280407635869,-0.12278065303622479,0.1118477247836695,-0.06899199908028776,-0.06782147514465356,0.13043801521159995,0.09229381695187629,0.08086671637647504,-0.07178805826877606,-0.04962877397236326,0.04304073497620598,0.09999549663269343,-0.001888158773124009,-0.34982494632268385,-0.0931163137566671,0.03377647299106043,-0.04497227716600972,-0.041703973839165076,0.0854887251118943,0.036058807401745684,-0.0309353195070038,0.06878710173923705,-0.0018238064384395508,-0.06451963768068998,0.018661104555093212,0.048894631369520256,0.025778130315834247,-0.09429320384377096,-0.03312474493611684,0.022126406346666364,-0.08477115520063577,-0.11673167881578303,0.08728848675182986,0.023269413335627747,-0.06228344611910453,0.14580153501341178,0.0160797108184697,-0.13133337481620946,-0.13298616196926816,0.14437685948568782,-0.12080172038690545,-0.047436315426755735,-0.32014121536810597,-0.0248937958623217,0.058388454104143866,0.10257010522935178,-0.09001345372796517,-0.16315007219903596,-0.04644646100532228,0.009285129027285042,0.08359002973553638,0.0923205756122819,-0.05299394523189828,0.015872081173811965,-0.1519659316621263,0.01024491885259534,-0.017642432868017425,-0.22605533551506377,-0.05821087027064889,-0.011000744561321666,0.04585157231991927,-0.16264951226157134,0.019027156852620304,-0.008396634763852948,0.08977981512882424,-0.03507014525037129,-0.047436315426755735,-0.047436315426755735,0.08105699702030449,0.1262186445302453,0.03322670033237173,-0.047436315426755735,0.15832099831795354,0.0926760646898233,0.07499837401741596,-0.006257365019250787,0.38982276809835653,0.08642511203274295,-0.039578569588699965,-0.24182061920807005,-0.003988667236290554,-0.11621259696314853,0.03100537822968708,-0.06750761159034024,-0.012502975666694682,0.06838091899926732,-0.08039156140210987,-0.22051345516223622,-0.18647714771269844,-0.27354474984153837,0.0930426130590501,-0.06219412147943258,-0.047436315426755735,0.13786083784969158,0.1591629473226852,0.015737780950149226,0.0261784738874391,-0.047436315426755735,0.0476534133502808,-0.026380353017013164,-0.08446856229123305,0.08504163530786159,0.3040350100661831,0.09458653234798353,-0.047436315426755735,0.0015897760955448645,-0.21450430439899185,-0.04904357033831154,0.11873210489850393,0.1072034676421937,-0.11144651265616508,-0.0287141039965389,0.10405966323742294,-0.015445866461100143,-0.06163743193910584,-0.1221721925396661,-0.04315571708583865,-0.008669177508812721,-0.047436315426755735,0.05895324237228148,0.18754828594426057,0.09635415707895516,0.12322045618172145,0.056211195883404695,-0.06333932584406846,0.3397040444618972,0.37930921419564917,-0.13872461419097537,0.05732754507777527,0.22249589802146497,0.10099294969929708,0.03889671822073686,0.12670094369380244,-0.005833534919394697,0.007945851660747839,-0.05020158071747993,-0.0441535714189295,-0.2166286356037667,-0.04004108877245723,-0.21825683183327224,-0.14281127816515582,0.1150590991707632,0.2536407230738808,0.011107539151797675,0.04871093426157218,-0.047436315426755735,-0.051077689750089056,-0.0034456925860338193,-0.05485715419851485,-0.039112119550090745,0.1641282666023822,-0.047436315426755735,0.012776466901090326,-0.2798367516764101,-0.0170568459188791,-0.047436315426755735,-0.018672781767781248,0.08339116874178913,-0.25501511893038986,-0.08418776777214022,-0.031065763391371543,-0.03496336823446659,-0.2200419448716816,-0.008987208416112813,0.19260941756188102,-0.041860891471058925,-0.14600836883007515,-0.20696472955434392,-0.10018302364859927,0.1411409721448528,-0.047436315426755735,-0.04741909747667098,-0.1267653035713293,0.007752691920525029,0.12522879290124095,0.044552901738508725,-0.1083426138045439,-0.06800404618943441,0.07184003663857264,-0.16368848126002195,-0.047436315426755735,-0.03557105354299627,-0.017426573660939245,0.058435069138584234,0.10183230276454015,-0.27367829896792084,0.07681961346124089,0.08992030183889013,0.11387547848099076,0.047448678965285394,0.0488740352323097,-0.08085047180360315,-0.0003864273028312576,-0.047436315426755735,-0.035831929805980274,-0.14042113765678527,0.027633263467561623,-0.027936835283987875,-0.0025380424384699183,-0.047436315426755735,0.07107926647022096,-0.05152395680978574,-0.06727116956799176,0.1446185261270582,0.09544807579797497,-0.15627324337223358,-0.12290206970244993,0.23399345813499003,-0.038567287045135325,0.10843186654292601,0.04475672999352817,0.11309254517160328,-0.1836360127814468,0.006489277950677676,0.11449540076201745,0.1559635635081538,-0.047436315426755735,-0.15694961158447981,0.016138230026102054,0.022921343064238146,0.001816200554854309,0.09794266458007263,-0.2807471916387027,-0.047436315426755735,0.008338514765623688,-0.050858973851729945,-0.023893947081718662,-0.05036373326933775,0.1406235397561439,-0.047436315426755735,0.0175735082717366,0.10806143199172519,-0.0015969865906896208,-0.042036519245230324,0.07095956568033016,-0.047436315426755735,-0.09845423939631821,0.022168335456393032,0.22664037097107656,0.09247054649768173,0.10833341786014705,0.07483146474592053,-0.08074694351955372,0.08924852391417684,-0.13336412704782746,-0.11961621010424588,0.05951092165966897,0.03892271689224863,-0.18023536708872392,0.10750793985505373,-0.026049682549716513,-0.12150756498958688,-0.047436315426755735,-0.19722167741282357,-0.015353609698023537,0.1738273897614457,-0.060448104031299583,0.07371760711079901,0.037431010023451755,-0.31736301936863504,0.06173663574273869,-0.09757332419055013,0.26036801210430954,-0.01594911917303176,-0.05521557519595498,-0.08906196882758066,0.08284470652699706,0.09339705727716505,-0.12262673821793733,-0.10686756994514496,0.059124867998015154,0.04230694180613878,-0.06047639634651473,0.018170343597458814,-0.047436315426755735,-0.16714417078392735,0.009108150088193835,-0.00960493460963127,-0.10202384142643892,0.10072273257421026,0.20825525022527075,-0.08544581488212129,0.039411645815632196,0.08107121265018248,-0.046962125308533886,0.008195887408040923,-0.006492995402116251,-0.08997438764386628,-0.1836360127814468,0.08555605362075218,-0.0008195919045351832,0.00499570668340897,0.08735015238793895,-0.02611363845080036,0.04284374806438356,-0.047436315426755735,-0.047436315426755735,-0.14647859780228073,0.021970270085208906,0.0740700767573655,0.016758104086639466,0.06610337227406621,-0.028724328673229934,-0.20191920811215217,0.08100280878209525,0.18008614365849362,-0.021090473178769498,-0.027740814477758866,-0.08715122825865895,-0.1937562846105604,-0.047436315426755735,0.09862763734403902,-0.11358555961910308,0.1311024103097746,-0.0035984883696773104,0.11757172311452693,-0.06421654238522471,-0.03810344803908499,0.05430035439609115,-0.04755291735586101,0.017992854973329097,0.04700434911214761,0.08194374479336268,-0.07525751716540986,0.13294464995437927,0.05850477527207003,0.0025366378953790955,-0.07523661496465493,0.016730472489967445,0.022716880209391277,-0.16835846085795506,-0.06950275693203879,0.05391685102498498,-0.08127864120784833,0.08750024107928274,0.12162297762134698,0.12680671880661884,0.07831309447521417,-0.2610954192760769,-0.16768548027996535,0.013472456431041535,0.03341218857300406,0.06791895512811143,0.0013587128866831822,-0.047436315426755735,0.049242921025489314,0.046278878347245894,-0.025530344855050402,0.01589127382814234,-0.05004787160923442,-0.20730442300037352,0.10482539887973083,-0.07079694092580574,-0.08530581257306451,-0.13241077579927094,0.027633263467561623,0.023391274748186856,-0.228184835253529,-0.047436315426755735,-0.057489743868964285,-0.3480014083983289,0.01374488254898354,-0.03737062340728912,0.03436384537887849,0.09708824559416963,0.062458964119937996,-0.046215672985002246,-0.023246384090382852,0.11517734016737581,-0.015860131473596367,0.04715420063106253,0.1011537809160757,-0.047436315426755735,-0.047436315426755735,-0.2930195204624284,-0.10069158097019525,0.0384462720481723,0.11674196064836914,0.056223083518192475,-0.06135275697848436,0.08163768406403284,-0.20696472955434392,0.03207871261307215,0.08542157367399854,0.22911285452462793,-0.061680026207435824,-0.14199930142576214,-0.047436315426755735,-0.019394146764425794,-0.047436315426755735,-0.02449435942769716,-0.04187672371201572,0.0026973000915051456,0.0017763436846546417,0.009836130662932385,-0.022398601282707615,0.11104114330232642,0.017542178882975577,0.020372316618521076,-0.03707114051774781,-0.265389052494837,-0.17312277659349587,0.07166744826673313,-0.047436315426755735,-0.19069486655477833,0.07037263020571023,0.052881985818649384,0.02313455440671717,0.036745647198017026,0.02640307347420767,-0.025486171711690823,0.016555906102021158,-0.10238020436435122,-0.05092545874245495,-0.04690524422381716,0.1335953689053062,0.07595722800918227,-0.1414353857537899,0.005932057631086054,0.006927084189689553,0.1189560088148162,0.06446617969983807,0.04000819592547119,-0.0020731997913794606,-0.34982494632268385,-0.11809646498344822,0.0820635343477456,-0.06163743193910584,0.0634956502948936,0.12539671772969577,0.029213566971082176,-0.05349040218837378,-0.13977585404308634,0.0696780024380637,0.09205537194974528,-0.08817087432798788,-0.23673443253093457,-0.010747857625350764,0.36843168107989127,0.009706887265410868,-0.15185011034263227,-0.0822235579894307,0.05175465748810272,0.13312711255750273,-0.004925597477405036,-0.017380945832347335,-0.06384036163797066,0.07949744371826056,0.0018102706655291436,-0.2259779703358224,-0.11691999472227176,-0.07576853997673638,-0.03550696163461256,0.11779416711092293,-0.023234137873738056,1.2035468962671809e-05,-0.07048804047679005,-0.06551105011785605,0.07415488933331514,0.037778842624463065,-0.09261753017509596,-0.05583043914900016,-0.01797871807966788,-0.036899769185085536,-0.025703051292237523,-0.02646028274610066,-0.047436315426755735,-0.005854436292943409,-0.14829421045845598,-0.0030612140693113982,0.10936248376416279,-0.047436315426755735,-0.22109671347112017,-0.024507196156963888,0.19583433500479983,0.0009302710050335843,-0.2902274500685428,-0.038674562768116566,-0.047436315426755735,-0.047436315426755735,0.03119013826095863,0.1283786002806133,0.4331742092786321,0.12984119402727504,0.1763022840356075,-0.10387707384370691,0.020945461631418524,-0.2745624796140155,-0.02504829781309763,0.4023347114614382,0.005535828812044122,0.07334917342997063,0.10870898458742695,-0.01630850970804401,-0.09389273178779182,-0.15119352767320351,0.03974885242685536,0.08797900435584684,0.05043048309032597,0.1874306506728417,-0.10843592789835949,0.042283366955541406,-0.047436315426755735,-0.0009414851552984104,-0.007424169530732358,0.05501824821666477,0.02754768659520574,0.14650606098983554,-0.06820050329406681,-0.03897944316466805,-0.12916255132764795,0.07628155210546761,-0.013448894141945994,-0.012799895801384855,-0.04987911988793063,-0.048096169151735396,0.0036382904884242674,0.07221455335364192,0.10917293951952302,-0.047436315426755735,-0.047436315426755735,-0.04592809391008479,-0.1372851950675022,-0.019436854580386822,-0.038016106923700804,-0.09610722665153089,-0.1206804909832651,0.131823725003926,0.1253152980184452,-0.1983391277494671,0.054015492782898716,0.06270954670903779,-0.05335025333483938,0.09072463781136982,-0.2107049706548754,-0.047436315426755735,-0.15095491230623806,-0.007010366202186636,-0.07586539978004611,0.12851050149333929,0.04724065868574708,0.16455100304220335,0.037923829141917345,-0.047436315426755735,0.06491725909925211,0.002884922029076613,-0.030101409368981074,-0.047436315426755735,0.06254987520397852,0.10268617351349364,-0.03645453749146306,0.06378703682330202,0.1755448252377682,0.046192539619819804,0.016315580746902893,-0.03362904884167675,-0.03129029510862261,-0.12408548623216774,-0.041579478339576245,-0.10052367653379705,0.0906635577669269,-0.0029851934600673155,0.025421540674352455,0.06581564937625838,0.009477097010228147,0.09999979004058134,0.1869339958524947,0.011776976155653584,-0.1497990361951004,-0.32575949508835916,-0.09985279715341339,-0.047436315426755735,-0.0183517670802793,-0.14527433718518887,-0.2624161519139225,0.01995157130829963,0.016537600157425537,-0.047436315426755735,-0.05969730269937918,0.08675625190731522,-0.043713998966189105,-0.045497033537266245,-0.27868485854755176,0.1399703671457103,0.09129201248030895,0.11278117075405325,-0.0792679075949528,-0.2781206154767285,0.27279043310959333,-0.047436315426755735,-0.06714111522170144,0.059235764422642695,-0.07424627758934897,-0.23435525101566274,0.03795837614949454,-0.1273946744988949,-0.13161872706414005,-0.13702416694769914,0.12695066544185962,0.010083520930172615,0.2162684661958979,0.01402296836639368,0.18006239053389936,-0.014446326253000881,-0.15942673697935206,0.014485073341418688,0.18884663827291695,-0.047436315426755735,0.00477581338189659,0.14384892676682087,0.06599687851862578,0.00475618757438952,-0.047436315426755735,0.23441584189535625,-0.05837578806857772,0.002146419029644962,0.16582793679458932,-0.043947989894625436,0.11601640878512302,0.14787572441235636,-0.2339393414202978,0.11098421939999309,0.10563355052040904,0.025073991441827804,-0.0705667096706482,-0.0530606719475974,0.04978822381200505,-0.03397155857461435,-0.03584565549309867,0.02725280692241758,0.10249337364573297,0.09779488759350038,-0.005064184235427837,-0.029280899870549132,-0.0632149848854498,0.20029748481524584,0.11393111965852547,0.10883331678787181,0.07100542796606871,-0.014865796859276055,-0.10887293363377569,0.03439751570792809,-0.0625724434730252,0.13211866740808928,0.04720139342614555,0.05879991226508989,-0.028190408195658982,0.09307431345151579,3.6129215773465933e-07,-0.038843886597186995,0.11501624003663184,-0.03256778977242067,0.09223655578668274,0.04790842770551941,0.12029067410521423,0.09157183203553819,-0.08178061285583307,-0.047436315426755735,-0.08427516733407797,0.0740590214080748,-0.047436315426755735,-0.03889334291600424,0.022236027589580532,0.09249831053796286,-0.06942947274982113,0.01799764577774155,-0.050290976082963935,0.30262611311620535,0.06503139581630023,-0.047436315426755735,0.021539996223055514,-0.03985323321204151,-0.06109419142357141,0.017007381564663672,-0.03956506235671299,0.08542741891829207,0.1464087933409632,0.11858201151908984,0.026501227905461718,-0.004502071312037347,0.3864893495899062,0.08878800752406624,-0.04728534743769524,-0.1931476824564181,-0.047436315426755735,-0.09551364704722407,0.008703336266700206,-0.3177570706116389,0.005362452105666327,-0.09756547693195913,0.020009094209433795,0.013555442706064912,0.029953917399952467,0.14444698624944322,-0.09338045468719969,-0.13330054615988468,0.13612200149663264,-0.003608368334465565,-0.14119918099220183,0.012663656330370242,-0.030942778073666372,0.011291247452094056,0.20969029405056153,0.01894458141707486,0.07987549985457945,-0.02936064285569894,0.01776098101247868,-0.02519047395848104,0.059333839487101366,0.0011411858728369057,-0.03689283038450939,-0.0003403248008157589,-0.0026498711416259335,-0.050515235083295015,-0.19945244545423005,0.08694045333403676,0.16811422766968206,0.08240654756201254,-0.08364758687184734,0.07930188567151596,-0.08742976095874104,0.09006647707310336,0.02969592875099222,-0.047436315426755735,-0.1356530923948896,-0.1474904051957642,0.2716478681143927,0.07665840010347873,0.04703483829354246,-0.047436315426755735,-0.015533653878933408,0.23449295319207722,0.08911170518877598,0.014931006930896043,-0.047436315426755735,0.006178350569797621,-0.039848000392955094,-0.03565298424720605,-0.047436315426755735,0.032193076372357673,-0.17796602326520136,0.07339247743216018,-0.04499825861851203,-0.08621468810918172,-0.06098654329427825,0.09568616875295155,0.1905531573569213,-0.038096408798168856,0.11088983704047467,0.01905488641246844,-0.008664795384044632,-0.007584345998286236,0.10281478863914849,0.017180011534556002,-0.09936465975911829,-0.11214378155917974,0.004591386481622922,0.10101800196469067,0.08934692967471014,0.02141545115666498,0.03445776228980056,-0.2625488653887025,0.11261634113482014,0.1450428329470672,-0.047436315426755735,0.017394133490063142,-0.026157651772847807,-0.08501773899244713,-0.047436315426755735,0.14478573965825745,-0.2598862553692857,0.017578237920557,0.011909311030613315,0.10107428132825645,-0.047436315426755735,-0.21151995818013192,0.04484822600627967,-0.07059981029842766,0.05008506739130459,-0.12103736322913729,-0.27412240875153265,0.012973944248219403,0.11666722386255346,0.13972667923036527,-0.02493573233601754,-0.18514818241351944,0.08230008605214305,-0.22582557030161432,-0.0699642990476674,-0.0053355940600230915,0.017816518719154094,-0.01895542026016372,-0.04168133765362813,0.00270636455884057,0.1474172543426138,0.0736487599276067,-0.07973450864976783,-0.052354727504304116,0.07088723832252151,-0.047436315426755735,0.02956557108167649,-0.047436315426755735,0.07473734169814947,-0.05648665761052511,-0.06531790603855198,-0.3194539940028178,0.11674610332355514,-0.29087130060965427,0.03942316529619011,-0.10467138396036653,-0.03735715568045818,-0.027786630205838832,-0.047436315426755735,-0.0579622700120536,0.03450214187825252,-0.2039284876381557,0.11104114330232642,-0.02974774079397392,-0.09438970376492725,0.132746997669138,0.02080324799885434,0.027917142224646592,-0.047436315426755735,0.19675984380309594,-0.36169848871290694,0.21780126148641588,-0.07048855219167642,-0.16478939727860029,0.1915912896183185,0.0915063263994007,0.13175011753742047,0.15686651096120327,-0.03177171282085273,0.004367953991042156,-0.018916933897216884,-0.047436315426755735,0.09445067132435961,-0.20601148711340805,-0.029388327682559248,-0.047436315426755735,-0.03187482628183357,-0.15273747508325353,-0.2731649876313703,-0.15884095845127946,0.04710771167083547,-0.009590356897234325,-0.031039979778274523,-0.053941928664189995,0.03989510705166683,0.06524174684087586,-0.028386416069174282,-0.047436315426755735,0.17500056371829906,-0.021694614070115473,0.06806380294313798,-0.047436315426755735,0.17528467239350878,-0.02747701820397519,-0.10584854842982727,-0.03957229879170271,-0.0062350525259245535,-0.006174051231408379,0.018399793552685246,-0.11165454344224039,0.04733779625677453,-0.02585449503237805,0.06490039835675498,0.06203670825646854,-0.047436315426755735,-0.018148691637729232,0.010135486282426144,-0.0036541493149384974,-0.026005137347749688,0.036945833679316795,0.10033838304734334,0.003368391096288468,-0.12059922296740809,-0.011051701156199528,-0.040774275231057734,-0.012955476148980802,0.023625539814194563,0.01993588567930626,-0.004670592007166736,-0.22636108497754523,-0.029160190268252766,0.11071970025105722,0.033647915345166056,0.1433567866184381,-0.021009553445496505,-0.12015951833177871,0.14342514086015767,0.06323518038611665,-0.037312216049959865,0.04076439712594512,-0.026213939989537565,0.02748007036317472,-0.00386536053472432,-0.047436315426755735,0.10962854781728729,-0.01474941809919508,-0.047436315426755735,0.024409136019953884,-0.2535957569206229,0.07863534159437488,0.3410863627063254,0.0881982616727005,0.11265489494458569,0.09024256137448335,0.021444041438593155,-0.011328156595685278,0.17395022680921884,-0.08650324038756817,0.20121701353396032,-0.07217583088173986,0.10081012174982466,-0.007987887372579322,-0.016098901808037493,-0.2317475975460932,0.07048188236728059,-0.035612926730350575,0.06423762672792042,0.009430299652284223,0.11227134223696039,0.1361954065233701,-0.2792394866633573,0.06498663604640896,0.055580330468752916,0.009059121845559256,0.02433228844646705,-0.047436315426755735,0.05726395354351896,0.046313549971727305,0.0933717867280915,-0.04761654598401406,-0.018946251255688367,-0.08887250646816436,0.008959171549794009,-0.09750109787507025,0.0637018916891377,-0.2456916736548296,0.007789850471103426,-0.017014811901605417,0.10364143537209862,0.24105082127444485,-0.01232027501261515,0.00141468684965073,0.028731300186556275,0.046142514778296506,0.15079921081060407,-0.047436315426755735,-0.046590770510592176,0.1085571228935212,-0.03923936034277659,0.07350639205551142,0.07139339593313064,0.14727717838047383,-0.021740911680496838,0.0026664812164960594,-0.04545062104048137,0.05470607240351917,-0.04446507212543343,-0.047436315426755735,0.1628857780210226,-0.018266722747935983,0.08759923526104589,0.08582536721356035,-0.1486486411841308,-0.07491294999668668,-0.011600125666406225,-0.019101137117457655,-0.047436315426755735,0.1150285533198189,-0.020725630025395587,0.006137038307804438,-0.047436315426755735,-0.047436315426755735,0.018454943430123532,-0.12506094662130354,-0.013527692720275321,0.0594861501753311,-0.056413255012786906,-0.015620694930391033,0.10894293224235192,-0.1435120416364734,0.07594770581581481,0.15586350221694062,0.2561400441934746,-0.13216329254081188,-0.16065759818516484,-0.062213120044504515,0.1776407509708322,-0.23019771520656684,-0.04005632258926061,0.16228472405360317,0.1539117267939842,-0.047436315426755735,-0.052154983552968937,0.0016253931799064887,-0.047436315426755735,-0.07966168576576141,-0.025647536056199283,-0.05443784246634598,0.00943296542733083,0.049458646207740695,0.057491329927569716,-0.047436315426755735,0.1268622264887806,-0.02108518340347558,-0.00034227934351820284,0.04710771167083547,-0.10237267088855165,0.06016565261542059,-0.17533479926265794,0.024093817980442214,0.08190262341256568,0.03155884535692974,-0.050587765920213516,-0.01382225760291276,-0.028713756512722306,0.06440520379522935,0.10636637228713254,-0.31549750236649365,0.016935747375107245,0.07968703312617062,-0.007370894653733104,0.048540928201541336,0.07059304047260109,0.10619967931382716,-0.07450416046029819,0.1416692984048756,0.03215295409603548,-0.047436315426755735,-0.027285414958146008,-0.029679217247721837,-0.04792778305146262,-0.00399769744781139,-0.3019371973942463,0.12104398990815848,-0.14350429366477185,-0.00961443813113629,-0.004194797101970954,-0.08169494264753,0.07716592915774388,0.15685489118672502,-0.01828532062319954,0.04668302432800193,0.027494952133664055,0.08633671513278376,-0.047436315426755735,-0.07243642305736728,-0.047436315426755735,-0.005333066473601789,-0.010739029932668048,0.10764229266879652,0.0027389006603683653,0.16209267929613047,-0.17125602767711953,-0.047436315426755735,0.08575906048926371,-0.006295111150226777,-0.0164465719114789,0.2903785254999839,0.009049461536805328,-0.24800131846032475,0.0021765891231007002,0.03596962400542455,-0.24767996216518742,0.07772809591591238,0.0016523996308319222,0.01712302254116048,0.012126765264093108,-0.04574049542819274,0.17335684848629657,0.10607645762561119,0.005359910012365123,0.04214512540019142,0.09441876722647932,-0.060305454292862035,0.021480920406878552,0.06298884749410777,-0.05481679842762317,-0.1776467023222261,-0.047436315426755735,0.04161427541790583,-0.16429739596855542,-0.2598500878192655,0.0405018462760241,0.0893831875304144,-0.06755837720535714,-0.20623955063735527,-0.15242495560889677,0.017346355401934445,0.008576858762527315,-0.17781533559147078,-0.059107838197602035,-0.27059170320396514,0.0666429387351086,-0.03809913996456835,0.09937793907057385,-0.10862308853631061,0.05391252718668643,-0.023111533006910916,-0.05572109965824484,-0.03488843585847943,0.06854827148837032,0.0632682767761032,-0.21702273578931622,-0.10617816513554258,0.02482013602994427,0.039061342039299334,0.04828820361234939,0.09716682960206262,0.09500336164578102,0.030727184591992827,0.16748771459743897,-0.07255618817623942,-0.05391216381895764,0.04897057232259246,0.1041843624384619,-0.007941486048181762,0.13890635137916993,-0.06726545887739695,-0.030444042817491242,-0.030774330784253193,-0.2809115645205797,-0.005695296087153424,-0.050018258821812885,-0.047436315426755735,0.20650780429703197,-0.047436315426755735,0.06947767165825014,-0.1237109033047153,0.10185827765769684,0.11202417396877651,0.026757977443225063,0.04553510065519652,-0.05176549527933918,-0.037073707355336626,0.0963116085045611,0.1556877218338809,0.13676622567884458,0.023986219196946,0.00539836946754963,0.12204123385572298,0.017608115958975656,-0.047436315426755735,-0.007619766892474368,0.14575770366046997,0.11877044801326121,0.024864085440037986,0.035278276706834005,0.1818769853574198,-0.047436315426755735,-0.06676859673493583,-0.006137998752766354,-0.047436315426755735,-0.19373067179767603,-0.07862037497287552,0.06377675862935814,-0.0467953007918044,0.019507976743006267,0.08879856834034698,-0.05224501569327849,0.13281787886348925,-0.04296465749820187,0.09439079115619764,0.04974835778989305,-0.03551836212421066,-0.10324195535046808,-0.2805502301505898,-0.024216301957701282,-0.061865153746714176,-0.14306105425998072,0.1248127560783751,-0.18414027902898897,-0.10591599142107311,-0.105548856094922,-0.11486010181973075,-0.0008659897217178771,0.08228391534444143,-0.033978254180708746,-0.06749034730621102,0.061656690861901016,0.023024363196162266,0.02485276886418781,-0.032902634906665305,0.01880825835196233,-0.005577857082755354,0.08660115451345161,-0.029484268281772107,0.20091518335260644,0.050412327000563056,-0.025012944909226172,-0.07952102178888107,0.005014115872761155,-0.03021819827320441,-0.008804111570492382,0.024290900362356847,-0.046931472408274874,0.09793424671042306,-0.047436315426755735,0.11051058559128389,-0.09294049357119243,0.11247413793028972,0.02460914793470932,-0.0004545401193773212,-0.022106797157120175,-0.047436315426755735,0.050470358194497855,0.11354211299286514,0.008128250373133453,0.08993145606436556,0.0069180178615326545,0.12808004305624998,0.10659810882857558,0.09287966421329351,0.040879181147910566,0.025758925064921872,-0.01979985830621618,0.020693937473812547,0.053194336219419096,-0.008353033975047249,-0.03826374363369813,0.1216431453776707,-0.10150411576876968,0.20406198882778923,-0.047436315426755735,0.13392047283652025,0.07470859258028863,0.1472012490720929,0.2675221466189903,-0.12905678875244456,-0.01845561173529467,-0.04862877233565096,0.15839257360941944,-0.0957121524732015,0.00707895531953312,0.04532240334789705,-0.01160680101775245,0.03094604249642691,0.10987212293062065,-0.2026720107161476,-0.08937138946903343,0.04334913561345667,-0.12372485067741719,0.038266799084123226,0.08444331648270989,-0.15798452986933173,0.007995901264029102,0.008967757132195824,-0.07027922889995696,-0.03586323850392574,-0.047436315426755735,0.02331695519102241,-0.047436315426755735,-0.18977098473120282,-0.01447171900503098,0.01304589474526236,0.08315840378810357,0.05910992683362757,-0.15224836167457484,0.022735318917122996,0.21428291709854477,0.03380141804179269,-0.05440545626057342,0.11410698581753424,-0.047436315426755735,-0.16270699448422407,0.05735184315821844,-0.31962587129526443,0.004491734794215533,0.14596538307853948,-0.008516060763274099,0.010639018465181137,0.11206215427489216,0.023465889874324675,-0.007817985623244894,0.04084314031862579,-0.11234332073275158,0.04447395906327012,-0.03354415543342352,-0.0005753837187104461,0.018904591254957748,-0.15556646541091113,0.11777559110901839,0.025282442726884232,0.11530567420295305,0.025185015996246906,-0.039512630619844065,0.0023600204887339236,0.02412994353205041],\"xaxis\":\"x\",\"y\":[0.06609383256559599,-0.0418831800078465,0.07734474141359007,0.005824094187513451,-0.05312600991008315,0.023935914573024405,0.2727075365628987,-0.03024102047035699,-0.03270931179801727,0.006591006044920744,-0.0001270683813600277,0.030735611852622077,0.022304441218454738,0.0038260754203225883,-0.07123760929138585,-0.0031119645862715843,0.30646116016245306,-0.0710970542864038,0.07627384123331422,-0.030610910072626007,0.07627384123331422,0.04851429206514734,0.06869454015600403,-0.1426156730136181,-0.027169445036545035,0.07627384123331422,-0.13207299375485304,0.04117962441516044,-0.054764786805627644,-0.028629247454623825,0.060777813817979566,-0.016621138447920153,0.026678239211028753,0.10892590466631484,-0.1055539081019504,0.06676354779380958,0.06999725514177396,-0.0554209955865339,0.08678913061629033,-0.07229045987621738,-0.06047975187206526,-0.003070698240205032,0.07627384123331422,0.07627384123331422,-0.03610748490409166,-0.05873128132831407,0.09808705696600727,-0.03126476206071909,0.11580314405692481,-0.020745557318286634,-0.0346241359538032,-0.023950262747770092,0.07627384123331422,-0.024510492632763038,0.07627384123331422,-0.10968595673828539,-0.0040987746757313115,0.06293782916704378,-0.013650953111966412,-0.08987915605853927,-0.01974530737704099,-0.05631259808140536,0.07627384123331422,0.10289054815756735,0.07627384123331422,0.03740286901696575,-0.02212952150571663,-0.09930547235582739,-0.1209488442575282,0.06263120956809687,-0.2514982198679801,-0.0014967580147818085,0.05478572890133237,-0.030689738235843922,-0.14943123152412613,0.07627384123331422,0.020977388714975616,0.016618031000350014,0.04052533248623054,-0.005692623057755672,0.17222613834592898,0.02116433021690987,0.015500954347140267,-0.06730356290320867,0.04588091104634183,0.023347435670714792,0.07836342750818183,-0.015065239295096625,0.040604129881394675,-0.01480399224155736,0.008982637737722367,0.04215738410075435,0.021514552131815575,0.03706143140528115,0.041564937624202145,-0.17829896668703674,-0.04110847218380734,-0.006322169287893856,0.07627384123331422,0.03547484716475094,-0.004587942280290158,-0.04383031568591496,-0.05478526691138244,0.07413609662543413,-0.1353373059500305,0.15486343692638824,0.009507635873604528,-0.20587195075823198,-0.09664375833385125,0.06418606027606102,0.08486371552139038,-0.04258274142058824,-0.22766143852633802,0.06509631926331616,-0.2981066761842292,0.00948934987912061,-0.028769151456784412,-0.12937363452140438,0.00267937645897616,-0.03011333579514865,-0.09471915279977086,-0.07169279840405689,0.026031787347542395,0.04726036836017571,-0.019227315759367584,0.036539062181621965,0.028416851683928695,0.07638022145582225,-0.028464076286917307,0.07627384123331422,0.0377344305734966,-0.012318377426072218,0.06696892424566918,-0.1705096078609739,0.07627384123331422,0.07627384123331422,-0.06307993778552005,-0.06857579746102983,0.07627384123331422,0.16921551372689686,0.03324573044416863,-0.007219661461394924,-0.07371321037247636,-0.06330298415062355,0.07627384123331422,-0.10954349496747773,0.07301129871133329,0.06162117708070258,-0.019727501982063064,0.02188373512056541,-0.03491176557536493,0.07627384123331422,-0.06879451585197868,-0.03780733216242479,-0.034924910984958736,-0.14653208598439318,0.044757398809798024,0.04097095918608241,-0.049005399678787066,0.05377346014939259,-0.022324074516714133,-0.09727585280477159,-0.1422621635234173,-0.16777230101765353,0.004880486888256889,-0.07251632197272224,-0.0354996009259506,0.009691596368790674,-0.022097368181187942,0.07627384123331422,0.09556770659041497,-0.19328583633371704,0.01644752286326831,0.03109525071856848,-0.1609875958484375,-0.011315525183781186,0.06419544064119866,0.042928994907328544,-0.04101473877795393,0.09711153610408453,-0.02191710692401091,-0.06937021062388883,0.02484738322248335,-0.0028157350909994846,-0.04395684622515818,-0.005661202682801923,-0.18062920239672955,-0.004242028924831847,-0.04057908589029938,0.05578447023356023,-0.033784820132230386,0.033916869409299194,0.009420620387739777,-0.11009660752450366,0.03598098333327186,0.07627384123331422,0.0028615366032446665,-0.006103238083417236,-0.22091517566249852,-0.04654984336937462,-0.06923979550158527,-0.008539487837220677,-0.2284108784879019,-0.033950570924164786,-0.0028618655448869276,-0.0388480147381994,0.0652668468776017,0.02572595661757521,-0.0004128148015727074,0.0041295902438932735,0.02606008452016996,0.09410343595742741,0.07118962525820191,-0.014326605741140124,-0.024999895235903097,0.08658592750233277,0.001614306339088216,0.06382856920513495,0.07149611836002555,-0.22761240171055822,-0.03827633741584319,-0.397404215268031,0.07627384123331422,0.06863186761024201,0.07002331269416717,0.05649128531585739,0.07006241613896244,0.07585541192960753,0.34929368224992946,-0.08925226470840195,0.0696886293401219,0.07317889562683026,-0.10224586186522157,0.009680392494716488,0.05486548657435042,-0.014831775524765445,-0.095912758168001,0.06212177208930192,0.1989821061549159,0.05235821124100622,0.0589901810973509,0.07627384123331422,0.05058501964122387,0.05121808304503578,-0.05193740708124413,-0.0869195359078431,-0.012213768229823192,0.052629277081013746,-0.058134104350509745,0.06700679514581108,0.04013651504982245,-0.14301686111609285,0.021660542711898465,-0.0519540992734002,-0.015635156534877126,0.07627384123331422,0.010691230416982445,-0.056687484720487354,-0.08254749942045173,0.07627384123331422,0.08188765460047873,0.07627384123331422,-0.21243810488004597,0.033931328890142415,0.06203239395565589,0.12369159348879794,-0.04156494352163007,0.05567144965991406,0.006004115025131537,-0.018560197683478212,0.09396037786358608,0.0021903682034535325,-0.05503466117855754,-0.1584225939868718,0.04989631592376117,0.047584125660261475,0.10806458471551535,-0.001486709564655304,-0.03625116044584081,-0.0352205219780876,0.07627384123331422,-0.10605610699287084,-0.054782008188546026,0.06252247815054592,-0.0337163137528958,0.12232317488549423,0.11882309154814766,0.007266742507597734,0.012229244015395232,0.00827124260722688,-0.18895742208461375,-0.04411052770764446,-0.04328095210582906,0.012823579691667466,-0.18005066024243283,0.0014407778957147791,-0.0012783180382043404,0.010339512720227035,-0.04717422213217196,-0.14153640503876774,0.4816722242133396,-0.1140995010643099,-0.024693792902395803,0.12284999772872597,0.07099845082792706,-0.058025995262975104,-0.030493054196669388,0.09774759383761092,-0.022219405443809227,0.0648166267155171,0.07845805208217435,-0.025512154418110545,0.01195823298062467,-0.01791149307669381,0.04579491943728037,0.02352769980837971,-0.0026357913766383435,0.05411205094210365,-0.18168031518344527,0.03266038730800358,0.03172505589708723,-0.02184384525367854,-0.08012554498399567,-0.05165121698683712,-0.002173487697908913,0.042224257715827995,0.04388991548440675,0.057023495286055874,-0.08596014638898583,0.13586079548038116,-0.017914272691588306,0.021042662235308176,-0.1161623280743165,0.11319944613232333,-0.027493934938022508,0.02966743937606199,0.011225407074128207,-0.06890839957532731,0.0263173830149155,-0.03036047259338201,0.07627384123331422,0.15548614695566176,0.04527799684641646,-0.03436972989147884,0.0676438644686028,-0.06299765400005397,0.06828253817164116,0.046734033043133845,-0.0072694555949736886,-0.21855180746274228,-0.11867144915848435,-0.015358987732421562,0.09887266631220792,0.0023618209371250214,-0.0532700252876296,0.09733505237667617,-0.06186066338772605,0.012706616111203016,-0.04763186289080882,-0.030058420721916952,0.11791295942820883,0.05612890129659943,0.12606621415412292,0.013527120464962124,0.03859974331627707,-0.18586700892820854,0.08316889443967669,-0.016631534769510996,0.11509844191133367,0.004969365502717521,0.07627384123331422,-0.02472920956540985,0.12241964592594216,-0.23425607717100821,-0.04566112879320426,0.3008408403454507,0.0013246951826260348,0.016388377188164053,-0.09539002684425732,0.07627384123331422,-0.03875994808443321,0.08597181828738719,-0.041705308216677665,-0.025732109468819785,-0.11989505105477023,0.027285402710764947,-0.04226197432354275,0.030146278492666073,0.07306008564648588,0.08931543579866405,-0.01438436119133073,-0.019782451013051136,0.1388054335804835,-0.04341006034149155,0.00583466801534151,-0.05329358259955056,-0.022617578464191164,-0.1293704524096238,-0.09565913642081515,-0.02030343130758852,0.016673726665302407,0.22318684620394774,-0.04016122290106562,-0.023993795826310147,0.03362594850148836,-0.005351034743174228,-0.0006006878066206823,0.009128750973393317,0.04183339899848714,0.02295551225484642,-0.023411692458675727,0.0655489591057879,-0.0020791657417499536,-0.011532372342432064,0.023823225182920002,0.10312908546567442,-0.23502499174492492,-0.042813738044652445,-0.0025118672441138408,0.14341135326674845,-0.032576787147842234,0.024063947308282967,0.07567983070066817,0.04048137808879036,-0.008989262943980761,-0.04313926100788964,0.13376515225385088,-0.10639218073935422,0.11588744577634563,0.07627384123331422,-0.27373961728143054,-0.013640083802147845,-0.05411531126002954,-0.021304270894101047,-0.04727730457126049,0.11233410722718717,0.061168546966351,-0.02448117998716207,-0.05026217639093426,-0.03247969901911157,0.1873510777172508,0.07828244851499401,-0.07137887972128584,-0.16048135991406592,0.03830771955438053,0.12785588189698882,0.050076569839072355,-0.06748471192498673,-0.10926797597026064,-0.06604616079257446,-0.017485647474950777,0.046053237594929644,0.02026405614877336,-0.05110265413262005,0.07627384123331422,0.07627384123331422,0.11476105522917415,-0.030319516455234473,-0.05513995483563371,0.07627384123331422,0.011669371060536119,0.08269772653278258,0.010626171565469876,0.03745286178528347,-0.18522258727811314,-0.03145563151712097,0.0817783710377666,-0.056352886855130686,0.008042413787548384,-0.32502756871561606,0.04757723248120997,-0.015474642715427995,0.11391411674909403,-0.014738117768632266,-0.22159219659363952,-0.15995535058176308,-0.008133395778978541,-0.11281193938231814,-0.01139555964592269,-0.054241134931265055,0.07627384123331422,0.08311855578223064,0.0020209475963119403,0.06381944863155825,0.014985707374832019,0.07627384123331422,0.020512572383117288,0.06079716642005827,0.09967937865703518,-0.08330254182503524,-0.11320101671068725,-0.04875885511153947,0.07627384123331422,-0.02902972635095904,-0.23426549547286718,0.05717432316182219,-0.0522374141995925,0.019292115270838243,-0.08456951082748344,0.003129626395707523,0.11144886249808626,-0.21458277888328867,-0.012252389039522079,-0.011025007666571652,0.0498806579035701,-0.06773219053852479,0.07627384123331422,-0.02633446939711676,-0.06104283158999764,0.0016106314998795153,0.05185322295530555,0.05430729829228715,0.07829933100792807,-0.1736446338971682,-0.17690779343857355,0.10272277565808133,0.013851068939610028,-0.04742523568035792,-0.04980766525553564,-0.04766932746555239,-0.07143418321935652,0.11550080766318119,0.08782846440008579,0.08797183225549016,0.016154064042421864,-0.10014904954451537,0.05515922037344734,-0.28231685236942144,-0.06555615307990541,-0.037577351979368755,-0.12511505858498143,0.04709363428653537,-0.12695591636665796,0.07627384123331422,-0.017754752057173657,0.021611851477821884,0.018278737313480016,0.023562258882361856,0.016353478827836183,0.07627384123331422,-0.0051243134028148415,-0.23549812922657767,0.044656494312768184,0.07627384123331422,-0.10826033079012568,-0.027846272282932405,0.16006088406620042,-0.10052461989610668,0.2014282282551002,0.00531788288567013,-0.18727321064381866,0.015191160552296417,-0.026671794539500172,-0.05375891394727068,-0.04673208241794507,0.027037662074880467,-0.025914804082745338,-0.0420670466533439,0.07627384123331422,0.14974897242460386,0.06846693993598128,0.009525160110726731,-0.04969187421086721,0.07039949444448954,-0.002369259835035726,0.20500527403145027,0.04219405583813081,-0.1284432534350782,0.07627384123331422,0.01111679947886696,0.02688675432013078,0.09349837273074008,-0.02463488650765008,-0.24444047446678957,-0.02010405992668746,-0.0835133722499467,0.1360818919266582,-0.06605392453681608,0.0033387361539035827,-0.015649568473323532,0.020569923177187942,0.07627384123331422,-0.026470182364885922,-0.0392033463386605,0.01257974488519974,0.06475832553375131,0.10270603542407628,0.07627384123331422,0.002418344591853676,-0.08235567978847468,0.029833476155895208,-0.056197966129799194,-0.03754331843916807,0.09061155810013677,0.026678239211028753,-0.08633042519161331,0.06610227866759366,-0.023320902243299805,0.03458498555678588,-0.017473660626649488,-0.02346632123800404,0.06818237398087482,0.011979059362885068,-0.0516694258273917,0.07627384123331422,0.05667829250330547,0.05997222841258063,-0.07060212775440765,0.06443531883046,0.024338231669998423,-0.23644334070678674,0.07627384123331422,-0.018572973709223208,-0.010953392318088645,-0.017532132457696054,0.2707445355333763,-0.09673250039776879,0.07627384123331422,0.030227130780036825,-0.019792571389209836,0.03357088539440165,0.12156385902540598,-0.007908006070957832,0.07627384123331422,-0.04003068555411402,-0.052409154682744784,-0.061970010451106596,-0.03322151229829317,0.12480277572936768,-0.03042477282537678,0.10829065276104997,-0.004125221163493955,-0.12797249779959693,-0.10691793023731808,-0.03665186510444293,-0.04345160925199326,-0.10019628684401725,-0.02925394137619855,-0.03686443132508637,0.0962102091025231,0.07627384123331422,-0.08591104532096852,0.09347438581645219,-0.08226721830832281,0.00046333605106510046,0.03914707307665923,-0.1059942721167322,-0.3131774372023702,-0.03549569834627572,-0.06085738657755588,-0.0910834076967765,-0.04881861404465714,0.08203591779836837,0.03398353618453413,0.02428046942170892,-0.05004924534997417,-0.06398983041612696,0.12010496435059288,-0.0076564007443645846,-0.06094317890550118,0.1222765096015294,2.5807915016564263e-05,0.07627384123331422,0.037155176717333475,-0.010181650019430145,-0.048440631149490376,0.01964082369734915,-0.0289610214941845,-0.02728289838936727,-0.0797017445937078,0.0030427456579907373,-0.06149494032218906,0.0951871371224971,0.01067789129947125,0.026069963377839324,-0.054229732606210716,-0.02346632123800404,0.02373148952505257,-0.15897715619533095,0.003490778167535413,-0.026569692431065637,-0.029328664592840385,0.011576413399685981,0.07627384123331422,0.07627384123331422,0.07995660627124808,0.08357363107815549,0.15695231257448122,0.005532334265222069,0.026425547943784967,0.03291603552338011,0.07517519580802771,0.05708555868691159,-0.03481344980117541,0.05554386914412116,0.01955882163201961,0.07625292758050525,-0.04220294252449551,0.07627384123331422,-0.021906164433283384,-0.005045568918811548,0.09867563484748437,0.020514345097329065,-0.047204760147512896,0.08996768296115308,-0.20332066698156598,0.009761821109087418,0.04135752215346668,-0.06386232732109526,0.00819989843923094,-0.022241164375094928,0.11196841511963203,-0.035677082208613174,0.020790456495248303,0.03525251605163209,0.06708687759820708,0.053350422365020175,-0.03619619915645483,0.08970338169575555,-0.05655804066163781,0.017732198178466677,0.02263071737468915,-0.13196668824122354,-0.15727397717856148,-0.044622909690559695,-0.02039601846439184,-0.2423562010560207,-0.032025935326227335,0.016919971425954604,-0.00289274170061075,0.0035181641014149305,-0.13977494751143177,0.07627384123331422,0.05835891845882547,0.32281797385724714,-0.016157283261620782,0.04799307794871556,0.16507057028638641,0.06932131620655527,-0.03196852792021409,-0.03488458932016938,0.010068729360188855,-0.05798743647049064,0.01257974488519974,0.016040948789259782,-0.04476950979772539,0.07627384123331422,-0.006381690083340323,-0.3178617712973118,-0.049679820703562465,-0.001563548732758468,-0.06075684842324049,-0.0555817557183186,-0.06483210839959076,0.03632700454781706,-0.005800181452381419,0.13524430961815484,0.04654728223052846,0.34929368224992946,-0.02391269159582569,0.07627384123331422,0.07627384123331422,-0.22216718300551294,0.004780303282876162,0.07523378047056842,-0.029186442068510197,0.05867859943799448,0.1040115926838462,-0.04991613077262106,0.027037662074880467,0.029292119234451415,-0.020079856554679365,-0.1195734052078013,0.05894471868179973,0.08863730692718336,0.07627384123331422,0.10344448841438408,0.07627384123331422,0.25192612312058066,0.025216749084245954,0.02967425650474028,0.004845458595975234,0.03549712387968412,0.2283145100152219,-0.05428619007920285,0.08023856121410104,0.07545657327590059,0.105129538061872,-0.20563864485985778,-0.12049383087154386,0.03571246873483538,0.07627384123331422,-0.1148589179867986,-0.0479531386475183,0.07974095630086957,0.02535509349115085,0.047916788614102285,-0.05746102620795229,-0.028264753423749515,0.09382143113276935,-0.023182891323696043,-0.02741466072429015,0.0405545346496585,-0.20410299653716757,-0.009303136710213208,0.1163703725234599,0.05505313663300036,0.00501150510982168,-0.09644430304143975,0.050352514118722824,-0.029249768127731987,0.04267245004234943,0.22318684620394774,-0.05276029398580937,-0.0974911535713126,-0.012252389039522079,-0.0994928485629315,0.03555622921589093,0.01240993534828005,0.04781877916902866,0.01507989615617347,0.004324579638495466,-0.06325538273566678,0.02312468584612124,-0.1775624275352714,-0.01051989303228101,-0.18187183004850535,0.054141395371973204,0.06825861312109702,0.05532791362722335,-0.03786949177948094,-0.05337095676846016,-0.012070658375706124,0.047556173423028564,0.07680052948820222,0.04985663070728431,-0.046286835199304426,0.16921588502035206,-0.020807467273443493,-0.0061521202949631065,0.12557318527482847,-0.1317280040387487,-0.009348402451193132,0.08938345670559683,0.027220087071745634,0.12987436015709244,-0.0509820534233438,0.03738098253898363,-0.04981188673904098,0.030297176931134012,-0.013303728207861272,0.04209946309115995,-0.025473423291163134,0.02965470616949305,0.07627384123331422,-0.009487819693170542,-0.0675606149635264,-0.02327796461302328,-0.1771182409468564,0.07627384123331422,-0.0026256116619773374,0.08493298856519545,-0.04235650589982885,0.05763685059824112,-0.24456654744039039,-0.17608026488749812,0.07627384123331422,0.07627384123331422,0.028971494832550758,-0.052597972928504266,-0.21760787655516872,-0.025304882790203,0.0087173524586843,-0.04114231307449987,-0.027070647193756597,-0.20326765247516534,-0.05156063054636157,-0.2278620833232788,0.0260131070145511,-0.07001642753020067,-0.053870674800273605,0.07741908738802535,0.04369102305453313,0.11974246962080248,0.009800241834219093,-0.052083920726074644,0.03680714704374837,-0.017230114739677407,0.07570016102264703,-0.0224298480936611,0.07627384123331422,0.05557035496472691,0.029013285529957276,-0.024084633732344124,-0.037063659145940495,0.06151630763412692,0.17462224198842477,0.04852627066155674,0.0009814643849654023,0.1496901293179648,0.00847745796837266,-0.011302967970327918,0.051047189450529835,-0.014866210308550174,-0.018083089017551603,0.014552968470948707,-0.04691100680619581,0.07627384123331422,0.07627384123331422,-0.04249519657452648,0.025015486027564815,-0.012043794172405671,0.08881532140219216,0.0772559294419095,-0.04093461867312436,-0.04693456196306969,0.0010513711394768998,-0.0018911442805242943,-0.002742553238094645,-0.12469079103727494,-0.0005324124976906589,-0.034422127952822394,-0.18170170130486724,0.07627384123331422,-0.10431564323766339,0.14016910759040033,0.028218579184658584,-0.0651802369811169,-0.05414249260951681,0.016858177182320556,0.019706089392804625,0.07627384123331422,0.014342628448600774,0.04529215405314132,-0.0695068866232348,0.07627384123331422,0.0020561366653518514,0.11964014645561595,0.07808623923028057,0.026500254732910452,-0.11800422901888441,0.015677833803560207,0.013628004295586351,0.06988683571146201,0.11613320421113577,0.10150275044421335,-0.0357186964460648,-0.0003705916616148555,0.1602129732546968,0.22301456675109668,0.03415448274946672,0.020977388714975616,0.006490826727253183,-0.02605491794325502,-0.09043361196942126,0.02293948108722217,-0.10997920400786249,-0.29234009868683314,0.04116421636451903,0.07627384123331422,0.01744226570970661,0.0644458461761639,-0.21970796526672245,-0.05525022271506648,0.30199769954941735,0.07627384123331422,0.16971508167327962,-0.0002939187420702521,-0.12475619946492182,0.0038212140606847856,-0.23961543116735823,-0.10813473065803492,0.02797579538455139,0.034560018250943,0.112399472530951,-0.2262601556954937,-0.17329367739978532,0.07627384123331422,-0.0606929911752564,0.018271440020231657,-7.671923681214576e-05,-0.1349834036994799,0.06379911551589888,0.0735048304045855,0.13081676737162412,0.11048026871538402,-0.01783223162068093,0.135322025042925,-0.026174150173391298,0.03754106469522978,-0.1955734938231803,0.0656495561670546,-0.012195138455530809,0.07865778269018661,-0.009063702661757626,0.07627384123331422,-0.005849097013795017,0.0477457909412736,-0.0646232499690076,-0.032925775144125646,0.07627384123331422,-0.017681046345232015,0.02998676666428445,0.18269798978593044,-0.003931642797341581,0.0351148521169465,-0.017694057248928245,-0.06167611547926841,-0.19875372574635145,-0.03605466548640341,-0.032872733942085994,0.019524417881066708,-0.003279055651754339,-0.06841448477883098,-0.03512982096937587,-0.021954902324965553,-0.010740710741664128,-0.023695349001784945,-0.016680836422652102,-0.042023671492959866,0.0420438628653804,0.002371754051936604,0.13905309765429166,-0.09090981755890727,-0.022096396608698703,0.13198322946834037,-0.0673999831472731,0.023946642346217375,-0.02585836129108131,0.1597173492022551,0.019027959043440207,-0.020785022221035104,-0.034058635179726536,0.015544215993561487,-0.10444232888318072,-0.013814690038576934,0.08232224227208164,0.027732546964622243,-0.04324179602575953,-0.023870174521348018,-0.14410804141782543,0.0965380539486307,-0.16658352261175688,0.023009956723866364,0.06994154769689913,0.07627384123331422,0.042886473643765605,-0.010721278226636951,0.07627384123331422,0.09322138100530994,0.020223912589927697,-0.07853556642998141,-0.10672265923974333,0.3862919218793395,0.04653244673484852,-0.11286872737287683,0.19053429634788094,0.07627384123331422,0.05679846591695566,0.05206867678467803,0.020506648871872542,-0.01589779945552438,0.010503519341642826,-0.08571766595983163,-0.033657882363386106,0.12721320709908862,0.0031773948665047504,-0.027506527567704574,-0.13865986145064513,-0.040209519372987244,-0.14159271291195646,0.00916179312695313,0.07627384123331422,0.1010007229605073,0.013150530393857647,-0.2747648959965495,-0.06540424744874052,-0.17401487984597,0.023550039054656018,0.0010421192974628558,0.1857459910274489,-0.09551109507951397,-0.03742074223381115,0.09834642713360961,-0.056049332909061306,-0.0045757571856011245,0.01410270822533159,-0.07584124318346096,0.10593278187808168,0.012533817259183832,-0.008840316558059403,-0.0019376425279710606,-0.0769319055559153,-0.006824061374226517,-0.042606660050282796,0.11550554092258083,0.05314701348848375,0.02957684839532623,-0.01926096010346273,0.05359800907525567,0.016020894908732406,0.06457045249462896,-0.21459105927766092,-0.020914078782219812,-0.09612176960547517,0.004869251506704626,0.15080170342913937,-0.009556133797767707,0.03393336690757741,0.023324872111183025,0.025172765620876687,0.07627384123331422,0.020434133269982,0.10312621649418173,-0.11723900728034911,-0.023948980056789897,-0.10147356378020904,0.07627384123331422,0.0699400537238335,-0.053045710791100764,-0.014117204037317647,0.039912145078259235,0.07627384123331422,0.11272841447563174,0.02246550282441642,-0.0006440627491750639,0.07627384123331422,-0.0794360987645327,-0.14466700253986337,-0.047220136548200564,0.14624752372815986,-0.020998260848597315,0.11412056160615315,0.04011993589371749,0.006648693429451709,0.10161873261406398,-0.017478804747424158,0.04056238870766799,0.09148871262770616,0.040427396422782876,-0.05334311841709084,0.06491418051224551,0.016268990622983214,-0.1496078592826632,0.006352974497078845,-0.031263719519097496,0.12832841687339389,0.06586576846376364,-0.02542485228088863,0.04400419978403742,0.007641866775515142,0.00736621311224149,0.07627384123331422,-0.005615583886079935,0.009742303147475206,0.004055446792941173,0.07627384123331422,0.013627282841135855,-0.1506573300804536,-0.0625042747643553,0.0013246951826260348,-0.0540982518739072,0.07627384123331422,-0.13129524871952192,-0.06871958970662563,-0.009004286235709235,-0.009376111356077495,0.04850703192862705,-0.25852844265834585,0.271274625538256,0.1259387193737856,-0.051824710969334685,0.07392241021110697,-0.010822080182181995,0.006526969132048546,-0.16310135289019187,-0.042931949599881836,0.10941932483677352,-0.10945091713451664,0.06020409158058326,0.04885772596452545,0.027784752838363368,-0.06640768844148313,0.029514999217012203,-0.08235987912786077,0.06831066558401266,0.0701105929213349,0.07627384123331422,0.07597257112535721,0.07627384123331422,0.008795226508156905,-0.04191568947951399,0.17178489102934266,-0.3131544043235697,-0.0804777833959655,-0.21672540281562613,0.036869820652387524,0.15149840066564926,0.10758468505313958,0.04295792578183626,0.07627384123331422,0.15611668979903565,0.011946133425412994,-0.16476965808436533,-0.05428619007920285,-0.059682421189385736,0.03254599397150316,0.04265590450666811,-0.19808646762867457,-0.07224249215343426,0.07627384123331422,-0.016282680550167558,-0.35130588226183246,-0.011499811326217212,-0.07555260310176792,-0.08065990071395365,0.00031700896161335467,0.10131628947574821,-0.04628143420602802,-0.08354716428202703,0.045730368748959666,0.08845997669027571,0.03206708216126713,0.07627384123331422,0.07928221450706084,-0.20485965382404303,-0.03262292651325197,0.07627384123331422,0.020514244246121697,-0.11061934516738255,-0.20745940819702818,0.05771833023883725,-0.048933653290643614,0.034540704743459764,0.059395909362283124,-0.05219077257611385,-0.04177424543557481,-0.053136906877172596,-0.03460826202820952,0.07627384123331422,-0.09225152640616209,0.06610911184422845,-0.10183729828199331,0.07627384123331422,-0.1321640272592339,0.04597454433990157,0.06464913781289539,-0.02455540899480489,-0.030391975213389162,-0.020358264155154102,-0.04237097465144906,0.013428902310790362,-0.04275258929854229,-0.014951367486004407,-0.03846818158560676,0.02564621332764135,0.07627384123331422,0.01232951647725377,0.12698618274696474,0.03702166812297875,0.062188015331752736,-0.09272478330091974,0.11595193248289032,0.0673298175059658,-0.11392077904833445,-0.09655772973621352,-0.1000341478425859,0.10837687127113539,0.05206806939082186,-0.06142987943235102,0.0864564004809706,-0.11818272552531857,0.25757739195727136,-0.09695068769833302,0.018662846590423877,-0.06257076890073328,0.064260101651483,-0.027840568625172795,-0.021208282722049165,-0.12775557477603272,-0.011779964093765085,0.00317168385507113,-0.02934293368799872,-0.009306199237643743,0.16431674483546593,0.07627384123331422,-0.07054911047560081,0.06263519773118373,0.07627384123331422,0.023794982795431335,0.048507109572267545,-0.06262879351822574,-0.13737271429534226,-0.021847495221964625,0.10735082563835519,-0.02265392569593854,-0.025417206312580393,0.044294777451622906,-0.023326965476490515,-0.11212102913862015,-0.022662068304854118,0.06100713611012472,-0.029394490651237268,0.008976548306737173,-0.03836838898076006,-0.2377238227586076,-0.04360296488782811,0.017488334427345178,-0.11489852390590787,-0.050463978289350016,-0.02179561284627702,0.10199577629760885,-0.2418081133276529,0.03021954768177029,-0.06523349607388823,0.06312822889273233,-0.06525003480227663,0.07627384123331422,0.010682104099337134,0.10712985225673131,-0.045471609093232654,-0.021456630790627942,0.025606125562997552,-0.040594370759602844,-0.0016884751392444322,-0.06153483300042985,-0.028472410265349024,-0.23876857380775685,0.033908033047021134,-0.04472277301325019,-0.12175555566536071,-0.1199138421114108,0.01632261398352633,-0.08896262333580618,-0.015027897637856155,-0.01313744351690439,-0.11208501394574473,0.07627384123331422,0.04094113408798167,-0.047325250034200655,0.06303128419393786,0.0068627081088873795,-0.004830564264074764,0.018881346635546494,0.04550798438919708,0.011347379960526122,0.03329007386273874,-0.1309071088244109,-0.026883618120356976,0.07627384123331422,-0.04369713978865502,-0.07522343796236931,-0.012648482781810575,-0.0522082573573123,-0.07722667697145938,0.020929324854275032,-0.03623731762387713,0.007387227222901953,0.07627384123331422,-0.08140469197466735,0.08918627635343761,0.0077860074997378615,0.07627384123331422,0.07627384123331422,0.004062369797739765,0.08079457716167468,0.21520681461970464,-0.04386642145736774,-0.032450211982601763,0.04290343198638759,0.001678697529368454,0.052934876548264766,0.014321600736741187,-0.002772022548929522,-0.06364933200560306,0.02224400085186971,0.10912844834606017,0.09779611247351205,-0.01634399781613235,-0.176512804372499,0.008287099696363334,-0.014708446856193644,-0.01198879226067643,0.07627384123331422,0.05767527921729539,0.02943838927111363,0.07627384123331422,0.04120415111940142,0.029297133032073184,0.04563876168551239,-0.020446217647998262,0.006536381458515195,0.055614877900201344,0.07627384123331422,-0.07889776064526038,-0.03515274183598173,0.06314069638057174,-0.048933653290643614,0.07807432289598369,0.006326175263983232,-0.17418303678632405,0.08300974800699809,0.004035470905937217,-0.009201411821262077,0.0008957759127892698,0.06906075221950929,0.06699654500920822,-0.028237528601425584,-0.00980702771420332,-0.2501654102404922,0.040271846722236264,-0.029199009151583893,0.07506758301920342,-0.01901719424535091,-0.05626334741812088,-0.03120367073825286,0.09296027681099815,-0.033028976896966086,0.10897108801010824,0.07627384123331422,0.2460341194886109,0.02211764301070553,0.0697313177870631,-0.016664477981477056,-0.2814583733215246,-0.02677810234864355,0.02506462112522979,-0.10010843829666853,0.04439928231693212,-0.03775303181447546,-0.032526173085724454,-0.034043306149988024,0.08409404183963472,-0.03568007146952886,0.07374908649472081,-0.09774220263072621,0.07627384123331422,0.08067502995560447,0.07627384123331422,0.035555059304960536,0.07601138750249808,-0.07720745904415485,0.053240582981429675,0.006038201154405098,-0.16114510847007535,0.07627384123331422,0.016761391946848378,0.14896666687476087,0.08141294128632402,-0.14153640503876774,0.14517367301698872,-0.22519702444757977,-0.19206074624087466,-0.01367357475805712,-0.07389781795452587,0.014079246624669361,0.06559059723963774,0.07474252083959326,0.03465686439754859,0.09903400601746076,-0.05872496057845878,-0.03757858443083799,-0.0807288109394503,0.003845707476447412,0.0863920871365945,0.08469545406432843,0.03269665856504823,0.06434476452272139,0.01131662550109149,0.05775129042850764,0.07627384123331422,0.061751882103199866,-0.026764930906687096,-0.24345799218182698,-0.13734833195061263,-0.020263603733167247,0.061662163417987845,-0.14074100926311478,-0.08745736004287814,-0.12727133516988698,0.007550247979763803,0.3339662939222585,0.13552704283417977,-0.2750660091634167,0.0026405842074842213,-0.02069471491008643,0.07929603136161752,-0.08516421644854469,-0.00011118761214278842,0.038222702851901005,0.03047073330144037,0.12347827930523583,0.033771044419412984,-0.009142486273799239,0.14350466150585525,-0.002568052847940307,0.050914680951817885,0.02237677124211838,-0.06238502205632521,-0.0526483252670034,-0.0030420153197388672,-0.0471060577311802,-0.06321261112606458,-0.08173646145247704,-0.0029099315103687058,0.006920257126228959,0.12008661806963822,0.019011463800972603,-0.04221353141289524,-0.0011685884891376806,-0.034845440310123474,-0.00913387087667614,-0.20264914636816375,0.01593834930521673,0.012726844744629106,0.07627384123331422,-0.11357851301672085,0.07627384123331422,-0.018169607504112815,0.08577003362100583,-0.0036108689208232706,-0.059061575967955464,0.06094554081933036,-0.053692648187713576,-0.009459766888433056,0.0045668571436230385,-0.052081192703680335,-0.056387701650475616,-0.060868254701193274,0.04922393525064964,0.014422036199009173,-0.02475492379639234,0.039417970971181215,0.07627384123331422,-0.04900449640196576,0.050263942841859435,-0.04566786011863734,0.03297162038936325,-0.02978679970481066,-0.09385843885768445,0.07627384123331422,-0.0590206889478564,0.005716250691894823,0.07627384123331422,-0.1317938294246294,-0.11079226134361259,-0.012558784041333655,0.04474753378453228,0.023815944464975522,-0.03423395614014452,0.08934443145190096,-0.03567748100742586,-0.0014991304302404721,-0.0346756216260758,0.011728727160256322,-0.07884357996510438,-0.16066261304576276,-0.2602200229257543,-0.15490955421504493,0.10769500216652526,0.012652553390427264,-0.08053826897982258,0.17275501054472087,0.1411121232685715,0.0769075830712364,-0.03064643789227983,0.0569118975047656,-0.05505514469725294,-0.027036156365178986,-0.0048039417099648846,-0.018530857398465425,0.0864094119202839,-0.005993641075094927,0.015677347554684452,0.05329818119922028,0.06095482600820693,-0.02607562976058307,0.08639739168566128,-0.04288277323504426,-0.04263507951065191,0.14343965069068282,-0.14941439020851918,-0.042630582452372036,-0.012072793224444945,-0.006025572732048045,0.04241820505439805,0.06611149334104245,0.034252722807982645,0.07627384123331422,-0.04879563548039651,0.029674745886338016,0.10659771619635808,0.026953597195298478,0.02135475952954822,0.0645786136537873,0.07627384123331422,0.04394039491053382,-0.20788489784516115,0.08019981917812041,0.11891736779420503,0.06532216648328898,-0.03987135108242339,-0.04669923433227181,-0.05230608379377998,0.059781939450307554,0.005653084812443762,-0.10440965106705806,-0.0027279773110235614,-0.11834562019034106,0.15372775697218866,0.012451144170566607,-0.07315282605364627,-0.10959599226694954,-0.04303709597281333,0.07627384123331422,-0.038466564495737245,-0.05492963070787297,-0.05953695528452545,-0.11989505105477023,-0.07738188601252285,0.12232317488549423,0.1858289730667678,-0.04659650675365008,0.10971226203604671,0.009918342588259564,-0.0695914924365888,-0.0024905454845252683,-0.007157879490992325,-0.0322639290911749,0.06973038234851532,-0.10886089207893719,-0.048161542654506284,-0.09001630988613156,0.030622166723237313,-0.010347911493680216,0.11758864727530771,0.07480631049779757,-0.09826511996928738,-0.11935903989119434,0.046958885886821726,0.07627384123331422,0.025622134415334775,0.07627384123331422,0.09789999119089829,0.08092403326637343,-0.09149958856083168,-0.08570873561720355,-0.043459816937451226,0.03834476655570773,0.08411614019559452,-0.07915042802745413,0.05099159273446314,-0.0914699098711453,-0.11460257052411689,0.07627384123331422,-0.04966051179380864,0.0008378451209932012,-0.29547059109544227,0.10333394798991226,0.015079119207847172,0.01850934201406166,-0.08718304454760062,-0.15679460274229665,0.00507854544780692,0.11585243790466382,-0.11450452343958725,-0.006935623316619157,-0.020374112689057196,0.025360034695533117,0.015351888887539043,-0.00216534115320716,-0.05588893872101598,-0.040109857213057244,0.08768606602980875,-0.010388286926612717,-0.03741289903231855,-0.0942136287749028,-0.05054250265725779,-0.04561118169725537],\"yaxis\":\"y\",\"type\":\"scattergl\"}],                        {\"template\":{\"data\":{\"histogram2dcontour\":[{\"type\":\"histogram2dcontour\",\"colorbar\":{\"outlinewidth\":0,\"ticks\":\"\"},\"colorscale\":[[0.0,\"#0d0887\"],[0.1111111111111111,\"#46039f\"],[0.2222222222222222,\"#7201a8\"],[0.3333333333333333,\"#9c179e\"],[0.4444444444444444,\"#bd3786\"],[0.5555555555555556,\"#d8576b\"],[0.6666666666666666,\"#ed7953\"],[0.7777777777777778,\"#fb9f3a\"],[0.8888888888888888,\"#fdca26\"],[1.0,\"#f0f921\"]]}],\"choropleth\":[{\"type\":\"choropleth\",\"colorbar\":{\"outlinewidth\":0,\"ticks\":\"\"}}],\"histogram2d\":[{\"type\":\"histogram2d\",\"colorbar\":{\"outlinewidth\":0,\"ticks\":\"\"},\"colorscale\":[[0.0,\"#0d0887\"],[0.1111111111111111,\"#46039f\"],[0.2222222222222222,\"#7201a8\"],[0.3333333333333333,\"#9c179e\"],[0.4444444444444444,\"#bd3786\"],[0.5555555555555556,\"#d8576b\"],[0.6666666666666666,\"#ed7953\"],[0.7777777777777778,\"#fb9f3a\"],[0.8888888888888888,\"#fdca26\"],[1.0,\"#f0f921\"]]}],\"heatmap\":[{\"type\":\"heatmap\",\"colorbar\":{\"outlinewidth\":0,\"ticks\":\"\"},\"colorscale\":[[0.0,\"#0d0887\"],[0.1111111111111111,\"#46039f\"],[0.2222222222222222,\"#7201a8\"],[0.3333333333333333,\"#9c179e\"],[0.4444444444444444,\"#bd3786\"],[0.5555555555555556,\"#d8576b\"],[0.6666666666666666,\"#ed7953\"],[0.7777777777777778,\"#fb9f3a\"],[0.8888888888888888,\"#fdca26\"],[1.0,\"#f0f921\"]]}],\"heatmapgl\":[{\"type\":\"heatmapgl\",\"colorbar\":{\"outlinewidth\":0,\"ticks\":\"\"},\"colorscale\":[[0.0,\"#0d0887\"],[0.1111111111111111,\"#46039f\"],[0.2222222222222222,\"#7201a8\"],[0.3333333333333333,\"#9c179e\"],[0.4444444444444444,\"#bd3786\"],[0.5555555555555556,\"#d8576b\"],[0.6666666666666666,\"#ed7953\"],[0.7777777777777778,\"#fb9f3a\"],[0.8888888888888888,\"#fdca26\"],[1.0,\"#f0f921\"]]}],\"contourcarpet\":[{\"type\":\"contourcarpet\",\"colorbar\":{\"outlinewidth\":0,\"ticks\":\"\"}}],\"contour\":[{\"type\":\"contour\",\"colorbar\":{\"outlinewidth\":0,\"ticks\":\"\"},\"colorscale\":[[0.0,\"#0d0887\"],[0.1111111111111111,\"#46039f\"],[0.2222222222222222,\"#7201a8\"],[0.3333333333333333,\"#9c179e\"],[0.4444444444444444,\"#bd3786\"],[0.5555555555555556,\"#d8576b\"],[0.6666666666666666,\"#ed7953\"],[0.7777777777777778,\"#fb9f3a\"],[0.8888888888888888,\"#fdca26\"],[1.0,\"#f0f921\"]]}],\"surface\":[{\"type\":\"surface\",\"colorbar\":{\"outlinewidth\":0,\"ticks\":\"\"},\"colorscale\":[[0.0,\"#0d0887\"],[0.1111111111111111,\"#46039f\"],[0.2222222222222222,\"#7201a8\"],[0.3333333333333333,\"#9c179e\"],[0.4444444444444444,\"#bd3786\"],[0.5555555555555556,\"#d8576b\"],[0.6666666666666666,\"#ed7953\"],[0.7777777777777778,\"#fb9f3a\"],[0.8888888888888888,\"#fdca26\"],[1.0,\"#f0f921\"]]}],\"mesh3d\":[{\"type\":\"mesh3d\",\"colorbar\":{\"outlinewidth\":0,\"ticks\":\"\"}}],\"scatter\":[{\"fillpattern\":{\"fillmode\":\"overlay\",\"size\":10,\"solidity\":0.2},\"type\":\"scatter\"}],\"parcoords\":[{\"type\":\"parcoords\",\"line\":{\"colorbar\":{\"outlinewidth\":0,\"ticks\":\"\"}}}],\"scatterpolargl\":[{\"type\":\"scatterpolargl\",\"marker\":{\"colorbar\":{\"outlinewidth\":0,\"ticks\":\"\"}}}],\"bar\":[{\"error_x\":{\"color\":\"#2a3f5f\"},\"error_y\":{\"color\":\"#2a3f5f\"},\"marker\":{\"line\":{\"color\":\"#E5ECF6\",\"width\":0.5},\"pattern\":{\"fillmode\":\"overlay\",\"size\":10,\"solidity\":0.2}},\"type\":\"bar\"}],\"scattergeo\":[{\"type\":\"scattergeo\",\"marker\":{\"colorbar\":{\"outlinewidth\":0,\"ticks\":\"\"}}}],\"scatterpolar\":[{\"type\":\"scatterpolar\",\"marker\":{\"colorbar\":{\"outlinewidth\":0,\"ticks\":\"\"}}}],\"histogram\":[{\"marker\":{\"pattern\":{\"fillmode\":\"overlay\",\"size\":10,\"solidity\":0.2}},\"type\":\"histogram\"}],\"scattergl\":[{\"type\":\"scattergl\",\"marker\":{\"colorbar\":{\"outlinewidth\":0,\"ticks\":\"\"}}}],\"scatter3d\":[{\"type\":\"scatter3d\",\"line\":{\"colorbar\":{\"outlinewidth\":0,\"ticks\":\"\"}},\"marker\":{\"colorbar\":{\"outlinewidth\":0,\"ticks\":\"\"}}}],\"scattermapbox\":[{\"type\":\"scattermapbox\",\"marker\":{\"colorbar\":{\"outlinewidth\":0,\"ticks\":\"\"}}}],\"scatterternary\":[{\"type\":\"scatterternary\",\"marker\":{\"colorbar\":{\"outlinewidth\":0,\"ticks\":\"\"}}}],\"scattercarpet\":[{\"type\":\"scattercarpet\",\"marker\":{\"colorbar\":{\"outlinewidth\":0,\"ticks\":\"\"}}}],\"carpet\":[{\"aaxis\":{\"endlinecolor\":\"#2a3f5f\",\"gridcolor\":\"white\",\"linecolor\":\"white\",\"minorgridcolor\":\"white\",\"startlinecolor\":\"#2a3f5f\"},\"baxis\":{\"endlinecolor\":\"#2a3f5f\",\"gridcolor\":\"white\",\"linecolor\":\"white\",\"minorgridcolor\":\"white\",\"startlinecolor\":\"#2a3f5f\"},\"type\":\"carpet\"}],\"table\":[{\"cells\":{\"fill\":{\"color\":\"#EBF0F8\"},\"line\":{\"color\":\"white\"}},\"header\":{\"fill\":{\"color\":\"#C8D4E3\"},\"line\":{\"color\":\"white\"}},\"type\":\"table\"}],\"barpolar\":[{\"marker\":{\"line\":{\"color\":\"#E5ECF6\",\"width\":0.5},\"pattern\":{\"fillmode\":\"overlay\",\"size\":10,\"solidity\":0.2}},\"type\":\"barpolar\"}],\"pie\":[{\"automargin\":true,\"type\":\"pie\"}]},\"layout\":{\"autotypenumbers\":\"strict\",\"colorway\":[\"#636efa\",\"#EF553B\",\"#00cc96\",\"#ab63fa\",\"#FFA15A\",\"#19d3f3\",\"#FF6692\",\"#B6E880\",\"#FF97FF\",\"#FECB52\"],\"font\":{\"color\":\"#2a3f5f\"},\"hovermode\":\"closest\",\"hoverlabel\":{\"align\":\"left\"},\"paper_bgcolor\":\"white\",\"plot_bgcolor\":\"#E5ECF6\",\"polar\":{\"bgcolor\":\"#E5ECF6\",\"angularaxis\":{\"gridcolor\":\"white\",\"linecolor\":\"white\",\"ticks\":\"\"},\"radialaxis\":{\"gridcolor\":\"white\",\"linecolor\":\"white\",\"ticks\":\"\"}},\"ternary\":{\"bgcolor\":\"#E5ECF6\",\"aaxis\":{\"gridcolor\":\"white\",\"linecolor\":\"white\",\"ticks\":\"\"},\"baxis\":{\"gridcolor\":\"white\",\"linecolor\":\"white\",\"ticks\":\"\"},\"caxis\":{\"gridcolor\":\"white\",\"linecolor\":\"white\",\"ticks\":\"\"}},\"coloraxis\":{\"colorbar\":{\"outlinewidth\":0,\"ticks\":\"\"}},\"colorscale\":{\"sequential\":[[0.0,\"#0d0887\"],[0.1111111111111111,\"#46039f\"],[0.2222222222222222,\"#7201a8\"],[0.3333333333333333,\"#9c179e\"],[0.4444444444444444,\"#bd3786\"],[0.5555555555555556,\"#d8576b\"],[0.6666666666666666,\"#ed7953\"],[0.7777777777777778,\"#fb9f3a\"],[0.8888888888888888,\"#fdca26\"],[1.0,\"#f0f921\"]],\"sequentialminus\":[[0.0,\"#0d0887\"],[0.1111111111111111,\"#46039f\"],[0.2222222222222222,\"#7201a8\"],[0.3333333333333333,\"#9c179e\"],[0.4444444444444444,\"#bd3786\"],[0.5555555555555556,\"#d8576b\"],[0.6666666666666666,\"#ed7953\"],[0.7777777777777778,\"#fb9f3a\"],[0.8888888888888888,\"#fdca26\"],[1.0,\"#f0f921\"]],\"diverging\":[[0,\"#8e0152\"],[0.1,\"#c51b7d\"],[0.2,\"#de77ae\"],[0.3,\"#f1b6da\"],[0.4,\"#fde0ef\"],[0.5,\"#f7f7f7\"],[0.6,\"#e6f5d0\"],[0.7,\"#b8e186\"],[0.8,\"#7fbc41\"],[0.9,\"#4d9221\"],[1,\"#276419\"]]},\"xaxis\":{\"gridcolor\":\"white\",\"linecolor\":\"white\",\"ticks\":\"\",\"title\":{\"standoff\":15},\"zerolinecolor\":\"white\",\"automargin\":true,\"zerolinewidth\":2},\"yaxis\":{\"gridcolor\":\"white\",\"linecolor\":\"white\",\"ticks\":\"\",\"title\":{\"standoff\":15},\"zerolinecolor\":\"white\",\"automargin\":true,\"zerolinewidth\":2},\"scene\":{\"xaxis\":{\"backgroundcolor\":\"#E5ECF6\",\"gridcolor\":\"white\",\"linecolor\":\"white\",\"showbackground\":true,\"ticks\":\"\",\"zerolinecolor\":\"white\",\"gridwidth\":2},\"yaxis\":{\"backgroundcolor\":\"#E5ECF6\",\"gridcolor\":\"white\",\"linecolor\":\"white\",\"showbackground\":true,\"ticks\":\"\",\"zerolinecolor\":\"white\",\"gridwidth\":2},\"zaxis\":{\"backgroundcolor\":\"#E5ECF6\",\"gridcolor\":\"white\",\"linecolor\":\"white\",\"showbackground\":true,\"ticks\":\"\",\"zerolinecolor\":\"white\",\"gridwidth\":2}},\"shapedefaults\":{\"line\":{\"color\":\"#2a3f5f\"}},\"annotationdefaults\":{\"arrowcolor\":\"#2a3f5f\",\"arrowhead\":0,\"arrowwidth\":1},\"geo\":{\"bgcolor\":\"white\",\"landcolor\":\"#E5ECF6\",\"subunitcolor\":\"white\",\"showland\":true,\"showlakes\":true,\"lakecolor\":\"white\"},\"title\":{\"x\":0.05},\"mapbox\":{\"style\":\"light\"}}},\"xaxis\":{\"anchor\":\"y\",\"domain\":[0.0,1.0],\"title\":{\"text\":\"x\"}},\"yaxis\":{\"anchor\":\"x\",\"domain\":[0.0,1.0],\"title\":{\"text\":\"y\"}},\"coloraxis\":{\"colorbar\":{\"title\":{\"text\":\"color\"}},\"colorscale\":[[0.0,\"#0d0887\"],[0.1111111111111111,\"#46039f\"],[0.2222222222222222,\"#7201a8\"],[0.3333333333333333,\"#9c179e\"],[0.4444444444444444,\"#bd3786\"],[0.5555555555555556,\"#d8576b\"],[0.6666666666666666,\"#ed7953\"],[0.7777777777777778,\"#fb9f3a\"],[0.8888888888888888,\"#fdca26\"],[1.0,\"#f0f921\"]]},\"legend\":{\"tracegroupgap\":0,\"orientation\":\"h\",\"yanchor\":\"bottom\",\"y\":-0.5,\"xanchor\":\"right\",\"x\":1},\"margin\":{\"t\":60},\"height\":1000,\"width\":1400},                        {\"responsive\": true}                    ).then(function(){\n",
       "                            \n",
       "var gd = document.getElementById('adf721de-60da-47c7-9401-82bef2fc84ac');\n",
       "var x = new MutationObserver(function (mutations, observer) {{\n",
       "        var display = window.getComputedStyle(gd).display;\n",
       "        if (!display || display === 'none') {{\n",
       "            console.log([gd, 'removed!']);\n",
       "            Plotly.purge(gd);\n",
       "            observer.disconnect();\n",
       "        }}\n",
       "}});\n",
       "\n",
       "// Listen for the removal of the full notebook cells\n",
       "var notebookContainer = gd.closest('#notebook-container');\n",
       "if (notebookContainer) {{\n",
       "    x.observe(notebookContainer, {childList: true});\n",
       "}}\n",
       "\n",
       "// Listen for the clearing of the current output cell\n",
       "var outputEl = gd.closest('.output');\n",
       "if (outputEl) {{\n",
       "    x.observe(outputEl, {childList: true});\n",
       "}}\n",
       "\n",
       "                        })                };                });            </script>        </div>"
      ]
     },
     "metadata": {},
     "output_type": "display_data"
    }
   ],
   "source": [
    "fig = px.scatter(\n",
    "    x=flat_df[\"pca_x\"],\n",
    "    y=flat_df[\"pca_y\"],\n",
    "    hover_name=flat_df[\"document_name\"],\n",
    "    hover_data={\"authors\": flat_df[\"author_flat\"]},\n",
    "    color=flat_df[\"cluster\"],\n",
    "    width=1400,\n",
    "    height=1000,\n",
    ")\n",
    "\n",
    "fig.update_layout(\n",
    "    legend=dict(orientation=\"h\", yanchor=\"bottom\", y=-0.5, xanchor=\"right\", x=1)\n",
    ")\n",
    "\n",
    "fig.show()"
   ]
  },
  {
   "cell_type": "code",
   "execution_count": 254,
   "id": "45e6aece-ba28-4e94-941e-a9d6b78818c5",
   "metadata": {},
   "outputs": [
    {
     "name": "stdout",
     "output_type": "stream",
     "text": [
      "cluster 0 (25 docs)\n",
      "Policy Instruments – Information And Education: 0.181\n",
      "Vulnerable Groups – Indigenous People: 0.084\n",
      "Sectors – Insurance & Financial Services: 0.066\n",
      "Barriers And Challenges – Challenges: 0.053\n",
      "Policy Instruments – Economic Instruments: 0.052\n",
      "\n",
      "cluster 1 (306 docs)\n",
      "Sectors – Agriculture, Forestry And Other Land Use: 0.096\n",
      "Greenhouse Gases – Emissions: 0.072\n",
      "Financial Flows – Financial Flow: 0.057\n",
      "Sectors – Energy: 0.053\n",
      "Policy Instruments – Information And Education: 0.049\n",
      "\n",
      "cluster 2 (126 docs)\n",
      "International Cooperation – International Cooperation: 0.008\n",
      "Equity And Just Transition – Inequality & Human Rights: 0.006\n",
      "Vulnerable Groups – Women And Girls: 0.003\n",
      "Equity And Just Transition – Equity And Justice: 0.003\n",
      "Vulnerable Groups – Indigenous People: 0.002\n",
      "\n",
      "cluster 3 (95 docs)\n",
      "Greenhouse Gases – Emissions: 0.247\n",
      "Greenhouse Gases – Greenhouse Gases: 0.09\n",
      "Sectors – Agriculture, Forestry And Other Land Use: 0.087\n",
      "Sectors – Energy: 0.073\n",
      "Sectors – Industry: 0.059\n",
      "\n",
      "cluster 4 (56 docs)\n",
      "Financial Flows – Financial Flow: 0.399\n",
      "Policy Instruments – Economic Instruments: 0.14\n",
      "Sectors – Insurance & Financial Services: 0.134\n",
      "Adaptation – Adaptation: 0.04\n",
      "Mitigation – Mitigation: 0.023\n",
      "\n",
      "cluster 5 (62 docs)\n",
      "Sectors – Agriculture, Forestry And Other Land Use: 0.188\n",
      "Sectors – Water Services: 0.082\n",
      "Climate Related Hazards – Extreme Weather: 0.079\n",
      "Sectors – Fisheries & Aquaculture: 0.075\n",
      "Policy Instruments – Information And Education: 0.041\n",
      "\n",
      "cluster 6 (148 docs)\n",
      "Adaptation – Adaptation: 0.111\n",
      "Greenhouse Gases – Emissions: 0.086\n",
      "Mitigation – Mitigation: 0.079\n",
      "Financial Flows – Financial Flow: 0.06\n",
      "Greenhouse Gases – Greenhouse Gases: 0.047\n",
      "\n",
      "cluster 7 (11 docs)\n",
      "Policy Instruments – Governance: 0.636\n",
      "Good Practice And Opportunities – Opportunity: 0.066\n",
      "Financial Flows – Financial Flow: 0.06\n",
      "Sectors – Agriculture, Forestry And Other Land Use: 0.058\n",
      "Sectors – Water Services: 0.036\n",
      "\n",
      "cluster 8 (13 docs)\n",
      "Adaptation – Adaptation: 0.565\n",
      "Policy Instruments – Governance: 0.074\n",
      "Policy Instruments – Information And Education: 0.049\n",
      "Sectors – Agriculture, Forestry And Other Land Use: 0.042\n",
      "Financial Flows – Financial Flow: 0.039\n",
      "\n",
      "cluster 9 (167 docs)\n",
      "Greenhouse Gases – Emissions: 0.162\n",
      "Greenhouse Gases – Greenhouse Gases: 0.14\n",
      "Mitigation – Mitigation: 0.11\n",
      "Policy Instruments – Governance: 0.08\n",
      "Sectors – Energy: 0.045\n",
      "\n",
      "cluster 10 (259 docs)\n",
      "Greenhouse Gases – Emissions: 0.133\n",
      "Greenhouse Gases – Greenhouse Gases: 0.092\n",
      "Sectors – Energy: 0.084\n",
      "Policy Instruments – Regulatory Instruments: 0.057\n",
      "Sectors – Agriculture, Forestry And Other Land Use: 0.056\n",
      "\n",
      "cluster 11 (95 docs)\n",
      "Greenhouse Gases – Emissions: 0.171\n",
      "Financial Flows – Financial Flow: 0.157\n",
      "Sectors – Energy: 0.066\n",
      "Greenhouse Gases – Greenhouse Gases: 0.064\n",
      "Policy Instruments – Economic Instruments: 0.057\n",
      "\n",
      "cluster 12 (60 docs)\n",
      "Adaptation – Adaptation: 0.208\n",
      "Financial Flows – Financial Flow: 0.092\n",
      "Policy Instruments – Information And Education: 0.058\n",
      "Sectors – Agriculture, Forestry And Other Land Use: 0.057\n",
      "Policy Instruments – Governance: 0.052\n",
      "\n",
      "cluster 13 (37 docs)\n",
      "Greenhouse Gases – Emissions: 0.395\n",
      "Greenhouse Gases – Greenhouse Gases: 0.211\n",
      "Sectors – Energy: 0.038\n",
      "Sectors – Agriculture, Forestry And Other Land Use: 0.033\n",
      "Greenhouse Gases – Carbon Dioxide: 0.032\n",
      "\n",
      "cluster 14 (87 docs)\n",
      "Financial Flows – Financial Flow: 0.196\n",
      "Sectors – Insurance & Financial Services: 0.085\n",
      "Policy Instruments – Economic Instruments: 0.085\n",
      "Adaptation – Adaptation: 0.076\n",
      "Greenhouse Gases – Emissions: 0.047\n",
      "\n",
      "cluster 15 (38 docs)\n",
      "Deforestation – Forests: 0.268\n",
      "Sectors – Agriculture, Forestry And Other Land Use: 0.214\n",
      "Greenhouse Gases – Emissions: 0.117\n",
      "Deforestation – Deforestation: 0.079\n",
      "Policy Instruments – Governance: 0.049\n",
      "\n",
      "cluster 16 (90 docs)\n",
      "Sectors – Energy: 0.09\n",
      "Sectors – Industry: 0.073\n",
      "Financial Flows – Financial Flow: 0.067\n",
      "Greenhouse Gases – Emissions: 0.063\n",
      "Policy Instruments – Economic Instruments: 0.056\n",
      "\n",
      "cluster 17 (4 docs)\n",
      "Sectors – Agriculture, Forestry And Other Land Use: 0.697\n",
      "Sectors – Water Services: 0.116\n",
      "Sectors – Fisheries & Aquaculture: 0.027\n",
      "Policy Instruments – Information And Education: 0.026\n",
      "Sectors – Industry: 0.018\n",
      "\n"
     ]
    }
   ],
   "source": [
    "# print cluster types\n",
    "\n",
    "for cluster, types in cluster_top_types_map.items():\n",
    "    print(f\"cluster {cluster} ({cluster_sizes[cluster]} docs)\")\n",
    "    print(\n",
    "        \"\\n\".join(\n",
    "            f\"{type}: {round(proportion, 3)}\" for type, proportion in types.items()\n",
    "        )\n",
    "    )\n",
    "    print()"
   ]
  },
  {
   "cell_type": "code",
   "execution_count": 255,
   "id": "ceafef77-1477-448d-9901-1fce83683eae",
   "metadata": {},
   "outputs": [
    {
     "name": "stdout",
     "output_type": "stream",
     "text": [
      "cluster 16 (90 docs)\n",
      "Sectors – Energy: 0.09\n",
      "Sectors – Industry: 0.073\n",
      "Financial Flows – Financial Flow: 0.067\n",
      "Greenhouse Gases – Emissions: 0.063\n",
      "Policy Instruments – Economic Instruments: 0.056\n"
     ]
    },
    {
     "data": {
      "text/html": [
       "<div>\n",
       "<style scoped>\n",
       "    .dataframe tbody tr th:only-of-type {\n",
       "        vertical-align: middle;\n",
       "    }\n",
       "\n",
       "    .dataframe tbody tr th {\n",
       "        vertical-align: top;\n",
       "    }\n",
       "\n",
       "    .dataframe thead th {\n",
       "        text-align: right;\n",
       "    }\n",
       "</style>\n",
       "<table border=\"1\" class=\"dataframe\">\n",
       "  <thead>\n",
       "    <tr style=\"text-align: right;\">\n",
       "      <th></th>\n",
       "      <th>document_id</th>\n",
       "      <th>document_name</th>\n",
       "      <th>author</th>\n",
       "      <th>author_is_party</th>\n",
       "      <th>date</th>\n",
       "    </tr>\n",
       "  </thead>\n",
       "  <tbody>\n",
       "    <tr>\n",
       "      <th>11</th>\n",
       "      <td>UNFCCC.non-party.1255.0</td>\n",
       "      <td>Submission for the first input phase of the global stocktake: International Network for Sustainable Energy</td>\n",
       "      <td>[International Network for Sustainable Energy (INFORSE)]</td>\n",
       "      <td>False</td>\n",
       "      <td>2022-04-01</td>\n",
       "    </tr>\n",
       "    <tr>\n",
       "      <th>47</th>\n",
       "      <td>UNFCCC.party.632.0</td>\n",
       "      <td>India's Long-Term Low-Carbon Development Strategy</td>\n",
       "      <td>[India]</td>\n",
       "      <td>True</td>\n",
       "      <td>2022-11-14</td>\n",
       "    </tr>\n",
       "    <tr>\n",
       "      <th>53</th>\n",
       "      <td>UNFCCC.non-party.257.0</td>\n",
       "      <td>Climate Action Pathway: Transport. Action Table</td>\n",
       "      <td>[Marrakech Partnership]</td>\n",
       "      <td>False</td>\n",
       "      <td>2021-06-29</td>\n",
       "    </tr>\n",
       "    <tr>\n",
       "      <th>79</th>\n",
       "      <td>UNFCCC.non-party.13.0</td>\n",
       "      <td>Air Transport Action Group (ATAG) to the First Global Stocktake</td>\n",
       "      <td>[Air Transport Action Group (ATAG)]</td>\n",
       "      <td>False</td>\n",
       "      <td>2022-05-17</td>\n",
       "    </tr>\n",
       "    <tr>\n",
       "      <th>82</th>\n",
       "      <td>UNFCCC.party.1223.0</td>\n",
       "      <td>Stratégie à long terme de la Belgique</td>\n",
       "      <td>[Belgium]</td>\n",
       "      <td>True</td>\n",
       "      <td>2020-12-10</td>\n",
       "    </tr>\n",
       "    <tr>\n",
       "      <th>...</th>\n",
       "      <td>...</td>\n",
       "      <td>...</td>\n",
       "      <td>...</td>\n",
       "      <td>...</td>\n",
       "      <td>...</td>\n",
       "    </tr>\n",
       "    <tr>\n",
       "      <th>1572</th>\n",
       "      <td>UNFCCC.non-party.252.0</td>\n",
       "      <td>Climate Action Pathway: Industry. Action Table</td>\n",
       "      <td>[Marrakech Partnership]</td>\n",
       "      <td>False</td>\n",
       "      <td>2021-05-27</td>\n",
       "    </tr>\n",
       "    <tr>\n",
       "      <th>1607</th>\n",
       "      <td>UNFCCC.party.758.0</td>\n",
       "      <td>Long term strategy on climate mitigation</td>\n",
       "      <td>[Netherlands]</td>\n",
       "      <td>True</td>\n",
       "      <td>2020-12-11</td>\n",
       "    </tr>\n",
       "    <tr>\n",
       "      <th>1626</th>\n",
       "      <td>UNFCCC.party.1518.0</td>\n",
       "      <td>United Arab Emirates. National Communication (NC). NC 4.</td>\n",
       "      <td>[United Arab Emirates]</td>\n",
       "      <td>True</td>\n",
       "      <td>2019-01-21</td>\n",
       "    </tr>\n",
       "    <tr>\n",
       "      <th>1627</th>\n",
       "      <td>UNFCCC.non-party.1454.0</td>\n",
       "      <td>Thermal Storage UK Global Stocktake submission</td>\n",
       "      <td>[Thermal Storage UK]</td>\n",
       "      <td>False</td>\n",
       "      <td>2022-05-17</td>\n",
       "    </tr>\n",
       "    <tr>\n",
       "      <th>1652</th>\n",
       "      <td>UNFCCC.non-party.264.0</td>\n",
       "      <td>Climate Action Pathway. Human Settlements. Vision and Summary</td>\n",
       "      <td>[Marrakech Partnership]</td>\n",
       "      <td>False</td>\n",
       "      <td>2021-07-21</td>\n",
       "    </tr>\n",
       "  </tbody>\n",
       "</table>\n",
       "<p>90 rows × 5 columns</p>\n",
       "</div>"
      ],
      "text/plain": [
       "                  document_id  \\\n",
       "11    UNFCCC.non-party.1255.0   \n",
       "47         UNFCCC.party.632.0   \n",
       "53     UNFCCC.non-party.257.0   \n",
       "79      UNFCCC.non-party.13.0   \n",
       "82        UNFCCC.party.1223.0   \n",
       "...                       ...   \n",
       "1572   UNFCCC.non-party.252.0   \n",
       "1607       UNFCCC.party.758.0   \n",
       "1626      UNFCCC.party.1518.0   \n",
       "1627  UNFCCC.non-party.1454.0   \n",
       "1652   UNFCCC.non-party.264.0   \n",
       "\n",
       "                                                                                                   document_name  \\\n",
       "11    Submission for the first input phase of the global stocktake: International Network for Sustainable Energy   \n",
       "47                                                             India's Long-Term Low-Carbon Development Strategy   \n",
       "53                                                               Climate Action Pathway: Transport. Action Table   \n",
       "79                                               Air Transport Action Group (ATAG) to the First Global Stocktake   \n",
       "82                                                                         Stratégie à long terme de la Belgique   \n",
       "...                                                                                                          ...   \n",
       "1572                                                              Climate Action Pathway: Industry. Action Table   \n",
       "1607                                                                    Long term strategy on climate mitigation   \n",
       "1626                                                    United Arab Emirates. National Communication (NC). NC 4.   \n",
       "1627                                                              Thermal Storage UK Global Stocktake submission   \n",
       "1652                                               Climate Action Pathway. Human Settlements. Vision and Summary   \n",
       "\n",
       "                                                        author  \\\n",
       "11    [International Network for Sustainable Energy (INFORSE)]   \n",
       "47                                                     [India]   \n",
       "53                                     [Marrakech Partnership]   \n",
       "79                         [Air Transport Action Group (ATAG)]   \n",
       "82                                                   [Belgium]   \n",
       "...                                                        ...   \n",
       "1572                                   [Marrakech Partnership]   \n",
       "1607                                             [Netherlands]   \n",
       "1626                                    [United Arab Emirates]   \n",
       "1627                                      [Thermal Storage UK]   \n",
       "1652                                   [Marrakech Partnership]   \n",
       "\n",
       "      author_is_party        date  \n",
       "11              False  2022-04-01  \n",
       "47               True  2022-11-14  \n",
       "53              False  2021-06-29  \n",
       "79              False  2022-05-17  \n",
       "82               True  2020-12-10  \n",
       "...               ...         ...  \n",
       "1572            False  2021-05-27  \n",
       "1607             True  2020-12-11  \n",
       "1626             True  2019-01-21  \n",
       "1627            False  2022-05-17  \n",
       "1652            False  2021-07-21  \n",
       "\n",
       "[90 rows x 5 columns]"
      ]
     },
     "metadata": {},
     "output_type": "display_data"
    }
   ],
   "source": [
    "with pd.option_context(\"display.max_colwidth\", 200):\n",
    "    cluster = 16\n",
    "    print(f\"cluster {cluster} ({cluster_sizes[cluster]} docs)\")\n",
    "    print(\n",
    "        \"\\n\".join(\n",
    "            f\"{type}: {round(proportion, 3)}\"\n",
    "            for type, proportion in cluster_top_types_map[cluster].items()\n",
    "        )\n",
    "    )\n",
    "    display(\n",
    "        flat_df.loc[\n",
    "            flat_df[\"cluster\"] == cluster,\n",
    "            [\n",
    "                \"document_id\",\n",
    "                \"document_name\",\n",
    "                # \"document_source_url\",\n",
    "                \"author\",\n",
    "                \"author_is_party\",\n",
    "                \"date\",\n",
    "            ],\n",
    "        ]  # .sample(10, random_state=42)\n",
    "    )"
   ]
  },
  {
   "cell_type": "code",
   "execution_count": null,
   "id": "0676723a-3618-4840-b216-31639e18c2c5",
   "metadata": {},
   "outputs": [],
   "source": []
  }
 ],
 "metadata": {
  "kernelspec": {
   "display_name": "Python 3 (ipykernel)",
   "language": "python",
   "name": "python3"
  },
  "language_info": {
   "codemirror_mode": {
    "name": "ipython",
    "version": 3
   },
   "file_extension": ".py",
   "mimetype": "text/x-python",
   "name": "python",
   "nbconvert_exporter": "python",
   "pygments_lexer": "ipython3",
   "version": "3.9.10"
  }
 },
 "nbformat": 4,
 "nbformat_minor": 5
}
