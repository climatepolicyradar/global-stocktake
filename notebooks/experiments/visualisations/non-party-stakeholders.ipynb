{
 "cells": [
  {
   "cell_type": "markdown",
   "id": "b5f06671",
   "metadata": {},
   "source": [
    "# Heatmap: parties vs document types"
   ]
  },
  {
   "cell_type": "code",
   "execution_count": 12,
   "id": "87907732",
   "metadata": {
    "collapsed": true,
    "jupyter": {
     "outputs_hidden": true
    },
    "tags": []
   },
   "outputs": [
    {
     "name": "stdout",
     "output_type": "stream",
     "text": [
      "Requirement already satisfied: seaborn in /Users/kalyan/Library/Caches/pypoetry/virtualenvs/experiment-template-Q6O6vM4r-py3.9/lib/python3.9/site-packages (0.12.2)\n",
      "Requirement already satisfied: wikipedia in /Users/kalyan/Library/Caches/pypoetry/virtualenvs/experiment-template-Q6O6vM4r-py3.9/lib/python3.9/site-packages (1.4.0)\n",
      "Requirement already satisfied: numpy!=1.24.0,>=1.17 in /Users/kalyan/Library/Caches/pypoetry/virtualenvs/experiment-template-Q6O6vM4r-py3.9/lib/python3.9/site-packages (from seaborn) (1.23.5)\n",
      "Requirement already satisfied: matplotlib!=3.6.1,>=3.1 in /Users/kalyan/Library/Caches/pypoetry/virtualenvs/experiment-template-Q6O6vM4r-py3.9/lib/python3.9/site-packages (from seaborn) (3.7.1)\n",
      "Requirement already satisfied: pandas>=0.25 in /Users/kalyan/Library/Caches/pypoetry/virtualenvs/experiment-template-Q6O6vM4r-py3.9/lib/python3.9/site-packages (from seaborn) (1.5.3)\n",
      "Requirement already satisfied: beautifulsoup4 in /Users/kalyan/Library/Caches/pypoetry/virtualenvs/experiment-template-Q6O6vM4r-py3.9/lib/python3.9/site-packages (from wikipedia) (4.12.2)\n",
      "Requirement already satisfied: requests<3.0.0,>=2.0.0 in /Users/kalyan/Library/Caches/pypoetry/virtualenvs/experiment-template-Q6O6vM4r-py3.9/lib/python3.9/site-packages (from wikipedia) (2.28.2)\n",
      "Requirement already satisfied: kiwisolver>=1.0.1 in /Users/kalyan/Library/Caches/pypoetry/virtualenvs/experiment-template-Q6O6vM4r-py3.9/lib/python3.9/site-packages (from matplotlib!=3.6.1,>=3.1->seaborn) (1.4.4)\n",
      "Requirement already satisfied: pyparsing>=2.3.1 in /Users/kalyan/Library/Caches/pypoetry/virtualenvs/experiment-template-Q6O6vM4r-py3.9/lib/python3.9/site-packages (from matplotlib!=3.6.1,>=3.1->seaborn) (3.0.9)\n",
      "Requirement already satisfied: cycler>=0.10 in /Users/kalyan/Library/Caches/pypoetry/virtualenvs/experiment-template-Q6O6vM4r-py3.9/lib/python3.9/site-packages (from matplotlib!=3.6.1,>=3.1->seaborn) (0.11.0)\n",
      "Requirement already satisfied: fonttools>=4.22.0 in /Users/kalyan/Library/Caches/pypoetry/virtualenvs/experiment-template-Q6O6vM4r-py3.9/lib/python3.9/site-packages (from matplotlib!=3.6.1,>=3.1->seaborn) (4.39.0)\n",
      "Requirement already satisfied: packaging>=20.0 in /Users/kalyan/Library/Caches/pypoetry/virtualenvs/experiment-template-Q6O6vM4r-py3.9/lib/python3.9/site-packages (from matplotlib!=3.6.1,>=3.1->seaborn) (23.0)\n",
      "Requirement already satisfied: python-dateutil>=2.7 in /Users/kalyan/Library/Caches/pypoetry/virtualenvs/experiment-template-Q6O6vM4r-py3.9/lib/python3.9/site-packages (from matplotlib!=3.6.1,>=3.1->seaborn) (2.8.2)\n",
      "Requirement already satisfied: importlib-resources>=3.2.0 in /Users/kalyan/Library/Caches/pypoetry/virtualenvs/experiment-template-Q6O6vM4r-py3.9/lib/python3.9/site-packages (from matplotlib!=3.6.1,>=3.1->seaborn) (5.12.0)\n",
      "Requirement already satisfied: pillow>=6.2.0 in /Users/kalyan/Library/Caches/pypoetry/virtualenvs/experiment-template-Q6O6vM4r-py3.9/lib/python3.9/site-packages (from matplotlib!=3.6.1,>=3.1->seaborn) (9.4.0)\n",
      "Requirement already satisfied: contourpy>=1.0.1 in /Users/kalyan/Library/Caches/pypoetry/virtualenvs/experiment-template-Q6O6vM4r-py3.9/lib/python3.9/site-packages (from matplotlib!=3.6.1,>=3.1->seaborn) (1.0.7)\n",
      "Requirement already satisfied: pytz>=2020.1 in /Users/kalyan/Library/Caches/pypoetry/virtualenvs/experiment-template-Q6O6vM4r-py3.9/lib/python3.9/site-packages (from pandas>=0.25->seaborn) (2022.7.1)\n",
      "Requirement already satisfied: idna<4,>=2.5 in /Users/kalyan/Library/Caches/pypoetry/virtualenvs/experiment-template-Q6O6vM4r-py3.9/lib/python3.9/site-packages (from requests<3.0.0,>=2.0.0->wikipedia) (3.4)\n",
      "Requirement already satisfied: charset-normalizer<4,>=2 in /Users/kalyan/Library/Caches/pypoetry/virtualenvs/experiment-template-Q6O6vM4r-py3.9/lib/python3.9/site-packages (from requests<3.0.0,>=2.0.0->wikipedia) (3.1.0)\n",
      "Requirement already satisfied: urllib3<1.27,>=1.21.1 in /Users/kalyan/Library/Caches/pypoetry/virtualenvs/experiment-template-Q6O6vM4r-py3.9/lib/python3.9/site-packages (from requests<3.0.0,>=2.0.0->wikipedia) (1.26.14)\n",
      "Requirement already satisfied: certifi>=2017.4.17 in /Users/kalyan/Library/Caches/pypoetry/virtualenvs/experiment-template-Q6O6vM4r-py3.9/lib/python3.9/site-packages (from requests<3.0.0,>=2.0.0->wikipedia) (2022.12.7)\n",
      "Requirement already satisfied: soupsieve>1.2 in /Users/kalyan/Library/Caches/pypoetry/virtualenvs/experiment-template-Q6O6vM4r-py3.9/lib/python3.9/site-packages (from beautifulsoup4->wikipedia) (2.4)\n",
      "Requirement already satisfied: zipp>=3.1.0 in /Users/kalyan/Library/Caches/pypoetry/virtualenvs/experiment-template-Q6O6vM4r-py3.9/lib/python3.9/site-packages (from importlib-resources>=3.2.0->matplotlib!=3.6.1,>=3.1->seaborn) (3.13.0)\n",
      "Requirement already satisfied: six>=1.5 in /Users/kalyan/Library/Caches/pypoetry/virtualenvs/experiment-template-Q6O6vM4r-py3.9/lib/python3.9/site-packages (from python-dateutil>=2.7->matplotlib!=3.6.1,>=3.1->seaborn) (1.16.0)\n",
      "\n",
      "\u001b[1m[\u001b[0m\u001b[34;49mnotice\u001b[0m\u001b[1;39;49m]\u001b[0m\u001b[39;49m A new release of pip is available: \u001b[0m\u001b[31;49m23.0\u001b[0m\u001b[39;49m -> \u001b[0m\u001b[32;49m23.1.2\u001b[0m\n",
      "\u001b[1m[\u001b[0m\u001b[34;49mnotice\u001b[0m\u001b[1;39;49m]\u001b[0m\u001b[39;49m To update, run: \u001b[0m\u001b[32;49mpython -m pip install --upgrade pip\u001b[0m\n"
     ]
    }
   ],
   "source": [
    "import sys\n",
    "\n",
    "!{sys.executable} -m pip install seaborn wikipedia"
   ]
  },
  {
   "cell_type": "code",
   "execution_count": 4,
   "id": "1f27c4f1-3b1e-453a-922f-95caf9298a4d",
   "metadata": {},
   "outputs": [],
   "source": [
    "import sys\n",
    "import os\n",
    "from pathlib import Path\n",
    "import itertools\n",
    "from collections import Counter\n",
    "from typing import Optional\n",
    "\n",
    "import seaborn as sns\n",
    "import pandas as pd\n",
    "import matplotlib.pyplot as plt\n",
    "import wikipedia\n",
    "from tqdm.auto import tqdm\n",
    "\n",
    "sys.path.append(\"../../..\")\n",
    "\n",
    "from src.opensearch.index_data import get_dataset_and_filter_values"
   ]
  },
  {
   "cell_type": "markdown",
   "id": "569c5670-5b8d-4986-9c79-2bef8ee97f91",
   "metadata": {},
   "source": [
    "# 1. Create list of authors for manual filling in country, organisation type"
   ]
  },
  {
   "cell_type": "code",
   "execution_count": 2,
   "id": "aca49649-de40-448d-8c8d-7edce73f28a7",
   "metadata": {},
   "outputs": [],
   "source": [
    "data = pd.read_csv(\n",
    "    \"/Users/kalyan/Documents/CPR/unfccc-global-stocktake-documents/CPR_UNFCCC_MASTER.csv\"\n",
    ")\n",
    "data[\"Year\"] = data[\"Date\"].apply(lambda i: int(i[:4]))\n",
    "data[[\"Author\", \"Submission Type\"]] = data[[\"Author\", \"Submission Type\"]].applymap(\n",
    "    lambda i: i.split(\",\")\n",
    ")"
   ]
  },
  {
   "cell_type": "code",
   "execution_count": 3,
   "id": "e8d5319e-9581-44d0-aeea-481ef1c06448",
   "metadata": {},
   "outputs": [],
   "source": [
    "non_party_authors = (\n",
    "    data[data[\"Author Type\"] == \"Non-Party\"]\n",
    "    .explode(column=\"Author\")[\"Author\"]\n",
    "    .unique()\n",
    "    .tolist()\n",
    ")"
   ]
  },
  {
   "cell_type": "code",
   "execution_count": 10,
   "id": "316b278b-df79-4a8a-919e-06a4895fd746",
   "metadata": {},
   "outputs": [
    {
     "data": {
      "text/plain": [
       "'https://en.wikipedia.org/wiki/The_Nature_Conservancy'"
      ]
     },
     "execution_count": 10,
     "metadata": {},
     "output_type": "execute_result"
    }
   ],
   "source": [
    "def get_best_wikipedia_url(title: str) -> Optional[str]:\n",
    "    pages = wikipedia.search(title)\n",
    "\n",
    "    if pages:\n",
    "        try:\n",
    "            return wikipedia.page(pages[0]).url\n",
    "        except Exception as e:\n",
    "            print(f\"failed for {title}: {e}\")\n",
    "            return None\n",
    "\n",
    "    else:\n",
    "        return None\n",
    "\n",
    "\n",
    "get_best_wikipedia_url(non_party_authors[0])"
   ]
  },
  {
   "cell_type": "code",
   "execution_count": 11,
   "id": "a045077c-4d4c-4ce0-b2eb-1c43fff6456b",
   "metadata": {
    "collapsed": true,
    "jupyter": {
     "outputs_hidden": true
    },
    "tags": []
   },
   "outputs": [
    {
     "data": {
      "application/vnd.jupyter.widget-view+json": {
       "model_id": "b64b5f4e100342108b56395922d6a622",
       "version_major": 2,
       "version_minor": 0
      },
      "text/plain": [
       "  0%|          | 0/208 [00:00<?, ?it/s]"
      ]
     },
     "metadata": {},
     "output_type": "display_data"
    },
    {
     "name": "stdout",
     "output_type": "stream",
     "text": [
      "failed for CAD2: Page id \"autoca\" does not match any pages. Try another id!\n",
      "failed for Partnership on Sustainable: Page id \"sustainable development goal 1\" does not match any pages. Try another id!\n"
     ]
    },
    {
     "name": "stderr",
     "output_type": "stream",
     "text": [
      "/Users/kalyan/Library/Caches/pypoetry/virtualenvs/experiment-template-Q6O6vM4r-py3.9/lib/python3.9/site-packages/wikipedia/wikipedia.py:389: GuessedAtParserWarning: No parser was explicitly specified, so I'm using the best available HTML parser for this system (\"lxml\"). This usually isn't a problem, but if you run this code on another system, or in a different virtual environment, it may use a different parser and behave differently.\n",
      "\n",
      "The code that caused this warning is on line 389 of the file /Users/kalyan/Library/Caches/pypoetry/virtualenvs/experiment-template-Q6O6vM4r-py3.9/lib/python3.9/site-packages/wikipedia/wikipedia.py. To get rid of this warning, pass the additional argument 'features=\"lxml\"' to the BeautifulSoup constructor.\n",
      "\n",
      "  lis = BeautifulSoup(html).find_all('li')\n"
     ]
    },
    {
     "name": "stdout",
     "output_type": "stream",
     "text": [
      "failed for Organisation for Economic Co-operation and Development (OECD): \"oe\" may refer to: \n",
      "Old English\n",
      "Œ\n",
      "Oe (digraph)\n",
      "Open front rounded vowel\n",
      "Open-mid front rounded vowel\n",
      "Ö\n",
      "Ø\n",
      "Ө\n",
      "Oe, Estonia\n",
      "Ōe, Yamagata\n",
      "Oe District, Tokushima\n",
      "Ōe, Kyoto\n",
      "Oe (Attica)\n",
      "Otrokovice\n",
      "Olathe East High School\n",
      "Ōe (surname)\n",
      "Kenzaburō Ōe\n",
      "Old Edwardian\n",
      "Old Etonian\n",
      "Ordem dos Engenheiros\n",
      "Order of Excellence of Guyana\n",
      "Okean Elzy\n",
      "Cessna OE Bird Dog\n",
      "°Oe\n",
      "Oersted\n",
      "On30\n",
      "OpenEmbedded\n",
      "Opportunistic encryption\n",
      "Outlook Express\n",
      "Ophryocystis elektroscirrha\n",
      "Odakyū Enoshima Line\n",
      "aircraft registration\n",
      "Overseas experience\n",
      "Overview effect\n",
      "All pages with titles beginning with Oe\n",
      "All pages with titles containing Oe\n",
      "0e (disambiguation)\n",
      "OES (disambiguation)\n",
      "failed for Local Governments and Municipal Authorities (LGMA): Page id \"icl4\" does not match any pages. Try another id!\n",
      "failed for Fundación Ecología y Desarrollo (ECODES): \"encode\" may refer to: \n",
      "APL (programming language)\n",
      "Binary encoding\n",
      "Binary-to-text encoding\n",
      "Character encoding\n",
      "Coding region\n",
      "Encoding\n",
      "Encoding (memory)\n",
      "Encoding (semiotics)\n",
      "ENCODE\n",
      "MPEG encoding\n",
      "Semantics encoding\n",
      "character encoding\n",
      "Video encoding\n",
      "Encoder (disambiguation)\n",
      "ENCOD, the European Coalition for Just and Effective Drug Policies\n",
      "All pages with titles containing Encoding\n",
      "failed for CONSTRAIN: \"Constraint\" may refer to: \n",
      "Constraint (computer-aided design)\n",
      "Constraint (mathematics)\n",
      "Constraint (classical mechanics)\n",
      "Constraint (information theory)\n",
      "Constraints (journal)\n",
      "Constraint (database)\n",
      "Biological constraints\n",
      "Carrier's constraint\n",
      "Constrained optimization\n",
      "Constrained writing\n",
      "Constraint algorithm\n",
      "Constraint satisfaction\n",
      "Finite domain constraint\n",
      "First class constraint\n",
      "Integrity constraints\n",
      "Loading gauge\n",
      "Optimality theory\n",
      "Primary constraint\n",
      "Restraint (disambiguation)\n",
      "Second class constraint\n",
      "Secondary constraint\n",
      "Structure gauge\n",
      "Theory of constraints\n",
      "failed for Bezos Earth Fund: Page id \"jeff be os\" does not match any pages. Try another id!\n"
     ]
    }
   ],
   "source": [
    "wikipedia_urls = [get_best_wikipedia_url(author) for author in tqdm(non_party_authors)]"
   ]
  },
  {
   "cell_type": "code",
   "execution_count": 16,
   "id": "ae3e9c0c-f389-4756-8ef9-cf4f2dcbc755",
   "metadata": {},
   "outputs": [],
   "source": [
    "non_party_author_df = pd.DataFrame(\n",
    "    {\"Author\": non_party_authors, \"Wikipedia page best guess\": wikipedia_urls}\n",
    ").fillna(\"\")\n",
    "non_party_author_df[[\"Country code\", \"Organisation type\"]] = \"\"\n",
    "\n",
    "non_party_author_df.to_csv(\"./non-party-authors-for-completion.csv\", index=False)"
   ]
  },
  {
   "cell_type": "markdown",
   "id": "cd6eceed-f4d3-437a-9cc1-ff41c87faa76",
   "metadata": {},
   "source": [
    "## 2. Produce table for visualisation\n",
    "\n",
    "Author, Country, Organisation Type, Document Count"
   ]
  },
  {
   "cell_type": "code",
   "execution_count": 13,
   "id": "9d3bfc46-c4c9-4210-9efe-e1c678dcb3f1",
   "metadata": {},
   "outputs": [
    {
     "name": "stderr",
     "output_type": "stream",
     "text": [
      "INFO:src.opensearch.index_data:Loading scraper CSV\n",
      "INFO:src.opensearch.index_data:Loading dataset of parsed documents\n"
     ]
    },
    {
     "data": {
      "application/vnd.jupyter.widget-view+json": {
       "model_id": "47defc9e315844578872488f25c493d4",
       "version_major": 2,
       "version_minor": 0
      },
      "text/plain": [
       "  0%|          | 0/1697 [00:00<?, ?it/s]"
      ]
     },
     "metadata": {},
     "output_type": "display_data"
    },
    {
     "data": {
      "application/vnd.jupyter.widget-view+json": {
       "model_id": "3ae1c6e974724842a875cd563ffc9c86",
       "version_major": 2,
       "version_minor": 0
      },
      "text/plain": [
       "  0%|          | 0/1679 [00:00<?, ?it/s]"
      ]
     },
     "metadata": {},
     "output_type": "display_data"
    },
    {
     "name": "stderr",
     "output_type": "stream",
     "text": [
      "INFO:src.opensearch.index_data:Loaded 1679 documents. 0 documents failed to load.\n",
      "INFO:src.opensearch.index_data:Loading spans from concepts directory\n",
      "INFO:src.opensearch.index_data:Adding spans to dataset\n"
     ]
    },
    {
     "data": {
      "application/vnd.jupyter.widget-view+json": {
       "model_id": "2092b8cb6d88477c960b612cd39db2dc",
       "version_major": 2,
       "version_minor": 0
      },
      "text/plain": [
       "0docs [00:00, ?docs/s]"
      ]
     },
     "metadata": {},
     "output_type": "display_data"
    }
   ],
   "source": [
    "dataset, _ = get_dataset_and_filter_values(\n",
    "    os.environ[\"DOCS_DIR_GST\"],\n",
    "    Path(\n",
    "        \"/Users/kalyan/Documents/CPR/unfccc-global-stocktake-documents/CPR_UNFCCC_MASTER.csv\"\n",
    "    ),\n",
    "    Path(\"../../../concepts/\"),\n",
    ")"
   ]
  },
  {
   "cell_type": "code",
   "execution_count": 14,
   "id": "ebab0ff4-5330-429e-809c-942d32108d78",
   "metadata": {},
   "outputs": [],
   "source": [
    "dataset_metadata = dataset.metadata_df"
   ]
  },
  {
   "cell_type": "code",
   "execution_count": 25,
   "id": "5c098106-9ee7-4399-93ea-84965708fe86",
   "metadata": {},
   "outputs": [
    {
     "data": {
      "text/html": [
       "<div>\n",
       "<style scoped>\n",
       "    .dataframe tbody tr th:only-of-type {\n",
       "        vertical-align: middle;\n",
       "    }\n",
       "\n",
       "    .dataframe tbody tr th {\n",
       "        vertical-align: top;\n",
       "    }\n",
       "\n",
       "    .dataframe thead th {\n",
       "        text-align: right;\n",
       "    }\n",
       "</style>\n",
       "<table border=\"1\" class=\"dataframe\">\n",
       "  <thead>\n",
       "    <tr style=\"text-align: right;\">\n",
       "      <th></th>\n",
       "      <th>Author</th>\n",
       "      <th>Wikipedia page best guess (leave blank if there isn't one)</th>\n",
       "      <th>Country</th>\n",
       "      <th>Organisation type</th>\n",
       "    </tr>\n",
       "  </thead>\n",
       "  <tbody>\n",
       "    <tr>\n",
       "      <th>0</th>\n",
       "      <td>Nature Conservancy (TNC)</td>\n",
       "      <td>https://en.wikipedia.org/wiki/The_Nature_Conse...</td>\n",
       "      <td>International</td>\n",
       "      <td>International organisation</td>\n",
       "    </tr>\n",
       "    <tr>\n",
       "      <th>1</th>\n",
       "      <td>Institute for Global Environmental Strategies ...</td>\n",
       "      <td>NaN</td>\n",
       "      <td>International</td>\n",
       "      <td>International organisation</td>\n",
       "    </tr>\n",
       "    <tr>\n",
       "      <th>2</th>\n",
       "      <td>Wetlands International</td>\n",
       "      <td>https://en.wikipedia.org/wiki/Wetlands_Interna...</td>\n",
       "      <td>International</td>\n",
       "      <td>International organisation</td>\n",
       "    </tr>\n",
       "    <tr>\n",
       "      <th>3</th>\n",
       "      <td>Japan Aerospace Exploration Agency (JAXA)</td>\n",
       "      <td>https://en.wikipedia.org/wiki/JAXA</td>\n",
       "      <td>Japan</td>\n",
       "      <td>Government</td>\n",
       "    </tr>\n",
       "    <tr>\n",
       "      <th>4</th>\n",
       "      <td>Aberystwyth University</td>\n",
       "      <td>https://en.wikipedia.org/wiki/Aberystwyth_Univ...</td>\n",
       "      <td>United Kingdom</td>\n",
       "      <td>Educational institution</td>\n",
       "    </tr>\n",
       "  </tbody>\n",
       "</table>\n",
       "</div>"
      ],
      "text/plain": [
       "                                              Author  \\\n",
       "0                           Nature Conservancy (TNC)   \n",
       "1  Institute for Global Environmental Strategies ...   \n",
       "2                             Wetlands International   \n",
       "3          Japan Aerospace Exploration Agency (JAXA)   \n",
       "4                             Aberystwyth University   \n",
       "\n",
       "  Wikipedia page best guess (leave blank if there isn't one)         Country  \\\n",
       "0  https://en.wikipedia.org/wiki/The_Nature_Conse...           International   \n",
       "1                                                NaN           International   \n",
       "2  https://en.wikipedia.org/wiki/Wetlands_Interna...           International   \n",
       "3                 https://en.wikipedia.org/wiki/JAXA                   Japan   \n",
       "4  https://en.wikipedia.org/wiki/Aberystwyth_Univ...          United Kingdom   \n",
       "\n",
       "            Organisation type  \n",
       "0  International organisation  \n",
       "1  International organisation  \n",
       "2  International organisation  \n",
       "3                  Government  \n",
       "4     Educational institution  "
      ]
     },
     "execution_count": 25,
     "metadata": {},
     "output_type": "execute_result"
    }
   ],
   "source": [
    "author_df = pd.read_csv(\"GST non-party authors-completed.csv\")\n",
    "author_df = author_df.drop_duplicates(subset=\"Author\")\n",
    "author_df.head()"
   ]
  },
  {
   "cell_type": "code",
   "execution_count": 17,
   "id": "79586dbf-2b51-4058-839a-2040c3c829f2",
   "metadata": {},
   "outputs": [
    {
     "data": {
      "text/plain": [
       "Index(['document_id', 'document_name', 'document_source_url',\n",
       "       'document_content_type', 'document_md5_sum', 'languages', 'translated',\n",
       "       'has_valid_text', 'page_metadata', '_text_block_idx_hash_map', 'source',\n",
       "       'author', 'validation_status', 'themes', 'types', 'version', 'date',\n",
       "       'link', 'data_error_type', 'author_is_party', 'document_variant',\n",
       "       'topics', 'num_text_blocks', 'num_pages'],\n",
       "      dtype='object')"
      ]
     },
     "execution_count": 17,
     "metadata": {},
     "output_type": "execute_result"
    }
   ],
   "source": [
    "dataset_metadata.columns"
   ]
  },
  {
   "cell_type": "code",
   "execution_count": 64,
   "id": "be445845-5ab4-4393-b2a7-266fb28e8a58",
   "metadata": {},
   "outputs": [],
   "source": [
    "dataset_metadata = dataset_metadata[~dataset_metadata[\"author_is_party\"]]"
   ]
  },
  {
   "cell_type": "code",
   "execution_count": 76,
   "id": "c4bec8ec-5dc6-4582-b2d7-b8d7bc5422fb",
   "metadata": {},
   "outputs": [],
   "source": [
    "dataset_metadata_expanded_author = dataset_metadata.explode(column=\"author\")\n",
    "dataset_metadata_expanded_author[\"author\"] = dataset_metadata_expanded_author[\n",
    "    \"author\"\n",
    "].replace(\n",
    "    \"United NationsÂ Office for Disaster Risk Reduction (UNDRR)\",\n",
    "    \"United Nations Office for Disaster Risk Reduction (UNDRR)\",\n",
    ")\n",
    "\n",
    "joined_data = pd.merge(\n",
    "    dataset_metadata_expanded_author,\n",
    "    author_df,\n",
    "    left_on=\"author\",\n",
    "    right_on=\"Author\",\n",
    "    how=\"left\",\n",
    "    validate=\"m:1\",\n",
    ").rename(columns={\"Country\": \"Organisation country\"})"
   ]
  },
  {
   "cell_type": "code",
   "execution_count": 96,
   "id": "4d8ecb25-da59-4b94-8afd-e626b1ea9a06",
   "metadata": {},
   "outputs": [],
   "source": [
    "nonparty_author_groups = (\n",
    "    joined_data.groupby([\"Organisation country\", \"Organisation type\"])\n",
    "    .count()[\"document_id\"]\n",
    "    .unstack()\n",
    "    .fillna(0)\n",
    ")\n",
    "nonparty_author_groups.to_csv(\"nonparty-author-groups.csv\", index=True)"
   ]
  },
  {
   "cell_type": "code",
   "execution_count": null,
   "id": "aac4acb1-5ef0-41ef-a092-a33be2b499a3",
   "metadata": {},
   "outputs": [],
   "source": []
  }
 ],
 "metadata": {
  "kernelspec": {
   "display_name": "Python 3 (ipykernel)",
   "language": "python",
   "name": "python3"
  },
  "language_info": {
   "codemirror_mode": {
    "name": "ipython",
    "version": 3
   },
   "file_extension": ".py",
   "mimetype": "text/x-python",
   "name": "python",
   "nbconvert_exporter": "python",
   "pygments_lexer": "ipython3",
   "version": "3.9.10"
  }
 },
 "nbformat": 4,
 "nbformat_minor": 5
}
