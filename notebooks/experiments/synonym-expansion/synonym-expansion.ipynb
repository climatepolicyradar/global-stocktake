{
 "cells": [
  {
   "cell_type": "markdown",
   "id": "38e243c1-b576-4208-a27d-4a9710015d16",
   "metadata": {},
   "source": [
    "# Synonym expansion\n",
    "\n",
    "Explorer inputs contain lots of information about synonymous or near-synonymous phrases.\n",
    "\n",
    "This notebook investigates:\n",
    "\n",
    "* whether we can extract groups of synonyms or near-synonyms\n",
    "\n",
    "Further work is to:\n",
    "\n",
    "* identify how appropriate they are for uses such as data augmentation, search query expansion and measuring embedding quality (vector similarity between synonymous phrases)"
   ]
  },
  {
   "cell_type": "markdown",
   "id": "1ff85222-2eb4-4742-a5f6-d1a493b0fe64",
   "metadata": {},
   "source": [
    "### Notes\n",
    "\n",
    "- Getting all word forms from a lemma is difficult. It's impossible in spacy, and the [lemminflect](https://github.com/bjascob/LemmInflect) library, which was designed to overcome this, needs a POS tag which we don't have in the explorer inputs"
   ]
  },
  {
   "cell_type": "code",
   "execution_count": 2,
   "id": "2299a449-755b-4745-958f-12f5d50ead7e",
   "metadata": {
    "collapsed": true,
    "jupyter": {
     "outputs_hidden": true
    },
    "tags": []
   },
   "outputs": [
    {
     "name": "stdout",
     "output_type": "stream",
     "text": [
      "Collecting git+https://github.com/climatepolicyradar/explorer\n",
      "  Cloning https://github.com/climatepolicyradar/explorer to /private/var/folders/nt/2c78pgv94312v7_mmz24h6kc0000gn/T/pip-req-build-pp_q_voi\n",
      "  Running command git clone --filter=blob:none --quiet https://github.com/climatepolicyradar/explorer /private/var/folders/nt/2c78pgv94312v7_mmz24h6kc0000gn/T/pip-req-build-pp_q_voi\n",
      "  Resolved https://github.com/climatepolicyradar/explorer to commit 4c67a26f8f4ee861a38ecbb877b9723c6c0e60aa\n",
      "  Installing build dependencies ... \u001b[?25ldone\n",
      "\u001b[?25h  Getting requirements to build wheel ... \u001b[?25ldone\n",
      "\u001b[?25h  Preparing metadata (pyproject.toml) ... \u001b[?25ldone\n",
      "\u001b[?25hCollecting en-core-web-trf@ https://github.com/explosion/spacy-models/releases/download/en_core_web_trf-3.5.0/en_core_web_trf-3.5.0.tar.gz\n",
      "  Using cached en_core_web_trf-3.5.0-py3-none-any.whl\n",
      "Collecting en-core-web-sm@ https://github.com/explosion/spacy-models/releases/download/en_core_web_sm-3.5.0/en_core_web_sm-3.5.0-py3-none-any.whl\n",
      "  Downloading https://github.com/explosion/spacy-models/releases/download/en_core_web_sm-3.5.0/en_core_web_sm-3.5.0-py3-none-any.whl (12.8 MB)\n",
      "\u001b[2K     \u001b[38;2;114;156;31m━━━━━━━━━━━━━━━━━━━━━━━━━━━━━━━━━━━━━━━━\u001b[0m \u001b[32m12.8/12.8 MB\u001b[0m \u001b[31m4.9 MB/s\u001b[0m eta \u001b[36m0:00:00\u001b[0mm eta \u001b[36m0:00:01\u001b[0m[36m0:00:01\u001b[0m\n",
      "\u001b[?25hCollecting cpr-data-access@ git+https://github.com/climatepolicyradar/data-access.git@34d38ac7264ce6651bd8990277e3c3da3450e3d1\n",
      "  Cloning https://github.com/climatepolicyradar/data-access.git (to revision 34d38ac7264ce6651bd8990277e3c3da3450e3d1) to /private/var/folders/nt/2c78pgv94312v7_mmz24h6kc0000gn/T/pip-install-59ssfbip/cpr-data-access_b94470ba62004b43891b19b8f9edd187\n",
      "  Running command git clone --filter=blob:none --quiet https://github.com/climatepolicyradar/data-access.git /private/var/folders/nt/2c78pgv94312v7_mmz24h6kc0000gn/T/pip-install-59ssfbip/cpr-data-access_b94470ba62004b43891b19b8f9edd187\n",
      "  Running command git rev-parse -q --verify 'sha^34d38ac7264ce6651bd8990277e3c3da3450e3d1'\n",
      "  Running command git fetch -q https://github.com/climatepolicyradar/data-access.git 34d38ac7264ce6651bd8990277e3c3da3450e3d1\n",
      "  Running command git checkout -q 34d38ac7264ce6651bd8990277e3c3da3450e3d1\n",
      "  Resolved https://github.com/climatepolicyradar/data-access.git to commit 34d38ac7264ce6651bd8990277e3c3da3450e3d1\n",
      "  Installing build dependencies ... \u001b[?25ldone\n",
      "\u001b[?25h  Getting requirements to build wheel ... \u001b[?25ldone\n",
      "\u001b[?25h  Preparing metadata (pyproject.toml) ... \u001b[?25ldone\n",
      "\u001b[?25hCollecting torch<1.13.0,>=1.12.1\n",
      "  Using cached torch-1.12.1-cp39-none-macosx_10_9_x86_64.whl (133.8 MB)\n",
      "Collecting cloudpathlib[s3]<0.13.0,>=0.12.1\n",
      "  Using cached cloudpathlib-0.12.1-py3-none-any.whl (45 kB)\n",
      "Requirement already satisfied: openpyxl<4.0.0,>=3.0.10 in /Users/kalyan/Library/Caches/pypoetry/virtualenvs/experiment-template-Q6O6vM4r-py3.9/lib/python3.9/site-packages (from explorer==0.1.0) (3.1.2)\n",
      "Requirement already satisfied: spacy<4.0.0,>=3.5.1 in /Users/kalyan/Library/Caches/pypoetry/virtualenvs/experiment-template-Q6O6vM4r-py3.9/lib/python3.9/site-packages (from explorer==0.1.0) (3.5.1)\n",
      "Requirement already satisfied: tqdm<5.0.0,>=4.64.1 in /Users/kalyan/Library/Caches/pypoetry/virtualenvs/experiment-template-Q6O6vM4r-py3.9/lib/python3.9/site-packages (from explorer==0.1.0) (4.65.0)\n",
      "Requirement already satisfied: click<9.0.0,>=8.1.3 in /Users/kalyan/Library/Caches/pypoetry/virtualenvs/experiment-template-Q6O6vM4r-py3.9/lib/python3.9/site-packages (from explorer==0.1.0) (8.1.3)\n",
      "Collecting protobuf<3.20.0,>=3.19.0\n",
      "  Using cached protobuf-3.19.6-cp39-cp39-macosx_10_9_x86_64.whl (980 kB)\n",
      "Requirement already satisfied: pandas<2.0.0,>=1.5.2 in /Users/kalyan/Library/Caches/pypoetry/virtualenvs/experiment-template-Q6O6vM4r-py3.9/lib/python3.9/site-packages (from explorer==0.1.0) (1.5.3)\n",
      "Collecting python-dotenv<0.21.0,>=0.20.0\n",
      "  Using cached python_dotenv-0.20.0-py3-none-any.whl (17 kB)\n",
      "Requirement already satisfied: sentence-transformers<3.0.0,>=2.2.2 in /Users/kalyan/Library/Caches/pypoetry/virtualenvs/experiment-template-Q6O6vM4r-py3.9/lib/python3.9/site-packages (from explorer==0.1.0) (2.2.2)\n",
      "Collecting awscli<2.0.0,>=1.27.50\n",
      "  Downloading awscli-1.27.147-py3-none-any.whl (4.1 MB)\n",
      "\u001b[2K     \u001b[38;2;114;156;31m━━━━━━━━━━━━━━━━━━━━━━━━━━━━━━━━━━━━━━━━\u001b[0m \u001b[32m4.1/4.1 MB\u001b[0m \u001b[31m6.0 MB/s\u001b[0m eta \u001b[36m0:00:00\u001b[0mm eta \u001b[36m0:00:01\u001b[0m[36m0:00:01\u001b[0m\n",
      "\u001b[?25hCollecting docutils<0.17,>=0.10\n",
      "  Using cached docutils-0.16-py2.py3-none-any.whl (548 kB)\n",
      "Collecting colorama<0.4.5,>=0.2.5\n",
      "  Using cached colorama-0.4.4-py2.py3-none-any.whl (16 kB)\n",
      "Collecting rsa<4.8,>=3.1.2\n",
      "  Using cached rsa-4.7.2-py3-none-any.whl (34 kB)\n",
      "Requirement already satisfied: s3transfer<0.7.0,>=0.6.0 in /Users/kalyan/Library/Caches/pypoetry/virtualenvs/experiment-template-Q6O6vM4r-py3.9/lib/python3.9/site-packages (from awscli<2.0.0,>=1.27.50->explorer==0.1.0) (0.6.0)\n",
      "Collecting botocore==1.29.147\n",
      "  Downloading botocore-1.29.147-py3-none-any.whl (10.8 MB)\n",
      "\u001b[2K     \u001b[38;2;114;156;31m━━━━━━━━━━━━━━━━━━━━━━━━━━━━━━━━━━━━━━━━\u001b[0m \u001b[32m10.8/10.8 MB\u001b[0m \u001b[31m5.7 MB/s\u001b[0m eta \u001b[36m0:00:00\u001b[0mm eta \u001b[36m0:00:01\u001b[0m[36m0:00:01\u001b[0m\n",
      "\u001b[?25hCollecting PyYAML<5.5,>=3.10\n",
      "  Using cached PyYAML-5.4.1-cp39-cp39-macosx_10_9_x86_64.whl (259 kB)\n",
      "Requirement already satisfied: python-dateutil<3.0.0,>=2.1 in /Users/kalyan/Library/Caches/pypoetry/virtualenvs/experiment-template-Q6O6vM4r-py3.9/lib/python3.9/site-packages (from botocore==1.29.147->awscli<2.0.0,>=1.27.50->explorer==0.1.0) (2.8.2)\n",
      "Requirement already satisfied: urllib3<1.27,>=1.25.4 in /Users/kalyan/Library/Caches/pypoetry/virtualenvs/experiment-template-Q6O6vM4r-py3.9/lib/python3.9/site-packages (from botocore==1.29.147->awscli<2.0.0,>=1.27.50->explorer==0.1.0) (1.26.14)\n",
      "Requirement already satisfied: jmespath<2.0.0,>=0.7.1 in /Users/kalyan/Library/Caches/pypoetry/virtualenvs/experiment-template-Q6O6vM4r-py3.9/lib/python3.9/site-packages (from botocore==1.29.147->awscli<2.0.0,>=1.27.50->explorer==0.1.0) (1.0.1)\n",
      "Requirement already satisfied: boto3 in /Users/kalyan/Library/Caches/pypoetry/virtualenvs/experiment-template-Q6O6vM4r-py3.9/lib/python3.9/site-packages (from cloudpathlib[s3]<0.13.0,>=0.12.1->explorer==0.1.0) (1.26.86)\n",
      "Requirement already satisfied: et-xmlfile in /Users/kalyan/Library/Caches/pypoetry/virtualenvs/experiment-template-Q6O6vM4r-py3.9/lib/python3.9/site-packages (from openpyxl<4.0.0,>=3.0.10->explorer==0.1.0) (1.1.0)\n",
      "Requirement already satisfied: numpy>=1.20.3 in /Users/kalyan/Library/Caches/pypoetry/virtualenvs/experiment-template-Q6O6vM4r-py3.9/lib/python3.9/site-packages (from pandas<2.0.0,>=1.5.2->explorer==0.1.0) (1.23.5)\n",
      "Requirement already satisfied: pytz>=2020.1 in /Users/kalyan/Library/Caches/pypoetry/virtualenvs/experiment-template-Q6O6vM4r-py3.9/lib/python3.9/site-packages (from pandas<2.0.0,>=1.5.2->explorer==0.1.0) (2022.7.1)\n",
      "Requirement already satisfied: torchvision in /Users/kalyan/Library/Caches/pypoetry/virtualenvs/experiment-template-Q6O6vM4r-py3.9/lib/python3.9/site-packages (from sentence-transformers<3.0.0,>=2.2.2->explorer==0.1.0) (0.14.1)\n",
      "Requirement already satisfied: sentencepiece in /Users/kalyan/Library/Caches/pypoetry/virtualenvs/experiment-template-Q6O6vM4r-py3.9/lib/python3.9/site-packages (from sentence-transformers<3.0.0,>=2.2.2->explorer==0.1.0) (0.1.97)\n",
      "Requirement already satisfied: scikit-learn in /Users/kalyan/Library/Caches/pypoetry/virtualenvs/experiment-template-Q6O6vM4r-py3.9/lib/python3.9/site-packages (from sentence-transformers<3.0.0,>=2.2.2->explorer==0.1.0) (1.2.1)\n",
      "Requirement already satisfied: huggingface-hub>=0.4.0 in /Users/kalyan/Library/Caches/pypoetry/virtualenvs/experiment-template-Q6O6vM4r-py3.9/lib/python3.9/site-packages (from sentence-transformers<3.0.0,>=2.2.2->explorer==0.1.0) (0.12.1)\n",
      "Requirement already satisfied: nltk in /Users/kalyan/Library/Caches/pypoetry/virtualenvs/experiment-template-Q6O6vM4r-py3.9/lib/python3.9/site-packages (from sentence-transformers<3.0.0,>=2.2.2->explorer==0.1.0) (3.8.1)\n",
      "Requirement already satisfied: transformers<5.0.0,>=4.6.0 in /Users/kalyan/Library/Caches/pypoetry/virtualenvs/experiment-template-Q6O6vM4r-py3.9/lib/python3.9/site-packages (from sentence-transformers<3.0.0,>=2.2.2->explorer==0.1.0) (4.26.1)\n",
      "Requirement already satisfied: scipy in /Users/kalyan/Library/Caches/pypoetry/virtualenvs/experiment-template-Q6O6vM4r-py3.9/lib/python3.9/site-packages (from sentence-transformers<3.0.0,>=2.2.2->explorer==0.1.0) (1.9.3)\n",
      "Requirement already satisfied: cymem<2.1.0,>=2.0.2 in /Users/kalyan/Library/Caches/pypoetry/virtualenvs/experiment-template-Q6O6vM4r-py3.9/lib/python3.9/site-packages (from spacy<4.0.0,>=3.5.1->explorer==0.1.0) (2.0.7)\n",
      "Requirement already satisfied: catalogue<2.1.0,>=2.0.6 in /Users/kalyan/Library/Caches/pypoetry/virtualenvs/experiment-template-Q6O6vM4r-py3.9/lib/python3.9/site-packages (from spacy<4.0.0,>=3.5.1->explorer==0.1.0) (2.0.8)\n",
      "Requirement already satisfied: requests<3.0.0,>=2.13.0 in /Users/kalyan/Library/Caches/pypoetry/virtualenvs/experiment-template-Q6O6vM4r-py3.9/lib/python3.9/site-packages (from spacy<4.0.0,>=3.5.1->explorer==0.1.0) (2.28.2)\n",
      "Requirement already satisfied: langcodes<4.0.0,>=3.2.0 in /Users/kalyan/Library/Caches/pypoetry/virtualenvs/experiment-template-Q6O6vM4r-py3.9/lib/python3.9/site-packages (from spacy<4.0.0,>=3.5.1->explorer==0.1.0) (3.3.0)\n",
      "Requirement already satisfied: preshed<3.1.0,>=3.0.2 in /Users/kalyan/Library/Caches/pypoetry/virtualenvs/experiment-template-Q6O6vM4r-py3.9/lib/python3.9/site-packages (from spacy<4.0.0,>=3.5.1->explorer==0.1.0) (3.0.8)\n",
      "Requirement already satisfied: wasabi<1.2.0,>=0.9.1 in /Users/kalyan/Library/Caches/pypoetry/virtualenvs/experiment-template-Q6O6vM4r-py3.9/lib/python3.9/site-packages (from spacy<4.0.0,>=3.5.1->explorer==0.1.0) (1.1.1)\n",
      "Requirement already satisfied: setuptools in /Users/kalyan/Library/Caches/pypoetry/virtualenvs/experiment-template-Q6O6vM4r-py3.9/lib/python3.9/site-packages (from spacy<4.0.0,>=3.5.1->explorer==0.1.0) (67.3.1)\n",
      "Requirement already satisfied: murmurhash<1.1.0,>=0.28.0 in /Users/kalyan/Library/Caches/pypoetry/virtualenvs/experiment-template-Q6O6vM4r-py3.9/lib/python3.9/site-packages (from spacy<4.0.0,>=3.5.1->explorer==0.1.0) (1.0.9)\n",
      "Requirement already satisfied: jinja2 in /Users/kalyan/Library/Caches/pypoetry/virtualenvs/experiment-template-Q6O6vM4r-py3.9/lib/python3.9/site-packages (from spacy<4.0.0,>=3.5.1->explorer==0.1.0) (3.1.2)\n",
      "Requirement already satisfied: smart-open<7.0.0,>=5.2.1 in /Users/kalyan/Library/Caches/pypoetry/virtualenvs/experiment-template-Q6O6vM4r-py3.9/lib/python3.9/site-packages (from spacy<4.0.0,>=3.5.1->explorer==0.1.0) (6.3.0)\n",
      "Requirement already satisfied: thinc<8.2.0,>=8.1.8 in /Users/kalyan/Library/Caches/pypoetry/virtualenvs/experiment-template-Q6O6vM4r-py3.9/lib/python3.9/site-packages (from spacy<4.0.0,>=3.5.1->explorer==0.1.0) (8.1.9)\n",
      "Requirement already satisfied: pydantic!=1.8,!=1.8.1,<1.11.0,>=1.7.4 in /Users/kalyan/Library/Caches/pypoetry/virtualenvs/experiment-template-Q6O6vM4r-py3.9/lib/python3.9/site-packages (from spacy<4.0.0,>=3.5.1->explorer==0.1.0) (1.10.5)\n",
      "Requirement already satisfied: spacy-legacy<3.1.0,>=3.0.11 in /Users/kalyan/Library/Caches/pypoetry/virtualenvs/experiment-template-Q6O6vM4r-py3.9/lib/python3.9/site-packages (from spacy<4.0.0,>=3.5.1->explorer==0.1.0) (3.0.12)\n",
      "Requirement already satisfied: spacy-loggers<2.0.0,>=1.0.0 in /Users/kalyan/Library/Caches/pypoetry/virtualenvs/experiment-template-Q6O6vM4r-py3.9/lib/python3.9/site-packages (from spacy<4.0.0,>=3.5.1->explorer==0.1.0) (1.0.4)\n",
      "Requirement already satisfied: packaging>=20.0 in /Users/kalyan/Library/Caches/pypoetry/virtualenvs/experiment-template-Q6O6vM4r-py3.9/lib/python3.9/site-packages (from spacy<4.0.0,>=3.5.1->explorer==0.1.0) (23.0)\n",
      "Requirement already satisfied: pathy>=0.10.0 in /Users/kalyan/Library/Caches/pypoetry/virtualenvs/experiment-template-Q6O6vM4r-py3.9/lib/python3.9/site-packages (from spacy<4.0.0,>=3.5.1->explorer==0.1.0) (0.10.1)\n",
      "Requirement already satisfied: srsly<3.0.0,>=2.4.3 in /Users/kalyan/Library/Caches/pypoetry/virtualenvs/experiment-template-Q6O6vM4r-py3.9/lib/python3.9/site-packages (from spacy<4.0.0,>=3.5.1->explorer==0.1.0) (2.4.6)\n",
      "Requirement already satisfied: typer<0.8.0,>=0.3.0 in /Users/kalyan/Library/Caches/pypoetry/virtualenvs/experiment-template-Q6O6vM4r-py3.9/lib/python3.9/site-packages (from spacy<4.0.0,>=3.5.1->explorer==0.1.0) (0.7.0)\n",
      "Requirement already satisfied: typing-extensions in /Users/kalyan/Library/Caches/pypoetry/virtualenvs/experiment-template-Q6O6vM4r-py3.9/lib/python3.9/site-packages (from torch<1.13.0,>=1.12.1->explorer==0.1.0) (4.4.0)\n",
      "Requirement already satisfied: datasets<3.0.0,>=2.10.1 in /Users/kalyan/Library/Caches/pypoetry/virtualenvs/experiment-template-Q6O6vM4r-py3.9/lib/python3.9/site-packages (from cpr-data-access@ git+https://github.com/climatepolicyradar/data-access.git@34d38ac7264ce6651bd8990277e3c3da3450e3d1->explorer==0.1.0) (2.10.1)\n",
      "Requirement already satisfied: aws-error-utils<3.0.0,>=2.7.0 in /Users/kalyan/Library/Caches/pypoetry/virtualenvs/experiment-template-Q6O6vM4r-py3.9/lib/python3.9/site-packages (from cpr-data-access@ git+https://github.com/climatepolicyradar/data-access.git@34d38ac7264ce6651bd8990277e3c3da3450e3d1->explorer==0.1.0) (2.7.0)\n",
      "Collecting spacy-transformers<1.3.0,>=1.2.0.dev0\n",
      "  Downloading spacy_transformers-1.2.4-cp39-cp39-macosx_10_9_x86_64.whl (181 kB)\n",
      "\u001b[2K     \u001b[38;2;114;156;31m━━━━━━━━━━━━━━━━━━━━━━━━━━━━━━━━━━━━━━━\u001b[0m \u001b[32m181.8/181.8 kB\u001b[0m \u001b[31m4.6 MB/s\u001b[0m eta \u001b[36m0:00:00\u001b[0m MB/s\u001b[0m eta \u001b[36m0:00:01\u001b[0m\n",
      "\u001b[?25hRequirement already satisfied: xxhash in /Users/kalyan/Library/Caches/pypoetry/virtualenvs/experiment-template-Q6O6vM4r-py3.9/lib/python3.9/site-packages (from datasets<3.0.0,>=2.10.1->cpr-data-access@ git+https://github.com/climatepolicyradar/data-access.git@34d38ac7264ce6651bd8990277e3c3da3450e3d1->explorer==0.1.0) (3.2.0)\n",
      "Requirement already satisfied: aiohttp in /Users/kalyan/Library/Caches/pypoetry/virtualenvs/experiment-template-Q6O6vM4r-py3.9/lib/python3.9/site-packages (from datasets<3.0.0,>=2.10.1->cpr-data-access@ git+https://github.com/climatepolicyradar/data-access.git@34d38ac7264ce6651bd8990277e3c3da3450e3d1->explorer==0.1.0) (3.8.4)\n",
      "Requirement already satisfied: pyarrow>=6.0.0 in /Users/kalyan/Library/Caches/pypoetry/virtualenvs/experiment-template-Q6O6vM4r-py3.9/lib/python3.9/site-packages (from datasets<3.0.0,>=2.10.1->cpr-data-access@ git+https://github.com/climatepolicyradar/data-access.git@34d38ac7264ce6651bd8990277e3c3da3450e3d1->explorer==0.1.0) (11.0.0)\n",
      "Requirement already satisfied: responses<0.19 in /Users/kalyan/Library/Caches/pypoetry/virtualenvs/experiment-template-Q6O6vM4r-py3.9/lib/python3.9/site-packages (from datasets<3.0.0,>=2.10.1->cpr-data-access@ git+https://github.com/climatepolicyradar/data-access.git@34d38ac7264ce6651bd8990277e3c3da3450e3d1->explorer==0.1.0) (0.18.0)\n",
      "Requirement already satisfied: fsspec[http]>=2021.11.1 in /Users/kalyan/Library/Caches/pypoetry/virtualenvs/experiment-template-Q6O6vM4r-py3.9/lib/python3.9/site-packages (from datasets<3.0.0,>=2.10.1->cpr-data-access@ git+https://github.com/climatepolicyradar/data-access.git@34d38ac7264ce6651bd8990277e3c3da3450e3d1->explorer==0.1.0) (2023.3.0)\n",
      "Requirement already satisfied: dill<0.3.7,>=0.3.0 in /Users/kalyan/Library/Caches/pypoetry/virtualenvs/experiment-template-Q6O6vM4r-py3.9/lib/python3.9/site-packages (from datasets<3.0.0,>=2.10.1->cpr-data-access@ git+https://github.com/climatepolicyradar/data-access.git@34d38ac7264ce6651bd8990277e3c3da3450e3d1->explorer==0.1.0) (0.3.6)\n",
      "Requirement already satisfied: multiprocess in /Users/kalyan/Library/Caches/pypoetry/virtualenvs/experiment-template-Q6O6vM4r-py3.9/lib/python3.9/site-packages (from datasets<3.0.0,>=2.10.1->cpr-data-access@ git+https://github.com/climatepolicyradar/data-access.git@34d38ac7264ce6651bd8990277e3c3da3450e3d1->explorer==0.1.0) (0.70.14)\n",
      "Requirement already satisfied: filelock in /Users/kalyan/Library/Caches/pypoetry/virtualenvs/experiment-template-Q6O6vM4r-py3.9/lib/python3.9/site-packages (from huggingface-hub>=0.4.0->sentence-transformers<3.0.0,>=2.2.2->explorer==0.1.0) (3.9.0)\n",
      "Requirement already satisfied: six>=1.5 in /Users/kalyan/Library/Caches/pypoetry/virtualenvs/experiment-template-Q6O6vM4r-py3.9/lib/python3.9/site-packages (from python-dateutil<3.0.0,>=2.1->botocore==1.29.147->awscli<2.0.0,>=1.27.50->explorer==0.1.0) (1.16.0)\n",
      "Requirement already satisfied: idna<4,>=2.5 in /Users/kalyan/Library/Caches/pypoetry/virtualenvs/experiment-template-Q6O6vM4r-py3.9/lib/python3.9/site-packages (from requests<3.0.0,>=2.13.0->spacy<4.0.0,>=3.5.1->explorer==0.1.0) (3.4)\n",
      "Requirement already satisfied: certifi>=2017.4.17 in /Users/kalyan/Library/Caches/pypoetry/virtualenvs/experiment-template-Q6O6vM4r-py3.9/lib/python3.9/site-packages (from requests<3.0.0,>=2.13.0->spacy<4.0.0,>=3.5.1->explorer==0.1.0) (2022.12.7)\n",
      "Requirement already satisfied: charset-normalizer<4,>=2 in /Users/kalyan/Library/Caches/pypoetry/virtualenvs/experiment-template-Q6O6vM4r-py3.9/lib/python3.9/site-packages (from requests<3.0.0,>=2.13.0->spacy<4.0.0,>=3.5.1->explorer==0.1.0) (3.1.0)\n",
      "Requirement already satisfied: pyasn1>=0.1.3 in /Users/kalyan/Library/Caches/pypoetry/virtualenvs/experiment-template-Q6O6vM4r-py3.9/lib/python3.9/site-packages (from rsa<4.8,>=3.1.2->awscli<2.0.0,>=1.27.50->explorer==0.1.0) (0.4.8)\n",
      "Collecting spacy-alignments<1.0.0,>=0.7.2\n",
      "  Using cached spacy_alignments-0.9.0-cp39-cp39-macosx_10_9_x86_64.whl (319 kB)\n",
      "Requirement already satisfied: confection<1.0.0,>=0.0.1 in /Users/kalyan/Library/Caches/pypoetry/virtualenvs/experiment-template-Q6O6vM4r-py3.9/lib/python3.9/site-packages (from thinc<8.2.0,>=8.1.8->spacy<4.0.0,>=3.5.1->explorer==0.1.0) (0.0.4)\n",
      "Requirement already satisfied: blis<0.8.0,>=0.7.8 in /Users/kalyan/Library/Caches/pypoetry/virtualenvs/experiment-template-Q6O6vM4r-py3.9/lib/python3.9/site-packages (from thinc<8.2.0,>=8.1.8->spacy<4.0.0,>=3.5.1->explorer==0.1.0) (0.7.9)\n",
      "Requirement already satisfied: tokenizers!=0.11.3,<0.14,>=0.11.1 in /Users/kalyan/Library/Caches/pypoetry/virtualenvs/experiment-template-Q6O6vM4r-py3.9/lib/python3.9/site-packages (from transformers<5.0.0,>=4.6.0->sentence-transformers<3.0.0,>=2.2.2->explorer==0.1.0) (0.13.2)\n",
      "Requirement already satisfied: regex!=2019.12.17 in /Users/kalyan/Library/Caches/pypoetry/virtualenvs/experiment-template-Q6O6vM4r-py3.9/lib/python3.9/site-packages (from transformers<5.0.0,>=4.6.0->sentence-transformers<3.0.0,>=2.2.2->explorer==0.1.0) (2022.10.31)\n",
      "Requirement already satisfied: MarkupSafe>=2.0 in /Users/kalyan/Library/Caches/pypoetry/virtualenvs/experiment-template-Q6O6vM4r-py3.9/lib/python3.9/site-packages (from jinja2->spacy<4.0.0,>=3.5.1->explorer==0.1.0) (2.1.2)\n",
      "Requirement already satisfied: joblib in /Users/kalyan/Library/Caches/pypoetry/virtualenvs/experiment-template-Q6O6vM4r-py3.9/lib/python3.9/site-packages (from nltk->sentence-transformers<3.0.0,>=2.2.2->explorer==0.1.0) (1.2.0)\n",
      "Requirement already satisfied: threadpoolctl>=2.0.0 in /Users/kalyan/Library/Caches/pypoetry/virtualenvs/experiment-template-Q6O6vM4r-py3.9/lib/python3.9/site-packages (from scikit-learn->sentence-transformers<3.0.0,>=2.2.2->explorer==0.1.0) (3.1.0)\n",
      "Collecting torchvision\n",
      "  Downloading torchvision-0.15.2-cp39-cp39-macosx_10_9_x86_64.whl (1.5 MB)\n",
      "\u001b[2K     \u001b[38;2;114;156;31m━━━━━━━━━━━━━━━━━━━━━━━━━━━━━━━━━━━━━━━━\u001b[0m \u001b[32m1.5/1.5 MB\u001b[0m \u001b[31m6.5 MB/s\u001b[0m eta \u001b[36m0:00:00\u001b[0mm eta \u001b[36m0:00:01\u001b[0m0:01\u001b[0m:01\u001b[0m\n",
      "\u001b[?25h  Using cached torchvision-0.15.1-cp39-cp39-macosx_10_9_x86_64.whl (1.5 MB)\n",
      "Requirement already satisfied: pillow!=8.3.*,>=5.3.0 in /Users/kalyan/Library/Caches/pypoetry/virtualenvs/experiment-template-Q6O6vM4r-py3.9/lib/python3.9/site-packages (from torchvision->sentence-transformers<3.0.0,>=2.2.2->explorer==0.1.0) (9.4.0)\n",
      "  Using cached torchvision-0.14.0-cp39-cp39-macosx_10_9_x86_64.whl (1.4 MB)\n",
      "  Using cached torchvision-0.13.1-cp39-cp39-macosx_10_9_x86_64.whl (1.3 MB)\n",
      "Requirement already satisfied: async-timeout<5.0,>=4.0.0a3 in /Users/kalyan/Library/Caches/pypoetry/virtualenvs/experiment-template-Q6O6vM4r-py3.9/lib/python3.9/site-packages (from aiohttp->datasets<3.0.0,>=2.10.1->cpr-data-access@ git+https://github.com/climatepolicyradar/data-access.git@34d38ac7264ce6651bd8990277e3c3da3450e3d1->explorer==0.1.0) (4.0.2)\n",
      "Requirement already satisfied: attrs>=17.3.0 in /Users/kalyan/Library/Caches/pypoetry/virtualenvs/experiment-template-Q6O6vM4r-py3.9/lib/python3.9/site-packages (from aiohttp->datasets<3.0.0,>=2.10.1->cpr-data-access@ git+https://github.com/climatepolicyradar/data-access.git@34d38ac7264ce6651bd8990277e3c3da3450e3d1->explorer==0.1.0) (22.2.0)\n",
      "Requirement already satisfied: aiosignal>=1.1.2 in /Users/kalyan/Library/Caches/pypoetry/virtualenvs/experiment-template-Q6O6vM4r-py3.9/lib/python3.9/site-packages (from aiohttp->datasets<3.0.0,>=2.10.1->cpr-data-access@ git+https://github.com/climatepolicyradar/data-access.git@34d38ac7264ce6651bd8990277e3c3da3450e3d1->explorer==0.1.0) (1.3.1)\n",
      "Requirement already satisfied: yarl<2.0,>=1.0 in /Users/kalyan/Library/Caches/pypoetry/virtualenvs/experiment-template-Q6O6vM4r-py3.9/lib/python3.9/site-packages (from aiohttp->datasets<3.0.0,>=2.10.1->cpr-data-access@ git+https://github.com/climatepolicyradar/data-access.git@34d38ac7264ce6651bd8990277e3c3da3450e3d1->explorer==0.1.0) (1.8.2)\n",
      "Requirement already satisfied: frozenlist>=1.1.1 in /Users/kalyan/Library/Caches/pypoetry/virtualenvs/experiment-template-Q6O6vM4r-py3.9/lib/python3.9/site-packages (from aiohttp->datasets<3.0.0,>=2.10.1->cpr-data-access@ git+https://github.com/climatepolicyradar/data-access.git@34d38ac7264ce6651bd8990277e3c3da3450e3d1->explorer==0.1.0) (1.3.3)\n",
      "Requirement already satisfied: multidict<7.0,>=4.5 in /Users/kalyan/Library/Caches/pypoetry/virtualenvs/experiment-template-Q6O6vM4r-py3.9/lib/python3.9/site-packages (from aiohttp->datasets<3.0.0,>=2.10.1->cpr-data-access@ git+https://github.com/climatepolicyradar/data-access.git@34d38ac7264ce6651bd8990277e3c3da3450e3d1->explorer==0.1.0) (6.0.4)\n",
      "Building wheels for collected packages: explorer, cpr-data-access\n",
      "  Building wheel for explorer (pyproject.toml) ... \u001b[?25ldone\n",
      "\u001b[?25h  Created wheel for explorer: filename=explorer-0.1.0-py3-none-any.whl size=14434 sha256=c0932dccd3afd3768701e9dca06ded2aab156962e8b811ff27618e7d32b8d1bc\n",
      "  Stored in directory: /private/var/folders/nt/2c78pgv94312v7_mmz24h6kc0000gn/T/pip-ephem-wheel-cache-8ivz0tl0/wheels/94/39/1f/a94d9422b1ee6a37f2603e4c8fd38fc5ff1d24fa667513da9f\n",
      "  Building wheel for cpr-data-access (pyproject.toml) ... \u001b[?25ldone\n",
      "\u001b[?25h  Created wheel for cpr-data-access: filename=cpr_data_access-0.1.0-py3-none-any.whl size=13312 sha256=1153e2f9be177e6157dcebd04f74e430a8762e3700684f26041f17204132531f\n",
      "  Stored in directory: /Users/kalyan/Library/Caches/pip/wheels/59/3a/f6/1dd7e10c257364cca9cd38f2154c552ee8e1923b560054e6fa\n",
      "Successfully built explorer cpr-data-access\n",
      "Installing collected packages: torch, spacy-alignments, rsa, PyYAML, python-dotenv, protobuf, docutils, colorama, cloudpathlib, torchvision, botocore, awscli, spacy-transformers, cpr-data-access, en-core-web-trf, explorer\n",
      "  Attempting uninstall: torch\n",
      "    Found existing installation: torch 1.13.1\n",
      "    Uninstalling torch-1.13.1:\n",
      "      Successfully uninstalled torch-1.13.1\n",
      "  Attempting uninstall: PyYAML\n",
      "    Found existing installation: PyYAML 6.0\n",
      "    Uninstalling PyYAML-6.0:\n",
      "      Successfully uninstalled PyYAML-6.0\n",
      "  Attempting uninstall: python-dotenv\n",
      "    Found existing installation: python-dotenv 0.19.2\n",
      "    Uninstalling python-dotenv-0.19.2:\n",
      "      Successfully uninstalled python-dotenv-0.19.2\n",
      "  Attempting uninstall: torchvision\n",
      "    Found existing installation: torchvision 0.14.1\n",
      "    Uninstalling torchvision-0.14.1:\n",
      "      Successfully uninstalled torchvision-0.14.1\n",
      "  Attempting uninstall: botocore\n",
      "    Found existing installation: botocore 1.29.86\n",
      "    Uninstalling botocore-1.29.86:\n",
      "      Successfully uninstalled botocore-1.29.86\n",
      "  Attempting uninstall: cpr-data-access\n",
      "    Found existing installation: cpr-data-access 0.1.0\n",
      "    Uninstalling cpr-data-access-0.1.0:\n",
      "      Successfully uninstalled cpr-data-access-0.1.0\n",
      "Successfully installed PyYAML-5.4.1 awscli-1.27.147 botocore-1.29.147 cloudpathlib-0.12.1 colorama-0.4.4 cpr-data-access-0.1.0 docutils-0.16 en-core-web-trf-3.5.0 explorer-0.1.0 protobuf-3.19.6 python-dotenv-0.20.0 rsa-4.7.2 spacy-alignments-0.9.0 spacy-transformers-1.2.4 torch-1.12.1 torchvision-0.13.1\n",
      "\n",
      "\u001b[1m[\u001b[0m\u001b[34;49mnotice\u001b[0m\u001b[1;39;49m]\u001b[0m\u001b[39;49m A new release of pip is available: \u001b[0m\u001b[31;49m23.0\u001b[0m\u001b[39;49m -> \u001b[0m\u001b[32;49m23.1.2\u001b[0m\n",
      "\u001b[1m[\u001b[0m\u001b[34;49mnotice\u001b[0m\u001b[1;39;49m]\u001b[0m\u001b[39;49m To update, run: \u001b[0m\u001b[32;49mpython -m pip install --upgrade pip\u001b[0m\n"
     ]
    }
   ],
   "source": [
    "import sys\n",
    "\n",
    "!{sys.executable} -m pip install git+https://github.com/climatepolicyradar/explorer@4c67a26f8f4ee861a38ecbb877b9723c6c0e60aa"
   ]
  },
  {
   "cell_type": "code",
   "execution_count": 27,
   "id": "7af8adf4-8989-47f4-b650-b20d9c3c63f7",
   "metadata": {},
   "outputs": [],
   "source": [
    "from pathlib import Path\n",
    "import itertools\n",
    "from collections import defaultdict\n",
    "import json\n",
    "\n",
    "from tqdm.auto import tqdm\n",
    "import spacy\n",
    "\n",
    "from explorer.main import load_input_spreadsheet"
   ]
  },
  {
   "cell_type": "code",
   "execution_count": 2,
   "id": "f8c6742d-19e2-4c4f-9ecd-cae278264536",
   "metadata": {},
   "outputs": [],
   "source": [
    "nlp = spacy.load(\"en_core_web_sm\")"
   ]
  },
  {
   "cell_type": "code",
   "execution_count": 3,
   "id": "a4c9044f-05f1-4eb9-9ae2-edc3898d7097",
   "metadata": {},
   "outputs": [],
   "source": [
    "spreadsheet_dir = Path(\"../../../concepts/\")"
   ]
  },
  {
   "cell_type": "code",
   "execution_count": 4,
   "id": "a7bfe9ee-1e5e-4a23-811a-ca01f226dc06",
   "metadata": {},
   "outputs": [
    {
     "data": {
      "application/vnd.jupyter.widget-view+json": {
       "model_id": "06fed9bb14ba4dbaa4818edd80c3b51e",
       "version_major": 2,
       "version_minor": 0
      },
      "text/plain": [
       "  0%|          | 0/23 [00:00<?, ?it/s]"
      ]
     },
     "metadata": {},
     "output_type": "display_data"
    },
    {
     "name": "stdout",
     "output_type": "stream",
     "text": [
      "Skipping ../../../concepts/sectors as it doesn't contain a recognisable input.xlsx file\n"
     ]
    },
    {
     "name": "stderr",
     "output_type": "stream",
     "text": [
      "/Users/kalyan/Library/Caches/pypoetry/virtualenvs/experiment-template-Q6O6vM4r-py3.9/lib/python3.9/site-packages/openpyxl/worksheet/_reader.py:329: UserWarning: Data Validation extension is not supported and will be removed\n",
      "  warn(msg)\n"
     ]
    },
    {
     "name": "stdout",
     "output_type": "stream",
     "text": [
      "Skipping ../../../concepts/policy-instruments as it doesn't contain a recognisable input.xlsx file\n"
     ]
    },
    {
     "name": "stderr",
     "output_type": "stream",
     "text": [
      "/Users/kalyan/Library/Caches/pypoetry/virtualenvs/experiment-template-Q6O6vM4r-py3.9/lib/python3.9/site-packages/openpyxl/worksheet/_reader.py:329: UserWarning: Data Validation extension is not supported and will be removed\n",
      "  warn(msg)\n",
      "/Users/kalyan/Library/Caches/pypoetry/virtualenvs/experiment-template-Q6O6vM4r-py3.9/lib/python3.9/site-packages/openpyxl/worksheet/_reader.py:329: UserWarning: Data Validation extension is not supported and will be removed\n",
      "  warn(msg)\n",
      "/Users/kalyan/Library/Caches/pypoetry/virtualenvs/experiment-template-Q6O6vM4r-py3.9/lib/python3.9/site-packages/openpyxl/worksheet/_reader.py:329: UserWarning: Data Validation extension is not supported and will be removed\n",
      "  warn(msg)\n"
     ]
    },
    {
     "data": {
      "text/plain": [
       "dict_keys(['loss-and-damage', 'deforestation', 'equity-and-just-transition', 'technologies-br-adaptation-br', 'barriers-and-challenges', 'response-measures', 'international-cooperation', 'greenhouse-gases', 'technologies-br-mitigation-br', 'climate-related-hazards', 'good-practice-and-opportunities', 'adaptation', 'mitigation', 'capacity-building', 'financial-flows', 'renewables', 'fossil-fuels', 'vulnerable-groups'])"
      ]
     },
     "execution_count": 4,
     "metadata": {},
     "output_type": "execute_result"
    }
   ],
   "source": [
    "patterns_by_concept = dict()\n",
    "\n",
    "for concept_dir in tqdm(list(spreadsheet_dir.iterdir())):\n",
    "    if not concept_dir.is_dir():\n",
    "        continue\n",
    "\n",
    "    if not (concept_dir / \"input.xlsx\").exists():\n",
    "        print(\n",
    "            f\"Skipping {concept_dir} as it doesn't contain a recognisable input.xlsx file\"\n",
    "        )\n",
    "        continue\n",
    "\n",
    "    patterns, _, _ = load_input_spreadsheet(concept_dir / \"input.xlsx\")\n",
    "\n",
    "    patterns_by_concept[concept_dir.stem] = sorted(\n",
    "        patterns, key=lambda i: i.get(\"id\", \"\")\n",
    "    )\n",
    "\n",
    "patterns_by_concept.keys()"
   ]
  },
  {
   "cell_type": "code",
   "execution_count": 33,
   "id": "d1383f79-0cc4-45aa-b154-0a0d03ac7eff",
   "metadata": {},
   "outputs": [
    {
     "name": "stdout",
     "output_type": "stream",
     "text": [
      "Biodiversity loss\n",
      " - biodiversity,species destruction\n",
      " - biodiversity,species extinction\n",
      " - biodiversity,species damage\n",
      " - biodiversity,species loss\n",
      " - extinction of biodiversity,species\n",
      " - extinction to biodiversity,species\n",
      " - damage of biodiversity,species\n",
      " - damage to biodiversity,species\n",
      " - loss of biodiversity,species\n",
      " - loss to biodiversity,species\n",
      " - biological diversity destruction\n",
      " - biological diversity damage\n",
      " - biological diversity loss\n",
      " - destruction of biological diversity\n",
      " - destruction to biological diversity\n",
      " - damage of biological diversity\n",
      " - damage to biological diversity\n",
      " - loss of biological diversity\n",
      " - loss to biological diversity\n",
      "\n",
      "Bridge failure\n",
      " - bridge collapse\n",
      " - bridge failure\n",
      " - collapse of bridge\n",
      " - failure of bridge\n",
      "\n",
      "Brush fires\n",
      " - brushfire\n",
      " - brush fire\n",
      "\n",
      "Building collapse\n",
      " - structural collapse\n",
      " - structural failure\n",
      " - building collapse\n",
      " - building failure\n",
      " - collapse of building\n",
      "\n",
      "Bushfires\n",
      " - bushfire\n",
      " - bush fire\n",
      "\n"
     ]
    }
   ],
   "source": [
    "concept_name = \"climate-related-hazards\"\n",
    "\n",
    "\n",
    "def get_synonym_set(concept_name: str) -> dict[str, list[tuple]]:\n",
    "    \"\"\"\n",
    "    Get a synonym set given a concept name by loading the spacy ruleset and turning rules into phrases.\n",
    "\n",
    "    Synonyms are defined by expanding the LEMMA_IN property or looking for multiple rows with the same span ID.\n",
    "\n",
    "    Returns dictionary of {span_id: [(\"synonym\", \"one\"), (\"synonym\", \"two\")]}. Values are already tokenised according to Explorer input.\n",
    "    \"\"\"\n",
    "\n",
    "    synonyms = defaultdict(list)\n",
    "\n",
    "    for span_id, rules in itertools.groupby(\n",
    "        patterns_by_concept[concept_name], lambda i: i.get(\"id\", \"\")\n",
    "    ):\n",
    "        rule_list = list(rules)\n",
    "\n",
    "        if len(rule_list) > 1:\n",
    "            patterns = [p[\"pattern\"] for p in rule_list]\n",
    "\n",
    "            for pattern in patterns:\n",
    "                tokens = []\n",
    "\n",
    "                for token in pattern:\n",
    "                    token_val = list(token.values())[0]\n",
    "\n",
    "                    if isinstance(token_val, str):\n",
    "                        tokens.append([token_val])\n",
    "                    elif isinstance(token_val, dict):\n",
    "                        token_vals_list = list(token_val.values())[0]\n",
    "                        tokens.append(list(set([i.lower() for i in token_vals_list])))\n",
    "\n",
    "                    else:\n",
    "                        print(f\"could not process: {token}\")\n",
    "\n",
    "                synonyms[span_id] += list(itertools.product(*tokens))\n",
    "\n",
    "    return synonyms\n",
    "\n",
    "\n",
    "synonyms = get_synonym_set(concept_name)\n",
    "\n",
    "# print example list of synonyms\n",
    "for idx, (span_id, syn_set) in enumerate(synonyms.items()):\n",
    "    if idx > 4:\n",
    "        break\n",
    "\n",
    "    print(span_id)\n",
    "    for syn in syn_set:\n",
    "        print(\" - \" + \" \".join(syn))\n",
    "    print()"
   ]
  },
  {
   "cell_type": "code",
   "execution_count": 32,
   "id": "975cd2ce-7f74-42e1-a343-e84b6fa23d4e",
   "metadata": {},
   "outputs": [
    {
     "name": "stdout",
     "output_type": "stream",
     "text": [
      "Skipping barriers-and-challenges as no synonyms found\n",
      "Skipping response-measures as no synonyms found\n",
      "Skipping good-practice-and-opportunities as no synonyms found\n",
      "Skipping adaptation as no synonyms found\n",
      "Skipping mitigation as no synonyms found\n",
      "Skipping financial-flows as no synonyms found\n"
     ]
    }
   ],
   "source": [
    "export_dir = Path(\"./synonyms/\")\n",
    "\n",
    "for concept_name in patterns_by_concept:\n",
    "    synonyms = get_synonym_set(concept_name)\n",
    "\n",
    "    if len(synonyms) == 0:\n",
    "        print(f\"Skipping {concept_name} as no synonyms found\")\n",
    "        continue\n",
    "\n",
    "    (export_dir / f\"{concept_name}.json\").write_text(json.dumps(synonyms, indent=4))"
   ]
  },
  {
   "cell_type": "code",
   "execution_count": null,
   "id": "43657ad9-5153-4cdc-8295-44f86e3da687",
   "metadata": {},
   "outputs": [],
   "source": []
  }
 ],
 "metadata": {
  "kernelspec": {
   "display_name": "Python 3 (ipykernel)",
   "language": "python",
   "name": "python3"
  },
  "language_info": {
   "codemirror_mode": {
    "name": "ipython",
    "version": 3
   },
   "file_extension": ".py",
   "mimetype": "text/x-python",
   "name": "python",
   "nbconvert_exporter": "python",
   "pygments_lexer": "ipython3",
   "version": "3.9.10"
  }
 },
 "nbformat": 4,
 "nbformat_minor": 5
}
