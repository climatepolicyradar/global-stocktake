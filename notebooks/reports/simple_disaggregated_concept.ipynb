{
 "cells": [
  {
   "cell_type": "code",
   "execution_count": 3,
   "metadata": {
    "pycharm": {
     "name": "#%%\n"
    }
   },
   "outputs": [
    {
     "name": "stdout",
     "output_type": "stream",
     "text": [
      "The autoreload extension is already loaded. To reload it, use:\n",
      "  %reload_ext autoreload\n"
     ]
    }
   ],
   "source": [
    "# auto reload modules\n",
    "%load_ext autoreload\n",
    "%autoreload 2"
   ]
  },
  {
   "cell_type": "code",
   "execution_count": null,
   "outputs": [],
   "source": [
    "import os\n",
    "from dotenv import load_dotenv\n",
    "\n",
    "load_dotenv()\n",
    "import re\n",
    "from datetime import datetime\n",
    "from pathlib import Path\n",
    "\n",
    "\n",
    "import geopandas as gpd\n",
    "import numpy as np\n",
    "import pandas as pd\n",
    "import pycountry\n",
    "from IPython.core.display_functions import display\n",
    "from IPython.display import Markdown\n",
    "from wbgapi import economy\n",
    "from wordcloud import STOPWORDS\n",
    "import altair as alt\n",
    "\n",
    "from utils import (\n",
    "    create_stacked_chart,\n",
    "    create_choropleth_map,\n",
    "    plot_ngrams,\n",
    "    plot_submission_type_frequencies,\n",
    "    create_geodataframe,\n",
    "    preprocess_concept_df,\n",
    "    process_spans,\n",
    "    create_geodataframe_disaggregated,\n",
    ")"
   ],
   "metadata": {
    "collapsed": false,
    "pycharm": {
     "name": "#%%\n"
    }
   }
  },
  {
   "cell_type": "code",
   "execution_count": null,
   "outputs": [],
   "source": [
    "import warnings\n",
    "\n",
    "warnings.filterwarnings(\"ignore\")"
   ],
   "metadata": {
    "collapsed": false,
    "pycharm": {
     "name": "#%%\n"
    }
   }
  },
  {
   "cell_type": "code",
   "execution_count": null,
   "outputs": [],
   "source": [
    "concept = \"renewables\"\n",
    "date_of_nb = datetime.now().strftime(\"%d-%m-%Y\")\n",
    "formatted_concept = concept.replace(\"-\", \" \").title()"
   ],
   "metadata": {
    "collapsed": false,
    "pycharm": {
     "name": "#%%\n"
    }
   }
  },
  {
   "cell_type": "code",
   "execution_count": null,
   "outputs": [],
   "source": [
    "display(Markdown(f\"# GST Report on {formatted_concept}\"))\n",
    "display(Markdown(\"## Summary\"))\n",
    "display(\n",
    "    Markdown(\n",
    "        f\"This report contains summary statistics and visualisations for all identified mentions of {formatted_concept} across UNFCCC input documents, as of {date_of_nb}. Highlights from this report: Loss and Damage in UNFCCC input documents appear most frequently alongside mentions of X (context), in document type X and by Party members, particularly those located in the X region.\"\n",
    "    )\n",
    ")\n",
    "display(\n",
    "    Markdown(\n",
    "        \"[Link to Methodology](https://www.notion.so/climatepolicyradar/Concept-tracker-internal-a879dfc5c2fd49159838af86cd5e8955)\"\n",
    "    )\n",
    ")\n",
    "display(\n",
    "    Markdown(\n",
    "        \"[Link to Linguistic input file](https://github.com/climatepolicyradar/global-stocktake/tree/main/concepts/fossil-fuels/input.xlsx)\"\n",
    "    )\n",
    ")"
   ],
   "metadata": {
    "collapsed": false,
    "pycharm": {
     "name": "#%%\n"
    }
   }
  },
  {
   "cell_type": "code",
   "execution_count": null,
   "outputs": [],
   "source": [
    "# set the display options to allow resizing columns\n",
    "pd.set_option(\"display.max_colwidth\", None)\n",
    "pd.set_option(\"display.max_columns\", None)\n",
    "pd.set_option(\"display.width\", None)"
   ],
   "metadata": {
    "collapsed": false,
    "pycharm": {
     "name": "#%%\n"
    }
   }
  },
  {
   "cell_type": "code",
   "execution_count": null,
   "outputs": [],
   "source": [
    "concepts_path = Path().absolute().parent / \"concepts\""
   ],
   "metadata": {
    "collapsed": false,
    "pycharm": {
     "name": "#%%\n"
    }
   }
  },
  {
   "cell_type": "code",
   "execution_count": null,
   "outputs": [],
   "source": [
    "date_of_nb = datetime.now().strftime(\"%d-%m-%Y\")\n",
    "df_concepts = pd.read_excel(concepts_path / concept / \"output_with_metadata.xlsx\")\n",
    "df_spans = pd.read_csv(concepts_path / concept / \"spans.csv\")\n",
    "date_of_nb = datetime.today().strftime(\"%d-%m-%Y\")\n",
    "df_input = pd.read_excel(concepts_path / concept / \"input.xlsx\")"
   ],
   "metadata": {
    "collapsed": false,
    "pycharm": {
     "name": "#%%\n"
    }
   }
  },
  {
   "cell_type": "code",
   "execution_count": null,
   "outputs": [],
   "source": [
    "scraper_csv_path = os.getenv(\"SCRAPER_CSV_PATH\", \"scraper_csv\")"
   ],
   "metadata": {
    "collapsed": false,
    "pycharm": {
     "name": "#%%\n"
    }
   }
  },
  {
   "cell_type": "code",
   "execution_count": null,
   "outputs": [],
   "source": [
    "df_eco = pd.DataFrame(economy.list())\n",
    "df_worldbank = gpd.read_file(gpd.datasets.get_path(\"naturalearth_lowres\"))"
   ],
   "metadata": {
    "collapsed": false,
    "pycharm": {
     "name": "#%%\n"
    }
   }
  },
  {
   "cell_type": "code",
   "execution_count": null,
   "outputs": [],
   "source": [
    "df_concepts_processed = preprocess_concept_df(df_concepts, df_worldbank, df_eco)"
   ],
   "metadata": {
    "collapsed": false,
    "pycharm": {
     "name": "#%%\n"
    }
   }
  },
  {
   "cell_type": "code",
   "execution_count": null,
   "outputs": [],
   "source": [
    "df_worldbank = gpd.read_file(gpd.datasets.get_path(\"naturalearth_lowres\"))\n",
    "df_world_economics = pd.DataFrame(economy.list())\n",
    "df_concepts_processed = preprocess_concept_df(\n",
    "    df_concepts, df_worldbank, df_world_economics\n",
    ")\n",
    "df_worldbank = df_worldbank.rename(columns={\"name\": \"country\"})"
   ],
   "metadata": {
    "collapsed": false,
    "pycharm": {
     "name": "#%%\n"
    }
   }
  },
  {
   "cell_type": "code",
   "execution_count": null,
   "outputs": [],
   "source": [
    "df_spans = process_spans(df_spans, df_concepts_processed)"
   ],
   "metadata": {
    "collapsed": false,
    "pycharm": {
     "name": "#%%\n"
    }
   }
  },
  {
   "cell_type": "code",
   "execution_count": null,
   "outputs": [],
   "source": [
    "df_concepts_geoplot = create_geodataframe_disaggregated(\n",
    "    df_concepts_processed, df_worldbank\n",
    ")"
   ],
   "metadata": {
    "collapsed": false,
    "pycharm": {
     "name": "#%%\n"
    }
   }
  },
  {
   "cell_type": "code",
   "execution_count": null,
   "outputs": [],
   "source": [
    "df_spans = process_spans(df_spans, df_concepts_processed)"
   ],
   "metadata": {
    "collapsed": false,
    "pycharm": {
     "name": "#%%\n"
    }
   }
  },
  {
   "cell_type": "code",
   "execution_count": null,
   "outputs": [],
   "source": [
    "display(\n",
    "    Markdown(\n",
    "        f\"## UNFCCC Party members mentioning {concept.replace('-', ' ').title()} across all input documents\"\n",
    "    )\n",
    ")"
   ],
   "metadata": {
    "collapsed": false,
    "pycharm": {
     "name": "#%%\n"
    }
   }
  },
  {
   "cell_type": "code",
   "execution_count": null,
   "outputs": [],
   "source": [
    "# Iterate over the unique concepts and create a separate choropleth map for each\n",
    "df_concepts_geoplot = df_concepts_geoplot[~df_concepts_geoplot.Concept.isna()]\n",
    "unique_concepts = sorted(df_concepts_geoplot[\"Concept\"].unique())\n",
    "for conc in unique_concepts:\n",
    "    choropleth_map = create_choropleth_map(df_concepts_geoplot, conc)\n",
    "    choropleth_map.display()"
   ],
   "metadata": {
    "collapsed": false,
    "pycharm": {
     "name": "#%%\n"
    }
   }
  },
  {
   "cell_type": "code",
   "execution_count": null,
   "outputs": [],
   "source": [
    "total_stakeholders = df_concepts_processed[\"Author\"].nunique()\n",
    "num_stakeholders_mentioning = (\n",
    "    df_concepts_processed[df_concepts_processed.value == 1]\n",
    "    .groupby([\"Concept\", \"Author Type\"])[\"Author\"]\n",
    "    .nunique()\n",
    ")"
   ],
   "metadata": {
    "collapsed": false,
    "pycharm": {
     "name": "#%%\n"
    }
   }
  },
  {
   "cell_type": "code",
   "execution_count": null,
   "outputs": [],
   "source": [
    "percentage_stakeholders_mentioning = (\n",
    "    num_stakeholders_mentioning / total_stakeholders * 100\n",
    ")\n",
    "num_stakeholders_mentioning = num_stakeholders_mentioning.rename(\"count\").reset_index()\n",
    "percentage_stakeholders_mentioning = percentage_stakeholders_mentioning.rename(\n",
    "    \"percentage\"\n",
    ").reset_index()\n",
    "df_counts_and_percentages = num_stakeholders_mentioning.merge(\n",
    "    percentage_stakeholders_mentioning, on=[\"Concept\", \"Author Type\"]\n",
    ")"
   ],
   "metadata": {
    "collapsed": false,
    "pycharm": {
     "name": "#%%\n"
    }
   }
  },
  {
   "cell_type": "code",
   "execution_count": null,
   "outputs": [],
   "source": [
    "display(\n",
    "    Markdown(\n",
    "        f\"## Number and percentage of UNFCCC input documents that mention {concept.replace('-', ' ').title()} by Party type\"\n",
    "    )\n",
    ")"
   ],
   "metadata": {
    "collapsed": false,
    "pycharm": {
     "name": "#%%\n"
    }
   }
  },
  {
   "cell_type": "code",
   "execution_count": null,
   "outputs": [],
   "source": [
    "create_stacked_chart(df_counts_and_percentages)"
   ],
   "metadata": {
    "collapsed": false,
    "pycharm": {
     "name": "#%%\n"
    }
   }
  },
  {
   "cell_type": "code",
   "execution_count": null,
   "outputs": [],
   "source": [
    "display(\n",
    "    Markdown(\n",
    "        f\"## Document types that mention {concept.replace('-', ' ').title()} in submitted documents\"\n",
    "    )\n",
    ")"
   ],
   "metadata": {
    "collapsed": false,
    "pycharm": {
     "name": "#%%\n"
    }
   }
  },
  {
   "cell_type": "code",
   "execution_count": null,
   "outputs": [],
   "source": [
    "NUM_TOP_SUBMISSION_TYPES = 5\n",
    "plot_submission_type_frequencies(df_concepts_processed, NUM_TOP_SUBMISSION_TYPES)"
   ],
   "metadata": {
    "collapsed": false,
    "pycharm": {
     "name": "#%%\n"
    }
   }
  },
  {
   "cell_type": "markdown",
   "source": [
    "# Frequent Word Combinations"
   ],
   "metadata": {
    "collapsed": false,
    "pycharm": {
     "name": "#%% md\n"
    }
   }
  },
  {
   "cell_type": "code",
   "execution_count": null,
   "outputs": [],
   "source": [
    "import nltk\n",
    "\n",
    "nltk.download(\"punkt\", quiet=True);"
   ],
   "metadata": {
    "collapsed": false,
    "pycharm": {
     "name": "#%%\n"
    }
   }
  },
  {
   "cell_type": "markdown",
   "source": [
    "## N-gram tables"
   ],
   "metadata": {
    "collapsed": false,
    "pycharm": {
     "name": "#%% md\n"
    }
   }
  },
  {
   "cell_type": "code",
   "execution_count": null,
   "outputs": [],
   "source": [
    "from IPython.display import display, HTML\n",
    "\n",
    "help_text = \"\"\"\n",
    "An n-gram is a contiguous sequence of n items from a given sample of text or speech. Here, 'n' can be any integer. When n is 1, we refer to it as a \"unigram\". Similarly, a 2-gram (bigram) is a two-word sequence of words like \"please turn\", \"turn your\", and so on, and a 3-gram (trigram) is a three-word sequence of words like \"please turn your\", \"turn your computer\", etc.\n",
    "\"\"\"\n",
    "\n",
    "html = \"\"\"\n",
    "<div style=\"position:relative;\">\n",
    "    <span style=\"font-size: 24px; font-weight: bold;\">?</span>\n",
    "    <a style=\"text-decoration:none;color:blue;display:inline-block;\" title=\"{0}\">\n",
    "        What is an n-gram?\n",
    "    </a>\n",
    "    <span style=\"font-size: 24px; font-weight: bold;\">?</span>\n",
    "</div>\n",
    "\"\"\".format(\n",
    "    help_text\n",
    ")\n",
    "\n",
    "display(HTML(html))"
   ],
   "metadata": {
    "collapsed": false,
    "pycharm": {
     "name": "#%%\n"
    }
   }
  },
  {
   "cell_type": "code",
   "execution_count": 25,
   "outputs": [
    {
     "data": {
      "text/plain": "<IPython.core.display.Markdown object>",
      "text/markdown": "## Top 10 bigrams and trigrams (frequent word combinations) relating to Hydropower across UNFCCC input documents\n"
     },
     "metadata": {},
     "output_type": "display_data"
    },
    {
     "data": {
      "text/plain": "                       Total  Total Bigrams                           trigram  \\\n0            (power, plants)            521    (hydroelectric, power, plants)   \n1     (hydroelectric, power)            402      (renewable, energy, sources)   \n2        (renewable, energy)            385  (hydroelectric, power, stations)   \n3       (hydropower, plants)            319            (hydro, power, plants)   \n4             (hydro, power)            250          (thermal, power, plants)   \n5    (hydroelectric, plants)            210       (small, hydropower, plants)   \n6  (electricity, generation)            201   (hydroelectric, power, station)   \n7          (energy, sources)            198      (total, installed, capacity)   \n8          (climate, change)            171            (solar, power, plants)   \n9                (per, cent)            165     (small, hydroelectric, power)   \n\n   Total Trigrams  \n0             153  \n1             126  \n2              80  \n3              80  \n4              79  \n5              51  \n6              48  \n7              43  \n8              36  \n9              31  ",
      "text/html": "<div>\n<style scoped>\n    .dataframe tbody tr th:only-of-type {\n        vertical-align: middle;\n    }\n\n    .dataframe tbody tr th {\n        vertical-align: top;\n    }\n\n    .dataframe thead th {\n        text-align: right;\n    }\n</style>\n<table border=\"1\" class=\"dataframe\">\n  <thead>\n    <tr style=\"text-align: right;\">\n      <th></th>\n      <th>Total</th>\n      <th>Total Bigrams</th>\n      <th>trigram</th>\n      <th>Total Trigrams</th>\n    </tr>\n  </thead>\n  <tbody>\n    <tr>\n      <th>0</th>\n      <td>(power, plants)</td>\n      <td>521</td>\n      <td>(hydroelectric, power, plants)</td>\n      <td>153</td>\n    </tr>\n    <tr>\n      <th>1</th>\n      <td>(hydroelectric, power)</td>\n      <td>402</td>\n      <td>(renewable, energy, sources)</td>\n      <td>126</td>\n    </tr>\n    <tr>\n      <th>2</th>\n      <td>(renewable, energy)</td>\n      <td>385</td>\n      <td>(hydroelectric, power, stations)</td>\n      <td>80</td>\n    </tr>\n    <tr>\n      <th>3</th>\n      <td>(hydropower, plants)</td>\n      <td>319</td>\n      <td>(hydro, power, plants)</td>\n      <td>80</td>\n    </tr>\n    <tr>\n      <th>4</th>\n      <td>(hydro, power)</td>\n      <td>250</td>\n      <td>(thermal, power, plants)</td>\n      <td>79</td>\n    </tr>\n    <tr>\n      <th>5</th>\n      <td>(hydroelectric, plants)</td>\n      <td>210</td>\n      <td>(small, hydropower, plants)</td>\n      <td>51</td>\n    </tr>\n    <tr>\n      <th>6</th>\n      <td>(electricity, generation)</td>\n      <td>201</td>\n      <td>(hydroelectric, power, station)</td>\n      <td>48</td>\n    </tr>\n    <tr>\n      <th>7</th>\n      <td>(energy, sources)</td>\n      <td>198</td>\n      <td>(total, installed, capacity)</td>\n      <td>43</td>\n    </tr>\n    <tr>\n      <th>8</th>\n      <td>(climate, change)</td>\n      <td>171</td>\n      <td>(solar, power, plants)</td>\n      <td>36</td>\n    </tr>\n    <tr>\n      <th>9</th>\n      <td>(per, cent)</td>\n      <td>165</td>\n      <td>(small, hydroelectric, power)</td>\n      <td>31</td>\n    </tr>\n  </tbody>\n</table>\n</div>"
     },
     "metadata": {},
     "output_type": "display_data"
    },
    {
     "data": {
      "text/plain": "<IPython.core.display.Markdown object>",
      "text/markdown": "## Top 10 bigrams and trigrams (frequent word combinations) relating to Wind Energy across UNFCCC input documents\n"
     },
     "metadata": {},
     "output_type": "display_data"
    },
    {
     "data": {
      "text/plain": "                 Total  Total Bigrams                       trigram  \\\n0        (wind, power)            969       (offshore, wind, farms)   \n1       (wind, energy)            816         (wind, power, plants)   \n2     (offshore, wind)            688       (offshore, wind, power)   \n3        (wind, farms)            357      (offshore, wind, energy)   \n4     (wind, turbines)            301  (renewable, energy, sources)   \n5  (renewable, energy)            292         (solar, wind, energy)   \n6      (power, plants)            224          (solar, wind, power)   \n7      (onshore, wind)            200     (wind, power, generation)   \n8         (wind, farm)            171    (floating, offshore, wind)   \n9        (solar, wind)            150     (potential, wind, energy)   \n\n   Total Trigrams  \n0             108  \n1              97  \n2              84  \n3              75  \n4              73  \n5              72  \n6              67  \n7              50  \n8              43  \n9              42  ",
      "text/html": "<div>\n<style scoped>\n    .dataframe tbody tr th:only-of-type {\n        vertical-align: middle;\n    }\n\n    .dataframe tbody tr th {\n        vertical-align: top;\n    }\n\n    .dataframe thead th {\n        text-align: right;\n    }\n</style>\n<table border=\"1\" class=\"dataframe\">\n  <thead>\n    <tr style=\"text-align: right;\">\n      <th></th>\n      <th>Total</th>\n      <th>Total Bigrams</th>\n      <th>trigram</th>\n      <th>Total Trigrams</th>\n    </tr>\n  </thead>\n  <tbody>\n    <tr>\n      <th>0</th>\n      <td>(wind, power)</td>\n      <td>969</td>\n      <td>(offshore, wind, farms)</td>\n      <td>108</td>\n    </tr>\n    <tr>\n      <th>1</th>\n      <td>(wind, energy)</td>\n      <td>816</td>\n      <td>(wind, power, plants)</td>\n      <td>97</td>\n    </tr>\n    <tr>\n      <th>2</th>\n      <td>(offshore, wind)</td>\n      <td>688</td>\n      <td>(offshore, wind, power)</td>\n      <td>84</td>\n    </tr>\n    <tr>\n      <th>3</th>\n      <td>(wind, farms)</td>\n      <td>357</td>\n      <td>(offshore, wind, energy)</td>\n      <td>75</td>\n    </tr>\n    <tr>\n      <th>4</th>\n      <td>(wind, turbines)</td>\n      <td>301</td>\n      <td>(renewable, energy, sources)</td>\n      <td>73</td>\n    </tr>\n    <tr>\n      <th>5</th>\n      <td>(renewable, energy)</td>\n      <td>292</td>\n      <td>(solar, wind, energy)</td>\n      <td>72</td>\n    </tr>\n    <tr>\n      <th>6</th>\n      <td>(power, plants)</td>\n      <td>224</td>\n      <td>(solar, wind, power)</td>\n      <td>67</td>\n    </tr>\n    <tr>\n      <th>7</th>\n      <td>(onshore, wind)</td>\n      <td>200</td>\n      <td>(wind, power, generation)</td>\n      <td>50</td>\n    </tr>\n    <tr>\n      <th>8</th>\n      <td>(wind, farm)</td>\n      <td>171</td>\n      <td>(floating, offshore, wind)</td>\n      <td>43</td>\n    </tr>\n    <tr>\n      <th>9</th>\n      <td>(solar, wind)</td>\n      <td>150</td>\n      <td>(potential, wind, energy)</td>\n      <td>42</td>\n    </tr>\n  </tbody>\n</table>\n</div>"
     },
     "metadata": {},
     "output_type": "display_data"
    },
    {
     "data": {
      "text/plain": "<IPython.core.display.Markdown object>",
      "text/markdown": "## Top 10 bigrams and trigrams (frequent word combinations) relating to Solar Energy across UNFCCC input documents\n"
     },
     "metadata": {},
     "output_type": "display_data"
    },
    {
     "data": {
      "text/plain": "                   Total  Total Bigrams                            trigram  \\\n0            (solar, PV)           1442       (renewable, energy, sources)   \n1        (solar, energy)           1395            (solar, water, heaters)   \n2    (renewable, energy)           1298              (solar, power, plant)   \n3         (solar, power)           1000             (solar, power, plants)   \n4  (solar, photovoltaic)            586       (photovoltaic, solar, power)   \n5        (power, plants)            526               (solar, PV, systems)   \n6         (solar, water)            483          (MW, photovoltaic, solar)   \n7       (solar, thermal)            423            (solar, water, heating)   \n8          (wind, solar)            406           (use, renewable, energy)   \n9      (energy, sources)            404  (renewable, energy, technologies)   \n\n   Total Trigrams  \n0             282  \n1             248  \n2             226  \n3             184  \n4             170  \n5             165  \n6             152  \n7             135  \n8             114  \n9             111  ",
      "text/html": "<div>\n<style scoped>\n    .dataframe tbody tr th:only-of-type {\n        vertical-align: middle;\n    }\n\n    .dataframe tbody tr th {\n        vertical-align: top;\n    }\n\n    .dataframe thead th {\n        text-align: right;\n    }\n</style>\n<table border=\"1\" class=\"dataframe\">\n  <thead>\n    <tr style=\"text-align: right;\">\n      <th></th>\n      <th>Total</th>\n      <th>Total Bigrams</th>\n      <th>trigram</th>\n      <th>Total Trigrams</th>\n    </tr>\n  </thead>\n  <tbody>\n    <tr>\n      <th>0</th>\n      <td>(solar, PV)</td>\n      <td>1442</td>\n      <td>(renewable, energy, sources)</td>\n      <td>282</td>\n    </tr>\n    <tr>\n      <th>1</th>\n      <td>(solar, energy)</td>\n      <td>1395</td>\n      <td>(solar, water, heaters)</td>\n      <td>248</td>\n    </tr>\n    <tr>\n      <th>2</th>\n      <td>(renewable, energy)</td>\n      <td>1298</td>\n      <td>(solar, power, plant)</td>\n      <td>226</td>\n    </tr>\n    <tr>\n      <th>3</th>\n      <td>(solar, power)</td>\n      <td>1000</td>\n      <td>(solar, power, plants)</td>\n      <td>184</td>\n    </tr>\n    <tr>\n      <th>4</th>\n      <td>(solar, photovoltaic)</td>\n      <td>586</td>\n      <td>(photovoltaic, solar, power)</td>\n      <td>170</td>\n    </tr>\n    <tr>\n      <th>5</th>\n      <td>(power, plants)</td>\n      <td>526</td>\n      <td>(solar, PV, systems)</td>\n      <td>165</td>\n    </tr>\n    <tr>\n      <th>6</th>\n      <td>(solar, water)</td>\n      <td>483</td>\n      <td>(MW, photovoltaic, solar)</td>\n      <td>152</td>\n    </tr>\n    <tr>\n      <th>7</th>\n      <td>(solar, thermal)</td>\n      <td>423</td>\n      <td>(solar, water, heating)</td>\n      <td>135</td>\n    </tr>\n    <tr>\n      <th>8</th>\n      <td>(wind, solar)</td>\n      <td>406</td>\n      <td>(use, renewable, energy)</td>\n      <td>114</td>\n    </tr>\n    <tr>\n      <th>9</th>\n      <td>(energy, sources)</td>\n      <td>404</td>\n      <td>(renewable, energy, technologies)</td>\n      <td>111</td>\n    </tr>\n  </tbody>\n</table>\n</div>"
     },
     "metadata": {},
     "output_type": "display_data"
    },
    {
     "data": {
      "text/plain": "<IPython.core.display.Markdown object>",
      "text/markdown": "## Top 10 bigrams and trigrams (frequent word combinations) relating to Bioenergy across UNFCCC input documents\n"
     },
     "metadata": {},
     "output_type": "display_data"
    },
    {
     "data": {
      "text/plain": "                  Total  Total Bigrams                        trigram  \\\n0    (biomass, burning)           1052  (emissions, biomass, burning)   \n1   (renewable, energy)           1008       (2006, IPCC, Guidelines)   \n2      (carbon, stocks)            899        (dead, organic, matter)   \n3      (CO₂, emissions)            704   (renewable, energy, sources)   \n4      (GHG, emissions)            694      (biomass, carbon, stocks)   \n5  (emissions, biomass)            675      (CO₂, emissions, biomass)   \n6        (forest, land)            636      (carbon, stocks, biomass)   \n7     (living, biomass)            601       (change, carbon, stocks)   \n8       (landfill, gas)            596          (carbon, stocks, due)   \n9           (per, cent)            530       (carbon, stock, changes)   \n\n   Total Trigrams  \n0             358  \n1             321  \n2             298  \n3             263  \n4             253  \n5             199  \n6             191  \n7             161  \n8             149  \n9             144  ",
      "text/html": "<div>\n<style scoped>\n    .dataframe tbody tr th:only-of-type {\n        vertical-align: middle;\n    }\n\n    .dataframe tbody tr th {\n        vertical-align: top;\n    }\n\n    .dataframe thead th {\n        text-align: right;\n    }\n</style>\n<table border=\"1\" class=\"dataframe\">\n  <thead>\n    <tr style=\"text-align: right;\">\n      <th></th>\n      <th>Total</th>\n      <th>Total Bigrams</th>\n      <th>trigram</th>\n      <th>Total Trigrams</th>\n    </tr>\n  </thead>\n  <tbody>\n    <tr>\n      <th>0</th>\n      <td>(biomass, burning)</td>\n      <td>1052</td>\n      <td>(emissions, biomass, burning)</td>\n      <td>358</td>\n    </tr>\n    <tr>\n      <th>1</th>\n      <td>(renewable, energy)</td>\n      <td>1008</td>\n      <td>(2006, IPCC, Guidelines)</td>\n      <td>321</td>\n    </tr>\n    <tr>\n      <th>2</th>\n      <td>(carbon, stocks)</td>\n      <td>899</td>\n      <td>(dead, organic, matter)</td>\n      <td>298</td>\n    </tr>\n    <tr>\n      <th>3</th>\n      <td>(CO₂, emissions)</td>\n      <td>704</td>\n      <td>(renewable, energy, sources)</td>\n      <td>263</td>\n    </tr>\n    <tr>\n      <th>4</th>\n      <td>(GHG, emissions)</td>\n      <td>694</td>\n      <td>(biomass, carbon, stocks)</td>\n      <td>253</td>\n    </tr>\n    <tr>\n      <th>5</th>\n      <td>(emissions, biomass)</td>\n      <td>675</td>\n      <td>(CO₂, emissions, biomass)</td>\n      <td>199</td>\n    </tr>\n    <tr>\n      <th>6</th>\n      <td>(forest, land)</td>\n      <td>636</td>\n      <td>(carbon, stocks, biomass)</td>\n      <td>191</td>\n    </tr>\n    <tr>\n      <th>7</th>\n      <td>(living, biomass)</td>\n      <td>601</td>\n      <td>(change, carbon, stocks)</td>\n      <td>161</td>\n    </tr>\n    <tr>\n      <th>8</th>\n      <td>(landfill, gas)</td>\n      <td>596</td>\n      <td>(carbon, stocks, due)</td>\n      <td>149</td>\n    </tr>\n    <tr>\n      <th>9</th>\n      <td>(per, cent)</td>\n      <td>530</td>\n      <td>(carbon, stock, changes)</td>\n      <td>144</td>\n    </tr>\n  </tbody>\n</table>\n</div>"
     },
     "metadata": {},
     "output_type": "display_data"
    },
    {
     "data": {
      "text/plain": "<IPython.core.display.Markdown object>",
      "text/markdown": "## Top 10 bigrams and trigrams (frequent word combinations) relating to Geothermal Energy across UNFCCC input documents\n"
     },
     "metadata": {},
     "output_type": "display_data"
    },
    {
     "data": {
      "text/plain": "                     Total  Total Bigrams                            trigram  \\\n0     (geothermal, energy)            404       (renewable, energy, sources)   \n1      (renewable, energy)            227           (use, renewable, energy)   \n2        (energy, sources)            139      (geothermal, energy, sources)   \n3  (geothermal, resources)             96    (potential, geothermal, energy)   \n4      (geothermal, power)             94         (Geothermal, Power, Plant)   \n5          (solar, energy)             61        (geothermal, power, plants)   \n6     (Geothermal, energy)             60          (use, geothermal, energy)   \n7           (wind, energy)             58         (geothermal, power, plant)   \n8              (per, cent)             54     (renewable, energy, resources)   \n9           (natural, gas)             53  (geothermal, energy, development)   \n\n   Total Trigrams  \n0              72  \n1              24  \n2              19  \n3              17  \n4              17  \n5              15  \n6              14  \n7              14  \n8              14  \n9              12  ",
      "text/html": "<div>\n<style scoped>\n    .dataframe tbody tr th:only-of-type {\n        vertical-align: middle;\n    }\n\n    .dataframe tbody tr th {\n        vertical-align: top;\n    }\n\n    .dataframe thead th {\n        text-align: right;\n    }\n</style>\n<table border=\"1\" class=\"dataframe\">\n  <thead>\n    <tr style=\"text-align: right;\">\n      <th></th>\n      <th>Total</th>\n      <th>Total Bigrams</th>\n      <th>trigram</th>\n      <th>Total Trigrams</th>\n    </tr>\n  </thead>\n  <tbody>\n    <tr>\n      <th>0</th>\n      <td>(geothermal, energy)</td>\n      <td>404</td>\n      <td>(renewable, energy, sources)</td>\n      <td>72</td>\n    </tr>\n    <tr>\n      <th>1</th>\n      <td>(renewable, energy)</td>\n      <td>227</td>\n      <td>(use, renewable, energy)</td>\n      <td>24</td>\n    </tr>\n    <tr>\n      <th>2</th>\n      <td>(energy, sources)</td>\n      <td>139</td>\n      <td>(geothermal, energy, sources)</td>\n      <td>19</td>\n    </tr>\n    <tr>\n      <th>3</th>\n      <td>(geothermal, resources)</td>\n      <td>96</td>\n      <td>(potential, geothermal, energy)</td>\n      <td>17</td>\n    </tr>\n    <tr>\n      <th>4</th>\n      <td>(geothermal, power)</td>\n      <td>94</td>\n      <td>(Geothermal, Power, Plant)</td>\n      <td>17</td>\n    </tr>\n    <tr>\n      <th>5</th>\n      <td>(solar, energy)</td>\n      <td>61</td>\n      <td>(geothermal, power, plants)</td>\n      <td>15</td>\n    </tr>\n    <tr>\n      <th>6</th>\n      <td>(Geothermal, energy)</td>\n      <td>60</td>\n      <td>(use, geothermal, energy)</td>\n      <td>14</td>\n    </tr>\n    <tr>\n      <th>7</th>\n      <td>(wind, energy)</td>\n      <td>58</td>\n      <td>(geothermal, power, plant)</td>\n      <td>14</td>\n    </tr>\n    <tr>\n      <th>8</th>\n      <td>(per, cent)</td>\n      <td>54</td>\n      <td>(renewable, energy, resources)</td>\n      <td>14</td>\n    </tr>\n    <tr>\n      <th>9</th>\n      <td>(natural, gas)</td>\n      <td>53</td>\n      <td>(geothermal, energy, development)</td>\n      <td>12</td>\n    </tr>\n  </tbody>\n</table>\n</div>"
     },
     "metadata": {},
     "output_type": "display_data"
    },
    {
     "data": {
      "text/plain": "<IPython.core.display.Markdown object>",
      "text/markdown": "## Top 10 bigrams and trigrams (frequent word combinations) relating to Renewable Energy across UNFCCC input documents\n"
     },
     "metadata": {},
     "output_type": "display_data"
    },
    {
     "data": {
      "text/plain": "                       Total  Total Bigrams  \\\n0        (share, renewables)            145   \n1       (energy, efficiency)            125   \n2        (renewable, energy)            122   \n3  (electricity, generation)             98   \n4      (energy, consumption)             90   \n5        (renewables, share)             74   \n6             (natural, gas)             70   \n7       (renewables, energy)             69   \n8                (per, cent)             64   \n9            (fossil, fuels)             63   \n\n                                 trigram  Total Trigrams  \n0           (final, energy, consumption)              45  \n1  (renewables, electricity, generation)              23  \n2            (share, renewables, energy)              23  \n3        (increasing, share, renewables)              22  \n4       (share, renewables, electricity)              19  \n5       (renewables, energy, efficiency)              18  \n6           (greenhouse, gas, emissions)              16  \n7               (The, share, renewables)              15  \n8         (Renewable, Energy, Directive)              15  \n9             (natural, gas, renewables)              14  ",
      "text/html": "<div>\n<style scoped>\n    .dataframe tbody tr th:only-of-type {\n        vertical-align: middle;\n    }\n\n    .dataframe tbody tr th {\n        vertical-align: top;\n    }\n\n    .dataframe thead th {\n        text-align: right;\n    }\n</style>\n<table border=\"1\" class=\"dataframe\">\n  <thead>\n    <tr style=\"text-align: right;\">\n      <th></th>\n      <th>Total</th>\n      <th>Total Bigrams</th>\n      <th>trigram</th>\n      <th>Total Trigrams</th>\n    </tr>\n  </thead>\n  <tbody>\n    <tr>\n      <th>0</th>\n      <td>(share, renewables)</td>\n      <td>145</td>\n      <td>(final, energy, consumption)</td>\n      <td>45</td>\n    </tr>\n    <tr>\n      <th>1</th>\n      <td>(energy, efficiency)</td>\n      <td>125</td>\n      <td>(renewables, electricity, generation)</td>\n      <td>23</td>\n    </tr>\n    <tr>\n      <th>2</th>\n      <td>(renewable, energy)</td>\n      <td>122</td>\n      <td>(share, renewables, energy)</td>\n      <td>23</td>\n    </tr>\n    <tr>\n      <th>3</th>\n      <td>(electricity, generation)</td>\n      <td>98</td>\n      <td>(increasing, share, renewables)</td>\n      <td>22</td>\n    </tr>\n    <tr>\n      <th>4</th>\n      <td>(energy, consumption)</td>\n      <td>90</td>\n      <td>(share, renewables, electricity)</td>\n      <td>19</td>\n    </tr>\n    <tr>\n      <th>5</th>\n      <td>(renewables, share)</td>\n      <td>74</td>\n      <td>(renewables, energy, efficiency)</td>\n      <td>18</td>\n    </tr>\n    <tr>\n      <th>6</th>\n      <td>(natural, gas)</td>\n      <td>70</td>\n      <td>(greenhouse, gas, emissions)</td>\n      <td>16</td>\n    </tr>\n    <tr>\n      <th>7</th>\n      <td>(renewables, energy)</td>\n      <td>69</td>\n      <td>(The, share, renewables)</td>\n      <td>15</td>\n    </tr>\n    <tr>\n      <th>8</th>\n      <td>(per, cent)</td>\n      <td>64</td>\n      <td>(Renewable, Energy, Directive)</td>\n      <td>15</td>\n    </tr>\n    <tr>\n      <th>9</th>\n      <td>(fossil, fuels)</td>\n      <td>63</td>\n      <td>(natural, gas, renewables)</td>\n      <td>14</td>\n    </tr>\n  </tbody>\n</table>\n</div>"
     },
     "metadata": {},
     "output_type": "display_data"
    },
    {
     "data": {
      "text/plain": "<IPython.core.display.Markdown object>",
      "text/markdown": "## Top 10 bigrams and trigrams (frequent word combinations) relating to Heat Pumps across UNFCCC input documents\n"
     },
     "metadata": {},
     "output_type": "display_data"
    },
    {
     "data": {
      "text/plain": "               Total  Total Bigrams                      trigram  \\\n0     (source, heat)             19          (air, source, heat)   \n1      (air, source)             11        (source, heat, pumps)   \n2      (heat, pumps)             11         (source, heat, pump)   \n3       (heat, pump)              9       (ground, source, heat)   \n4   (ground, source)              6    (Boiler, Upgrade, Scheme)   \n5  (Boiler, Upgrade)              4      (will, provide, grants)   \n6  (Upgrade, Scheme)              4   (million, Boiler, Upgrade)   \n7    (will, provide)              4     (We, providing, subsidy)   \n8  (provide, grants)              4  (providing, subsidy, first)   \n9  (energy, systems)              3     (subsidy, first, movers)   \n\n   Total Trigrams  \n0              11  \n1              11  \n2               8  \n3               5  \n4               4  \n5               4  \n6               2  \n7               2  \n8               2  \n9               2  ",
      "text/html": "<div>\n<style scoped>\n    .dataframe tbody tr th:only-of-type {\n        vertical-align: middle;\n    }\n\n    .dataframe tbody tr th {\n        vertical-align: top;\n    }\n\n    .dataframe thead th {\n        text-align: right;\n    }\n</style>\n<table border=\"1\" class=\"dataframe\">\n  <thead>\n    <tr style=\"text-align: right;\">\n      <th></th>\n      <th>Total</th>\n      <th>Total Bigrams</th>\n      <th>trigram</th>\n      <th>Total Trigrams</th>\n    </tr>\n  </thead>\n  <tbody>\n    <tr>\n      <th>0</th>\n      <td>(source, heat)</td>\n      <td>19</td>\n      <td>(air, source, heat)</td>\n      <td>11</td>\n    </tr>\n    <tr>\n      <th>1</th>\n      <td>(air, source)</td>\n      <td>11</td>\n      <td>(source, heat, pumps)</td>\n      <td>11</td>\n    </tr>\n    <tr>\n      <th>2</th>\n      <td>(heat, pumps)</td>\n      <td>11</td>\n      <td>(source, heat, pump)</td>\n      <td>8</td>\n    </tr>\n    <tr>\n      <th>3</th>\n      <td>(heat, pump)</td>\n      <td>9</td>\n      <td>(ground, source, heat)</td>\n      <td>5</td>\n    </tr>\n    <tr>\n      <th>4</th>\n      <td>(ground, source)</td>\n      <td>6</td>\n      <td>(Boiler, Upgrade, Scheme)</td>\n      <td>4</td>\n    </tr>\n    <tr>\n      <th>5</th>\n      <td>(Boiler, Upgrade)</td>\n      <td>4</td>\n      <td>(will, provide, grants)</td>\n      <td>4</td>\n    </tr>\n    <tr>\n      <th>6</th>\n      <td>(Upgrade, Scheme)</td>\n      <td>4</td>\n      <td>(million, Boiler, Upgrade)</td>\n      <td>2</td>\n    </tr>\n    <tr>\n      <th>7</th>\n      <td>(will, provide)</td>\n      <td>4</td>\n      <td>(We, providing, subsidy)</td>\n      <td>2</td>\n    </tr>\n    <tr>\n      <th>8</th>\n      <td>(provide, grants)</td>\n      <td>4</td>\n      <td>(providing, subsidy, first)</td>\n      <td>2</td>\n    </tr>\n    <tr>\n      <th>9</th>\n      <td>(energy, systems)</td>\n      <td>3</td>\n      <td>(subsidy, first, movers)</td>\n      <td>2</td>\n    </tr>\n  </tbody>\n</table>\n</div>"
     },
     "metadata": {},
     "output_type": "display_data"
    }
   ],
   "source": [
    "plot_ngrams(df_spans)"
   ],
   "metadata": {
    "collapsed": false,
    "pycharm": {
     "name": "#%%\n"
    }
   }
  },
  {
   "cell_type": "code",
   "execution_count": 184,
   "outputs": [],
   "source": [],
   "metadata": {
    "collapsed": false,
    "pycharm": {
     "name": "#%%\n"
    }
   }
  },
  {
   "cell_type": "code",
   "execution_count": null,
   "metadata": {
    "pycharm": {
     "name": "#%%\n"
    }
   },
   "outputs": [],
   "source": []
  },
  {
   "cell_type": "code",
   "execution_count": null,
   "metadata": {
    "pycharm": {
     "name": "#%%\n"
    }
   },
   "outputs": [],
   "source": []
  },
  {
   "cell_type": "code",
   "execution_count": null,
   "metadata": {
    "pycharm": {
     "name": "#%%\n"
    }
   },
   "outputs": [],
   "source": []
  }
 ],
 "metadata": {
  "kernelspec": {
   "display_name": "Python 3 (ipykernel)",
   "language": "python",
   "name": "python3"
  },
  "language_info": {
   "codemirror_mode": {
    "name": "ipython",
    "version": 3
   },
   "file_extension": ".py",
   "mimetype": "text/x-python",
   "name": "python",
   "nbconvert_exporter": "python",
   "pygments_lexer": "ipython3",
   "version": "3.9.10"
  }
 },
 "nbformat": 4,
 "nbformat_minor": 1
}