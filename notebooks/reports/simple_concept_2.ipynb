{
 "cells": [
  {
   "cell_type": "code",
   "execution_count": null,
   "outputs": [],
   "source": [
    "# auto reload modules\n",
    "%load_ext autoreload\n",
    "%autoreload 2"
   ],
   "metadata": {
    "collapsed": false,
    "pycharm": {
     "name": "#%%\n"
    }
   }
  },
  {
   "cell_type": "code",
   "execution_count": null,
   "outputs": [],
   "source": [
    "import os\n",
    "\n",
    "from dotenv import load_dotenv\n",
    "\n",
    "load_dotenv()\n",
    "from datetime import datetime\n",
    "from pathlib import Path\n",
    "\n",
    "import geopandas as gpd\n",
    "import pandas as pd\n",
    "from IPython.core.display_functions import display\n",
    "from IPython.display import Markdown\n",
    "from wbgapi import economy\n",
    "\n",
    "from utils import (\n",
    "    create_stacked_chart,\n",
    "    create_choropleth_map,\n",
    "    plot_ngrams,\n",
    "    plot_submission_type_frequencies,\n",
    "    create_geodataframe,\n",
    "    preprocess_concept_df,\n",
    "    process_spans,\n",
    ")"
   ],
   "metadata": {
    "collapsed": false,
    "pycharm": {
     "name": "#%%\n"
    }
   }
  },
  {
   "cell_type": "code",
   "execution_count": null,
   "outputs": [],
   "source": [
    "import warnings\n",
    "\n",
    "warnings.filterwarnings(\"ignore\")"
   ],
   "metadata": {
    "collapsed": false,
    "pycharm": {
     "name": "#%%\n"
    }
   }
  },
  {
   "cell_type": "code",
   "execution_count": null,
   "outputs": [],
   "source": [
    "concept = \"loss-and-damage\"\n",
    "formatted_concept = concept.replace(\"-\", \" \").title()\n",
    "date_of_nb = datetime.now().strftime(\"%d-%m-%Y\")"
   ],
   "metadata": {
    "collapsed": false,
    "pycharm": {
     "name": "#%%\n"
    }
   }
  },
  {
   "cell_type": "code",
   "execution_count": null,
   "outputs": [],
   "source": [
    "display(Markdown(f\"# GST Report on {formatted_concept}\"))\n",
    "display(Markdown(f\"## Summary\"))\n",
    "display(\n",
    "    Markdown(\n",
    "        f\"This report contains summary statistics and visualisations for all identified mentions of {formatted_concept} across UNFCCC input documents, as of {date_of_nb}. Highlights from this report: Loss and Damage in UNFCCC input documents appear most frequently alongside mentions of X (context), in document type X and by Party members, particularly those located in the X region.\"\n",
    "    )\n",
    ")\n",
    "display(\n",
    "    Markdown(\n",
    "        f\"[Link to Methodology](https://www.notion.so/climatepolicyradar/Concept-tracker-internal-a879dfc5c2fd49159838af86cd5e8955)\"\n",
    "    )\n",
    ")\n",
    "display(\n",
    "    Markdown(\n",
    "        f\"[Link to Linguistic input file](https://github.com/climatepolicyradar/global-stocktake/blob/main/concepts/fossil-fuels/input.xlsx)\"\n",
    "    )\n",
    ")"
   ],
   "metadata": {
    "collapsed": false,
    "pycharm": {
     "name": "#%%\n"
    }
   }
  },
  {
   "cell_type": "markdown",
   "source": [],
   "metadata": {
    "collapsed": false,
    "pycharm": {
     "name": "#%% md\n"
    }
   }
  },
  {
   "cell_type": "code",
   "execution_count": null,
   "outputs": [],
   "source": [
    "# set the display options to allow resizing columns\n",
    "pd.set_option(\"display.max_colwidth\", None)\n",
    "pd.set_option(\"display.max_columns\", None)\n",
    "pd.set_option(\"display.width\", None);"
   ],
   "metadata": {
    "collapsed": false,
    "pycharm": {
     "name": "#%%\n"
    }
   }
  },
  {
   "cell_type": "code",
   "execution_count": null,
   "outputs": [],
   "source": [
    "concepts_path = Path().absolute().parent / \"concepts\";"
   ],
   "metadata": {
    "collapsed": false,
    "pycharm": {
     "name": "#%%\n"
    }
   }
  },
  {
   "cell_type": "code",
   "execution_count": null,
   "outputs": [],
   "source": [
    "df_concepts = pd.read_excel(concepts_path / concept / \"output_with_metadata.xlsx\")\n",
    "df_spans = pd.read_csv(concepts_path / concept / \"spans.csv\")\n",
    "date_of_nb = datetime.today().strftime(\"%d-%m-%Y\")\n",
    "df_input = pd.read_excel(concepts_path / concept / \"input.xlsx\");"
   ],
   "metadata": {
    "collapsed": false,
    "pycharm": {
     "name": "#%%\n"
    }
   }
  },
  {
   "cell_type": "code",
   "execution_count": null,
   "outputs": [],
   "source": [
    "scraper_csv_path = os.getenv(\"SCRAPER_CSV_PATH\", \"scraper_csv\");"
   ],
   "metadata": {
    "collapsed": false,
    "pycharm": {
     "name": "#%%\n"
    }
   }
  },
  {
   "cell_type": "code",
   "execution_count": null,
   "outputs": [],
   "source": [
    "df_worldbank = gpd.read_file(gpd.datasets.get_path(\"naturalearth_lowres\"))\n",
    "df_world_economics = pd.DataFrame(economy.list())\n",
    "df_concepts_processed = preprocess_concept_df(\n",
    "    df_concepts, df_worldbank, df_world_economics\n",
    ")\n",
    "df_worldbank = df_worldbank.rename(columns={\"name\": \"country\"})"
   ],
   "metadata": {
    "collapsed": false,
    "pycharm": {
     "name": "#%%\n"
    }
   }
  },
  {
   "cell_type": "code",
   "execution_count": null,
   "outputs": [],
   "source": [
    "df_spans = process_spans(df_spans, df_concepts_processed)"
   ],
   "metadata": {
    "collapsed": false,
    "pycharm": {
     "name": "#%%\n"
    }
   }
  },
  {
   "cell_type": "code",
   "execution_count": null,
   "outputs": [],
   "source": [
    "df_concepts_geoplot = create_geodataframe(df_concepts_processed, df_worldbank)"
   ],
   "metadata": {
    "collapsed": false,
    "pycharm": {
     "name": "#%%\n"
    }
   }
  },
  {
   "cell_type": "code",
   "execution_count": null,
   "outputs": [],
   "source": [
    "display(\n",
    "    Markdown(\n",
    "        f\"## UNFCCC Party members mentioning {formatted_concept} across all input documents\"\n",
    "    )\n",
    ")"
   ],
   "metadata": {
    "collapsed": false,
    "pycharm": {
     "name": "#%%\n"
    }
   }
  },
  {
   "cell_type": "code",
   "execution_count": null,
   "outputs": [],
   "source": [
    "# Iterate over the unique concepts and create a separate choropleth map for each\n",
    "unique_concepts = sorted(df_concepts_geoplot[\"Concept\"].unique())\n",
    "for conc in unique_concepts:\n",
    "    choropleth_map = create_choropleth_map(df_concepts_geoplot, conc)\n",
    "    choropleth_map.display()"
   ],
   "metadata": {
    "collapsed": false,
    "pycharm": {
     "name": "#%%\n"
    }
   }
  },
  {
   "cell_type": "code",
   "execution_count": null,
   "outputs": [],
   "source": [
    "total_stakeholders = df_concepts_processed[\"Author\"].nunique()\n",
    "num_stakeholders_mentioning = df_concepts_processed.groupby([\"Concept\", \"Author Type\"])[\n",
    "    \"Author\"\n",
    "].nunique()"
   ],
   "metadata": {
    "collapsed": false,
    "pycharm": {
     "name": "#%%\n"
    }
   }
  },
  {
   "cell_type": "code",
   "execution_count": null,
   "outputs": [],
   "source": [
    "percentage_stakeholders_mentioning = (\n",
    "    num_stakeholders_mentioning / total_stakeholders * 100\n",
    ")\n",
    "num_stakeholders_mentioning = num_stakeholders_mentioning.rename(\"count\").reset_index()\n",
    "percentage_stakeholders_mentioning = percentage_stakeholders_mentioning.rename(\n",
    "    \"percentage\"\n",
    ").reset_index()\n",
    "df_counts_and_percentages = num_stakeholders_mentioning.merge(\n",
    "    percentage_stakeholders_mentioning, on=[\"Concept\", \"Author Type\"]\n",
    ")"
   ],
   "metadata": {
    "collapsed": false,
    "pycharm": {
     "name": "#%%\n"
    }
   }
  },
  {
   "cell_type": "code",
   "execution_count": null,
   "outputs": [],
   "source": [
    "display(\n",
    "    Markdown(\n",
    "        f\"## Number and percentage of UNFCCC Party and Non-Party documents that mention {concept.replace('-', ' ').title()} related concepts in submitted documents\"\n",
    "    )\n",
    ")"
   ],
   "metadata": {
    "collapsed": false,
    "pycharm": {
     "name": "#%%\n"
    }
   }
  },
  {
   "cell_type": "code",
   "execution_count": null,
   "outputs": [],
   "source": [
    "create_stacked_chart(df_counts_and_percentages)"
   ],
   "metadata": {
    "collapsed": false,
    "pycharm": {
     "name": "#%%\n"
    }
   }
  },
  {
   "cell_type": "code",
   "execution_count": null,
   "outputs": [],
   "source": [
    "display(\n",
    "    Markdown(\n",
    "        f\"## Document types that mention {concept.replace('-', ' ').title()} in submitted documents\"\n",
    "    )\n",
    ")"
   ],
   "metadata": {
    "collapsed": false,
    "pycharm": {
     "name": "#%%\n"
    }
   }
  },
  {
   "cell_type": "code",
   "execution_count": null,
   "outputs": [],
   "source": [
    "NUM_TOP_SUBMISSION_TYPES = 5\n",
    "plot_submission_type_frequencies(\n",
    "    df_concepts_processed, formatted_concept, NUM_TOP_SUBMISSION_TYPES\n",
    ")"
   ],
   "metadata": {
    "collapsed": false,
    "pycharm": {
     "name": "#%%\n"
    }
   }
  },
  {
   "cell_type": "markdown",
   "source": [
    "# Frequent Word Combinations"
   ],
   "metadata": {
    "collapsed": false,
    "pycharm": {
     "name": "#%% md\n"
    }
   }
  },
  {
   "cell_type": "code",
   "execution_count": null,
   "outputs": [],
   "source": [
    "import nltk\n",
    "\n",
    "nltk.download(\"punkt\", quiet=True);"
   ],
   "metadata": {
    "collapsed": false,
    "pycharm": {
     "name": "#%%\n"
    }
   }
  },
  {
   "cell_type": "code",
   "execution_count": null,
   "outputs": [],
   "source": [
    "from IPython.display import display, HTML\n",
    "\n",
    "html = \"\"\"\n",
    "<div>\n",
    "    <a href=\"#\" data-toggle=\"tooltip\" title=\"An n-gram is a contiguous sequence of n items from a given sample of text or speech. Here, 'n' can be any integer. When n is 1, we refer to it as a 'unigram'. Similarly, a 2-gram (bigram) is a two-word sequence of words like 'please turn', 'turn your', and so on, and a 3-gram (trigram) is a three-word sequence of words like 'please turn your', 'turn your computer', etc.\">❓What is an n-gram?❓</a>\n",
    "</div>\n",
    "\n",
    "<script>\n",
    "$(document).ready(function(){\n",
    "    $('[data-toggle=\"tooltip\"]').tooltip();\n",
    "});\n",
    "</script>\n",
    "\"\"\"\n",
    "\n",
    "display(HTML(html))"
   ],
   "metadata": {
    "collapsed": false,
    "pycharm": {
     "name": "#%%\n"
    }
   }
  },
  {
   "cell_type": "code",
   "execution_count": 22,
   "outputs": [
    {
     "data": {
      "text/plain": "<IPython.core.display.Markdown object>",
      "text/markdown": "## Top 10 bigrams and trigrams (frequent word combinations) relating to Loss And Damage across UNFCCC input documents\n"
     },
     "metadata": {},
     "output_type": "display_data"
    },
    {
     "data": {
      "text/plain": "                   Total  Total Bigrams                             trigram  \\\n0         (loss, damage)            780          (addressing, loss, damage)   \n1      (climate, change)            215             (address, loss, damage)   \n2         (Loss, Damage)            139          (loss, damage, associated)   \n3     (addressing, loss)            133          (effects, climate, change)   \n4        (address, loss)            120         (adverse, effects, climate)   \n5   (damage, associated)            101       (damage, associated, adverse)   \n6     (adverse, effects)             85      (minimizing, addressing, loss)   \n7     (effects, climate)             85      (associated, adverse, effects)   \n8     (Paris, Agreement)             76  (Warsaw, International, Mechanism)   \n9  (associated, adverse)             76           (minimize, address, loss)   \n\n   Total Trigrams  \n0             131  \n1             118  \n2             100  \n3              85  \n4              84  \n5              75  \n6              74  \n7              68  \n8              48  \n9              42  ",
      "text/html": "<div>\n<style scoped>\n    .dataframe tbody tr th:only-of-type {\n        vertical-align: middle;\n    }\n\n    .dataframe tbody tr th {\n        vertical-align: top;\n    }\n\n    .dataframe thead th {\n        text-align: right;\n    }\n</style>\n<table border=\"1\" class=\"dataframe\">\n  <thead>\n    <tr style=\"text-align: right;\">\n      <th></th>\n      <th>Total</th>\n      <th>Total Bigrams</th>\n      <th>trigram</th>\n      <th>Total Trigrams</th>\n    </tr>\n  </thead>\n  <tbody>\n    <tr>\n      <th>0</th>\n      <td>(loss, damage)</td>\n      <td>780</td>\n      <td>(addressing, loss, damage)</td>\n      <td>131</td>\n    </tr>\n    <tr>\n      <th>1</th>\n      <td>(climate, change)</td>\n      <td>215</td>\n      <td>(address, loss, damage)</td>\n      <td>118</td>\n    </tr>\n    <tr>\n      <th>2</th>\n      <td>(Loss, Damage)</td>\n      <td>139</td>\n      <td>(loss, damage, associated)</td>\n      <td>100</td>\n    </tr>\n    <tr>\n      <th>3</th>\n      <td>(addressing, loss)</td>\n      <td>133</td>\n      <td>(effects, climate, change)</td>\n      <td>85</td>\n    </tr>\n    <tr>\n      <th>4</th>\n      <td>(address, loss)</td>\n      <td>120</td>\n      <td>(adverse, effects, climate)</td>\n      <td>84</td>\n    </tr>\n    <tr>\n      <th>5</th>\n      <td>(damage, associated)</td>\n      <td>101</td>\n      <td>(damage, associated, adverse)</td>\n      <td>75</td>\n    </tr>\n    <tr>\n      <th>6</th>\n      <td>(adverse, effects)</td>\n      <td>85</td>\n      <td>(minimizing, addressing, loss)</td>\n      <td>74</td>\n    </tr>\n    <tr>\n      <th>7</th>\n      <td>(effects, climate)</td>\n      <td>85</td>\n      <td>(associated, adverse, effects)</td>\n      <td>68</td>\n    </tr>\n    <tr>\n      <th>8</th>\n      <td>(Paris, Agreement)</td>\n      <td>76</td>\n      <td>(Warsaw, International, Mechanism)</td>\n      <td>48</td>\n    </tr>\n    <tr>\n      <th>9</th>\n      <td>(associated, adverse)</td>\n      <td>76</td>\n      <td>(minimize, address, loss)</td>\n      <td>42</td>\n    </tr>\n  </tbody>\n</table>\n</div>"
     },
     "metadata": {},
     "output_type": "display_data"
    }
   ],
   "source": [
    "plot_ngrams(df_spans)"
   ],
   "metadata": {
    "collapsed": false,
    "pycharm": {
     "name": "#%%\n"
    }
   }
  },
  {
   "cell_type": "code",
   "execution_count": null,
   "outputs": [],
   "source": [],
   "metadata": {
    "collapsed": false,
    "pycharm": {
     "name": "#%%\n"
    }
   }
  }
 ],
 "metadata": {
  "kernelspec": {
   "display_name": "Python 3 (ipykernel)",
   "language": "python",
   "name": "python3"
  },
  "language_info": {
   "codemirror_mode": {
    "name": "ipython",
    "version": 3
   },
   "file_extension": ".py",
   "mimetype": "text/x-python",
   "name": "python",
   "nbconvert_exporter": "python",
   "pygments_lexer": "ipython3",
   "version": "3.9.10"
  }
 },
 "nbformat": 4,
 "nbformat_minor": 1
}