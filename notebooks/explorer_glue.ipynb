{
 "cells": [
  {
   "cell_type": "markdown",
   "id": "9cf3e0b4-abb4-4466-8a87-c430aeebb88c",
   "metadata": {},
   "source": [
    "# Explorer glue code\n",
    "\n",
    "Code to:\n",
    "1. inspect the pdf parser outputs\n",
    "2. join the outputs of explorer with the scraper from the metadata."
   ]
  },
  {
   "cell_type": "code",
   "execution_count": 60,
   "id": "a7a9facf-f66c-4b80-8807-010a2e85551c",
   "metadata": {},
   "outputs": [],
   "source": [
    "from pathlib import Path\n",
    "\n",
    "from cpr_data_access.models import Dataset, BaseDocument\n",
    "import pandas as pd\n",
    "\n",
    "pd.set_option(\"display.max_colwidth\", 200)"
   ]
  },
  {
   "cell_type": "code",
   "execution_count": 6,
   "id": "7ec0c854-50c9-4085-a901-a1bed22d962f",
   "metadata": {},
   "outputs": [
    {
     "name": "stderr",
     "output_type": "stream",
     "text": [
      "100%|████████████████████████████████████████████████████████████████████████████████████████████████████████████████████████████████████████████████| 837/837 [00:39<00:00, 21.16it/s]\n"
     ]
    }
   ],
   "source": [
    "DOCUMENT_PARSER_OUTPUT_DIR = \"/Users/kalyan/Documents/CPR/data/GST/parser_output/\"\n",
    "\n",
    "dataset = Dataset(document_model=BaseDocument).load_from_local(\n",
    "    DOCUMENT_PARSER_OUTPUT_DIR\n",
    ")"
   ]
  },
  {
   "cell_type": "markdown",
   "id": "426e28d0-6752-4b24-875d-153ad7e77564",
   "metadata": {},
   "source": [
    "## 1. inspecting pdf parser outputs"
   ]
  },
  {
   "cell_type": "code",
   "execution_count": 9,
   "id": "7f497cbc-4373-4d6c-b4e0-a4583d56306e",
   "metadata": {},
   "outputs": [
    {
     "data": {
      "text/html": [
       "<div>\n",
       "<style scoped>\n",
       "    .dataframe tbody tr th:only-of-type {\n",
       "        vertical-align: middle;\n",
       "    }\n",
       "\n",
       "    .dataframe tbody tr th {\n",
       "        vertical-align: top;\n",
       "    }\n",
       "\n",
       "    .dataframe thead th {\n",
       "        text-align: right;\n",
       "    }\n",
       "</style>\n",
       "<table border=\"1\" class=\"dataframe\">\n",
       "  <thead>\n",
       "    <tr style=\"text-align: right;\">\n",
       "      <th></th>\n",
       "      <th>document_id</th>\n",
       "      <th>document_name</th>\n",
       "      <th>document_source_url</th>\n",
       "      <th>document_content_type</th>\n",
       "      <th>document_md5_sum</th>\n",
       "      <th>languages</th>\n",
       "      <th>translated</th>\n",
       "      <th>has_valid_text</th>\n",
       "      <th>page_metadata</th>\n",
       "      <th>geography</th>\n",
       "      <th>num_pages</th>\n",
       "    </tr>\n",
       "  </thead>\n",
       "  <tbody>\n",
       "    <tr>\n",
       "      <th>0</th>\n",
       "      <td>CCLW.gst.623.623</td>\n",
       "      <td>Thailand20TNC</td>\n",
       "      <td>None</td>\n",
       "      <td>application/pdf</td>\n",
       "      <td>None</td>\n",
       "      <td>None</td>\n",
       "      <td>False</td>\n",
       "      <td>True</td>\n",
       "      <td>[]</td>\n",
       "      <td>None</td>\n",
       "      <td>0</td>\n",
       "    </tr>\n",
       "    <tr>\n",
       "      <th>1</th>\n",
       "      <td>CCLW.gst.722.722</td>\n",
       "      <td>mrt</td>\n",
       "      <td>None</td>\n",
       "      <td>application/pdf</td>\n",
       "      <td>None</td>\n",
       "      <td>[en]</td>\n",
       "      <td>False</td>\n",
       "      <td>True</td>\n",
       "      <td>[{'page_number': 0, 'dimensions': (596.0, 842....</td>\n",
       "      <td>None</td>\n",
       "      <td>19</td>\n",
       "    </tr>\n",
       "    <tr>\n",
       "      <th>2</th>\n",
       "      <td>CCLW.gst.817.817</td>\n",
       "      <td>tasr2_ARM</td>\n",
       "      <td>None</td>\n",
       "      <td>application/pdf</td>\n",
       "      <td>None</td>\n",
       "      <td>[en]</td>\n",
       "      <td>False</td>\n",
       "      <td>True</td>\n",
       "      <td>[{'page_number': 0, 'dimensions': (612.0, 792....</td>\n",
       "      <td>None</td>\n",
       "      <td>22</td>\n",
       "    </tr>\n",
       "    <tr>\n",
       "      <th>3</th>\n",
       "      <td>CCLW.gst.520.520</td>\n",
       "      <td>NIS_Report_2021_EN_211211-web</td>\n",
       "      <td>None</td>\n",
       "      <td>application/pdf</td>\n",
       "      <td>None</td>\n",
       "      <td>[en]</td>\n",
       "      <td>False</td>\n",
       "      <td>True</td>\n",
       "      <td>[{'page_number': 0, 'dimensions': (842.0, 596....</td>\n",
       "      <td>None</td>\n",
       "      <td>276</td>\n",
       "    </tr>\n",
       "    <tr>\n",
       "      <th>4</th>\n",
       "      <td>CCLW.gst.421.421</td>\n",
       "      <td>Fourth20National20Communication20of20Albania20...</td>\n",
       "      <td>None</td>\n",
       "      <td>application/pdf</td>\n",
       "      <td>None</td>\n",
       "      <td>None</td>\n",
       "      <td>False</td>\n",
       "      <td>True</td>\n",
       "      <td>[]</td>\n",
       "      <td>None</td>\n",
       "      <td>0</td>\n",
       "    </tr>\n",
       "  </tbody>\n",
       "</table>\n",
       "</div>"
      ],
      "text/plain": [
       "        document_id                                      document_name  \\\n",
       "0  CCLW.gst.623.623                                      Thailand20TNC   \n",
       "1  CCLW.gst.722.722                                                mrt   \n",
       "2  CCLW.gst.817.817                                          tasr2_ARM   \n",
       "3  CCLW.gst.520.520                      NIS_Report_2021_EN_211211-web   \n",
       "4  CCLW.gst.421.421  Fourth20National20Communication20of20Albania20...   \n",
       "\n",
       "  document_source_url document_content_type document_md5_sum languages  \\\n",
       "0                None       application/pdf             None      None   \n",
       "1                None       application/pdf             None      [en]   \n",
       "2                None       application/pdf             None      [en]   \n",
       "3                None       application/pdf             None      [en]   \n",
       "4                None       application/pdf             None      None   \n",
       "\n",
       "   translated  has_valid_text  \\\n",
       "0       False            True   \n",
       "1       False            True   \n",
       "2       False            True   \n",
       "3       False            True   \n",
       "4       False            True   \n",
       "\n",
       "                                       page_metadata geography  num_pages  \n",
       "0                                                 []      None          0  \n",
       "1  [{'page_number': 0, 'dimensions': (596.0, 842....      None         19  \n",
       "2  [{'page_number': 0, 'dimensions': (612.0, 792....      None         22  \n",
       "3  [{'page_number': 0, 'dimensions': (842.0, 596....      None        276  \n",
       "4                                                 []      None          0  "
      ]
     },
     "execution_count": 9,
     "metadata": {},
     "output_type": "execute_result"
    }
   ],
   "source": [
    "df = dataset.metadata_df\n",
    "df[\"num_pages\"] = df[\"page_metadata\"].apply(len)\n",
    "df.head()"
   ]
  },
  {
   "cell_type": "code",
   "execution_count": 13,
   "id": "be804ab2-b971-4c09-9c96-2ca77fab3afe",
   "metadata": {},
   "outputs": [
    {
     "name": "stdout",
     "output_type": "stream",
     "text": [
      "languages\n",
      "[en]    626\n",
      "None    134\n",
      "[fr]     36\n",
      "[es]     29\n",
      "[ru]      9\n",
      "[ar]      2\n",
      "[]        1\n",
      "Name: languages, dtype: int64\n",
      "translated\n",
      "False    837\n",
      "Name: translated, dtype: int64\n"
     ]
    }
   ],
   "source": [
    "for col in [\"languages\", \"translated\"]:\n",
    "    print(col)\n",
    "    print(df[col].value_counts(dropna=False))"
   ]
  },
  {
   "cell_type": "code",
   "execution_count": 15,
   "id": "aabec8c1-26f6-4ec8-8bda-a6aa6b76e5a6",
   "metadata": {},
   "outputs": [
    {
     "name": "stdout",
     "output_type": "stream",
     "text": [
      "empty docs: 134\n"
     ]
    }
   ],
   "source": [
    "print(f\"empty docs: {(df['num_pages'] == 0).sum()}\")"
   ]
  },
  {
   "cell_type": "markdown",
   "id": "413ce5d0-206b-4383-abf8-9c2e90cb7581",
   "metadata": {},
   "source": [
    "## 2. Joining explorer outputs to scraper metadata\n",
    "\n",
    "We create a pdf_name column from the scraper output and join it with the document_name column of the explorer output."
   ]
  },
  {
   "cell_type": "code",
   "execution_count": 17,
   "id": "5b856754-4b9f-4ea7-908c-054594692331",
   "metadata": {},
   "outputs": [],
   "source": [
    "EXPLORER_OUTPUT_PATH = \"/Users/kalyan/Documents/CPR/explorer/data/test/explorer_output_20230301-180857.xlsx\"\n",
    "SCRAPER_METADATA_PATH = (\n",
    "    \"/Users/kalyan/Documents/CPR/unfccc-global-stocktake-documents/unfccc_files.csv\"\n",
    ")"
   ]
  },
  {
   "cell_type": "code",
   "execution_count": 21,
   "id": "38a1c314-c711-46fe-adb7-c243b003223e",
   "metadata": {},
   "outputs": [],
   "source": [
    "explorer_output = pd.read_excel(EXPLORER_OUTPUT_PATH)\n",
    "scraper_metadata = pd.read_csv(SCRAPER_METADATA_PATH)"
   ]
  },
  {
   "cell_type": "code",
   "execution_count": 54,
   "id": "b67da525-ad1e-4ef2-a046-17bddddfeaf0",
   "metadata": {},
   "outputs": [
    {
     "name": "stdout",
     "output_type": "stream",
     "text": [
      "PDF names are unique\n"
     ]
    }
   ],
   "source": [
    "scraper_metadata[\"pdf_name\"] = (\n",
    "    scraper_metadata[\"pdf_link\"]\n",
    "    .apply(lambda i: i.split(\"/\")[-1][:-4])\n",
    "    .apply(lambda i: i.replace(\"%\", \"\"))\n",
    ")\n",
    "\n",
    "if scraper_metadata[\"pdf_name\"].nunique() == len(scraper_metadata):\n",
    "    print(\"PDF names are unique\")\n",
    "else:\n",
    "    print(\"PDF names aren't unique. Nonunique names:\")\n",
    "    duplicated_pdf_names = scraper_metadata[\"pdf_name\"].value_counts()\n",
    "    duplicated_pdf_names = duplicated_pdf_names[duplicated_pdf_names.values > 1]\n",
    "    print(duplicated_pdf_names.index.tolist())"
   ]
  },
  {
   "cell_type": "code",
   "execution_count": 56,
   "id": "a6371f3f-a40d-4f10-aa8e-9b6dc8beac88",
   "metadata": {},
   "outputs": [
    {
     "data": {
      "text/html": [
       "<div>\n",
       "<style scoped>\n",
       "    .dataframe tbody tr th:only-of-type {\n",
       "        vertical-align: middle;\n",
       "    }\n",
       "\n",
       "    .dataframe tbody tr th {\n",
       "        vertical-align: top;\n",
       "    }\n",
       "\n",
       "    .dataframe thead th {\n",
       "        text-align: right;\n",
       "    }\n",
       "</style>\n",
       "<table border=\"1\" class=\"dataframe\">\n",
       "  <thead>\n",
       "    <tr style=\"text-align: right;\">\n",
       "      <th></th>\n",
       "      <th>md5sum</th>\n",
       "      <th>document_name</th>\n",
       "      <th>theme</th>\n",
       "      <th>type</th>\n",
       "      <th>author</th>\n",
       "      <th>author_type</th>\n",
       "      <th>date</th>\n",
       "      <th>language</th>\n",
       "      <th>link</th>\n",
       "      <th>pdf_link</th>\n",
       "      <th>validation_status</th>\n",
       "      <th>data_error_type</th>\n",
       "      <th>party</th>\n",
       "      <th>translation</th>\n",
       "      <th>version</th>\n",
       "      <th>status</th>\n",
       "      <th>source</th>\n",
       "      <th>topics</th>\n",
       "      <th>pdf_name</th>\n",
       "    </tr>\n",
       "  </thead>\n",
       "  <tbody>\n",
       "    <tr>\n",
       "      <th>753</th>\n",
       "      <td>0921d172aae7a6481bfefe46020f79b6</td>\n",
       "      <td>Montenegro. National Communication (NC). NC 3.</td>\n",
       "      <td>Policies and measures, National communications (NC), Mitigation</td>\n",
       "      <td>National communications (NC)</td>\n",
       "      <td>Montenegro</td>\n",
       "      <td>NaN</td>\n",
       "      <td>2020-10-12T12:00:00Z</td>\n",
       "      <td>English</td>\n",
       "      <td>/documents/254489</td>\n",
       "      <td>https://unfccc.int/sites/default/files/resource/TNC%20-%20MNE_0.pdf</td>\n",
       "      <td>not validated</td>\n",
       "      <td>NaN</td>\n",
       "      <td>Montenegro</td>\n",
       "      <td>NaN</td>\n",
       "      <td>NaN</td>\n",
       "      <td>NaN</td>\n",
       "      <td>UNFCCC Information Portal</td>\n",
       "      <td>Policies and measures,National communications NC,Mitigation</td>\n",
       "      <td>TNC20-20MNE_0</td>\n",
       "    </tr>\n",
       "  </tbody>\n",
       "</table>\n",
       "</div>"
      ],
      "text/plain": [
       "                               md5sum  \\\n",
       "753  0921d172aae7a6481bfefe46020f79b6   \n",
       "\n",
       "                                      document_name  \\\n",
       "753  Montenegro. National Communication (NC). NC 3.   \n",
       "\n",
       "                                                               theme  \\\n",
       "753  Policies and measures, National communications (NC), Mitigation   \n",
       "\n",
       "                             type      author  author_type  \\\n",
       "753  National communications (NC)  Montenegro          NaN   \n",
       "\n",
       "                     date language               link  \\\n",
       "753  2020-10-12T12:00:00Z  English  /documents/254489   \n",
       "\n",
       "                                                                pdf_link  \\\n",
       "753  https://unfccc.int/sites/default/files/resource/TNC%20-%20MNE_0.pdf   \n",
       "\n",
       "    validation_status  data_error_type       party  translation  version  \\\n",
       "753     not validated              NaN  Montenegro          NaN      NaN   \n",
       "\n",
       "     status                     source  \\\n",
       "753     NaN  UNFCCC Information Portal   \n",
       "\n",
       "                                                          topics  \\\n",
       "753  Policies and measures,National communications NC,Mitigation   \n",
       "\n",
       "          pdf_name  \n",
       "753  TNC20-20MNE_0  "
      ]
     },
     "execution_count": 56,
     "metadata": {},
     "output_type": "execute_result"
    }
   ],
   "source": [
    "scraper_metadata[scraper_metadata[\"pdf_name\"].str.startswith(\"TNC20-20MNE_0\")]"
   ]
  },
  {
   "cell_type": "code",
   "execution_count": 59,
   "id": "de92c74e-5765-4c0d-b029-cbb9fc6cbebb",
   "metadata": {},
   "outputs": [],
   "source": [
    "explorer_output_with_metadata = pd.merge(\n",
    "    left=explorer_output,\n",
    "    right=scraper_metadata,\n",
    "    left_on=\"document_name\",\n",
    "    right_on=\"pdf_name\",\n",
    "    how=\"left\",\n",
    "    validate=\"m:1\",\n",
    ")\n",
    "\n",
    "if explorer_output_with_metadata[\"pdf_link\"].isnull().sum():\n",
    "    print(\n",
    "        \"All documents in explorer output matched with metadata from the scraper output CSV\"\n",
    "    )"
   ]
  },
  {
   "cell_type": "code",
   "execution_count": 63,
   "id": "41defc7e-52f1-4633-b6cb-ee72b70dc9f6",
   "metadata": {},
   "outputs": [
    {
     "name": "stdout",
     "output_type": "stream",
     "text": [
      "Saved to /Users/kalyan/Documents/CPR/explorer/data/test/explorer_output_20230301-180857_with_metadata.xlsx\n"
     ]
    }
   ],
   "source": [
    "output_path = Path(EXPLORER_OUTPUT_PATH).with_stem(\n",
    "    Path(EXPLORER_OUTPUT_PATH).stem + \"_with_metadata\"\n",
    ")\n",
    "\n",
    "explorer_output_with_metadata.to_excel(output_path, index=False)\n",
    "print(f\"Saved to {output_path}\")"
   ]
  },
  {
   "cell_type": "code",
   "execution_count": null,
   "id": "e97430f5-d805-4ac5-a76e-c0d1069680a0",
   "metadata": {},
   "outputs": [],
   "source": []
  }
 ],
 "metadata": {
  "kernelspec": {
   "display_name": "poetry",
   "language": "python",
   "name": "poetry"
  },
  "language_info": {
   "codemirror_mode": {
    "name": "ipython",
    "version": 3
   },
   "file_extension": ".py",
   "mimetype": "text/x-python",
   "name": "python",
   "nbconvert_exporter": "python",
   "pygments_lexer": "ipython3",
   "version": "3.9.10"
  }
 },
 "nbformat": 4,
 "nbformat_minor": 5
}
