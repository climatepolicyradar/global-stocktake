{
 "cells": [
  {
   "cell_type": "markdown",
   "id": "11375368-9bc8-485e-8611-d565b2f35124",
   "metadata": {},
   "source": [
    "# Creating the readme for the unprocessed documents list"
   ]
  },
  {
   "cell_type": "code",
   "execution_count": 41,
   "id": "ab0013d4-aedd-485f-9d45-2c4019f1ba3f",
   "metadata": {},
   "outputs": [
    {
     "name": "stdout",
     "output_type": "stream",
     "text": [
      "Collecting tabulate\n",
      "  Using cached tabulate-0.9.0-py3-none-any.whl (35 kB)\n",
      "Installing collected packages: tabulate\n",
      "Successfully installed tabulate-0.9.0\n",
      "\n",
      "\u001b[1m[\u001b[0m\u001b[34;49mnotice\u001b[0m\u001b[1;39;49m]\u001b[0m\u001b[39;49m A new release of pip is available: \u001b[0m\u001b[31;49m23.0\u001b[0m\u001b[39;49m -> \u001b[0m\u001b[32;49m23.1.2\u001b[0m\n",
      "\u001b[1m[\u001b[0m\u001b[34;49mnotice\u001b[0m\u001b[1;39;49m]\u001b[0m\u001b[39;49m To update, run: \u001b[0m\u001b[32;49mpython -m pip install --upgrade pip\u001b[0m\n"
     ]
    }
   ],
   "source": [
    "import sys\n",
    "\n",
    "!{sys.executable} -m pip install tabulate"
   ]
  },
  {
   "cell_type": "code",
   "execution_count": 49,
   "id": "44776d64-8383-4071-a420-9a13d695ecd3",
   "metadata": {},
   "outputs": [],
   "source": [
    "import sys\n",
    "\n",
    "sys.path.append(\"..\")\n",
    "from pathlib import Path\n",
    "\n",
    "import os\n",
    "\n",
    "import pandas as pd\n",
    "from IPython.display import Markdown"
   ]
  },
  {
   "cell_type": "markdown",
   "id": "d411ba76-152d-47e4-bea8-c8f648a98028",
   "metadata": {},
   "source": [
    "## 1. Get metadata of documents that couldn't be parsed"
   ]
  },
  {
   "cell_type": "code",
   "execution_count": 72,
   "id": "888fd7cd-671e-47df-b11f-69c79a6bb468",
   "metadata": {},
   "outputs": [
    {
     "data": {
      "text/plain": [
       "148"
      ]
     },
     "execution_count": 72,
     "metadata": {},
     "output_type": "execute_result"
    }
   ],
   "source": [
    "# Get IDs of missing documents\n",
    "missing_docs_df = pd.read_excel(\"../data/raw/No Text Documents.xlsx\")\n",
    "missing_docs_ids = missing_docs_df[\"Document ID\"].tolist()\n",
    "\n",
    "extra_ids = [\n",
    "    \"UNFCCC.party.178.0\",\n",
    "    \"UNFCCC.party.228.0\",\n",
    "    \"UNFCCC.party.134.0\",\n",
    "    \"UNFCCC.party.177.0\",\n",
    "    \"UNFCCC.party.809.0\",\n",
    "    \"UNFCCC.party.811.0\",\n",
    "    \"UNFCCC.non-party.288.0\",\n",
    "    \"UNFCCC.party.389.0\",\n",
    "    \"UNFCCC.party.136.0\",\n",
    "    \"UNFCCC.party.1564.0\",\n",
    "    \"UNFCCC.party.1483.0\",\n",
    "    \"UNFCCC.party.719.0\",\n",
    "    \"UNFCCC.party.603.0\",\n",
    "    \"UNFCCC.party.64.0\",\n",
    "    \"UNFCCC.party.119.0\",\n",
    "    \"UNFCCC.party.857.0\",\n",
    "    \"UNFCCC.party.1463.0\",\n",
    "    \"UNFCCC.party.856.0\",\n",
    "    \"UNFCCC.party.588.0\",\n",
    "    \"UNFCCC.non-party.280.0\",\n",
    "    \"UNFCCC.party.29.0\",\n",
    "    \"UNFCCC.party.176.0\",\n",
    "    \"UNFCCC.non-party.46.0\",\n",
    "    \"UNFCCC.party.403.0\",\n",
    "    \"UNFCCC.party.830.0\",\n",
    "    \"UNFCCC.non-party.297.0\",\n",
    "    \"UNFCCC.party.839.0\",\n",
    "    \"UNFCCC.party.68.0\",\n",
    "    \"UNFCCC.party.581.0\",\n",
    "]\n",
    "\n",
    "missing_docs_ids += extra_ids\n",
    "\n",
    "len(missing_docs_ids)"
   ]
  },
  {
   "cell_type": "code",
   "execution_count": 73,
   "id": "18c0803c-389a-4e5a-a0f7-26c7f23e4cb5",
   "metadata": {},
   "outputs": [],
   "source": [
    "# Import scraper CSV and clean up\n",
    "metadata_df = pd.read_csv(\n",
    "    \"/Users/kalyan/Documents/CPR/unfccc-global-stocktake-documents/CPR_UNFCCC_MASTER.csv\"\n",
    ")\n",
    "metadata_df[[\"Author\", \"Submission Type\"]] = metadata_df[\n",
    "    [\"Author\", \"Submission Type\"]\n",
    "].applymap(lambda i: i.split(\",\"))"
   ]
  },
  {
   "cell_type": "code",
   "execution_count": 74,
   "id": "ec286af6-7994-4b19-a83e-cd8d0a182596",
   "metadata": {},
   "outputs": [
    {
     "name": "stdout",
     "output_type": "stream",
     "text": [
      "IDs not found in scraper CSV: []\n"
     ]
    }
   ],
   "source": [
    "missing_docs_metadata = metadata_df[\n",
    "    metadata_df[\"CPR Document ID\"].isin(missing_docs_ids)\n",
    "]\n",
    "\n",
    "ids_failed_to_find = set(missing_docs_ids) - set(\n",
    "    missing_docs_metadata[\"CPR Document ID\"].tolist()\n",
    ")\n",
    "print(f\"IDs not found in scraper CSV: {list(ids_failed_to_find)}\")"
   ]
  },
  {
   "cell_type": "code",
   "execution_count": 75,
   "id": "176ea9f7-09d2-4e1c-8439-fc3b1604c769",
   "metadata": {
    "tags": []
   },
   "outputs": [],
   "source": [
    "cols_to_export = [\n",
    "    # 'Category',\n",
    "    \"Submission Type\",\n",
    "    # 'Family Name',\n",
    "    \"Document Title\",\n",
    "    \"Documents\",\n",
    "    \"Author\",\n",
    "    \"Author Type\",\n",
    "    # 'Geography',\n",
    "    # 'Geography ISO',\n",
    "    \"Date\",\n",
    "    # 'Document Role',\n",
    "    # 'Document Variant',\n",
    "    # 'Language',\n",
    "    # 'CPR Collection ID',\n",
    "    # 'CPR Document ID',\n",
    "    # 'CPR Family ID',\n",
    "    # 'CPR Family Slug',\n",
    "    # 'CPR Document Slug',\n",
    "    # 'CPR Document Status',\n",
    "    # 'Download URL'\n",
    "]\n",
    "\n",
    "main_table_for_display = missing_docs_metadata[cols_to_export].rename(\n",
    "    columns={\"Documents\": \"Source URL\"}\n",
    ")\n",
    "main_table_for_display[[\"Submission Type\", \"Author\"]] = main_table_for_display[\n",
    "    [\"Submission Type\", \"Author\"]\n",
    "].applymap(lambda i: \", \".join(i))\n",
    "main_table_for_display = main_table_for_display.sort_values(\n",
    "    [\"Author Type\", \"Author\", \"Submission Type\"]\n",
    ")\n",
    "main_table_for_display = main_table_for_display[\n",
    "    [\"Author Type\", \"Author\", \"Submission Type\", \"Document Title\", \"Source URL\", \"Date\"]\n",
    "]\n",
    "\n",
    "parties_table = main_table_for_display[main_table_for_display[\"Author Type\"] == \"Party\"]\n",
    "non_parties_table = main_table_for_display[\n",
    "    main_table_for_display[\"Author Type\"] == \"Non-Party\"\n",
    "]\n",
    "\n",
    "# with pd.option_context(\"display.max_columns\", None, \"display.max_rows\", None):\n",
    "#     display(main_table_for_display)"
   ]
  },
  {
   "cell_type": "markdown",
   "id": "d60152c1-ae82-447f-984e-6a9579314a5d",
   "metadata": {},
   "source": [
    "## Generate markdown"
   ]
  },
  {
   "cell_type": "code",
   "execution_count": 76,
   "id": "5d23e773-7cd2-490d-babe-dbfeb2527391",
   "metadata": {},
   "outputs": [],
   "source": [
    "markdown_table_parties = parties_table.to_markdown(index=False)\n",
    "markdown_table_non_parties = non_parties_table.to_markdown(index=False)"
   ]
  },
  {
   "cell_type": "code",
   "execution_count": 79,
   "id": "bd1ae202-f536-45b4-b006-9cb96fa1ca93",
   "metadata": {},
   "outputs": [],
   "source": [
    "MARKDOWN = f\"\"\"\n",
    "# Missing Documents\n",
    "\n",
    "We have yet to process {len(missing_docs_ids)} documents of the {len(metadata_df)} documents ({round(len(missing_docs_ids)/len(metadata_df)*100, 1)}%) due to formatting and technical issues. We are working on resolving this issue as soon as possible.\n",
    "\n",
    "The documents and summary statistics are available on this page.\n",
    "\n",
    "## Full list of missing documents\n",
    "\n",
    "### From Parties\n",
    "\n",
    "{markdown_table_parties}\n",
    "\n",
    "### From non-Parties\n",
    "\n",
    "{markdown_table_non_parties}\n",
    "\n",
    "\"\"\""
   ]
  },
  {
   "cell_type": "markdown",
   "id": "b08f9ac5-2019-4bcf-850c-6e0ff98c748f",
   "metadata": {},
   "source": [
    "## Export markdown"
   ]
  },
  {
   "cell_type": "code",
   "execution_count": 80,
   "id": "ca7b650e-d50c-4cc1-b6a6-ee3e142cebe6",
   "metadata": {},
   "outputs": [
    {
     "data": {
      "text/plain": [
       "54562"
      ]
     },
     "execution_count": 80,
     "metadata": {},
     "output_type": "execute_result"
    }
   ],
   "source": [
    "MARKDOWN_EXPORT_PATH = Path(\"../docs/UNPROCESSED_DOCUMENTS.md\")\n",
    "MARKDOWN_EXPORT_PATH.write_text(MARKDOWN)"
   ]
  },
  {
   "cell_type": "code",
   "execution_count": null,
   "id": "4a138904-9a54-471c-a00e-a88d17121782",
   "metadata": {},
   "outputs": [],
   "source": []
  }
 ],
 "metadata": {
  "kernelspec": {
   "display_name": "Python 3 (ipykernel)",
   "language": "python",
   "name": "python3"
  },
  "language_info": {
   "codemirror_mode": {
    "name": "ipython",
    "version": 3
   },
   "file_extension": ".py",
   "mimetype": "text/x-python",
   "name": "python",
   "nbconvert_exporter": "python",
   "pygments_lexer": "ipython3",
   "version": "3.9.10"
  }
 },
 "nbformat": 4,
 "nbformat_minor": 5
}
