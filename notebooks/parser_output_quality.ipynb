{
 "cells": [
  {
   "attachments": {},
   "cell_type": "markdown",
   "id": "9cf3e0b4-abb4-4466-8a87-c430aeebb88c",
   "metadata": {
    "pycharm": {
     "name": "#%% md\n"
    }
   },
   "source": [
    "# Inspect PDF parser outputs\n",
    "\n",
    "Code to inspect the pdf parser outputs"
   ]
  },
  {
   "cell_type": "code",
   "execution_count": 1,
   "id": "a7a9facf-f66c-4b80-8807-010a2e85551c",
   "metadata": {
    "pycharm": {
     "name": "#%%\n"
    }
   },
   "outputs": [
    {
     "name": "stderr",
     "output_type": "stream",
     "text": [
      "/Users/kalyan/Library/Caches/pypoetry/virtualenvs/experiment-template-HXOiBphk-py3.9/lib/python3.9/site-packages/tqdm/auto.py:22: TqdmWarning: IProgress not found. Please update jupyter and ipywidgets. See https://ipywidgets.readthedocs.io/en/stable/user_install.html\n",
      "  from .autonotebook import tqdm as notebook_tqdm\n"
     ]
    }
   ],
   "source": [
    "from pathlib import Path\n",
    "\n",
    "from cpr_data_access.models import Dataset, BaseDocument\n",
    "import pandas as pd\n",
    "\n",
    "pd.set_option(\"display.max_colwidth\", 200)"
   ]
  },
  {
   "cell_type": "code",
   "execution_count": 6,
   "id": "7ec0c854-50c9-4085-a901-a1bed22d962f",
   "metadata": {
    "pycharm": {
     "name": "#%%\n"
    }
   },
   "outputs": [
    {
     "name": "stderr",
     "output_type": "stream",
     "text": [
      "100%|████████████████████████████████████████████████████████████████████████████████████████████████████████████████████████████████████████████████| 837/837 [00:39<00:00, 21.16it/s]\n"
     ]
    }
   ],
   "source": [
    "DOCUMENT_PARSER_OUTPUT_DIR = \"/Users/kalyan/Documents/CPR/data/GST/parser_output/\"\n",
    "\n",
    "dataset = Dataset(document_model=BaseDocument).load_from_local(\n",
    "    DOCUMENT_PARSER_OUTPUT_DIR\n",
    ")"
   ]
  },
  {
   "cell_type": "markdown",
   "id": "426e28d0-6752-4b24-875d-153ad7e77564",
   "metadata": {
    "pycharm": {
     "name": "#%% md\n"
    }
   },
   "source": [
    "## 1. inspecting pdf parser outputs"
   ]
  },
  {
   "cell_type": "code",
   "execution_count": 9,
   "id": "7f497cbc-4373-4d6c-b4e0-a4583d56306e",
   "metadata": {
    "pycharm": {
     "name": "#%%\n"
    }
   },
   "outputs": [
    {
     "data": {
      "text/html": [
       "<div>\n",
       "<style scoped>\n",
       "    .dataframe tbody tr th:only-of-type {\n",
       "        vertical-align: middle;\n",
       "    }\n",
       "\n",
       "    .dataframe tbody tr th {\n",
       "        vertical-align: top;\n",
       "    }\n",
       "\n",
       "    .dataframe thead th {\n",
       "        text-align: right;\n",
       "    }\n",
       "</style>\n",
       "<table border=\"1\" class=\"dataframe\">\n",
       "  <thead>\n",
       "    <tr style=\"text-align: right;\">\n",
       "      <th></th>\n",
       "      <th>document_id</th>\n",
       "      <th>document_name</th>\n",
       "      <th>document_source_url</th>\n",
       "      <th>document_content_type</th>\n",
       "      <th>document_md5_sum</th>\n",
       "      <th>languages</th>\n",
       "      <th>translated</th>\n",
       "      <th>has_valid_text</th>\n",
       "      <th>page_metadata</th>\n",
       "      <th>geography</th>\n",
       "      <th>num_pages</th>\n",
       "    </tr>\n",
       "  </thead>\n",
       "  <tbody>\n",
       "    <tr>\n",
       "      <th>0</th>\n",
       "      <td>CCLW.gst.623.623</td>\n",
       "      <td>Thailand20TNC</td>\n",
       "      <td>None</td>\n",
       "      <td>application/pdf</td>\n",
       "      <td>None</td>\n",
       "      <td>None</td>\n",
       "      <td>False</td>\n",
       "      <td>True</td>\n",
       "      <td>[]</td>\n",
       "      <td>None</td>\n",
       "      <td>0</td>\n",
       "    </tr>\n",
       "    <tr>\n",
       "      <th>1</th>\n",
       "      <td>CCLW.gst.722.722</td>\n",
       "      <td>mrt</td>\n",
       "      <td>None</td>\n",
       "      <td>application/pdf</td>\n",
       "      <td>None</td>\n",
       "      <td>[en]</td>\n",
       "      <td>False</td>\n",
       "      <td>True</td>\n",
       "      <td>[{'page_number': 0, 'dimensions': (596.0, 842....</td>\n",
       "      <td>None</td>\n",
       "      <td>19</td>\n",
       "    </tr>\n",
       "    <tr>\n",
       "      <th>2</th>\n",
       "      <td>CCLW.gst.817.817</td>\n",
       "      <td>tasr2_ARM</td>\n",
       "      <td>None</td>\n",
       "      <td>application/pdf</td>\n",
       "      <td>None</td>\n",
       "      <td>[en]</td>\n",
       "      <td>False</td>\n",
       "      <td>True</td>\n",
       "      <td>[{'page_number': 0, 'dimensions': (612.0, 792....</td>\n",
       "      <td>None</td>\n",
       "      <td>22</td>\n",
       "    </tr>\n",
       "    <tr>\n",
       "      <th>3</th>\n",
       "      <td>CCLW.gst.520.520</td>\n",
       "      <td>NIS_Report_2021_EN_211211-web</td>\n",
       "      <td>None</td>\n",
       "      <td>application/pdf</td>\n",
       "      <td>None</td>\n",
       "      <td>[en]</td>\n",
       "      <td>False</td>\n",
       "      <td>True</td>\n",
       "      <td>[{'page_number': 0, 'dimensions': (842.0, 596....</td>\n",
       "      <td>None</td>\n",
       "      <td>276</td>\n",
       "    </tr>\n",
       "    <tr>\n",
       "      <th>4</th>\n",
       "      <td>CCLW.gst.421.421</td>\n",
       "      <td>Fourth20National20Communication20of20Albania20...</td>\n",
       "      <td>None</td>\n",
       "      <td>application/pdf</td>\n",
       "      <td>None</td>\n",
       "      <td>None</td>\n",
       "      <td>False</td>\n",
       "      <td>True</td>\n",
       "      <td>[]</td>\n",
       "      <td>None</td>\n",
       "      <td>0</td>\n",
       "    </tr>\n",
       "  </tbody>\n",
       "</table>\n",
       "</div>"
      ],
      "text/plain": [
       "        document_id                                      document_name  \\\n",
       "0  CCLW.gst.623.623                                      Thailand20TNC   \n",
       "1  CCLW.gst.722.722                                                mrt   \n",
       "2  CCLW.gst.817.817                                          tasr2_ARM   \n",
       "3  CCLW.gst.520.520                      NIS_Report_2021_EN_211211-web   \n",
       "4  CCLW.gst.421.421  Fourth20National20Communication20of20Albania20...   \n",
       "\n",
       "  document_source_url document_content_type document_md5_sum languages  \\\n",
       "0                None       application/pdf             None      None   \n",
       "1                None       application/pdf             None      [en]   \n",
       "2                None       application/pdf             None      [en]   \n",
       "3                None       application/pdf             None      [en]   \n",
       "4                None       application/pdf             None      None   \n",
       "\n",
       "   translated  has_valid_text  \\\n",
       "0       False            True   \n",
       "1       False            True   \n",
       "2       False            True   \n",
       "3       False            True   \n",
       "4       False            True   \n",
       "\n",
       "                                       page_metadata geography  num_pages  \n",
       "0                                                 []      None          0  \n",
       "1  [{'page_number': 0, 'dimensions': (596.0, 842....      None         19  \n",
       "2  [{'page_number': 0, 'dimensions': (612.0, 792....      None         22  \n",
       "3  [{'page_number': 0, 'dimensions': (842.0, 596....      None        276  \n",
       "4                                                 []      None          0  "
      ]
     },
     "execution_count": 9,
     "metadata": {},
     "output_type": "execute_result"
    }
   ],
   "source": [
    "df = dataset.metadata_df\n",
    "df[\"num_pages\"] = df[\"page_metadata\"].apply(len)\n",
    "df.head()"
   ]
  },
  {
   "cell_type": "code",
   "execution_count": 13,
   "id": "be804ab2-b971-4c09-9c96-2ca77fab3afe",
   "metadata": {
    "pycharm": {
     "name": "#%%\n"
    }
   },
   "outputs": [
    {
     "name": "stdout",
     "output_type": "stream",
     "text": [
      "languages\n",
      "[en]    626\n",
      "None    134\n",
      "[fr]     36\n",
      "[es]     29\n",
      "[ru]      9\n",
      "[ar]      2\n",
      "[]        1\n",
      "Name: languages, dtype: int64\n",
      "translated\n",
      "False    837\n",
      "Name: translated, dtype: int64\n"
     ]
    }
   ],
   "source": [
    "for col in [\"languages\", \"translated\"]:\n",
    "    print(col)\n",
    "    print(df[col].value_counts(dropna=False))"
   ]
  },
  {
   "cell_type": "code",
   "execution_count": 15,
   "id": "aabec8c1-26f6-4ec8-8bda-a6aa6b76e5a6",
   "metadata": {
    "pycharm": {
     "name": "#%%\n"
    }
   },
   "outputs": [
    {
     "name": "stdout",
     "output_type": "stream",
     "text": [
      "empty docs: 134\n"
     ]
    }
   ],
   "source": [
    "print(f\"empty docs: {(df['num_pages'] == 0).sum()}\")"
   ]
  },
  {
   "cell_type": "code",
   "execution_count": null,
   "id": "e97430f5-d805-4ac5-a76e-c0d1069680a0",
   "metadata": {
    "pycharm": {
     "name": "#%%\n"
    }
   },
   "outputs": [],
   "source": []
  }
 ],
 "metadata": {
  "kernelspec": {
   "display_name": "Python 3 (ipykernel)",
   "language": "python",
   "name": "python3"
  },
  "language_info": {
   "codemirror_mode": {
    "name": "ipython",
    "version": 3
   },
   "file_extension": ".py",
   "mimetype": "text/x-python",
   "name": "python",
   "nbconvert_exporter": "python",
   "pygments_lexer": "ipython3",
   "version": "3.9.10"
  }
 },
 "nbformat": 4,
 "nbformat_minor": 5
}